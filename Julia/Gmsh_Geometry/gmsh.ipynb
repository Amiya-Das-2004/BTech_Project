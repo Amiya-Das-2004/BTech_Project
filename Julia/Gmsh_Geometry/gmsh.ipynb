{
 "cells": [
  {
   "cell_type": "code",
   "execution_count": 1,
   "id": "2d52af5f",
   "metadata": {},
   "outputs": [],
   "source": [
    "using Gridap\n",
    "using GridapGmsh"
   ]
  },
  {
   "cell_type": "code",
   "execution_count": 2,
   "id": "0b48c72d",
   "metadata": {},
   "outputs": [
    {
     "name": "stdout",
     "output_type": "stream",
     "text": [
      "Info    : Reading './demo.msh'...\n",
      "Info    : 188 entities\n",
      "Info    : 10257 nodes\n",
      "Info    : 41006 elements\n",
      "Info    : Done reading './demo.msh'\n"
     ]
    },
    {
     "data": {
      "text/plain": [
       "UnstructuredDiscreteModel()"
      ]
     },
     "metadata": {},
     "output_type": "display_data"
    }
   ],
   "source": [
    "model = GmshDiscreteModel(\"./demo.msh\")"
   ]
  },
  {
   "cell_type": "code",
   "execution_count": 3,
   "id": "b6d10c41",
   "metadata": {},
   "outputs": [
    {
     "data": {
      "text/plain": [
       "([\"demo.vtu\"],)"
      ]
     },
     "metadata": {},
     "output_type": "display_data"
    }
   ],
   "source": [
    "order = 1\n",
    "reffe = ReferenceFE(lagrangian,Float64,order)\n",
    "V = TestFESpace(model,reffe,dirichlet_tags=[\"boundary1\",\"boundary2\"])\n",
    "U = TrialFESpace(V,[0,1])\n",
    "Ω = Triangulation(model)\n",
    "dΩ = Measure(Ω,2*order)\n",
    "a(u,v) = ∫( ∇(v)⋅∇(u) )dΩ\n",
    "l(v) = 0\n",
    "op = AffineFEOperator(a,l,U,V)\n",
    "uh = solve(op)\n",
    "writevtk(Ω,\"demo\",cellfields=[\"uh\"=>uh])"
   ]
  }
 ],
 "metadata": {
  "kernelspec": {
   "display_name": "Julia 1.11.6",
   "language": "julia",
   "name": "julia-1.11"
  },
  "language_info": {
   "file_extension": ".jl",
   "mimetype": "application/julia",
   "name": "julia",
   "version": "1.11.6"
  }
 },
 "nbformat": 4,
 "nbformat_minor": 5
}

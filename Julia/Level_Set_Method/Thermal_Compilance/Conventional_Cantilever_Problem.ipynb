{
 "cells": [
  {
   "cell_type": "code",
   "execution_count": 1,
   "id": "68cd15e3-9356-4666-b330-9087395f501c",
   "metadata": {},
   "outputs": [],
   "source": [
    "using GridapTopOpt, Gridap"
   ]
  },
  {
   "cell_type": "code",
   "execution_count": 2,
   "id": "6bed9c5e-14e1-441c-afff-452633d11ed6",
   "metadata": {},
   "outputs": [
    {
     "data": {
      "text/plain": [
       "f_Γ_D (generic function with 1 method)"
      ]
     },
     "metadata": {},
     "output_type": "display_data"
    }
   ],
   "source": [
    "# FE parameters\n",
    "    order = 1                                                        # Finite element order\n",
    "    xmax,ymax = (120,40)                                            # Domain size\n",
    "    dom = (0,xmax,0,ymax)                                            # Bounding domain\n",
    "    nx,ny = (210,70)\n",
    "    el_size = (nx,ny)                                              # Mesh partition size\n",
    "    prop_Γ_N = 0.2                                                   # Γ_N size parameter\n",
    "    prop_Γ_D = 0.5                                                  # Γ_D size parameter\n",
    "   f_Γ_N(x) = (x[1] ≈ xmax) &&                                       # Γ_N indicator function\n",
    "    (0.5*ymax - 5*ymax/ny <= x[2] <= 0.5*ymax + 5*ymax/ny)\n",
    "f_Γ_D(x) = (x[1] ≈ 0.0)"
   ]
  },
  {
   "cell_type": "code",
   "execution_count": 3,
   "id": "764dd22b-bb67-43bc-a7c7-c5b0238170bc",
   "metadata": {},
   "outputs": [
    {
     "data": {
      "text/plain": [
       "1.0e-6"
      ]
     },
     "metadata": {},
     "output_type": "display_data"
    }
   ],
   "source": [
    "# FD parameters\n",
    "    γ = 0.1                                                          # HJ eqn time step coeff\n",
    "    γ_reinit = 0.5                                                   # Reinit. eqn time step coeff\n",
    "    max_steps = 20#floor(Int,order*minimum(el_size)/10)                 # Max steps for advection\n",
    "    tol = 1e-6#1/(15order^2)/minimum(el_size)                              # Reinitialisation tolerance"
   ]
  },
  {
   "cell_type": "code",
   "execution_count": 4,
   "id": "7fcadbf5-1d63-46f9-a3ff-eb4c855f60cf",
   "metadata": {},
   "outputs": [
    {
     "data": {
      "text/plain": [
       "\"./Result/tolerance&Max_stepModification/results_200times100/N_0.5/40times120/comp_serial/E_1\""
      ]
     },
     "metadata": {},
     "output_type": "display_data"
    }
   ],
   "source": [
    " # Problem parameters\n",
    "    C = isotropic_elast_tensor(2,1.0,0.3)                            #isotropic_elast_tensor(dimension,E,ν)\n",
    "    g = VectorValue(0,-1)                                            # Heat flow in\n",
    "    vf = 0.3                                                         # Volume fraction constraint\n",
    "    lsf_func = initial_lsf((12/xmax),0.2)                                    # Initial level set function\n",
    "    iter_mod = 10                                                    # VTK Output modulo\n",
    "    path = \"./Result/tolerance&Max_stepModification/results_200times100/N_0.5/40times120/comp_serial/E_1/\"\n",
    "    mkpath(path)                                                     # Create path"
   ]
  },
  {
   "cell_type": "code",
   "execution_count": 5,
   "id": "75512cbe-fd5c-43e2-8fcf-aad711308997",
   "metadata": {},
   "outputs": [],
   "source": [
    "# Model\n",
    "    model = CartesianDiscreteModel(dom,el_size);\n",
    "    update_labels!(1,model,f_Γ_D,\"Gamma_D\")\n",
    "    update_labels!(2,model,f_Γ_N,\"Gamma_N\")"
   ]
  },
  {
   "cell_type": "code",
   "execution_count": 6,
   "id": "2fd4f675-abd4-46f3-a78a-7b34dac1df72",
   "metadata": {},
   "outputs": [
    {
     "data": {
      "text/plain": [
       "GenericMeasure()"
      ]
     },
     "metadata": {},
     "output_type": "display_data"
    }
   ],
   "source": [
    "# Triangulation and measures\n",
    "    Ω = Triangulation(model)\n",
    "    Γ_N = BoundaryTriangulation(model,tags=\"Gamma_N\")\n",
    "    dΩ = Measure(Ω,2*order)\n",
    "    dΓ_N = Measure(Γ_N,2*order)"
   ]
  },
  {
   "cell_type": "code",
   "execution_count": 7,
   "id": "d1d84320-ad2d-4be5-87d7-c7b189c17c1a",
   "metadata": {},
   "outputs": [
    {
     "data": {
      "text/plain": [
       "TrialFESpace()"
      ]
     },
     "metadata": {},
     "output_type": "display_data"
    }
   ],
   "source": [
    "# Spaces\n",
    "    reffe = ReferenceFE(lagrangian,VectorValue{2,Float64},order)\n",
    "    reffe_scalar = ReferenceFE(lagrangian,Float64,order)\n",
    "    V = TestFESpace(model,reffe;dirichlet_tags=[\"Gamma_D\"])\n",
    "    U = TrialFESpace(V,VectorValue(0.0,0.0))\n",
    "    V_φ = TestFESpace(model,reffe_scalar)\n",
    "    V_reg = TestFESpace(model,reffe_scalar;dirichlet_tags=[\"Gamma_N\"])\n",
    "    U_reg = TrialFESpace(V_reg,0)"
   ]
  },
  {
   "cell_type": "code",
   "execution_count": null,
   "id": "95e951f6-f9da-4c90-a4e5-ff556936a0e4",
   "metadata": {},
   "outputs": [
    {
     "data": {
      "text/plain": [
       "AugmentedLagrangian"
      ]
     },
     "metadata": {},
     "output_type": "display_data"
    }
   ],
   "source": [
    "   # Level set and interpolator\n",
    "    φh = interpolate(lsf_func,V_φ)\n",
    "    interp = SmoothErsatzMaterialInterpolation(η = 2*maximum(get_el_Δ(model)))    # η = 2 ×  maximum side length of an element.\n",
    "    I,H,DH,ρ = interp.I,interp.H,interp.DH,interp.ρ\n",
    "    # Weak formulation\n",
    "    a(u,v,φ) = ∫((I ∘ φ)*(C ⊙ ε(u) ⊙ ε(v)))dΩ\n",
    "    l(v,φ) = ∫(v·g)dΓ_N\n",
    "    state_map = AffineFEStateMap(a,l,U,V,V_φ)#,U_reg,φh,dΩ,dΓ_N)\n",
    "    # Objective and constraints\n",
    "    J(u,φ) = ∫((I ∘ φ)*(C ⊙ ε(u) ⊙ ε(u)))dΩ\n",
    "    dJ(q,u,φ) = ∫((C ⊙ ε(u) ⊙ ε(u))*q*(DH ∘ φ)*(norm ∘ ∇(φ)))dΩ\n",
    "    vol_D = sum(∫(1)dΩ)\n",
    "    C1(u,φ) = ∫(((ρ ∘ φ) - vf)/vol_D)dΩ\n",
    "    dC1(q,u,φ) = ∫(-1/vol_D*q*(DH ∘ φ)*(norm ∘ ∇(φ)))dΩ\n",
    "    pcfs = PDEConstrainedFunctionals(J,[C1],state_map,analytic_dJ=dJ,analytic_dC=[dC1])\n",
    "    # Velocity extension\n",
    "    α = 4max_steps*γ*maximum(get_el_Δ(model))\n",
    "      a_hilb(p,q) = ∫(α^2*∇(p)⋅∇(q) + p*q)dΩ;\n",
    "    vel_ext = VelocityExtension(a_hilb,U_reg,V_reg)\n",
    "    evo = FiniteDifferenceEvolver(FirstOrderStencil(2,Float64),model,V_φ;max_steps)\n",
    "  reinit = FiniteDifferenceReinitialiser(FirstOrderStencil(2,Float64),model,V_φ;tol,γ_reinit)\n",
    "  ls_evo = LevelSetEvolution(evo,reinit)\n",
    "    \n",
    "    # Optimiser\n",
    "  optimiser = AugmentedLagrangian(pcfs,ls_evo,vel_ext,φh;γ,verbose=true,constraint_names=[:Vol])"
   ]
  },
  {
   "cell_type": "code",
   "execution_count": 9,
   "id": "40d6e226-c6e8-4777-aaa3-811df9843f1c",
   "metadata": {
    "scrolled": true
   },
   "outputs": [
    {
     "name": "stdout",
     "output_type": "stream",
     "text": [
      "Iteration:   0 | L=1.1642e+04, J=1.1291e+04, Vol=3.8683e-01, γ=1.0000e-01, λ1=0.0000e+00, Λ1=4.6931e+03\n",
      "Iteration:   1 | L=7.9381e+03, J=7.4682e+03, Vol=4.4749e-01, γ=1.0000e-01, λ1=-2.1001e+03, Λ1=4.6931e+03\n",
      "Iteration:   2 | L=7.2318e+03, J=5.6216e+03, Vol=4.9403e-01, γ=1.0000e-01, λ1=-4.4187e+03, Λ1=4.6931e+03\n",
      "Iteration:   3 | L=7.7252e+03, J=4.7737e+03, Vol=5.2282e-01, γ=1.0000e-01, λ1=-6.8723e+03, Λ1=4.6931e+03\n",
      "Iteration:   4 | L=8.7939e+03, J=4.4109e+03, Vol=5.3869e-01, γ=1.0000e-01, λ1=-9.4004e+03, Λ1=4.6931e+03\n",
      "Iteration:   5 | L=9.7597e+03, J=4.3968e+03, Vol=5.0647e-01, γ=1.0000e-01, λ1=-1.1777e+04, Λ1=5.1624e+03\n",
      "Iteration:   6 | L=1.0546e+04, J=4.5469e+03, Vol=4.6252e-01, γ=1.0000e-01, λ1=-1.4165e+04, Λ1=5.1624e+03\n",
      "Iteration:   7 | L=1.1088e+04, J=4.7154e+03, Vol=4.1804e-01, γ=1.0000e-01, λ1=-1.6323e+04, Λ1=5.1624e+03\n",
      "Iteration:   8 | L=1.1799e+04, J=5.7541e+03, Vol=3.5084e-01, γ=1.0000e-01, λ1=-1.8134e+04, Λ1=5.1624e+03\n",
      "Iteration:   9 | L=1.2109e+04, J=5.2305e+03, Vol=3.6078e-01, γ=1.0000e-01, λ1=-1.9997e+04, Λ1=5.1624e+03\n",
      "Iteration:  10 | L=1.1869e+04, J=5.6461e+03, Vol=2.9961e-01, γ=1.0000e-01, λ1=-2.1543e+04, Λ1=5.6786e+03\n",
      "Iteration:  11 | L=1.1897e+04, J=6.2032e+03, Vol=2.5566e-01, γ=1.0000e-01, λ1=-2.2995e+04, Λ1=5.6786e+03\n",
      "Iteration:  12 | L=1.1528e+04, J=6.3321e+03, Vol=2.1996e-01, γ=1.0000e-01, λ1=-2.4244e+04, Λ1=5.6786e+03\n",
      "Iteration:  13 | L=1.1176e+04, J=6.5686e+03, Vol=1.8597e-01, γ=1.0000e-01, λ1=-2.5300e+04, Λ1=5.6786e+03\n",
      "Iteration:  14 | L=1.0775e+04, J=7.0962e+03, Vol=1.4312e-01, γ=1.0000e-01, λ1=-2.6113e+04, Λ1=5.6786e+03\n",
      "Iteration:  15 | L=1.0935e+04, J=7.9329e+03, Vol=1.1356e-01, γ=1.0000e-01, λ1=-2.6758e+04, Λ1=6.2465e+03\n",
      "Iteration:  16 | L=1.0545e+04, J=7.6006e+03, Vol=1.0865e-01, γ=1.0000e-01, λ1=-2.7437e+04, Λ1=6.2465e+03\n",
      "Iteration:  17 | L=1.0212e+04, J=7.5723e+03, Vol=9.5187e-02, γ=1.0000e-01, λ1=-2.8031e+04, Λ1=6.2465e+03\n",
      "Iteration:  18 | L=1.0220e+04, J=8.5498e+03, Vol=5.9181e-02, γ=1.0000e-01, λ1=-2.8401e+04, Λ1=6.2465e+03\n",
      "Iteration:  19 | L=9.8973e+03, J=7.7223e+03, Vol=7.5948e-02, γ=1.0000e-01, λ1=-2.8875e+04, Λ1=6.2465e+03\n",
      "Iteration:  20 | L=1.0061e+04, J=9.1027e+03, Vol=3.3083e-02, γ=1.0000e-01, λ1=-2.9082e+04, Λ1=6.8712e+03\n",
      "Iteration:  21 | L=9.7025e+03, J=7.9380e+03, Vol=6.0242e-02, γ=1.0000e-01, λ1=-2.9496e+04, Λ1=6.8712e+03\n",
      "Iteration:  22 | L=9.8613e+03, J=9.2387e+03, Vol=2.1055e-02, γ=1.0000e-01, λ1=-2.9641e+04, Λ1=6.8712e+03\n",
      "Iteration:  23 | L=9.5925e+03, J=8.1884e+03, Vol=4.7112e-02, γ=1.0000e-01, λ1=-2.9964e+04, Λ1=6.8712e+03\n",
      "Iteration:  24 | L=9.4346e+03, J=8.8801e+03, Vol=1.8464e-02, γ=1.0000e-01, λ1=-3.0091e+04, Λ1=6.8712e+03\n",
      "Iteration:  25 | L=9.4931e+03, J=7.9422e+03, Vol=5.1242e-02, γ=1.0000e-01, λ1=-3.0443e+04, Λ1=7.5583e+03\n",
      "Iteration:  26 | L=1.8889e+04, J=1.9056e+04, Vol=-5.4820e-03, γ=1.0000e-01, λ1=-3.0402e+04, Λ1=7.5583e+03\n",
      "Iteration:  27 | L=1.8350e+04, J=1.8054e+04, Vol=9.7145e-03, γ=1.0000e-01, λ1=-3.0475e+04, Λ1=7.5583e+03\n",
      "Iteration:  28 | L=1.7375e+04, J=1.6675e+04, Vol=2.2904e-02, γ=1.0000e-01, λ1=-3.0648e+04, Λ1=7.5583e+03\n",
      "Iteration:  29 | L=1.5638e+04, J=1.4536e+04, Vol=3.5791e-02, γ=1.0000e-01, λ1=-3.0919e+04, Λ1=7.5583e+03\n",
      "Iteration:  30 | L=1.5287e+04, J=1.3858e+04, Vol=4.5948e-02, γ=1.0000e-01, λ1=-3.1266e+04, Λ1=8.3141e+03\n",
      "Iteration:  31 | L=1.5166e+04, J=1.3478e+04, Vol=5.3599e-02, γ=1.0000e-01, λ1=-3.1712e+04, Λ1=8.3141e+03\n",
      "Iteration:  32 | L=1.5010e+04, J=1.3015e+04, Vol=6.2378e-02, γ=1.0000e-01, λ1=-3.2230e+04, Λ1=8.3141e+03\n",
      "Iteration:  33 | L=1.4891e+04, J=1.2596e+04, Vol=7.0552e-02, γ=1.0000e-01, λ1=-3.2817e+04, Λ1=8.3141e+03\n",
      "Iteration:  34 | L=1.4741e+04, J=1.2103e+04, Vol=7.9561e-02, γ=1.0000e-01, λ1=-3.3478e+04, Λ1=8.3141e+03\n",
      "Iteration:  35 | L=1.4613e+04, J=1.1641e+04, Vol=8.7821e-02, γ=1.0000e-01, λ1=-3.4209e+04, Λ1=9.1455e+03\n",
      "Iteration:  36 | L=1.4513e+04, J=1.1204e+04, Vol=9.5510e-02, γ=1.0000e-01, λ1=-3.5082e+04, Λ1=9.1455e+03\n",
      "Iteration:  37 | L=1.4431e+04, J=1.0746e+04, Vol=1.0365e-01, γ=1.0000e-01, λ1=-3.6030e+04, Λ1=9.1455e+03\n",
      "Iteration:  38 | L=1.4413e+04, J=1.0333e+04, Vol=1.1166e-01, γ=1.0000e-01, λ1=-3.7051e+04, Λ1=9.1455e+03\n",
      "Iteration:  39 | L=1.4395e+04, J=9.8926e+03, Vol=1.1975e-01, γ=1.0000e-01, λ1=-3.8146e+04, Λ1=9.1455e+03\n",
      "Iteration:  40 | L=1.4415e+04, J=9.5650e+03, Vol=1.2525e-01, γ=1.0000e-01, λ1=-3.9292e+04, Λ1=1.0060e+04\n",
      "Iteration:  41 | L=1.4461e+04, J=9.2468e+03, Vol=1.3052e-01, γ=1.0000e-01, λ1=-4.0605e+04, Λ1=1.0060e+04\n",
      "Iteration:  42 | L=1.4534e+04, J=8.9608e+03, Vol=1.3500e-01, γ=1.0000e-01, λ1=-4.1963e+04, Λ1=1.0060e+04\n",
      "Iteration:  43 | L=1.4649e+04, J=8.7416e+03, Vol=1.3848e-01, γ=1.0000e-01, λ1=-4.3356e+04, Λ1=1.0060e+04\n",
      "Iteration:  44 | L=1.4762e+04, J=8.5620e+03, Vol=1.4070e-01, γ=1.0000e-01, λ1=-4.4772e+04, Λ1=1.0060e+04\n",
      "Iteration:  45 | L=1.4873e+04, J=8.4560e+03, Vol=1.4109e-01, γ=1.0000e-01, λ1=-4.6191e+04, Λ1=1.1066e+04\n",
      "Iteration:  46 | L=1.4984e+04, J=8.4204e+03, Vol=1.3976e-01, γ=1.0000e-01, λ1=-4.7738e+04, Λ1=1.1066e+04\n",
      "Iteration:  47 | L=1.5091e+04, J=8.5206e+03, Vol=1.3551e-01, γ=1.0000e-01, λ1=-4.9237e+04, Λ1=1.1066e+04\n",
      "Iteration:  48 | L=1.5006e+04, J=8.7544e+03, Vol=1.2520e-01, γ=1.0000e-01, λ1=-5.0623e+04, Λ1=1.1066e+04\n",
      "Iteration:  49 | L=1.4746e+04, J=9.0808e+03, Vol=1.1058e-01, γ=1.0000e-01, λ1=-5.1846e+04, Λ1=1.1066e+04\n",
      "Iteration:  50 | L=1.3936e+04, J=9.6872e+03, Vol=8.1242e-02, γ=1.0000e-01, λ1=-5.2745e+04, Λ1=1.2173e+04\n",
      "\u001b[33m   Oscillations detected, reducing γ to 0.07500000000000001\u001b[39m\n",
      "Iteration:  51 | L=1.4187e+04, J=1.0941e+04, Vol=6.1110e-02, γ=7.5000e-02, λ1=-5.3489e+04, Λ1=1.2173e+04\n",
      "Iteration:  52 | L=1.4240e+04, J=1.0618e+04, Vol=6.7207e-02, γ=7.5000e-02, λ1=-5.4307e+04, Λ1=1.2173e+04\n",
      "Iteration:  53 | L=1.4352e+04, J=1.0400e+04, Vol=7.2191e-02, γ=7.5000e-02, λ1=-5.5186e+04, Λ1=1.2173e+04\n",
      "Iteration:  54 | L=1.4337e+04, J=1.0051e+04, Vol=7.7012e-02, γ=7.5000e-02, λ1=-5.6124e+04, Λ1=1.2173e+04\n",
      "Iteration:  55 | L=1.4333e+04, J=9.7620e+03, Vol=8.0731e-02, γ=7.5000e-02, λ1=-5.7106e+04, Λ1=1.3390e+04\n",
      "Iteration:  56 | L=1.4365e+04, J=9.6062e+03, Vol=8.2537e-02, γ=7.5000e-02, λ1=-5.8211e+04, Λ1=1.3390e+04\n",
      "Iteration:  57 | L=1.4395e+04, J=9.5578e+03, Vol=8.2310e-02, γ=7.5000e-02, λ1=-5.9314e+04, Λ1=1.3390e+04\n",
      "Iteration:  58 | L=1.4453e+04, J=9.5167e+03, Vol=8.2459e-02, γ=7.5000e-02, λ1=-6.0418e+04, Λ1=1.3390e+04\n",
      "Iteration:  59 | L=1.4491e+04, J=9.4929e+03, Vol=8.1983e-02, γ=7.5000e-02, λ1=-6.1515e+04, Λ1=1.3390e+04\n",
      "Iteration:  60 | L=1.4509e+04, J=9.6183e+03, Vol=7.8819e-02, γ=7.5000e-02, λ1=-6.2571e+04, Λ1=1.4729e+04\n",
      "Iteration:  61 | L=1.4463e+04, J=9.7026e+03, Vol=7.5415e-02, γ=7.5000e-02, λ1=-6.3682e+04, Λ1=1.4729e+04\n",
      "Iteration:  62 | L=1.4478e+04, J=9.7630e+03, Vol=7.3417e-02, γ=7.5000e-02, λ1=-6.4763e+04, Λ1=1.4729e+04\n",
      "Iteration:  63 | L=1.4460e+04, J=9.8733e+03, Vol=7.0268e-02, γ=7.5000e-02, λ1=-6.5798e+04, Λ1=1.4729e+04\n",
      "Iteration:  64 | L=1.4418e+04, J=9.9820e+03, Vol=6.6917e-02, γ=7.5000e-02, λ1=-6.6784e+04, Λ1=1.4729e+04\n",
      "Iteration:  65 | L=1.4398e+04, J=1.0064e+04, Vol=6.4439e-02, γ=7.5000e-02, λ1=-6.7733e+04, Λ1=1.6202e+04\n",
      "Iteration:  66 | L=1.4393e+04, J=1.0158e+04, Vol=6.2054e-02, γ=7.5000e-02, λ1=-6.8738e+04, Λ1=1.6202e+04\n",
      "Iteration:  67 | L=1.4398e+04, J=1.0241e+04, Vol=6.0057e-02, γ=7.5000e-02, λ1=-6.9711e+04, Λ1=1.6202e+04\n",
      "Iteration:  68 | L=1.4336e+04, J=1.0349e+04, Vol=5.6811e-02, γ=7.5000e-02, λ1=-7.0632e+04, Λ1=1.6202e+04\n",
      "Iteration:  69 | L=1.4320e+04, J=1.0419e+04, Vol=5.4879e-02, γ=7.5000e-02, λ1=-7.1521e+04, Λ1=1.6202e+04\n",
      "Iteration:  70 | L=1.4331e+04, J=1.0491e+04, Vol=5.3366e-02, γ=7.5000e-02, λ1=-7.2385e+04, Λ1=1.7822e+04\n",
      "Iteration:  71 | L=1.4330e+04, J=1.0593e+04, Vol=5.1298e-02, γ=7.5000e-02, λ1=-7.3300e+04, Λ1=1.7822e+04\n",
      "Iteration:  72 | L=1.4319e+04, J=1.0682e+04, Vol=4.9328e-02, γ=7.5000e-02, λ1=-7.4179e+04, Λ1=1.7822e+04\n",
      "Iteration:  73 | L=1.4337e+04, J=1.0690e+04, Vol=4.8878e-02, γ=7.5000e-02, λ1=-7.5050e+04, Λ1=1.7822e+04\n",
      "Iteration:  74 | L=1.4297e+04, J=1.0757e+04, Vol=4.6905e-02, γ=7.5000e-02, λ1=-7.5886e+04, Λ1=1.7822e+04\n",
      "Iteration:  75 | L=1.4259e+04, J=1.0788e+04, Vol=4.5496e-02, γ=7.5000e-02, λ1=-7.6697e+04, Λ1=1.9604e+04\n",
      "Iteration:  76 | L=1.4278e+04, J=1.0844e+04, Vol=4.4522e-02, γ=7.5000e-02, λ1=-7.7569e+04, Λ1=1.9604e+04\n",
      "Iteration:  77 | L=1.4311e+04, J=1.0936e+04, Vol=4.3265e-02, γ=7.5000e-02, λ1=-7.8417e+04, Λ1=1.9604e+04\n",
      "Iteration:  78 | L=1.4346e+04, J=1.0996e+04, Vol=4.2491e-02, γ=7.5000e-02, λ1=-7.9250e+04, Λ1=1.9604e+04\n",
      "Iteration:  79 | L=1.4360e+04, J=1.1035e+04, Vol=4.1729e-02, γ=7.5000e-02, λ1=-8.0069e+04, Λ1=1.9604e+04\n",
      "Iteration:  80 | L=1.4311e+04, J=1.1127e+04, Vol=3.9571e-02, γ=7.5000e-02, λ1=-8.0844e+04, Λ1=2.1565e+04\n",
      "Iteration:  81 | L=1.4285e+04, J=1.1196e+04, Vol=3.8021e-02, γ=7.5000e-02, λ1=-8.1664e+04, Λ1=2.1565e+04\n",
      "Iteration:  82 | L=1.4223e+04, J=1.1258e+04, Vol=3.6137e-02, γ=7.5000e-02, λ1=-8.2443e+04, Λ1=2.1565e+04\n",
      "Iteration:  83 | L=1.4130e+04, J=1.1359e+04, Vol=3.3466e-02, γ=7.5000e-02, λ1=-8.3165e+04, Λ1=2.1565e+04\n",
      "\u001b[33m   Oscillations detected, reducing γ to 0.05625000000000001\u001b[39m\n",
      "Iteration:  84 | L=1.4110e+04, J=1.1395e+04, Vol=3.2506e-02, γ=5.6250e-02, λ1=-8.3866e+04, Λ1=2.1565e+04\n",
      "Iteration:  85 | L=1.4110e+04, J=1.1428e+04, Vol=3.1854e-02, γ=5.6250e-02, λ1=-8.4553e+04, Λ1=2.3721e+04\n",
      "Iteration:  86 | L=1.4126e+04, J=1.1443e+04, Vol=3.1591e-02, γ=5.6250e-02, λ1=-8.5302e+04, Λ1=2.3721e+04\n",
      "Iteration:  87 | L=1.4141e+04, J=1.1455e+04, Vol=3.1348e-02, γ=5.6250e-02, λ1=-8.6046e+04, Λ1=2.3721e+04\n",
      "Iteration:  88 | L=1.4163e+04, J=1.1460e+04, Vol=3.1283e-02, γ=5.6250e-02, λ1=-8.6788e+04, Λ1=2.3721e+04\n",
      "Iteration:  89 | L=1.4187e+04, J=1.1478e+04, Vol=3.1088e-02, γ=5.6250e-02, λ1=-8.7526e+04, Λ1=2.3721e+04\n",
      "Iteration:  90 | L=1.4214e+04, J=1.1516e+04, Vol=3.0702e-02, γ=5.6250e-02, λ1=-8.8254e+04, Λ1=2.6093e+04\n",
      "Iteration:  91 | L=1.4238e+04, J=1.1554e+04, Vol=3.0271e-02, γ=5.6250e-02, λ1=-8.9044e+04, Λ1=2.6093e+04\n",
      "Iteration:  92 | L=1.4262e+04, J=1.1580e+04, Vol=2.9984e-02, γ=5.6250e-02, λ1=-8.9826e+04, Λ1=2.6093e+04\n",
      "Iteration:  93 | L=1.4285e+04, J=1.1586e+04, Vol=2.9915e-02, γ=5.6250e-02, λ1=-9.0607e+04, Λ1=2.6093e+04\n",
      "Iteration:  94 | L=1.4299e+04, J=1.1612e+04, Vol=2.9540e-02, γ=5.6250e-02, λ1=-9.1377e+04, Λ1=2.6093e+04\n",
      "Iteration:  95 | L=1.4316e+04, J=1.1625e+04, Vol=2.9331e-02, γ=5.6250e-02, λ1=-9.2143e+04, Λ1=2.8703e+04\n",
      "Iteration:  96 | L=1.4329e+04, J=1.1689e+04, Vol=2.8526e-02, γ=5.6250e-02, λ1=-9.2962e+04, Λ1=2.8703e+04\n",
      "Iteration:  97 | L=1.4348e+04, J=1.1721e+04, Vol=2.8144e-02, γ=5.6250e-02, λ1=-9.3769e+04, Λ1=2.8703e+04\n",
      "Iteration:  98 | L=1.4368e+04, J=1.1739e+04, Vol=2.7915e-02, γ=5.6250e-02, λ1=-9.4571e+04, Λ1=2.8703e+04\n",
      "Iteration:  99 | L=1.4382e+04, J=1.1769e+04, Vol=2.7512e-02, γ=5.6250e-02, λ1=-9.5360e+04, Λ1=2.8703e+04\n",
      "Iteration: 100 | L=1.4269e+04, J=1.1847e+04, Vol=2.5303e-02, γ=5.6250e-02, λ1=-9.6087e+04, Λ1=3.1573e+04\n",
      "Iteration: 101 | L=1.4180e+04, J=1.1942e+04, Vol=2.3207e-02, γ=5.6250e-02, λ1=-9.6819e+04, Λ1=3.1573e+04\n",
      "Iteration: 102 | L=1.4155e+04, J=1.2017e+04, Vol=2.2004e-02, γ=5.6250e-02, λ1=-9.7514e+04, Λ1=3.1573e+04\n",
      "Iteration: 103 | L=1.4152e+04, J=1.2074e+04, Vol=2.1240e-02, γ=5.6250e-02, λ1=-9.8185e+04, Λ1=3.1573e+04\n",
      "Iteration: 104 | L=1.4152e+04, J=1.2116e+04, Vol=2.0667e-02, γ=5.6250e-02, λ1=-9.8837e+04, Λ1=3.1573e+04\n",
      "Iteration: 105 | L=1.4165e+04, J=1.2159e+04, Vol=2.0230e-02, γ=5.6250e-02, λ1=-9.9476e+04, Λ1=3.4730e+04\n",
      "Iteration: 106 | L=1.4176e+04, J=1.2169e+04, Vol=2.0099e-02, γ=5.6250e-02, λ1=-1.0017e+05, Λ1=3.4730e+04\n",
      "Iteration: 107 | L=1.4164e+04, J=1.2193e+04, Vol=1.9609e-02, γ=5.6250e-02, λ1=-1.0085e+05, Λ1=3.4730e+04\n",
      "Iteration: 108 | L=1.4168e+04, J=1.2210e+04, Vol=1.9353e-02, γ=5.6250e-02, λ1=-1.0153e+05, Λ1=3.4730e+04\n",
      "Iteration: 109 | L=1.4164e+04, J=1.2284e+04, Vol=1.8455e-02, γ=5.6250e-02, λ1=-1.0217e+05, Λ1=3.4730e+04\n",
      "Iteration: 110 | L=1.4081e+04, J=1.2352e+04, Vol=1.6872e-02, γ=5.6250e-02, λ1=-1.0275e+05, Λ1=3.8203e+04\n",
      "Iteration: 111 | L=1.4038e+04, J=1.2427e+04, Vol=1.5630e-02, γ=5.6250e-02, λ1=-1.0335e+05, Λ1=3.8203e+04\n",
      "Iteration: 112 | L=1.4029e+04, J=1.2483e+04, Vol=1.4911e-02, γ=5.6250e-02, λ1=-1.0392e+05, Λ1=3.8203e+04\n",
      "Iteration: 113 | L=1.4002e+04, J=1.2517e+04, Vol=1.4256e-02, γ=5.6250e-02, λ1=-1.0447e+05, Λ1=3.8203e+04\n",
      "Iteration: 114 | L=1.3992e+04, J=1.2551e+04, Vol=1.3760e-02, γ=5.6250e-02, λ1=-1.0499e+05, Λ1=3.8203e+04\n",
      "Iteration: 115 | L=1.3989e+04, J=1.2565e+04, Vol=1.3528e-02, γ=5.6250e-02, λ1=-1.0551e+05, Λ1=4.2023e+04\n",
      "Iteration: 116 | L=1.3995e+04, J=1.2567e+04, Vol=1.3504e-02, γ=5.6250e-02, λ1=-1.0608e+05, Λ1=4.2023e+04\n",
      "Iteration: 117 | L=1.4003e+04, J=1.2594e+04, Vol=1.3244e-02, γ=5.6250e-02, λ1=-1.0663e+05, Λ1=4.2023e+04\n",
      "\u001b[33m   Oscillations detected, reducing γ to 0.0421875\u001b[39m\n",
      "Iteration: 118 | L=1.4018e+04, J=1.2594e+04, Vol=1.3319e-02, γ=4.2188e-02, λ1=-1.0719e+05, Λ1=4.2023e+04\n",
      "Iteration: 119 | L=1.4026e+04, J=1.2596e+04, Vol=1.3300e-02, γ=4.2188e-02, λ1=-1.0775e+05, Λ1=4.2023e+04\n",
      "Iteration: 120 | L=1.4033e+04, J=1.2598e+04, Vol=1.3279e-02, γ=4.2188e-02, λ1=-1.0831e+05, Λ1=4.6226e+04\n",
      "Iteration: 121 | L=1.4048e+04, J=1.2645e+04, Vol=1.2919e-02, γ=4.2188e-02, λ1=-1.0891e+05, Λ1=4.6226e+04\n",
      "Iteration: 122 | L=1.4055e+04, J=1.2646e+04, Vol=1.2905e-02, γ=4.2188e-02, λ1=-1.0950e+05, Λ1=4.6226e+04\n",
      "Iteration: 123 | L=1.4067e+04, J=1.2669e+04, Vol=1.2731e-02, γ=4.2188e-02, λ1=-1.1009e+05, Λ1=4.6226e+04\n",
      "Iteration: 124 | L=1.4079e+04, J=1.2686e+04, Vol=1.2613e-02, γ=4.2188e-02, λ1=-1.1067e+05, Λ1=4.6226e+04\n",
      "Iteration: 125 | L=1.4086e+04, J=1.2692e+04, Vol=1.2564e-02, γ=4.2188e-02, λ1=-1.1125e+05, Λ1=5.0848e+04\n",
      "Iteration: 126 | L=1.4094e+04, J=1.2703e+04, Vol=1.2466e-02, γ=4.2188e-02, λ1=-1.1189e+05, Λ1=5.0848e+04\n",
      "Iteration: 127 | L=1.4101e+04, J=1.2709e+04, Vol=1.2409e-02, γ=4.2188e-02, λ1=-1.1252e+05, Λ1=5.0848e+04\n",
      "Iteration: 128 | L=1.4097e+04, J=1.2721e+04, Vol=1.2195e-02, γ=4.2188e-02, λ1=-1.1314e+05, Λ1=5.0848e+04\n",
      "Iteration: 129 | L=1.4104e+04, J=1.2723e+04, Vol=1.2169e-02, γ=4.2188e-02, λ1=-1.1376e+05, Λ1=5.0848e+04\n",
      "Iteration: 130 | L=1.4111e+04, J=1.2725e+04, Vol=1.2145e-02, γ=4.2188e-02, λ1=-1.1438e+05, Λ1=5.5933e+04\n",
      "Iteration: 131 | L=1.4116e+04, J=1.2735e+04, Vol=1.2038e-02, γ=4.2188e-02, λ1=-1.1505e+05, Λ1=5.5933e+04\n",
      "Iteration: 132 | L=1.4121e+04, J=1.2798e+04, Vol=1.1465e-02, γ=4.2188e-02, λ1=-1.1569e+05, Λ1=5.5933e+04\n",
      "Iteration: 133 | L=1.4120e+04, J=1.2823e+04, Vol=1.1176e-02, γ=4.2188e-02, λ1=-1.1632e+05, Λ1=5.5933e+04\n",
      "Iteration: 134 | L=1.4107e+04, J=1.2923e+04, Vol=1.0151e-02, γ=4.2188e-02, λ1=-1.1688e+05, Λ1=5.5933e+04\n",
      "Iteration: 135 | L=1.4095e+04, J=1.2985e+04, Vol=9.4755e-03, γ=4.2188e-02, λ1=-1.1741e+05, Λ1=5.5933e+04\n"
     ]
    }
   ],
   "source": [
    "# Solve\n",
    "    for (it,uh,φh) in optimiser\n",
    "        data = [\"φ\"=>φh,\"H(φ)\"=>(H ∘ φh),\"|∇(φ)|\"=>(norm ∘ ∇(φh)),\"uh\"=>uh]\n",
    "        iszero(it % iter_mod) && writevtk(Ω,path*\"out$it\",cellfields=data)\n",
    "        write_history(path*\"/history_$max_steps,$tol.txt\",get_history(optimiser))\n",
    "    end "
   ]
  },
  {
   "cell_type": "code",
   "execution_count": 10,
   "id": "d29848c7-a672-4795-b33c-11d7de04562c",
   "metadata": {},
   "outputs": [
    {
     "name": "stderr",
     "output_type": "stream",
     "text": [
      "┌ Warning: detected extension '.0e-6' does not correspond to dataset type.\n",
      "│ Appending '.vtu' to filename.\n",
      "└ @ WriteVTK C:\\Users\\amiya\\.julia\\packages\\WriteVTK\\Be3qm\\src\\WriteVTK.jl:162\n"
     ]
    },
    {
     "data": {
      "text/plain": [
       "([\"./Result/tolerance&Max_stepModification/results_200times100/N_0.5/40times120/comp_serial/E_1/out135,20,1.0e-6.vtu\"],)"
      ]
     },
     "metadata": {},
     "output_type": "display_data"
    }
   ],
   "source": [
    "# Final structure\n",
    "    it = get_history(optimiser).niter; uh = get_state(pcfs)\n",
    "    writevtk(Ω,path*\"out$it,$max_steps,$tol\",cellfields=[\"φ\"=>φh,\"H(φ)\"=>(H ∘ φh),\"|∇(φ)|\"=>(norm ∘ ∇(φh)),\"uh\"=>uh])"
   ]
  }
 ],
 "metadata": {
  "kernelspec": {
   "display_name": "Julia 1.11.6",
   "language": "julia",
   "name": "julia-1.11"
  },
  "language_info": {
   "file_extension": ".jl",
   "mimetype": "application/julia",
   "name": "julia",
   "version": "1.11.6"
  }
 },
 "nbformat": 4,
 "nbformat_minor": 5
}

{
 "cells": [
  {
   "cell_type": "markdown",
   "id": "43b28b66",
   "metadata": {},
   "source": [
    "### Thermal Compilance shape"
   ]
  },
  {
   "cell_type": "markdown",
   "id": "50115bfb",
   "metadata": {},
   "source": [
    "##### Using the required packages"
   ]
  },
  {
   "cell_type": "code",
   "execution_count": 1,
   "id": "10ddd583",
   "metadata": {},
   "outputs": [],
   "source": [
    "using GridapTopOpt, Gridap"
   ]
  },
  {
   "cell_type": "markdown",
   "id": "94c24fe6",
   "metadata": {},
   "source": [
    "##### Finite Element Parameters"
   ]
  },
  {
   "cell_type": "code",
   "execution_count": 1,
   "id": "014df004",
   "metadata": {},
   "outputs": [
    {
     "data": {
      "text/plain": [
       "f_Γ_D (generic function with 1 method)"
      ]
     },
     "metadata": {},
     "output_type": "display_data"
    }
   ],
   "source": [
    "order = 1                               # Finite element order\n",
    "xmax, ymax = (1.0, 1.0)                 # Domain Size\n",
    "dom = (0, xmax, 0, ymax)                # Bounding Domain\n",
    "el_size = (200, 200)                    # Mesh Partition Size\n",
    "prop_Γ_N = 0.2                          # Γ_N size parameter\n",
    "prop_Γ_D = 0.2                          # Γ_D size parameter\n",
    "# Γ_N Neumann Boundary Conditions\n",
    "f_Γ_N(x) = (x[1] ≈ xmax && ymax/2-ymax*prop_Γ_N/2 - eps() <= x[2] <= ymax/2+ymax*prop_Γ_N/2 + eps())\n",
    "# Γ_D Drichlet Boundary Conditions\n",
    "f_Γ_D(x) = (x[1] ≈ 0.0 && (x[2] <= ymax*prop_Γ_D + eps() || x[2] >= ymax-ymax*prop_Γ_D/2 - eps()))"
   ]
  },
  {
   "cell_type": "markdown",
   "id": "86abfe14",
   "metadata": {},
   "source": [
    "##### Finite Difference Parameters"
   ]
  },
  {
   "cell_type": "code",
   "execution_count": 2,
   "id": "3755cc34",
   "metadata": {},
   "outputs": [
    {
     "data": {
      "text/plain": [
       "0.001"
      ]
     },
     "metadata": {},
     "output_type": "display_data"
    }
   ],
   "source": [
    "γ = 0.1                                             # Hamilton-Jaccobi equation time step coefficient\n",
    "γ_reinit = 0.5                                      # Reininitialization eqn time step coeff\n",
    "max_steps = floor(Int, order*minimum(el_size)/10)   # Max steps for advection\n",
    "tol = 1/ (5order^2) /minimum(el_size)               # Reininitialization tolerance"
   ]
  },
  {
   "cell_type": "markdown",
   "id": "64700edc",
   "metadata": {},
   "source": [
    "##### Problem Parameters"
   ]
  },
  {
   "cell_type": "code",
   "execution_count": 5,
   "id": "c9611fe2",
   "metadata": {},
   "outputs": [
    {
     "data": {
      "text/plain": [
       "\"./Result\""
      ]
     },
     "metadata": {},
     "output_type": "display_data"
    }
   ],
   "source": [
    "k = 1                                           # Diffusivity\n",
    "g = 1                                           # Heat flow in \n",
    "vf = 0.4                                        # Volume fraction constraints\n",
    "lsf_func = initial_lsf(4, 0.2)                  # Initial level set function\n",
    "iter_mod = 10                                   # VTK Output module\n",
    "path = \"./Result\"\n",
    "mkpath(path)"
   ]
  },
  {
   "cell_type": "markdown",
   "id": "6907a9ba",
   "metadata": {},
   "source": [
    "##### Model"
   ]
  },
  {
   "cell_type": "code",
   "execution_count": 41,
   "id": "d029a91b",
   "metadata": {},
   "outputs": [],
   "source": [
    "model = CartesianDiscreteModel(dom, el_size);\n",
    "update_labels!(1, model, f_Γ_D, \"Gamma_D\")\n",
    "update_labels!(2, model, f_Γ_N, \"Gamma_N\")"
   ]
  },
  {
   "cell_type": "markdown",
   "id": "35a0725b",
   "metadata": {},
   "source": [
    "##### Triangulations and Measures"
   ]
  },
  {
   "cell_type": "code",
   "execution_count": 42,
   "id": "5ccc9da1",
   "metadata": {},
   "outputs": [
    {
     "data": {
      "text/plain": [
       "GenericMeasure()"
      ]
     },
     "metadata": {},
     "output_type": "display_data"
    }
   ],
   "source": [
    "Ω = Triangulation(model)\n",
    "Γ_N = BoundaryTriangulation(model, tags=\"Gamma_N\")\n",
    "dΩ = Measure(Ω, 2*order)\n",
    "dΓ_N = Measure(Γ_N, 2*order)"
   ]
  },
  {
   "cell_type": "markdown",
   "id": "f62d0dd5",
   "metadata": {},
   "source": [
    "##### Space"
   ]
  },
  {
   "cell_type": "code",
   "execution_count": 43,
   "id": "f9c5423f",
   "metadata": {},
   "outputs": [
    {
     "data": {
      "text/plain": [
       "TrialFESpace()"
      ]
     },
     "metadata": {},
     "output_type": "display_data"
    }
   ],
   "source": [
    "reffe = ReferenceFE(lagrangian,VectorValue{2,Float64},order)\n",
    "reffe_scalar = ReferenceFE(lagrangian,Float64,order)\n",
    "V = TestFESpace(model,reffe;dirichlet_tags=[\"Gamma_D\"])\n",
    "U = TrialFESpace(V,VectorValue(0.0,0.0))\n",
    "V_φ = TestFESpace(model,reffe_scalar)\n",
    "V_reg = TestFESpace(model,reffe_scalar;dirichlet_tags=[\"Gamma_N\"])\n",
    "U_reg = TrialFESpace(V_reg,0)"
   ]
  },
  {
   "cell_type": "markdown",
   "id": "17424025",
   "metadata": {},
   "source": [
    "##### Level set and interpolator"
   ]
  },
  {
   "cell_type": "code",
   "execution_count": 44,
   "id": "2815da38",
   "metadata": {},
   "outputs": [
    {
     "data": {
      "text/plain": [
       "(GridapTopOpt.var\"#I#298\"{GridapTopOpt.var\"#H#296\"{Vector{Float64}}, Vector{Float64}}(GridapTopOpt.var\"#H#296\"{Vector{Float64}}([0.01]), [0.001]), GridapTopOpt.var\"#H#296\"{Vector{Float64}}([0.01]), GridapTopOpt.var\"#DH#297\"{Vector{Float64}}([0.01]), GridapTopOpt.var\"#ρ#299\"{GridapTopOpt.var\"#H#296\"{Vector{Float64}}}(GridapTopOpt.var\"#H#296\"{Vector{Float64}}([0.01])))"
      ]
     },
     "metadata": {},
     "output_type": "display_data"
    }
   ],
   "source": [
    "φh = interpolate(lsf_func,V_φ)\n",
    "interp = SmoothErsatzMaterialInterpolation(η = 2*maximum(get_el_Δ(model)))    # η = 2 ×  maximum side length of an element.\n",
    "I,H,DH,ρ = interp.I,interp.H,interp.DH,interp.ρ"
   ]
  },
  {
   "cell_type": "markdown",
   "id": "aa642bea",
   "metadata": {},
   "source": [
    "Weak formulation"
   ]
  },
  {
   "cell_type": "code",
   "execution_count": 45,
   "id": "96e3b3c9",
   "metadata": {},
   "outputs": [
    {
     "data": {
      "text/plain": [
       "AffineFEStateMap"
      ]
     },
     "metadata": {},
     "output_type": "display_data"
    }
   ],
   "source": [
    "a(u,v,φ) = ∫((I ∘ φ)*(C ⊙ ε(u) ⊙ ε(v)))dΩ\n",
    "l(v,φ) = ∫(v·g)dΓ_N\n",
    "state_map = AffineFEStateMap(a,l,U,V,V_φ)#,U_reg,φh,dΩ,dΓ_N)"
   ]
  },
  {
   "cell_type": "code",
   "execution_count": 46,
   "id": "5c91ba06",
   "metadata": {},
   "outputs": [
    {
     "data": {
      "text/plain": [
       "PDEConstrainedFunctionals:\n",
       "    num_constraints: 1"
      ]
     },
     "metadata": {},
     "output_type": "display_data"
    }
   ],
   "source": [
    "# Objective and constraints\n",
    "    J(u,φ) = ∫((I ∘ φ)*(C ⊙ ε(u) ⊙ ε(u)))dΩ\n",
    "    dJ(q,u,φ) = ∫((C ⊙ ε(u) ⊙ ε(u))*q*(DH ∘ φ)*(norm ∘ ∇(φ)))dΩ\n",
    "    vol_D = sum(∫(1)dΩ)\n",
    "    C1(u,φ) = ∫(((ρ ∘ φ) - vf)/vol_D)dΩ\n",
    "    dC1(q,u,φ) = ∫(-1/vol_D*q*(DH ∘ φ)*(norm ∘ ∇(φ)))dΩ\n",
    "    pcfs = PDEConstrainedFunctionals(J,[C1],state_map,analytic_dJ=dJ,analytic_dC=[dC1])"
   ]
  },
  {
   "cell_type": "code",
   "execution_count": 47,
   "id": "35c951f4",
   "metadata": {},
   "outputs": [
    {
     "data": {
      "text/plain": [
       "LevelSetEvolution{FiniteDifferenceEvolver{1}, FiniteDifferenceReinitialiser{1}}(FiniteDifferenceEvolver{1}(FirstOrderStencil{2, Float64}(), CartesianDiscreteModel(), UnconstrainedFESpace(), [1, 2, 3, 4, 5, 6, 7, 8, 9, 10  …  40392, 40393, 40394, 40395, 40396, 40397, 40398, 40399, 40400, 40401], (isperiodic = (false, false), Δ = (0.005, 0.005), ndof = (201, 201), max_steps = 20, correct_ls = false)), FiniteDifferenceReinitialiser{1}(FirstOrderStencil{2, Float64}(), CartesianDiscreteModel(), UnconstrainedFESpace(), [1, 2, 3, 4, 5, 6, 7, 8, 9, 10  …  40392, 40393, 40394, 40395, 40396, 40397, 40398, 40399, 40400, 40401], (isperiodic = (false, false), Δ = (0.005, 0.005), ndof = (201, 201), max_steps = 2000, tol = 0.001, γ_reinit = 0.5, correct_ls = false)))"
      ]
     },
     "metadata": {},
     "output_type": "display_data"
    }
   ],
   "source": [
    "# Velocity extension\n",
    "α = 4max_steps*γ*maximum(get_el_Δ(model))\n",
    "a_hilb(p,q) = ∫(α^2*∇(p)⋅∇(q) + p*q)dΩ;\n",
    "vel_ext = VelocityExtension(a_hilb,U_reg,V_reg)\n",
    "evo = FiniteDifferenceEvolver(FirstOrderStencil(2,Float64),model,V_φ;max_steps)\n",
    "reinit = FiniteDifferenceReinitialiser(FirstOrderStencil(2,Float64),model,V_φ;tol,γ_reinit)\n",
    "ls_evo = LevelSetEvolution(evo,reinit)"
   ]
  },
  {
   "cell_type": "code",
   "execution_count": 48,
   "id": "22bc27ec",
   "metadata": {},
   "outputs": [
    {
     "data": {
      "text/plain": [
       "AugmentedLagrangian"
      ]
     },
     "metadata": {},
     "output_type": "display_data"
    }
   ],
   "source": [
    "# Optimiser\n",
    "optimiser = AugmentedLagrangian(pcfs,ls_evo,vel_ext,φh;γ,verbose=true,constraint_names=[:Vol])"
   ]
  },
  {
   "cell_type": "code",
   "execution_count": 49,
   "id": "52d241b6",
   "metadata": {},
   "outputs": [
    {
     "ename": "UndefVarError",
     "evalue": "UndefVarError: `C` not defined in `Main`\nSuggestion: check for spelling errors or missing imports.",
     "output_type": "error",
     "traceback": [
      "UndefVarError: `C` not defined in `Main`\n",
      "Suggestion: check for spelling errors or missing imports.\n",
      "\n",
      "Stacktrace:\n",
      "  [1] a(u::Gridap.FESpaces.SingleFieldFEBasis{Gridap.FESpaces.TrialBasis, ReferenceDomain}, v::Gridap.FESpaces.SingleFieldFEBasis{Gridap.FESpaces.TestBasis, ReferenceDomain}, φ::Gridap.FESpaces.SingleFieldFEFunction{Gridap.CellData.GenericCellField{ReferenceDomain}})\n",
      "    @ Main c:\\Users\\amiya\\OneDrive\\Desktop\\BTech\\Julia\\Level-set-method\\Thermal_Compilance_Code\\jl_notebook_cell_df34fa98e69747e1a8f8a730347b8e2f_X23sZmlsZQ==.jl:1\n",
      "  [2] #117\n",
      "    @ C:\\Users\\amiya\\.julia\\packages\\GridapTopOpt\\zQxvu\\src\\StateMaps\\AffineFEStateMaps.jl:93 [inlined]\n",
      "  [3] (::Gridap.FESpaces.var\"#84#85\"{GridapTopOpt.var\"#117#120\"{Gridap.FESpaces.SingleFieldFEFunction{Gridap.CellData.GenericCellField{ReferenceDomain}}, typeof(a)}, GridapTopOpt.var\"#118#121\"{Gridap.FESpaces.SingleFieldFEFunction{Gridap.CellData.GenericCellField{ReferenceDomain}}, typeof(l)}})(u::Gridap.FESpaces.SingleFieldFEBasis{Gridap.FESpaces.TrialBasis, ReferenceDomain}, v::Gridap.FESpaces.SingleFieldFEBasis{Gridap.FESpaces.TestBasis, ReferenceDomain})\n",
      "    @ Gridap.FESpaces C:\\Users\\amiya\\.julia\\packages\\Gridap\\YCiNd\\src\\FESpaces\\AffineFEOperators.jl:52\n",
      "  [4] AffineFEOperator(weakform::Gridap.FESpaces.var\"#84#85\"{GridapTopOpt.var\"#117#120\"{Gridap.FESpaces.SingleFieldFEFunction{Gridap.CellData.GenericCellField{ReferenceDomain}}, typeof(a)}, GridapTopOpt.var\"#118#121\"{Gridap.FESpaces.SingleFieldFEFunction{Gridap.CellData.GenericCellField{ReferenceDomain}}, typeof(l)}}, trial::TrialFESpace{Gridap.FESpaces.UnconstrainedFESpace{Vector{Float64}, Gridap.FESpaces.NodeToDofGlue{VectorValue{2, Int32}}}}, test::Gridap.FESpaces.UnconstrainedFESpace{Vector{Float64}, Gridap.FESpaces.NodeToDofGlue{VectorValue{2, Int32}}}, assem::Gridap.FESpaces.GenericSparseMatrixAssembler)\n",
      "    @ Gridap.FESpaces C:\\Users\\amiya\\.julia\\packages\\Gridap\\YCiNd\\src\\FESpaces\\AffineFEOperators.jl:36\n",
      "  [5] AffineFEOperator\n",
      "    @ C:\\Users\\amiya\\.julia\\packages\\Gridap\\YCiNd\\src\\FESpaces\\AffineFEOperators.jl:51 [inlined]\n",
      "  [6] build_cache!(state_map::AffineFEStateMap{typeof(a), typeof(l), Tuple{TrialFESpace{Gridap.FESpaces.UnconstrainedFESpace{Vector{Float64}, Gridap.FESpaces.NodeToDofGlue{VectorValue{2, Int32}}}}, Gridap.FESpaces.UnconstrainedFESpace{Vector{Float64}, Gridap.FESpaces.NodeToDofGlue{VectorValue{2, Int32}}}, Gridap.FESpaces.UnconstrainedFESpace{Vector{Float64}, Gridap.FESpaces.NodeToDofGlue{Int32}}}, @NamedTuple{assem_U::Gridap.FESpaces.GenericSparseMatrixAssembler, assem_deriv::Gridap.FESpaces.GenericSparseMatrixAssembler, assem_adjoint::Gridap.FESpaces.GenericSparseMatrixAssembler}, GridapTopOpt.FEStateMapCache}, φh::Gridap.FESpaces.SingleFieldFEFunction{Gridap.CellData.GenericCellField{ReferenceDomain}})\n",
      "    @ GridapTopOpt C:\\Users\\amiya\\.julia\\packages\\GridapTopOpt\\zQxvu\\src\\StateMaps\\AffineFEStateMaps.jl:93\n",
      "  [7] forward_solve!(φ_to_u::AffineFEStateMap{typeof(a), typeof(l), Tuple{TrialFESpace{Gridap.FESpaces.UnconstrainedFESpace{Vector{Float64}, Gridap.FESpaces.NodeToDofGlue{VectorValue{2, Int32}}}}, Gridap.FESpaces.UnconstrainedFESpace{Vector{Float64}, Gridap.FESpaces.NodeToDofGlue{VectorValue{2, Int32}}}, Gridap.FESpaces.UnconstrainedFESpace{Vector{Float64}, Gridap.FESpaces.NodeToDofGlue{Int32}}}, @NamedTuple{assem_U::Gridap.FESpaces.GenericSparseMatrixAssembler, assem_deriv::Gridap.FESpaces.GenericSparseMatrixAssembler, assem_adjoint::Gridap.FESpaces.GenericSparseMatrixAssembler}, GridapTopOpt.FEStateMapCache}, φh::Gridap.FESpaces.SingleFieldFEFunction{Gridap.CellData.GenericCellField{ReferenceDomain}})\n",
      "    @ GridapTopOpt C:\\Users\\amiya\\.julia\\packages\\GridapTopOpt\\zQxvu\\src\\StateMaps\\AffineFEStateMaps.jl:128\n",
      "  [8] rrule(φ_to_u::AffineFEStateMap{typeof(a), typeof(l), Tuple{TrialFESpace{Gridap.FESpaces.UnconstrainedFESpace{Vector{Float64}, Gridap.FESpaces.NodeToDofGlue{VectorValue{2, Int32}}}}, Gridap.FESpaces.UnconstrainedFESpace{Vector{Float64}, Gridap.FESpaces.NodeToDofGlue{VectorValue{2, Int32}}}, Gridap.FESpaces.UnconstrainedFESpace{Vector{Float64}, Gridap.FESpaces.NodeToDofGlue{Int32}}}, @NamedTuple{assem_U::Gridap.FESpaces.GenericSparseMatrixAssembler, assem_deriv::Gridap.FESpaces.GenericSparseMatrixAssembler, assem_adjoint::Gridap.FESpaces.GenericSparseMatrixAssembler}, GridapTopOpt.FEStateMapCache}, φh::Gridap.FESpaces.SingleFieldFEFunction{Gridap.CellData.GenericCellField{ReferenceDomain}})\n",
      "    @ GridapTopOpt C:\\Users\\amiya\\.julia\\packages\\GridapTopOpt\\zQxvu\\src\\StateMaps\\AffineFEStateMaps.jl:175\n",
      "  [9] evaluate!(pcf::PDEConstrainedFunctionals{1, AffineFEStateMap{typeof(a), typeof(l), Tuple{TrialFESpace{Gridap.FESpaces.UnconstrainedFESpace{Vector{Float64}, Gridap.FESpaces.NodeToDofGlue{VectorValue{2, Int32}}}}, Gridap.FESpaces.UnconstrainedFESpace{Vector{Float64}, Gridap.FESpaces.NodeToDofGlue{VectorValue{2, Int32}}}, Gridap.FESpaces.UnconstrainedFESpace{Vector{Float64}, Gridap.FESpaces.NodeToDofGlue{Int32}}}, @NamedTuple{assem_U::Gridap.FESpaces.GenericSparseMatrixAssembler, assem_deriv::Gridap.FESpaces.GenericSparseMatrixAssembler, assem_adjoint::Gridap.FESpaces.GenericSparseMatrixAssembler}, GridapTopOpt.FEStateMapCache}}, φh::Gridap.FESpaces.SingleFieldFEFunction{Gridap.CellData.GenericCellField{ReferenceDomain}}; kwargs::@Kwargs{})\n",
      "    @ GridapTopOpt C:\\Users\\amiya\\.julia\\packages\\GridapTopOpt\\zQxvu\\src\\StateMaps\\PDEConstrainedFunctionals.jl:211\n",
      " [10] evaluate!(pcf::PDEConstrainedFunctionals{1, AffineFEStateMap{typeof(a), typeof(l), Tuple{TrialFESpace{Gridap.FESpaces.UnconstrainedFESpace{Vector{Float64}, Gridap.FESpaces.NodeToDofGlue{VectorValue{2, Int32}}}}, Gridap.FESpaces.UnconstrainedFESpace{Vector{Float64}, Gridap.FESpaces.NodeToDofGlue{VectorValue{2, Int32}}}, Gridap.FESpaces.UnconstrainedFESpace{Vector{Float64}, Gridap.FESpaces.NodeToDofGlue{Int32}}}, @NamedTuple{assem_U::Gridap.FESpaces.GenericSparseMatrixAssembler, assem_deriv::Gridap.FESpaces.GenericSparseMatrixAssembler, assem_adjoint::Gridap.FESpaces.GenericSparseMatrixAssembler}, GridapTopOpt.FEStateMapCache}}, φh::Gridap.FESpaces.SingleFieldFEFunction{Gridap.CellData.GenericCellField{ReferenceDomain}})\n",
      "    @ GridapTopOpt C:\\Users\\amiya\\.julia\\packages\\GridapTopOpt\\zQxvu\\src\\StateMaps\\PDEConstrainedFunctionals.jl:201\n",
      " [11] iterate(m::AugmentedLagrangian)\n",
      "    @ GridapTopOpt C:\\Users\\amiya\\.julia\\packages\\GridapTopOpt\\zQxvu\\src\\Optimisers\\AugmentedLagrangian.jl:157\n",
      " [12] top-level scope\n",
      "    @ c:\\Users\\amiya\\OneDrive\\Desktop\\BTech\\Julia\\Level-set-method\\Thermal_Compilance_Code\\jl_notebook_cell_df34fa98e69747e1a8f8a730347b8e2f_X31sZmlsZQ==.jl:2"
     ]
    }
   ],
   "source": [
    "# Solve\n",
    "    for (it,uh,φh) in optimiser\n",
    "        data = [\"φ\"=>φh,\"H(φ)\"=>(H ∘ φh),\"|∇(φ)|\"=>(norm ∘ ∇(φh)),\"uh\"=>uh]\n",
    "        iszero(it % iter_mod) && writevtk(Ω,path*\"out$it\",cellfields=data)\n",
    "        write_history(path*\"/history_$max_steps,$tol.txt\",get_history(optimiser))\n",
    "    end "
   ]
  },
  {
   "cell_type": "code",
   "execution_count": 50,
   "id": "0635e985",
   "metadata": {},
   "outputs": [
    {
     "ename": "AssertionError",
     "evalue": "AssertionError:   You must build the cache before using get_state. This can be achieved by either\n  solving your problem with my_state_map(φh) or by running build_cache!(my_state_map,φh)\n",
     "output_type": "error",
     "traceback": [
      "AssertionError:   You must build the cache before using get_state. This can be achieved by either\n",
      "  solving your problem with my_state_map(φh) or by running build_cache!(my_state_map,φh)\n",
      "\n",
      "\n",
      "Stacktrace:\n",
      " [1] get_state(m::AffineFEStateMap{typeof(a), typeof(l), Tuple{TrialFESpace{Gridap.FESpaces.UnconstrainedFESpace{Vector{Float64}, Gridap.FESpaces.NodeToDofGlue{VectorValue{2, Int32}}}}, Gridap.FESpaces.UnconstrainedFESpace{Vector{Float64}, Gridap.FESpaces.NodeToDofGlue{VectorValue{2, Int32}}}, Gridap.FESpaces.UnconstrainedFESpace{Vector{Float64}, Gridap.FESpaces.NodeToDofGlue{Int32}}}, @NamedTuple{assem_U::Gridap.FESpaces.GenericSparseMatrixAssembler, assem_deriv::Gridap.FESpaces.GenericSparseMatrixAssembler, assem_adjoint::Gridap.FESpaces.GenericSparseMatrixAssembler}, GridapTopOpt.FEStateMapCache})\n",
      "   @ GridapTopOpt C:\\Users\\amiya\\.julia\\packages\\GridapTopOpt\\zQxvu\\src\\StateMaps\\AffineFEStateMaps.jl:113\n",
      " [2] get_state(m::PDEConstrainedFunctionals{1, AffineFEStateMap{typeof(a), typeof(l), Tuple{TrialFESpace{Gridap.FESpaces.UnconstrainedFESpace{Vector{Float64}, Gridap.FESpaces.NodeToDofGlue{VectorValue{2, Int32}}}}, Gridap.FESpaces.UnconstrainedFESpace{Vector{Float64}, Gridap.FESpaces.NodeToDofGlue{VectorValue{2, Int32}}}, Gridap.FESpaces.UnconstrainedFESpace{Vector{Float64}, Gridap.FESpaces.NodeToDofGlue{Int32}}}, @NamedTuple{assem_U::Gridap.FESpaces.GenericSparseMatrixAssembler, assem_deriv::Gridap.FESpaces.GenericSparseMatrixAssembler, assem_adjoint::Gridap.FESpaces.GenericSparseMatrixAssembler}, GridapTopOpt.FEStateMapCache}})\n",
      "   @ GridapTopOpt C:\\Users\\amiya\\.julia\\packages\\GridapTopOpt\\zQxvu\\src\\StateMaps\\PDEConstrainedFunctionals.jl:159\n",
      " [3] top-level scope\n",
      "   @ c:\\Users\\amiya\\OneDrive\\Desktop\\BTech\\Julia\\Level-set-method\\Thermal_Compilance_Code\\jl_notebook_cell_df34fa98e69747e1a8f8a730347b8e2f_X32sZmlsZQ==.jl:1"
     ]
    }
   ],
   "source": [
    "# Final structure\n",
    "    it = get_history(optimiser).niter; uh = get_state(pcfs)\n",
    "    writevtk(Ω,path*\"out$it,$max_steps,$tol\",cellfields=[\"φ\"=>φh,\"H(φ)\"=>(H ∘ φh),\"|∇(φ)|\"=>(norm ∘ ∇(φh)),\"uh\"=>uh])"
   ]
  }
 ],
 "metadata": {
  "kernelspec": {
   "display_name": "Julia 1.11.6",
   "language": "julia",
   "name": "julia-1.11"
  },
  "language_info": {
   "file_extension": ".jl",
   "mimetype": "application/julia",
   "name": "julia",
   "version": "1.11.6"
  }
 },
 "nbformat": 4,
 "nbformat_minor": 5
}

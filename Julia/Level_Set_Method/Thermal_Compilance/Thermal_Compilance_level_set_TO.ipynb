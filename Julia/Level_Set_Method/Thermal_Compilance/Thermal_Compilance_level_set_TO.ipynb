{
 "cells": [
  {
   "cell_type": "markdown",
   "id": "43b28b66",
   "metadata": {},
   "source": [
    "# Thermal Compilance shape"
   ]
  },
  {
   "cell_type": "markdown",
   "id": "50115bfb",
   "metadata": {},
   "source": [
    "### Using the required packages"
   ]
  },
  {
   "cell_type": "code",
   "execution_count": 1,
   "id": "10ddd583",
   "metadata": {},
   "outputs": [],
   "source": [
    "using GridapTopOpt, Gridap"
   ]
  },
  {
   "cell_type": "markdown",
   "id": "94c24fe6",
   "metadata": {},
   "source": [
    "### Finite Element Parameters"
   ]
  },
  {
   "cell_type": "code",
   "execution_count": 2,
   "id": "014df004",
   "metadata": {},
   "outputs": [],
   "source": [
    "order = 1                               # Finite element order\n",
    "xmax, ymax = (1.0, 1.0)                 # Domain Size\n",
    "dom = (0, xmax, 0, ymax)                # Bounding Domain\n",
    "el_size = (200, 200)                    # Mesh Partition Size\n",
    "prop_Γ_N = 0.2                          # Γ_N size parameter\n",
    "prop_Γ_D = 0.2                          # Γ_D size parameter\n",
    "\n",
    "\n",
    "# Boolean Valued indicator functions\n",
    "\n",
    "# Γ_N Neumann Boundary Conditions\n",
    "f_Γ_N(x) = (x[1] ≈ xmax && ymax/2-ymax*prop_Γ_N/2 - eps() <= x[2] <= ymax/2+ymax*prop_Γ_N/2 + eps())\n",
    "# Γ_D Drichlet Boundary Conditions\n",
    "f_Γ_D(x) = (x[1] ≈ 0.0 && (x[2] <= ymax*prop_Γ_D + eps() || x[2] >= ymax-ymax*prop_Γ_D/2 - eps()));"
   ]
  },
  {
   "cell_type": "markdown",
   "id": "86abfe14",
   "metadata": {},
   "source": [
    "### Finite Difference Parameters"
   ]
  },
  {
   "cell_type": "code",
   "execution_count": 3,
   "id": "3755cc34",
   "metadata": {},
   "outputs": [],
   "source": [
    "# Courant-Friedrichs-Lewy (CFL) number OR\n",
    "# \"Time step coefficient\" for Hamilton-Jaccobi equation \n",
    "γ = 0.1                                             \n",
    "\n",
    " # Reininitialization equation\n",
    "γ_reinit = 0.5                                     \n",
    "\n",
    "\n",
    "\n",
    "# \"max_steps\" and \"tol\" is scaled by mesh size\n",
    "\n",
    "# Max steps for advection\n",
    "max_steps = floor(Int, order*minimum(el_size)/10)  \n",
    "\n",
    "# Reininitialization tolerance\n",
    "tol = 1/ (5order^2) /minimum(el_size);             "
   ]
  },
  {
   "cell_type": "markdown",
   "id": "64700edc",
   "metadata": {},
   "source": [
    "### Problem Parameters"
   ]
  },
  {
   "cell_type": "code",
   "execution_count": 4,
   "id": "c9611fe2",
   "metadata": {},
   "outputs": [],
   "source": [
    "C = isotropic_elast_tensor(2, 1.0, 0.3)                          # isotropic_elast_tensor(dimension,E,ν)\n",
    "g = VectorValue(0,-1)                                            # Heat flow in\n",
    "\n",
    "# κ = 1                                           # Diffusivity\n",
    "# g = 1                                           # Heat flow in \n",
    "vf = 0.4                                        # Volume fraction constraints\n",
    "lsf_func = initial_lsf(4, 0.2)                  # Initial level set function\n",
    "iter_mod = 10                                   # VTK Output module\n",
    "path = joinpath(@__DIR__, \"../../../../Result/\")\n",
    "isdir(path) || mkpath(path);"
   ]
  },
  {
   "cell_type": "markdown",
   "id": "6907a9ba",
   "metadata": {},
   "source": [
    "### Model"
   ]
  },
  {
   "cell_type": "code",
   "execution_count": 5,
   "id": "d029a91b",
   "metadata": {},
   "outputs": [],
   "source": [
    "model = CartesianDiscreteModel(dom, el_size);\n",
    "update_labels!(1, model, f_Γ_D, \"Gamma_D\")\n",
    "update_labels!(2, model, f_Γ_N, \"Gamma_N\");"
   ]
  },
  {
   "cell_type": "code",
   "execution_count": 6,
   "id": "31780f0f",
   "metadata": {},
   "outputs": [],
   "source": [
    "# path = joinpath(@__DIR__,\"../../../../Result/Before_Triangulation\")\n",
    "# isdir(path) || mkpath(path)\n",
    "# writevtk(model, joinpath(path, \"model_A\"));"
   ]
  },
  {
   "cell_type": "markdown",
   "id": "35a0725b",
   "metadata": {},
   "source": [
    "### Triangulations and Measures"
   ]
  },
  {
   "cell_type": "code",
   "execution_count": 7,
   "id": "5ccc9da1",
   "metadata": {},
   "outputs": [],
   "source": [
    "Ω = Triangulation(model)\n",
    "Γ_N = BoundaryTriangulation(model, tags=\"Gamma_N\")\n",
    "dΩ = Measure(Ω, 2*order)\n",
    "dΓ_N = Measure(Γ_N, 2*order);"
   ]
  },
  {
   "cell_type": "code",
   "execution_count": 8,
   "id": "cd1dd8fe",
   "metadata": {},
   "outputs": [],
   "source": [
    "# path = joinpath(@__DIR__,\"../../../../Result/After_Triangulation\")\n",
    "# isdir(path) || mkpath(path)\n",
    "# writevtk(model, joinpath(path, \"model_B\"));"
   ]
  },
  {
   "cell_type": "markdown",
   "id": "f62d0dd5",
   "metadata": {},
   "source": [
    "### Discretised Finite Element Space"
   ]
  },
  {
   "cell_type": "code",
   "execution_count": 9,
   "id": "f9c5423f",
   "metadata": {},
   "outputs": [],
   "source": [
    "reffe = ReferenceFE(lagrangian,VectorValue{2,Float64},order)\n",
    "reffe_scalar = ReferenceFE(lagrangian,Float64,order)\n",
    "V = TestFESpace(model,reffe;dirichlet_tags=[\"Gamma_D\"])\n",
    "U = TrialFESpace(V,VectorValue(0.0,0.0))\n",
    "V_φ = TestFESpace(model,reffe_scalar)\n",
    "V_reg = TestFESpace(model,reffe_scalar;dirichlet_tags=[\"Gamma_N\"])\n",
    "U_reg = TrialFESpace(V_reg,0);"
   ]
  },
  {
   "cell_type": "code",
   "execution_count": 10,
   "id": "265b72e4",
   "metadata": {},
   "outputs": [],
   "source": [
    "# path = joinpath(@__DIR__,\"../../../../Result/After_Discrete_FE_Space\")\n",
    "# isdir(path) || mkpath(path)\n",
    "# writevtk(model, joinpath(path, \"model_C\"));"
   ]
  },
  {
   "cell_type": "markdown",
   "id": "17424025",
   "metadata": {},
   "source": [
    "### Level set and interpolator"
   ]
  },
  {
   "cell_type": "code",
   "execution_count": 11,
   "id": "2815da38",
   "metadata": {},
   "outputs": [],
   "source": [
    "φh = interpolate(lsf_func,V_φ)\n",
    "interp = SmoothErsatzMaterialInterpolation(η = 2*maximum(get_el_Δ(model)))    # η = 2 ×  maximum side length of an element.\n",
    "I,H,DH,ρ = interp.I,interp.H,interp.DH,interp.ρ;"
   ]
  },
  {
   "cell_type": "markdown",
   "id": "aa642bea",
   "metadata": {},
   "source": [
    "### Weak formulation"
   ]
  },
  {
   "cell_type": "code",
   "execution_count": 12,
   "id": "8c32a64a",
   "metadata": {},
   "outputs": [],
   "source": [
    "# a(U,V,φ,dΩ,dΓ_N) = ∫((I ∘ φ)*κ*∇(U)·∇(V))dΩ\n",
    "# l(V,φ,dΩ,dΓ_N) = ∫(g*V)dΓ_N\n",
    "# state_map = AffineFEStateMap(a, l, U, V, V_φ, U_reg, φh, dΩ, dΓ_N);"
   ]
  },
  {
   "cell_type": "code",
   "execution_count": 13,
   "id": "6300cfc6",
   "metadata": {},
   "outputs": [
    {
     "data": {
      "text/plain": [
       "AffineFEStateMap"
      ]
     },
     "metadata": {},
     "output_type": "display_data"
    }
   ],
   "source": [
    "a(u,v,φ) = ∫((I ∘ φ)*(C ⊙ ε(u) ⊙ ε(v)))dΩ\n",
    "l(v,φ) = ∫(v·g)dΓ_N\n",
    "state_map = AffineFEStateMap(a, l, U, V, V_φ)     #U_reg, φh, dΩ, dΓ_N)"
   ]
  },
  {
   "cell_type": "markdown",
   "id": "fee6e6ed",
   "metadata": {},
   "source": [
    "### Objective and constraints"
   ]
  },
  {
   "cell_type": "code",
   "execution_count": 14,
   "id": "5c91ba06",
   "metadata": {},
   "outputs": [],
   "source": [
    "J(u,φ) = ∫((I ∘ φ)*(C ⊙ ε(u) ⊙ ε(u)))dΩ\n",
    "dJ(q,u,φ) = ∫((C ⊙ ε(u) ⊙ ε(u))*q*(DH ∘ φ)*(norm ∘ ∇(φ)))dΩ\n",
    "vol_D = sum(∫(1)dΩ)\n",
    "C1(u,φ) = ∫(((ρ ∘ φ) - vf)/vol_D)dΩ\n",
    "dC1(q,u,φ) = ∫(-1/vol_D*q*(DH ∘ φ)*(norm ∘ ∇(φ)))dΩ\n",
    "pcfs = PDEConstrainedFunctionals(J,[C1],state_map,analytic_dJ=dJ,analytic_dC=[dC1]);"
   ]
  },
  {
   "cell_type": "markdown",
   "id": "cd45bdf8",
   "metadata": {},
   "source": [
    "### Velocity extension"
   ]
  },
  {
   "cell_type": "code",
   "execution_count": 15,
   "id": "35c951f4",
   "metadata": {},
   "outputs": [],
   "source": [
    "α = 4max_steps*γ*maximum(get_el_Δ(model))\n",
    "a_hilb(p,q) = ∫(α^2*∇(p)⋅∇(q) + p*q)dΩ;\n",
    "vel_ext = VelocityExtension(a_hilb,U_reg,V_reg)\n",
    "evo = FiniteDifferenceEvolver(FirstOrderStencil(2,Float64),model,V_φ;max_steps)\n",
    "reinit = FiniteDifferenceReinitialiser(FirstOrderStencil(2,Float64),model,V_φ;tol,γ_reinit)\n",
    "ls_evo = LevelSetEvolution(evo,reinit);"
   ]
  },
  {
   "cell_type": "markdown",
   "id": "6a2c11a2",
   "metadata": {},
   "source": [
    "###  Optimiser"
   ]
  },
  {
   "cell_type": "code",
   "execution_count": 16,
   "id": "22bc27ec",
   "metadata": {},
   "outputs": [],
   "source": [
    "optimiser = AugmentedLagrangian(pcfs,ls_evo,vel_ext,φh;γ,verbose=true,constraint_names=[:Vol]);"
   ]
  },
  {
   "cell_type": "markdown",
   "id": "a7576463",
   "metadata": {},
   "source": [
    "### Solve"
   ]
  },
  {
   "cell_type": "code",
   "execution_count": 17,
   "id": "c47512ea",
   "metadata": {},
   "outputs": [
    {
     "data": {
      "text/plain": [
       "true"
      ]
     },
     "metadata": {},
     "output_type": "display_data"
    }
   ],
   "source": [
    "path = joinpath(@__DIR__,\"../../../../Result/Output/\")\n",
    "isdir(path) || mkpath(path)"
   ]
  },
  {
   "cell_type": "code",
   "execution_count": 18,
   "id": "52d241b6",
   "metadata": {},
   "outputs": [
    {
     "name": "stdout",
     "output_type": "stream",
     "text": [
      "Iteration:   0 | L=8.3616e-01, J=8.1524e-01, Vol=2.6359e-01, γ=1.0000e-01, λ1=0.0000e+00, Λ1=6.0242e-01\n",
      "Iteration:   1 | L=7.7205e-01, J=7.4983e-01, Vol=2.7160e-01, γ=1.0000e-01, λ1=-1.6362e-01, Λ1=6.0242e-01\n",
      "Iteration:   2 | L=7.6202e-01, J=6.9265e-01, Vol=2.7982e-01, γ=1.0000e-01, λ1=-3.3219e-01, Λ1=6.0242e-01\n",
      "Iteration:   3 | L=7.6364e-01, J=6.4294e-01, Vol=2.8809e-01, γ=1.0000e-01, λ1=-5.0574e-01, Λ1=6.0242e-01\n",
      "Iteration:   4 | L=7.7761e-01, J=6.0205e-01, Vol=2.9522e-01, γ=1.0000e-01, λ1=-6.8359e-01, Λ1=6.0242e-01\n",
      "Iteration:   5 | L=8.0248e-01, J=5.6980e-01, Vol=3.0058e-01, γ=1.0000e-01, λ1=-8.6466e-01, Λ1=6.6266e-01\n",
      "Iteration:   6 | L=8.3750e-01, J=5.4459e-01, Vol=3.0347e-01, γ=1.0000e-01, λ1=-1.0658e+00, Λ1=6.6266e-01\n",
      "Iteration:   7 | L=8.7887e-01, J=5.2543e-01, Vol=3.0307e-01, γ=1.0000e-01, λ1=-1.2666e+00, Λ1=6.6266e-01\n",
      "Iteration:   8 | L=9.1814e-01, J=5.1364e-01, Vol=2.9638e-01, γ=1.0000e-01, λ1=-1.4630e+00, Λ1=6.6266e-01\n",
      "Iteration:   9 | L=9.4463e-01, J=5.1094e-01, Vol=2.7883e-01, γ=1.0000e-01, λ1=-1.6478e+00, Λ1=6.6266e-01\n",
      "Iteration:  10 | L=9.6036e-01, J=5.1833e-01, Vol=2.5517e-01, γ=1.0000e-01, λ1=-1.8169e+00, Λ1=7.2893e-01\n",
      "Iteration:  11 | L=9.6674e-01, J=5.3004e-01, Vol=2.2977e-01, γ=1.0000e-01, λ1=-1.9843e+00, Λ1=7.2893e-01\n",
      "Iteration:  12 | L=9.6284e-01, J=5.4392e-01, Vol=2.0351e-01, γ=1.0000e-01, λ1=-2.1327e+00, Λ1=7.2893e-01\n",
      "Iteration:  13 | L=9.5097e-01, J=5.5689e-01, Vol=1.7929e-01, γ=1.0000e-01, λ1=-2.2634e+00, Λ1=7.2893e-01\n",
      "Iteration:  14 | L=9.3261e-01, J=5.7137e-01, Vol=1.5570e-01, γ=1.0000e-01, λ1=-2.3769e+00, Λ1=7.2893e-01\n",
      "Iteration:  15 | L=9.0439e-01, J=5.9218e-01, Vol=1.2881e-01, γ=1.0000e-01, λ1=-2.4708e+00, Λ1=8.0182e-01\n",
      "Iteration:  16 | L=8.7311e-01, J=6.1597e-01, Vol=1.0237e-01, γ=1.0000e-01, λ1=-2.5528e+00, Λ1=8.0182e-01\n",
      "Iteration:  17 | L=8.4180e-01, J=6.4053e-01, Vol=7.7887e-02, γ=1.0000e-01, λ1=-2.6153e+00, Λ1=8.0182e-01\n",
      "Iteration:  18 | L=8.1188e-01, J=6.6403e-01, Vol=5.6053e-02, γ=1.0000e-01, λ1=-2.6602e+00, Λ1=8.0182e-01\n",
      "Iteration:  19 | L=7.8488e-01, J=6.8628e-01, Vol=3.6858e-02, γ=1.0000e-01, λ1=-2.6898e+00, Λ1=8.0182e-01\n",
      "Iteration:  20 | L=7.6132e-01, J=7.0604e-01, Vol=2.0491e-02, γ=1.0000e-01, λ1=-2.7062e+00, Λ1=8.8200e-01\n",
      "Iteration:  21 | L=7.4168e-01, J=7.2220e-01, Vol=7.1895e-03, γ=1.0000e-01, λ1=-2.7126e+00, Λ1=8.8200e-01\n",
      "Iteration:  22 | L=7.2428e-01, J=7.3823e-01, Vol=-5.1451e-03, γ=1.0000e-01, λ1=-2.7080e+00, Λ1=8.8200e-01\n",
      "Iteration:  23 | L=7.1100e-01, J=7.4946e-01, Vol=-1.4234e-02, γ=1.0000e-01, λ1=-2.6955e+00, Λ1=8.8200e-01\n",
      "Iteration:  24 | L=6.9883e-01, J=7.6006e-01, Vol=-2.2801e-02, γ=1.0000e-01, λ1=-2.6754e+00, Λ1=8.8200e-01\n",
      "Iteration:  25 | L=6.8819e-01, J=7.6715e-01, Vol=-2.9657e-02, γ=1.0000e-01, λ1=-2.6492e+00, Λ1=9.7020e-01\n",
      "Iteration:  26 | L=6.7885e-01, J=7.7088e-01, Vol=-3.4961e-02, γ=1.0000e-01, λ1=-2.6153e+00, Λ1=9.7020e-01\n",
      "Iteration:  27 | L=6.7063e-01, J=7.7269e-01, Vol=-3.9310e-02, γ=1.0000e-01, λ1=-2.5771e+00, Λ1=9.7020e-01\n",
      "Iteration:  28 | L=6.6387e-01, J=7.7265e-01, Vol=-4.2551e-02, γ=1.0000e-01, λ1=-2.5359e+00, Λ1=9.7020e-01\n",
      "Iteration:  29 | L=6.5832e-01, J=7.7132e-01, Vol=-4.4951e-02, γ=1.0000e-01, λ1=-2.4923e+00, Λ1=9.7020e-01\n",
      "Iteration:  30 | L=6.5309e-01, J=7.6836e-01, Vol=-4.6676e-02, γ=1.0000e-01, λ1=-2.4470e+00, Λ1=1.0672e+00\n",
      "Iteration:  31 | L=6.4849e-01, J=7.6411e-01, Vol=-4.7748e-02, γ=1.0000e-01, λ1=-2.3960e+00, Λ1=1.0672e+00\n",
      "Iteration:  32 | L=6.4477e-01, J=7.5833e-01, Vol=-4.7908e-02, γ=1.0000e-01, λ1=-2.3449e+00, Λ1=1.0672e+00\n",
      "Iteration:  33 | L=6.4119e-01, J=7.5219e-01, Vol=-4.7859e-02, γ=1.0000e-01, λ1=-2.2938e+00, Λ1=1.0672e+00\n",
      "Iteration:  34 | L=6.3699e-01, J=7.4418e-01, Vol=-4.7249e-02, γ=1.0000e-01, λ1=-2.2434e+00, Λ1=1.0672e+00\n",
      "Iteration:  35 | L=6.3302e-01, J=7.3680e-01, Vol=-4.6780e-02, γ=1.0000e-01, λ1=-2.1935e+00, Λ1=1.1739e+00\n",
      "Iteration:  36 | L=6.2995e-01, J=7.2927e-01, Vol=-4.5841e-02, γ=1.0000e-01, λ1=-2.1396e+00, Λ1=1.1739e+00\n",
      "Iteration:  37 | L=6.2765e-01, J=7.2263e-01, Vol=-4.4946e-02, γ=1.0000e-01, λ1=-2.0869e+00, Λ1=1.1739e+00\n",
      "Iteration:  38 | L=6.2607e-01, J=7.1438e-01, Vol=-4.2832e-02, γ=1.0000e-01, λ1=-2.0366e+00, Λ1=1.1739e+00\n",
      "Iteration:  39 | L=6.2478e-01, J=7.0870e-01, Vol=-4.1709e-02, γ=1.0000e-01, λ1=-1.9876e+00, Λ1=1.1739e+00\n",
      "Iteration:  40 | L=6.2456e-01, J=7.0106e-01, Vol=-3.8939e-02, γ=1.0000e-01, λ1=-1.9419e+00, Λ1=1.2913e+00\n",
      "Iteration:  41 | L=6.2521e-01, J=6.9514e-01, Vol=-3.6452e-02, γ=1.0000e-01, λ1=-1.8948e+00, Λ1=1.2913e+00\n",
      "Iteration:  42 | L=6.2604e-01, J=6.8921e-01, Vol=-3.3721e-02, γ=1.0000e-01, λ1=-1.8513e+00, Λ1=1.2913e+00\n",
      "Iteration:  43 | L=6.2552e-01, J=6.8130e-01, Vol=-3.0453e-02, γ=1.0000e-01, λ1=-1.8120e+00, Λ1=1.2913e+00\n",
      "Iteration:  44 | L=6.2629e-01, J=6.7974e-01, Vol=-2.9814e-02, γ=1.0000e-01, λ1=-1.7735e+00, Λ1=1.2913e+00\n",
      "Iteration:  45 | L=6.2579e-01, J=6.6988e-01, Vol=-2.5088e-02, γ=1.0000e-01, λ1=-1.7411e+00, Λ1=1.4205e+00\n",
      "Iteration:  46 | L=6.2700e-01, J=6.6956e-01, Vol=-2.4695e-02, γ=1.0000e-01, λ1=-1.7060e+00, Λ1=1.4205e+00\n",
      "Iteration:  47 | L=6.2570e-01, J=6.5916e-01, Vol=-1.9777e-02, γ=1.0000e-01, λ1=-1.6779e+00, Λ1=1.4205e+00\n",
      "Iteration:  48 | L=6.2705e-01, J=6.6166e-01, Vol=-2.0808e-02, γ=1.0000e-01, λ1=-1.6483e+00, Λ1=1.4205e+00\n",
      "Iteration:  49 | L=6.2536e-01, J=6.5072e-01, Vol=-1.5487e-02, γ=1.0000e-01, λ1=-1.6263e+00, Λ1=1.4205e+00\n",
      "Iteration:  50 | L=6.2686e-01, J=6.5436e-01, Vol=-1.7035e-02, γ=1.0000e-01, λ1=-1.6021e+00, Λ1=1.5625e+00\n",
      "Iteration:  51 | L=6.2492e-01, J=6.4350e-01, Vol=-1.1662e-02, γ=1.0000e-01, λ1=-1.5839e+00, Λ1=1.5625e+00\n",
      "Iteration:  52 | L=6.2641e-01, J=6.4734e-01, Vol=-1.3304e-02, γ=1.0000e-01, λ1=-1.5631e+00, Λ1=1.5625e+00\n",
      "Iteration:  53 | L=6.2444e-01, J=6.3738e-01, Vol=-8.3185e-03, γ=1.0000e-01, λ1=-1.5501e+00, Λ1=1.5625e+00\n",
      "Iteration:  54 | L=6.2586e-01, J=6.4265e-01, Vol=-1.0889e-02, γ=1.0000e-01, λ1=-1.5331e+00, Λ1=1.5625e+00\n",
      "Iteration:  55 | L=6.2392e-01, J=6.3317e-01, Vol=-6.0573e-03, γ=1.0000e-01, λ1=-1.5237e+00, Λ1=1.5625e+00\n",
      "Iteration:  56 | L=6.2498e-01, J=6.3785e-01, Vol=-8.4787e-03, γ=1.0000e-01, λ1=-1.5104e+00, Λ1=1.5625e+00\n",
      "Iteration:  57 | L=6.2345e-01, J=6.2983e-01, Vol=-4.2324e-03, γ=1.0000e-01, λ1=-1.5038e+00, Λ1=1.5625e+00\n",
      "Iteration:  58 | L=6.2446e-01, J=6.3395e-01, Vol=-6.3301e-03, γ=1.0000e-01, λ1=-1.4939e+00, Λ1=1.5625e+00\n",
      "Iteration:  59 | L=6.2310e-01, J=6.2709e-01, Vol=-2.6732e-03, γ=1.0000e-01, λ1=-1.4897e+00, Λ1=1.5625e+00\n",
      "\u001b[33m   Oscillations detected, reducing γ to 0.07500000000000001\u001b[39m\n",
      "Iteration:  60 | L=6.2333e-01, J=6.3059e-01, Vol=-4.8836e-03, γ=7.5000e-02, λ1=-1.4821e+00, Λ1=1.5625e+00\n",
      "Iteration:  61 | L=6.2287e-01, J=6.2573e-01, Vol=-1.9287e-03, γ=7.5000e-02, λ1=-1.4791e+00, Λ1=1.5625e+00\n",
      "Iteration:  62 | L=6.2328e-01, J=6.2839e-01, Vol=-3.4589e-03, γ=7.5000e-02, λ1=-1.4737e+00, Λ1=1.5625e+00\n",
      "Iteration:  63 | L=6.2271e-01, J=6.2404e-01, Vol=-8.9926e-04, γ=7.5000e-02, λ1=-1.4723e+00, Λ1=1.5625e+00\n",
      "Iteration:  64 | L=6.2314e-01, J=6.2770e-01, Vol=-3.1001e-03, γ=7.5000e-02, λ1=-1.4674e+00, Λ1=1.5625e+00\n",
      "Iteration:  65 | L=6.2262e-01, J=6.2296e-01, Vol=-2.2711e-04, γ=7.5000e-02, λ1=-1.4671e+00, Λ1=1.5625e+00\n",
      "Iteration:  66 | L=6.2313e-01, J=6.2675e-01, Vol=-2.4675e-03, γ=7.5000e-02, λ1=-1.4632e+00, Λ1=1.5625e+00\n",
      "Iteration:  67 | L=6.2260e-01, J=6.2196e-01, Vol=4.3931e-04, γ=7.5000e-02, λ1=-1.4639e+00, Λ1=1.5625e+00\n",
      "Iteration:  68 | L=6.2316e-01, J=6.2620e-01, Vol=-2.0746e-03, γ=7.5000e-02, λ1=-1.4607e+00, Λ1=1.5625e+00\n",
      "Iteration:  69 | L=6.2268e-01, J=6.2120e-01, Vol=1.0149e-03, γ=7.5000e-02, λ1=-1.4623e+00, Λ1=1.5625e+00\n",
      "Iteration:  70 | L=6.2330e-01, J=6.2564e-01, Vol=-1.5991e-03, γ=7.5000e-02, λ1=-1.4598e+00, Λ1=1.5625e+00\n",
      "Iteration:  71 | L=6.2290e-01, J=6.2065e-01, Vol=1.5399e-03, γ=7.5000e-02, λ1=-1.4622e+00, Λ1=1.5625e+00\n",
      "Iteration:  72 | L=6.2350e-01, J=6.2516e-01, Vol=-1.1362e-03, γ=7.5000e-02, λ1=-1.4604e+00, Λ1=1.5625e+00\n",
      "Iteration:  73 | L=6.2324e-01, J=6.2056e-01, Vol=1.8305e-03, γ=7.5000e-02, λ1=-1.4632e+00, Λ1=1.5625e+00\n",
      "Iteration:  74 | L=6.2343e-01, J=6.2412e-01, Vol=-4.7307e-04, γ=7.5000e-02, λ1=-1.4625e+00, Λ1=1.5625e+00\n",
      "Iteration:  75 | L=6.2368e-01, J=6.2145e-01, Vol=1.5190e-03, γ=7.5000e-02, λ1=-1.4649e+00, Λ1=1.5625e+00\n",
      "Iteration:  76 | L=6.2322e-01, J=6.2261e-01, Vol=4.1220e-04, γ=7.5000e-02, λ1=-1.4655e+00, Λ1=1.5625e+00\n",
      "Iteration:  77 | L=6.2442e-01, J=6.2389e-01, Vol=3.6057e-04, γ=7.5000e-02, λ1=-1.4661e+00, Λ1=1.5625e+00\n",
      "Iteration:  78 | L=6.2336e-01, J=6.2093e-01, Vol=1.6553e-03, γ=7.5000e-02, λ1=-1.4687e+00, Λ1=1.5625e+00\n",
      "Iteration:  79 | L=6.2377e-01, J=6.2482e-01, Vol=-7.1753e-04, γ=7.5000e-02, λ1=-1.4676e+00, Λ1=1.5625e+00\n",
      "Iteration:  80 | L=6.2383e-01, J=6.2178e-01, Vol=1.3934e-03, γ=7.5000e-02, λ1=-1.4697e+00, Λ1=1.5625e+00\n",
      "Iteration:  81 | L=6.2385e-01, J=6.2381e-01, Vol=2.8830e-05, γ=7.5000e-02, λ1=-1.4698e+00, Λ1=1.5625e+00\n",
      "Iteration:  82 | L=6.2319e-01, J=6.2196e-01, Vol=8.3448e-04, γ=7.5000e-02, λ1=-1.4711e+00, Λ1=1.5625e+00\n",
      "Iteration:  83 | L=6.2420e-01, J=6.2590e-01, Vol=-1.1552e-03, γ=7.5000e-02, λ1=-1.4693e+00, Λ1=1.5625e+00\n",
      "Iteration:  84 | L=6.2340e-01, J=6.2089e-01, Vol=1.7072e-03, γ=7.5000e-02, λ1=-1.4719e+00, Λ1=1.5625e+00\n",
      "Iteration:  85 | L=6.2357e-01, J=6.2544e-01, Vol=-1.2712e-03, γ=7.5000e-02, λ1=-1.4700e+00, Λ1=1.5625e+00\n",
      "Iteration:  86 | L=6.2382e-01, J=6.2191e-01, Vol=1.2973e-03, γ=7.5000e-02, λ1=-1.4720e+00, Λ1=1.5625e+00\n",
      "Iteration:  87 | L=6.2365e-01, J=6.2412e-01, Vol=-3.2071e-04, γ=7.5000e-02, λ1=-1.4715e+00, Λ1=1.5625e+00\n",
      "\u001b[33m   Oscillations detected, reducing γ to 0.05625000000000001\u001b[39m\n",
      "Iteration:  88 | L=6.2225e-01, J=6.2176e-01, Vol=3.3457e-04, γ=5.6250e-02, λ1=-1.4720e+00, Λ1=1.5625e+00\n",
      "Iteration:  89 | L=6.2297e-01, J=6.2779e-01, Vol=-3.2810e-03, γ=5.6250e-02, λ1=-1.4669e+00, Λ1=1.5625e+00\n",
      "Iteration:  90 | L=6.2233e-01, J=6.2167e-01, Vol=4.5476e-04, γ=5.6250e-02, λ1=-1.4676e+00, Λ1=1.5625e+00\n",
      "Iteration:  91 | L=6.2299e-01, J=6.2629e-01, Vol=-2.2541e-03, γ=5.6250e-02, λ1=-1.4641e+00, Λ1=1.5625e+00\n",
      "Iteration:  92 | L=6.2245e-01, J=6.2111e-01, Vol=9.1244e-04, γ=5.6250e-02, λ1=-1.4655e+00, Λ1=1.5625e+00\n",
      "Iteration:  93 | L=6.2286e-01, J=6.2532e-01, Vol=-1.6854e-03, γ=5.6250e-02, λ1=-1.4629e+00, Λ1=1.5625e+00\n",
      "Iteration:  94 | L=6.2271e-01, J=6.2099e-01, Vol=1.1754e-03, γ=5.6250e-02, λ1=-1.4647e+00, Λ1=1.5625e+00\n",
      "Iteration:  95 | L=6.2270e-01, J=6.2398e-01, Vol=-8.7710e-04, γ=5.6250e-02, λ1=-1.4633e+00, Λ1=1.5625e+00\n",
      "Iteration:  96 | L=6.2265e-01, J=6.2161e-01, Vol=7.0880e-04, γ=5.6250e-02, λ1=-1.4644e+00, Λ1=1.5625e+00\n",
      "Iteration:  97 | L=6.2285e-01, J=6.2388e-01, Vol=-7.0476e-04, γ=5.6250e-02, λ1=-1.4633e+00, Λ1=1.5625e+00\n",
      "Iteration:  98 | L=6.2252e-01, J=6.2137e-01, Vol=7.8089e-04, γ=5.6250e-02, λ1=-1.4646e+00, Λ1=1.5625e+00\n",
      "Iteration:  99 | L=6.2283e-01, J=6.2425e-01, Vol=-9.6819e-04, γ=5.6250e-02, λ1=-1.4630e+00, Λ1=1.5625e+00\n",
      "Iteration: 100 | L=6.2265e-01, J=6.2120e-01, Vol=9.9131e-04, γ=5.6250e-02, λ1=-1.4646e+00, Λ1=1.5625e+00\n",
      "Iteration: 101 | L=6.2268e-01, J=6.2372e-01, Vol=-7.1386e-04, γ=5.6250e-02, λ1=-1.4635e+00, Λ1=1.5625e+00\n",
      "Iteration: 102 | L=6.2257e-01, J=6.2159e-01, Vol=6.7158e-04, γ=5.6250e-02, λ1=-1.4645e+00, Λ1=1.5625e+00\n",
      "Iteration: 103 | L=6.2280e-01, J=6.2384e-01, Vol=-7.1259e-04, γ=5.6250e-02, λ1=-1.4634e+00, Λ1=1.5625e+00\n",
      "Iteration: 104 | L=6.2251e-01, J=6.2133e-01, Vol=8.0703e-04, γ=5.6250e-02, λ1=-1.4647e+00, Λ1=1.5625e+00\n",
      "Iteration: 105 | L=6.2275e-01, J=6.2405e-01, Vol=-8.8800e-04, γ=5.6250e-02, λ1=-1.4633e+00, Λ1=1.5625e+00\n",
      "Iteration: 106 | L=6.2261e-01, J=6.2127e-01, Vol=9.1220e-04, γ=5.6250e-02, λ1=-1.4647e+00, Λ1=1.5625e+00\n",
      "Iteration: 107 | L=6.2265e-01, J=6.2366e-01, Vol=-6.8633e-04, γ=5.6250e-02, λ1=-1.4636e+00, Λ1=1.5625e+00\n",
      "Iteration: 108 | L=6.2253e-01, J=6.2155e-01, Vol=6.7372e-04, γ=5.6250e-02, λ1=-1.4647e+00, Λ1=1.5625e+00\n",
      "Iteration: 109 | L=6.2275e-01, J=6.2381e-01, Vol=-7.2629e-04, γ=5.6250e-02, λ1=-1.4636e+00, Λ1=1.5625e+00\n",
      "Iteration: 110 | L=6.2250e-01, J=6.2133e-01, Vol=7.9775e-04, γ=5.6250e-02, λ1=-1.4648e+00, Λ1=1.5625e+00\n",
      "Iteration: 111 | L=6.2268e-01, J=6.2393e-01, Vol=-8.5306e-04, γ=5.6250e-02, λ1=-1.4635e+00, Λ1=1.5625e+00\n",
      "Iteration: 112 | L=6.2257e-01, J=6.2135e-01, Vol=8.2951e-04, γ=5.6250e-02, λ1=-1.4648e+00, Λ1=1.5625e+00\n",
      "Iteration: 113 | L=6.2261e-01, J=6.2363e-01, Vol=-6.9549e-04, γ=5.6250e-02, λ1=-1.4637e+00, Λ1=1.5625e+00\n",
      "Iteration: 114 | L=6.2249e-01, J=6.2154e-01, Vol=6.4873e-04, γ=5.6250e-02, λ1=-1.4647e+00, Λ1=1.5625e+00\n",
      "Iteration: 115 | L=6.2269e-01, J=6.2378e-01, Vol=-7.4576e-04, γ=5.6250e-02, λ1=-1.4635e+00, Λ1=1.5625e+00\n",
      "\u001b[33m   Oscillations detected, reducing γ to 0.0421875\u001b[39m\n",
      "Iteration: 116 | L=6.2184e-01, J=6.2133e-01, Vol=3.4972e-04, γ=4.2188e-02, λ1=-1.4641e+00, Λ1=1.5625e+00\n",
      "Iteration: 117 | L=6.2221e-01, J=6.2526e-01, Vol=-2.0855e-03, γ=4.2188e-02, λ1=-1.4608e+00, Λ1=1.5625e+00\n",
      "Iteration: 118 | L=6.2193e-01, J=6.2124e-01, Vol=4.7206e-04, γ=4.2188e-02, λ1=-1.4615e+00, Λ1=1.5625e+00\n",
      "Iteration: 119 | L=6.2213e-01, J=6.2403e-01, Vol=-1.3045e-03, γ=4.2188e-02, λ1=-1.4595e+00, Λ1=1.5625e+00\n",
      "Iteration: 120 | L=6.2207e-01, J=6.2116e-01, Vol=6.2559e-04, γ=4.2188e-02, λ1=-1.4605e+00, Λ1=1.5625e+00\n",
      "Iteration: 121 | L=6.2202e-01, J=6.2304e-01, Vol=-6.9873e-04, γ=4.2188e-02, λ1=-1.4594e+00, Λ1=1.5625e+00\n",
      "Iteration: 122 | L=6.2199e-01, J=6.2159e-01, Vol=2.7743e-04, γ=4.2188e-02, λ1=-1.4598e+00, Λ1=1.5625e+00\n",
      "Iteration: 123 | L=6.2220e-01, J=6.2309e-01, Vol=-6.1179e-04, γ=4.2188e-02, λ1=-1.4589e+00, Λ1=1.5625e+00\n",
      "Iteration: 124 | L=6.2192e-01, J=6.2119e-01, Vol=5.0057e-04, γ=4.2188e-02, λ1=-1.4597e+00, Λ1=1.5625e+00\n",
      "Iteration: 125 | L=6.2213e-01, J=6.2334e-01, Vol=-8.3292e-04, γ=4.2188e-02, λ1=-1.4584e+00, Λ1=1.5625e+00\n",
      "Iteration: 126 | L=6.2202e-01, J=6.2108e-01, Vol=6.4582e-04, γ=4.2188e-02, λ1=-1.4594e+00, Λ1=1.5625e+00\n",
      "Iteration: 127 | L=6.2203e-01, J=6.2282e-01, Vol=-5.3746e-04, γ=4.2188e-02, λ1=-1.4585e+00, Λ1=1.5625e+00\n",
      "Iteration: 128 | L=6.2198e-01, J=6.2134e-01, Vol=4.4197e-04, γ=4.2188e-02, λ1=-1.4592e+00, Λ1=1.5625e+00\n",
      "Iteration: 129 | L=6.2206e-01, J=6.2280e-01, Vol=-5.0490e-04, γ=4.2188e-02, λ1=-1.4584e+00, Λ1=1.5625e+00\n",
      "Iteration: 130 | L=6.2193e-01, J=6.2130e-01, Vol=4.3533e-04, γ=4.2188e-02, λ1=-1.4591e+00, Λ1=1.5625e+00\n",
      "Iteration: 131 | L=6.2209e-01, J=6.2292e-01, Vol=-5.6773e-04, γ=4.2188e-02, λ1=-1.4582e+00, Λ1=1.5625e+00\n",
      "Iteration: 132 | L=6.2190e-01, J=6.2111e-01, Vol=5.3605e-04, γ=4.2188e-02, λ1=-1.4591e+00, Λ1=1.5625e+00\n",
      "Iteration: 133 | L=6.2204e-01, J=6.2301e-01, Vol=-6.7006e-04, γ=4.2188e-02, λ1=-1.4580e+00, Λ1=1.5625e+00\n",
      "Iteration: 134 | L=6.2187e-01, J=6.2110e-01, Vol=5.2504e-04, γ=4.2188e-02, λ1=-1.4588e+00, Λ1=1.5625e+00\n",
      "Iteration: 135 | L=6.2205e-01, J=6.2301e-01, Vol=-6.5999e-04, γ=4.2188e-02, λ1=-1.4578e+00, Λ1=1.5625e+00\n",
      "Iteration: 136 | L=6.2184e-01, J=6.2098e-01, Vol=5.8914e-04, γ=4.2188e-02, λ1=-1.4587e+00, Λ1=1.5625e+00\n",
      "Iteration: 137 | L=6.2201e-01, J=6.2307e-01, Vol=-7.2704e-04, γ=4.2188e-02, λ1=-1.4576e+00, Λ1=1.5625e+00\n",
      "Iteration: 138 | L=6.2185e-01, J=6.2096e-01, Vol=6.1012e-04, γ=4.2188e-02, λ1=-1.4585e+00, Λ1=1.5625e+00\n",
      "Iteration: 139 | L=6.2200e-01, J=6.2294e-01, Vol=-6.4148e-04, γ=4.2188e-02, λ1=-1.4575e+00, Λ1=1.5625e+00\n",
      "Iteration: 140 | L=6.2182e-01, J=6.2093e-01, Vol=6.1112e-04, γ=4.2188e-02, λ1=-1.4585e+00, Λ1=1.5625e+00\n",
      "Iteration: 141 | L=6.2199e-01, J=6.2299e-01, Vol=-6.8648e-04, γ=4.2188e-02, λ1=-1.4574e+00, Λ1=1.5625e+00\n",
      "Iteration: 142 | L=6.2182e-01, J=6.2091e-01, Vol=6.1929e-04, γ=4.2188e-02, λ1=-1.4584e+00, Λ1=1.5625e+00\n",
      "Iteration: 143 | L=6.2196e-01, J=6.2292e-01, Vol=-6.5655e-04, γ=4.2188e-02, λ1=-1.4574e+00, Λ1=1.5625e+00\n",
      "\u001b[33m   Oscillations detected, reducing γ to 0.031640625000000006\u001b[39m\n",
      "Iteration: 144 | L=6.2152e-01, J=6.2115e-01, Vol=2.5646e-04, γ=3.1641e-02, λ1=-1.4578e+00, Λ1=1.5625e+00\n",
      "Iteration: 145 | L=6.2180e-01, J=6.2372e-01, Vol=-1.3172e-03, γ=3.1641e-02, λ1=-1.4557e+00, Λ1=1.5625e+00\n",
      "Iteration: 146 | L=6.2154e-01, J=6.2093e-01, Vol=4.2288e-04, γ=3.1641e-02, λ1=-1.4564e+00, Λ1=1.5625e+00\n",
      "Iteration: 147 | L=6.2175e-01, J=6.2307e-01, Vol=-9.0538e-04, γ=3.1641e-02, λ1=-1.4549e+00, Λ1=1.5625e+00\n",
      "Iteration: 148 | L=6.2158e-01, J=6.2076e-01, Vol=5.6766e-04, γ=3.1641e-02, λ1=-1.4558e+00, Λ1=1.5625e+00\n",
      "Iteration: 149 | L=6.2169e-01, J=6.2258e-01, Vol=-6.1445e-04, γ=3.1641e-02, λ1=-1.4549e+00, Λ1=1.5625e+00\n",
      "Iteration: 150 | L=6.2155e-01, J=6.2089e-01, Vol=4.5293e-04, γ=3.1641e-02, λ1=-1.4556e+00, Λ1=1.5625e+00\n",
      "Iteration: 151 | L=6.2177e-01, J=6.2259e-01, Vol=-5.6614e-04, γ=3.1641e-02, λ1=-1.4547e+00, Λ1=1.5625e+00\n",
      "Iteration: 152 | L=6.2155e-01, J=6.2073e-01, Vol=5.6600e-04, γ=3.1641e-02, λ1=-1.4556e+00, Λ1=1.5625e+00\n",
      "Iteration: 153 | L=6.2171e-01, J=6.2266e-01, Vol=-6.5137e-04, γ=3.1641e-02, λ1=-1.4546e+00, Λ1=1.5625e+00\n",
      "Iteration: 154 | L=6.2156e-01, J=6.2069e-01, Vol=5.9912e-04, γ=3.1641e-02, λ1=-1.4555e+00, Λ1=1.5625e+00\n",
      "Iteration: 155 | L=6.2165e-01, J=6.2238e-01, Vol=-5.0331e-04, γ=3.1641e-02, λ1=-1.4547e+00, Λ1=1.5625e+00\n",
      "Iteration: 156 | L=6.2154e-01, J=6.2084e-01, Vol=4.7821e-04, γ=3.1641e-02, λ1=-1.4555e+00, Λ1=1.5625e+00\n",
      "Iteration: 157 | L=6.2167e-01, J=6.2241e-01, Vol=-5.0657e-04, γ=3.1641e-02, λ1=-1.4547e+00, Λ1=1.5625e+00\n",
      "Iteration: 158 | L=6.2150e-01, J=6.2086e-01, Vol=4.4118e-04, γ=3.1641e-02, λ1=-1.4554e+00, Λ1=1.5625e+00\n",
      "Iteration: 159 | L=6.2169e-01, J=6.2260e-01, Vol=-6.2539e-04, γ=3.1641e-02, λ1=-1.4544e+00, Λ1=1.5625e+00\n",
      "Iteration: 160 | L=6.2150e-01, J=6.2074e-01, Vol=5.2268e-04, γ=3.1641e-02, λ1=-1.4552e+00, Λ1=1.5625e+00\n",
      "Iteration: 161 | L=6.2165e-01, J=6.2250e-01, Vol=-5.8859e-04, γ=3.1641e-02, λ1=-1.4543e+00, Λ1=1.5625e+00\n",
      "Iteration: 162 | L=6.2150e-01, J=6.2074e-01, Vol=5.1950e-04, γ=3.1641e-02, λ1=-1.4551e+00, Λ1=1.5625e+00\n",
      "Iteration: 163 | L=6.2163e-01, J=6.2240e-01, Vol=-5.3111e-04, γ=3.1641e-02, λ1=-1.4543e+00, Λ1=1.5625e+00\n",
      "Iteration: 164 | L=6.2148e-01, J=6.2078e-01, Vol=4.8310e-04, γ=3.1641e-02, λ1=-1.4550e+00, Λ1=1.5625e+00\n",
      "Iteration: 165 | L=6.2164e-01, J=6.2245e-01, Vol=-5.5713e-04, γ=3.1641e-02, λ1=-1.4541e+00, Λ1=1.5625e+00\n",
      "Iteration: 166 | L=6.2147e-01, J=6.2074e-01, Vol=5.0333e-04, γ=3.1641e-02, λ1=-1.4549e+00, Λ1=1.5625e+00\n",
      "Iteration: 167 | L=6.2162e-01, J=6.2244e-01, Vol=-5.6322e-04, γ=3.1641e-02, λ1=-1.4541e+00, Λ1=1.5625e+00\n",
      "Iteration: 168 | L=6.2147e-01, J=6.2072e-01, Vol=5.1864e-04, γ=3.1641e-02, λ1=-1.4549e+00, Λ1=1.5625e+00\n",
      "Iteration: 169 | L=6.2160e-01, J=6.2237e-01, Vol=-5.2557e-04, γ=3.1641e-02, λ1=-1.4540e+00, Λ1=1.5625e+00\n",
      "Iteration: 170 | L=6.2146e-01, J=6.2074e-01, Vol=4.9807e-04, γ=3.1641e-02, λ1=-1.4548e+00, Λ1=1.5625e+00\n",
      "Iteration: 171 | L=6.2160e-01, J=6.2236e-01, Vol=-5.2367e-04, γ=3.1641e-02, λ1=-1.4540e+00, Λ1=1.5625e+00\n",
      "\u001b[33m   Oscillations detected, reducing γ to 0.023730468750000004\u001b[39m\n",
      "Iteration: 172 | L=6.2135e-01, J=6.2100e-01, Vol=2.4250e-04, γ=2.3730e-02, λ1=-1.4544e+00, Λ1=1.5625e+00\n",
      "Iteration: 173 | L=6.2146e-01, J=6.2267e-01, Vol=-8.3691e-04, γ=2.3730e-02, λ1=-1.4531e+00, Λ1=1.5625e+00\n",
      "Iteration: 174 | L=6.2133e-01, J=6.2090e-01, Vol=2.9205e-04, γ=2.3730e-02, λ1=-1.4535e+00, Λ1=1.5625e+00\n",
      "Iteration: 175 | L=6.2147e-01, J=6.2222e-01, Vol=-5.1952e-04, γ=2.3730e-02, λ1=-1.4527e+00, Λ1=1.5625e+00\n",
      "Iteration: 176 | L=6.2135e-01, J=6.2077e-01, Vol=3.9988e-04, γ=2.3730e-02, λ1=-1.4533e+00, Λ1=1.5625e+00\n",
      "Iteration: 177 | L=6.2145e-01, J=6.2203e-01, Vol=-3.9956e-04, γ=2.3730e-02, λ1=-1.4527e+00, Λ1=1.5625e+00\n",
      "Iteration: 178 | L=6.2135e-01, J=6.2078e-01, Vol=3.9005e-04, γ=2.3730e-02, λ1=-1.4533e+00, Λ1=1.5625e+00\n",
      "Iteration: 179 | L=6.2145e-01, J=6.2202e-01, Vol=-3.9117e-04, γ=2.3730e-02, λ1=-1.4527e+00, Λ1=1.5625e+00\n",
      "Iteration: 180 | L=6.2134e-01, J=6.2077e-01, Vol=3.9271e-04, γ=2.3730e-02, λ1=-1.4533e+00, Λ1=1.5625e+00\n",
      "Iteration: 181 | L=6.2145e-01, J=6.2202e-01, Vol=-3.9695e-04, γ=2.3730e-02, λ1=-1.4527e+00, Λ1=1.5625e+00\n",
      "Iteration: 182 | L=6.2134e-01, J=6.2074e-01, Vol=4.1407e-04, γ=2.3730e-02, λ1=-1.4534e+00, Λ1=1.5625e+00\n",
      "Iteration: 183 | L=6.2143e-01, J=6.2195e-01, Vol=-3.5695e-04, γ=2.3730e-02, λ1=-1.4528e+00, Λ1=1.5625e+00\n",
      "Iteration: 184 | L=6.2133e-01, J=6.2075e-01, Vol=4.0214e-04, γ=2.3730e-02, λ1=-1.4534e+00, Λ1=1.5625e+00\n",
      "Iteration: 185 | L=6.2142e-01, J=6.2191e-01, Vol=-3.3618e-04, γ=2.3730e-02, λ1=-1.4529e+00, Λ1=1.5625e+00\n",
      "Iteration: 186 | L=6.2133e-01, J=6.2077e-01, Vol=3.8180e-04, γ=2.3730e-02, λ1=-1.4535e+00, Λ1=1.5625e+00\n",
      "Iteration: 187 | L=6.2141e-01, J=6.2191e-01, Vol=-3.4238e-04, γ=2.3730e-02, λ1=-1.4530e+00, Λ1=1.5625e+00\n",
      "Iteration: 188 | L=6.2132e-01, J=6.2077e-01, Vol=3.7595e-04, γ=2.3730e-02, λ1=-1.4535e+00, Λ1=1.5625e+00\n",
      "Iteration: 189 | L=6.2141e-01, J=6.2191e-01, Vol=-3.4597e-04, γ=2.3730e-02, λ1=-1.4530e+00, Λ1=1.5625e+00\n",
      "Iteration: 190 | L=6.2132e-01, J=6.2077e-01, Vol=3.7611e-04, γ=2.3730e-02, λ1=-1.4536e+00, Λ1=1.5625e+00\n",
      "Iteration: 191 | L=6.2140e-01, J=6.2189e-01, Vol=-3.3813e-04, γ=2.3730e-02, λ1=-1.4531e+00, Λ1=1.5625e+00\n",
      "Iteration: 192 | L=6.2131e-01, J=6.2078e-01, Vol=3.6988e-04, γ=2.3730e-02, λ1=-1.4536e+00, Λ1=1.5625e+00\n",
      "Iteration: 193 | L=6.2139e-01, J=6.2188e-01, Vol=-3.3451e-04, γ=2.3730e-02, λ1=-1.4531e+00, Λ1=1.5625e+00\n",
      "Iteration: 194 | L=6.2131e-01, J=6.2078e-01, Vol=3.6201e-04, γ=2.3730e-02, λ1=-1.4537e+00, Λ1=1.5625e+00\n",
      "Iteration: 195 | L=6.2139e-01, J=6.2188e-01, Vol=-3.3817e-04, γ=2.3730e-02, λ1=-1.4532e+00, Λ1=1.5625e+00\n",
      "Iteration: 196 | L=6.2130e-01, J=6.2078e-01, Vol=3.5984e-04, γ=2.3730e-02, λ1=-1.4537e+00, Λ1=1.5625e+00\n",
      "Iteration: 197 | L=6.2139e-01, J=6.2188e-01, Vol=-3.4013e-04, γ=2.3730e-02, λ1=-1.4532e+00, Λ1=1.5625e+00\n",
      "Iteration: 198 | L=6.2130e-01, J=6.2078e-01, Vol=3.6072e-04, γ=2.3730e-02, λ1=-1.4538e+00, Λ1=1.5625e+00\n",
      "Iteration: 199 | L=6.2138e-01, J=6.2187e-01, Vol=-3.3787e-04, γ=2.3730e-02, λ1=-1.4532e+00, Λ1=1.5625e+00\n",
      "\u001b[33m   Oscillations detected, reducing γ to 0.0177978515625\u001b[39m\n",
      "Iteration: 200 | L=6.2126e-01, J=6.2099e-01, Vol=1.8528e-04, γ=1.7798e-02, λ1=-1.4535e+00, Λ1=1.5625e+00\n",
      "Iteration: 201 | L=6.2127e-01, J=6.2190e-01, Vol=-4.3472e-04, γ=1.7798e-02, λ1=-1.4528e+00, Λ1=1.5625e+00\n",
      "Iteration: 202 | L=6.2123e-01, J=6.2090e-01, Vol=2.2523e-04, γ=1.7798e-02, λ1=-1.4532e+00, Λ1=1.5625e+00\n",
      "Iteration: 203 | L=6.2126e-01, J=6.2166e-01, Vol=-2.7499e-04, γ=1.7798e-02, λ1=-1.4528e+00, Λ1=1.5625e+00\n",
      "Iteration: 204 | L=6.2122e-01, J=6.2100e-01, Vol=1.4732e-04, γ=1.7798e-02, λ1=-1.4530e+00, Λ1=1.5625e+00\n",
      "Iteration: 205 | L=6.2124e-01, J=6.2158e-01, Vol=-2.2917e-04, γ=1.7798e-02, λ1=-1.4526e+00, Λ1=1.5625e+00\n"
     ]
    }
   ],
   "source": [
    "for (it,uh,φh) in optimiser\n",
    "    data = [\"φ\"=>φh,\n",
    "            \"H(φ)\"=>(H ∘ φh),\n",
    "            \"|∇(φ)|\"=>(norm ∘ ∇(φh)),\n",
    "            \"uh\"=>uh]\n",
    "            \n",
    "    iszero(it % iter_mod) && writevtk(Ω,path*\"_$it\",cellfields=data)\n",
    "    write_history(path*\"/history_$max_steps,$tol.txt\",get_history(optimiser))\n",
    "end"
   ]
  },
  {
   "cell_type": "markdown",
   "id": "52737123",
   "metadata": {},
   "source": [
    "### Final structure"
   ]
  },
  {
   "cell_type": "code",
   "execution_count": 19,
   "id": "0635e985",
   "metadata": {},
   "outputs": [
    {
     "name": "stderr",
     "output_type": "stream",
     "text": [
      "┌ Warning: detected extension '.001' does not correspond to dataset type.\n",
      "│ Appending '.vtu' to filename.\n",
      "└ @ WriteVTK C:\\Users\\IIT BBSR\\.julia\\packages\\WriteVTK\\Be3qm\\src\\WriteVTK.jl:162\n"
     ]
    },
    {
     "data": {
      "text/plain": [
       "([\"c:\\\\Users\\\\IIT BBSR\\\\Desktop\\\\Amiya\\\\BTP\\\\Julia\\\\Level_Set_Method\\\\Thermal_Compilance\\\\../../../../Result/Output/_Final_205,20,0.001.vtu\"],)"
      ]
     },
     "metadata": {},
     "output_type": "display_data"
    }
   ],
   "source": [
    "it = get_history(optimiser).niter; uh = get_state(pcfs)\n",
    "writevtk(Ω,path*\"_Final_$it,$max_steps,$tol\", cellfields=[\"φ\"=>φh,\"H(φ)\"=>(H ∘ φh),\"|∇(φ)|\"=>(norm ∘ ∇(φh)),\"uh\"=>uh])"
   ]
  }
 ],
 "metadata": {
  "kernelspec": {
   "display_name": "Julia 1.11.6",
   "language": "julia",
   "name": "julia-1.11"
  },
  "language_info": {
   "file_extension": ".jl",
   "mimetype": "application/julia",
   "name": "julia",
   "version": "1.11.6"
  }
 },
 "nbformat": 4,
 "nbformat_minor": 5
}

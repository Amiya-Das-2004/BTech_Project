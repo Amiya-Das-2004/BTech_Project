{
 "cells": [
  {
   "cell_type": "code",
   "execution_count": null,
   "id": "ea52c351",
   "metadata": {},
   "outputs": [],
   "source": [
    "using Gridap\n",
    "using GridapTopOpt\n",
    "# foreach(println, names(Gridap))  # To view all the functions Of a Package"
   ]
  },
  {
   "cell_type": "code",
   "execution_count": 4,
   "id": "3b12ddc9",
   "metadata": {},
   "outputs": [
    {
     "data": {
      "text/plain": [
       "17-element Vector{Symbol}:\n",
       " :Adaptivity\n",
       " :Algebra\n",
       " :Arrays\n",
       " :CellData\n",
       " :FESpaces\n",
       " :Fields\n",
       " :Geometry\n",
       " :Gridap\n",
       " :GridapODEs\n",
       " :Helpers\n",
       " :Io\n",
       " :MultiField\n",
       " :ODEs\n",
       " :Polynomials\n",
       " :ReferenceFEs\n",
       " :TensorValues\n",
       " :Visualization"
      ]
     },
     "metadata": {},
     "output_type": "display_data"
    }
   ],
   "source": [
    "# To view the modules in a package \n",
    "\n",
    "syms = names(Gridap, all=true)\n",
    "\n",
    "[sub for sub in syms if getproperty(Gridap, sub) isa Module]"
   ]
  },
  {
   "cell_type": "code",
   "execution_count": 5,
   "id": "170caa54",
   "metadata": {},
   "outputs": [
    {
     "data": {
      "text/plain": [
       "1-element Vector{Symbol}:\n",
       " :GridapTopOpt"
      ]
     },
     "metadata": {},
     "output_type": "display_data"
    }
   ],
   "source": [
    "# To view the modules in a package \n",
    "\n",
    "syms = names(GridapTopOpt, all=true)\n",
    "\n",
    "[sub for sub in syms if getproperty(GridapTopOpt, sub) isa Module]"
   ]
  },
  {
   "cell_type": "code",
   "execution_count": 7,
   "id": "d1121a9b",
   "metadata": {},
   "outputs": [
    {
     "data": {
      "text/html": [
       "# 6 methods for generic function <b>writevtk</b> from \u001b[35mGridap.Visualization\u001b[39m:<ul><li> writevtk(geo::<b>STLCutters.STLGeometry</b>, args...; <i>kwargs...</i>) in STLCutters at <a href=\"file://C:/Users/IIT BBSR/.julia/packages/STLCutters/oEu9o/src/Embedded.jl\" target=\"_blank\">C:\\Users\\IIT BBSR\\.julia\\packages\\STLCutters\\oEu9o\\src\\Embedded.jl:341</a></li> <li> writevtk(face::<b>STLCutters.Face</b>, filename; <i>kwargs...</i>) in STLCutters at <a href=\"file://C:/Users/IIT BBSR/.julia/packages/STLCutters/oEu9o/src/SimplexFaces.jl\" target=\"_blank\">C:\\Users\\IIT BBSR\\.julia\\packages\\STLCutters\\oEu9o\\src\\SimplexFaces.jl:1049</a></li> <li> writevtk(p::<b>Gridap.ReferenceFEs.Polyhedron</b>, filename; <i>kwargs...</i>) in STLCutters at <a href=\"file://C:/Users/IIT BBSR/.julia/packages/STLCutters/oEu9o/src/Polyhedra.jl\" target=\"_blank\">C:\\Users\\IIT BBSR\\.julia\\packages\\STLCutters\\oEu9o\\src\\Polyhedra.jl:425</a></li> <li> writevtk(ps::<b>Array{<:Gridap.ReferenceFEs.Polyhedron}</b>, filename) in STLCutters at <a href=\"file://C:/Users/IIT BBSR/.julia/packages/STLCutters/oEu9o/src/Polyhedra.jl\" target=\"_blank\">C:\\Users\\IIT BBSR\\.julia\\packages\\STLCutters\\oEu9o\\src\\Polyhedra.jl:429</a></li> <li> writevtk(arg::<b>Union{GridapDistributed.DistributedDiscreteModel, GridapDistributed.DistributedTriangulation}</b>, args...; <i>compress, append, ascii, vtkversion, kwargs...</i>) in GridapDistributed at <a href=\"file://C:/Users/IIT BBSR/.julia/packages/GridapDistributed/XNMqm/src/Visualization.jl\" target=\"_blank\">C:\\Users\\IIT BBSR\\.julia\\packages\\GridapDistributed\\XNMqm\\src\\Visualization.jl:196</a></li> <li> writevtk(args...; <i>compress, append, ascii, vtkversion, kwargs...</i>) in Gridap.Visualization at <a href=\"file://C:/Users/IIT BBSR/.julia/packages/Gridap/JD3zW/src/Visualization/Vtk.jl\" target=\"_blank\">C:\\Users\\IIT BBSR\\.julia\\packages\\Gridap\\JD3zW\\src\\Visualization\\Vtk.jl:3</a></li> </ul>"
      ],
      "text/plain": [
       "# 6 methods for generic function \"writevtk\" from \u001b[35mGridap.Visualization\u001b[39m:\n",
       " [1] writevtk(\u001b[90mgeo\u001b[39m::\u001b[1mSTLCutters.STLGeometry\u001b[22m, \u001b[90margs...\u001b[39m; kwargs...)\n",
       "\u001b[90m     @\u001b[39m \u001b[36mSTLCutters\u001b[39m \u001b[90mC:\\Users\\IIT BBSR\\.julia\\packages\\STLCutters\\oEu9o\\src\\\u001b[39m\u001b[90m\u001b[4mEmbedded.jl:341\u001b[24m\u001b[39m\n",
       " [2] writevtk(\u001b[90mface\u001b[39m::\u001b[1mSTLCutters.Face\u001b[22m, \u001b[90mfilename\u001b[39m; kwargs...)\n",
       "\u001b[90m     @\u001b[39m \u001b[36mSTLCutters\u001b[39m \u001b[90mC:\\Users\\IIT BBSR\\.julia\\packages\\STLCutters\\oEu9o\\src\\\u001b[39m\u001b[90m\u001b[4mSimplexFaces.jl:1049\u001b[24m\u001b[39m\n",
       " [3] writevtk(\u001b[90mp\u001b[39m::\u001b[1mGridap.ReferenceFEs.Polyhedron\u001b[22m, \u001b[90mfilename\u001b[39m; kwargs...)\n",
       "\u001b[90m     @\u001b[39m \u001b[36mSTLCutters\u001b[39m \u001b[90mC:\\Users\\IIT BBSR\\.julia\\packages\\STLCutters\\oEu9o\\src\\\u001b[39m\u001b[90m\u001b[4mPolyhedra.jl:425\u001b[24m\u001b[39m\n",
       " [4] writevtk(\u001b[90mps\u001b[39m::\u001b[1mArray\u001b[22m\u001b[0m{<:Gridap.ReferenceFEs.Polyhedron}, \u001b[90mfilename\u001b[39m)\n",
       "\u001b[90m     @\u001b[39m \u001b[36mSTLCutters\u001b[39m \u001b[90mC:\\Users\\IIT BBSR\\.julia\\packages\\STLCutters\\oEu9o\\src\\\u001b[39m\u001b[90m\u001b[4mPolyhedra.jl:429\u001b[24m\u001b[39m\n",
       " [5] writevtk(\u001b[90marg\u001b[39m::\u001b[1mUnion\u001b[22m\u001b[0m{GridapDistributed.DistributedDiscreteModel, GridapDistributed.DistributedTriangulation}, \u001b[90margs...\u001b[39m; compress, append, ascii, vtkversion, kwargs...)\n",
       "\u001b[90m     @\u001b[39m \u001b[32mGridapDistributed\u001b[39m \u001b[90mC:\\Users\\IIT BBSR\\.julia\\packages\\GridapDistributed\\XNMqm\\src\\\u001b[39m\u001b[90m\u001b[4mVisualization.jl:196\u001b[24m\u001b[39m\n",
       " [6] writevtk(\u001b[90margs...\u001b[39m; compress, append, ascii, vtkversion, kwargs...)\n",
       "\u001b[90m     @\u001b[39m \u001b[90mC:\\Users\\IIT BBSR\\.julia\\packages\\Gridap\\JD3zW\\src\\Visualization\\\u001b[39m\u001b[90m\u001b[4mVtk.jl:3\u001b[24m\u001b[39m"
      ]
     },
     "metadata": {},
     "output_type": "display_data"
    }
   ],
   "source": [
    "using Gridap.Visualization\n",
    "@which writevtk\n",
    "methods(writevtk)"
   ]
  },
  {
   "cell_type": "code",
   "execution_count": 9,
   "id": "bf3528d1",
   "metadata": {},
   "outputs": [
    {
     "data": {
      "text/html": [
       "# 8 methods for type constructor:<ul><li> CartesianDiscreteModel(parts::<b>Nothing</b>, args...; <i>kwargs...</i>) in Gridap.Geometry at <a href=\"file://C:/Users/IIT BBSR/.julia/packages/Gridap/JD3zW/src/Geometry/CartesianDiscreteModels.jl\" target=\"_blank\">C:\\Users\\IIT BBSR\\.julia\\packages\\Gridap\\JD3zW\\src\\Geometry\\CartesianDiscreteModels.jl:80</a></li> <li> CartesianDiscreteModel(desc::<b>CartesianDescriptor{D, T, F}</b>, cmin::<b>CartesianIndex</b>, cmax::<b>CartesianIndex</b>, remove_boundary)<i> where {D, T, F}</i> in Gridap.Geometry at <a href=\"file://C:/Users/IIT BBSR/.julia/packages/Gridap/JD3zW/src/Geometry/CartesianDiscreteModels.jl\" target=\"_blank\">C:\\Users\\IIT BBSR\\.julia\\packages\\Gridap\\JD3zW\\src\\Geometry\\CartesianDiscreteModels.jl:40</a></li> <li> CartesianDiscreteModel(desc::<b>CartesianDescriptor{D, T, F}</b>, cmin::<b>CartesianIndex</b>, cmax::<b>CartesianIndex</b>)<i> where {D, T, F}</i> in Gridap.Geometry at <a href=\"file://C:/Users/IIT BBSR/.julia/packages/Gridap/JD3zW/src/Geometry/CartesianDiscreteModels.jl\" target=\"_blank\">C:\\Users\\IIT BBSR\\.julia\\packages\\Gridap\\JD3zW\\src\\Geometry\\CartesianDiscreteModels.jl:40</a></li> <li> CartesianDiscreteModel(desc::<b>CartesianDescriptor{D, T, F}</b>)<i> where {D, T, F}</i> in Gridap.Geometry at <a href=\"file://C:/Users/IIT BBSR/.julia/packages/Gridap/JD3zW/src/Geometry/CartesianDiscreteModels.jl\" target=\"_blank\">C:\\Users\\IIT BBSR\\.julia\\packages\\Gridap\\JD3zW\\src\\Geometry\\CartesianDiscreteModels.jl:16</a></li> <li> CartesianDiscreteModel(pdesc::<b>GridapDistributed.DistributedCartesianDescriptor</b>) in GridapDistributed at <a href=\"file://C:/Users/IIT BBSR/.julia/packages/GridapDistributed/XNMqm/src/Geometry.jl\" target=\"_blank\">C:\\Users\\IIT BBSR\\.julia\\packages\\GridapDistributed\\XNMqm\\src\\Geometry.jl:330</a></li> <li> CartesianDiscreteModel(ranks::<b>AbstractArray{<:Integer}</b>, parts::<b>NTuple{N, var\"#s7\"} where var\"#s7\"<:Integer</b>, args...; <i>ghost, kwargs...</i>)<i> where N</i> in GridapDistributed at <a href=\"file://C:/Users/IIT BBSR/.julia/packages/GridapDistributed/XNMqm/src/Geometry.jl\" target=\"_blank\">C:\\Users\\IIT BBSR\\.julia\\packages\\GridapDistributed\\XNMqm\\src\\Geometry.jl:318</a></li> <li> CartesianDiscreteModel(grid::<b>CartesianGrid{D, T, F}</b>, grid_topology::<b>UnstructuredGridTopology{D, D, T, Oriented}</b>, face_labeling::<b>FaceLabeling</b>)<i> where {D, T, F}</i> in Gridap.Geometry at <a href=\"file://C:/Users/IIT BBSR/.julia/packages/Gridap/JD3zW/src/Geometry/CartesianDiscreteModels.jl\" target=\"_blank\">C:\\Users\\IIT BBSR\\.julia\\packages\\Gridap\\JD3zW\\src\\Geometry\\CartesianDiscreteModels.jl:8</a></li> <li> CartesianDiscreteModel(args...; <i>kwargs...</i>) in Gridap.Geometry at <a href=\"file://C:/Users/IIT BBSR/.julia/packages/Gridap/JD3zW/src/Geometry/CartesianDiscreteModels.jl\" target=\"_blank\">C:\\Users\\IIT BBSR\\.julia\\packages\\Gridap\\JD3zW\\src\\Geometry\\CartesianDiscreteModels.jl:74</a></li> </ul>"
      ],
      "text/plain": [
       "# 8 methods for type constructor:\n",
       " [1] CartesianDiscreteModel(\u001b[90mparts\u001b[39m::\u001b[1mNothing\u001b[22m, \u001b[90margs...\u001b[39m; kwargs...)\n",
       "\u001b[90m     @\u001b[39m \u001b[90mC:\\Users\\IIT BBSR\\.julia\\packages\\Gridap\\JD3zW\\src\\Geometry\\\u001b[39m\u001b[90m\u001b[4mCartesianDiscreteModels.jl:80\u001b[24m\u001b[39m\n",
       " [2] CartesianDiscreteModel(\u001b[90mdesc\u001b[39m::\u001b[1mCartesianDescriptor\u001b[22m\u001b[0m{D, T, F}, \u001b[90mcmin\u001b[39m::\u001b[1mCartesianIndex\u001b[22m, \u001b[90mcmax\u001b[39m::\u001b[1mCartesianIndex\u001b[22m, \u001b[90mremove_boundary\u001b[39m) where {D, T, F}\n",
       "\u001b[90m     @\u001b[39m \u001b[90mC:\\Users\\IIT BBSR\\.julia\\packages\\Gridap\\JD3zW\\src\\Geometry\\\u001b[39m\u001b[90m\u001b[4mCartesianDiscreteModels.jl:40\u001b[24m\u001b[39m\n",
       " [3] CartesianDiscreteModel(\u001b[90mdesc\u001b[39m::\u001b[1mCartesianDescriptor\u001b[22m\u001b[0m{D, T, F}, \u001b[90mcmin\u001b[39m::\u001b[1mCartesianIndex\u001b[22m, \u001b[90mcmax\u001b[39m::\u001b[1mCartesianIndex\u001b[22m) where {D, T, F}\n",
       "\u001b[90m     @\u001b[39m \u001b[90mC:\\Users\\IIT BBSR\\.julia\\packages\\Gridap\\JD3zW\\src\\Geometry\\\u001b[39m\u001b[90m\u001b[4mCartesianDiscreteModels.jl:40\u001b[24m\u001b[39m\n",
       " [4] CartesianDiscreteModel(\u001b[90mdesc\u001b[39m::\u001b[1mCartesianDescriptor\u001b[22m\u001b[0m{D, T, F}) where {D, T, F}\n",
       "\u001b[90m     @\u001b[39m \u001b[90mC:\\Users\\IIT BBSR\\.julia\\packages\\Gridap\\JD3zW\\src\\Geometry\\\u001b[39m\u001b[90m\u001b[4mCartesianDiscreteModels.jl:16\u001b[24m\u001b[39m\n",
       " [5] CartesianDiscreteModel(\u001b[90mpdesc\u001b[39m::\u001b[1mGridapDistributed.DistributedCartesianDescriptor\u001b[22m)\n",
       "\u001b[90m     @\u001b[39m \u001b[32mGridapDistributed\u001b[39m \u001b[90mC:\\Users\\IIT BBSR\\.julia\\packages\\GridapDistributed\\XNMqm\\src\\\u001b[39m\u001b[90m\u001b[4mGeometry.jl:330\u001b[24m\u001b[39m\n",
       " [6] CartesianDiscreteModel(\u001b[90mranks\u001b[39m::\u001b[1mAbstractArray\u001b[22m\u001b[0m{<:Integer}, \u001b[90mparts\u001b[39m::\u001b[1mNTuple\u001b[22m\u001b[0m{N, var\"#s7\"} where var\"#s7\"<:Integer, \u001b[90margs...\u001b[39m; ghost, kwargs...) where N\n",
       "\u001b[90m     @\u001b[39m \u001b[32mGridapDistributed\u001b[39m \u001b[90mC:\\Users\\IIT BBSR\\.julia\\packages\\GridapDistributed\\XNMqm\\src\\\u001b[39m\u001b[90m\u001b[4mGeometry.jl:318\u001b[24m\u001b[39m\n",
       " [7] CartesianDiscreteModel(\u001b[90mgrid\u001b[39m::\u001b[1mCartesianGrid\u001b[22m\u001b[0m{D, T, F}, \u001b[90mgrid_topology\u001b[39m::\u001b[1mUnstructuredGridTopology\u001b[22m\u001b[0m{D, D, T, Oriented}, \u001b[90mface_labeling\u001b[39m::\u001b[1mFaceLabeling\u001b[22m) where {D, T, F}\n",
       "\u001b[90m     @\u001b[39m \u001b[90mC:\\Users\\IIT BBSR\\.julia\\packages\\Gridap\\JD3zW\\src\\Geometry\\\u001b[39m\u001b[90m\u001b[4mCartesianDiscreteModels.jl:8\u001b[24m\u001b[39m\n",
       " [8] CartesianDiscreteModel(\u001b[90margs...\u001b[39m; kwargs...)\n",
       "\u001b[90m     @\u001b[39m \u001b[90mC:\\Users\\IIT BBSR\\.julia\\packages\\Gridap\\JD3zW\\src\\Geometry\\\u001b[39m\u001b[90m\u001b[4mCartesianDiscreteModels.jl:74\u001b[24m\u001b[39m"
      ]
     },
     "metadata": {},
     "output_type": "display_data"
    }
   ],
   "source": [
    "using Gridap.Geometry\n",
    "@which CartesianDiscreteModel\n",
    "methods(CartesianDiscreteModel)"
   ]
  },
  {
   "cell_type": "code",
   "execution_count": 13,
   "id": "1dbe7e39",
   "metadata": {},
   "outputs": [
    {
     "data": {
      "text/plain": [
       "3-element Vector{Vector{String}}:\n",
       " [\"../../../../Demo/model2D\\\\model2D_0.vtu\"]\n",
       " [\"../../../../Demo/model2D\\\\model2D_1.vtu\"]\n",
       " [\"../../../../Demo/model2D\\\\model2D_2.vtu\"]"
      ]
     },
     "metadata": {},
     "output_type": "display_data"
    }
   ],
   "source": [
    "using Gridap.Geometry: CartesianDiscreteModel\n",
    "using Gridap.Visualization: writevtk\n",
    "\n",
    "# Create the folder (if it doesn't exist)\n",
    "write_dir = \"../../../../Demo/model2D\"\n",
    "isdir(write_dir) || mkpath(write_dir)  # creates the folder if missing\n",
    "\n",
    "# 2D model\n",
    "domain = (0,1,0,1)\n",
    "partition = (10,10)\n",
    "model = CartesianDiscreteModel(domain, partition)\n",
    "\n",
    "# Write VTU file into the folder\n",
    "writevtk(model, joinpath(write_dir, \"model2D\"))  # creates ./Result/model2D.vtu"
   ]
  },
  {
   "cell_type": "code",
   "execution_count": 14,
   "id": "5582939b",
   "metadata": {},
   "outputs": [
    {
     "data": {
      "text/plain": [
       "4-element Vector{Vector{String}}:\n",
       " [\"../../../../Demo/model3D\\\\model3D_0.vtu\"]\n",
       " [\"../../../../Demo/model3D\\\\model3D_1.vtu\"]\n",
       " [\"../../../../Demo/model3D\\\\model3D_2.vtu\"]\n",
       " [\"../../../../Demo/model3D\\\\model3D_3.vtu\"]"
      ]
     },
     "metadata": {},
     "output_type": "display_data"
    }
   ],
   "source": [
    "# Create the folder (if it doesn't exist)\n",
    "write_dir = \"../../../../Demo/model3D\"\n",
    "isdir(write_dir) || mkpath(write_dir)  # creates the folder if missing\n",
    "\n",
    "# 3D model\n",
    "domain = (0,1,0,1,0,1)\n",
    "partition = (10,10,10)\n",
    "model = CartesianDiscreteModel(domain, partition)\n",
    "\n",
    "# Write VTU file into the folder\n",
    "writevtk(model, joinpath(write_dir, \"model3D\"))  # creates ./Result/model2D.vtu"
   ]
  },
  {
   "cell_type": "code",
   "execution_count": 16,
   "id": "b981a101",
   "metadata": {},
   "outputs": [
    {
     "data": {
      "text/html": [
       "# 1 method for generic function <b>initial_lsf</b> from \u001b[33mGridapTopOpt\u001b[39m:<ul><li> initial_lsf(ξ, a; <i>b</i>) in GridapTopOpt at <a href=\"file://C:/Users/IIT BBSR/.julia/packages/GridapTopOpt/zQxvu/src/Utilities.jl\" target=\"_blank\">C:\\Users\\IIT BBSR\\.julia\\packages\\GridapTopOpt\\zQxvu\\src\\Utilities.jl:174</a></li> </ul>"
      ],
      "text/plain": [
       "# 1 method for generic function \"initial_lsf\" from \u001b[33mGridapTopOpt\u001b[39m:\n",
       " [1] initial_lsf(\u001b[90mξ\u001b[39m, \u001b[90ma\u001b[39m; b)\n",
       "\u001b[90m     @\u001b[39m \u001b[90mC:\\Users\\IIT BBSR\\.julia\\packages\\GridapTopOpt\\zQxvu\\src\\\u001b[39m\u001b[90m\u001b[4mUtilities.jl:174\u001b[24m\u001b[39m"
      ]
     },
     "metadata": {},
     "output_type": "display_data"
    }
   ],
   "source": [
    "using GridapTopOpt\n",
    "@which initial_lsf\n",
    "methods(initial_lsf)"
   ]
  },
  {
   "cell_type": "code",
   "execution_count": 18,
   "id": "1f619c2b",
   "metadata": {},
   "outputs": [
    {
     "data": {
      "text/html": [
       "# 2 methods for generic function <b>update_labels!</b> from \u001b[33mGridapTopOpt\u001b[39m:<ul><li> update_labels!(e::<b>Integer</b>, model::<b>GridapDistributed.DistributedDiscreteModel</b>, f_Γ::<b>Function</b>, name::<b>String</b>) in GridapTopOpt at <a href=\"file://C:/Users/IIT BBSR/.julia/packages/GridapTopOpt/zQxvu/src/Utilities.jl\" target=\"_blank\">C:\\Users\\IIT BBSR\\.julia\\packages\\GridapTopOpt\\zQxvu\\src\\Utilities.jl:84</a></li> <li> update_labels!(e::<b>Integer</b>, model::<b>DiscreteModel</b>, f_Γ::<b>Function</b>, name::<b>String</b>) in GridapTopOpt at <a href=\"file://C:/Users/IIT BBSR/.julia/packages/GridapTopOpt/zQxvu/src/Utilities.jl\" target=\"_blank\">C:\\Users\\IIT BBSR\\.julia\\packages\\GridapTopOpt\\zQxvu\\src\\Utilities.jl:78</a></li> </ul>"
      ],
      "text/plain": [
       "# 2 methods for generic function \"update_labels!\" from \u001b[33mGridapTopOpt\u001b[39m:\n",
       " [1] update_labels!(\u001b[90me\u001b[39m::\u001b[1mInteger\u001b[22m, \u001b[90mmodel\u001b[39m::\u001b[1mGridapDistributed.DistributedDiscreteModel\u001b[22m, \u001b[90mf_Γ\u001b[39m::\u001b[1mFunction\u001b[22m, \u001b[90mname\u001b[39m::\u001b[1mString\u001b[22m)\n",
       "\u001b[90m     @\u001b[39m \u001b[90mC:\\Users\\IIT BBSR\\.julia\\packages\\GridapTopOpt\\zQxvu\\src\\\u001b[39m\u001b[90m\u001b[4mUtilities.jl:84\u001b[24m\u001b[39m\n",
       " [2] update_labels!(\u001b[90me\u001b[39m::\u001b[1mInteger\u001b[22m, \u001b[90mmodel\u001b[39m::\u001b[1mDiscreteModel\u001b[22m, \u001b[90mf_Γ\u001b[39m::\u001b[1mFunction\u001b[22m, \u001b[90mname\u001b[39m::\u001b[1mString\u001b[22m)\n",
       "\u001b[90m     @\u001b[39m \u001b[90mC:\\Users\\IIT BBSR\\.julia\\packages\\GridapTopOpt\\zQxvu\\src\\\u001b[39m\u001b[90m\u001b[4mUtilities.jl:78\u001b[24m\u001b[39m"
      ]
     },
     "metadata": {},
     "output_type": "display_data"
    }
   ],
   "source": [
    "using GridapTopOpt\n",
    "@which update_labels!\n",
    "methods(update_labels!)"
   ]
  },
  {
   "cell_type": "code",
   "execution_count": 22,
   "id": "7eb87666",
   "metadata": {},
   "outputs": [
    {
     "data": {
      "text/html": [
       "# 37 methods for type constructor:<ul><li> Triangulation(cutgeo::<b>GridapEmbedded.Distributed.DistributedEmbeddedDiscretization</b>, in_or_out::<b>GridapEmbedded.Interfaces.ActiveInOrOut</b>, args...) in GridapEmbedded.Distributed at <a href=\"file://C:/Users/IIT BBSR/.julia/packages/GridapEmbedded/PIAqm/src/Distributed/DistributedDiscretizations.jl\" target=\"_blank\">C:\\Users\\IIT BBSR\\.julia\\packages\\GridapEmbedded\\PIAqm\\src\\Distributed\\DistributedDiscretizations.jl:63</a></li> <li> Triangulation(cut::<b>GridapEmbedded.Interfaces.EmbeddedDiscretization</b>, name::<b>String</b>) in GridapEmbedded.Interfaces at <a href=\"file://C:/Users/IIT BBSR/.julia/packages/GridapEmbedded/PIAqm/src/Interfaces/EmbeddedDiscretizations.jl\" target=\"_blank\">C:\\Users\\IIT BBSR\\.julia\\packages\\GridapEmbedded\\PIAqm\\src\\Interfaces\\EmbeddedDiscretizations.jl:275</a></li> <li> Triangulation(cut::<b>GridapEmbedded.Interfaces.EmbeddedDiscretization</b>, geo::<b>GridapEmbedded.CSG.Geometry</b>) in GridapEmbedded.Interfaces at <a href=\"file://C:/Users/IIT BBSR/.julia/packages/GridapEmbedded/PIAqm/src/Interfaces/EmbeddedDiscretizations.jl\" target=\"_blank\">C:\\Users\\IIT BBSR\\.julia\\packages\\GridapEmbedded\\PIAqm\\src\\Interfaces\\EmbeddedDiscretizations.jl:280</a></li> <li> Triangulation(::<b>Type{ReferenceFE{D}}</b>, model::<b>GridapDistributed.DistributedDiscreteModel</b>; <i>kwargs...</i>)<i> where D</i> in GridapDistributed at <a href=\"file://C:/Users/IIT BBSR/.julia/packages/GridapDistributed/XNMqm/src/Geometry.jl\" target=\"_blank\">C:\\Users\\IIT BBSR\\.julia\\packages\\GridapDistributed\\XNMqm\\src\\Geometry.jl:587</a></li> <li> Triangulation(cut::<b>STLCutters.STLEmbeddedDiscretization</b>, args...) in STLCutters at <a href=\"file://C:/Users/IIT BBSR/.julia/packages/STLCutters/oEu9o/src/Embedded.jl\" target=\"_blank\">C:\\Users\\IIT BBSR\\.julia\\packages\\STLCutters\\oEu9o\\src\\Embedded.jl:90</a></li> <li> Triangulation(portion, cutgeo::<b>GridapEmbedded.Distributed.DistributedEmbeddedDiscretization</b>, args...) in GridapEmbedded.Distributed at <a href=\"file://C:/Users/IIT BBSR/.julia/packages/GridapEmbedded/PIAqm/src/Distributed/DistributedDiscretizations.jl\" target=\"_blank\">C:\\Users\\IIT BBSR\\.julia\\packages\\GridapEmbedded\\PIAqm\\src\\Distributed\\DistributedDiscretizations.jl:75</a></li> <li> Triangulation(model::<b>DiscreteModel</b>, args...; <i>kwargs...</i>) in Gridap.Geometry at <a href=\"file://C:/Users/IIT BBSR/.julia/packages/Gridap/JD3zW/src/Geometry/Triangulations.jl\" target=\"_blank\">C:\\Users\\IIT BBSR\\.julia\\packages\\Gridap\\JD3zW\\src\\Geometry\\Triangulations.jl:216</a></li> <li> Triangulation(portion, gids::<b>PartitionedArrays.AbstractLocalIndices</b>, cutgeo::<b>GridapEmbedded.Interfaces.AbstractEmbeddedDiscretization</b>, args...) in GridapEmbedded.Distributed at <a href=\"file://C:/Users/IIT BBSR/.julia/packages/GridapEmbedded/PIAqm/src/Distributed/DistributedDiscretizations.jl\" target=\"_blank\">C:\\Users\\IIT BBSR\\.julia\\packages\\GridapEmbedded\\PIAqm\\src\\Distributed\\DistributedDiscretizations.jl:84</a></li> <li> Triangulation(cutgeo::<b>GridapEmbedded.Distributed.DistributedEmbeddedDiscretization</b>, args...) in GridapEmbedded.Distributed at <a href=\"file://C:/Users/IIT BBSR/.julia/packages/GridapEmbedded/PIAqm/src/Distributed/DistributedDiscretizations.jl\" target=\"_blank\">C:\\Users\\IIT BBSR\\.julia\\packages\\GridapEmbedded\\PIAqm\\src\\Distributed\\DistributedDiscretizations.jl:71</a></li> <li> Triangulation(portion, cutgeo::<b>GridapEmbedded.Distributed.DistributedEmbeddedDiscretization</b>, cutinorout, geom::<b>GridapEmbedded.Distributed.DistributedDiscreteGeometry</b>) in GridapEmbedded.Distributed at <a href=\"file://C:/Users/IIT BBSR/.julia/packages/GridapEmbedded/PIAqm/src/Distributed/DistributedDiscreteGeometries.jl\" target=\"_blank\">C:\\Users\\IIT BBSR\\.julia\\packages\\GridapEmbedded\\PIAqm\\src\\Distributed\\DistributedDiscreteGeometries.jl:50</a></li> <li> Triangulation(trian::<b>Gridap.Adaptivity.AdaptedTriangulation</b>, args...; <i>kwargs...</i>) in Gridap.Adaptivity at <a href=\"file://C:/Users/IIT BBSR/.julia/packages/Gridap/JD3zW/src/Adaptivity/AdaptedTriangulations.jl\" target=\"_blank\">C:\\Users\\IIT BBSR\\.julia\\packages\\Gridap\\JD3zW\\src\\Adaptivity\\AdaptedTriangulations.jl:97</a></li> <li> Triangulation(trian::<b>Triangulation</b>, sface_to_tface::<b>AbstractArray{<:Integer}</b>) in Gridap.Geometry at <a href=\"file://C:/Users/IIT BBSR/.julia/packages/Gridap/JD3zW/src/Geometry/Triangulations.jl\" target=\"_blank\">C:\\Users\\IIT BBSR\\.julia\\packages\\Gridap\\JD3zW\\src\\Geometry\\Triangulations.jl:231</a></li> <li> Triangulation(trian::<b>Triangulation</b>, tface_filter::<b>AbstractArray{<:Bool}</b>) in Gridap.Geometry at <a href=\"file://C:/Users/IIT BBSR/.julia/packages/Gridap/JD3zW/src/Geometry/Triangulations.jl\" target=\"_blank\">C:\\Users\\IIT BBSR\\.julia\\packages\\Gridap\\JD3zW\\src\\Geometry\\Triangulations.jl:235</a></li> <li> Triangulation(portion, gids::<b>PartitionedArrays.AbstractLocalIndices</b>, args...; <i>kwargs...</i>) in GridapDistributed at <a href=\"file://C:/Users/IIT BBSR/.julia/packages/GridapDistributed/XNMqm/src/Geometry.jl\" target=\"_blank\">C:\\Users\\IIT BBSR\\.julia\\packages\\GridapDistributed\\XNMqm\\src\\Geometry.jl:691</a></li> <li> Triangulation(cut::<b>GridapEmbedded.Interfaces.EmbeddedDiscretization</b>, in_or_out, name::<b>String</b>) in GridapEmbedded.Interfaces at <a href=\"file://C:/Users/IIT BBSR/.julia/packages/GridapEmbedded/PIAqm/src/Interfaces/EmbeddedDiscretizations.jl\" target=\"_blank\">C:\\Users\\IIT BBSR\\.julia\\packages\\GridapEmbedded\\PIAqm\\src\\Interfaces\\EmbeddedDiscretizations.jl:292</a></li> <li> Triangulation(cut::<b>GridapEmbedded.Interfaces.EmbeddedDiscretization</b>, in_or_out) in GridapEmbedded.Interfaces at <a href=\"file://C:/Users/IIT BBSR/.julia/packages/GridapEmbedded/PIAqm/src/Interfaces/EmbeddedDiscretizations.jl\" target=\"_blank\">C:\\Users\\IIT BBSR\\.julia\\packages\\GridapEmbedded\\PIAqm\\src\\Interfaces\\EmbeddedDiscretizations.jl:271</a></li> <li> Triangulation(portion, model::<b>GridapDistributed.DistributedDiscreteModel</b>; <i>kwargs...</i>) in GridapDistributed at <a href=\"file://C:/Users/IIT BBSR/.julia/packages/GridapDistributed/XNMqm/src/Geometry.jl\" target=\"_blank\">C:\\Users\\IIT BBSR\\.julia\\packages\\GridapDistributed\\XNMqm\\src\\Geometry.jl:591</a></li> <li> Triangulation(trian::<b>Triangulation</b>, args...; <i>kwargs...</i>) in Gridap.Geometry at <a href=\"file://C:/Users/IIT BBSR/.julia/packages/Gridap/JD3zW/src/Geometry/Triangulations.jl\" target=\"_blank\">C:\\Users\\IIT BBSR\\.julia\\packages\\Gridap\\JD3zW\\src\\Geometry\\Triangulations.jl:221</a></li> <li> Triangulation(trian::<b>Triangulation</b>) in Gridap.Geometry at <a href=\"file://C:/Users/IIT BBSR/.julia/packages/Gridap/JD3zW/src/Geometry/Triangulations.jl\" target=\"_blank\">C:\\Users\\IIT BBSR\\.julia\\packages\\Gridap\\JD3zW\\src\\Geometry\\Triangulations.jl:227</a></li> <li> Triangulation(portion, ::<b>Type{ReferenceFE{D}}</b>, model::<b>GridapDistributed.DistributedDiscreteModel</b>; <i>kwargs...</i>)<i> where D</i> in GridapDistributed at <a href=\"file://C:/Users/IIT BBSR/.julia/packages/GridapDistributed/XNMqm/src/Geometry.jl\" target=\"_blank\">C:\\Users\\IIT BBSR\\.julia\\packages\\GridapDistributed\\XNMqm\\src\\Geometry.jl:596</a></li> <li> Triangulation(::<b>Type{ReferenceFE{d}}</b>, model::<b>Gridap.Adaptivity.AdaptedDiscreteModel</b>, mface_filter::<b>AbstractVector{Bool}</b>)<i> where d</i> in Gridap.Adaptivity at <a href=\"file://C:/Users/IIT BBSR/.julia/packages/Gridap/JD3zW/src/Adaptivity/AdaptedTriangulations.jl\" target=\"_blank\">C:\\Users\\IIT BBSR\\.julia\\packages\\Gridap\\JD3zW\\src\\Adaptivity\\AdaptedTriangulations.jl:90</a></li> <li> Triangulation(::<b>Type{ReferenceFE{d}}</b>, model::<b>DiscreteModel</b>, tface_to_mface::<b>AbstractVector{<:Integer}</b>)<i> where d</i> in Gridap.Geometry at <a href=\"file://C:/Users/IIT BBSR/.julia/packages/Gridap/JD3zW/src/Geometry/Triangulations.jl\" target=\"_blank\">C:\\Users\\IIT BBSR\\.julia\\packages\\Gridap\\JD3zW\\src\\Geometry\\Triangulations.jl:178</a></li> <li> Triangulation(::<b>Type{ReferenceFE{d}}</b>, model::<b>DiscreteModel</b>, mface_filter::<b>AbstractVector{Bool}</b>)<i> where d</i> in Gridap.Geometry at <a href=\"file://C:/Users/IIT BBSR/.julia/packages/Gridap/JD3zW/src/Geometry/Triangulations.jl\" target=\"_blank\">C:\\Users\\IIT BBSR\\.julia\\packages\\Gridap\\JD3zW\\src\\Geometry\\Triangulations.jl:193</a></li> <li> Triangulation(::<b>Type{ReferenceFE{d}}</b>, model::<b>Gridap.Adaptivity.AdaptedDiscreteModel</b>, tface_to_mface::<b>AbstractVector{<:Integer}</b>)<i> where d</i> in Gridap.Adaptivity at <a href=\"file://C:/Users/IIT BBSR/.julia/packages/Gridap/JD3zW/src/Adaptivity/AdaptedTriangulations.jl\" target=\"_blank\">C:\\Users\\IIT BBSR\\.julia\\packages\\Gridap\\JD3zW\\src\\Adaptivity\\AdaptedTriangulations.jl:76</a></li> <li> Triangulation(::<b>Type{ReferenceFE{d}}</b>, model::<b>Gridap.Adaptivity.AdaptedDiscreteModel</b>, args...; <i>kwargs...</i>)<i> where d</i> in Gridap.Adaptivity at <a href=\"file://C:/Users/IIT BBSR/.julia/packages/Gridap/JD3zW/src/Adaptivity/AdaptedTriangulations.jl\" target=\"_blank\">C:\\Users\\IIT BBSR\\.julia\\packages\\Gridap\\JD3zW\\src\\Adaptivity\\AdaptedTriangulations.jl:71</a></li> <li> Triangulation(::<b>Type{ReferenceFE{d}}</b>, model::<b>DiscreteModel</b>, mface_filter::<b>AbstractArray{Bool}</b>)<i> where d</i> in Gridap.Geometry at <a href=\"file://C:/Users/IIT BBSR/.julia/packages/Gridap/JD3zW/src/Geometry/Triangulations.jl\" target=\"_blank\">C:\\Users\\IIT BBSR\\.julia\\packages\\Gridap\\JD3zW\\src\\Geometry\\Triangulations.jl:186</a></li> <li> Triangulation(::<b>Type{ReferenceFE{d}}</b>, model::<b>Gridap.Adaptivity.AdaptedDiscreteModel</b>, mface_filter::<b>AbstractArray{Bool}</b>)<i> where d</i> in Gridap.Adaptivity at <a href=\"file://C:/Users/IIT BBSR/.julia/packages/Gridap/JD3zW/src/Adaptivity/AdaptedTriangulations.jl\" target=\"_blank\">C:\\Users\\IIT BBSR\\.julia\\packages\\Gridap\\JD3zW\\src\\Adaptivity\\AdaptedTriangulations.jl:83</a></li> <li> Triangulation(::<b>Type{ReferenceFE{d}}</b>, model::<b>DiscreteModel</b>, labels::<b>FaceLabeling</b>; <i>tags</i>)<i> where d</i> in Gridap.Geometry at <a href=\"file://C:/Users/IIT BBSR/.julia/packages/Gridap/JD3zW/src/Geometry/Triangulations.jl\" target=\"_blank\">C:\\Users\\IIT BBSR\\.julia\\packages\\Gridap\\JD3zW\\src\\Geometry\\Triangulations.jl:200</a></li> <li> Triangulation(::<b>Type{ReferenceFE{d}}</b>, model::<b>DiscreteModel</b>; <i>kwargs...</i>)<i> where d</i> in Gridap.Geometry at <a href=\"file://C:/Users/IIT BBSR/.julia/packages/Gridap/JD3zW/src/Geometry/Triangulations.jl\" target=\"_blank\">C:\\Users\\IIT BBSR\\.julia\\packages\\Gridap\\JD3zW\\src\\Geometry\\Triangulations.jl:211</a></li> <li> Triangulation(model::<b>GridapDistributed.DistributedDiscreteModel</b>; <i>kwargs...</i>) in GridapDistributed at <a href=\"file://C:/Users/IIT BBSR/.julia/packages/GridapDistributed/XNMqm/src/Geometry.jl\" target=\"_blank\">C:\\Users\\IIT BBSR\\.julia\\packages\\GridapDistributed\\XNMqm\\src\\Geometry.jl:582</a></li> <li> Triangulation(PD::<b>GridapSolvers.PatchBasedSmoothers.PatchDecomposition</b>) in GridapSolvers.PatchBasedSmoothers at <a href=\"file://C:/Users/IIT BBSR/.julia/packages/GridapSolvers/gwyZl/src/PatchBasedSmoothers/PatchTriangulations.jl\" target=\"_blank\">C:\\Users\\IIT BBSR\\.julia\\packages\\GridapSolvers\\gwyZl\\src\\PatchBasedSmoothers\\PatchTriangulations.jl:58</a></li> <li> Triangulation(cut::<b>GridapEmbedded.Interfaces.EmbeddedDiscretization</b>, in_or_out::<b>GridapEmbedded.Interfaces.CutInOrOut</b>, geo::<b>GridapEmbedded.CSG.Geometry</b>) in GridapEmbedded.Interfaces at <a href=\"file://C:/Users/IIT BBSR/.julia/packages/GridapEmbedded/PIAqm/src/Interfaces/EmbeddedDiscretizations.jl\" target=\"_blank\">C:\\Users\\IIT BBSR\\.julia\\packages\\GridapEmbedded\\PIAqm\\src\\Interfaces\\EmbeddedDiscretizations.jl:303</a></li> <li> Triangulation(cut::<b>GridapEmbedded.Interfaces.EmbeddedDiscretization</b>, in_or_out::<b>GridapEmbedded.Interfaces.ActiveInOrOut</b>, geo::<b>GridapEmbedded.CSG.Geometry</b>) in GridapEmbedded.Interfaces at <a href=\"file://C:/Users/IIT BBSR/.julia/packages/GridapEmbedded/PIAqm/src/Interfaces/EmbeddedDiscretizations.jl\" target=\"_blank\">C:\\Users\\IIT BBSR\\.julia\\packages\\GridapEmbedded\\PIAqm\\src\\Interfaces\\EmbeddedDiscretizations.jl:319</a></li> <li> Triangulation(cut::<b>GridapEmbedded.Interfaces.EmbeddedDiscretization</b>, in_or_out::<b>Integer</b>, geo::<b>GridapEmbedded.CSG.Geometry</b>) in GridapEmbedded.Interfaces at <a href=\"file://C:/Users/IIT BBSR/.julia/packages/GridapEmbedded/PIAqm/src/Interfaces/EmbeddedDiscretizations.jl\" target=\"_blank\">C:\\Users\\IIT BBSR\\.julia\\packages\\GridapEmbedded\\PIAqm\\src\\Interfaces\\EmbeddedDiscretizations.jl:313</a></li> <li> Triangulation(cut::<b>GridapEmbedded.Interfaces.EmbeddedDiscretization</b>, in_or_out::<b>Tuple</b>, geo::<b>GridapEmbedded.CSG.Geometry</b>) in GridapEmbedded.Interfaces at <a href=\"file://C:/Users/IIT BBSR/.julia/packages/GridapEmbedded/PIAqm/src/Interfaces/EmbeddedDiscretizations.jl\" target=\"_blank\">C:\\Users\\IIT BBSR\\.julia\\packages\\GridapEmbedded\\PIAqm\\src\\Interfaces\\EmbeddedDiscretizations.jl:297</a></li> <li> Triangulation(cut::<b>GridapEmbedded.Interfaces.EmbeddedDiscretization</b>) in GridapEmbedded.Interfaces at <a href=\"file://C:/Users/IIT BBSR/.julia/packages/GridapEmbedded/PIAqm/src/Interfaces/EmbeddedDiscretizations.jl\" target=\"_blank\">C:\\Users\\IIT BBSR\\.julia\\packages\\GridapEmbedded\\PIAqm\\src\\Interfaces\\EmbeddedDiscretizations.jl:255</a></li> <li> Triangulation(a::<b>GridapSolvers.PatchBasedSmoothers.DistributedPatchDecomposition</b>) in GridapSolvers.PatchBasedSmoothers at <a href=\"file://C:/Users/IIT BBSR/.julia/packages/GridapSolvers/gwyZl/src/PatchBasedSmoothers/DistributedPatchDecompositions.jl\" target=\"_blank\">C:\\Users\\IIT BBSR\\.julia\\packages\\GridapSolvers\\gwyZl\\src\\PatchBasedSmoothers\\DistributedPatchDecompositions.jl:60</a></li> </ul>"
      ],
      "text/plain": [
       "# 37 methods for type constructor:\n",
       "  [1] Triangulation(\u001b[90mcutgeo\u001b[39m::\u001b[1mGridapEmbedded.Distributed.DistributedEmbeddedDiscretization\u001b[22m, \u001b[90min_or_out\u001b[39m::\u001b[1mGridapEmbedded.Interfaces.ActiveInOrOut\u001b[22m, \u001b[90margs...\u001b[39m)\n",
       "\u001b[90m     @\u001b[39m \u001b[35mGridapEmbedded.Distributed\u001b[39m \u001b[90mC:\\Users\\IIT BBSR\\.julia\\packages\\GridapEmbedded\\PIAqm\\src\\Distributed\\\u001b[39m\u001b[90m\u001b[4mDistributedDiscretizations.jl:63\u001b[24m\u001b[39m\n",
       "  [2] Triangulation(\u001b[90mcut\u001b[39m::\u001b[1mGridapEmbedded.Interfaces.EmbeddedDiscretization\u001b[22m, \u001b[90mname\u001b[39m::\u001b[1mString\u001b[22m)\n",
       "\u001b[90m     @\u001b[39m \u001b[35mGridapEmbedded.Interfaces\u001b[39m \u001b[90mC:\\Users\\IIT BBSR\\.julia\\packages\\GridapEmbedded\\PIAqm\\src\\Interfaces\\\u001b[39m\u001b[90m\u001b[4mEmbeddedDiscretizations.jl:275\u001b[24m\u001b[39m\n",
       "  [3] Triangulation(\u001b[90mcut\u001b[39m::\u001b[1mGridapEmbedded.Interfaces.EmbeddedDiscretization\u001b[22m, \u001b[90mgeo\u001b[39m::\u001b[1mGridapEmbedded.CSG.Geometry\u001b[22m)\n",
       "\u001b[90m     @\u001b[39m \u001b[35mGridapEmbedded.Interfaces\u001b[39m \u001b[90mC:\\Users\\IIT BBSR\\.julia\\packages\\GridapEmbedded\\PIAqm\\src\\Interfaces\\\u001b[39m\u001b[90m\u001b[4mEmbeddedDiscretizations.jl:280\u001b[24m\u001b[39m\n",
       "  [4] Triangulation(::\u001b[1mType\u001b[22m\u001b[0m{ReferenceFE{D}}, \u001b[90mmodel\u001b[39m::\u001b[1mGridapDistributed.DistributedDiscreteModel\u001b[22m; kwargs...) where D\n",
       "\u001b[90m     @\u001b[39m \u001b[32mGridapDistributed\u001b[39m \u001b[90mC:\\Users\\IIT BBSR\\.julia\\packages\\GridapDistributed\\XNMqm\\src\\\u001b[39m\u001b[90m\u001b[4mGeometry.jl:587\u001b[24m\u001b[39m\n",
       "  [5] Triangulation(\u001b[90mcut\u001b[39m::\u001b[1mSTLCutters.STLEmbeddedDiscretization\u001b[22m, \u001b[90margs...\u001b[39m)\n",
       "\u001b[90m     @\u001b[39m \u001b[36mSTLCutters\u001b[39m \u001b[90mC:\\Users\\IIT BBSR\\.julia\\packages\\STLCutters\\oEu9o\\src\\\u001b[39m\u001b[90m\u001b[4mEmbedded.jl:90\u001b[24m\u001b[39m\n",
       "  [6] Triangulation(\u001b[90mportion\u001b[39m, \u001b[90mcutgeo\u001b[39m::\u001b[1mGridapEmbedded.Distributed.DistributedEmbeddedDiscretization\u001b[22m, \u001b[90margs...\u001b[39m)\n",
       "\u001b[90m     @\u001b[39m \u001b[35mGridapEmbedded.Distributed\u001b[39m \u001b[90mC:\\Users\\IIT BBSR\\.julia\\packages\\GridapEmbedded\\PIAqm\\src\\Distributed\\\u001b[39m\u001b[90m\u001b[4mDistributedDiscretizations.jl:75\u001b[24m\u001b[39m\n",
       "  [7] Triangulation(\u001b[90mmodel\u001b[39m::\u001b[1mDiscreteModel\u001b[22m, \u001b[90margs...\u001b[39m; kwargs...)\n",
       "\u001b[90m     @\u001b[39m \u001b[90mC:\\Users\\IIT BBSR\\.julia\\packages\\Gridap\\JD3zW\\src\\Geometry\\\u001b[39m\u001b[90m\u001b[4mTriangulations.jl:216\u001b[24m\u001b[39m\n",
       "  [8] Triangulation(\u001b[90mportion\u001b[39m, \u001b[90mgids\u001b[39m::\u001b[1mPartitionedArrays.AbstractLocalIndices\u001b[22m, \u001b[90mcutgeo\u001b[39m::\u001b[1mGridapEmbedded.Interfaces.AbstractEmbeddedDiscretization\u001b[22m, \u001b[90margs...\u001b[39m)\n",
       "\u001b[90m     @\u001b[39m \u001b[35mGridapEmbedded.Distributed\u001b[39m \u001b[90mC:\\Users\\IIT BBSR\\.julia\\packages\\GridapEmbedded\\PIAqm\\src\\Distributed\\\u001b[39m\u001b[90m\u001b[4mDistributedDiscretizations.jl:84\u001b[24m\u001b[39m\n",
       "  [9] Triangulation(\u001b[90mcutgeo\u001b[39m::\u001b[1mGridapEmbedded.Distributed.DistributedEmbeddedDiscretization\u001b[22m, \u001b[90margs...\u001b[39m)\n",
       "\u001b[90m     @\u001b[39m \u001b[35mGridapEmbedded.Distributed\u001b[39m \u001b[90mC:\\Users\\IIT BBSR\\.julia\\packages\\GridapEmbedded\\PIAqm\\src\\Distributed\\\u001b[39m\u001b[90m\u001b[4mDistributedDiscretizations.jl:71\u001b[24m\u001b[39m\n",
       " [10] Triangulation(\u001b[90mportion\u001b[39m, \u001b[90mcutgeo\u001b[39m::\u001b[1mGridapEmbedded.Distributed.DistributedEmbeddedDiscretization\u001b[22m, \u001b[90mcutinorout\u001b[39m, \u001b[90mgeom\u001b[39m::\u001b[1mGridapEmbedded.Distributed.DistributedDiscreteGeometry\u001b[22m)\n",
       "\u001b[90m     @\u001b[39m \u001b[35mGridapEmbedded.Distributed\u001b[39m \u001b[90mC:\\Users\\IIT BBSR\\.julia\\packages\\GridapEmbedded\\PIAqm\\src\\Distributed\\\u001b[39m\u001b[90m\u001b[4mDistributedDiscreteGeometries.jl:50\u001b[24m\u001b[39m\n",
       " [11] Triangulation(\u001b[90mtrian\u001b[39m::\u001b[1mGridap.Adaptivity.AdaptedTriangulation\u001b[22m, \u001b[90margs...\u001b[39m; kwargs...)\n",
       "\u001b[90m     @\u001b[39m \u001b[35mGridap.Adaptivity\u001b[39m \u001b[90mC:\\Users\\IIT BBSR\\.julia\\packages\\Gridap\\JD3zW\\src\\Adaptivity\\\u001b[39m\u001b[90m\u001b[4mAdaptedTriangulations.jl:97\u001b[24m\u001b[39m\n",
       " [12] Triangulation(\u001b[90mtrian\u001b[39m::\u001b[1mTriangulation\u001b[22m, \u001b[90msface_to_tface\u001b[39m::\u001b[1mAbstractArray\u001b[22m\u001b[0m{<:Integer})\n",
       "\u001b[90m     @\u001b[39m \u001b[90mC:\\Users\\IIT BBSR\\.julia\\packages\\Gridap\\JD3zW\\src\\Geometry\\\u001b[39m\u001b[90m\u001b[4mTriangulations.jl:231\u001b[24m\u001b[39m\n",
       " [13] Triangulation(\u001b[90mtrian\u001b[39m::\u001b[1mTriangulation\u001b[22m, \u001b[90mtface_filter\u001b[39m::\u001b[1mAbstractArray\u001b[22m\u001b[0m{<:Bool})\n",
       "\u001b[90m     @\u001b[39m \u001b[90mC:\\Users\\IIT BBSR\\.julia\\packages\\Gridap\\JD3zW\\src\\Geometry\\\u001b[39m\u001b[90m\u001b[4mTriangulations.jl:235\u001b[24m\u001b[39m\n",
       " [14] Triangulation(\u001b[90mportion\u001b[39m, \u001b[90mgids\u001b[39m::\u001b[1mPartitionedArrays.AbstractLocalIndices\u001b[22m, \u001b[90margs...\u001b[39m; kwargs...)\n",
       "\u001b[90m     @\u001b[39m \u001b[32mGridapDistributed\u001b[39m \u001b[90mC:\\Users\\IIT BBSR\\.julia\\packages\\GridapDistributed\\XNMqm\\src\\\u001b[39m\u001b[90m\u001b[4mGeometry.jl:691\u001b[24m\u001b[39m\n",
       " [15] Triangulation(\u001b[90mcut\u001b[39m::\u001b[1mGridapEmbedded.Interfaces.EmbeddedDiscretization\u001b[22m, \u001b[90min_or_out\u001b[39m, \u001b[90mname\u001b[39m::\u001b[1mString\u001b[22m)\n",
       "\u001b[90m     @\u001b[39m \u001b[35mGridapEmbedded.Interfaces\u001b[39m \u001b[90mC:\\Users\\IIT BBSR\\.julia\\packages\\GridapEmbedded\\PIAqm\\src\\Interfaces\\\u001b[39m\u001b[90m\u001b[4mEmbeddedDiscretizations.jl:292\u001b[24m\u001b[39m\n",
       " [16] Triangulation(\u001b[90mcut\u001b[39m::\u001b[1mGridapEmbedded.Interfaces.EmbeddedDiscretization\u001b[22m, \u001b[90min_or_out\u001b[39m)\n",
       "\u001b[90m     @\u001b[39m \u001b[35mGridapEmbedded.Interfaces\u001b[39m \u001b[90mC:\\Users\\IIT BBSR\\.julia\\packages\\GridapEmbedded\\PIAqm\\src\\Interfaces\\\u001b[39m\u001b[90m\u001b[4mEmbeddedDiscretizations.jl:271\u001b[24m\u001b[39m\n",
       " [17] Triangulation(\u001b[90mportion\u001b[39m, \u001b[90mmodel\u001b[39m::\u001b[1mGridapDistributed.DistributedDiscreteModel\u001b[22m; kwargs...)\n",
       "\u001b[90m     @\u001b[39m \u001b[32mGridapDistributed\u001b[39m \u001b[90mC:\\Users\\IIT BBSR\\.julia\\packages\\GridapDistributed\\XNMqm\\src\\\u001b[39m\u001b[90m\u001b[4mGeometry.jl:591\u001b[24m\u001b[39m\n",
       " [18] Triangulation(\u001b[90mtrian\u001b[39m::\u001b[1mTriangulation\u001b[22m, \u001b[90margs...\u001b[39m; kwargs...)\n",
       "\u001b[90m     @\u001b[39m \u001b[90mC:\\Users\\IIT BBSR\\.julia\\packages\\Gridap\\JD3zW\\src\\Geometry\\\u001b[39m\u001b[90m\u001b[4mTriangulations.jl:221\u001b[24m\u001b[39m\n",
       " [19] Triangulation(\u001b[90mtrian\u001b[39m::\u001b[1mTriangulation\u001b[22m)\n",
       "\u001b[90m     @\u001b[39m \u001b[90mC:\\Users\\IIT BBSR\\.julia\\packages\\Gridap\\JD3zW\\src\\Geometry\\\u001b[39m\u001b[90m\u001b[4mTriangulations.jl:227\u001b[24m\u001b[39m\n",
       " [20] Triangulation(\u001b[90mportion\u001b[39m, ::\u001b[1mType\u001b[22m\u001b[0m{ReferenceFE{D}}, \u001b[90mmodel\u001b[39m::\u001b[1mGridapDistributed.DistributedDiscreteModel\u001b[22m; kwargs...) where D\n",
       "\u001b[90m     @\u001b[39m \u001b[32mGridapDistributed\u001b[39m \u001b[90mC:\\Users\\IIT BBSR\\.julia\\packages\\GridapDistributed\\XNMqm\\src\\\u001b[39m\u001b[90m\u001b[4mGeometry.jl:596\u001b[24m\u001b[39m\n",
       " [21] Triangulation(::\u001b[1mType\u001b[22m\u001b[0m{ReferenceFE{d}}, \u001b[90mmodel\u001b[39m::\u001b[1mGridap.Adaptivity.AdaptedDiscreteModel\u001b[22m, \u001b[90mmface_filter\u001b[39m::\u001b[1mAbstractVector\u001b[22m\u001b[0m{Bool}) where d\n",
       "\u001b[90m     @\u001b[39m \u001b[35mGridap.Adaptivity\u001b[39m \u001b[90mC:\\Users\\IIT BBSR\\.julia\\packages\\Gridap\\JD3zW\\src\\Adaptivity\\\u001b[39m\u001b[90m\u001b[4mAdaptedTriangulations.jl:90\u001b[24m\u001b[39m\n",
       " [22] Triangulation(::\u001b[1mType\u001b[22m\u001b[0m{ReferenceFE{d}}, \u001b[90mmodel\u001b[39m::\u001b[1mDiscreteModel\u001b[22m, \u001b[90mtface_to_mface\u001b[39m::\u001b[1mAbstractVector\u001b[22m\u001b[0m{<:Integer}) where d\n",
       "\u001b[90m     @\u001b[39m \u001b[90mC:\\Users\\IIT BBSR\\.julia\\packages\\Gridap\\JD3zW\\src\\Geometry\\\u001b[39m\u001b[90m\u001b[4mTriangulations.jl:178\u001b[24m\u001b[39m\n",
       " [23] Triangulation(::\u001b[1mType\u001b[22m\u001b[0m{ReferenceFE{d}}, \u001b[90mmodel\u001b[39m::\u001b[1mDiscreteModel\u001b[22m, \u001b[90mmface_filter\u001b[39m::\u001b[1mAbstractVector\u001b[22m\u001b[0m{Bool}) where d\n",
       "\u001b[90m     @\u001b[39m \u001b[90mC:\\Users\\IIT BBSR\\.julia\\packages\\Gridap\\JD3zW\\src\\Geometry\\\u001b[39m\u001b[90m\u001b[4mTriangulations.jl:193\u001b[24m\u001b[39m\n",
       " [24] Triangulation(::\u001b[1mType\u001b[22m\u001b[0m{ReferenceFE{d}}, \u001b[90mmodel\u001b[39m::\u001b[1mGridap.Adaptivity.AdaptedDiscreteModel\u001b[22m, \u001b[90mtface_to_mface\u001b[39m::\u001b[1mAbstractVector\u001b[22m\u001b[0m{<:Integer}) where d\n",
       "\u001b[90m     @\u001b[39m \u001b[35mGridap.Adaptivity\u001b[39m \u001b[90mC:\\Users\\IIT BBSR\\.julia\\packages\\Gridap\\JD3zW\\src\\Adaptivity\\\u001b[39m\u001b[90m\u001b[4mAdaptedTriangulations.jl:76\u001b[24m\u001b[39m\n",
       " [25] Triangulation(::\u001b[1mType\u001b[22m\u001b[0m{ReferenceFE{d}}, \u001b[90mmodel\u001b[39m::\u001b[1mGridap.Adaptivity.AdaptedDiscreteModel\u001b[22m, \u001b[90margs...\u001b[39m; kwargs...) where d\n",
       "\u001b[90m     @\u001b[39m \u001b[35mGridap.Adaptivity\u001b[39m \u001b[90mC:\\Users\\IIT BBSR\\.julia\\packages\\Gridap\\JD3zW\\src\\Adaptivity\\\u001b[39m\u001b[90m\u001b[4mAdaptedTriangulations.jl:71\u001b[24m\u001b[39m\n",
       " [26] Triangulation(::\u001b[1mType\u001b[22m\u001b[0m{ReferenceFE{d}}, \u001b[90mmodel\u001b[39m::\u001b[1mDiscreteModel\u001b[22m, \u001b[90mmface_filter\u001b[39m::\u001b[1mAbstractArray\u001b[22m\u001b[0m{Bool}) where d\n",
       "\u001b[90m     @\u001b[39m \u001b[90mC:\\Users\\IIT BBSR\\.julia\\packages\\Gridap\\JD3zW\\src\\Geometry\\\u001b[39m\u001b[90m\u001b[4mTriangulations.jl:186\u001b[24m\u001b[39m\n",
       " [27] Triangulation(::\u001b[1mType\u001b[22m\u001b[0m{ReferenceFE{d}}, \u001b[90mmodel\u001b[39m::\u001b[1mGridap.Adaptivity.AdaptedDiscreteModel\u001b[22m, \u001b[90mmface_filter\u001b[39m::\u001b[1mAbstractArray\u001b[22m\u001b[0m{Bool}) where d\n",
       "\u001b[90m     @\u001b[39m \u001b[35mGridap.Adaptivity\u001b[39m \u001b[90mC:\\Users\\IIT BBSR\\.julia\\packages\\Gridap\\JD3zW\\src\\Adaptivity\\\u001b[39m\u001b[90m\u001b[4mAdaptedTriangulations.jl:83\u001b[24m\u001b[39m\n",
       " [28] Triangulation(::\u001b[1mType\u001b[22m\u001b[0m{ReferenceFE{d}}, \u001b[90mmodel\u001b[39m::\u001b[1mDiscreteModel\u001b[22m, \u001b[90mlabels\u001b[39m::\u001b[1mFaceLabeling\u001b[22m; tags) where d\n",
       "\u001b[90m     @\u001b[39m \u001b[90mC:\\Users\\IIT BBSR\\.julia\\packages\\Gridap\\JD3zW\\src\\Geometry\\\u001b[39m\u001b[90m\u001b[4mTriangulations.jl:200\u001b[24m\u001b[39m\n",
       " [29] Triangulation(::\u001b[1mType\u001b[22m\u001b[0m{ReferenceFE{d}}, \u001b[90mmodel\u001b[39m::\u001b[1mDiscreteModel\u001b[22m; kwargs...) where d\n",
       "\u001b[90m     @\u001b[39m \u001b[90mC:\\Users\\IIT BBSR\\.julia\\packages\\Gridap\\JD3zW\\src\\Geometry\\\u001b[39m\u001b[90m\u001b[4mTriangulations.jl:211\u001b[24m\u001b[39m\n",
       " [30] Triangulation(\u001b[90mmodel\u001b[39m::\u001b[1mGridapDistributed.DistributedDiscreteModel\u001b[22m; kwargs...)\n",
       "\u001b[90m     @\u001b[39m \u001b[32mGridapDistributed\u001b[39m \u001b[90mC:\\Users\\IIT BBSR\\.julia\\packages\\GridapDistributed\\XNMqm\\src\\\u001b[39m\u001b[90m\u001b[4mGeometry.jl:582\u001b[24m\u001b[39m\n",
       " [31] Triangulation(\u001b[90mPD\u001b[39m::\u001b[1mGridapSolvers.PatchBasedSmoothers.PatchDecomposition\u001b[22m)\n",
       "\u001b[90m     @\u001b[39m \u001b[36mGridapSolvers.PatchBasedSmoothers\u001b[39m \u001b[90mC:\\Users\\IIT BBSR\\.julia\\packages\\GridapSolvers\\gwyZl\\src\\PatchBasedSmoothers\\\u001b[39m\u001b[90m\u001b[4mPatchTriangulations.jl:58\u001b[24m\u001b[39m\n",
       " [32] Triangulation(\u001b[90mcut\u001b[39m::\u001b[1mGridapEmbedded.Interfaces.EmbeddedDiscretization\u001b[22m, \u001b[90min_or_out\u001b[39m::\u001b[1mGridapEmbedded.Interfaces.CutInOrOut\u001b[22m, \u001b[90mgeo\u001b[39m::\u001b[1mGridapEmbedded.CSG.Geometry\u001b[22m)\n",
       "\u001b[90m     @\u001b[39m \u001b[35mGridapEmbedded.Interfaces\u001b[39m \u001b[90mC:\\Users\\IIT BBSR\\.julia\\packages\\GridapEmbedded\\PIAqm\\src\\Interfaces\\\u001b[39m\u001b[90m\u001b[4mEmbeddedDiscretizations.jl:303\u001b[24m\u001b[39m\n",
       " [33] Triangulation(\u001b[90mcut\u001b[39m::\u001b[1mGridapEmbedded.Interfaces.EmbeddedDiscretization\u001b[22m, \u001b[90min_or_out\u001b[39m::\u001b[1mGridapEmbedded.Interfaces.ActiveInOrOut\u001b[22m, \u001b[90mgeo\u001b[39m::\u001b[1mGridapEmbedded.CSG.Geometry\u001b[22m)\n",
       "\u001b[90m     @\u001b[39m \u001b[35mGridapEmbedded.Interfaces\u001b[39m \u001b[90mC:\\Users\\IIT BBSR\\.julia\\packages\\GridapEmbedded\\PIAqm\\src\\Interfaces\\\u001b[39m\u001b[90m\u001b[4mEmbeddedDiscretizations.jl:319\u001b[24m\u001b[39m\n",
       " [34] Triangulation(\u001b[90mcut\u001b[39m::\u001b[1mGridapEmbedded.Interfaces.EmbeddedDiscretization\u001b[22m, \u001b[90min_or_out\u001b[39m::\u001b[1mInteger\u001b[22m, \u001b[90mgeo\u001b[39m::\u001b[1mGridapEmbedded.CSG.Geometry\u001b[22m)\n",
       "\u001b[90m     @\u001b[39m \u001b[35mGridapEmbedded.Interfaces\u001b[39m \u001b[90mC:\\Users\\IIT BBSR\\.julia\\packages\\GridapEmbedded\\PIAqm\\src\\Interfaces\\\u001b[39m\u001b[90m\u001b[4mEmbeddedDiscretizations.jl:313\u001b[24m\u001b[39m\n",
       " [35] Triangulation(\u001b[90mcut\u001b[39m::\u001b[1mGridapEmbedded.Interfaces.EmbeddedDiscretization\u001b[22m, \u001b[90min_or_out\u001b[39m::\u001b[1mTuple\u001b[22m, \u001b[90mgeo\u001b[39m::\u001b[1mGridapEmbedded.CSG.Geometry\u001b[22m)\n",
       "\u001b[90m     @\u001b[39m \u001b[35mGridapEmbedded.Interfaces\u001b[39m \u001b[90mC:\\Users\\IIT BBSR\\.julia\\packages\\GridapEmbedded\\PIAqm\\src\\Interfaces\\\u001b[39m\u001b[90m\u001b[4mEmbeddedDiscretizations.jl:297\u001b[24m\u001b[39m\n",
       " [36] Triangulation(\u001b[90mcut\u001b[39m::\u001b[1mGridapEmbedded.Interfaces.EmbeddedDiscretization\u001b[22m)\n",
       "\u001b[90m     @\u001b[39m \u001b[35mGridapEmbedded.Interfaces\u001b[39m \u001b[90mC:\\Users\\IIT BBSR\\.julia\\packages\\GridapEmbedded\\PIAqm\\src\\Interfaces\\\u001b[39m\u001b[90m\u001b[4mEmbeddedDiscretizations.jl:255\u001b[24m\u001b[39m\n",
       " [37] Triangulation(\u001b[90ma\u001b[39m::\u001b[1mGridapSolvers.PatchBasedSmoothers.DistributedPatchDecomposition\u001b[22m)\n",
       "\u001b[90m     @\u001b[39m \u001b[36mGridapSolvers.PatchBasedSmoothers\u001b[39m \u001b[90mC:\\Users\\IIT BBSR\\.julia\\packages\\GridapSolvers\\gwyZl\\src\\PatchBasedSmoothers\\\u001b[39m\u001b[90m\u001b[4mDistributedPatchDecompositions.jl:60\u001b[24m\u001b[39m"
      ]
     },
     "metadata": {},
     "output_type": "display_data"
    }
   ],
   "source": [
    "using Gridap.Geometry\n",
    "@which Triangulation\n",
    "methods(Triangulation)"
   ]
  },
  {
   "cell_type": "code",
   "execution_count": 24,
   "id": "9e9199bd",
   "metadata": {},
   "outputs": [
    {
     "data": {
      "text/html": [
       "# 34 methods for type constructor:<ul><li> BoundaryTriangulation(cut::<b>GridapEmbedded.Interfaces.EmbeddedFacetDiscretization</b>, name::<b>String</b>; <i>tags</i>) in GridapEmbedded.Interfaces at <a href=\"file://C:/Users/IIT BBSR/.julia/packages/GridapEmbedded/PIAqm/src/Interfaces/EmbeddedFacetDiscretizations.jl\" target=\"_blank\">C:\\Users\\IIT BBSR\\.julia\\packages\\GridapEmbedded\\PIAqm\\src\\Interfaces\\EmbeddedFacetDiscretizations.jl:120</a></li> <li> BoundaryTriangulation(cut::<b>GridapEmbedded.Interfaces.EmbeddedFacetDiscretization</b>, geo::<b>GridapEmbedded.CSG.Geometry</b>; <i>tags</i>) in GridapEmbedded.Interfaces at <a href=\"file://C:/Users/IIT BBSR/.julia/packages/GridapEmbedded/PIAqm/src/Interfaces/EmbeddedFacetDiscretizations.jl\" target=\"_blank\">C:\\Users\\IIT BBSR\\.julia\\packages\\GridapEmbedded\\PIAqm\\src\\Interfaces\\EmbeddedFacetDiscretizations.jl:127</a></li> <li> BoundaryTriangulation(face_trian::<b>GridapEmbedded.Interfaces.SubFacetTriangulation</b>) in GridapEmbedded.Interfaces at <a href=\"file://C:/Users/IIT BBSR/.julia/packages/GridapEmbedded/PIAqm/src/Interfaces/CutFaceBoundaryTriangulations.jl\" target=\"_blank\">C:\\Users\\IIT BBSR\\.julia\\packages\\GridapEmbedded\\PIAqm\\src\\Interfaces\\CutFaceBoundaryTriangulations.jl:141</a></li> <li> BoundaryTriangulation(facets::<b>BoundaryTriangulation</b>, cut::<b>GridapEmbedded.Interfaces.EmbeddedFacetDiscretization</b>, in_or_out::<b>Tuple</b>, geo::<b>GridapEmbedded.CSG.Geometry</b>) in GridapEmbedded.Interfaces at <a href=\"file://C:/Users/IIT BBSR/.julia/packages/GridapEmbedded/PIAqm/src/Interfaces/EmbeddedFacetDiscretizations.jl\" target=\"_blank\">C:\\Users\\IIT BBSR\\.julia\\packages\\GridapEmbedded\\PIAqm\\src\\Interfaces\\EmbeddedFacetDiscretizations.jl:155</a></li> <li> BoundaryTriangulation(facets::<b>BoundaryTriangulation</b>, cut::<b>GridapEmbedded.Interfaces.EmbeddedFacetDiscretization</b>, in_or_out::<b>Integer</b>, geo::<b>GridapEmbedded.CSG.Geometry</b>) in GridapEmbedded.Interfaces at <a href=\"file://C:/Users/IIT BBSR/.julia/packages/GridapEmbedded/PIAqm/src/Interfaces/EmbeddedFacetDiscretizations.jl\" target=\"_blank\">C:\\Users\\IIT BBSR\\.julia\\packages\\GridapEmbedded\\PIAqm\\src\\Interfaces\\EmbeddedFacetDiscretizations.jl:166</a></li> <li> BoundaryTriangulation(facets::<b>BoundaryTriangulation</b>, cut::<b>GridapEmbedded.Interfaces.EmbeddedFacetDiscretization</b>, in_or_out::<b>GridapEmbedded.Interfaces.ActiveInOrOut</b>, geo::<b>GridapEmbedded.CSG.Geometry</b>) in GridapEmbedded.Interfaces at <a href=\"file://C:/Users/IIT BBSR/.julia/packages/GridapEmbedded/PIAqm/src/Interfaces/EmbeddedFacetDiscretizations.jl\" target=\"_blank\">C:\\Users\\IIT BBSR\\.julia\\packages\\GridapEmbedded\\PIAqm\\src\\Interfaces\\EmbeddedFacetDiscretizations.jl:177</a></li> <li> BoundaryTriangulation(_facets::<b>BoundaryTriangulation</b>, cut::<b>GridapEmbedded.Interfaces.EmbeddedFacetDiscretization</b>, in_or_out::<b>GridapEmbedded.Interfaces.CutInOrOut</b>, geo::<b>GridapEmbedded.CSG.Geometry</b>) in GridapEmbedded.Interfaces at <a href=\"file://C:/Users/IIT BBSR/.julia/packages/GridapEmbedded/PIAqm/src/Interfaces/EmbeddedFacetDiscretizations.jl\" target=\"_blank\">C:\\Users\\IIT BBSR\\.julia\\packages\\GridapEmbedded\\PIAqm\\src\\Interfaces\\EmbeddedFacetDiscretizations.jl:188</a></li> <li> BoundaryTriangulation(cutgeo::<b>GridapEmbedded.Distributed.DistributedEmbeddedDiscretization</b>, args...) in GridapEmbedded.Distributed at <a href=\"file://C:/Users/IIT BBSR/.julia/packages/GridapEmbedded/PIAqm/src/Distributed/DistributedDiscretizations.jl\" target=\"_blank\">C:\\Users\\IIT BBSR\\.julia\\packages\\GridapEmbedded\\PIAqm\\src\\Distributed\\DistributedDiscretizations.jl:71</a></li> <li> BoundaryTriangulation(portion, trian::<b>GridapDistributed.DistributedTriangulation</b>; <i>kwargs...</i>) in GridapDistributed at <a href=\"file://C:/Users/IIT BBSR/.julia/packages/GridapDistributed/XNMqm/src/Geometry.jl\" target=\"_blank\">C:\\Users\\IIT BBSR\\.julia\\packages\\GridapDistributed\\XNMqm\\src\\Geometry.jl:665</a></li> <li> BoundaryTriangulation(cut::<b>GridapEmbedded.Interfaces.EmbeddedFacetDiscretization</b>, in_or_out; <i>tags</i>) in GridapEmbedded.Interfaces at <a href=\"file://C:/Users/IIT BBSR/.julia/packages/GridapEmbedded/PIAqm/src/Interfaces/EmbeddedFacetDiscretizations.jl\" target=\"_blank\">C:\\Users\\IIT BBSR\\.julia\\packages\\GridapEmbedded\\PIAqm\\src\\Interfaces\\EmbeddedFacetDiscretizations.jl:110</a></li> <li> BoundaryTriangulation(portion, gids::<b>PartitionedArrays.AbstractLocalIndices</b>, args...; <i>kwargs...</i>) in GridapDistributed at <a href=\"file://C:/Users/IIT BBSR/.julia/packages/GridapDistributed/XNMqm/src/Geometry.jl\" target=\"_blank\">C:\\Users\\IIT BBSR\\.julia\\packages\\GridapDistributed\\XNMqm\\src\\Geometry.jl:696</a></li> <li> BoundaryTriangulation(model::<b>DiscreteModel</b>, face_to_bgface::<b>AbstractVector{<:Integer}</b>) in Gridap.Geometry at <a href=\"file://C:/Users/IIT BBSR/.julia/packages/Gridap/JD3zW/src/Geometry/BoundaryTriangulations.jl\" target=\"_blank\">C:\\Users\\IIT BBSR\\.julia\\packages\\Gridap\\JD3zW\\src\\Geometry\\BoundaryTriangulations.jl:164</a></li> <li> BoundaryTriangulation(model::<b>DiscreteModel</b>, bgface_to_mask::<b>AbstractVector{Bool}</b>) in Gridap.Geometry at <a href=\"file://C:/Users/IIT BBSR/.julia/packages/Gridap/JD3zW/src/Geometry/BoundaryTriangulations.jl\" target=\"_blank\">C:\\Users\\IIT BBSR\\.julia\\packages\\Gridap\\JD3zW\\src\\Geometry\\BoundaryTriangulations.jl:179</a></li> <li> BoundaryTriangulation(model::<b>Gridap.Adaptivity.AdaptedDiscreteModel</b>, args...; <i>kwargs...</i>) in Gridap.Adaptivity at <a href=\"file://C:/Users/IIT BBSR/.julia/packages/Gridap/JD3zW/src/Adaptivity/AdaptedTriangulations.jl\" target=\"_blank\">C:\\Users\\IIT BBSR\\.julia\\packages\\Gridap\\JD3zW\\src\\Adaptivity\\AdaptedTriangulations.jl:101</a></li> <li> BoundaryTriangulation(model::<b>DiscreteModel</b>, labeling::<b>FaceLabeling</b>; <i>tags</i>) in Gridap.Geometry at <a href=\"file://C:/Users/IIT BBSR/.julia/packages/Gridap/JD3zW/src/Geometry/BoundaryTriangulations.jl\" target=\"_blank\">C:\\Users\\IIT BBSR\\.julia\\packages\\Gridap\\JD3zW\\src\\Geometry\\BoundaryTriangulations.jl:190</a></li> <li> BoundaryTriangulation(model::<b>DiscreteModel</b>, bgface_to_mask::<b>AbstractVector{Bool}</b>, lcell::<b>Integer</b>) in Gridap.Geometry at <a href=\"file://C:/Users/IIT BBSR/.julia/packages/Gridap/JD3zW/src/Geometry/BoundaryTriangulations.jl\" target=\"_blank\">C:\\Users\\IIT BBSR\\.julia\\packages\\Gridap\\JD3zW\\src\\Geometry\\BoundaryTriangulations.jl:179</a></li> <li> BoundaryTriangulation(model::<b>DiscreteModel</b>, bgface_to_mask::<b>AbstractVector{Bool}</b>, bgface_to_lcell::<b>AbstractVector{<:Integer}</b>) in Gridap.Geometry at <a href=\"file://C:/Users/IIT BBSR/.julia/packages/Gridap/JD3zW/src/Geometry/BoundaryTriangulations.jl\" target=\"_blank\">C:\\Users\\IIT BBSR\\.julia\\packages\\Gridap\\JD3zW\\src\\Geometry\\BoundaryTriangulations.jl:170</a></li> <li> BoundaryTriangulation(model::<b>DiscreteModel</b>, face_to_bgface::<b>AbstractVector{<:Integer}</b>, bgface_to_lcell::<b>AbstractVector{<:Integer}</b>) in Gridap.Geometry at <a href=\"file://C:/Users/IIT BBSR/.julia/packages/Gridap/JD3zW/src/Geometry/BoundaryTriangulations.jl\" target=\"_blank\">C:\\Users\\IIT BBSR\\.julia\\packages\\Gridap\\JD3zW\\src\\Geometry\\BoundaryTriangulations.jl:147</a></li> <li> BoundaryTriangulation(portion, gids::<b>PartitionedArrays.AbstractLocalIndices</b>, cutgeo::<b>GridapEmbedded.Interfaces.AbstractEmbeddedDiscretization</b>, args...) in GridapEmbedded.Distributed at <a href=\"file://C:/Users/IIT BBSR/.julia/packages/GridapEmbedded/PIAqm/src/Distributed/DistributedDiscretizations.jl\" target=\"_blank\">C:\\Users\\IIT BBSR\\.julia\\packages\\GridapEmbedded\\PIAqm\\src\\Distributed\\DistributedDiscretizations.jl:84</a></li> <li> BoundaryTriangulation(model::<b>GridapDistributed.DistributedDiscreteModel</b>, args...; <i>kwargs...</i>) in GridapDistributed at <a href=\"file://C:/Users/IIT BBSR/.julia/packages/GridapDistributed/XNMqm/src/Geometry.jl\" target=\"_blank\">C:\\Users\\IIT BBSR\\.julia\\packages\\GridapDistributed\\XNMqm\\src\\Geometry.jl:606</a></li> <li> BoundaryTriangulation(portion, cutgeo::<b>GridapEmbedded.Distributed.DistributedEmbeddedDiscretization</b>, args...) in GridapEmbedded.Distributed at <a href=\"file://C:/Users/IIT BBSR/.julia/packages/GridapEmbedded/PIAqm/src/Distributed/DistributedDiscretizations.jl\" target=\"_blank\">C:\\Users\\IIT BBSR\\.julia\\packages\\GridapEmbedded\\PIAqm\\src\\Distributed\\DistributedDiscretizations.jl:75</a></li> <li> BoundaryTriangulation(cut::<b>GridapEmbedded.Interfaces.EmbeddedFacetDiscretization</b>, in_or_out, name::<b>String</b>; <i>tags</i>) in GridapEmbedded.Interfaces at <a href=\"file://C:/Users/IIT BBSR/.julia/packages/GridapEmbedded/PIAqm/src/Interfaces/EmbeddedFacetDiscretizations.jl\" target=\"_blank\">C:\\Users\\IIT BBSR\\.julia\\packages\\GridapEmbedded\\PIAqm\\src\\Interfaces\\EmbeddedFacetDiscretizations.jl:134</a></li> <li> BoundaryTriangulation(cut::<b>GridapEmbedded.Interfaces.EmbeddedFacetDiscretization</b>, in_or_out, geo::<b>GridapEmbedded.CSG.Geometry</b>; <i>tags</i>) in GridapEmbedded.Interfaces at <a href=\"file://C:/Users/IIT BBSR/.julia/packages/GridapEmbedded/PIAqm/src/Interfaces/EmbeddedFacetDiscretizations.jl\" target=\"_blank\">C:\\Users\\IIT BBSR\\.julia\\packages\\GridapEmbedded\\PIAqm\\src\\Interfaces\\EmbeddedFacetDiscretizations.jl:145</a></li> <li> BoundaryTriangulation(rtrian::<b>Triangulation</b>, args...; <i>kwargs...</i>) in Gridap.Geometry at <a href=\"file://C:/Users/IIT BBSR/.julia/packages/Gridap/JD3zW/src/Geometry/BoundaryTriangulations.jl\" target=\"_blank\">C:\\Users\\IIT BBSR\\.julia\\packages\\Gridap\\JD3zW\\src\\Geometry\\BoundaryTriangulations.jl:212</a></li> <li> BoundaryTriangulation(trian::<b>BodyFittedTriangulation</b>, glue) in Gridap.Geometry at <a href=\"file://C:/Users/IIT BBSR/.julia/packages/Gridap/JD3zW/src/Geometry/BoundaryTriangulations.jl\" target=\"_blank\">C:\\Users\\IIT BBSR\\.julia\\packages\\Gridap\\JD3zW\\src\\Geometry\\BoundaryTriangulations.jl:125</a></li> <li> BoundaryTriangulation(portion, model::<b>GridapDistributed.DistributedDiscreteModel</b>; <i>kwargs...</i>) in GridapDistributed at <a href=\"file://C:/Users/IIT BBSR/.julia/packages/GridapDistributed/XNMqm/src/Geometry.jl\" target=\"_blank\">C:\\Users\\IIT BBSR\\.julia\\packages\\GridapDistributed\\XNMqm\\src\\Geometry.jl:614</a></li> <li> BoundaryTriangulation(a::<b>GridapSolvers.PatchBasedSmoothers.DistributedPatchDecomposition</b>, args...; <i>kwargs...</i>) in GridapSolvers.PatchBasedSmoothers at <a href=\"file://C:/Users/IIT BBSR/.julia/packages/GridapSolvers/gwyZl/src/PatchBasedSmoothers/DistributedPatchDecompositions.jl\" target=\"_blank\">C:\\Users\\IIT BBSR\\.julia\\packages\\GridapSolvers\\gwyZl\\src\\PatchBasedSmoothers\\DistributedPatchDecompositions.jl:67</a></li> <li> BoundaryTriangulation(portion, cutgeo::<b>GridapEmbedded.Distributed.DistributedEmbeddedDiscretization</b>, cutinorout, geom::<b>GridapEmbedded.Distributed.DistributedDiscreteGeometry</b>) in GridapEmbedded.Distributed at <a href=\"file://C:/Users/IIT BBSR/.julia/packages/GridapEmbedded/PIAqm/src/Distributed/DistributedDiscreteGeometries.jl\" target=\"_blank\">C:\\Users\\IIT BBSR\\.julia\\packages\\GridapEmbedded\\PIAqm\\src\\Distributed\\DistributedDiscreteGeometries.jl:50</a></li> <li> BoundaryTriangulation(portion, model::<b>GridapDistributed.DistributedDiscreteModel</b>, face_to_mask::<b>AbstractArray</b>) in GridapDistributed at <a href=\"file://C:/Users/IIT BBSR/.julia/packages/GridapDistributed/XNMqm/src/Geometry.jl\" target=\"_blank\">C:\\Users\\IIT BBSR\\.julia\\packages\\GridapDistributed\\XNMqm\\src\\Geometry.jl:632</a></li> <li> BoundaryTriangulation(portion, model::<b>GridapDistributed.DistributedDiscreteModel</b>, labels::<b>GridapDistributed.DistributedFaceLabeling</b>; <i>tags</i>) in GridapDistributed at <a href=\"file://C:/Users/IIT BBSR/.julia/packages/GridapDistributed/XNMqm/src/Geometry.jl\" target=\"_blank\">C:\\Users\\IIT BBSR\\.julia\\packages\\GridapDistributed\\XNMqm\\src\\Geometry.jl:620</a></li> <li> BoundaryTriangulation(model::<b>DiscreteModel</b>; <i>tags</i>) in Gridap.Geometry at <a href=\"file://C:/Users/IIT BBSR/.julia/packages/Gridap/JD3zW/src/Geometry/BoundaryTriangulations.jl\" target=\"_blank\">C:\\Users\\IIT BBSR\\.julia\\packages\\Gridap\\JD3zW\\src\\Geometry\\BoundaryTriangulations.jl:207</a></li> <li> BoundaryTriangulation(cut::<b>GridapEmbedded.Interfaces.EmbeddedFacetDiscretization</b>; <i>tags</i>) in GridapEmbedded.Interfaces at <a href=\"file://C:/Users/IIT BBSR/.julia/packages/GridapEmbedded/PIAqm/src/Interfaces/EmbeddedFacetDiscretizations.jl\" target=\"_blank\">C:\\Users\\IIT BBSR\\.julia\\packages\\GridapEmbedded\\PIAqm\\src\\Interfaces\\EmbeddedFacetDiscretizations.jl:101</a></li> <li> BoundaryTriangulation(trian::<b>GridapDistributed.DistributedTriangulation</b>; <i>kwargs...</i>) in GridapDistributed at <a href=\"file://C:/Users/IIT BBSR/.julia/packages/GridapDistributed/XNMqm/src/Geometry.jl\" target=\"_blank\">C:\\Users\\IIT BBSR\\.julia\\packages\\GridapDistributed\\XNMqm\\src\\Geometry.jl:610</a></li> <li> BoundaryTriangulation(PD::<b>GridapSolvers.PatchBasedSmoothers.PatchDecomposition{Dr, Dc}</b>; <i>tags, reverse</i>)<i> where {Dr, Dc}</i> in GridapSolvers.PatchBasedSmoothers at <a href=\"file://C:/Users/IIT BBSR/.julia/packages/GridapSolvers/gwyZl/src/PatchBasedSmoothers/PatchTriangulations.jl\" target=\"_blank\">C:\\Users\\IIT BBSR\\.julia\\packages\\GridapSolvers\\gwyZl\\src\\PatchBasedSmoothers\\PatchTriangulations.jl:66</a></li> </ul>"
      ],
      "text/plain": [
       "# 34 methods for type constructor:\n",
       "  [1] BoundaryTriangulation(\u001b[90mcut\u001b[39m::\u001b[1mGridapEmbedded.Interfaces.EmbeddedFacetDiscretization\u001b[22m, \u001b[90mname\u001b[39m::\u001b[1mString\u001b[22m; tags)\n",
       "\u001b[90m     @\u001b[39m \u001b[35mGridapEmbedded.Interfaces\u001b[39m \u001b[90mC:\\Users\\IIT BBSR\\.julia\\packages\\GridapEmbedded\\PIAqm\\src\\Interfaces\\\u001b[39m\u001b[90m\u001b[4mEmbeddedFacetDiscretizations.jl:120\u001b[24m\u001b[39m\n",
       "  [2] BoundaryTriangulation(\u001b[90mcut\u001b[39m::\u001b[1mGridapEmbedded.Interfaces.EmbeddedFacetDiscretization\u001b[22m, \u001b[90mgeo\u001b[39m::\u001b[1mGridapEmbedded.CSG.Geometry\u001b[22m; tags)\n",
       "\u001b[90m     @\u001b[39m \u001b[35mGridapEmbedded.Interfaces\u001b[39m \u001b[90mC:\\Users\\IIT BBSR\\.julia\\packages\\GridapEmbedded\\PIAqm\\src\\Interfaces\\\u001b[39m\u001b[90m\u001b[4mEmbeddedFacetDiscretizations.jl:127\u001b[24m\u001b[39m\n",
       "  [3] BoundaryTriangulation(\u001b[90mface_trian\u001b[39m::\u001b[1mGridapEmbedded.Interfaces.SubFacetTriangulation\u001b[22m)\n",
       "\u001b[90m     @\u001b[39m \u001b[35mGridapEmbedded.Interfaces\u001b[39m \u001b[90mC:\\Users\\IIT BBSR\\.julia\\packages\\GridapEmbedded\\PIAqm\\src\\Interfaces\\\u001b[39m\u001b[90m\u001b[4mCutFaceBoundaryTriangulations.jl:141\u001b[24m\u001b[39m\n",
       "  [4] BoundaryTriangulation(\u001b[90mfacets\u001b[39m::\u001b[1mBoundaryTriangulation\u001b[22m, \u001b[90mcut\u001b[39m::\u001b[1mGridapEmbedded.Interfaces.EmbeddedFacetDiscretization\u001b[22m, \u001b[90min_or_out\u001b[39m::\u001b[1mTuple\u001b[22m, \u001b[90mgeo\u001b[39m::\u001b[1mGridapEmbedded.CSG.Geometry\u001b[22m)\n",
       "\u001b[90m     @\u001b[39m \u001b[35mGridapEmbedded.Interfaces\u001b[39m \u001b[90mC:\\Users\\IIT BBSR\\.julia\\packages\\GridapEmbedded\\PIAqm\\src\\Interfaces\\\u001b[39m\u001b[90m\u001b[4mEmbeddedFacetDiscretizations.jl:155\u001b[24m\u001b[39m\n",
       "  [5] BoundaryTriangulation(\u001b[90mfacets\u001b[39m::\u001b[1mBoundaryTriangulation\u001b[22m, \u001b[90mcut\u001b[39m::\u001b[1mGridapEmbedded.Interfaces.EmbeddedFacetDiscretization\u001b[22m, \u001b[90min_or_out\u001b[39m::\u001b[1mInteger\u001b[22m, \u001b[90mgeo\u001b[39m::\u001b[1mGridapEmbedded.CSG.Geometry\u001b[22m)\n",
       "\u001b[90m     @\u001b[39m \u001b[35mGridapEmbedded.Interfaces\u001b[39m \u001b[90mC:\\Users\\IIT BBSR\\.julia\\packages\\GridapEmbedded\\PIAqm\\src\\Interfaces\\\u001b[39m\u001b[90m\u001b[4mEmbeddedFacetDiscretizations.jl:166\u001b[24m\u001b[39m\n",
       "  [6] BoundaryTriangulation(\u001b[90mfacets\u001b[39m::\u001b[1mBoundaryTriangulation\u001b[22m, \u001b[90mcut\u001b[39m::\u001b[1mGridapEmbedded.Interfaces.EmbeddedFacetDiscretization\u001b[22m, \u001b[90min_or_out\u001b[39m::\u001b[1mGridapEmbedded.Interfaces.ActiveInOrOut\u001b[22m, \u001b[90mgeo\u001b[39m::\u001b[1mGridapEmbedded.CSG.Geometry\u001b[22m)\n",
       "\u001b[90m     @\u001b[39m \u001b[35mGridapEmbedded.Interfaces\u001b[39m \u001b[90mC:\\Users\\IIT BBSR\\.julia\\packages\\GridapEmbedded\\PIAqm\\src\\Interfaces\\\u001b[39m\u001b[90m\u001b[4mEmbeddedFacetDiscretizations.jl:177\u001b[24m\u001b[39m\n",
       "  [7] BoundaryTriangulation(\u001b[90m_facets\u001b[39m::\u001b[1mBoundaryTriangulation\u001b[22m, \u001b[90mcut\u001b[39m::\u001b[1mGridapEmbedded.Interfaces.EmbeddedFacetDiscretization\u001b[22m, \u001b[90min_or_out\u001b[39m::\u001b[1mGridapEmbedded.Interfaces.CutInOrOut\u001b[22m, \u001b[90mgeo\u001b[39m::\u001b[1mGridapEmbedded.CSG.Geometry\u001b[22m)\n",
       "\u001b[90m     @\u001b[39m \u001b[35mGridapEmbedded.Interfaces\u001b[39m \u001b[90mC:\\Users\\IIT BBSR\\.julia\\packages\\GridapEmbedded\\PIAqm\\src\\Interfaces\\\u001b[39m\u001b[90m\u001b[4mEmbeddedFacetDiscretizations.jl:188\u001b[24m\u001b[39m\n",
       "  [8] BoundaryTriangulation(\u001b[90mcutgeo\u001b[39m::\u001b[1mGridapEmbedded.Distributed.DistributedEmbeddedDiscretization\u001b[22m, \u001b[90margs...\u001b[39m)\n",
       "\u001b[90m     @\u001b[39m \u001b[35mGridapEmbedded.Distributed\u001b[39m \u001b[90mC:\\Users\\IIT BBSR\\.julia\\packages\\GridapEmbedded\\PIAqm\\src\\Distributed\\\u001b[39m\u001b[90m\u001b[4mDistributedDiscretizations.jl:71\u001b[24m\u001b[39m\n",
       "  [9] BoundaryTriangulation(\u001b[90mportion\u001b[39m, \u001b[90mtrian\u001b[39m::\u001b[1mGridapDistributed.DistributedTriangulation\u001b[22m; kwargs...)\n",
       "\u001b[90m     @\u001b[39m \u001b[32mGridapDistributed\u001b[39m \u001b[90mC:\\Users\\IIT BBSR\\.julia\\packages\\GridapDistributed\\XNMqm\\src\\\u001b[39m\u001b[90m\u001b[4mGeometry.jl:665\u001b[24m\u001b[39m\n",
       " [10] BoundaryTriangulation(\u001b[90mcut\u001b[39m::\u001b[1mGridapEmbedded.Interfaces.EmbeddedFacetDiscretization\u001b[22m, \u001b[90min_or_out\u001b[39m; tags)\n",
       "\u001b[90m     @\u001b[39m \u001b[35mGridapEmbedded.Interfaces\u001b[39m \u001b[90mC:\\Users\\IIT BBSR\\.julia\\packages\\GridapEmbedded\\PIAqm\\src\\Interfaces\\\u001b[39m\u001b[90m\u001b[4mEmbeddedFacetDiscretizations.jl:110\u001b[24m\u001b[39m\n",
       " [11] BoundaryTriangulation(\u001b[90mportion\u001b[39m, \u001b[90mgids\u001b[39m::\u001b[1mPartitionedArrays.AbstractLocalIndices\u001b[22m, \u001b[90margs...\u001b[39m; kwargs...)\n",
       "\u001b[90m     @\u001b[39m \u001b[32mGridapDistributed\u001b[39m \u001b[90mC:\\Users\\IIT BBSR\\.julia\\packages\\GridapDistributed\\XNMqm\\src\\\u001b[39m\u001b[90m\u001b[4mGeometry.jl:696\u001b[24m\u001b[39m\n",
       " [12] BoundaryTriangulation(\u001b[90mmodel\u001b[39m::\u001b[1mDiscreteModel\u001b[22m, \u001b[90mface_to_bgface\u001b[39m::\u001b[1mAbstractVector\u001b[22m\u001b[0m{<:Integer})\n",
       "\u001b[90m     @\u001b[39m \u001b[90mC:\\Users\\IIT BBSR\\.julia\\packages\\Gridap\\JD3zW\\src\\Geometry\\\u001b[39m\u001b[90m\u001b[4mBoundaryTriangulations.jl:164\u001b[24m\u001b[39m\n",
       " [13] BoundaryTriangulation(\u001b[90mmodel\u001b[39m::\u001b[1mDiscreteModel\u001b[22m, \u001b[90mbgface_to_mask\u001b[39m::\u001b[1mAbstractVector\u001b[22m\u001b[0m{Bool})\n",
       "\u001b[90m     @\u001b[39m \u001b[90mC:\\Users\\IIT BBSR\\.julia\\packages\\Gridap\\JD3zW\\src\\Geometry\\\u001b[39m\u001b[90m\u001b[4mBoundaryTriangulations.jl:179\u001b[24m\u001b[39m\n",
       " [14] BoundaryTriangulation(\u001b[90mmodel\u001b[39m::\u001b[1mGridap.Adaptivity.AdaptedDiscreteModel\u001b[22m, \u001b[90margs...\u001b[39m; kwargs...)\n",
       "\u001b[90m     @\u001b[39m \u001b[35mGridap.Adaptivity\u001b[39m \u001b[90mC:\\Users\\IIT BBSR\\.julia\\packages\\Gridap\\JD3zW\\src\\Adaptivity\\\u001b[39m\u001b[90m\u001b[4mAdaptedTriangulations.jl:101\u001b[24m\u001b[39m\n",
       " [15] BoundaryTriangulation(\u001b[90mmodel\u001b[39m::\u001b[1mDiscreteModel\u001b[22m, \u001b[90mlabeling\u001b[39m::\u001b[1mFaceLabeling\u001b[22m; tags)\n",
       "\u001b[90m     @\u001b[39m \u001b[90mC:\\Users\\IIT BBSR\\.julia\\packages\\Gridap\\JD3zW\\src\\Geometry\\\u001b[39m\u001b[90m\u001b[4mBoundaryTriangulations.jl:190\u001b[24m\u001b[39m\n",
       " [16] BoundaryTriangulation(\u001b[90mmodel\u001b[39m::\u001b[1mDiscreteModel\u001b[22m, \u001b[90mbgface_to_mask\u001b[39m::\u001b[1mAbstractVector\u001b[22m\u001b[0m{Bool}, \u001b[90mlcell\u001b[39m::\u001b[1mInteger\u001b[22m)\n",
       "\u001b[90m     @\u001b[39m \u001b[90mC:\\Users\\IIT BBSR\\.julia\\packages\\Gridap\\JD3zW\\src\\Geometry\\\u001b[39m\u001b[90m\u001b[4mBoundaryTriangulations.jl:179\u001b[24m\u001b[39m\n",
       " [17] BoundaryTriangulation(\u001b[90mmodel\u001b[39m::\u001b[1mDiscreteModel\u001b[22m, \u001b[90mbgface_to_mask\u001b[39m::\u001b[1mAbstractVector\u001b[22m\u001b[0m{Bool}, \u001b[90mbgface_to_lcell\u001b[39m::\u001b[1mAbstractVector\u001b[22m\u001b[0m{<:Integer})\n",
       "\u001b[90m     @\u001b[39m \u001b[90mC:\\Users\\IIT BBSR\\.julia\\packages\\Gridap\\JD3zW\\src\\Geometry\\\u001b[39m\u001b[90m\u001b[4mBoundaryTriangulations.jl:170\u001b[24m\u001b[39m\n",
       " [18] BoundaryTriangulation(\u001b[90mmodel\u001b[39m::\u001b[1mDiscreteModel\u001b[22m, \u001b[90mface_to_bgface\u001b[39m::\u001b[1mAbstractVector\u001b[22m\u001b[0m{<:Integer}, \u001b[90mbgface_to_lcell\u001b[39m::\u001b[1mAbstractVector\u001b[22m\u001b[0m{<:Integer})\n",
       "\u001b[90m     @\u001b[39m \u001b[90mC:\\Users\\IIT BBSR\\.julia\\packages\\Gridap\\JD3zW\\src\\Geometry\\\u001b[39m\u001b[90m\u001b[4mBoundaryTriangulations.jl:147\u001b[24m\u001b[39m\n",
       " [19] BoundaryTriangulation(\u001b[90mportion\u001b[39m, \u001b[90mgids\u001b[39m::\u001b[1mPartitionedArrays.AbstractLocalIndices\u001b[22m, \u001b[90mcutgeo\u001b[39m::\u001b[1mGridapEmbedded.Interfaces.AbstractEmbeddedDiscretization\u001b[22m, \u001b[90margs...\u001b[39m)\n",
       "\u001b[90m     @\u001b[39m \u001b[35mGridapEmbedded.Distributed\u001b[39m \u001b[90mC:\\Users\\IIT BBSR\\.julia\\packages\\GridapEmbedded\\PIAqm\\src\\Distributed\\\u001b[39m\u001b[90m\u001b[4mDistributedDiscretizations.jl:84\u001b[24m\u001b[39m\n",
       " [20] BoundaryTriangulation(\u001b[90mmodel\u001b[39m::\u001b[1mGridapDistributed.DistributedDiscreteModel\u001b[22m, \u001b[90margs...\u001b[39m; kwargs...)\n",
       "\u001b[90m     @\u001b[39m \u001b[32mGridapDistributed\u001b[39m \u001b[90mC:\\Users\\IIT BBSR\\.julia\\packages\\GridapDistributed\\XNMqm\\src\\\u001b[39m\u001b[90m\u001b[4mGeometry.jl:606\u001b[24m\u001b[39m\n",
       " [21] BoundaryTriangulation(\u001b[90mportion\u001b[39m, \u001b[90mcutgeo\u001b[39m::\u001b[1mGridapEmbedded.Distributed.DistributedEmbeddedDiscretization\u001b[22m, \u001b[90margs...\u001b[39m)\n",
       "\u001b[90m     @\u001b[39m \u001b[35mGridapEmbedded.Distributed\u001b[39m \u001b[90mC:\\Users\\IIT BBSR\\.julia\\packages\\GridapEmbedded\\PIAqm\\src\\Distributed\\\u001b[39m\u001b[90m\u001b[4mDistributedDiscretizations.jl:75\u001b[24m\u001b[39m\n",
       " [22] BoundaryTriangulation(\u001b[90mcut\u001b[39m::\u001b[1mGridapEmbedded.Interfaces.EmbeddedFacetDiscretization\u001b[22m, \u001b[90min_or_out\u001b[39m, \u001b[90mname\u001b[39m::\u001b[1mString\u001b[22m; tags)\n",
       "\u001b[90m     @\u001b[39m \u001b[35mGridapEmbedded.Interfaces\u001b[39m \u001b[90mC:\\Users\\IIT BBSR\\.julia\\packages\\GridapEmbedded\\PIAqm\\src\\Interfaces\\\u001b[39m\u001b[90m\u001b[4mEmbeddedFacetDiscretizations.jl:134\u001b[24m\u001b[39m\n",
       " [23] BoundaryTriangulation(\u001b[90mcut\u001b[39m::\u001b[1mGridapEmbedded.Interfaces.EmbeddedFacetDiscretization\u001b[22m, \u001b[90min_or_out\u001b[39m, \u001b[90mgeo\u001b[39m::\u001b[1mGridapEmbedded.CSG.Geometry\u001b[22m; tags)\n",
       "\u001b[90m     @\u001b[39m \u001b[35mGridapEmbedded.Interfaces\u001b[39m \u001b[90mC:\\Users\\IIT BBSR\\.julia\\packages\\GridapEmbedded\\PIAqm\\src\\Interfaces\\\u001b[39m\u001b[90m\u001b[4mEmbeddedFacetDiscretizations.jl:145\u001b[24m\u001b[39m\n",
       " [24] BoundaryTriangulation(\u001b[90mrtrian\u001b[39m::\u001b[1mTriangulation\u001b[22m, \u001b[90margs...\u001b[39m; kwargs...)\n",
       "\u001b[90m     @\u001b[39m \u001b[90mC:\\Users\\IIT BBSR\\.julia\\packages\\Gridap\\JD3zW\\src\\Geometry\\\u001b[39m\u001b[90m\u001b[4mBoundaryTriangulations.jl:212\u001b[24m\u001b[39m\n",
       " [25] BoundaryTriangulation(\u001b[90mtrian\u001b[39m::\u001b[1mBodyFittedTriangulation\u001b[22m, \u001b[90mglue\u001b[39m)\n",
       "\u001b[90m     @\u001b[39m \u001b[90mC:\\Users\\IIT BBSR\\.julia\\packages\\Gridap\\JD3zW\\src\\Geometry\\\u001b[39m\u001b[90m\u001b[4mBoundaryTriangulations.jl:125\u001b[24m\u001b[39m\n",
       " [26] BoundaryTriangulation(\u001b[90mportion\u001b[39m, \u001b[90mmodel\u001b[39m::\u001b[1mGridapDistributed.DistributedDiscreteModel\u001b[22m; kwargs...)\n",
       "\u001b[90m     @\u001b[39m \u001b[32mGridapDistributed\u001b[39m \u001b[90mC:\\Users\\IIT BBSR\\.julia\\packages\\GridapDistributed\\XNMqm\\src\\\u001b[39m\u001b[90m\u001b[4mGeometry.jl:614\u001b[24m\u001b[39m\n",
       " [27] BoundaryTriangulation(\u001b[90ma\u001b[39m::\u001b[1mGridapSolvers.PatchBasedSmoothers.DistributedPatchDecomposition\u001b[22m, \u001b[90margs...\u001b[39m; kwargs...)\n",
       "\u001b[90m     @\u001b[39m \u001b[36mGridapSolvers.PatchBasedSmoothers\u001b[39m \u001b[90mC:\\Users\\IIT BBSR\\.julia\\packages\\GridapSolvers\\gwyZl\\src\\PatchBasedSmoothers\\\u001b[39m\u001b[90m\u001b[4mDistributedPatchDecompositions.jl:67\u001b[24m\u001b[39m\n",
       " [28] BoundaryTriangulation(\u001b[90mportion\u001b[39m, \u001b[90mcutgeo\u001b[39m::\u001b[1mGridapEmbedded.Distributed.DistributedEmbeddedDiscretization\u001b[22m, \u001b[90mcutinorout\u001b[39m, \u001b[90mgeom\u001b[39m::\u001b[1mGridapEmbedded.Distributed.DistributedDiscreteGeometry\u001b[22m)\n",
       "\u001b[90m     @\u001b[39m \u001b[35mGridapEmbedded.Distributed\u001b[39m \u001b[90mC:\\Users\\IIT BBSR\\.julia\\packages\\GridapEmbedded\\PIAqm\\src\\Distributed\\\u001b[39m\u001b[90m\u001b[4mDistributedDiscreteGeometries.jl:50\u001b[24m\u001b[39m\n",
       " [29] BoundaryTriangulation(\u001b[90mportion\u001b[39m, \u001b[90mmodel\u001b[39m::\u001b[1mGridapDistributed.DistributedDiscreteModel\u001b[22m, \u001b[90mface_to_mask\u001b[39m::\u001b[1mAbstractArray\u001b[22m)\n",
       "\u001b[90m     @\u001b[39m \u001b[32mGridapDistributed\u001b[39m \u001b[90mC:\\Users\\IIT BBSR\\.julia\\packages\\GridapDistributed\\XNMqm\\src\\\u001b[39m\u001b[90m\u001b[4mGeometry.jl:632\u001b[24m\u001b[39m\n",
       " [30] BoundaryTriangulation(\u001b[90mportion\u001b[39m, \u001b[90mmodel\u001b[39m::\u001b[1mGridapDistributed.DistributedDiscreteModel\u001b[22m, \u001b[90mlabels\u001b[39m::\u001b[1mGridapDistributed.DistributedFaceLabeling\u001b[22m; tags)\n",
       "\u001b[90m     @\u001b[39m \u001b[32mGridapDistributed\u001b[39m \u001b[90mC:\\Users\\IIT BBSR\\.julia\\packages\\GridapDistributed\\XNMqm\\src\\\u001b[39m\u001b[90m\u001b[4mGeometry.jl:620\u001b[24m\u001b[39m\n",
       " [31] BoundaryTriangulation(\u001b[90mmodel\u001b[39m::\u001b[1mDiscreteModel\u001b[22m; tags)\n",
       "\u001b[90m     @\u001b[39m \u001b[90mC:\\Users\\IIT BBSR\\.julia\\packages\\Gridap\\JD3zW\\src\\Geometry\\\u001b[39m\u001b[90m\u001b[4mBoundaryTriangulations.jl:207\u001b[24m\u001b[39m\n",
       " [32] BoundaryTriangulation(\u001b[90mcut\u001b[39m::\u001b[1mGridapEmbedded.Interfaces.EmbeddedFacetDiscretization\u001b[22m; tags)\n",
       "\u001b[90m     @\u001b[39m \u001b[35mGridapEmbedded.Interfaces\u001b[39m \u001b[90mC:\\Users\\IIT BBSR\\.julia\\packages\\GridapEmbedded\\PIAqm\\src\\Interfaces\\\u001b[39m\u001b[90m\u001b[4mEmbeddedFacetDiscretizations.jl:101\u001b[24m\u001b[39m\n",
       " [33] BoundaryTriangulation(\u001b[90mtrian\u001b[39m::\u001b[1mGridapDistributed.DistributedTriangulation\u001b[22m; kwargs...)\n",
       "\u001b[90m     @\u001b[39m \u001b[32mGridapDistributed\u001b[39m \u001b[90mC:\\Users\\IIT BBSR\\.julia\\packages\\GridapDistributed\\XNMqm\\src\\\u001b[39m\u001b[90m\u001b[4mGeometry.jl:610\u001b[24m\u001b[39m\n",
       " [34] BoundaryTriangulation(\u001b[90mPD\u001b[39m::\u001b[1mGridapSolvers.PatchBasedSmoothers.PatchDecomposition\u001b[22m\u001b[0m{Dr, Dc}; tags, reverse) where {Dr, Dc}\n",
       "\u001b[90m     @\u001b[39m \u001b[36mGridapSolvers.PatchBasedSmoothers\u001b[39m \u001b[90mC:\\Users\\IIT BBSR\\.julia\\packages\\GridapSolvers\\gwyZl\\src\\PatchBasedSmoothers\\\u001b[39m\u001b[90m\u001b[4mPatchTriangulations.jl:66\u001b[24m\u001b[39m"
      ]
     },
     "metadata": {},
     "output_type": "display_data"
    }
   ],
   "source": [
    "using Gridap.Geometry\n",
    "@which BoundaryTriangulation\n",
    "methods(BoundaryTriangulation)"
   ]
  },
  {
   "cell_type": "code",
   "execution_count": 27,
   "id": "2f4140e3",
   "metadata": {},
   "outputs": [
    {
     "data": {
      "text/html": [
       "# 7 methods for type constructor:<ul><li> Measure(trian::<b>GridapDistributed.DistributedTriangulation</b>, quad::<b>Tuple{GridapEmbedded.MomentFittedQuadratures.MomentFitted, Vararg}</b>; <i>kwargs...</i>) in GridapEmbedded.Distributed at <a href=\"file://C:/Users/IIT BBSR/.julia/packages/GridapEmbedded/PIAqm/src/Distributed/DistributedQuadratures.jl\" target=\"_blank\">C:\\Users\\IIT BBSR\\.julia\\packages\\GridapEmbedded\\PIAqm\\src\\Distributed\\DistributedQuadratures.jl:2</a></li> <li> Measure(tt::<b>GridapDistributed.DistributedTriangulation{Dc, Dp}</b>, it::<b>GridapDistributed.DistributedTriangulation{Dc, Dp}</b>, args...)<i> where {Dc, Dp}</i> in GridapDistributed at <a href=\"file://C:/Users/IIT BBSR/.julia/packages/GridapDistributed/XNMqm/src/CellData.jl\" target=\"_blank\">C:\\Users\\IIT BBSR\\.julia\\packages\\GridapDistributed\\XNMqm\\src\\CellData.jl:207</a></li> <li> Measure(t::<b>GridapDistributed.DistributedTriangulation</b>, args...; <i>kwargs...</i>) in GridapDistributed at <a href=\"file://C:/Users/IIT BBSR/.julia/packages/GridapDistributed/XNMqm/src/CellData.jl\" target=\"_blank\">C:\\Users\\IIT BBSR\\.julia\\packages\\GridapDistributed\\XNMqm\\src\\CellData.jl:200</a></li> <li> Measure(q::<b>CellQuadrature</b>) in Gridap.CellData at <a href=\"file://C:/Users/IIT BBSR/.julia/packages/Gridap/JD3zW/src/CellData/DomainContributions.jl\" target=\"_blank\">C:\\Users\\IIT BBSR\\.julia\\packages\\Gridap\\JD3zW\\src\\CellData\\DomainContributions.jl:157</a></li> <li> Measure(ttrian::<b>Triangulation</b>, itrian::<b>Triangulation</b>, q::<b>CellQuadrature</b>) in Gridap.CellData at <a href=\"file://C:/Users/IIT BBSR/.julia/packages/Gridap/JD3zW/src/CellData/DomainContributions.jl\" target=\"_blank\">C:\\Users\\IIT BBSR\\.julia\\packages\\Gridap\\JD3zW\\src\\CellData\\DomainContributions.jl:189</a></li> <li> Measure(ttrian::<b>Triangulation</b>, itrian::<b>Triangulation</b>, args...; <i>kwargs...</i>) in Gridap.CellData at <a href=\"file://C:/Users/IIT BBSR/.julia/packages/Gridap/JD3zW/src/CellData/DomainContributions.jl\" target=\"_blank\">C:\\Users\\IIT BBSR\\.julia\\packages\\Gridap\\JD3zW\\src\\CellData\\DomainContributions.jl:194</a></li> <li> Measure(args...; <i>kwargs...</i>) in Gridap.CellData at <a href=\"file://C:/Users/IIT BBSR/.julia/packages/Gridap/JD3zW/src/CellData/DomainContributions.jl\" target=\"_blank\">C:\\Users\\IIT BBSR\\.julia\\packages\\Gridap\\JD3zW\\src\\CellData\\DomainContributions.jl:159</a></li> </ul>"
      ],
      "text/plain": [
       "# 7 methods for type constructor:\n",
       " [1] Measure(\u001b[90mtrian\u001b[39m::\u001b[1mGridapDistributed.DistributedTriangulation\u001b[22m, \u001b[90mquad\u001b[39m::\u001b[1mTuple\u001b[22m\u001b[0m{GridapEmbedded.MomentFittedQuadratures.MomentFitted, Vararg}; kwargs...)\n",
       "\u001b[90m     @\u001b[39m \u001b[35mGridapEmbedded.Distributed\u001b[39m \u001b[90mC:\\Users\\IIT BBSR\\.julia\\packages\\GridapEmbedded\\PIAqm\\src\\Distributed\\\u001b[39m\u001b[90m\u001b[4mDistributedQuadratures.jl:2\u001b[24m\u001b[39m\n",
       " [2] Measure(\u001b[90mtt\u001b[39m::\u001b[1mGridapDistributed.DistributedTriangulation\u001b[22m\u001b[0m{Dc, Dp}, \u001b[90mit\u001b[39m::\u001b[1mGridapDistributed.DistributedTriangulation\u001b[22m\u001b[0m{Dc, Dp}, \u001b[90margs...\u001b[39m) where {Dc, Dp}\n",
       "\u001b[90m     @\u001b[39m \u001b[32mGridapDistributed\u001b[39m \u001b[90mC:\\Users\\IIT BBSR\\.julia\\packages\\GridapDistributed\\XNMqm\\src\\\u001b[39m\u001b[90m\u001b[4mCellData.jl:207\u001b[24m\u001b[39m\n",
       " [3] Measure(\u001b[90mt\u001b[39m::\u001b[1mGridapDistributed.DistributedTriangulation\u001b[22m, \u001b[90margs...\u001b[39m; kwargs...)\n",
       "\u001b[90m     @\u001b[39m \u001b[32mGridapDistributed\u001b[39m \u001b[90mC:\\Users\\IIT BBSR\\.julia\\packages\\GridapDistributed\\XNMqm\\src\\\u001b[39m\u001b[90m\u001b[4mCellData.jl:200\u001b[24m\u001b[39m\n",
       " [4] Measure(\u001b[90mq\u001b[39m::\u001b[1mCellQuadrature\u001b[22m)\n",
       "\u001b[90m     @\u001b[39m \u001b[90mC:\\Users\\IIT BBSR\\.julia\\packages\\Gridap\\JD3zW\\src\\CellData\\\u001b[39m\u001b[90m\u001b[4mDomainContributions.jl:157\u001b[24m\u001b[39m\n",
       " [5] Measure(\u001b[90mttrian\u001b[39m::\u001b[1mTriangulation\u001b[22m, \u001b[90mitrian\u001b[39m::\u001b[1mTriangulation\u001b[22m, \u001b[90mq\u001b[39m::\u001b[1mCellQuadrature\u001b[22m)\n",
       "\u001b[90m     @\u001b[39m \u001b[90mC:\\Users\\IIT BBSR\\.julia\\packages\\Gridap\\JD3zW\\src\\CellData\\\u001b[39m\u001b[90m\u001b[4mDomainContributions.jl:189\u001b[24m\u001b[39m\n",
       " [6] Measure(\u001b[90mttrian\u001b[39m::\u001b[1mTriangulation\u001b[22m, \u001b[90mitrian\u001b[39m::\u001b[1mTriangulation\u001b[22m, \u001b[90margs...\u001b[39m; kwargs...)\n",
       "\u001b[90m     @\u001b[39m \u001b[90mC:\\Users\\IIT BBSR\\.julia\\packages\\Gridap\\JD3zW\\src\\CellData\\\u001b[39m\u001b[90m\u001b[4mDomainContributions.jl:194\u001b[24m\u001b[39m\n",
       " [7] Measure(\u001b[90margs...\u001b[39m; kwargs...)\n",
       "\u001b[90m     @\u001b[39m \u001b[90mC:\\Users\\IIT BBSR\\.julia\\packages\\Gridap\\JD3zW\\src\\CellData\\\u001b[39m\u001b[90m\u001b[4mDomainContributions.jl:159\u001b[24m\u001b[39m"
      ]
     },
     "metadata": {},
     "output_type": "display_data"
    }
   ],
   "source": [
    "using Gridap.CellData\n",
    "@which Measure\n",
    "methods(Measure)"
   ]
  },
  {
   "cell_type": "code",
   "execution_count": 29,
   "id": "5df58891",
   "metadata": {},
   "outputs": [
    {
     "data": {
      "text/html": [
       "# 16 methods for type constructor:<ul><li> ReferenceFE(model::<b>DiscreteModel</b>, basis::<b>ModalC0</b>, args...; <i>kwargs...</i>) in Gridap.Geometry at <a href=\"file://C:/Users/IIT BBSR/.julia/packages/Gridap/JD3zW/src/Geometry/DiscreteModels.jl\" target=\"_blank\">C:\\Users\\IIT BBSR\\.julia\\packages\\Gridap\\JD3zW\\src\\Geometry\\DiscreteModels.jl:391</a></li> <li> ReferenceFE(model::<b>DiscreteModel</b>, args...; <i>kwargs...</i>) in Gridap.Geometry at <a href=\"file://C:/Users/IIT BBSR/.julia/packages/Gridap/JD3zW/src/Geometry/DiscreteModels.jl\" target=\"_blank\">C:\\Users\\IIT BBSR\\.julia\\packages\\Gridap\\JD3zW\\src\\Geometry\\DiscreteModels.jl:383</a></li> <li> ReferenceFE(p::<b>Polytope</b>, ::<b>BDM</b>, ::<b>Type{T}</b>, order)<i> where T</i> in Gridap.ReferenceFEs at <a href=\"file://C:/Users/IIT BBSR/.julia/packages/Gridap/JD3zW/src/ReferenceFEs/BDMRefFEs.jl\" target=\"_blank\">C:\\Users\\IIT BBSR\\.julia\\packages\\Gridap\\JD3zW\\src\\ReferenceFEs\\BDMRefFEs.jl:52</a></li> <li> ReferenceFE(p::<b>Polytope</b>, ::<b>BDM</b>, order) in Gridap.ReferenceFEs at <a href=\"file://C:/Users/IIT BBSR/.julia/packages/Gridap/JD3zW/src/ReferenceFEs/BDMRefFEs.jl\" target=\"_blank\">C:\\Users\\IIT BBSR\\.julia\\packages\\Gridap\\JD3zW\\src\\ReferenceFEs\\BDMRefFEs.jl:48</a></li> <li> ReferenceFE(polytope::<b>Polytope</b>, ::<b>Bezier</b>, ::<b>Type{T}</b>, orders::<b>Union{Integer, Tuple{Vararg{Integer}}}</b>)<i> where T</i> in Gridap.ReferenceFEs at <a href=\"file://C:/Users/IIT BBSR/.julia/packages/Gridap/JD3zW/src/ReferenceFEs/BezierRefFEs.jl\" target=\"_blank\">C:\\Users\\IIT BBSR\\.julia\\packages\\Gridap\\JD3zW\\src\\ReferenceFEs\\BezierRefFEs.jl:25</a></li> <li> ReferenceFE(p::<b>Polytope</b>, ::<b>RaviartThomas</b>, ::<b>Type{T}</b>, order)<i> where T</i> in Gridap.ReferenceFEs at <a href=\"file://C:/Users/IIT BBSR/.julia/packages/Gridap/JD3zW/src/ReferenceFEs/RaviartThomasRefFEs.jl\" target=\"_blank\">C:\\Users\\IIT BBSR\\.julia\\packages\\Gridap\\JD3zW\\src\\ReferenceFEs\\RaviartThomasRefFEs.jl:56</a></li> <li> ReferenceFE(p::<b>Polytope</b>, ::<b>RaviartThomas</b>, order) in Gridap.ReferenceFEs at <a href=\"file://C:/Users/IIT BBSR/.julia/packages/Gridap/JD3zW/src/ReferenceFEs/RaviartThomasRefFEs.jl\" target=\"_blank\">C:\\Users\\IIT BBSR\\.julia\\packages\\Gridap\\JD3zW\\src\\ReferenceFEs\\RaviartThomasRefFEs.jl:52</a></li> <li> ReferenceFE(p::<b>Polytope</b>, ::<b>Nedelec</b>, ::<b>Type{T}</b>, order)<i> where T</i> in Gridap.ReferenceFEs at <a href=\"file://C:/Users/IIT BBSR/.julia/packages/Gridap/JD3zW/src/ReferenceFEs/NedelecRefFEs.jl\" target=\"_blank\">C:\\Users\\IIT BBSR\\.julia\\packages\\Gridap\\JD3zW\\src\\ReferenceFEs\\NedelecRefFEs.jl:54</a></li> <li> ReferenceFE(p::<b>Polytope</b>, ::<b>Nedelec</b>, order) in Gridap.ReferenceFEs at <a href=\"file://C:/Users/IIT BBSR/.julia/packages/Gridap/JD3zW/src/ReferenceFEs/NedelecRefFEs.jl\" target=\"_blank\">C:\\Users\\IIT BBSR\\.julia\\packages\\Gridap\\JD3zW\\src\\ReferenceFEs\\NedelecRefFEs.jl:50</a></li> <li> ReferenceFE(polytope::<b>Polytope{D}</b>, ::<b>ModalC0</b>, ::<b>Type{T}</b>, orders::<b>Union{Integer, NTuple{D, Int64}}</b>; <i>kwargs...</i>)<i> where {T, D}</i> in Gridap.ReferenceFEs at <a href=\"file://C:/Users/IIT BBSR/.julia/packages/Gridap/JD3zW/src/ReferenceFEs/ModalC0RefFEs.jl\" target=\"_blank\">C:\\Users\\IIT BBSR\\.julia\\packages\\Gridap\\JD3zW\\src\\ReferenceFEs\\ModalC0RefFEs.jl:92</a></li> <li> ReferenceFE(p::<b>Polytope</b>, ::<b>Bubble</b>, ::<b>Type{T}</b>; <i>kwargs...</i>)<i> where T</i> in Gridap.ReferenceFEs at <a href=\"file://C:/Users/IIT BBSR/.julia/packages/Gridap/JD3zW/src/ReferenceFEs/BubbleRefFEs.jl\" target=\"_blank\">C:\\Users\\IIT BBSR\\.julia\\packages\\Gridap\\JD3zW\\src\\ReferenceFEs\\BubbleRefFEs.jl:42</a></li> <li> ReferenceFE(polytope::<b>Polytope</b>, ::<b>Lagrangian</b>, ::<b>Type{T}</b>, orders::<b>Union{Integer, Tuple{Vararg{Integer}}}</b>; <i>space</i>)<i> where T</i> in Gridap.ReferenceFEs at <a href=\"file://C:/Users/IIT BBSR/.julia/packages/Gridap/JD3zW/src/ReferenceFEs/CLagrangianRefFEs.jl\" target=\"_blank\">C:\\Users\\IIT BBSR\\.julia\\packages\\Gridap\\JD3zW\\src\\ReferenceFEs\\CLagrangianRefFEs.jl:244</a></li> <li> ReferenceFE(p::<b>Polytope</b>, rrule::<b>Gridap.Adaptivity.RefinementRule</b>, name::<b>ReferenceFEName</b>, order) in Gridap.Adaptivity at <a href=\"file://C:/Users/IIT BBSR/.julia/packages/Gridap/JD3zW/src/Adaptivity/FineToCoarseReferenceFEs.jl\" target=\"_blank\">C:\\Users\\IIT BBSR\\.julia\\packages\\Gridap\\JD3zW\\src\\Adaptivity\\FineToCoarseReferenceFEs.jl:109</a></li> <li> ReferenceFE(p::<b>Polytope</b>, rrule::<b>Gridap.Adaptivity.RefinementRule</b>, name::<b>ReferenceFEName</b>, ::<b>Type{T}</b>, order)<i> where T</i> in Gridap.Adaptivity at <a href=\"file://C:/Users/IIT BBSR/.julia/packages/Gridap/JD3zW/src/Adaptivity/FineToCoarseReferenceFEs.jl\" target=\"_blank\">C:\\Users\\IIT BBSR\\.julia\\packages\\Gridap\\JD3zW\\src\\Adaptivity\\FineToCoarseReferenceFEs.jl:113</a></li> <li> ReferenceFE(p::<b>Polytope</b>, basis::<b>ReferenceFEName</b>, args...; <i>kwargs...</i>) in Gridap.ReferenceFEs at <a href=\"file://C:/Users/IIT BBSR/.julia/packages/Gridap/JD3zW/src/ReferenceFEs/ReferenceFEInterfaces.jl\" target=\"_blank\">C:\\Users\\IIT BBSR\\.julia\\packages\\Gridap\\JD3zW\\src\\ReferenceFEs\\ReferenceFEInterfaces.jl:39</a></li> <li> ReferenceFE(basis::<b>ReferenceFEName</b>, args...; <i>kwargs...</i>) in Gridap.ReferenceFEs at <a href=\"file://C:/Users/IIT BBSR/.julia/packages/Gridap/JD3zW/src/ReferenceFEs/ReferenceFEInterfaces.jl\" target=\"_blank\">C:\\Users\\IIT BBSR\\.julia\\packages\\Gridap\\JD3zW\\src\\ReferenceFEs\\ReferenceFEInterfaces.jl:45</a></li> </ul>"
      ],
      "text/plain": [
       "# 16 methods for type constructor:\n",
       "  [1] ReferenceFE(\u001b[90mmodel\u001b[39m::\u001b[1mDiscreteModel\u001b[22m, \u001b[90mbasis\u001b[39m::\u001b[1mModalC0\u001b[22m, \u001b[90margs...\u001b[39m; kwargs...)\n",
       "\u001b[90m     @\u001b[39m \u001b[35mGridap.Geometry\u001b[39m \u001b[90mC:\\Users\\IIT BBSR\\.julia\\packages\\Gridap\\JD3zW\\src\\Geometry\\\u001b[39m\u001b[90m\u001b[4mDiscreteModels.jl:391\u001b[24m\u001b[39m\n",
       "  [2] ReferenceFE(\u001b[90mmodel\u001b[39m::\u001b[1mDiscreteModel\u001b[22m, \u001b[90margs...\u001b[39m; kwargs...)\n",
       "\u001b[90m     @\u001b[39m \u001b[35mGridap.Geometry\u001b[39m \u001b[90mC:\\Users\\IIT BBSR\\.julia\\packages\\Gridap\\JD3zW\\src\\Geometry\\\u001b[39m\u001b[90m\u001b[4mDiscreteModels.jl:383\u001b[24m\u001b[39m\n",
       "  [3] ReferenceFE(\u001b[90mp\u001b[39m::\u001b[1mPolytope\u001b[22m, ::\u001b[1mBDM\u001b[22m, ::\u001b[1mType\u001b[22m\u001b[0m{T}, \u001b[90morder\u001b[39m) where T\n",
       "\u001b[90m     @\u001b[39m \u001b[90mC:\\Users\\IIT BBSR\\.julia\\packages\\Gridap\\JD3zW\\src\\ReferenceFEs\\\u001b[39m\u001b[90m\u001b[4mBDMRefFEs.jl:52\u001b[24m\u001b[39m\n",
       "  [4] ReferenceFE(\u001b[90mp\u001b[39m::\u001b[1mPolytope\u001b[22m, ::\u001b[1mBDM\u001b[22m, \u001b[90morder\u001b[39m)\n",
       "\u001b[90m     @\u001b[39m \u001b[90mC:\\Users\\IIT BBSR\\.julia\\packages\\Gridap\\JD3zW\\src\\ReferenceFEs\\\u001b[39m\u001b[90m\u001b[4mBDMRefFEs.jl:48\u001b[24m\u001b[39m\n",
       "  [5] ReferenceFE(\u001b[90mpolytope\u001b[39m::\u001b[1mPolytope\u001b[22m, ::\u001b[1mBezier\u001b[22m, ::\u001b[1mType\u001b[22m\u001b[0m{T}, \u001b[90morders\u001b[39m::\u001b[1mUnion\u001b[22m\u001b[0m{Integer, Tuple{Vararg{Integer}}}) where T\n",
       "\u001b[90m     @\u001b[39m \u001b[90mC:\\Users\\IIT BBSR\\.julia\\packages\\Gridap\\JD3zW\\src\\ReferenceFEs\\\u001b[39m\u001b[90m\u001b[4mBezierRefFEs.jl:25\u001b[24m\u001b[39m\n",
       "  [6] ReferenceFE(\u001b[90mp\u001b[39m::\u001b[1mPolytope\u001b[22m, ::\u001b[1mRaviartThomas\u001b[22m, ::\u001b[1mType\u001b[22m\u001b[0m{T}, \u001b[90morder\u001b[39m) where T\n",
       "\u001b[90m     @\u001b[39m \u001b[90mC:\\Users\\IIT BBSR\\.julia\\packages\\Gridap\\JD3zW\\src\\ReferenceFEs\\\u001b[39m\u001b[90m\u001b[4mRaviartThomasRefFEs.jl:56\u001b[24m\u001b[39m\n",
       "  [7] ReferenceFE(\u001b[90mp\u001b[39m::\u001b[1mPolytope\u001b[22m, ::\u001b[1mRaviartThomas\u001b[22m, \u001b[90morder\u001b[39m)\n",
       "\u001b[90m     @\u001b[39m \u001b[90mC:\\Users\\IIT BBSR\\.julia\\packages\\Gridap\\JD3zW\\src\\ReferenceFEs\\\u001b[39m\u001b[90m\u001b[4mRaviartThomasRefFEs.jl:52\u001b[24m\u001b[39m\n",
       "  [8] ReferenceFE(\u001b[90mp\u001b[39m::\u001b[1mPolytope\u001b[22m, ::\u001b[1mNedelec\u001b[22m, ::\u001b[1mType\u001b[22m\u001b[0m{T}, \u001b[90morder\u001b[39m) where T\n",
       "\u001b[90m     @\u001b[39m \u001b[90mC:\\Users\\IIT BBSR\\.julia\\packages\\Gridap\\JD3zW\\src\\ReferenceFEs\\\u001b[39m\u001b[90m\u001b[4mNedelecRefFEs.jl:54\u001b[24m\u001b[39m\n",
       "  [9] ReferenceFE(\u001b[90mp\u001b[39m::\u001b[1mPolytope\u001b[22m, ::\u001b[1mNedelec\u001b[22m, \u001b[90morder\u001b[39m)\n",
       "\u001b[90m     @\u001b[39m \u001b[90mC:\\Users\\IIT BBSR\\.julia\\packages\\Gridap\\JD3zW\\src\\ReferenceFEs\\\u001b[39m\u001b[90m\u001b[4mNedelecRefFEs.jl:50\u001b[24m\u001b[39m\n",
       " [10] ReferenceFE(\u001b[90mpolytope\u001b[39m::\u001b[1mPolytope\u001b[22m\u001b[0m{D}, ::\u001b[1mModalC0\u001b[22m, ::\u001b[1mType\u001b[22m\u001b[0m{T}, \u001b[90morders\u001b[39m::\u001b[1mUnion\u001b[22m\u001b[0m{Integer, NTuple{D, Int64}}; kwargs...) where {T, D}\n",
       "\u001b[90m     @\u001b[39m \u001b[90mC:\\Users\\IIT BBSR\\.julia\\packages\\Gridap\\JD3zW\\src\\ReferenceFEs\\\u001b[39m\u001b[90m\u001b[4mModalC0RefFEs.jl:92\u001b[24m\u001b[39m\n",
       " [11] ReferenceFE(\u001b[90mp\u001b[39m::\u001b[1mPolytope\u001b[22m, ::\u001b[1mBubble\u001b[22m, ::\u001b[1mType\u001b[22m\u001b[0m{T}; kwargs...) where T\n",
       "\u001b[90m     @\u001b[39m \u001b[90mC:\\Users\\IIT BBSR\\.julia\\packages\\Gridap\\JD3zW\\src\\ReferenceFEs\\\u001b[39m\u001b[90m\u001b[4mBubbleRefFEs.jl:42\u001b[24m\u001b[39m\n",
       " [12] ReferenceFE(\u001b[90mpolytope\u001b[39m::\u001b[1mPolytope\u001b[22m, ::\u001b[1mLagrangian\u001b[22m, ::\u001b[1mType\u001b[22m\u001b[0m{T}, \u001b[90morders\u001b[39m::\u001b[1mUnion\u001b[22m\u001b[0m{Integer, Tuple{Vararg{Integer}}}; space) where T\n",
       "\u001b[90m     @\u001b[39m \u001b[90mC:\\Users\\IIT BBSR\\.julia\\packages\\Gridap\\JD3zW\\src\\ReferenceFEs\\\u001b[39m\u001b[90m\u001b[4mCLagrangianRefFEs.jl:244\u001b[24m\u001b[39m\n",
       " [13] ReferenceFE(\u001b[90mp\u001b[39m::\u001b[1mPolytope\u001b[22m, \u001b[90mrrule\u001b[39m::\u001b[1mGridap.Adaptivity.RefinementRule\u001b[22m, \u001b[90mname\u001b[39m::\u001b[1mReferenceFEName\u001b[22m, \u001b[90morder\u001b[39m)\n",
       "\u001b[90m     @\u001b[39m \u001b[35mGridap.Adaptivity\u001b[39m \u001b[90mC:\\Users\\IIT BBSR\\.julia\\packages\\Gridap\\JD3zW\\src\\Adaptivity\\\u001b[39m\u001b[90m\u001b[4mFineToCoarseReferenceFEs.jl:109\u001b[24m\u001b[39m\n",
       " [14] ReferenceFE(\u001b[90mp\u001b[39m::\u001b[1mPolytope\u001b[22m, \u001b[90mrrule\u001b[39m::\u001b[1mGridap.Adaptivity.RefinementRule\u001b[22m, \u001b[90mname\u001b[39m::\u001b[1mReferenceFEName\u001b[22m, ::\u001b[1mType\u001b[22m\u001b[0m{T}, \u001b[90morder\u001b[39m) where T\n",
       "\u001b[90m     @\u001b[39m \u001b[35mGridap.Adaptivity\u001b[39m \u001b[90mC:\\Users\\IIT BBSR\\.julia\\packages\\Gridap\\JD3zW\\src\\Adaptivity\\\u001b[39m\u001b[90m\u001b[4mFineToCoarseReferenceFEs.jl:113\u001b[24m\u001b[39m\n",
       " [15] ReferenceFE(\u001b[90mp\u001b[39m::\u001b[1mPolytope\u001b[22m, \u001b[90mbasis\u001b[39m::\u001b[1mReferenceFEName\u001b[22m, \u001b[90margs...\u001b[39m; kwargs...)\n",
       "\u001b[90m     @\u001b[39m \u001b[90mC:\\Users\\IIT BBSR\\.julia\\packages\\Gridap\\JD3zW\\src\\ReferenceFEs\\\u001b[39m\u001b[90m\u001b[4mReferenceFEInterfaces.jl:39\u001b[24m\u001b[39m\n",
       " [16] ReferenceFE(\u001b[90mbasis\u001b[39m::\u001b[1mReferenceFEName\u001b[22m, \u001b[90margs...\u001b[39m; kwargs...)\n",
       "\u001b[90m     @\u001b[39m \u001b[90mC:\\Users\\IIT BBSR\\.julia\\packages\\Gridap\\JD3zW\\src\\ReferenceFEs\\\u001b[39m\u001b[90m\u001b[4mReferenceFEInterfaces.jl:45\u001b[24m\u001b[39m"
      ]
     },
     "metadata": {},
     "output_type": "display_data"
    }
   ],
   "source": [
    "using Gridap.ReferenceFEs\n",
    "@which ReferenceFE\n",
    "methods(ReferenceFE)"
   ]
  },
  {
   "cell_type": "code",
   "execution_count": 32,
   "id": "f48e053e",
   "metadata": {},
   "outputs": [
    {
     "data": {
      "text/html": [
       "# 2 methods for generic function <b>TestFESpace</b> from \u001b[35mGridap.FESpaces\u001b[39m:<ul><li> TestFESpace(model::<b>DiscreteModel</b>, rrules::<b>AbstractVector{<:Gridap.Adaptivity.RefinementRule}</b>, reffe::<b>Tuple{ReferenceFEName, Any, Any}</b>; <i>kwargs...</i>) in Gridap.Adaptivity at <a href=\"file://C:/Users/IIT BBSR/.julia/packages/Gridap/JD3zW/src/Adaptivity/FineToCoarseReferenceFEs.jl\" target=\"_blank\">C:\\Users\\IIT BBSR\\.julia\\packages\\Gridap\\JD3zW\\src\\Adaptivity\\FineToCoarseReferenceFEs.jl:126</a></li> <li> TestFESpace(args...; <i>kwargs...</i>) in Gridap.FESpaces at <a href=\"file://C:/Users/IIT BBSR/.julia/packages/Gridap/JD3zW/src/FESpaces/FESpaceFactories.jl\" target=\"_blank\">C:\\Users\\IIT BBSR\\.julia\\packages\\Gridap\\JD3zW\\src\\FESpaces\\FESpaceFactories.jl:125</a></li> </ul>"
      ],
      "text/plain": [
       "# 2 methods for generic function \"TestFESpace\" from \u001b[35mGridap.FESpaces\u001b[39m:\n",
       " [1] TestFESpace(\u001b[90mmodel\u001b[39m::\u001b[1mDiscreteModel\u001b[22m, \u001b[90mrrules\u001b[39m::\u001b[1mAbstractVector\u001b[22m\u001b[0m{<:Gridap.Adaptivity.RefinementRule}, \u001b[90mreffe\u001b[39m::\u001b[1mTuple\u001b[22m\u001b[0m{ReferenceFEName, Any, Any}; kwargs...)\n",
       "\u001b[90m     @\u001b[39m \u001b[35mGridap.Adaptivity\u001b[39m \u001b[90mC:\\Users\\IIT BBSR\\.julia\\packages\\Gridap\\JD3zW\\src\\Adaptivity\\\u001b[39m\u001b[90m\u001b[4mFineToCoarseReferenceFEs.jl:126\u001b[24m\u001b[39m\n",
       " [2] TestFESpace(\u001b[90margs...\u001b[39m; kwargs...)\n",
       "\u001b[90m     @\u001b[39m \u001b[90mC:\\Users\\IIT BBSR\\.julia\\packages\\Gridap\\JD3zW\\src\\FESpaces\\\u001b[39m\u001b[90m\u001b[4mFESpaceFactories.jl:125\u001b[24m\u001b[39m"
      ]
     },
     "metadata": {},
     "output_type": "display_data"
    }
   ],
   "source": [
    "using Gridap.FESpaces\n",
    "@which TestFESpace\n",
    "methods(TestFESpace)"
   ]
  },
  {
   "cell_type": "code",
   "execution_count": 34,
   "id": "e10d53ce",
   "metadata": {},
   "outputs": [
    {
     "data": {
      "text/html": [
       "# 16 methods for type constructor:<ul><li> TrialFESpace(a::<b>GridapSolvers.MultilevelTools.FESpaceHierarchyLevel</b>, args...; <i>kwargs...</i>) in GridapSolvers.MultilevelTools at <a href=\"file://C:/Users/IIT BBSR/.julia/packages/GridapSolvers/gwyZl/src/MultilevelTools/FESpaceHierarchies.jl\" target=\"_blank\">C:\\Users\\IIT BBSR\\.julia\\packages\\GridapSolvers\\gwyZl\\src\\MultilevelTools\\FESpaceHierarchies.jl:51</a></li> <li> TrialFESpace(fun, f::<b>GridapDistributed.DistributedSingleFieldFESpace</b>) in GridapDistributed at <a href=\"file://C:/Users/IIT BBSR/.julia/packages/GridapDistributed/XNMqm/src/FESpaces.jl\" target=\"_blank\">C:\\Users\\IIT BBSR\\.julia\\packages\\GridapDistributed\\XNMqm\\src\\FESpaces.jl:403</a></li> <li> TrialFESpace(space::<b>SingleFieldFESpace</b>, objects) in Gridap.FESpaces at <a href=\"file://C:/Users/IIT BBSR/.julia/packages/Gridap/JD3zW/src/FESpaces/TrialFESpaces.jl\" target=\"_blank\">C:\\Users\\IIT BBSR\\.julia\\packages\\Gridap\\JD3zW\\src\\FESpaces\\TrialFESpaces.jl:18</a></li> <li> TrialFESpace(objects, a::<b>GridapDistributed.DistributedMultiFieldFESpace</b>) in GridapDistributed at <a href=\"file://C:/Users/IIT BBSR/.julia/packages/GridapDistributed/XNMqm/src/MultiField.jl\" target=\"_blank\">C:\\Users\\IIT BBSR\\.julia\\packages\\GridapDistributed\\XNMqm\\src\\MultiField.jl:246</a></li> <li> TrialFESpace(a::<b>GridapDistributed.DistributedMultiFieldFESpace{MS}</b>, objects)<i> where MS</i> in GridapDistributed at <a href=\"file://C:/Users/IIT BBSR/.julia/packages/GridapDistributed/XNMqm/src/MultiField.jl\" target=\"_blank\">C:\\Users\\IIT BBSR\\.julia\\packages\\GridapDistributed\\XNMqm\\src\\MultiField.jl:250</a></li> <li> TrialFESpace(sh::<b>GridapSolvers.MultilevelTools.FESpaceHierarchy</b>, u) in GridapSolvers.MultilevelTools at <a href=\"file://C:/Users/IIT BBSR/.julia/packages/GridapSolvers/gwyZl/src/MultilevelTools/FESpaceHierarchies.jl\" target=\"_blank\">C:\\Users\\IIT BBSR\\.julia\\packages\\GridapSolvers\\gwyZl\\src\\MultilevelTools\\FESpaceHierarchies.jl:74</a></li> <li> TrialFESpace(dirichlet_values::<b>AbstractVector</b>, space::<b>SingleFieldFESpace</b>) in Gridap.FESpaces at <a href=\"file://C:/Users/IIT BBSR/.julia/packages/Gridap/JD3zW/src/FESpaces/TrialFESpaces.jl\" target=\"_blank\">C:\\Users\\IIT BBSR\\.julia\\packages\\Gridap\\JD3zW\\src\\FESpaces\\TrialFESpaces.jl:5</a></li> <li> TrialFESpace(f::<b>GridapDistributed.DistributedSingleFieldFESpace</b>, fun) in GridapDistributed at <a href=\"file://C:/Users/IIT BBSR/.julia/packages/GridapDistributed/XNMqm/src/FESpaces.jl\" target=\"_blank\">C:\\Users\\IIT BBSR\\.julia\\packages\\GridapDistributed\\XNMqm\\src\\FESpaces.jl:396</a></li> <li> TrialFESpace(f::<b>ZeroMeanFESpace</b>) in Gridap.FESpaces at <a href=\"file://C:/Users/IIT BBSR/.julia/packages/Gridap/JD3zW/src/FESpaces/ZeroMeanFESpaces.jl\" target=\"_blank\">C:\\Users\\IIT BBSR\\.julia\\packages\\Gridap\\JD3zW\\src\\FESpaces\\ZeroMeanFESpaces.jl:24</a></li> <li> TrialFESpace(f::<b>FESpaceWithConstantFixed{CA}</b>)<i> where CA</i> in Gridap.FESpaces at <a href=\"file://C:/Users/IIT BBSR/.julia/packages/Gridap/JD3zW/src/FESpaces/FESpacesWithConstantFixed.jl\" target=\"_blank\">C:\\Users\\IIT BBSR\\.julia\\packages\\Gridap\\JD3zW\\src\\FESpaces\\FESpacesWithConstantFixed.jl:93</a></li> <li> TrialFESpace(f::<b>DirichletFESpace</b>) in Gridap.FESpaces at <a href=\"file://C:/Users/IIT BBSR/.julia/packages/Gridap/JD3zW/src/FESpaces/DirichletFESpaces.jl\" target=\"_blank\">C:\\Users\\IIT BBSR\\.julia\\packages\\Gridap\\JD3zW\\src\\FESpaces\\DirichletFESpaces.jl:55</a></li> <li> TrialFESpace(f::<b>ConstantFESpace</b>) in Gridap.FESpaces at <a href=\"file://C:/Users/IIT BBSR/.julia/packages/Gridap/JD3zW/src/FESpaces/ConstantFESpaces.jl\" target=\"_blank\">C:\\Users\\IIT BBSR\\.julia\\packages\\Gridap\\JD3zW\\src\\FESpaces\\ConstantFESpaces.jl:87</a></li> <li> TrialFESpace(space::<b>SingleFieldFESpace</b>) in Gridap.FESpaces at <a href=\"file://C:/Users/IIT BBSR/.julia/packages/Gridap/JD3zW/src/FESpaces/TrialFESpaces.jl\" target=\"_blank\">C:\\Users\\IIT BBSR\\.julia\\packages\\Gridap\\JD3zW\\src\\FESpaces\\TrialFESpaces.jl:12</a></li> <li> TrialFESpace(f::<b>Function</b>, space::<b>SingleFieldFESpace</b>) in Gridap.FESpaces at <a href=\"file://C:/Users/IIT BBSR/.julia/packages/Gridap/JD3zW/src/FESpaces/TrialFESpaces.jl\" target=\"_blank\">C:\\Users\\IIT BBSR\\.julia\\packages\\Gridap\\JD3zW\\src\\FESpaces\\TrialFESpaces.jl:42</a></li> <li> TrialFESpace(sh::<b>GridapSolvers.MultilevelTools.FESpaceHierarchy</b>) in GridapSolvers.MultilevelTools at <a href=\"file://C:/Users/IIT BBSR/.julia/packages/GridapSolvers/gwyZl/src/MultilevelTools/FESpaceHierarchies.jl\" target=\"_blank\">C:\\Users\\IIT BBSR\\.julia\\packages\\GridapSolvers\\gwyZl\\src\\MultilevelTools\\FESpaceHierarchies.jl:80</a></li> <li> TrialFESpace(f::<b>GridapDistributed.DistributedSingleFieldFESpace</b>) in GridapDistributed at <a href=\"file://C:/Users/IIT BBSR/.julia/packages/GridapDistributed/XNMqm/src/FESpaces.jl\" target=\"_blank\">C:\\Users\\IIT BBSR\\.julia\\packages\\GridapDistributed\\XNMqm\\src\\FESpaces.jl:391</a></li> </ul>"
      ],
      "text/plain": [
       "# 16 methods for type constructor:\n",
       "  [1] TrialFESpace(\u001b[90ma\u001b[39m::\u001b[1mGridapSolvers.MultilevelTools.FESpaceHierarchyLevel\u001b[22m, \u001b[90margs...\u001b[39m; kwargs...)\n",
       "\u001b[90m     @\u001b[39m \u001b[36mGridapSolvers.MultilevelTools\u001b[39m \u001b[90mC:\\Users\\IIT BBSR\\.julia\\packages\\GridapSolvers\\gwyZl\\src\\MultilevelTools\\\u001b[39m\u001b[90m\u001b[4mFESpaceHierarchies.jl:51\u001b[24m\u001b[39m\n",
       "  [2] TrialFESpace(\u001b[90mfun\u001b[39m, \u001b[90mf\u001b[39m::\u001b[1mGridapDistributed.DistributedSingleFieldFESpace\u001b[22m)\n",
       "\u001b[90m     @\u001b[39m \u001b[32mGridapDistributed\u001b[39m \u001b[90mC:\\Users\\IIT BBSR\\.julia\\packages\\GridapDistributed\\XNMqm\\src\\\u001b[39m\u001b[90m\u001b[4mFESpaces.jl:403\u001b[24m\u001b[39m\n",
       "  [3] TrialFESpace(\u001b[90mspace\u001b[39m::\u001b[1mSingleFieldFESpace\u001b[22m, \u001b[90mobjects\u001b[39m)\n",
       "\u001b[90m     @\u001b[39m \u001b[90mC:\\Users\\IIT BBSR\\.julia\\packages\\Gridap\\JD3zW\\src\\FESpaces\\\u001b[39m\u001b[90m\u001b[4mTrialFESpaces.jl:18\u001b[24m\u001b[39m\n",
       "  [4] TrialFESpace(\u001b[90mobjects\u001b[39m, \u001b[90ma\u001b[39m::\u001b[1mGridapDistributed.DistributedMultiFieldFESpace\u001b[22m)\n",
       "\u001b[90m     @\u001b[39m \u001b[32mGridapDistributed\u001b[39m \u001b[90mC:\\Users\\IIT BBSR\\.julia\\packages\\GridapDistributed\\XNMqm\\src\\\u001b[39m\u001b[90m\u001b[4mMultiField.jl:246\u001b[24m\u001b[39m\n",
       "  [5] TrialFESpace(\u001b[90ma\u001b[39m::\u001b[1mGridapDistributed.DistributedMultiFieldFESpace\u001b[22m\u001b[0m{MS}, \u001b[90mobjects\u001b[39m) where MS\n",
       "\u001b[90m     @\u001b[39m \u001b[32mGridapDistributed\u001b[39m \u001b[90mC:\\Users\\IIT BBSR\\.julia\\packages\\GridapDistributed\\XNMqm\\src\\\u001b[39m\u001b[90m\u001b[4mMultiField.jl:250\u001b[24m\u001b[39m\n",
       "  [6] TrialFESpace(\u001b[90msh\u001b[39m::\u001b[1mGridapSolvers.MultilevelTools.FESpaceHierarchy\u001b[22m, \u001b[90mu\u001b[39m)\n",
       "\u001b[90m     @\u001b[39m \u001b[36mGridapSolvers.MultilevelTools\u001b[39m \u001b[90mC:\\Users\\IIT BBSR\\.julia\\packages\\GridapSolvers\\gwyZl\\src\\MultilevelTools\\\u001b[39m\u001b[90m\u001b[4mFESpaceHierarchies.jl:74\u001b[24m\u001b[39m\n",
       "  [7] TrialFESpace(\u001b[90mdirichlet_values\u001b[39m::\u001b[1mAbstractVector\u001b[22m, \u001b[90mspace\u001b[39m::\u001b[1mSingleFieldFESpace\u001b[22m)\n",
       "\u001b[90m     @\u001b[39m \u001b[90mC:\\Users\\IIT BBSR\\.julia\\packages\\Gridap\\JD3zW\\src\\FESpaces\\\u001b[39m\u001b[90m\u001b[4mTrialFESpaces.jl:5\u001b[24m\u001b[39m\n",
       "  [8] TrialFESpace(\u001b[90mf\u001b[39m::\u001b[1mGridapDistributed.DistributedSingleFieldFESpace\u001b[22m, \u001b[90mfun\u001b[39m)\n",
       "\u001b[90m     @\u001b[39m \u001b[32mGridapDistributed\u001b[39m \u001b[90mC:\\Users\\IIT BBSR\\.julia\\packages\\GridapDistributed\\XNMqm\\src\\\u001b[39m\u001b[90m\u001b[4mFESpaces.jl:396\u001b[24m\u001b[39m\n",
       "  [9] TrialFESpace(\u001b[90mf\u001b[39m::\u001b[1mZeroMeanFESpace\u001b[22m)\n",
       "\u001b[90m     @\u001b[39m \u001b[90mC:\\Users\\IIT BBSR\\.julia\\packages\\Gridap\\JD3zW\\src\\FESpaces\\\u001b[39m\u001b[90m\u001b[4mZeroMeanFESpaces.jl:24\u001b[24m\u001b[39m\n",
       " [10] TrialFESpace(\u001b[90mf\u001b[39m::\u001b[1mFESpaceWithConstantFixed\u001b[22m\u001b[0m{CA}) where CA\n",
       "\u001b[90m     @\u001b[39m \u001b[90mC:\\Users\\IIT BBSR\\.julia\\packages\\Gridap\\JD3zW\\src\\FESpaces\\\u001b[39m\u001b[90m\u001b[4mFESpacesWithConstantFixed.jl:93\u001b[24m\u001b[39m\n",
       " [11] TrialFESpace(\u001b[90mf\u001b[39m::\u001b[1mDirichletFESpace\u001b[22m)\n",
       "\u001b[90m     @\u001b[39m \u001b[90mC:\\Users\\IIT BBSR\\.julia\\packages\\Gridap\\JD3zW\\src\\FESpaces\\\u001b[39m\u001b[90m\u001b[4mDirichletFESpaces.jl:55\u001b[24m\u001b[39m\n",
       " [12] TrialFESpace(\u001b[90mf\u001b[39m::\u001b[1mConstantFESpace\u001b[22m)\n",
       "\u001b[90m     @\u001b[39m \u001b[90mC:\\Users\\IIT BBSR\\.julia\\packages\\Gridap\\JD3zW\\src\\FESpaces\\\u001b[39m\u001b[90m\u001b[4mConstantFESpaces.jl:87\u001b[24m\u001b[39m\n",
       " [13] TrialFESpace(\u001b[90mspace\u001b[39m::\u001b[1mSingleFieldFESpace\u001b[22m)\n",
       "\u001b[90m     @\u001b[39m \u001b[90mC:\\Users\\IIT BBSR\\.julia\\packages\\Gridap\\JD3zW\\src\\FESpaces\\\u001b[39m\u001b[90m\u001b[4mTrialFESpaces.jl:12\u001b[24m\u001b[39m\n",
       " [14] TrialFESpace(\u001b[90mf\u001b[39m::\u001b[1mFunction\u001b[22m, \u001b[90mspace\u001b[39m::\u001b[1mSingleFieldFESpace\u001b[22m)\n",
       "\u001b[90m     @\u001b[39m \u001b[90mC:\\Users\\IIT BBSR\\.julia\\packages\\Gridap\\JD3zW\\src\\FESpaces\\\u001b[39m\u001b[90m\u001b[4mTrialFESpaces.jl:42\u001b[24m\u001b[39m\n",
       " [15] TrialFESpace(\u001b[90msh\u001b[39m::\u001b[1mGridapSolvers.MultilevelTools.FESpaceHierarchy\u001b[22m)\n",
       "\u001b[90m     @\u001b[39m \u001b[36mGridapSolvers.MultilevelTools\u001b[39m \u001b[90mC:\\Users\\IIT BBSR\\.julia\\packages\\GridapSolvers\\gwyZl\\src\\MultilevelTools\\\u001b[39m\u001b[90m\u001b[4mFESpaceHierarchies.jl:80\u001b[24m\u001b[39m\n",
       " [16] TrialFESpace(\u001b[90mf\u001b[39m::\u001b[1mGridapDistributed.DistributedSingleFieldFESpace\u001b[22m)\n",
       "\u001b[90m     @\u001b[39m \u001b[32mGridapDistributed\u001b[39m \u001b[90mC:\\Users\\IIT BBSR\\.julia\\packages\\GridapDistributed\\XNMqm\\src\\\u001b[39m\u001b[90m\u001b[4mFESpaces.jl:391\u001b[24m\u001b[39m"
      ]
     },
     "metadata": {},
     "output_type": "display_data"
    }
   ],
   "source": [
    "using Gridap.FESpaces\n",
    "@which TrialFESpace\n",
    "methods(TrialFESpace)"
   ]
  },
  {
   "cell_type": "code",
   "execution_count": 36,
   "id": "08606c49",
   "metadata": {},
   "outputs": [
    {
     "data": {
      "text/html": [
       "# 4 methods for generic function <b>interpolate</b> from \u001b[35mGridap.FESpaces\u001b[39m:<ul><li> interpolate(u, f::<b>GridapDistributed.DistributedSingleFieldFESpace</b>) in GridapDistributed at <a href=\"file://C:/Users/IIT BBSR/.julia/packages/GridapDistributed/XNMqm/src/FESpaces.jl\" target=\"_blank\">C:\\Users\\IIT BBSR\\.julia\\packages\\GridapDistributed\\XNMqm\\src\\FESpaces.jl:444</a></li> <li> interpolate(objects, space::<b>GridapDistributed.DistributedMultiFieldFESpace</b>) in GridapDistributed at <a href=\"file://C:/Users/IIT BBSR/.julia/packages/GridapDistributed/XNMqm/src/MultiField.jl\" target=\"_blank\">C:\\Users\\IIT BBSR\\.julia\\packages\\GridapDistributed\\XNMqm\\src\\MultiField.jl:185</a></li> <li> interpolate(objects, fe::<b>MultiFieldFESpace</b>) in Gridap.MultiField at <a href=\"file://C:/Users/IIT BBSR/.julia/packages/Gridap/JD3zW/src/MultiField/MultiFieldFESpaces.jl\" target=\"_blank\">C:\\Users\\IIT BBSR\\.julia\\packages\\Gridap\\JD3zW\\src\\MultiField\\MultiFieldFESpaces.jl:616</a></li> <li> interpolate(object, fs::<b>SingleFieldFESpace</b>) in Gridap.FESpaces at <a href=\"file://C:/Users/IIT BBSR/.julia/packages/Gridap/JD3zW/src/FESpaces/SingleFieldFESpaces.jl\" target=\"_blank\">C:\\Users\\IIT BBSR\\.julia\\packages\\Gridap\\JD3zW\\src\\FESpaces\\SingleFieldFESpaces.jl:179</a></li> </ul>"
      ],
      "text/plain": [
       "# 4 methods for generic function \"interpolate\" from \u001b[35mGridap.FESpaces\u001b[39m:\n",
       " [1] interpolate(\u001b[90mu\u001b[39m, \u001b[90mf\u001b[39m::\u001b[1mGridapDistributed.DistributedSingleFieldFESpace\u001b[22m)\n",
       "\u001b[90m     @\u001b[39m \u001b[32mGridapDistributed\u001b[39m \u001b[90mC:\\Users\\IIT BBSR\\.julia\\packages\\GridapDistributed\\XNMqm\\src\\\u001b[39m\u001b[90m\u001b[4mFESpaces.jl:444\u001b[24m\u001b[39m\n",
       " [2] interpolate(\u001b[90mobjects\u001b[39m, \u001b[90mspace\u001b[39m::\u001b[1mGridapDistributed.DistributedMultiFieldFESpace\u001b[22m)\n",
       "\u001b[90m     @\u001b[39m \u001b[32mGridapDistributed\u001b[39m \u001b[90mC:\\Users\\IIT BBSR\\.julia\\packages\\GridapDistributed\\XNMqm\\src\\\u001b[39m\u001b[90m\u001b[4mMultiField.jl:185\u001b[24m\u001b[39m\n",
       " [3] interpolate(\u001b[90mobjects\u001b[39m, \u001b[90mfe\u001b[39m::\u001b[1mMultiFieldFESpace\u001b[22m)\n",
       "\u001b[90m     @\u001b[39m \u001b[35mGridap.MultiField\u001b[39m \u001b[90mC:\\Users\\IIT BBSR\\.julia\\packages\\Gridap\\JD3zW\\src\\MultiField\\\u001b[39m\u001b[90m\u001b[4mMultiFieldFESpaces.jl:616\u001b[24m\u001b[39m\n",
       " [4] interpolate(\u001b[90mobject\u001b[39m, \u001b[90mfs\u001b[39m::\u001b[1mSingleFieldFESpace\u001b[22m)\n",
       "\u001b[90m     @\u001b[39m \u001b[90mC:\\Users\\IIT BBSR\\.julia\\packages\\Gridap\\JD3zW\\src\\FESpaces\\\u001b[39m\u001b[90m\u001b[4mSingleFieldFESpaces.jl:179\u001b[24m\u001b[39m"
      ]
     },
     "metadata": {},
     "output_type": "display_data"
    }
   ],
   "source": [
    "using Gridap.FESpaces\n",
    "@which interpolate\n",
    "methods(interpolate)"
   ]
  },
  {
   "cell_type": "code",
   "execution_count": 38,
   "id": "ab3e0d97",
   "metadata": {},
   "outputs": [
    {
     "data": {
      "text/html": [
       "# 2 methods for type constructor:<ul><li> SmoothErsatzMaterialInterpolation(; <i>η, ϵ</i>) in GridapTopOpt at <a href=\"file://C:/Users/IIT BBSR/.julia/packages/GridapTopOpt/zQxvu/src/Utilities.jl\" target=\"_blank\">C:\\Users\\IIT BBSR\\.julia\\packages\\GridapTopOpt\\zQxvu\\src\\Utilities.jl:34</a></li> <li> SmoothErsatzMaterialInterpolation(η::<b>M</b>, ϵ::<b>N</b>, H, DH, I, ρ)<i> where {M<:(Vector{<:Number}), N<:(Vector{<:Number})}</i> in GridapTopOpt at <a href=\"file://C:/Users/IIT BBSR/.julia/packages/GridapTopOpt/zQxvu/src/Utilities.jl\" target=\"_blank\">C:\\Users\\IIT BBSR\\.julia\\packages\\GridapTopOpt\\zQxvu\\src\\Utilities.jl:26</a></li> </ul>"
      ],
      "text/plain": [
       "# 2 methods for type constructor:\n",
       " [1] SmoothErsatzMaterialInterpolation(; η, ϵ)\n",
       "\u001b[90m     @\u001b[39m \u001b[90mC:\\Users\\IIT BBSR\\.julia\\packages\\GridapTopOpt\\zQxvu\\src\\\u001b[39m\u001b[90m\u001b[4mUtilities.jl:34\u001b[24m\u001b[39m\n",
       " [2] SmoothErsatzMaterialInterpolation(\u001b[90mη\u001b[39m::\u001b[1mM\u001b[22m, \u001b[90mϵ\u001b[39m::\u001b[1mN\u001b[22m, \u001b[90mH\u001b[39m, \u001b[90mDH\u001b[39m, \u001b[90mI\u001b[39m, \u001b[90mρ\u001b[39m) where {M<:(Vector{<:Number}), N<:(Vector{<:Number})}\n",
       "\u001b[90m     @\u001b[39m \u001b[90mC:\\Users\\IIT BBSR\\.julia\\packages\\GridapTopOpt\\zQxvu\\src\\\u001b[39m\u001b[90m\u001b[4mUtilities.jl:26\u001b[24m\u001b[39m"
      ]
     },
     "metadata": {},
     "output_type": "display_data"
    }
   ],
   "source": [
    "using GridapTopOpt\n",
    "@which SmoothErsatzMaterialInterpolation\n",
    "methods(SmoothErsatzMaterialInterpolation)"
   ]
  },
  {
   "cell_type": "code",
   "execution_count": 41,
   "id": "ec95d372",
   "metadata": {},
   "outputs": [
    {
     "data": {
      "text/html": [
       "# 2 methods for generic function <b>get_cartesian_element_sizes</b> from \u001b[33mGridapTopOpt\u001b[39m:<ul><li> get_cartesian_element_sizes(model::<b>GridapDistributed.DistributedDiscreteModel</b>) in GridapTopOpt at <a href=\"file://C:/Users/IIT BBSR/.julia/packages/GridapTopOpt/zQxvu/src/Utilities.jl\" target=\"_blank\">C:\\Users\\IIT BBSR\\.julia\\packages\\GridapTopOpt\\zQxvu\\src\\Utilities.jl:186</a></li> <li> get_cartesian_element_sizes(model::<b>CartesianDiscreteModel</b>) in GridapTopOpt at <a href=\"file://C:/Users/IIT BBSR/.julia/packages/GridapTopOpt/zQxvu/src/Utilities.jl\" target=\"_blank\">C:\\Users\\IIT BBSR\\.julia\\packages\\GridapTopOpt\\zQxvu\\src\\Utilities.jl:181</a></li> </ul>"
      ],
      "text/plain": [
       "# 2 methods for generic function \"get_cartesian_element_sizes\" from \u001b[33mGridapTopOpt\u001b[39m:\n",
       " [1] get_cartesian_element_sizes(\u001b[90mmodel\u001b[39m::\u001b[1mGridapDistributed.DistributedDiscreteModel\u001b[22m)\n",
       "\u001b[90m     @\u001b[39m \u001b[90mC:\\Users\\IIT BBSR\\.julia\\packages\\GridapTopOpt\\zQxvu\\src\\\u001b[39m\u001b[90m\u001b[4mUtilities.jl:186\u001b[24m\u001b[39m\n",
       " [2] get_cartesian_element_sizes(\u001b[90mmodel\u001b[39m::\u001b[1mCartesianDiscreteModel\u001b[22m)\n",
       "\u001b[90m     @\u001b[39m \u001b[90mC:\\Users\\IIT BBSR\\.julia\\packages\\GridapTopOpt\\zQxvu\\src\\\u001b[39m\u001b[90m\u001b[4mUtilities.jl:181\u001b[24m\u001b[39m"
      ]
     },
     "metadata": {},
     "output_type": "display_data"
    }
   ],
   "source": [
    "using GridapTopOpt\n",
    "@which get_el_Δ\n",
    "methods(get_el_Δ)"
   ]
  },
  {
   "cell_type": "code",
   "execution_count": 45,
   "id": "2c4504c8",
   "metadata": {},
   "outputs": [
    {
     "data": {
      "text/html": [
       "# 1 method for type constructor:<ul><li> Integrand(object) in Gridap.CellData at <a href=\"file://C:/Users/IIT BBSR/.julia/packages/Gridap/JD3zW/src/CellData/CellQuadratures.jl\" target=\"_blank\">C:\\Users\\IIT BBSR\\.julia\\packages\\Gridap\\JD3zW\\src\\CellData\\CellQuadratures.jl:180</a></li> </ul>"
      ],
      "text/plain": [
       "# 1 method for type constructor:\n",
       " [1] Integrand(\u001b[90mobject\u001b[39m)\n",
       "\u001b[90m     @\u001b[39m \u001b[90mC:\\Users\\IIT BBSR\\.julia\\packages\\Gridap\\JD3zW\\src\\CellData\\\u001b[39m\u001b[90m\u001b[4mCellQuadratures.jl:180\u001b[24m\u001b[39m"
      ]
     },
     "metadata": {},
     "output_type": "display_data"
    }
   ],
   "source": [
    "using Gridap.CellData\n",
    "@which ∫\n",
    "methods(∫)"
   ]
  },
  {
   "cell_type": "code",
   "execution_count": 48,
   "id": "2b221263",
   "metadata": {},
   "outputs": [
    {
     "data": {
      "text/html": [
       "# 8 methods for generic function <b>∘</b> from \u001b[90mBase\u001b[39m:<ul><li> ∘(f::<b>Gridap.Fields.Field</b>, g::<b>Gridap.Fields.Field</b>) in Gridap.Fields at <a href=\"file://C:/Users/IIT BBSR/.julia/packages/Gridap/JD3zW/src/Fields/FieldsInterfaces.jl\" target=\"_blank\">C:\\Users\\IIT BBSR\\.julia\\packages\\Gridap\\JD3zW\\src\\Fields\\FieldsInterfaces.jl:523</a></li> <li> ∘(f::<b>Function</b>, g::<b>Tuple{Vararg{CellField}}</b>) in Gridap.CellData at <a href=\"file://C:/Users/IIT BBSR/.julia/packages/Gridap/JD3zW/src/CellData/CellFields.jl\" target=\"_blank\">C:\\Users\\IIT BBSR\\.julia\\packages\\Gridap\\JD3zW\\src\\CellData\\CellFields.jl:485</a></li> <li> ∘(f::<b>Function</b>, g::<b>Tuple{Vararg{Union{CellField, AbstractArray{<:Number}}}}</b>) in Gridap.CellData at <a href=\"file://C:/Users/IIT BBSR/.julia/packages/Gridap/JD3zW/src/CellData/CellFields.jl\" target=\"_blank\">C:\\Users\\IIT BBSR\\.julia\\packages\\Gridap\\JD3zW\\src\\CellData\\CellFields.jl:486</a></li> <li> ∘(f::<b>Function</b>, g::<b>Tuple{Vararg{Union{CellField, Function}}}</b>) in Gridap.CellData at <a href=\"file://C:/Users/IIT BBSR/.julia/packages/Gridap/JD3zW/src/CellData/CellFields.jl\" target=\"_blank\">C:\\Users\\IIT BBSR\\.julia\\packages\\Gridap\\JD3zW\\src\\CellData\\CellFields.jl:487</a></li> <li> ∘(f::<b>Function</b>, g::<b>CellField</b>) in Gridap.CellData at <a href=\"file://C:/Users/IIT BBSR/.julia/packages/Gridap/JD3zW/src/CellData/CellFields.jl\" target=\"_blank\">C:\\Users\\IIT BBSR\\.julia\\packages\\Gridap\\JD3zW\\src\\CellData\\CellFields.jl:484</a></li> <li> ∘(f) in Base at <a href=\"https://github.com/JuliaLang/julia/tree/9615af0f269df4d371b8010e9507ed5bae86103b/base/operators.jl#L1061\" target=\"_blank\">operators.jl:1061</a></li> <li> ∘(f, g) in Base at <a href=\"https://github.com/JuliaLang/julia/tree/9615af0f269df4d371b8010e9507ed5bae86103b/base/operators.jl#L1062\" target=\"_blank\">operators.jl:1062</a></li> <li> ∘(f, g, h...) in Base at <a href=\"https://github.com/JuliaLang/julia/tree/9615af0f269df4d371b8010e9507ed5bae86103b/base/operators.jl#L1063\" target=\"_blank\">operators.jl:1063</a></li> </ul>"
      ],
      "text/plain": [
       "# 8 methods for generic function \"∘\" from \u001b[90mBase\u001b[39m:\n",
       " [1] ∘(\u001b[90mf\u001b[39m::\u001b[1mGridap.Fields.Field\u001b[22m, \u001b[90mg\u001b[39m::\u001b[1mGridap.Fields.Field\u001b[22m)\n",
       "\u001b[90m     @\u001b[39m \u001b[35mGridap.Fields\u001b[39m \u001b[90mC:\\Users\\IIT BBSR\\.julia\\packages\\Gridap\\JD3zW\\src\\Fields\\\u001b[39m\u001b[90m\u001b[4mFieldsInterfaces.jl:523\u001b[24m\u001b[39m\n",
       " [2] ∘(\u001b[90mf\u001b[39m::\u001b[1mFunction\u001b[22m, \u001b[90mg\u001b[39m::\u001b[1mTuple\u001b[22m\u001b[0m{Vararg{CellField}})\n",
       "\u001b[90m     @\u001b[39m \u001b[35mGridap.CellData\u001b[39m \u001b[90mC:\\Users\\IIT BBSR\\.julia\\packages\\Gridap\\JD3zW\\src\\CellData\\\u001b[39m\u001b[90m\u001b[4mCellFields.jl:485\u001b[24m\u001b[39m\n",
       " [3] ∘(\u001b[90mf\u001b[39m::\u001b[1mFunction\u001b[22m, \u001b[90mg\u001b[39m::\u001b[1mTuple\u001b[22m\u001b[0m{Vararg{Union{CellField, AbstractArray{<:Number}}}})\n",
       "\u001b[90m     @\u001b[39m \u001b[35mGridap.CellData\u001b[39m \u001b[90mC:\\Users\\IIT BBSR\\.julia\\packages\\Gridap\\JD3zW\\src\\CellData\\\u001b[39m\u001b[90m\u001b[4mCellFields.jl:486\u001b[24m\u001b[39m\n",
       " [4] ∘(\u001b[90mf\u001b[39m::\u001b[1mFunction\u001b[22m, \u001b[90mg\u001b[39m::\u001b[1mTuple\u001b[22m\u001b[0m{Vararg{Union{CellField, Function}}})\n",
       "\u001b[90m     @\u001b[39m \u001b[35mGridap.CellData\u001b[39m \u001b[90mC:\\Users\\IIT BBSR\\.julia\\packages\\Gridap\\JD3zW\\src\\CellData\\\u001b[39m\u001b[90m\u001b[4mCellFields.jl:487\u001b[24m\u001b[39m\n",
       " [5] ∘(\u001b[90mf\u001b[39m::\u001b[1mFunction\u001b[22m, \u001b[90mg\u001b[39m::\u001b[1mCellField\u001b[22m)\n",
       "\u001b[90m     @\u001b[39m \u001b[35mGridap.CellData\u001b[39m \u001b[90mC:\\Users\\IIT BBSR\\.julia\\packages\\Gridap\\JD3zW\\src\\CellData\\\u001b[39m\u001b[90m\u001b[4mCellFields.jl:484\u001b[24m\u001b[39m\n",
       " [6] ∘(\u001b[90mf\u001b[39m)\n",
       "\u001b[90m     @\u001b[39m \u001b[90m\u001b[4moperators.jl:1061\u001b[24m\u001b[39m\n",
       " [7] ∘(\u001b[90mf\u001b[39m, \u001b[90mg\u001b[39m)\n",
       "\u001b[90m     @\u001b[39m \u001b[90m\u001b[4moperators.jl:1062\u001b[24m\u001b[39m\n",
       " [8] ∘(\u001b[90mf\u001b[39m, \u001b[90mg\u001b[39m, \u001b[90mh...\u001b[39m)\n",
       "\u001b[90m     @\u001b[39m \u001b[90m\u001b[4moperators.jl:1063\u001b[24m\u001b[39m"
      ]
     },
     "metadata": {},
     "output_type": "display_data"
    }
   ],
   "source": [
    "using Base\n",
    "@which ∘\n",
    "methods(∘)"
   ]
  },
  {
   "cell_type": "code",
   "execution_count": 50,
   "id": "6d4f5079",
   "metadata": {},
   "outputs": [
    {
     "data": {
      "text/html": [
       "# 20 methods for generic function <b>inner</b> from \u001b[35mGridap.TensorValues\u001b[39m:<ul><li> inner(a::<b>CellField</b>, b::<b>SkeletonPair{<:CellField}</b>) in Gridap.CellData at <a href=\"file://C:/Users/IIT BBSR/.julia/packages/Gridap/JD3zW/src/CellData/CellFields.jl\" target=\"_blank\">C:\\Users\\IIT BBSR\\.julia\\packages\\Gridap\\JD3zW\\src\\CellData\\CellFields.jl:597</a></li> <li> inner(a::<b>CellField</b>, b::<b>AbstractArray{<:Number}</b>) in Gridap.CellData at <a href=\"file://C:/Users/IIT BBSR/.julia/packages/Gridap/JD3zW/src/CellData/CellFields.jl\" target=\"_blank\">C:\\Users\\IIT BBSR\\.julia\\packages\\Gridap\\JD3zW\\src\\CellData\\CellFields.jl:508</a></li> <li> inner(a::<b>CellField</b>, b::<b>Function</b>) in Gridap.CellData at <a href=\"file://C:/Users/IIT BBSR/.julia/packages/Gridap/JD3zW/src/CellData/CellFields.jl\" target=\"_blank\">C:\\Users\\IIT BBSR\\.julia\\packages\\Gridap\\JD3zW\\src\\CellData\\CellFields.jl:506</a></li> <li> inner(a::<b>CellField</b>, b::<b>Number</b>) in Gridap.CellData at <a href=\"file://C:/Users/IIT BBSR/.julia/packages/Gridap/JD3zW/src/CellData/CellFields.jl\" target=\"_blank\">C:\\Users\\IIT BBSR\\.julia\\packages\\Gridap\\JD3zW\\src\\CellData\\CellFields.jl:504</a></li> <li> inner(a::<b>CellField</b>, b::<b>CellField</b>) in Gridap.CellData at <a href=\"file://C:/Users/IIT BBSR/.julia/packages/Gridap/JD3zW/src/CellData/CellFields.jl\" target=\"_blank\">C:\\Users\\IIT BBSR\\.julia\\packages\\Gridap\\JD3zW\\src\\CellData\\CellFields.jl:503</a></li> <li> inner(a::<b>Gridap.Fields.Field</b>, b::<b>Number</b>) in Gridap.Fields at <a href=\"file://C:/Users/IIT BBSR/.julia/packages/Gridap/JD3zW/src/Fields/FieldsInterfaces.jl\" target=\"_blank\">C:\\Users\\IIT BBSR\\.julia\\packages\\Gridap\\JD3zW\\src\\Fields\\FieldsInterfaces.jl:402</a></li> <li> inner(a::<b>AbstractArray{<:Number}</b>, b::<b>CellField</b>) in Gridap.CellData at <a href=\"file://C:/Users/IIT BBSR/.julia/packages/Gridap/JD3zW/src/CellData/CellFields.jl\" target=\"_blank\">C:\\Users\\IIT BBSR\\.julia\\packages\\Gridap\\JD3zW\\src\\CellData\\CellFields.jl:509</a></li> <li> inner(a::<b>SkeletonPair{<:CellField}</b>, b::<b>SkeletonPair{<:CellField}</b>) in Gridap.CellData at <a href=\"file://C:/Users/IIT BBSR/.julia/packages/Gridap/JD3zW/src/CellData/CellFields.jl\" target=\"_blank\">C:\\Users\\IIT BBSR\\.julia\\packages\\Gridap\\JD3zW\\src\\CellData\\CellFields.jl:599</a></li> <li> inner(a::<b>SkeletonPair{<:CellField}</b>, b::<b>CellField</b>) in Gridap.CellData at <a href=\"file://C:/Users/IIT BBSR/.julia/packages/Gridap/JD3zW/src/CellData/CellFields.jl\" target=\"_blank\">C:\\Users\\IIT BBSR\\.julia\\packages\\Gridap\\JD3zW\\src\\CellData\\CellFields.jl:598</a></li> <li> inner(a::<b>Function</b>, b::<b>CellField</b>) in Gridap.CellData at <a href=\"file://C:/Users/IIT BBSR/.julia/packages/Gridap/JD3zW/src/CellData/CellFields.jl\" target=\"_blank\">C:\\Users\\IIT BBSR\\.julia\\packages\\Gridap\\JD3zW\\src\\CellData\\CellFields.jl:507</a></li> <li> inner(a::<b>AbstractSymTensorValue{D, Ta}</b>, b::<b>AbstractSymTensorValue{D, Tb}</b>)<i> where {D, Ta, Tb}</i> in Gridap.TensorValues at <a href=\"file://C:/Users/IIT BBSR/.julia/packages/Gridap/JD3zW/src/TensorValues/Operations.jl\" target=\"_blank\">C:\\Users\\IIT BBSR\\.julia\\packages\\Gridap\\JD3zW\\src\\TensorValues\\Operations.jl:376</a></li> <li> inner(a::<b>MultiValue{NTuple{4, D}}</b>, b::<b>MultiValue{NTuple{4, D}}</b>)<i> where D</i> in Gridap.TensorValues at <a href=\"file://C:/Users/IIT BBSR/.julia/packages/Gridap/JD3zW/src/TensorValues/Operations.jl\" target=\"_blank\">C:\\Users\\IIT BBSR\\.julia\\packages\\Gridap\\JD3zW\\src\\TensorValues\\Operations.jl:392</a></li> <li> inner(a::<b>MultiValue{S, Ta}</b>, b::<b>MultiValue{S, Tb}</b>)<i> where {S, Ta, Tb}</i> in Gridap.TensorValues at <a href=\"file://C:/Users/IIT BBSR/.julia/packages/Gridap/JD3zW/src/TensorValues/Operations.jl\" target=\"_blank\">C:\\Users\\IIT BBSR\\.julia\\packages\\Gridap\\JD3zW\\src\\TensorValues\\Operations.jl:370</a></li> <li> inner(a::<b>MultiValue{NTuple{4, D}}</b>, b::<b>MultiValue{Tuple{D, D}}</b>)<i> where D</i> in Gridap.TensorValues at <a href=\"file://C:/Users/IIT BBSR/.julia/packages/Gridap/JD3zW/src/TensorValues/Operations.jl\" target=\"_blank\">C:\\Users\\IIT BBSR\\.julia\\packages\\Gridap\\JD3zW\\src\\TensorValues\\Operations.jl:396</a></li> <li> inner(a::<b>MultiValue{Tuple{D, D}}</b>, b::<b>MultiValue{NTuple{4, D}}</b>)<i> where D</i> in Gridap.TensorValues at <a href=\"file://C:/Users/IIT BBSR/.julia/packages/Gridap/JD3zW/src/TensorValues/Operations.jl\" target=\"_blank\">C:\\Users\\IIT BBSR\\.julia\\packages\\Gridap\\JD3zW\\src\\TensorValues\\Operations.jl:400</a></li> <li> inner(a::<b>MultiValue</b>, b::<b>MultiValue</b>) in Gridap.TensorValues at <a href=\"file://C:/Users/IIT BBSR/.julia/packages/Gridap/JD3zW/src/TensorValues/Operations.jl\" target=\"_blank\">C:\\Users\\IIT BBSR\\.julia\\packages\\Gridap\\JD3zW\\src\\TensorValues\\Operations.jl:366</a></li> <li> inner(a::<b>Number</b>, b::<b>CellField</b>) in Gridap.CellData at <a href=\"file://C:/Users/IIT BBSR/.julia/packages/Gridap/JD3zW/src/CellData/CellFields.jl\" target=\"_blank\">C:\\Users\\IIT BBSR\\.julia\\packages\\Gridap\\JD3zW\\src\\CellData\\CellFields.jl:505</a></li> <li> inner(a::<b>Number</b>, b::<b>Gridap.Fields.Field</b>) in Gridap.Fields at <a href=\"file://C:/Users/IIT BBSR/.julia/packages/Gridap/JD3zW/src/Fields/FieldsInterfaces.jl\" target=\"_blank\">C:\\Users\\IIT BBSR\\.julia\\packages\\Gridap\\JD3zW\\src\\Fields\\FieldsInterfaces.jl:403</a></li> <li> inner(a::<b>Number</b>, b::<b>Number</b>) in Gridap.TensorValues at <a href=\"file://C:/Users/IIT BBSR/.julia/packages/Gridap/JD3zW/src/TensorValues/Operations.jl\" target=\"_blank\">C:\\Users\\IIT BBSR\\.julia\\packages\\Gridap\\JD3zW\\src\\TensorValues\\Operations.jl:358</a></li> <li> inner(a::<b>Gridap.Fields.Field...</b>) in Gridap.Fields at <a href=\"file://C:/Users/IIT BBSR/.julia/packages/Gridap/JD3zW/src/Fields/FieldsInterfaces.jl\" target=\"_blank\">C:\\Users\\IIT BBSR\\.julia\\packages\\Gridap\\JD3zW\\src\\Fields\\FieldsInterfaces.jl:396</a></li> </ul>"
      ],
      "text/plain": [
       "# 20 methods for generic function \"inner\" from \u001b[35mGridap.TensorValues\u001b[39m:\n",
       "  [1] inner(\u001b[90ma\u001b[39m::\u001b[1mCellField\u001b[22m, \u001b[90mb\u001b[39m::\u001b[1mSkeletonPair\u001b[22m\u001b[0m{<:CellField})\n",
       "\u001b[90m     @\u001b[39m \u001b[35mGridap.CellData\u001b[39m \u001b[90mC:\\Users\\IIT BBSR\\.julia\\packages\\Gridap\\JD3zW\\src\\CellData\\\u001b[39m\u001b[90m\u001b[4mCellFields.jl:597\u001b[24m\u001b[39m\n",
       "  [2] inner(\u001b[90ma\u001b[39m::\u001b[1mCellField\u001b[22m, \u001b[90mb\u001b[39m::\u001b[1mAbstractArray\u001b[22m\u001b[0m{<:Number})\n",
       "\u001b[90m     @\u001b[39m \u001b[35mGridap.CellData\u001b[39m \u001b[90mC:\\Users\\IIT BBSR\\.julia\\packages\\Gridap\\JD3zW\\src\\CellData\\\u001b[39m\u001b[90m\u001b[4mCellFields.jl:508\u001b[24m\u001b[39m\n",
       "  [3] inner(\u001b[90ma\u001b[39m::\u001b[1mCellField\u001b[22m, \u001b[90mb\u001b[39m::\u001b[1mFunction\u001b[22m)\n",
       "\u001b[90m     @\u001b[39m \u001b[35mGridap.CellData\u001b[39m \u001b[90mC:\\Users\\IIT BBSR\\.julia\\packages\\Gridap\\JD3zW\\src\\CellData\\\u001b[39m\u001b[90m\u001b[4mCellFields.jl:506\u001b[24m\u001b[39m\n",
       "  [4] inner(\u001b[90ma\u001b[39m::\u001b[1mCellField\u001b[22m, \u001b[90mb\u001b[39m::\u001b[1mNumber\u001b[22m)\n",
       "\u001b[90m     @\u001b[39m \u001b[35mGridap.CellData\u001b[39m \u001b[90mC:\\Users\\IIT BBSR\\.julia\\packages\\Gridap\\JD3zW\\src\\CellData\\\u001b[39m\u001b[90m\u001b[4mCellFields.jl:504\u001b[24m\u001b[39m\n",
       "  [5] inner(\u001b[90ma\u001b[39m::\u001b[1mCellField\u001b[22m, \u001b[90mb\u001b[39m::\u001b[1mCellField\u001b[22m)\n",
       "\u001b[90m     @\u001b[39m \u001b[35mGridap.CellData\u001b[39m \u001b[90mC:\\Users\\IIT BBSR\\.julia\\packages\\Gridap\\JD3zW\\src\\CellData\\\u001b[39m\u001b[90m\u001b[4mCellFields.jl:503\u001b[24m\u001b[39m\n",
       "  [6] inner(\u001b[90ma\u001b[39m::\u001b[1mGridap.Fields.Field\u001b[22m, \u001b[90mb\u001b[39m::\u001b[1mNumber\u001b[22m)\n",
       "\u001b[90m     @\u001b[39m \u001b[35mGridap.Fields\u001b[39m \u001b[90mC:\\Users\\IIT BBSR\\.julia\\packages\\Gridap\\JD3zW\\src\\Fields\\\u001b[39m\u001b[90m\u001b[4mFieldsInterfaces.jl:402\u001b[24m\u001b[39m\n",
       "  [7] inner(\u001b[90ma\u001b[39m::\u001b[1mAbstractArray\u001b[22m\u001b[0m{<:Number}, \u001b[90mb\u001b[39m::\u001b[1mCellField\u001b[22m)\n",
       "\u001b[90m     @\u001b[39m \u001b[35mGridap.CellData\u001b[39m \u001b[90mC:\\Users\\IIT BBSR\\.julia\\packages\\Gridap\\JD3zW\\src\\CellData\\\u001b[39m\u001b[90m\u001b[4mCellFields.jl:509\u001b[24m\u001b[39m\n",
       "  [8] inner(\u001b[90ma\u001b[39m::\u001b[1mSkeletonPair\u001b[22m\u001b[0m{<:CellField}, \u001b[90mb\u001b[39m::\u001b[1mSkeletonPair\u001b[22m\u001b[0m{<:CellField})\n",
       "\u001b[90m     @\u001b[39m \u001b[35mGridap.CellData\u001b[39m \u001b[90mC:\\Users\\IIT BBSR\\.julia\\packages\\Gridap\\JD3zW\\src\\CellData\\\u001b[39m\u001b[90m\u001b[4mCellFields.jl:599\u001b[24m\u001b[39m\n",
       "  [9] inner(\u001b[90ma\u001b[39m::\u001b[1mSkeletonPair\u001b[22m\u001b[0m{<:CellField}, \u001b[90mb\u001b[39m::\u001b[1mCellField\u001b[22m)\n",
       "\u001b[90m     @\u001b[39m \u001b[35mGridap.CellData\u001b[39m \u001b[90mC:\\Users\\IIT BBSR\\.julia\\packages\\Gridap\\JD3zW\\src\\CellData\\\u001b[39m\u001b[90m\u001b[4mCellFields.jl:598\u001b[24m\u001b[39m\n",
       " [10] inner(\u001b[90ma\u001b[39m::\u001b[1mFunction\u001b[22m, \u001b[90mb\u001b[39m::\u001b[1mCellField\u001b[22m)\n",
       "\u001b[90m     @\u001b[39m \u001b[35mGridap.CellData\u001b[39m \u001b[90mC:\\Users\\IIT BBSR\\.julia\\packages\\Gridap\\JD3zW\\src\\CellData\\\u001b[39m\u001b[90m\u001b[4mCellFields.jl:507\u001b[24m\u001b[39m\n",
       " [11] inner(\u001b[90ma\u001b[39m::\u001b[1mAbstractSymTensorValue\u001b[22m\u001b[0m{D, Ta}, \u001b[90mb\u001b[39m::\u001b[1mAbstractSymTensorValue\u001b[22m\u001b[0m{D, Tb}) where {D, Ta, Tb}\n",
       "\u001b[90m     @\u001b[39m \u001b[90mC:\\Users\\IIT BBSR\\.julia\\packages\\Gridap\\JD3zW\\src\\TensorValues\\\u001b[39m\u001b[90m\u001b[4mOperations.jl:376\u001b[24m\u001b[39m\n",
       " [12] inner(\u001b[90ma\u001b[39m::\u001b[1mMultiValue\u001b[22m\u001b[0m{NTuple{4, D}}, \u001b[90mb\u001b[39m::\u001b[1mMultiValue\u001b[22m\u001b[0m{NTuple{4, D}}) where D\n",
       "\u001b[90m     @\u001b[39m \u001b[90mC:\\Users\\IIT BBSR\\.julia\\packages\\Gridap\\JD3zW\\src\\TensorValues\\\u001b[39m\u001b[90m\u001b[4mOperations.jl:392\u001b[24m\u001b[39m\n",
       " [13] inner(\u001b[90ma\u001b[39m::\u001b[1mMultiValue\u001b[22m\u001b[0m{S, Ta}, \u001b[90mb\u001b[39m::\u001b[1mMultiValue\u001b[22m\u001b[0m{S, Tb}) where {S, Ta, Tb}\n",
       "\u001b[90m     @\u001b[39m \u001b[90mC:\\Users\\IIT BBSR\\.julia\\packages\\Gridap\\JD3zW\\src\\TensorValues\\\u001b[39m\u001b[90m\u001b[4mOperations.jl:370\u001b[24m\u001b[39m\n",
       " [14] inner(\u001b[90ma\u001b[39m::\u001b[1mMultiValue\u001b[22m\u001b[0m{NTuple{4, D}}, \u001b[90mb\u001b[39m::\u001b[1mMultiValue\u001b[22m\u001b[0m{Tuple{D, D}}) where D\n",
       "\u001b[90m     @\u001b[39m \u001b[90mC:\\Users\\IIT BBSR\\.julia\\packages\\Gridap\\JD3zW\\src\\TensorValues\\\u001b[39m\u001b[90m\u001b[4mOperations.jl:396\u001b[24m\u001b[39m\n",
       " [15] inner(\u001b[90ma\u001b[39m::\u001b[1mMultiValue\u001b[22m\u001b[0m{Tuple{D, D}}, \u001b[90mb\u001b[39m::\u001b[1mMultiValue\u001b[22m\u001b[0m{NTuple{4, D}}) where D\n",
       "\u001b[90m     @\u001b[39m \u001b[90mC:\\Users\\IIT BBSR\\.julia\\packages\\Gridap\\JD3zW\\src\\TensorValues\\\u001b[39m\u001b[90m\u001b[4mOperations.jl:400\u001b[24m\u001b[39m\n",
       " [16] inner(\u001b[90ma\u001b[39m::\u001b[1mMultiValue\u001b[22m, \u001b[90mb\u001b[39m::\u001b[1mMultiValue\u001b[22m)\n",
       "\u001b[90m     @\u001b[39m \u001b[90mC:\\Users\\IIT BBSR\\.julia\\packages\\Gridap\\JD3zW\\src\\TensorValues\\\u001b[39m\u001b[90m\u001b[4mOperations.jl:366\u001b[24m\u001b[39m\n",
       " [17] inner(\u001b[90ma\u001b[39m::\u001b[1mNumber\u001b[22m, \u001b[90mb\u001b[39m::\u001b[1mCellField\u001b[22m)\n",
       "\u001b[90m     @\u001b[39m \u001b[35mGridap.CellData\u001b[39m \u001b[90mC:\\Users\\IIT BBSR\\.julia\\packages\\Gridap\\JD3zW\\src\\CellData\\\u001b[39m\u001b[90m\u001b[4mCellFields.jl:505\u001b[24m\u001b[39m\n",
       " [18] inner(\u001b[90ma\u001b[39m::\u001b[1mNumber\u001b[22m, \u001b[90mb\u001b[39m::\u001b[1mGridap.Fields.Field\u001b[22m)\n",
       "\u001b[90m     @\u001b[39m \u001b[35mGridap.Fields\u001b[39m \u001b[90mC:\\Users\\IIT BBSR\\.julia\\packages\\Gridap\\JD3zW\\src\\Fields\\\u001b[39m\u001b[90m\u001b[4mFieldsInterfaces.jl:403\u001b[24m\u001b[39m\n",
       " [19] inner(\u001b[90ma\u001b[39m::\u001b[1mNumber\u001b[22m, \u001b[90mb\u001b[39m::\u001b[1mNumber\u001b[22m)\n",
       "\u001b[90m     @\u001b[39m \u001b[90mC:\\Users\\IIT BBSR\\.julia\\packages\\Gridap\\JD3zW\\src\\TensorValues\\\u001b[39m\u001b[90m\u001b[4mOperations.jl:358\u001b[24m\u001b[39m\n",
       " [20] inner(\u001b[90ma\u001b[39m::\u001b[1mGridap.Fields.Field...\u001b[22m)\n",
       "\u001b[90m     @\u001b[39m \u001b[35mGridap.Fields\u001b[39m \u001b[90mC:\\Users\\IIT BBSR\\.julia\\packages\\Gridap\\JD3zW\\src\\Fields\\\u001b[39m\u001b[90m\u001b[4mFieldsInterfaces.jl:396\u001b[24m\u001b[39m"
      ]
     },
     "metadata": {},
     "output_type": "display_data"
    }
   ],
   "source": [
    "using Gridap.TensorValues\n",
    "@which ⊙\n",
    "methods(⊙)"
   ]
  },
  {
   "cell_type": "code",
   "execution_count": 53,
   "id": "91d4e8d3",
   "metadata": {},
   "outputs": [
    {
     "data": {
      "text/html": [
       "# 5 methods for generic function <b>symmetric_gradient</b> from \u001b[35mGridap.Fields\u001b[39m:<ul><li> symmetric_gradient(ts::<b>Gridap.ODEs.TimeSpaceFunction</b>) in Gridap.ODEs at <a href=\"file://C:/Users/IIT BBSR/.julia/packages/Gridap/JD3zW/src/ODEs/TimeDerivatives.jl\" target=\"_blank\">C:\\Users\\IIT BBSR\\.julia\\packages\\Gridap\\JD3zW\\src\\ODEs\\TimeDerivatives.jl:32</a></li> <li> symmetric_gradient(f::<b>Function</b>) in Gridap.Fields at <a href=\"file://C:/Users/IIT BBSR/.julia/packages/Gridap/JD3zW/src/Fields/AutoDiff.jl\" target=\"_blank\">C:\\Users\\IIT BBSR\\.julia\\packages\\Gridap\\JD3zW\\src\\Fields\\AutoDiff.jl:24</a></li> <li> symmetric_gradient(f) in Gridap.Fields at <a href=\"file://C:/Users/IIT BBSR/.julia/packages/Gridap/JD3zW/src/Fields/DiffOperators.jl\" target=\"_blank\">C:\\Users\\IIT BBSR\\.julia\\packages\\Gridap\\JD3zW\\src\\Fields\\DiffOperators.jl:24</a></li> <li> symmetric_gradient(f::<b>Function</b>, x::<b>StaticArraysCore.SVector</b>) in Gridap.Fields at <a href=\"file://C:/Users/IIT BBSR/.julia/packages/Gridap/JD3zW/src/Fields/AutoDiff.jl\" target=\"_blank\">C:\\Users\\IIT BBSR\\.julia\\packages\\Gridap\\JD3zW\\src\\Fields\\AutoDiff.jl:177</a></li> <li> symmetric_gradient(f::<b>Function</b>, x::<b>VectorValue</b>) in Gridap.Fields at <a href=\"file://C:/Users/IIT BBSR/.julia/packages/Gridap/JD3zW/src/Fields/AutoDiff.jl\" target=\"_blank\">C:\\Users\\IIT BBSR\\.julia\\packages\\Gridap\\JD3zW\\src\\Fields\\AutoDiff.jl:73</a></li> </ul>"
      ],
      "text/plain": [
       "# 5 methods for generic function \"symmetric_gradient\" from \u001b[35mGridap.Fields\u001b[39m:\n",
       " [1] symmetric_gradient(\u001b[90mts\u001b[39m::\u001b[1mGridap.ODEs.TimeSpaceFunction\u001b[22m)\n",
       "\u001b[90m     @\u001b[39m \u001b[35mGridap.ODEs\u001b[39m \u001b[90mC:\\Users\\IIT BBSR\\.julia\\packages\\Gridap\\JD3zW\\src\\ODEs\\\u001b[39m\u001b[90m\u001b[4mTimeDerivatives.jl:32\u001b[24m\u001b[39m\n",
       " [2] symmetric_gradient(\u001b[90mf\u001b[39m::\u001b[1mFunction\u001b[22m)\n",
       "\u001b[90m     @\u001b[39m \u001b[90mC:\\Users\\IIT BBSR\\.julia\\packages\\Gridap\\JD3zW\\src\\Fields\\\u001b[39m\u001b[90m\u001b[4mAutoDiff.jl:24\u001b[24m\u001b[39m\n",
       " [3] symmetric_gradient(\u001b[90mf\u001b[39m)\n",
       "\u001b[90m     @\u001b[39m \u001b[90mC:\\Users\\IIT BBSR\\.julia\\packages\\Gridap\\JD3zW\\src\\Fields\\\u001b[39m\u001b[90m\u001b[4mDiffOperators.jl:24\u001b[24m\u001b[39m\n",
       " [4] symmetric_gradient(\u001b[90mf\u001b[39m::\u001b[1mFunction\u001b[22m, \u001b[90mx\u001b[39m::\u001b[1mStaticArraysCore.SVector\u001b[22m)\n",
       "\u001b[90m     @\u001b[39m \u001b[90mC:\\Users\\IIT BBSR\\.julia\\packages\\Gridap\\JD3zW\\src\\Fields\\\u001b[39m\u001b[90m\u001b[4mAutoDiff.jl:177\u001b[24m\u001b[39m\n",
       " [5] symmetric_gradient(\u001b[90mf\u001b[39m::\u001b[1mFunction\u001b[22m, \u001b[90mx\u001b[39m::\u001b[1mVectorValue\u001b[22m)\n",
       "\u001b[90m     @\u001b[39m \u001b[90mC:\\Users\\IIT BBSR\\.julia\\packages\\Gridap\\JD3zW\\src\\Fields\\\u001b[39m\u001b[90m\u001b[4mAutoDiff.jl:73\u001b[24m\u001b[39m"
      ]
     },
     "metadata": {},
     "output_type": "display_data"
    }
   ],
   "source": [
    "using Gridap.Fields\n",
    "@which ε\n",
    "methods(ε)"
   ]
  },
  {
   "cell_type": "code",
   "execution_count": 55,
   "id": "d9c29bac",
   "metadata": {},
   "outputs": [
    {
     "data": {
      "text/html": [
       "# 3 methods for type constructor:<ul><li> AffineFEStateMap(biform::<b>Function</b>, liform::<b>Function</b>, U, V, V_φ; <i>assem_U, assem_adjoint, assem_deriv, ls, adjoint_ls, reassemble_matrix, reassemble_adjoint, reassemble_adjoint_in_pullback, precompute_uhd</i>) in GridapTopOpt at <a href=\"file://C:/Users/IIT BBSR/.julia/packages/GridapTopOpt/zQxvu/src/StateMaps/AffineFEStateMaps.jl\" target=\"_blank\">C:\\Users\\IIT BBSR\\.julia\\packages\\GridapTopOpt\\zQxvu\\src\\StateMaps\\AffineFEStateMaps.jl:56</a></li> <li> AffineFEStateMap(biform::<b>Function</b>, liform::<b>Function</b>, U, V, V_φ, U_reg, φh; <i>kwargs...</i>) in GridapTopOpt at <a href=\"file://C:/Users/IIT BBSR/.julia/packages/GridapTopOpt/zQxvu/src/StateMaps/AffineFEStateMaps.jl\" target=\"_blank\">C:\\Users\\IIT BBSR\\.julia\\packages\\GridapTopOpt\\zQxvu\\src\\StateMaps\\AffineFEStateMaps.jl:190</a></li> <li> AffineFEStateMap(biform::<b>Function</b>, liform::<b>Function</b>, U, V, V_φ, φh; <i>kwargs...</i>) in GridapTopOpt at <a href=\"file://C:/Users/IIT BBSR/.julia/packages/GridapTopOpt/zQxvu/src/StateMaps/AffineFEStateMaps.jl\" target=\"_blank\">C:\\Users\\IIT BBSR\\.julia\\packages\\GridapTopOpt\\zQxvu\\src\\StateMaps\\AffineFEStateMaps.jl:193</a></li> </ul>"
      ],
      "text/plain": [
       "# 3 methods for type constructor:\n",
       " [1] AffineFEStateMap(\u001b[90mbiform\u001b[39m::\u001b[1mFunction\u001b[22m, \u001b[90mliform\u001b[39m::\u001b[1mFunction\u001b[22m, \u001b[90mU\u001b[39m, \u001b[90mV\u001b[39m, \u001b[90mV_φ\u001b[39m; assem_U, assem_adjoint, assem_deriv, ls, adjoint_ls, reassemble_matrix, reassemble_adjoint, reassemble_adjoint_in_pullback, precompute_uhd)\n",
       "\u001b[90m     @\u001b[39m \u001b[90mC:\\Users\\IIT BBSR\\.julia\\packages\\GridapTopOpt\\zQxvu\\src\\StateMaps\\\u001b[39m\u001b[90m\u001b[4mAffineFEStateMaps.jl:56\u001b[24m\u001b[39m\n",
       " [2] AffineFEStateMap(\u001b[90mbiform\u001b[39m::\u001b[1mFunction\u001b[22m, \u001b[90mliform\u001b[39m::\u001b[1mFunction\u001b[22m, \u001b[90mU\u001b[39m, \u001b[90mV\u001b[39m, \u001b[90mV_φ\u001b[39m, \u001b[90mU_reg\u001b[39m, \u001b[90mφh\u001b[39m; kwargs...)\n",
       "\u001b[90m     @\u001b[39m \u001b[90mC:\\Users\\IIT BBSR\\.julia\\packages\\GridapTopOpt\\zQxvu\\src\\StateMaps\\\u001b[39m\u001b[90m\u001b[4mAffineFEStateMaps.jl:190\u001b[24m\u001b[39m\n",
       " [3] AffineFEStateMap(\u001b[90mbiform\u001b[39m::\u001b[1mFunction\u001b[22m, \u001b[90mliform\u001b[39m::\u001b[1mFunction\u001b[22m, \u001b[90mU\u001b[39m, \u001b[90mV\u001b[39m, \u001b[90mV_φ\u001b[39m, \u001b[90mφh\u001b[39m; kwargs...)\n",
       "\u001b[90m     @\u001b[39m \u001b[90mC:\\Users\\IIT BBSR\\.julia\\packages\\GridapTopOpt\\zQxvu\\src\\StateMaps\\\u001b[39m\u001b[90m\u001b[4mAffineFEStateMaps.jl:193\u001b[24m\u001b[39m"
      ]
     },
     "metadata": {},
     "output_type": "display_data"
    }
   ],
   "source": [
    "using GridapTopOpt\n",
    "@which AffineFEStateMap\n",
    "methods(AffineFEStateMap)"
   ]
  },
  {
   "cell_type": "code",
   "execution_count": 57,
   "id": "38265fb9",
   "metadata": {},
   "outputs": [
    {
     "data": {
      "text/html": [
       "# 32 methods for generic function <b>norm</b> from \u001b[33mLinearAlgebra\u001b[39m:<ul><li> norm(::<b>Missing</b>) in LinearAlgebra at <a href=\"file://C:/workdir/usr/share/julia/stdlib/v1.11/LinearAlgebra/src/generic.jl\" target=\"_blank\">C:\\Users\\IIT BBSR\\AppData\\Local\\Programs\\Julia-1.11.6\\share\\julia\\stdlib\\v1.11\\LinearAlgebra\\src\\generic.jl:658</a></li> <li> norm(::<b>Missing</b>, p::<b>Real</b>) in LinearAlgebra at <a href=\"file://C:/workdir/usr/share/julia/stdlib/v1.11/LinearAlgebra/src/generic.jl\" target=\"_blank\">C:\\Users\\IIT BBSR\\AppData\\Local\\Programs\\Julia-1.11.6\\share\\julia\\stdlib\\v1.11\\LinearAlgebra\\src\\generic.jl:658</a></li> <li> norm(a::<b>GridapPETSc.PETScVector</b>) in GridapPETSc at <a href=\"file://C:/Users/IIT BBSR/.julia/packages/GridapPETSc/l6eIU/src/PETScArrays.jl\" target=\"_blank\">C:\\Users\\IIT BBSR\\.julia\\packages\\GridapPETSc\\l6eIU\\src\\PETScArrays.jl:495</a></li> <li> norm(a::<b>GridapPETSc.PETScVector</b>, p::<b>Real</b>) in GridapPETSc at <a href=\"file://C:/Users/IIT BBSR/.julia/packages/GridapPETSc/l6eIU/src/PETScArrays.jl\" target=\"_blank\">C:\\Users\\IIT BBSR\\.julia\\packages\\GridapPETSc\\l6eIU\\src\\PETScArrays.jl:495</a></li> <li> norm(a::<b>PartitionedArrays.PVector</b>) in PartitionedArrays at <a href=\"file://C:/Users/IIT BBSR/.julia/packages/PartitionedArrays/MVmxR/src/p_vector.jl\" target=\"_blank\">C:\\Users\\IIT BBSR\\.julia\\packages\\PartitionedArrays\\MVmxR\\src\\p_vector.jl:754</a></li> <li> norm(a::<b>PartitionedArrays.PVector</b>, p::<b>Real</b>) in PartitionedArrays at <a href=\"file://C:/Users/IIT BBSR/.julia/packages/PartitionedArrays/MVmxR/src/p_vector.jl\" target=\"_blank\">C:\\Users\\IIT BBSR\\.julia\\packages\\PartitionedArrays\\MVmxR\\src\\p_vector.jl:754</a></li> <li> norm(::<b>ChainRulesCore.AbstractZero</b>) in ChainRulesCore at <a href=\"file://C:/Users/IIT BBSR/.julia/packages/ChainRulesCore/Vsbj9/src/tangent_types/abstract_zero.jl\" target=\"_blank\">C:\\Users\\IIT BBSR\\.julia\\packages\\ChainRulesCore\\Vsbj9\\src\\tangent_types\\abstract_zero.jl:26</a></li> <li> norm(A::<b>BlockArrays.BlockedArray</b>) in BlockArrays at <a href=\"file://C:/Users/IIT BBSR/.julia/packages/BlockArrays/McfNk/src/blockedarray.jl\" target=\"_blank\">C:\\Users\\IIT BBSR\\.julia\\packages\\BlockArrays\\McfNk\\src\\blockedarray.jl:361</a></li> <li> norm(A::<b>BlockArrays.BlockedArray</b>, p::<b>Real</b>) in BlockArrays at <a href=\"file://C:/Users/IIT BBSR/.julia/packages/BlockArrays/McfNk/src/blockedarray.jl\" target=\"_blank\">C:\\Users\\IIT BBSR\\.julia\\packages\\BlockArrays\\McfNk\\src\\blockedarray.jl:361</a></li> <li> norm(u::<b>MultiValue{Tuple{D}, <:Real}</b>)<i> where D</i> in Gridap.TensorValues at <a href=\"file://C:/Users/IIT BBSR/.julia/packages/Gridap/JD3zW/src/TensorValues/Operations.jl\" target=\"_blank\">C:\\Users\\IIT BBSR\\.julia\\packages\\Gridap\\JD3zW\\src\\TensorValues\\Operations.jl:804</a></li> <li> norm(u::<b>MultiValue{Tuple{0}, T}</b>)<i> where T</i> in Gridap.TensorValues at <a href=\"file://C:/Users/IIT BBSR/.julia/packages/Gridap/JD3zW/src/TensorValues/Operations.jl\" target=\"_blank\">C:\\Users\\IIT BBSR\\.julia\\packages\\Gridap\\JD3zW\\src\\TensorValues\\Operations.jl:808</a></li> <li> norm(u::<b>MultiValue{Tuple{D}}</b>)<i> where D</i> in Gridap.TensorValues at <a href=\"file://C:/Users/IIT BBSR/.julia/packages/Gridap/JD3zW/src/TensorValues/Operations.jl\" target=\"_blank\">C:\\Users\\IIT BBSR\\.julia\\packages\\Gridap\\JD3zW\\src\\TensorValues\\Operations.jl:805</a></li> <li> norm(u::<b>MultiValue{Tuple{D1, D2}, <:Real}</b>)<i> where {D1, D2}</i> in Gridap.TensorValues at <a href=\"file://C:/Users/IIT BBSR/.julia/packages/Gridap/JD3zW/src/TensorValues/Operations.jl\" target=\"_blank\">C:\\Users\\IIT BBSR\\.julia\\packages\\Gridap\\JD3zW\\src\\TensorValues\\Operations.jl:806</a></li> <li> norm(u::<b>MultiValue{Tuple{D1, D2}}</b>)<i> where {D1, D2}</i> in Gridap.TensorValues at <a href=\"file://C:/Users/IIT BBSR/.julia/packages/Gridap/JD3zW/src/TensorValues/Operations.jl\" target=\"_blank\">C:\\Users\\IIT BBSR\\.julia\\packages\\Gridap\\JD3zW\\src\\TensorValues\\Operations.jl:807</a></li> <li> norm(x::<b>Number</b>) in LinearAlgebra at <a href=\"file://C:/workdir/usr/share/julia/stdlib/v1.11/LinearAlgebra/src/generic.jl\" target=\"_blank\">C:\\Users\\IIT BBSR\\AppData\\Local\\Programs\\Julia-1.11.6\\share\\julia\\stdlib\\v1.11\\LinearAlgebra\\src\\generic.jl:644</a></li> <li> norm(x::<b>Number</b>, p::<b>Real</b>) in LinearAlgebra at <a href=\"file://C:/workdir/usr/share/julia/stdlib/v1.11/LinearAlgebra/src/generic.jl\" target=\"_blank\">C:\\Users\\IIT BBSR\\AppData\\Local\\Programs\\Julia-1.11.6\\share\\julia\\stdlib\\v1.11\\LinearAlgebra\\src\\generic.jl:644</a></li> <li> norm(v::<b>GridapDistributed.BlockPArray{V, T, 1} where {V, T}</b>) in GridapDistributed at <a href=\"file://C:/Users/IIT BBSR/.julia/packages/GridapDistributed/XNMqm/src/BlockPartitionedArrays.jl\" target=\"_blank\">C:\\Users\\IIT BBSR\\.julia\\packages\\GridapDistributed\\XNMqm\\src\\BlockPartitionedArrays.jl:353</a></li> <li> norm(v::<b>GridapDistributed.BlockPArray{V, T, 1} where {V, T}</b>, p::<b>Real</b>) in GridapDistributed at <a href=\"file://C:/Users/IIT BBSR/.julia/packages/GridapDistributed/XNMqm/src/BlockPartitionedArrays.jl\" target=\"_blank\">C:\\Users\\IIT BBSR\\.julia\\packages\\GridapDistributed\\XNMqm\\src\\BlockPartitionedArrays.jl:353</a></li> <li> norm(A::<b>SparseArrays.AbstractSparseMatrixCSC</b>) in SparseArrays at <a href=\"file://C:/workdir/usr/share/julia/stdlib/v1.11/SparseArrays/src/linalg.jl\" target=\"_blank\">C:\\Users\\IIT BBSR\\AppData\\Local\\Programs\\Julia-1.11.6\\share\\julia\\stdlib\\v1.11\\SparseArrays\\src\\linalg.jl:1429</a></li> <li> norm(A::<b>SparseArrays.AbstractSparseMatrixCSC</b>, p::<b>Real</b>) in SparseArrays at <a href=\"file://C:/workdir/usr/share/julia/stdlib/v1.11/SparseArrays/src/linalg.jl\" target=\"_blank\">C:\\Users\\IIT BBSR\\AppData\\Local\\Programs\\Julia-1.11.6\\share\\julia\\stdlib\\v1.11\\SparseArrays\\src\\linalg.jl:1429</a></li> <li> norm(A::<b>ArrayLayouts.LayoutArray</b>) in ArrayLayouts at <a href=\"file://C:/Users/IIT BBSR/.julia/packages/ArrayLayouts/TyjMK/src/ArrayLayouts.jl\" target=\"_blank\">C:\\Users\\IIT BBSR\\.julia\\packages\\ArrayLayouts\\TyjMK\\src\\ArrayLayouts.jl:313</a></li> <li> norm(A::<b>ArrayLayouts.LayoutArray</b>, p::<b>Real</b>) in ArrayLayouts at <a href=\"file://C:/Users/IIT BBSR/.julia/packages/ArrayLayouts/TyjMK/src/ArrayLayouts.jl\" target=\"_blank\">C:\\Users\\IIT BBSR\\.julia\\packages\\ArrayLayouts\\TyjMK\\src\\ArrayLayouts.jl:313</a></li> <li> norm(a::<b>StaticArraysCore.StaticArray</b>) in StaticArrays at <a href=\"file://C:/Users/IIT BBSR/.julia/packages/StaticArrays/DsPgf/src/linalg.jl\" target=\"_blank\">C:\\Users\\IIT BBSR\\.julia\\packages\\StaticArrays\\DsPgf\\src\\linalg.jl:265</a></li> <li> norm(a::<b>StaticArraysCore.StaticArray</b>, p::<b>Real</b>) in StaticArrays at <a href=\"file://C:/Users/IIT BBSR/.julia/packages/StaticArrays/DsPgf/src/linalg.jl\" target=\"_blank\">C:\\Users\\IIT BBSR\\.julia\\packages\\StaticArrays\\DsPgf\\src\\linalg.jl:310</a></li> <li> norm(x::<b>Union{SparseArrays.AbstractCompressedVector{Tv, Ti}, SubArray{Tv, 1, <:SparseArrays.AbstractSparseMatrixCSC{Tv, Ti}, Tuple{Base.Slice{Base.OneTo{Int64}}, Int64}, false}, SubArray{Tv, 1, <:SparseArrays.AbstractSparseVector{Tv, Ti}, Tuple{Base.Slice{Base.OneTo{Int64}}}, false}} where {Tv, Ti}</b>) in SparseArrays at <a href=\"file://C:/workdir/usr/share/julia/stdlib/v1.11/SparseArrays/src/sparsevector.jl\" target=\"_blank\">C:\\Users\\IIT BBSR\\AppData\\Local\\Programs\\Julia-1.11.6\\share\\julia\\stdlib\\v1.11\\SparseArrays\\src\\sparsevector.jl:1693</a></li> <li> norm(A::<b>SubArray{<:Any, N, <:ArrayLayouts.LayoutArray}</b>)<i> where N</i> in ArrayLayouts at <a href=\"file://C:/Users/IIT BBSR/.julia/packages/ArrayLayouts/TyjMK/src/ArrayLayouts.jl\" target=\"_blank\">C:\\Users\\IIT BBSR\\.julia\\packages\\ArrayLayouts\\TyjMK\\src\\ArrayLayouts.jl:314</a></li> <li> norm(x::<b>Union{SparseArrays.AbstractCompressedVector{Tv, Ti}, SubArray{Tv, 1, <:SparseArrays.AbstractSparseMatrixCSC{Tv, Ti}, Tuple{Base.Slice{Base.OneTo{Int64}}, Int64}, false}, SubArray{Tv, 1, <:SparseArrays.AbstractSparseVector{Tv, Ti}, Tuple{Base.Slice{Base.OneTo{Int64}}}, false}} where {Tv, Ti}</b>, p::<b>Real</b>) in SparseArrays at <a href=\"file://C:/workdir/usr/share/julia/stdlib/v1.11/SparseArrays/src/sparsevector.jl\" target=\"_blank\">C:\\Users\\IIT BBSR\\AppData\\Local\\Programs\\Julia-1.11.6\\share\\julia\\stdlib\\v1.11\\SparseArrays\\src\\sparsevector.jl:1693</a></li> <li> norm(A::<b>SubArray{<:Any, N, <:ArrayLayouts.LayoutArray}</b>, p::<b>Real</b>)<i> where N</i> in ArrayLayouts at <a href=\"file://C:/Users/IIT BBSR/.julia/packages/ArrayLayouts/TyjMK/src/ArrayLayouts.jl\" target=\"_blank\">C:\\Users\\IIT BBSR\\.julia\\packages\\ArrayLayouts\\TyjMK\\src\\ArrayLayouts.jl:314</a></li> <li> norm(x::<b>StridedVector{T}</b>, rx::<b>Union{AbstractRange{TI}, UnitRange{TI}}</b>)<i> where {T<:Union{Float32, Float64, ComplexF64, ComplexF32}, TI<:Integer}</i> in LinearAlgebra at <a href=\"file://C:/workdir/usr/share/julia/stdlib/v1.11/LinearAlgebra/src/dense.jl\" target=\"_blank\">C:\\Users\\IIT BBSR\\AppData\\Local\\Programs\\Julia-1.11.6\\share\\julia\\stdlib\\v1.11\\LinearAlgebra\\src\\dense.jl:96</a></li> <li> norm(v::<b>Union{Adjoint{T, S}, Transpose{T, S}} where {T, S}</b>, p::<b>Real</b>) in LinearAlgebra at <a href=\"file://C:/workdir/usr/share/julia/stdlib/v1.11/LinearAlgebra/src/generic.jl\" target=\"_blank\">C:\\Users\\IIT BBSR\\AppData\\Local\\Programs\\Julia-1.11.6\\share\\julia\\stdlib\\v1.11\\LinearAlgebra\\src\\generic.jl:814</a></li> <li> norm(itr) in LinearAlgebra at <a href=\"file://C:/workdir/usr/share/julia/stdlib/v1.11/LinearAlgebra/src/generic.jl\" target=\"_blank\">C:\\Users\\IIT BBSR\\AppData\\Local\\Programs\\Julia-1.11.6\\share\\julia\\stdlib\\v1.11\\LinearAlgebra\\src\\generic.jl:601</a></li> <li> norm(itr, p::<b>Real</b>) in LinearAlgebra at <a href=\"file://C:/workdir/usr/share/julia/stdlib/v1.11/LinearAlgebra/src/generic.jl\" target=\"_blank\">C:\\Users\\IIT BBSR\\AppData\\Local\\Programs\\Julia-1.11.6\\share\\julia\\stdlib\\v1.11\\LinearAlgebra\\src\\generic.jl:601</a></li> </ul>"
      ],
      "text/plain": [
       "# 32 methods for generic function \"norm\" from \u001b[33mLinearAlgebra\u001b[39m:\n",
       "  [1] norm(::\u001b[1mMissing\u001b[22m)\n",
       "\u001b[90m     @\u001b[39m \u001b[90mC:\\Users\\IIT BBSR\\AppData\\Local\\Programs\\Julia-1.11.6\\share\\julia\\stdlib\\v1.11\\LinearAlgebra\\src\\\u001b[39m\u001b[90m\u001b[4mgeneric.jl:658\u001b[24m\u001b[39m\n",
       "  [2] norm(::\u001b[1mMissing\u001b[22m, \u001b[90mp\u001b[39m::\u001b[1mReal\u001b[22m)\n",
       "\u001b[90m     @\u001b[39m \u001b[90mC:\\Users\\IIT BBSR\\AppData\\Local\\Programs\\Julia-1.11.6\\share\\julia\\stdlib\\v1.11\\LinearAlgebra\\src\\\u001b[39m\u001b[90m\u001b[4mgeneric.jl:658\u001b[24m\u001b[39m\n",
       "  [3] norm(\u001b[90ma\u001b[39m::\u001b[1mGridapPETSc.PETScVector\u001b[22m)\n",
       "\u001b[90m     @\u001b[39m \u001b[35mGridapPETSc\u001b[39m \u001b[90mC:\\Users\\IIT BBSR\\.julia\\packages\\GridapPETSc\\l6eIU\\src\\\u001b[39m\u001b[90m\u001b[4mPETScArrays.jl:495\u001b[24m\u001b[39m\n",
       "  [4] norm(\u001b[90ma\u001b[39m::\u001b[1mGridapPETSc.PETScVector\u001b[22m, \u001b[90mp\u001b[39m::\u001b[1mReal\u001b[22m)\n",
       "\u001b[90m     @\u001b[39m \u001b[35mGridapPETSc\u001b[39m \u001b[90mC:\\Users\\IIT BBSR\\.julia\\packages\\GridapPETSc\\l6eIU\\src\\\u001b[39m\u001b[90m\u001b[4mPETScArrays.jl:495\u001b[24m\u001b[39m\n",
       "  [5] norm(\u001b[90ma\u001b[39m::\u001b[1mPartitionedArrays.PVector\u001b[22m)\n",
       "\u001b[90m     @\u001b[39m \u001b[36mPartitionedArrays\u001b[39m \u001b[90mC:\\Users\\IIT BBSR\\.julia\\packages\\PartitionedArrays\\MVmxR\\src\\\u001b[39m\u001b[90m\u001b[4mp_vector.jl:754\u001b[24m\u001b[39m\n",
       "  [6] norm(\u001b[90ma\u001b[39m::\u001b[1mPartitionedArrays.PVector\u001b[22m, \u001b[90mp\u001b[39m::\u001b[1mReal\u001b[22m)\n",
       "\u001b[90m     @\u001b[39m \u001b[36mPartitionedArrays\u001b[39m \u001b[90mC:\\Users\\IIT BBSR\\.julia\\packages\\PartitionedArrays\\MVmxR\\src\\\u001b[39m\u001b[90m\u001b[4mp_vector.jl:754\u001b[24m\u001b[39m\n",
       "  [7] norm(::\u001b[1mChainRulesCore.AbstractZero\u001b[22m)\n",
       "\u001b[90m     @\u001b[39m \u001b[32mChainRulesCore\u001b[39m \u001b[90mC:\\Users\\IIT BBSR\\.julia\\packages\\ChainRulesCore\\Vsbj9\\src\\tangent_types\\\u001b[39m\u001b[90m\u001b[4mabstract_zero.jl:26\u001b[24m\u001b[39m\n",
       "  [8] norm(\u001b[90mA\u001b[39m::\u001b[1mBlockArrays.BlockedArray\u001b[22m)\n",
       "\u001b[90m     @\u001b[39m \u001b[33mBlockArrays\u001b[39m \u001b[90mC:\\Users\\IIT BBSR\\.julia\\packages\\BlockArrays\\McfNk\\src\\\u001b[39m\u001b[90m\u001b[4mblockedarray.jl:361\u001b[24m\u001b[39m\n",
       "  [9] norm(\u001b[90mA\u001b[39m::\u001b[1mBlockArrays.BlockedArray\u001b[22m, \u001b[90mp\u001b[39m::\u001b[1mReal\u001b[22m)\n",
       "\u001b[90m     @\u001b[39m \u001b[33mBlockArrays\u001b[39m \u001b[90mC:\\Users\\IIT BBSR\\.julia\\packages\\BlockArrays\\McfNk\\src\\\u001b[39m\u001b[90m\u001b[4mblockedarray.jl:361\u001b[24m\u001b[39m\n",
       " [10] norm(\u001b[90mu\u001b[39m::\u001b[1mMultiValue\u001b[22m\u001b[0m{Tuple{D}, <:Real}) where D\n",
       "\u001b[90m     @\u001b[39m \u001b[35mGridap.TensorValues\u001b[39m \u001b[90mC:\\Users\\IIT BBSR\\.julia\\packages\\Gridap\\JD3zW\\src\\TensorValues\\\u001b[39m\u001b[90m\u001b[4mOperations.jl:804\u001b[24m\u001b[39m\n",
       " [11] norm(\u001b[90mu\u001b[39m::\u001b[1mMultiValue\u001b[22m\u001b[0m{Tuple{0}, T}) where T\n",
       "\u001b[90m     @\u001b[39m \u001b[35mGridap.TensorValues\u001b[39m \u001b[90mC:\\Users\\IIT BBSR\\.julia\\packages\\Gridap\\JD3zW\\src\\TensorValues\\\u001b[39m\u001b[90m\u001b[4mOperations.jl:808\u001b[24m\u001b[39m\n",
       " [12] norm(\u001b[90mu\u001b[39m::\u001b[1mMultiValue\u001b[22m\u001b[0m{Tuple{D}}) where D\n",
       "\u001b[90m     @\u001b[39m \u001b[35mGridap.TensorValues\u001b[39m \u001b[90mC:\\Users\\IIT BBSR\\.julia\\packages\\Gridap\\JD3zW\\src\\TensorValues\\\u001b[39m\u001b[90m\u001b[4mOperations.jl:805\u001b[24m\u001b[39m\n",
       " [13] norm(\u001b[90mu\u001b[39m::\u001b[1mMultiValue\u001b[22m\u001b[0m{Tuple{D1, D2}, <:Real}) where {D1, D2}\n",
       "\u001b[90m     @\u001b[39m \u001b[35mGridap.TensorValues\u001b[39m \u001b[90mC:\\Users\\IIT BBSR\\.julia\\packages\\Gridap\\JD3zW\\src\\TensorValues\\\u001b[39m\u001b[90m\u001b[4mOperations.jl:806\u001b[24m\u001b[39m\n",
       " [14] norm(\u001b[90mu\u001b[39m::\u001b[1mMultiValue\u001b[22m\u001b[0m{Tuple{D1, D2}}) where {D1, D2}\n",
       "\u001b[90m     @\u001b[39m \u001b[35mGridap.TensorValues\u001b[39m \u001b[90mC:\\Users\\IIT BBSR\\.julia\\packages\\Gridap\\JD3zW\\src\\TensorValues\\\u001b[39m\u001b[90m\u001b[4mOperations.jl:807\u001b[24m\u001b[39m\n",
       " [15] norm(\u001b[90mx\u001b[39m::\u001b[1mNumber\u001b[22m)\n",
       "\u001b[90m     @\u001b[39m \u001b[90mC:\\Users\\IIT BBSR\\AppData\\Local\\Programs\\Julia-1.11.6\\share\\julia\\stdlib\\v1.11\\LinearAlgebra\\src\\\u001b[39m\u001b[90m\u001b[4mgeneric.jl:644\u001b[24m\u001b[39m\n",
       " [16] norm(\u001b[90mx\u001b[39m::\u001b[1mNumber\u001b[22m, \u001b[90mp\u001b[39m::\u001b[1mReal\u001b[22m)\n",
       "\u001b[90m     @\u001b[39m \u001b[90mC:\\Users\\IIT BBSR\\AppData\\Local\\Programs\\Julia-1.11.6\\share\\julia\\stdlib\\v1.11\\LinearAlgebra\\src\\\u001b[39m\u001b[90m\u001b[4mgeneric.jl:644\u001b[24m\u001b[39m\n",
       " [17] norm(\u001b[90mv\u001b[39m::\u001b[1mGridapDistributed.BlockPArray\u001b[22m\u001b[0m{V, T, 1} where {V, T})\n",
       "\u001b[90m     @\u001b[39m \u001b[32mGridapDistributed\u001b[39m \u001b[90mC:\\Users\\IIT BBSR\\.julia\\packages\\GridapDistributed\\XNMqm\\src\\\u001b[39m\u001b[90m\u001b[4mBlockPartitionedArrays.jl:353\u001b[24m\u001b[39m\n",
       " [18] norm(\u001b[90mv\u001b[39m::\u001b[1mGridapDistributed.BlockPArray\u001b[22m\u001b[0m{V, T, 1} where {V, T}, \u001b[90mp\u001b[39m::\u001b[1mReal\u001b[22m)\n",
       "\u001b[90m     @\u001b[39m \u001b[32mGridapDistributed\u001b[39m \u001b[90mC:\\Users\\IIT BBSR\\.julia\\packages\\GridapDistributed\\XNMqm\\src\\\u001b[39m\u001b[90m\u001b[4mBlockPartitionedArrays.jl:353\u001b[24m\u001b[39m\n",
       " [19] norm(\u001b[90mA\u001b[39m::\u001b[1mSparseArrays.AbstractSparseMatrixCSC\u001b[22m)\n",
       "\u001b[90m     @\u001b[39m \u001b[35mSparseArrays\u001b[39m \u001b[90mC:\\Users\\IIT BBSR\\AppData\\Local\\Programs\\Julia-1.11.6\\share\\julia\\stdlib\\v1.11\\SparseArrays\\src\\\u001b[39m\u001b[90m\u001b[4mlinalg.jl:1429\u001b[24m\u001b[39m\n",
       " [20] norm(\u001b[90mA\u001b[39m::\u001b[1mSparseArrays.AbstractSparseMatrixCSC\u001b[22m, \u001b[90mp\u001b[39m::\u001b[1mReal\u001b[22m)\n",
       "\u001b[90m     @\u001b[39m \u001b[35mSparseArrays\u001b[39m \u001b[90mC:\\Users\\IIT BBSR\\AppData\\Local\\Programs\\Julia-1.11.6\\share\\julia\\stdlib\\v1.11\\SparseArrays\\src\\\u001b[39m\u001b[90m\u001b[4mlinalg.jl:1429\u001b[24m\u001b[39m\n",
       " [21] norm(\u001b[90mA\u001b[39m::\u001b[1mArrayLayouts.LayoutArray\u001b[22m)\n",
       "\u001b[90m     @\u001b[39m \u001b[36mArrayLayouts\u001b[39m \u001b[90mC:\\Users\\IIT BBSR\\.julia\\packages\\ArrayLayouts\\TyjMK\\src\\\u001b[39m\u001b[90m\u001b[4mArrayLayouts.jl:313\u001b[24m\u001b[39m\n",
       " [22] norm(\u001b[90mA\u001b[39m::\u001b[1mArrayLayouts.LayoutArray\u001b[22m, \u001b[90mp\u001b[39m::\u001b[1mReal\u001b[22m)\n",
       "\u001b[90m     @\u001b[39m \u001b[36mArrayLayouts\u001b[39m \u001b[90mC:\\Users\\IIT BBSR\\.julia\\packages\\ArrayLayouts\\TyjMK\\src\\\u001b[39m\u001b[90m\u001b[4mArrayLayouts.jl:313\u001b[24m\u001b[39m\n",
       " [23] norm(\u001b[90ma\u001b[39m::\u001b[1mStaticArraysCore.StaticArray\u001b[22m)\n",
       "\u001b[90m     @\u001b[39m \u001b[32mStaticArrays\u001b[39m \u001b[90mC:\\Users\\IIT BBSR\\.julia\\packages\\StaticArrays\\DsPgf\\src\\\u001b[39m\u001b[90m\u001b[4mlinalg.jl:265\u001b[24m\u001b[39m\n",
       " [24] norm(\u001b[90ma\u001b[39m::\u001b[1mStaticArraysCore.StaticArray\u001b[22m, \u001b[90mp\u001b[39m::\u001b[1mReal\u001b[22m)\n",
       "\u001b[90m     @\u001b[39m \u001b[32mStaticArrays\u001b[39m \u001b[90mC:\\Users\\IIT BBSR\\.julia\\packages\\StaticArrays\\DsPgf\\src\\\u001b[39m\u001b[90m\u001b[4mlinalg.jl:310\u001b[24m\u001b[39m\n",
       " [25] norm(\u001b[90mx\u001b[39m::\u001b[1mUnion\u001b[22m\u001b[0m{SparseArrays.AbstractCompressedVector{Tv, Ti}, SubArray{Tv, 1, <:SparseArrays.AbstractSparseMatrixCSC{Tv, Ti}, Tuple{Base.Slice{Base.OneTo{Int64}}, Int64}, false}, SubArray{Tv, 1, <:SparseArrays.AbstractSparseVector{Tv, Ti}, Tuple{Base.Slice{Base.OneTo{Int64}}}, false}} where {Tv, Ti})\n",
       "\u001b[90m     @\u001b[39m \u001b[35mSparseArrays\u001b[39m \u001b[90mC:\\Users\\IIT BBSR\\AppData\\Local\\Programs\\Julia-1.11.6\\share\\julia\\stdlib\\v1.11\\SparseArrays\\src\\\u001b[39m\u001b[90m\u001b[4msparsevector.jl:1693\u001b[24m\u001b[39m\n",
       " [26] norm(\u001b[90mA\u001b[39m::\u001b[1mSubArray\u001b[22m\u001b[0m{<:Any, N, <:ArrayLayouts.LayoutArray}) where N\n",
       "\u001b[90m     @\u001b[39m \u001b[36mArrayLayouts\u001b[39m \u001b[90mC:\\Users\\IIT BBSR\\.julia\\packages\\ArrayLayouts\\TyjMK\\src\\\u001b[39m\u001b[90m\u001b[4mArrayLayouts.jl:314\u001b[24m\u001b[39m\n",
       " [27] norm(\u001b[90mx\u001b[39m::\u001b[1mUnion\u001b[22m\u001b[0m{SparseArrays.AbstractCompressedVector{Tv, Ti}, SubArray{Tv, 1, <:SparseArrays.AbstractSparseMatrixCSC{Tv, Ti}, Tuple{Base.Slice{Base.OneTo{Int64}}, Int64}, false}, SubArray{Tv, 1, <:SparseArrays.AbstractSparseVector{Tv, Ti}, Tuple{Base.Slice{Base.OneTo{Int64}}}, false}} where {Tv, Ti}, \u001b[90mp\u001b[39m::\u001b[1mReal\u001b[22m)\n",
       "\u001b[90m     @\u001b[39m \u001b[35mSparseArrays\u001b[39m \u001b[90mC:\\Users\\IIT BBSR\\AppData\\Local\\Programs\\Julia-1.11.6\\share\\julia\\stdlib\\v1.11\\SparseArrays\\src\\\u001b[39m\u001b[90m\u001b[4msparsevector.jl:1693\u001b[24m\u001b[39m\n",
       " [28] norm(\u001b[90mA\u001b[39m::\u001b[1mSubArray\u001b[22m\u001b[0m{<:Any, N, <:ArrayLayouts.LayoutArray}, \u001b[90mp\u001b[39m::\u001b[1mReal\u001b[22m) where N\n",
       "\u001b[90m     @\u001b[39m \u001b[36mArrayLayouts\u001b[39m \u001b[90mC:\\Users\\IIT BBSR\\.julia\\packages\\ArrayLayouts\\TyjMK\\src\\\u001b[39m\u001b[90m\u001b[4mArrayLayouts.jl:314\u001b[24m\u001b[39m\n",
       " [29] norm(\u001b[90mx\u001b[39m::\u001b[1mStridedVector\u001b[22m\u001b[0m{T}, \u001b[90mrx\u001b[39m::\u001b[1mUnion\u001b[22m\u001b[0m{AbstractRange{TI}, UnitRange{TI}}) where {T<:Union{Float32, Float64, ComplexF64, ComplexF32}, TI<:Integer}\n",
       "\u001b[90m     @\u001b[39m \u001b[90mC:\\Users\\IIT BBSR\\AppData\\Local\\Programs\\Julia-1.11.6\\share\\julia\\stdlib\\v1.11\\LinearAlgebra\\src\\\u001b[39m\u001b[90m\u001b[4mdense.jl:96\u001b[24m\u001b[39m\n",
       " [30] norm(\u001b[90mv\u001b[39m::\u001b[1mUnion\u001b[22m\u001b[0m{Adjoint{T, S}, Transpose{T, S}} where {T, S}, \u001b[90mp\u001b[39m::\u001b[1mReal\u001b[22m)\n",
       "\u001b[90m     @\u001b[39m \u001b[90mC:\\Users\\IIT BBSR\\AppData\\Local\\Programs\\Julia-1.11.6\\share\\julia\\stdlib\\v1.11\\LinearAlgebra\\src\\\u001b[39m\u001b[90m\u001b[4mgeneric.jl:814\u001b[24m\u001b[39m\n",
       " [31] norm(\u001b[90mitr\u001b[39m)\n",
       "\u001b[90m     @\u001b[39m \u001b[90mC:\\Users\\IIT BBSR\\AppData\\Local\\Programs\\Julia-1.11.6\\share\\julia\\stdlib\\v1.11\\LinearAlgebra\\src\\\u001b[39m\u001b[90m\u001b[4mgeneric.jl:601\u001b[24m\u001b[39m\n",
       " [32] norm(\u001b[90mitr\u001b[39m, \u001b[90mp\u001b[39m::\u001b[1mReal\u001b[22m)\n",
       "\u001b[90m     @\u001b[39m \u001b[90mC:\\Users\\IIT BBSR\\AppData\\Local\\Programs\\Julia-1.11.6\\share\\julia\\stdlib\\v1.11\\LinearAlgebra\\src\\\u001b[39m\u001b[90m\u001b[4mgeneric.jl:601\u001b[24m\u001b[39m"
      ]
     },
     "metadata": {},
     "output_type": "display_data"
    }
   ],
   "source": [
    "using LinearAlgebra\n",
    "@which norm\n",
    "methods(norm)"
   ]
  },
  {
   "cell_type": "code",
   "execution_count": 60,
   "id": "c087b620",
   "metadata": {},
   "outputs": [
    {
     "data": {
      "text/html": [
       "# 42 methods for generic function <b>gradient</b> from \u001b[35mGridap.Fields\u001b[39m:<ul><li> gradient(::<b>typeof(Gridap.CellData._phys_coord)</b>) in Gridap.CellData at <a href=\"file://C:/Users/IIT BBSR/.julia/packages/Gridap/JD3zW/src/CellData/CellFields.jl\" target=\"_blank\">C:\\Users\\IIT BBSR\\.julia\\packages\\Gridap\\JD3zW\\src\\CellData\\CellFields.jl:545</a></li> <li> gradient(a::<b>SkeletonCellFieldPair</b>) in Gridap.CellData at <a href=\"file://C:/Users/IIT BBSR/.julia/packages/Gridap/JD3zW/src/CellData/SkeletonCellFieldPair.jl\" target=\"_blank\">C:\\Users\\IIT BBSR\\.julia\\packages\\Gridap\\JD3zW\\src\\CellData\\SkeletonCellFieldPair.jl:131</a></li> <li> gradient(f::<b>Gridap.ODEs.TransientSingleFieldCellField</b>) in Gridap.ODEs at <a href=\"file://C:/Users/IIT BBSR/.julia/packages/Gridap/JD3zW/src/ODEs/TransientCellFields.jl\" target=\"_blank\">C:\\Users\\IIT BBSR\\.julia\\packages\\Gridap\\JD3zW\\src\\ODEs\\TransientCellFields.jl:68</a></li> <li> gradient(f::<b>Gridap.ODEs.TransientFEBasis</b>) in Gridap.ODEs at <a href=\"file://C:/Users/IIT BBSR/.julia/packages/Gridap/JD3zW/src/ODEs/TransientCellFields.jl\" target=\"_blank\">C:\\Users\\IIT BBSR\\.julia\\packages\\Gridap\\JD3zW\\src\\ODEs\\TransientCellFields.jl:253</a></li> <li> gradient(f::<b>Function</b>, x::<b>VectorValue</b>) in Gridap.Fields at <a href=\"file://C:/Users/IIT BBSR/.julia/packages/Gridap/JD3zW/src/Fields/AutoDiff.jl\" target=\"_blank\">C:\\Users\\IIT BBSR\\.julia\\packages\\Gridap\\JD3zW\\src\\Fields\\AutoDiff.jl:50</a></li> <li> gradient(f::<b>Function</b>, x::<b>VectorValue</b>, fx::<b>VectorValue</b>) in Gridap.Fields at <a href=\"file://C:/Users/IIT BBSR/.julia/packages/Gridap/JD3zW/src/Fields/AutoDiff.jl\" target=\"_blank\">C:\\Users\\IIT BBSR\\.julia\\packages\\Gridap\\JD3zW\\src\\Fields\\AutoDiff.jl:58</a></li> <li> gradient(f::<b>Function</b>, x::<b>VectorValue{A}</b>, fx::<b>S</b>)<i> where {A, B, C, S<:(MultiValue{Tuple{B, C}})}</i> in Gridap.Fields at <a href=\"file://C:/Users/IIT BBSR/.julia/packages/Gridap/JD3zW/src/Fields/AutoDiff.jl\" target=\"_blank\">C:\\Users\\IIT BBSR\\.julia\\packages\\Gridap\\JD3zW\\src\\Fields\\AutoDiff.jl:64</a></li> <li> gradient(f::<b>Function</b>, x::<b>VectorValue</b>, fx::<b>MultiValue</b>) in Gridap.Fields at <a href=\"file://C:/Users/IIT BBSR/.julia/packages/Gridap/JD3zW/src/Fields/AutoDiff.jl\" target=\"_blank\">C:\\Users\\IIT BBSR\\.julia\\packages\\Gridap\\JD3zW\\src\\Fields\\AutoDiff.jl:69</a></li> <li> gradient(f::<b>Function</b>, x::<b>VectorValue</b>, fx::<b>Number</b>) in Gridap.Fields at <a href=\"file://C:/Users/IIT BBSR/.julia/packages/Gridap/JD3zW/src/Fields/AutoDiff.jl\" target=\"_blank\">C:\\Users\\IIT BBSR\\.julia\\packages\\Gridap\\JD3zW\\src\\Fields\\AutoDiff.jl:54</a></li> <li> gradient(f::<b>Function</b>, uh::<b>Gridap.MultiField.MultiFieldFEFunction</b>; <i>ad_type</i>) in Gridap.MultiField at <a href=\"file://C:/Users/IIT BBSR/.julia/packages/Gridap/JD3zW/src/MultiField/MultiFieldAutodiff.jl\" target=\"_blank\">C:\\Users\\IIT BBSR\\.julia\\packages\\Gridap\\JD3zW\\src\\MultiField\\MultiFieldAutodiff.jl:22</a></li> <li> gradient(f::<b>Function</b>, x::<b>StaticArraysCore.SVector</b>) in Gridap.Fields at <a href=\"file://C:/Users/IIT BBSR/.julia/packages/Gridap/JD3zW/src/Fields/AutoDiff.jl\" target=\"_blank\">C:\\Users\\IIT BBSR\\.julia\\packages\\Gridap\\JD3zW\\src\\Fields\\AutoDiff.jl:176</a></li> <li> gradient(f::<b>Function</b>, uh::<b>FEFunction</b>) in Gridap.FESpaces at <a href=\"file://C:/Users/IIT BBSR/.julia/packages/Gridap/JD3zW/src/FESpaces/FEAutodiff.jl\" target=\"_blank\">C:\\Users\\IIT BBSR\\.julia\\packages\\Gridap\\JD3zW\\src\\FESpaces\\FEAutodiff.jl:3</a></li> <li> gradient(f::<b>Function</b>, uh::<b>GridapDistributed.DistributedMultiFieldCellField{A, B, GridapDistributed.DistributedFEFunctionData{T}} where {A, B, T}</b>; <i>ad_type</i>) in GridapDistributed at <a href=\"file://C:/Users/IIT BBSR/.julia/packages/GridapDistributed/XNMqm/src/Autodiff.jl\" target=\"_blank\">C:\\Users\\IIT BBSR\\.julia\\packages\\GridapDistributed\\XNMqm\\src\\Autodiff.jl:87</a></li> <li> gradient(f::<b>Function</b>, uh::<b>Union{GridapDistributed.DistributedCellField, GridapDistributed.DistributedMultiFieldCellField}</b>) in GridapDistributed at <a href=\"file://C:/Users/IIT BBSR/.julia/packages/GridapDistributed/XNMqm/src/Autodiff.jl\" target=\"_blank\">C:\\Users\\IIT BBSR\\.julia\\packages\\GridapDistributed\\XNMqm\\src\\Autodiff.jl:6</a></li> <li> gradient(ts::<b>Gridap.ODEs.TimeSpaceFunction</b>) in Gridap.ODEs at <a href=\"file://C:/Users/IIT BBSR/.julia/packages/Gridap/JD3zW/src/ODEs/TimeDerivatives.jl\" target=\"_blank\">C:\\Users\\IIT BBSR\\.julia\\packages\\Gridap\\JD3zW\\src\\ODEs\\TimeDerivatives.jl:32</a></li> <li> gradient(f::<b>Function</b>) in Gridap.Fields at <a href=\"file://C:/Users/IIT BBSR/.julia/packages/Gridap/JD3zW/src/Fields/AutoDiff.jl\" target=\"_blank\">C:\\Users\\IIT BBSR\\.julia\\packages\\Gridap\\JD3zW\\src\\Fields\\AutoDiff.jl:18</a></li> <li> gradient(f::<b>Gridap.Fields.OperationField{<:Field}</b>) in Gridap.Fields at <a href=\"file://C:/Users/IIT BBSR/.julia/packages/Gridap/JD3zW/src/Fields/FieldsInterfaces.jl\" target=\"_blank\">C:\\Users\\IIT BBSR\\.julia\\packages\\Gridap\\JD3zW\\src\\Fields\\FieldsInterfaces.jl:507</a></li> <li> gradient(a::<b>Gridap.Fields.OperationField{typeof(outer)}</b>) in Gridap.Fields at <a href=\"file://C:/Users/IIT BBSR/.julia/packages/Gridap/JD3zW/src/Fields/FieldsInterfaces.jl\" target=\"_blank\">C:\\Users\\IIT BBSR\\.julia\\packages\\Gridap\\JD3zW\\src\\Fields\\FieldsInterfaces.jl:458</a></li> <li> gradient(a::<b>Gridap.Fields.OperationField{typeof(inner)}</b>) in Gridap.Fields at <a href=\"file://C:/Users/IIT BBSR/.julia/packages/Gridap/JD3zW/src/Fields/FieldsInterfaces.jl\" target=\"_blank\">C:\\Users\\IIT BBSR\\.julia\\packages\\Gridap\\JD3zW\\src\\Fields\\FieldsInterfaces.jl:458</a></li> <li> gradient(a::<b>Gridap.Fields.OperationField{typeof(dot)}</b>) in Gridap.Fields at <a href=\"file://C:/Users/IIT BBSR/.julia/packages/Gridap/JD3zW/src/Fields/FieldsInterfaces.jl\" target=\"_blank\">C:\\Users\\IIT BBSR\\.julia\\packages\\Gridap\\JD3zW\\src\\Fields\\FieldsInterfaces.jl:458</a></li> <li> gradient(a::<b>Gridap.Fields.OperationField{typeof(*)}</b>) in Gridap.Fields at <a href=\"file://C:/Users/IIT BBSR/.julia/packages/Gridap/JD3zW/src/Fields/FieldsInterfaces.jl\" target=\"_blank\">C:\\Users\\IIT BBSR\\.julia\\packages\\Gridap\\JD3zW\\src\\Fields\\FieldsInterfaces.jl:458</a></li> <li> gradient(a::<b>Gridap.Fields.OperationField{typeof(+)}</b>) in Gridap.Fields at <a href=\"file://C:/Users/IIT BBSR/.julia/packages/Gridap/JD3zW/src/Fields/FieldsInterfaces.jl\" target=\"_blank\">C:\\Users\\IIT BBSR\\.julia\\packages\\Gridap\\JD3zW\\src\\Fields\\FieldsInterfaces.jl:417</a></li> <li> gradient(a::<b>Gridap.Fields.OperationField{typeof(-)}</b>) in Gridap.Fields at <a href=\"file://C:/Users/IIT BBSR/.julia/packages/Gridap/JD3zW/src/Fields/FieldsInterfaces.jl\" target=\"_blank\">C:\\Users\\IIT BBSR\\.julia\\packages\\Gridap\\JD3zW\\src\\Fields\\FieldsInterfaces.jl:417</a></li> <li> gradient(f::<b>Gridap.ODEs.TransientMultiFieldCellField</b>) in Gridap.ODEs at <a href=\"file://C:/Users/IIT BBSR/.julia/packages/Gridap/JD3zW/src/ODEs/TransientCellFields.jl\" target=\"_blank\">C:\\Users\\IIT BBSR\\.julia\\packages\\Gridap\\JD3zW\\src\\ODEs\\TransientCellFields.jl:163</a></li> <li> gradient(f::<b>Gridap.ODEs.TransientCellField</b>) in Gridap.ODEs at <a href=\"file://C:/Users/IIT BBSR/.julia/packages/Gridap/JD3zW/src/ODEs/TransientCellFields.jl\" target=\"_blank\">C:\\Users\\IIT BBSR\\.julia\\packages\\Gridap\\JD3zW\\src\\ODEs\\TransientCellFields.jl:27</a></li> <li> gradient(f::<b>Gridap.MultiField.MultiFieldFEBasisComponent</b>) in Gridap.MultiField at <a href=\"file://C:/Users/IIT BBSR/.julia/packages/Gridap/JD3zW/src/MultiField/MultiFieldFESpaces.jl\" target=\"_blank\">C:\\Users\\IIT BBSR\\.julia\\packages\\Gridap\\JD3zW\\src\\MultiField\\MultiFieldFESpaces.jl:260</a></li> <li> gradient(a::<b>GridapDistributed.DistributedCellField</b>) in GridapDistributed at <a href=\"file://C:/Users/IIT BBSR/.julia/packages/GridapDistributed/XNMqm/src/CellData.jl\" target=\"_blank\">C:\\Users\\IIT BBSR\\.julia\\packages\\GridapDistributed\\XNMqm\\src\\CellData.jl:170</a></li> <li> gradient(f::<b>Gridap.CellData.OperationCellField{DS, typeof(-)}</b>)<i> where DS</i> in Gridap.CellData at <a href=\"file://C:/Users/IIT BBSR/.julia/packages/Gridap/JD3zW/src/CellData/CellFields.jl\" target=\"_blank\">C:\\Users\\IIT BBSR\\.julia\\packages\\Gridap\\JD3zW\\src\\CellData\\CellFields.jl:408</a></li> <li> gradient(f::<b>Gridap.CellData.OperationCellField{DS, typeof(+)}</b>)<i> where DS</i> in Gridap.CellData at <a href=\"file://C:/Users/IIT BBSR/.julia/packages/Gridap/JD3zW/src/CellData/CellFields.jl\" target=\"_blank\">C:\\Users\\IIT BBSR\\.julia\\packages\\Gridap\\JD3zW\\src\\CellData\\CellFields.jl:408</a></li> <li> gradient(f::<b>FieldGradient{N}</b>)<i> where N</i> in Gridap.Fields at <a href=\"file://C:/Users/IIT BBSR/.julia/packages/Gridap/JD3zW/src/Fields/FieldsInterfaces.jl\" target=\"_blank\">C:\\Users\\IIT BBSR\\.julia\\packages\\Gridap\\JD3zW\\src\\Fields\\FieldsInterfaces.jl:124</a></li> <li> gradient(a::<b>Gridap.Fields.LinearCombinationField</b>) in Gridap.Fields at <a href=\"file://C:/Users/IIT BBSR/.julia/packages/Gridap/JD3zW/src/Fields/FieldArrays.jl\" target=\"_blank\">C:\\Users\\IIT BBSR\\.julia\\packages\\Gridap\\JD3zW\\src\\Fields\\FieldArrays.jl:206</a></li> <li> gradient(f::<b>Number</b>) in Gridap.Fields at <a href=\"file://C:/Users/IIT BBSR/.julia/packages/Gridap/JD3zW/src/Fields/AutoDiff.jl\" target=\"_blank\">C:\\Users\\IIT BBSR\\.julia\\packages\\Gridap\\JD3zW\\src\\Fields\\AutoDiff.jl:3</a></li> <li> gradient(a::<b>Gridap.CellData.CellFieldAt{P}</b>)<i> where P</i> in Gridap.CellData at <a href=\"file://C:/Users/IIT BBSR/.julia/packages/Gridap/JD3zW/src/CellData/CellFields.jl\" target=\"_blank\">C:\\Users\\IIT BBSR\\.julia\\packages\\Gridap\\JD3zW\\src\\CellData\\CellFields.jl:571</a></li> <li> gradient(a::<b>CellField</b>) in Gridap.CellData at <a href=\"file://C:/Users/IIT BBSR/.julia/packages/Gridap/JD3zW/src/CellData/CellFields.jl\" target=\"_blank\">C:\\Users\\IIT BBSR\\.julia\\packages\\Gridap\\JD3zW\\src\\CellData\\CellFields.jl:265</a></li> <li> gradient(h::<b>AffineField</b>) in Gridap.Fields at <a href=\"file://C:/Users/IIT BBSR/.julia/packages/Gridap/JD3zW/src/Fields/AffineMaps.jl\" target=\"_blank\">C:\\Users\\IIT BBSR\\.julia\\packages\\Gridap\\JD3zW\\src\\Fields\\AffineMaps.jl:50</a></li> <li> gradient(z::<b>VoidField</b>) in Gridap.Fields at <a href=\"file://C:/Users/IIT BBSR/.julia/packages/Gridap/JD3zW/src/Fields/FieldsInterfaces.jl\" target=\"_blank\">C:\\Users\\IIT BBSR\\.julia\\packages\\Gridap\\JD3zW\\src\\Fields\\FieldsInterfaces.jl:776</a></li> <li> gradient(z::<b>ZeroField</b>) in Gridap.Fields at <a href=\"file://C:/Users/IIT BBSR/.julia/packages/Gridap/JD3zW/src/Fields/FieldsInterfaces.jl\" target=\"_blank\">C:\\Users\\IIT BBSR\\.julia\\packages\\Gridap\\JD3zW\\src\\Fields\\FieldsInterfaces.jl:239</a></li> <li> gradient(f::<b>Field</b>) in Gridap.Fields at <a href=\"file://C:/Users/IIT BBSR/.julia/packages/Gridap/JD3zW/src/Fields/FieldsInterfaces.jl\" target=\"_blank\">C:\\Users\\IIT BBSR\\.julia\\packages\\Gridap\\JD3zW\\src\\Fields\\FieldsInterfaces.jl:123</a></li> <li> gradient(a::<b>AbstractArray{<:Field}</b>) in Gridap.Fields at <a href=\"file://C:/Users/IIT BBSR/.julia/packages/Gridap/JD3zW/src/Fields/FieldArrays.jl\" target=\"_blank\">C:\\Users\\IIT BBSR\\.julia\\packages\\Gridap\\JD3zW\\src\\Fields\\FieldArrays.jl:130</a></li> <li> gradient(f, ::<b>Val{1}</b>) in Gridap.Fields at <a href=\"file://C:/Users/IIT BBSR/.julia/packages/Gridap/JD3zW/src/Fields/FieldsInterfaces.jl\" target=\"_blank\">C:\\Users\\IIT BBSR\\.julia\\packages\\Gridap\\JD3zW\\src\\Fields\\FieldsInterfaces.jl:74</a></li> <li> gradient(f, ::<b>Val{2}</b>) in Gridap.Fields at <a href=\"file://C:/Users/IIT BBSR/.julia/packages/Gridap/JD3zW/src/Fields/FieldsInterfaces.jl\" target=\"_blank\">C:\\Users\\IIT BBSR\\.julia\\packages\\Gridap\\JD3zW\\src\\Fields\\FieldsInterfaces.jl:75</a></li> <li> gradient(F, uh::<b>Vector{<:CellField}</b>, K::<b>Int64</b>) in GridapTopOpt at <a href=\"file://C:/Users/IIT BBSR/.julia/packages/GridapTopOpt/zQxvu/src/StateMaps/StateMaps.jl\" target=\"_blank\">C:\\Users\\IIT BBSR\\.julia\\packages\\GridapTopOpt\\zQxvu\\src\\StateMaps\\StateMaps.jl:25</a></li> </ul>"
      ],
      "text/plain": [
       "# 42 methods for generic function \"gradient\" from \u001b[35mGridap.Fields\u001b[39m:\n",
       "  [1] gradient(::\u001b[1mtypeof(Gridap.CellData._phys_coord)\u001b[22m)\n",
       "\u001b[90m     @\u001b[39m \u001b[35mGridap.CellData\u001b[39m \u001b[90mC:\\Users\\IIT BBSR\\.julia\\packages\\Gridap\\JD3zW\\src\\CellData\\\u001b[39m\u001b[90m\u001b[4mCellFields.jl:545\u001b[24m\u001b[39m\n",
       "  [2] gradient(\u001b[90ma\u001b[39m::\u001b[1mSkeletonCellFieldPair\u001b[22m)\n",
       "\u001b[90m     @\u001b[39m \u001b[35mGridap.CellData\u001b[39m \u001b[90mC:\\Users\\IIT BBSR\\.julia\\packages\\Gridap\\JD3zW\\src\\CellData\\\u001b[39m\u001b[90m\u001b[4mSkeletonCellFieldPair.jl:131\u001b[24m\u001b[39m\n",
       "  [3] gradient(\u001b[90mf\u001b[39m::\u001b[1mGridap.ODEs.TransientSingleFieldCellField\u001b[22m)\n",
       "\u001b[90m     @\u001b[39m \u001b[35mGridap.ODEs\u001b[39m \u001b[90mC:\\Users\\IIT BBSR\\.julia\\packages\\Gridap\\JD3zW\\src\\ODEs\\\u001b[39m\u001b[90m\u001b[4mTransientCellFields.jl:68\u001b[24m\u001b[39m\n",
       "  [4] gradient(\u001b[90mf\u001b[39m::\u001b[1mGridap.ODEs.TransientFEBasis\u001b[22m)\n",
       "\u001b[90m     @\u001b[39m \u001b[35mGridap.ODEs\u001b[39m \u001b[90mC:\\Users\\IIT BBSR\\.julia\\packages\\Gridap\\JD3zW\\src\\ODEs\\\u001b[39m\u001b[90m\u001b[4mTransientCellFields.jl:253\u001b[24m\u001b[39m\n",
       "  [5] gradient(\u001b[90mf\u001b[39m::\u001b[1mFunction\u001b[22m, \u001b[90mx\u001b[39m::\u001b[1mVectorValue\u001b[22m)\n",
       "\u001b[90m     @\u001b[39m \u001b[90mC:\\Users\\IIT BBSR\\.julia\\packages\\Gridap\\JD3zW\\src\\Fields\\\u001b[39m\u001b[90m\u001b[4mAutoDiff.jl:50\u001b[24m\u001b[39m\n",
       "  [6] gradient(\u001b[90mf\u001b[39m::\u001b[1mFunction\u001b[22m, \u001b[90mx\u001b[39m::\u001b[1mVectorValue\u001b[22m, \u001b[90mfx\u001b[39m::\u001b[1mVectorValue\u001b[22m)\n",
       "\u001b[90m     @\u001b[39m \u001b[90mC:\\Users\\IIT BBSR\\.julia\\packages\\Gridap\\JD3zW\\src\\Fields\\\u001b[39m\u001b[90m\u001b[4mAutoDiff.jl:58\u001b[24m\u001b[39m\n",
       "  [7] gradient(\u001b[90mf\u001b[39m::\u001b[1mFunction\u001b[22m, \u001b[90mx\u001b[39m::\u001b[1mVectorValue\u001b[22m\u001b[0m{A}, \u001b[90mfx\u001b[39m::\u001b[1mS\u001b[22m) where {A, B, C, S<:(MultiValue{Tuple{B, C}})}\n",
       "\u001b[90m     @\u001b[39m \u001b[90mC:\\Users\\IIT BBSR\\.julia\\packages\\Gridap\\JD3zW\\src\\Fields\\\u001b[39m\u001b[90m\u001b[4mAutoDiff.jl:64\u001b[24m\u001b[39m\n",
       "  [8] gradient(\u001b[90mf\u001b[39m::\u001b[1mFunction\u001b[22m, \u001b[90mx\u001b[39m::\u001b[1mVectorValue\u001b[22m, \u001b[90mfx\u001b[39m::\u001b[1mMultiValue\u001b[22m)\n",
       "\u001b[90m     @\u001b[39m \u001b[90mC:\\Users\\IIT BBSR\\.julia\\packages\\Gridap\\JD3zW\\src\\Fields\\\u001b[39m\u001b[90m\u001b[4mAutoDiff.jl:69\u001b[24m\u001b[39m\n",
       "  [9] gradient(\u001b[90mf\u001b[39m::\u001b[1mFunction\u001b[22m, \u001b[90mx\u001b[39m::\u001b[1mVectorValue\u001b[22m, \u001b[90mfx\u001b[39m::\u001b[1mNumber\u001b[22m)\n",
       "\u001b[90m     @\u001b[39m \u001b[90mC:\\Users\\IIT BBSR\\.julia\\packages\\Gridap\\JD3zW\\src\\Fields\\\u001b[39m\u001b[90m\u001b[4mAutoDiff.jl:54\u001b[24m\u001b[39m\n",
       " [10] gradient(\u001b[90mf\u001b[39m::\u001b[1mFunction\u001b[22m, \u001b[90muh\u001b[39m::\u001b[1mGridap.MultiField.MultiFieldFEFunction\u001b[22m; ad_type)\n",
       "\u001b[90m     @\u001b[39m \u001b[35mGridap.MultiField\u001b[39m \u001b[90mC:\\Users\\IIT BBSR\\.julia\\packages\\Gridap\\JD3zW\\src\\MultiField\\\u001b[39m\u001b[90m\u001b[4mMultiFieldAutodiff.jl:22\u001b[24m\u001b[39m\n",
       " [11] gradient(\u001b[90mf\u001b[39m::\u001b[1mFunction\u001b[22m, \u001b[90mx\u001b[39m::\u001b[1mStaticArraysCore.SVector\u001b[22m)\n",
       "\u001b[90m     @\u001b[39m \u001b[90mC:\\Users\\IIT BBSR\\.julia\\packages\\Gridap\\JD3zW\\src\\Fields\\\u001b[39m\u001b[90m\u001b[4mAutoDiff.jl:176\u001b[24m\u001b[39m\n",
       " [12] gradient(\u001b[90mf\u001b[39m::\u001b[1mFunction\u001b[22m, \u001b[90muh\u001b[39m::\u001b[1mFEFunction\u001b[22m)\n",
       "\u001b[90m     @\u001b[39m \u001b[35mGridap.FESpaces\u001b[39m \u001b[90mC:\\Users\\IIT BBSR\\.julia\\packages\\Gridap\\JD3zW\\src\\FESpaces\\\u001b[39m\u001b[90m\u001b[4mFEAutodiff.jl:3\u001b[24m\u001b[39m\n",
       " [13] gradient(\u001b[90mf\u001b[39m::\u001b[1mFunction\u001b[22m, \u001b[90muh\u001b[39m::\u001b[1mGridapDistributed.DistributedMultiFieldCellField\u001b[22m\u001b[0m{A, B, GridapDistributed.DistributedFEFunctionData{T}} where {A, B, T}; ad_type)\n",
       "\u001b[90m     @\u001b[39m \u001b[32mGridapDistributed\u001b[39m \u001b[90mC:\\Users\\IIT BBSR\\.julia\\packages\\GridapDistributed\\XNMqm\\src\\\u001b[39m\u001b[90m\u001b[4mAutodiff.jl:87\u001b[24m\u001b[39m\n",
       " [14] gradient(\u001b[90mf\u001b[39m::\u001b[1mFunction\u001b[22m, \u001b[90muh\u001b[39m::\u001b[1mUnion\u001b[22m\u001b[0m{GridapDistributed.DistributedCellField, GridapDistributed.DistributedMultiFieldCellField})\n",
       "\u001b[90m     @\u001b[39m \u001b[32mGridapDistributed\u001b[39m \u001b[90mC:\\Users\\IIT BBSR\\.julia\\packages\\GridapDistributed\\XNMqm\\src\\\u001b[39m\u001b[90m\u001b[4mAutodiff.jl:6\u001b[24m\u001b[39m\n",
       " [15] gradient(\u001b[90mts\u001b[39m::\u001b[1mGridap.ODEs.TimeSpaceFunction\u001b[22m)\n",
       "\u001b[90m     @\u001b[39m \u001b[35mGridap.ODEs\u001b[39m \u001b[90mC:\\Users\\IIT BBSR\\.julia\\packages\\Gridap\\JD3zW\\src\\ODEs\\\u001b[39m\u001b[90m\u001b[4mTimeDerivatives.jl:32\u001b[24m\u001b[39m\n",
       " [16] gradient(\u001b[90mf\u001b[39m::\u001b[1mFunction\u001b[22m)\n",
       "\u001b[90m     @\u001b[39m \u001b[90mC:\\Users\\IIT BBSR\\.julia\\packages\\Gridap\\JD3zW\\src\\Fields\\\u001b[39m\u001b[90m\u001b[4mAutoDiff.jl:18\u001b[24m\u001b[39m\n",
       " [17] gradient(\u001b[90mf\u001b[39m::\u001b[1mGridap.Fields.OperationField\u001b[22m\u001b[0m{<:Field})\n",
       "\u001b[90m     @\u001b[39m \u001b[90mC:\\Users\\IIT BBSR\\.julia\\packages\\Gridap\\JD3zW\\src\\Fields\\\u001b[39m\u001b[90m\u001b[4mFieldsInterfaces.jl:507\u001b[24m\u001b[39m\n",
       " [18] gradient(\u001b[90ma\u001b[39m::\u001b[1mGridap.Fields.OperationField\u001b[22m\u001b[0m{typeof(outer)})\n",
       "\u001b[90m     @\u001b[39m \u001b[90mC:\\Users\\IIT BBSR\\.julia\\packages\\Gridap\\JD3zW\\src\\Fields\\\u001b[39m\u001b[90m\u001b[4mFieldsInterfaces.jl:458\u001b[24m\u001b[39m\n",
       " [19] gradient(\u001b[90ma\u001b[39m::\u001b[1mGridap.Fields.OperationField\u001b[22m\u001b[0m{typeof(inner)})\n",
       "\u001b[90m     @\u001b[39m \u001b[90mC:\\Users\\IIT BBSR\\.julia\\packages\\Gridap\\JD3zW\\src\\Fields\\\u001b[39m\u001b[90m\u001b[4mFieldsInterfaces.jl:458\u001b[24m\u001b[39m\n",
       " [20] gradient(\u001b[90ma\u001b[39m::\u001b[1mGridap.Fields.OperationField\u001b[22m\u001b[0m{typeof(dot)})\n",
       "\u001b[90m     @\u001b[39m \u001b[90mC:\\Users\\IIT BBSR\\.julia\\packages\\Gridap\\JD3zW\\src\\Fields\\\u001b[39m\u001b[90m\u001b[4mFieldsInterfaces.jl:458\u001b[24m\u001b[39m\n",
       " [21] gradient(\u001b[90ma\u001b[39m::\u001b[1mGridap.Fields.OperationField\u001b[22m\u001b[0m{typeof(*)})\n",
       "\u001b[90m     @\u001b[39m \u001b[90mC:\\Users\\IIT BBSR\\.julia\\packages\\Gridap\\JD3zW\\src\\Fields\\\u001b[39m\u001b[90m\u001b[4mFieldsInterfaces.jl:458\u001b[24m\u001b[39m\n",
       " [22] gradient(\u001b[90ma\u001b[39m::\u001b[1mGridap.Fields.OperationField\u001b[22m\u001b[0m{typeof(+)})\n",
       "\u001b[90m     @\u001b[39m \u001b[90mC:\\Users\\IIT BBSR\\.julia\\packages\\Gridap\\JD3zW\\src\\Fields\\\u001b[39m\u001b[90m\u001b[4mFieldsInterfaces.jl:417\u001b[24m\u001b[39m\n",
       " [23] gradient(\u001b[90ma\u001b[39m::\u001b[1mGridap.Fields.OperationField\u001b[22m\u001b[0m{typeof(-)})\n",
       "\u001b[90m     @\u001b[39m \u001b[90mC:\\Users\\IIT BBSR\\.julia\\packages\\Gridap\\JD3zW\\src\\Fields\\\u001b[39m\u001b[90m\u001b[4mFieldsInterfaces.jl:417\u001b[24m\u001b[39m\n",
       " [24] gradient(\u001b[90mf\u001b[39m::\u001b[1mGridap.ODEs.TransientMultiFieldCellField\u001b[22m)\n",
       "\u001b[90m     @\u001b[39m \u001b[35mGridap.ODEs\u001b[39m \u001b[90mC:\\Users\\IIT BBSR\\.julia\\packages\\Gridap\\JD3zW\\src\\ODEs\\\u001b[39m\u001b[90m\u001b[4mTransientCellFields.jl:163\u001b[24m\u001b[39m\n",
       " [25] gradient(\u001b[90mf\u001b[39m::\u001b[1mGridap.ODEs.TransientCellField\u001b[22m)\n",
       "\u001b[90m     @\u001b[39m \u001b[35mGridap.ODEs\u001b[39m \u001b[90mC:\\Users\\IIT BBSR\\.julia\\packages\\Gridap\\JD3zW\\src\\ODEs\\\u001b[39m\u001b[90m\u001b[4mTransientCellFields.jl:27\u001b[24m\u001b[39m\n",
       " [26] gradient(\u001b[90mf\u001b[39m::\u001b[1mGridap.MultiField.MultiFieldFEBasisComponent\u001b[22m)\n",
       "\u001b[90m     @\u001b[39m \u001b[35mGridap.MultiField\u001b[39m \u001b[90mC:\\Users\\IIT BBSR\\.julia\\packages\\Gridap\\JD3zW\\src\\MultiField\\\u001b[39m\u001b[90m\u001b[4mMultiFieldFESpaces.jl:260\u001b[24m\u001b[39m\n",
       " [27] gradient(\u001b[90ma\u001b[39m::\u001b[1mGridapDistributed.DistributedCellField\u001b[22m)\n",
       "\u001b[90m     @\u001b[39m \u001b[32mGridapDistributed\u001b[39m \u001b[90mC:\\Users\\IIT BBSR\\.julia\\packages\\GridapDistributed\\XNMqm\\src\\\u001b[39m\u001b[90m\u001b[4mCellData.jl:170\u001b[24m\u001b[39m\n",
       " [28] gradient(\u001b[90mf\u001b[39m::\u001b[1mGridap.CellData.OperationCellField\u001b[22m\u001b[0m{DS, typeof(-)}) where DS\n",
       "\u001b[90m     @\u001b[39m \u001b[35mGridap.CellData\u001b[39m \u001b[90mC:\\Users\\IIT BBSR\\.julia\\packages\\Gridap\\JD3zW\\src\\CellData\\\u001b[39m\u001b[90m\u001b[4mCellFields.jl:408\u001b[24m\u001b[39m\n",
       " [29] gradient(\u001b[90mf\u001b[39m::\u001b[1mGridap.CellData.OperationCellField\u001b[22m\u001b[0m{DS, typeof(+)}) where DS\n",
       "\u001b[90m     @\u001b[39m \u001b[35mGridap.CellData\u001b[39m \u001b[90mC:\\Users\\IIT BBSR\\.julia\\packages\\Gridap\\JD3zW\\src\\CellData\\\u001b[39m\u001b[90m\u001b[4mCellFields.jl:408\u001b[24m\u001b[39m\n",
       " [30] gradient(\u001b[90mf\u001b[39m::\u001b[1mFieldGradient\u001b[22m\u001b[0m{N}) where N\n",
       "\u001b[90m     @\u001b[39m \u001b[90mC:\\Users\\IIT BBSR\\.julia\\packages\\Gridap\\JD3zW\\src\\Fields\\\u001b[39m\u001b[90m\u001b[4mFieldsInterfaces.jl:124\u001b[24m\u001b[39m\n",
       " [31] gradient(\u001b[90ma\u001b[39m::\u001b[1mGridap.Fields.LinearCombinationField\u001b[22m)\n",
       "\u001b[90m     @\u001b[39m \u001b[90mC:\\Users\\IIT BBSR\\.julia\\packages\\Gridap\\JD3zW\\src\\Fields\\\u001b[39m\u001b[90m\u001b[4mFieldArrays.jl:206\u001b[24m\u001b[39m\n",
       " [32] gradient(\u001b[90mf\u001b[39m::\u001b[1mNumber\u001b[22m)\n",
       "\u001b[90m     @\u001b[39m \u001b[90mC:\\Users\\IIT BBSR\\.julia\\packages\\Gridap\\JD3zW\\src\\Fields\\\u001b[39m\u001b[90m\u001b[4mAutoDiff.jl:3\u001b[24m\u001b[39m\n",
       " [33] gradient(\u001b[90ma\u001b[39m::\u001b[1mGridap.CellData.CellFieldAt\u001b[22m\u001b[0m{P}) where P\n",
       "\u001b[90m     @\u001b[39m \u001b[35mGridap.CellData\u001b[39m \u001b[90mC:\\Users\\IIT BBSR\\.julia\\packages\\Gridap\\JD3zW\\src\\CellData\\\u001b[39m\u001b[90m\u001b[4mCellFields.jl:571\u001b[24m\u001b[39m\n",
       " [34] gradient(\u001b[90ma\u001b[39m::\u001b[1mCellField\u001b[22m)\n",
       "\u001b[90m     @\u001b[39m \u001b[35mGridap.CellData\u001b[39m \u001b[90mC:\\Users\\IIT BBSR\\.julia\\packages\\Gridap\\JD3zW\\src\\CellData\\\u001b[39m\u001b[90m\u001b[4mCellFields.jl:265\u001b[24m\u001b[39m\n",
       " [35] gradient(\u001b[90mh\u001b[39m::\u001b[1mAffineField\u001b[22m)\n",
       "\u001b[90m     @\u001b[39m \u001b[90mC:\\Users\\IIT BBSR\\.julia\\packages\\Gridap\\JD3zW\\src\\Fields\\\u001b[39m\u001b[90m\u001b[4mAffineMaps.jl:50\u001b[24m\u001b[39m\n",
       " [36] gradient(\u001b[90mz\u001b[39m::\u001b[1mVoidField\u001b[22m)\n",
       "\u001b[90m     @\u001b[39m \u001b[90mC:\\Users\\IIT BBSR\\.julia\\packages\\Gridap\\JD3zW\\src\\Fields\\\u001b[39m\u001b[90m\u001b[4mFieldsInterfaces.jl:776\u001b[24m\u001b[39m\n",
       " [37] gradient(\u001b[90mz\u001b[39m::\u001b[1mZeroField\u001b[22m)\n",
       "\u001b[90m     @\u001b[39m \u001b[90mC:\\Users\\IIT BBSR\\.julia\\packages\\Gridap\\JD3zW\\src\\Fields\\\u001b[39m\u001b[90m\u001b[4mFieldsInterfaces.jl:239\u001b[24m\u001b[39m\n",
       " [38] gradient(\u001b[90mf\u001b[39m::\u001b[1mField\u001b[22m)\n",
       "\u001b[90m     @\u001b[39m \u001b[90mC:\\Users\\IIT BBSR\\.julia\\packages\\Gridap\\JD3zW\\src\\Fields\\\u001b[39m\u001b[90m\u001b[4mFieldsInterfaces.jl:123\u001b[24m\u001b[39m\n",
       " [39] gradient(\u001b[90ma\u001b[39m::\u001b[1mAbstractArray\u001b[22m\u001b[0m{<:Field})\n",
       "\u001b[90m     @\u001b[39m \u001b[90mC:\\Users\\IIT BBSR\\.julia\\packages\\Gridap\\JD3zW\\src\\Fields\\\u001b[39m\u001b[90m\u001b[4mFieldArrays.jl:130\u001b[24m\u001b[39m\n",
       " [40] gradient(\u001b[90mf\u001b[39m, ::\u001b[1mVal\u001b[22m\u001b[0m{1})\n",
       "\u001b[90m     @\u001b[39m \u001b[90mC:\\Users\\IIT BBSR\\.julia\\packages\\Gridap\\JD3zW\\src\\Fields\\\u001b[39m\u001b[90m\u001b[4mFieldsInterfaces.jl:74\u001b[24m\u001b[39m\n",
       " [41] gradient(\u001b[90mf\u001b[39m, ::\u001b[1mVal\u001b[22m\u001b[0m{2})\n",
       "\u001b[90m     @\u001b[39m \u001b[90mC:\\Users\\IIT BBSR\\.julia\\packages\\Gridap\\JD3zW\\src\\Fields\\\u001b[39m\u001b[90m\u001b[4mFieldsInterfaces.jl:75\u001b[24m\u001b[39m\n",
       " [42] gradient(\u001b[90mF\u001b[39m, \u001b[90muh\u001b[39m::\u001b[1mVector\u001b[22m\u001b[0m{<:CellField}, \u001b[90mK\u001b[39m::\u001b[1mInt64\u001b[22m)\n",
       "\u001b[90m     @\u001b[39m \u001b[33mGridapTopOpt\u001b[39m \u001b[90mC:\\Users\\IIT BBSR\\.julia\\packages\\GridapTopOpt\\zQxvu\\src\\StateMaps\\\u001b[39m\u001b[90m\u001b[4mStateMaps.jl:25\u001b[24m\u001b[39m"
      ]
     },
     "metadata": {},
     "output_type": "display_data"
    }
   ],
   "source": [
    "using Gridap.Fields\n",
    "@which ∇\n",
    "methods(∇)"
   ]
  },
  {
   "cell_type": "code",
   "execution_count": 62,
   "id": "32b5a536",
   "metadata": {},
   "outputs": [
    {
     "data": {
      "text/html": [
       "# 7 methods for type constructor:<ul><li> PDEConstrainedFunctionals(objective::<b>GridapTopOpt.AbstractStateParamMap</b>, constraints::<b>Vector{<:GridapTopOpt.AbstractStateParamMap}</b>, state_map::<b>GridapTopOpt.AbstractFEStateMap</b>; <i>analytic_dJ, analytic_dC</i>) in GridapTopOpt at <a href=\"file://C:/Users/IIT BBSR/.julia/packages/GridapTopOpt/zQxvu/src/StateMaps/PDEConstrainedFunctionals.jl\" target=\"_blank\">C:\\Users\\IIT BBSR\\.julia\\packages\\GridapTopOpt\\zQxvu\\src\\StateMaps\\PDEConstrainedFunctionals.jl:63</a></li> <li> PDEConstrainedFunctionals(objective::<b>Function</b>, constraints::<b>Vector{<:Function}</b>, state_map::<b>Union{AffineFEStateMap, NonlinearFEStateMap, RepeatingAffineFEStateMap}</b>; <i>analytic_dJ, analytic_dC</i>) in GridapTopOpt at <a href=\"file://C:/Users/IIT BBSR/.julia/packages/GridapTopOpt/zQxvu/src/StateMaps/PDEConstrainedFunctionals.jl\" target=\"_blank\">C:\\Users\\IIT BBSR\\.julia\\packages\\GridapTopOpt\\zQxvu\\src\\StateMaps\\PDEConstrainedFunctionals.jl:90</a></li> <li> PDEConstrainedFunctionals(J, state_map::<b>Union{StaggeredAffineFEStateMap{NB}, StaggeredNonlinearFEStateMap{NB}} where NB</b>; <i>analytic_dJ</i>) in GridapTopOpt at <a href=\"file://C:/Users/IIT BBSR/.julia/packages/GridapTopOpt/zQxvu/src/StateMaps/PDEConstrainedFunctionals.jl\" target=\"_blank\">C:\\Users\\IIT BBSR\\.julia\\packages\\GridapTopOpt\\zQxvu\\src\\StateMaps\\PDEConstrainedFunctionals.jl:155</a></li> <li> PDEConstrainedFunctionals(J, state_map::<b>GridapTopOpt.AbstractFEStateMap</b>; <i>analytic_dJ</i>) in GridapTopOpt at <a href=\"file://C:/Users/IIT BBSR/.julia/packages/GridapTopOpt/zQxvu/src/StateMaps/PDEConstrainedFunctionals.jl\" target=\"_blank\">C:\\Users\\IIT BBSR\\.julia\\packages\\GridapTopOpt\\zQxvu\\src\\StateMaps\\PDEConstrainedFunctionals.jl:112</a></li> <li> PDEConstrainedFunctionals(objective::<b>Function</b>, ∂J∂xhi, constraints::<b>Vector{<:Function}</b>, ∂Cj∂xhi, state_map::<b>Union{StaggeredAffineFEStateMap{NB}, StaggeredNonlinearFEStateMap{NB}} where NB</b>; <i>analytic_dJ, analytic_dC</i>) in GridapTopOpt at <a href=\"file://C:/Users/IIT BBSR/.julia/packages/GridapTopOpt/zQxvu/src/StateMaps/PDEConstrainedFunctionals.jl\" target=\"_blank\">C:\\Users\\IIT BBSR\\.julia\\packages\\GridapTopOpt\\zQxvu\\src\\StateMaps\\PDEConstrainedFunctionals.jl:116</a></li> <li> PDEConstrainedFunctionals(objective::<b>Function</b>, constraints::<b>Vector{<:Function}</b>, state_map::<b>Union{StaggeredAffineFEStateMap{NB}, StaggeredNonlinearFEStateMap{NB}} where NB</b>; <i>analytic_dJ, analytic_dC</i>) in GridapTopOpt at <a href=\"file://C:/Users/IIT BBSR/.julia/packages/GridapTopOpt/zQxvu/src/StateMaps/PDEConstrainedFunctionals.jl\" target=\"_blank\">C:\\Users\\IIT BBSR\\.julia\\packages\\GridapTopOpt\\zQxvu\\src\\StateMaps\\PDEConstrainedFunctionals.jl:135</a></li> <li> PDEConstrainedFunctionals(J, ∂J∂xhi::<b>Tuple{Vararg{Function}}</b>, state_map::<b>Union{StaggeredAffineFEStateMap{NB}, StaggeredNonlinearFEStateMap{NB}} where NB</b>; <i>analytic_dJ</i>) in GridapTopOpt at <a href=\"file://C:/Users/IIT BBSR/.julia/packages/GridapTopOpt/zQxvu/src/StateMaps/PDEConstrainedFunctionals.jl\" target=\"_blank\">C:\\Users\\IIT BBSR\\.julia\\packages\\GridapTopOpt\\zQxvu\\src\\StateMaps\\PDEConstrainedFunctionals.jl:152</a></li> </ul>"
      ],
      "text/plain": [
       "# 7 methods for type constructor:\n",
       " [1] PDEConstrainedFunctionals(\u001b[90mobjective\u001b[39m::\u001b[1mGridapTopOpt.AbstractStateParamMap\u001b[22m, \u001b[90mconstraints\u001b[39m::\u001b[1mVector\u001b[22m\u001b[0m{<:GridapTopOpt.AbstractStateParamMap}, \u001b[90mstate_map\u001b[39m::\u001b[1mGridapTopOpt.AbstractFEStateMap\u001b[22m; analytic_dJ, analytic_dC)\n",
       "\u001b[90m     @\u001b[39m \u001b[90mC:\\Users\\IIT BBSR\\.julia\\packages\\GridapTopOpt\\zQxvu\\src\\StateMaps\\\u001b[39m\u001b[90m\u001b[4mPDEConstrainedFunctionals.jl:63\u001b[24m\u001b[39m\n",
       " [2] PDEConstrainedFunctionals(\u001b[90mobjective\u001b[39m::\u001b[1mFunction\u001b[22m, \u001b[90mconstraints\u001b[39m::\u001b[1mVector\u001b[22m\u001b[0m{<:Function}, \u001b[90mstate_map\u001b[39m::\u001b[1mUnion\u001b[22m\u001b[0m{AffineFEStateMap, NonlinearFEStateMap, RepeatingAffineFEStateMap}; analytic_dJ, analytic_dC)\n",
       "\u001b[90m     @\u001b[39m \u001b[90mC:\\Users\\IIT BBSR\\.julia\\packages\\GridapTopOpt\\zQxvu\\src\\StateMaps\\\u001b[39m\u001b[90m\u001b[4mPDEConstrainedFunctionals.jl:90\u001b[24m\u001b[39m\n",
       " [3] PDEConstrainedFunctionals(\u001b[90mJ\u001b[39m, \u001b[90mstate_map\u001b[39m::\u001b[1mUnion\u001b[22m\u001b[0m{StaggeredAffineFEStateMap{NB}, StaggeredNonlinearFEStateMap{NB}} where NB; analytic_dJ)\n",
       "\u001b[90m     @\u001b[39m \u001b[90mC:\\Users\\IIT BBSR\\.julia\\packages\\GridapTopOpt\\zQxvu\\src\\StateMaps\\\u001b[39m\u001b[90m\u001b[4mPDEConstrainedFunctionals.jl:155\u001b[24m\u001b[39m\n",
       " [4] PDEConstrainedFunctionals(\u001b[90mJ\u001b[39m, \u001b[90mstate_map\u001b[39m::\u001b[1mGridapTopOpt.AbstractFEStateMap\u001b[22m; analytic_dJ)\n",
       "\u001b[90m     @\u001b[39m \u001b[90mC:\\Users\\IIT BBSR\\.julia\\packages\\GridapTopOpt\\zQxvu\\src\\StateMaps\\\u001b[39m\u001b[90m\u001b[4mPDEConstrainedFunctionals.jl:112\u001b[24m\u001b[39m\n",
       " [5] PDEConstrainedFunctionals(\u001b[90mobjective\u001b[39m::\u001b[1mFunction\u001b[22m, \u001b[90m∂J∂xhi\u001b[39m, \u001b[90mconstraints\u001b[39m::\u001b[1mVector\u001b[22m\u001b[0m{<:Function}, \u001b[90m∂Cj∂xhi\u001b[39m, \u001b[90mstate_map\u001b[39m::\u001b[1mUnion\u001b[22m\u001b[0m{StaggeredAffineFEStateMap{NB}, StaggeredNonlinearFEStateMap{NB}} where NB; analytic_dJ, analytic_dC)\n",
       "\u001b[90m     @\u001b[39m \u001b[90mC:\\Users\\IIT BBSR\\.julia\\packages\\GridapTopOpt\\zQxvu\\src\\StateMaps\\\u001b[39m\u001b[90m\u001b[4mPDEConstrainedFunctionals.jl:116\u001b[24m\u001b[39m\n",
       " [6] PDEConstrainedFunctionals(\u001b[90mobjective\u001b[39m::\u001b[1mFunction\u001b[22m, \u001b[90mconstraints\u001b[39m::\u001b[1mVector\u001b[22m\u001b[0m{<:Function}, \u001b[90mstate_map\u001b[39m::\u001b[1mUnion\u001b[22m\u001b[0m{StaggeredAffineFEStateMap{NB}, StaggeredNonlinearFEStateMap{NB}} where NB; analytic_dJ, analytic_dC)\n",
       "\u001b[90m     @\u001b[39m \u001b[90mC:\\Users\\IIT BBSR\\.julia\\packages\\GridapTopOpt\\zQxvu\\src\\StateMaps\\\u001b[39m\u001b[90m\u001b[4mPDEConstrainedFunctionals.jl:135\u001b[24m\u001b[39m\n",
       " [7] PDEConstrainedFunctionals(\u001b[90mJ\u001b[39m, \u001b[90m∂J∂xhi\u001b[39m::\u001b[1mTuple\u001b[22m\u001b[0m{Vararg{Function}}, \u001b[90mstate_map\u001b[39m::\u001b[1mUnion\u001b[22m\u001b[0m{StaggeredAffineFEStateMap{NB}, StaggeredNonlinearFEStateMap{NB}} where NB; analytic_dJ)\n",
       "\u001b[90m     @\u001b[39m \u001b[90mC:\\Users\\IIT BBSR\\.julia\\packages\\GridapTopOpt\\zQxvu\\src\\StateMaps\\\u001b[39m\u001b[90m\u001b[4mPDEConstrainedFunctionals.jl:152\u001b[24m\u001b[39m"
      ]
     },
     "metadata": {},
     "output_type": "display_data"
    }
   ],
   "source": [
    "using GridapTopOpt\n",
    "@which PDEConstrainedFunctionals\n",
    "methods(PDEConstrainedFunctionals)"
   ]
  },
  {
   "cell_type": "code",
   "execution_count": 64,
   "id": "44f4a16b",
   "metadata": {},
   "outputs": [
    {
     "data": {
      "text/html": [
       "# 2 methods for type constructor:<ul><li> VelocityExtension(biform::<b>Function</b>, U_reg::<b>FESpace</b>, V_reg::<b>FESpace</b>; <i>assem, ls</i>) in GridapTopOpt at <a href=\"file://C:/Users/IIT BBSR/.julia/packages/GridapTopOpt/zQxvu/src/VelocityExtension.jl\" target=\"_blank\">C:\\Users\\IIT BBSR\\.julia\\packages\\GridapTopOpt\\zQxvu\\src\\VelocityExtension.jl:70</a></li> <li> VelocityExtension(K::<b>A</b>, U_reg::<b>B</b>, cache::<b>C</b>)<i> where {A, B, C}</i> in GridapTopOpt at <a href=\"file://C:/Users/IIT BBSR/.julia/packages/GridapTopOpt/zQxvu/src/VelocityExtension.jl\" target=\"_blank\">C:\\Users\\IIT BBSR\\.julia\\packages\\GridapTopOpt\\zQxvu\\src\\VelocityExtension.jl:54</a></li> </ul>"
      ],
      "text/plain": [
       "# 2 methods for type constructor:\n",
       " [1] VelocityExtension(\u001b[90mbiform\u001b[39m::\u001b[1mFunction\u001b[22m, \u001b[90mU_reg\u001b[39m::\u001b[1mFESpace\u001b[22m, \u001b[90mV_reg\u001b[39m::\u001b[1mFESpace\u001b[22m; assem, ls)\n",
       "\u001b[90m     @\u001b[39m \u001b[90mC:\\Users\\IIT BBSR\\.julia\\packages\\GridapTopOpt\\zQxvu\\src\\\u001b[39m\u001b[90m\u001b[4mVelocityExtension.jl:70\u001b[24m\u001b[39m\n",
       " [2] VelocityExtension(\u001b[90mK\u001b[39m::\u001b[1mA\u001b[22m, \u001b[90mU_reg\u001b[39m::\u001b[1mB\u001b[22m, \u001b[90mcache\u001b[39m::\u001b[1mC\u001b[22m) where {A, B, C}\n",
       "\u001b[90m     @\u001b[39m \u001b[90mC:\\Users\\IIT BBSR\\.julia\\packages\\GridapTopOpt\\zQxvu\\src\\\u001b[39m\u001b[90m\u001b[4mVelocityExtension.jl:54\u001b[24m\u001b[39m"
      ]
     },
     "metadata": {},
     "output_type": "display_data"
    }
   ],
   "source": [
    "using GridapTopOpt\n",
    "@which VelocityExtension\n",
    "methods(VelocityExtension)"
   ]
  },
  {
   "cell_type": "code",
   "execution_count": 66,
   "id": "4f7f6823",
   "metadata": {},
   "outputs": [
    {
     "data": {
      "text/html": [
       "# 1 method for type constructor:<ul><li> FirstOrderStencil(D::<b>Integer</b>, ::<b>Type{T}</b>)<i> where T<:Real</i> in GridapTopOpt at <a href=\"file://C:/Users/IIT BBSR/.julia/packages/GridapTopOpt/zQxvu/src/LevelSetEvolution/Stencil/FirstOrderStencil.jl\" target=\"_blank\">C:\\Users\\IIT BBSR\\.julia\\packages\\GridapTopOpt\\zQxvu\\src\\LevelSetEvolution\\Stencil\\FirstOrderStencil.jl:8</a></li> </ul>"
      ],
      "text/plain": [
       "# 1 method for type constructor:\n",
       " [1] FirstOrderStencil(\u001b[90mD\u001b[39m::\u001b[1mInteger\u001b[22m, ::\u001b[1mType\u001b[22m\u001b[0m{T}) where T<:Real\n",
       "\u001b[90m     @\u001b[39m \u001b[90mC:\\Users\\IIT BBSR\\.julia\\packages\\GridapTopOpt\\zQxvu\\src\\LevelSetEvolution\\Stencil\\\u001b[39m\u001b[90m\u001b[4mFirstOrderStencil.jl:8\u001b[24m\u001b[39m"
      ]
     },
     "metadata": {},
     "output_type": "display_data"
    }
   ],
   "source": [
    "using GridapTopOpt\n",
    "@which FirstOrderStencil\n",
    "methods(FirstOrderStencil)"
   ]
  },
  {
   "cell_type": "code",
   "execution_count": 68,
   "id": "9905f31d",
   "metadata": {},
   "outputs": [
    {
     "data": {
      "text/html": [
       "# 1 method for type constructor:<ul><li> FiniteDifferenceEvolver(stencil::<b>GridapTopOpt.Stencil</b>, model, space; <i>max_steps, correct_ls</i>) in GridapTopOpt at <a href=\"file://C:/Users/IIT BBSR/.julia/packages/GridapTopOpt/zQxvu/src/LevelSetEvolution/Evolver/FiniteDifferenceEvolver.jl\" target=\"_blank\">C:\\Users\\IIT BBSR\\.julia\\packages\\GridapTopOpt\\zQxvu\\src\\LevelSetEvolution\\Evolver\\FiniteDifferenceEvolver.jl:43</a></li> </ul>"
      ],
      "text/plain": [
       "# 1 method for type constructor:\n",
       " [1] FiniteDifferenceEvolver(\u001b[90mstencil\u001b[39m::\u001b[1mGridapTopOpt.Stencil\u001b[22m, \u001b[90mmodel\u001b[39m, \u001b[90mspace\u001b[39m; max_steps, correct_ls)\n",
       "\u001b[90m     @\u001b[39m \u001b[90mC:\\Users\\IIT BBSR\\.julia\\packages\\GridapTopOpt\\zQxvu\\src\\LevelSetEvolution\\Evolver\\\u001b[39m\u001b[90m\u001b[4mFiniteDifferenceEvolver.jl:43\u001b[24m\u001b[39m"
      ]
     },
     "metadata": {},
     "output_type": "display_data"
    }
   ],
   "source": [
    "using GridapTopOpt\n",
    "@which FiniteDifferenceEvolver\n",
    "methods(FiniteDifferenceEvolver)"
   ]
  },
  {
   "cell_type": "code",
   "execution_count": 70,
   "id": "419b75b3",
   "metadata": {},
   "outputs": [
    {
     "data": {
      "text/html": [
       "# 1 method for type constructor:<ul><li> FiniteDifferenceReinitialiser(stencil::<b>GridapTopOpt.Stencil</b>, model, space; <i>γ_reinit, tol, max_steps, correct_ls</i>) in GridapTopOpt at <a href=\"file://C:/Users/IIT BBSR/.julia/packages/GridapTopOpt/zQxvu/src/LevelSetEvolution/Reinitialiser/FiniteDifferenceReinitialiser.jl\" target=\"_blank\">C:\\Users\\IIT BBSR\\.julia\\packages\\GridapTopOpt\\zQxvu\\src\\LevelSetEvolution\\Reinitialiser\\FiniteDifferenceReinitialiser.jl:45</a></li> </ul>"
      ],
      "text/plain": [
       "# 1 method for type constructor:\n",
       " [1] FiniteDifferenceReinitialiser(\u001b[90mstencil\u001b[39m::\u001b[1mGridapTopOpt.Stencil\u001b[22m, \u001b[90mmodel\u001b[39m, \u001b[90mspace\u001b[39m; γ_reinit, tol, max_steps, correct_ls)\n",
       "\u001b[90m     @\u001b[39m \u001b[90mC:\\Users\\IIT BBSR\\.julia\\packages\\GridapTopOpt\\zQxvu\\src\\LevelSetEvolution\\Reinitialiser\\\u001b[39m\u001b[90m\u001b[4mFiniteDifferenceReinitialiser.jl:45\u001b[24m\u001b[39m"
      ]
     },
     "metadata": {},
     "output_type": "display_data"
    }
   ],
   "source": [
    "using GridapTopOpt\n",
    "@which FiniteDifferenceReinitialiser\n",
    "methods(FiniteDifferenceReinitialiser)"
   ]
  },
  {
   "cell_type": "code",
   "execution_count": 72,
   "id": "9d558276",
   "metadata": {},
   "outputs": [
    {
     "data": {
      "text/html": [
       "# 1 method for type constructor:<ul><li> LevelSetEvolution(evolver::<b>A</b>, reinitialiser::<b>B</b>)<i> where {A, B}</i> in GridapTopOpt at <a href=\"file://C:/Users/IIT BBSR/.julia/packages/GridapTopOpt/zQxvu/src/LevelSetEvolution/LevelSetEvolution.jl\" target=\"_blank\">C:\\Users\\IIT BBSR\\.julia\\packages\\GridapTopOpt\\zQxvu\\src\\LevelSetEvolution\\LevelSetEvolution.jl:29</a></li> </ul>"
      ],
      "text/plain": [
       "# 1 method for type constructor:\n",
       " [1] LevelSetEvolution(\u001b[90mevolver\u001b[39m::\u001b[1mA\u001b[22m, \u001b[90mreinitialiser\u001b[39m::\u001b[1mB\u001b[22m) where {A, B}\n",
       "\u001b[90m     @\u001b[39m \u001b[90mC:\\Users\\IIT BBSR\\.julia\\packages\\GridapTopOpt\\zQxvu\\src\\LevelSetEvolution\\\u001b[39m\u001b[90m\u001b[4mLevelSetEvolution.jl:29\u001b[24m\u001b[39m"
      ]
     },
     "metadata": {},
     "output_type": "display_data"
    }
   ],
   "source": [
    "using GridapTopOpt\n",
    "@which LevelSetEvolution\n",
    "methods(LevelSetEvolution)"
   ]
  },
  {
   "cell_type": "code",
   "execution_count": 74,
   "id": "b43216d6",
   "metadata": {},
   "outputs": [
    {
     "data": {
      "text/html": [
       "# 1 method for type constructor:<ul><li> AugmentedLagrangian(problem::<b>GridapTopOpt.AbstractPDEConstrainedFunctionals{N}</b>, ls_evolver::<b>GridapTopOpt.AbstractLevelSetEvolution</b>, vel_ext::<b>GridapTopOpt.AbstractVelocityExtension</b>, φ0; <i>Λ_max, ζ, update_mod, reinit_mod, γ, os_γ_mult, Λ_update_tol, maxiter, verbose, constraint_names, converged, debug, has_oscillations, initial_parameters, γ_reinit</i>)<i> where N</i> in GridapTopOpt at <a href=\"file://C:/Users/IIT BBSR/.julia/packages/GridapTopOpt/zQxvu/src/Optimisers/AugmentedLagrangian.jl\" target=\"_blank\">C:\\Users\\IIT BBSR\\.julia\\packages\\GridapTopOpt\\zQxvu\\src\\Optimisers\\AugmentedLagrangian.jl:77</a></li> </ul>"
      ],
      "text/plain": [
       "# 1 method for type constructor:\n",
       " [1] AugmentedLagrangian(\u001b[90mproblem\u001b[39m::\u001b[1mGridapTopOpt.AbstractPDEConstrainedFunctionals\u001b[22m\u001b[0m{N}, \u001b[90mls_evolver\u001b[39m::\u001b[1mGridapTopOpt.AbstractLevelSetEvolution\u001b[22m, \u001b[90mvel_ext\u001b[39m::\u001b[1mGridapTopOpt.AbstractVelocityExtension\u001b[22m, \u001b[90mφ0\u001b[39m; Λ_max, ζ, update_mod, reinit_mod, γ, os_γ_mult, Λ_update_tol, maxiter, verbose, constraint_names, converged, debug, has_oscillations, initial_parameters, γ_reinit) where N\n",
       "\u001b[90m     @\u001b[39m \u001b[90mC:\\Users\\IIT BBSR\\.julia\\packages\\GridapTopOpt\\zQxvu\\src\\Optimisers\\\u001b[39m\u001b[90m\u001b[4mAugmentedLagrangian.jl:77\u001b[24m\u001b[39m"
      ]
     },
     "metadata": {},
     "output_type": "display_data"
    }
   ],
   "source": [
    "using GridapTopOpt\n",
    "@which AugmentedLagrangian\n",
    "methods(AugmentedLagrangian)"
   ]
  },
  {
   "cell_type": "code",
   "execution_count": 78,
   "id": "af2d7667",
   "metadata": {},
   "outputs": [
    {
     "data": {
      "text/html": [
       "# 1 method for generic function <b>write_history</b> from \u001b[33mGridapTopOpt\u001b[39m:<ul><li> write_history(path::<b>String</b>, h::<b>GridapTopOpt.OptimiserHistory</b>; <i>ranks</i>) in GridapTopOpt at <a href=\"file://C:/Users/IIT BBSR/.julia/packages/GridapTopOpt/zQxvu/src/Optimisers/Optimisers.jl\" target=\"_blank\">C:\\Users\\IIT BBSR\\.julia\\packages\\GridapTopOpt\\zQxvu\\src\\Optimisers\\Optimisers.jl:210</a></li> </ul>"
      ],
      "text/plain": [
       "# 1 method for generic function \"write_history\" from \u001b[33mGridapTopOpt\u001b[39m:\n",
       " [1] write_history(\u001b[90mpath\u001b[39m::\u001b[1mString\u001b[22m, \u001b[90mh\u001b[39m::\u001b[1mGridapTopOpt.OptimiserHistory\u001b[22m; ranks)\n",
       "\u001b[90m     @\u001b[39m \u001b[90mC:\\Users\\IIT BBSR\\.julia\\packages\\GridapTopOpt\\zQxvu\\src\\Optimisers\\\u001b[39m\u001b[90m\u001b[4mOptimisers.jl:210\u001b[24m\u001b[39m"
      ]
     },
     "metadata": {},
     "output_type": "display_data"
    }
   ],
   "source": [
    "using GridapTopOpt\n",
    "@which write_history\n",
    "methods(write_history)"
   ]
  },
  {
   "cell_type": "code",
   "execution_count": 76,
   "id": "56d30db8",
   "metadata": {},
   "outputs": [
    {
     "data": {
      "text/html": [
       "# 3 methods for generic function <b>get_history</b> from \u001b[33mGridapTopOpt\u001b[39m:<ul><li> get_history(m::<b>AugmentedLagrangian</b>) in GridapTopOpt at <a href=\"file://C:/Users/IIT BBSR/.julia/packages/GridapTopOpt/zQxvu/src/Optimisers/AugmentedLagrangian.jl\" target=\"_blank\">C:\\Users\\IIT BBSR\\.julia\\packages\\GridapTopOpt\\zQxvu\\src\\Optimisers\\AugmentedLagrangian.jl:105</a></li> <li> get_history(m::<b>HilbertianProjection</b>) in GridapTopOpt at <a href=\"file://C:/Users/IIT BBSR/.julia/packages/GridapTopOpt/zQxvu/src/Optimisers/HilbertianProjection.jl\" target=\"_blank\">C:\\Users\\IIT BBSR\\.julia\\packages\\GridapTopOpt\\zQxvu\\src\\Optimisers\\HilbertianProjection.jl:253</a></li> <li> get_history(::<b>GridapTopOpt.Optimiser</b>) in GridapTopOpt at <a href=\"file://C:/Users/IIT BBSR/.julia/packages/GridapTopOpt/zQxvu/src/Optimisers/Optimisers.jl\" target=\"_blank\">C:\\Users\\IIT BBSR\\.julia\\packages\\GridapTopOpt\\zQxvu\\src\\Optimisers\\Optimisers.jl:41</a></li> </ul>"
      ],
      "text/plain": [
       "# 3 methods for generic function \"get_history\" from \u001b[33mGridapTopOpt\u001b[39m:\n",
       " [1] get_history(\u001b[90mm\u001b[39m::\u001b[1mAugmentedLagrangian\u001b[22m)\n",
       "\u001b[90m     @\u001b[39m \u001b[90mC:\\Users\\IIT BBSR\\.julia\\packages\\GridapTopOpt\\zQxvu\\src\\Optimisers\\\u001b[39m\u001b[90m\u001b[4mAugmentedLagrangian.jl:105\u001b[24m\u001b[39m\n",
       " [2] get_history(\u001b[90mm\u001b[39m::\u001b[1mHilbertianProjection\u001b[22m)\n",
       "\u001b[90m     @\u001b[39m \u001b[90mC:\\Users\\IIT BBSR\\.julia\\packages\\GridapTopOpt\\zQxvu\\src\\Optimisers\\\u001b[39m\u001b[90m\u001b[4mHilbertianProjection.jl:253\u001b[24m\u001b[39m\n",
       " [3] get_history(::\u001b[1mGridapTopOpt.Optimiser\u001b[22m)\n",
       "\u001b[90m     @\u001b[39m \u001b[90mC:\\Users\\IIT BBSR\\.julia\\packages\\GridapTopOpt\\zQxvu\\src\\Optimisers\\\u001b[39m\u001b[90m\u001b[4mOptimisers.jl:41\u001b[24m\u001b[39m"
      ]
     },
     "metadata": {},
     "output_type": "display_data"
    }
   ],
   "source": [
    "using GridapTopOpt\n",
    "@which get_history\n",
    "methods(get_history)"
   ]
  },
  {
   "cell_type": "code",
   "execution_count": 80,
   "id": "3d1691be",
   "metadata": {},
   "outputs": [
    {
     "data": {
      "text/html": [
       "# 13 methods for generic function <b>get_state</b> from \u001b[33mGridapTopOpt\u001b[39m:<ul><li> get_state(m::<b>StaggeredNonlinearFEStateMap</b>) in GridapTopOpt at <a href=\"file://C:/Users/IIT BBSR/.julia/packages/GridapTopOpt/zQxvu/src/StateMaps/StaggeredFEStateMaps.jl\" target=\"_blank\">C:\\Users\\IIT BBSR\\.julia\\packages\\GridapTopOpt\\zQxvu\\src\\StateMaps\\StaggeredFEStateMaps.jl:362</a></li> <li> get_state(m::<b>Vector{<:GridapTopOpt.AbstractFEStateMap}</b>) in GridapTopOpt at <a href=\"file://C:/Users/IIT BBSR/.julia/packages/GridapTopOpt/zQxvu/src/StateMaps/FEStateMaps.jl\" target=\"_blank\">C:\\Users\\IIT BBSR\\.julia\\packages\\GridapTopOpt\\zQxvu\\src\\StateMaps\\FEStateMaps.jl:16</a></li> <li> get_state(::<b>CustomPDEConstrainedFunctionals{N, Nothing}</b>)<i> where N</i> in GridapTopOpt at <a href=\"file://C:/Users/IIT BBSR/.julia/packages/GridapTopOpt/zQxvu/src/StateMaps/PDEConstrainedFunctionals.jl\" target=\"_blank\">C:\\Users\\IIT BBSR\\.julia\\packages\\GridapTopOpt\\zQxvu\\src\\StateMaps\\PDEConstrainedFunctionals.jl:524</a></li> <li> get_state(m::<b>CustomPDEConstrainedFunctionals</b>) in GridapTopOpt at <a href=\"file://C:/Users/IIT BBSR/.julia/packages/GridapTopOpt/zQxvu/src/StateMaps/PDEConstrainedFunctionals.jl\" target=\"_blank\">C:\\Users\\IIT BBSR\\.julia\\packages\\GridapTopOpt\\zQxvu\\src\\StateMaps\\PDEConstrainedFunctionals.jl:523</a></li> <li> get_state(m::<b>RepeatingAffineFEStateMap</b>) in GridapTopOpt at <a href=\"file://C:/Users/IIT BBSR/.julia/packages/GridapTopOpt/zQxvu/src/StateMaps/RepeatingAffineFEStateMaps.jl\" target=\"_blank\">C:\\Users\\IIT BBSR\\.julia\\packages\\GridapTopOpt\\zQxvu\\src\\StateMaps\\RepeatingAffineFEStateMaps.jl:173</a></li> <li> get_state(m::<b>StaggeredAffineFEStateMap</b>) in GridapTopOpt at <a href=\"file://C:/Users/IIT BBSR/.julia/packages/GridapTopOpt/zQxvu/src/StateMaps/StaggeredFEStateMaps.jl\" target=\"_blank\">C:\\Users\\IIT BBSR\\.julia\\packages\\GridapTopOpt\\zQxvu\\src\\StateMaps\\StaggeredFEStateMaps.jl:167</a></li> <li> get_state(m::<b>AffineFEStateMap</b>) in GridapTopOpt at <a href=\"file://C:/Users/IIT BBSR/.julia/packages/GridapTopOpt/zQxvu/src/StateMaps/AffineFEStateMaps.jl\" target=\"_blank\">C:\\Users\\IIT BBSR\\.julia\\packages\\GridapTopOpt\\zQxvu\\src\\StateMaps\\AffineFEStateMaps.jl:112</a></li> <li> get_state(m::<b>NonlinearFEStateMap</b>) in GridapTopOpt at <a href=\"file://C:/Users/IIT BBSR/.julia/packages/GridapTopOpt/zQxvu/src/StateMaps/NonlinearFEStateMaps.jl\" target=\"_blank\">C:\\Users\\IIT BBSR\\.julia\\packages\\GridapTopOpt\\zQxvu\\src\\StateMaps\\NonlinearFEStateMaps.jl:115</a></li> <li> get_state(::<b>GridapTopOpt.AbstractFEStateMap</b>) in GridapTopOpt at <a href=\"file://C:/Users/IIT BBSR/.julia/packages/GridapTopOpt/zQxvu/src/StateMaps/FEStateMaps.jl\" target=\"_blank\">C:\\Users\\IIT BBSR\\.julia\\packages\\GridapTopOpt\\zQxvu\\src\\StateMaps\\FEStateMaps.jl:14</a></li> <li> get_state(m::<b>EmbeddedPDEConstrainedFunctionals</b>) in GridapTopOpt at <a href=\"file://C:/Users/IIT BBSR/.julia/packages/GridapTopOpt/zQxvu/src/StateMaps/PDEConstrainedFunctionals.jl\" target=\"_blank\">C:\\Users\\IIT BBSR\\.julia\\packages\\GridapTopOpt\\zQxvu\\src\\StateMaps\\PDEConstrainedFunctionals.jl:299</a></li> <li> get_state(::<b>CustomEmbeddedPDEConstrainedFunctionals{N, Nothing}</b>)<i> where N</i> in GridapTopOpt at <a href=\"file://C:/Users/IIT BBSR/.julia/packages/GridapTopOpt/zQxvu/src/StateMaps/PDEConstrainedFunctionals.jl\" target=\"_blank\">C:\\Users\\IIT BBSR\\.julia\\packages\\GridapTopOpt\\zQxvu\\src\\StateMaps\\PDEConstrainedFunctionals.jl:664</a></li> <li> get_state(m::<b>CustomEmbeddedPDEConstrainedFunctionals</b>) in GridapTopOpt at <a href=\"file://C:/Users/IIT BBSR/.julia/packages/GridapTopOpt/zQxvu/src/StateMaps/PDEConstrainedFunctionals.jl\" target=\"_blank\">C:\\Users\\IIT BBSR\\.julia\\packages\\GridapTopOpt\\zQxvu\\src\\StateMaps\\PDEConstrainedFunctionals.jl:663</a></li> <li> get_state(m::<b>PDEConstrainedFunctionals</b>) in GridapTopOpt at <a href=\"file://C:/Users/IIT BBSR/.julia/packages/GridapTopOpt/zQxvu/src/StateMaps/PDEConstrainedFunctionals.jl\" target=\"_blank\">C:\\Users\\IIT BBSR\\.julia\\packages\\GridapTopOpt\\zQxvu\\src\\StateMaps\\PDEConstrainedFunctionals.jl:159</a></li> </ul>"
      ],
      "text/plain": [
       "# 13 methods for generic function \"get_state\" from \u001b[33mGridapTopOpt\u001b[39m:\n",
       "  [1] get_state(\u001b[90mm\u001b[39m::\u001b[1mStaggeredNonlinearFEStateMap\u001b[22m)\n",
       "\u001b[90m     @\u001b[39m \u001b[90mC:\\Users\\IIT BBSR\\.julia\\packages\\GridapTopOpt\\zQxvu\\src\\StateMaps\\\u001b[39m\u001b[90m\u001b[4mStaggeredFEStateMaps.jl:362\u001b[24m\u001b[39m\n",
       "  [2] get_state(\u001b[90mm\u001b[39m::\u001b[1mVector\u001b[22m\u001b[0m{<:GridapTopOpt.AbstractFEStateMap})\n",
       "\u001b[90m     @\u001b[39m \u001b[90mC:\\Users\\IIT BBSR\\.julia\\packages\\GridapTopOpt\\zQxvu\\src\\StateMaps\\\u001b[39m\u001b[90m\u001b[4mFEStateMaps.jl:16\u001b[24m\u001b[39m\n",
       "  [3] get_state(::\u001b[1mCustomPDEConstrainedFunctionals\u001b[22m\u001b[0m{N, Nothing}) where N\n",
       "\u001b[90m     @\u001b[39m \u001b[90mC:\\Users\\IIT BBSR\\.julia\\packages\\GridapTopOpt\\zQxvu\\src\\StateMaps\\\u001b[39m\u001b[90m\u001b[4mPDEConstrainedFunctionals.jl:524\u001b[24m\u001b[39m\n",
       "  [4] get_state(\u001b[90mm\u001b[39m::\u001b[1mCustomPDEConstrainedFunctionals\u001b[22m)\n",
       "\u001b[90m     @\u001b[39m \u001b[90mC:\\Users\\IIT BBSR\\.julia\\packages\\GridapTopOpt\\zQxvu\\src\\StateMaps\\\u001b[39m\u001b[90m\u001b[4mPDEConstrainedFunctionals.jl:523\u001b[24m\u001b[39m\n",
       "  [5] get_state(\u001b[90mm\u001b[39m::\u001b[1mRepeatingAffineFEStateMap\u001b[22m)\n",
       "\u001b[90m     @\u001b[39m \u001b[90mC:\\Users\\IIT BBSR\\.julia\\packages\\GridapTopOpt\\zQxvu\\src\\StateMaps\\\u001b[39m\u001b[90m\u001b[4mRepeatingAffineFEStateMaps.jl:173\u001b[24m\u001b[39m\n",
       "  [6] get_state(\u001b[90mm\u001b[39m::\u001b[1mStaggeredAffineFEStateMap\u001b[22m)\n",
       "\u001b[90m     @\u001b[39m \u001b[90mC:\\Users\\IIT BBSR\\.julia\\packages\\GridapTopOpt\\zQxvu\\src\\StateMaps\\\u001b[39m\u001b[90m\u001b[4mStaggeredFEStateMaps.jl:167\u001b[24m\u001b[39m\n",
       "  [7] get_state(\u001b[90mm\u001b[39m::\u001b[1mAffineFEStateMap\u001b[22m)\n",
       "\u001b[90m     @\u001b[39m \u001b[90mC:\\Users\\IIT BBSR\\.julia\\packages\\GridapTopOpt\\zQxvu\\src\\StateMaps\\\u001b[39m\u001b[90m\u001b[4mAffineFEStateMaps.jl:112\u001b[24m\u001b[39m\n",
       "  [8] get_state(\u001b[90mm\u001b[39m::\u001b[1mNonlinearFEStateMap\u001b[22m)\n",
       "\u001b[90m     @\u001b[39m \u001b[90mC:\\Users\\IIT BBSR\\.julia\\packages\\GridapTopOpt\\zQxvu\\src\\StateMaps\\\u001b[39m\u001b[90m\u001b[4mNonlinearFEStateMaps.jl:115\u001b[24m\u001b[39m\n",
       "  [9] get_state(::\u001b[1mGridapTopOpt.AbstractFEStateMap\u001b[22m)\n",
       "\u001b[90m     @\u001b[39m \u001b[90mC:\\Users\\IIT BBSR\\.julia\\packages\\GridapTopOpt\\zQxvu\\src\\StateMaps\\\u001b[39m\u001b[90m\u001b[4mFEStateMaps.jl:14\u001b[24m\u001b[39m\n",
       " [10] get_state(\u001b[90mm\u001b[39m::\u001b[1mEmbeddedPDEConstrainedFunctionals\u001b[22m)\n",
       "\u001b[90m     @\u001b[39m \u001b[90mC:\\Users\\IIT BBSR\\.julia\\packages\\GridapTopOpt\\zQxvu\\src\\StateMaps\\\u001b[39m\u001b[90m\u001b[4mPDEConstrainedFunctionals.jl:299\u001b[24m\u001b[39m\n",
       " [11] get_state(::\u001b[1mCustomEmbeddedPDEConstrainedFunctionals\u001b[22m\u001b[0m{N, Nothing}) where N\n",
       "\u001b[90m     @\u001b[39m \u001b[90mC:\\Users\\IIT BBSR\\.julia\\packages\\GridapTopOpt\\zQxvu\\src\\StateMaps\\\u001b[39m\u001b[90m\u001b[4mPDEConstrainedFunctionals.jl:664\u001b[24m\u001b[39m\n",
       " [12] get_state(\u001b[90mm\u001b[39m::\u001b[1mCustomEmbeddedPDEConstrainedFunctionals\u001b[22m)\n",
       "\u001b[90m     @\u001b[39m \u001b[90mC:\\Users\\IIT BBSR\\.julia\\packages\\GridapTopOpt\\zQxvu\\src\\StateMaps\\\u001b[39m\u001b[90m\u001b[4mPDEConstrainedFunctionals.jl:663\u001b[24m\u001b[39m\n",
       " [13] get_state(\u001b[90mm\u001b[39m::\u001b[1mPDEConstrainedFunctionals\u001b[22m)\n",
       "\u001b[90m     @\u001b[39m \u001b[90mC:\\Users\\IIT BBSR\\.julia\\packages\\GridapTopOpt\\zQxvu\\src\\StateMaps\\\u001b[39m\u001b[90m\u001b[4mPDEConstrainedFunctionals.jl:159\u001b[24m\u001b[39m"
      ]
     },
     "metadata": {},
     "output_type": "display_data"
    }
   ],
   "source": [
    "using GridapTopOpt\n",
    "@which get_state\n",
    "methods(get_state)"
   ]
  },
  {
   "cell_type": "code",
   "execution_count": null,
   "id": "b24097c1",
   "metadata": {},
   "outputs": [],
   "source": [
    "# using \n",
    "@which \n",
    "# methods()"
   ]
  },
  {
   "cell_type": "code",
   "execution_count": null,
   "id": "e5d979c1",
   "metadata": {},
   "outputs": [],
   "source": [
    "# using \n",
    "@which \n",
    "# methods()"
   ]
  },
  {
   "cell_type": "code",
   "execution_count": null,
   "id": "4c74feac",
   "metadata": {},
   "outputs": [],
   "source": [
    "# using \n",
    "@which \n",
    "# methods()"
   ]
  },
  {
   "cell_type": "code",
   "execution_count": null,
   "id": "fb0bb51b",
   "metadata": {},
   "outputs": [],
   "source": [
    "# using \n",
    "@which \n",
    "# methods()"
   ]
  },
  {
   "cell_type": "code",
   "execution_count": null,
   "id": "d99ccc73",
   "metadata": {},
   "outputs": [],
   "source": [
    "# using \n",
    "@which \n",
    "# methods()"
   ]
  },
  {
   "cell_type": "code",
   "execution_count": null,
   "id": "367a420c",
   "metadata": {},
   "outputs": [],
   "source": [
    "# using \n",
    "@which \n",
    "# methods()"
   ]
  },
  {
   "cell_type": "code",
   "execution_count": null,
   "id": "5ce4bbda",
   "metadata": {},
   "outputs": [],
   "source": [
    "# using \n",
    "@which \n",
    "# methods()"
   ]
  },
  {
   "cell_type": "code",
   "execution_count": null,
   "id": "056bf4d1",
   "metadata": {},
   "outputs": [],
   "source": [
    "# using \n",
    "@which \n",
    "# methods()"
   ]
  }
 ],
 "metadata": {
  "kernelspec": {
   "display_name": "Julia 1.11.6",
   "language": "julia",
   "name": "julia-1.11"
  },
  "language_info": {
   "file_extension": ".jl",
   "mimetype": "application/julia",
   "name": "julia",
   "version": "1.11.6"
  }
 },
 "nbformat": 4,
 "nbformat_minor": 5
}

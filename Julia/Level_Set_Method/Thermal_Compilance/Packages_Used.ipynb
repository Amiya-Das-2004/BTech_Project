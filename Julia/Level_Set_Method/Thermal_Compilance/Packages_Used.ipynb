{
 "cells": [
  {
   "cell_type": "code",
   "execution_count": 1,
   "id": "ea52c351",
   "metadata": {},
   "outputs": [],
   "source": [
    "using Gridap\n",
    "# names(Gridap)   # shows exported functions/types\n",
    "# names(Gridap, all=true)   # shows everything (including internal)\n",
    "using GridapTopOpt"
   ]
  },
  {
   "cell_type": "code",
   "execution_count": 2,
   "id": "bf3528d1",
   "metadata": {},
   "outputs": [
    {
     "name": "stdout",
     "output_type": "stream",
     "text": [
      "AffineFEOperator\n",
      "AffineFETerm\n",
      "BDM\n",
      "BackslashSolver\n",
      "BackwardEuler\n",
      "Boundary\n",
      "BoundaryTriangulation\n",
      "Broadcasting\n",
      "Bubble\n",
      "ButcherTableau\n",
      "CartesianDiscreteModel\n",
      "CartesianGrid\n",
      "CellField\n",
      "CellQuadrature\n",
      "CellState\n",
      "ConstantFESpace\n",
      "DIV\n",
      "DiracDelta\n",
      "DiscreteModel\n",
      "DiscreteModelFromFile\n",
      "DomainStyle\n",
      "FEEnergy\n",
      "FEFunction\n",
      "FEOperator\n",
      "FESolver\n",
      "FESource\n",
      "FESpace\n",
      "FETerm\n",
      "FiniteElements\n",
      "ForwardEuler\n",
      "GeneralizedAlpha1\n",
      "Gridap\n",
      "GridapType\n",
      "HEX\n",
      "HEX8\n",
      "Interface\n",
      "InterfaceTriangulation\n",
      "Interior\n",
      "LUSolver\n",
      "Lagrangian\n",
      "LinearFESolver\n",
      "LinearFETerm\n",
      "Measure\n",
      "MidPoint\n",
      "ModalC0\n",
      "MultiFieldFESpace\n",
      "NLSolver\n",
      "Nedelec\n",
      "Operation\n",
      "PYRAMID\n",
      "PhysicalDomain\n",
      "Point\n",
      "Polytope\n",
      "QUAD\n",
      "QUAD4\n",
      "RaviartThomas\n",
      "ReferenceDomain\n",
      "ReferenceFE\n",
      "Reindex\n",
      "RungeKutta\n",
      "SEG2\n",
      "SEGMENT\n",
      "Skeleton\n",
      "SkeletonTriangulation\n",
      "SparseMatrixAssembler\n",
      "TET\n",
      "TET4\n",
      "TRI\n",
      "TRI3\n",
      "TensorValue\n",
      "TestFESpace\n",
      "ThetaMethod\n",
      "TransientFEOperator\n",
      "TransientIMEXFEOperator\n",
      "TransientLinearFEOperator\n",
      "TransientMultiFieldFESpace\n",
      "TransientQuasilinearFEOperator\n",
      "TransientSemilinearFEOperator\n",
      "TransientTrialFESpace\n",
      "TrialFESpace\n",
      "Triangulation\n",
      "VERTEX\n",
      "VERTEX1\n",
      "VectorValue\n",
      "WEDGE\n",
      "add_tag!\n",
      "add_tag_from_tags!\n",
      "apply\n",
      "array_cache\n",
      "assemble_matrix\n",
      "assemble_matrix_and_vector\n",
      "assemble_vector\n",
      "available_tableaus\n",
      "bdm\n",
      "bubble\n",
      "cell_measure\n",
      "createpvd\n",
      "createvtk\n",
      "cross\n",
      "curl\n",
      "det\n",
      "diagonal_tensor\n",
      "divergence\n",
      "dot\n",
      "evaluate\n",
      "evaluate!\n",
      "get_active_model\n",
      "get_array\n",
      "get_background_model\n",
      "get_cell_coordinates\n",
      "get_cell_dof_ids\n",
      "get_cell_dof_values\n",
      "get_cell_map\n",
      "get_cell_measure\n",
      "get_cell_points\n",
      "get_cell_ref_coordinates\n",
      "get_dirichlet_dof_ids\n",
      "get_dirichlet_dof_values\n",
      "get_dirichlet_values\n",
      "get_face_labeling\n",
      "get_fe_basis\n",
      "get_free_dof_ids\n",
      "get_free_dof_values\n",
      "get_free_values\n",
      "get_glue\n",
      "get_grid\n",
      "get_matrix\n",
      "get_normal_vector\n",
      "get_physical_coordinate\n",
      "get_tangent_vector\n",
      "get_trial_fe_basis\n",
      "get_triangulation\n",
      "get_vector\n",
      "getindex!\n",
      "gradient\n",
      "hessian\n",
      "inner\n",
      "integrate\n",
      "interpolate\n",
      "interpolate_dirichlet\n",
      "interpolate_everywhere\n",
      "inv\n",
      "is_P\n",
      "is_Q\n",
      "is_S\n",
      "is_first_order\n",
      "is_n_cube\n",
      "is_simplex\n",
      "jacobian\n",
      "jump\n",
      "lagrangian\n",
      "laplacian\n",
      "lazy_map\n",
      "mean\n",
      "modalC0\n",
      "move_contributions\n",
      "nedelec\n",
      "norm\n",
      "num_cell_dims\n",
      "num_cells\n",
      "num_components\n",
      "num_dims\n",
      "num_dirichlet_dofs\n",
      "num_dirichlet_tags\n",
      "num_edges\n",
      "num_entities\n",
      "num_faces\n",
      "num_facets\n",
      "num_fields\n",
      "num_free_dofs\n",
      "num_indep_components\n",
      "num_point_dims\n",
      "num_tags\n",
      "num_vertices\n",
      "numerical_setup\n",
      "numerical_setup!\n",
      "outer\n",
      "print_op_tree\n",
      "raviart_thomas\n",
      "savepvd\n",
      "simplexify\n",
      "solve\n",
      "solve!\n",
      "symbolic_setup\n",
      "symmetric_gradient\n",
      "tr\n",
      "update_state!\n",
      "writevtk\n",
      "zero_initial_guess\n",
      "×\n",
      "Δ\n",
      "ε\n",
      "∂t\n",
      "∂tt\n",
      "∇\n",
      "∇∇\n",
      "∑\n",
      "∫\n",
      "⊗\n",
      "⊙\n",
      "⋅\n"
     ]
    }
   ],
   "source": [
    "foreach(println, names(Gridap))"
   ]
  },
  {
   "cell_type": "code",
   "execution_count": 3,
   "id": "c3852bfa",
   "metadata": {},
   "outputs": [
    {
     "name": "stdout",
     "output_type": "stream",
     "text": [
      "AffineFEStateMap\n",
      "ArtificialViscosity\n",
      "AugmentedLagrangian\n",
      "CUT\n",
      "CustomEmbeddedPDEConstrainedFunctionals\n",
      "CustomPDEConstrainedFunctionals\n",
      "CutFEMEvolve\n",
      "CutFEMEvolver\n",
      "DifferentiableTriangulation\n",
      "ElasticitySolver\n",
      "EmbeddedCollection\n",
      "EmbeddedCollection_in_φh\n",
      "EmbeddedPDEConstrainedFunctionals\n",
      "FiniteDifferenceEvolver\n",
      "FiniteDifferenceReinitialiser\n",
      "FirstOrderStencil\n",
      "GridapTopOpt\n",
      "HamiltonJacobiEvolution\n",
      "HeatReinitialiser\n",
      "HilbertianProjection\n",
      "IdentityReinitialiser\n",
      "IdentityVelocityExtension\n",
      "InteriorPenalty\n",
      "LevelSetEvolution\n",
      "MultiStageStabilisedReinitialiser\n",
      "NonlinearFEStateMap\n",
      "PDEConstrainedFunctionals\n",
      "RepeatingAffineFEStateMap\n",
      "SmoothErsatzMaterialInterpolation\n",
      "StabilisedReinit\n",
      "StabilisedReinitialiser\n",
      "StaggeredAffineFEStateMap\n",
      "StaggeredNonlinearFEStateMap\n",
      "UnfittedFEEvolution\n",
      "VelocityExtension\n",
      "add_recipe!\n",
      "combine_fields\n",
      "evaluate_derivatives!\n",
      "evaluate_functionals!\n",
      "evolve!\n",
      "get_cartesian_element_sizes\n",
      "get_el_Δ\n",
      "get_element_diameter_field\n",
      "get_element_diameters\n",
      "get_history\n",
      "get_isolated_volumes_mask_polytopal\n",
      "get_lsf_to_sdf_map\n",
      "get_state\n",
      "initial_lsf\n",
      "isotropic_elast_tensor\n",
      "load\n",
      "load!\n",
      "pload\n",
      "pload!\n",
      "project!\n",
      "psave\n",
      "reinit!\n",
      "save\n",
      "update_collection!\n",
      "update_labels!\n",
      "write_history\n"
     ]
    }
   ],
   "source": [
    "foreach(println, names(GridapTopOpt))"
   ]
  },
  {
   "cell_type": "code",
   "execution_count": 4,
   "id": "eac9d14a",
   "metadata": {},
   "outputs": [
    {
     "data": {
      "text/plain": [
       "17-element Vector{Symbol}:\n",
       " :Adaptivity\n",
       " :Algebra\n",
       " :Arrays\n",
       " :CellData\n",
       " :FESpaces\n",
       " :Fields\n",
       " :Geometry\n",
       " :Gridap\n",
       " :GridapODEs\n",
       " :Helpers\n",
       " :Io\n",
       " :MultiField\n",
       " :ODEs\n",
       " :Polynomials\n",
       " :ReferenceFEs\n",
       " :TensorValues\n",
       " :Visualization"
      ]
     },
     "metadata": {},
     "output_type": "display_data"
    }
   ],
   "source": [
    "# get all symbols, even non-exported\n",
    "syms = names(Gridap, all=true)\n",
    "\n",
    "# keep only the ones that are Modules\n",
    "[sub for sub in syms if getproperty(Gridap, sub) isa Module]"
   ]
  },
  {
   "cell_type": "code",
   "execution_count": 5,
   "id": "8da4f080",
   "metadata": {},
   "outputs": [
    {
     "data": {
      "text/plain": [
       "1-element Vector{Symbol}:\n",
       " :GridapTopOpt"
      ]
     },
     "metadata": {},
     "output_type": "display_data"
    }
   ],
   "source": [
    "# get all symbols, even non-exported\n",
    "syms = names(GridapTopOpt, all=true)\n",
    "\n",
    "# keep only the ones that are Modules\n",
    "[sub for sub in syms if getproperty(GridapTopOpt, sub) isa Module]"
   ]
  },
  {
   "cell_type": "code",
   "execution_count": 6,
   "id": "f389bae2",
   "metadata": {},
   "outputs": [
    {
     "name": "stdout",
     "output_type": "stream",
     "text": [
      "Visualization\n",
      "VisualizationData\n",
      "createpvd\n",
      "createvtk\n",
      "savepvd\n",
      "visualization_data\n",
      "write_vtk_file\n",
      "writevtk\n"
     ]
    }
   ],
   "source": [
    "foreach(println, names(Gridap.Visualization))"
   ]
  },
  {
   "cell_type": "code",
   "execution_count": 7,
   "id": "92cfedbc",
   "metadata": {},
   "outputs": [
    {
     "data": {
      "text/html": [
       "# 6 methods for generic function <b>writevtk</b> from \u001b[35mGridap.Visualization\u001b[39m:<ul><li> writevtk(geo::<b>STLCutters.STLGeometry</b>, args...; <i>kwargs...</i>) in STLCutters at <a href=\"file://C:/Users/amiya/.julia/packages/STLCutters/oEu9o/src/Embedded.jl\" target=\"_blank\">C:\\Users\\amiya\\.julia\\packages\\STLCutters\\oEu9o\\src\\Embedded.jl:341</a></li> <li> writevtk(face::<b>STLCutters.Face</b>, filename; <i>kwargs...</i>) in STLCutters at <a href=\"file://C:/Users/amiya/.julia/packages/STLCutters/oEu9o/src/SimplexFaces.jl\" target=\"_blank\">C:\\Users\\amiya\\.julia\\packages\\STLCutters\\oEu9o\\src\\SimplexFaces.jl:1049</a></li> <li> writevtk(p::<b>Gridap.ReferenceFEs.Polyhedron</b>, filename; <i>kwargs...</i>) in STLCutters at <a href=\"file://C:/Users/amiya/.julia/packages/STLCutters/oEu9o/src/Polyhedra.jl\" target=\"_blank\">C:\\Users\\amiya\\.julia\\packages\\STLCutters\\oEu9o\\src\\Polyhedra.jl:425</a></li> <li> writevtk(ps::<b>Array{<:Gridap.ReferenceFEs.Polyhedron}</b>, filename) in STLCutters at <a href=\"file://C:/Users/amiya/.julia/packages/STLCutters/oEu9o/src/Polyhedra.jl\" target=\"_blank\">C:\\Users\\amiya\\.julia\\packages\\STLCutters\\oEu9o\\src\\Polyhedra.jl:429</a></li> <li> writevtk(arg::<b>Union{GridapDistributed.DistributedDiscreteModel, GridapDistributed.DistributedTriangulation}</b>, args...; <i>compress, append, ascii, vtkversion, kwargs...</i>) in GridapDistributed at <a href=\"file://C:/Users/amiya/.julia/packages/GridapDistributed/6JO4L/src/Visualization.jl\" target=\"_blank\">C:\\Users\\amiya\\.julia\\packages\\GridapDistributed\\6JO4L\\src\\Visualization.jl:196</a></li> <li> writevtk(args...; <i>compress, append, ascii, vtkversion, kwargs...</i>) in Gridap.Visualization at <a href=\"file://C:/Users/amiya/.julia/packages/Gridap/YCiNd/src/Visualization/Vtk.jl\" target=\"_blank\">C:\\Users\\amiya\\.julia\\packages\\Gridap\\YCiNd\\src\\Visualization\\Vtk.jl:3</a></li> </ul>"
      ],
      "text/plain": [
       "# 6 methods for generic function \"writevtk\" from \u001b[35mGridap.Visualization\u001b[39m:\n",
       " [1] writevtk(\u001b[90mgeo\u001b[39m::\u001b[1mSTLCutters.STLGeometry\u001b[22m, \u001b[90margs...\u001b[39m; kwargs...)\n",
       "\u001b[90m     @\u001b[39m \u001b[36mSTLCutters\u001b[39m \u001b[90mC:\\Users\\amiya\\.julia\\packages\\STLCutters\\oEu9o\\src\\\u001b[39m\u001b[90m\u001b[4mEmbedded.jl:341\u001b[24m\u001b[39m\n",
       " [2] writevtk(\u001b[90mface\u001b[39m::\u001b[1mSTLCutters.Face\u001b[22m, \u001b[90mfilename\u001b[39m; kwargs...)\n",
       "\u001b[90m     @\u001b[39m \u001b[36mSTLCutters\u001b[39m \u001b[90mC:\\Users\\amiya\\.julia\\packages\\STLCutters\\oEu9o\\src\\\u001b[39m\u001b[90m\u001b[4mSimplexFaces.jl:1049\u001b[24m\u001b[39m\n",
       " [3] writevtk(\u001b[90mp\u001b[39m::\u001b[1mGridap.ReferenceFEs.Polyhedron\u001b[22m, \u001b[90mfilename\u001b[39m; kwargs...)\n",
       "\u001b[90m     @\u001b[39m \u001b[36mSTLCutters\u001b[39m \u001b[90mC:\\Users\\amiya\\.julia\\packages\\STLCutters\\oEu9o\\src\\\u001b[39m\u001b[90m\u001b[4mPolyhedra.jl:425\u001b[24m\u001b[39m\n",
       " [4] writevtk(\u001b[90mps\u001b[39m::\u001b[1mArray\u001b[22m\u001b[0m{<:Gridap.ReferenceFEs.Polyhedron}, \u001b[90mfilename\u001b[39m)\n",
       "\u001b[90m     @\u001b[39m \u001b[36mSTLCutters\u001b[39m \u001b[90mC:\\Users\\amiya\\.julia\\packages\\STLCutters\\oEu9o\\src\\\u001b[39m\u001b[90m\u001b[4mPolyhedra.jl:429\u001b[24m\u001b[39m\n",
       " [5] writevtk(\u001b[90marg\u001b[39m::\u001b[1mUnion\u001b[22m\u001b[0m{GridapDistributed.DistributedDiscreteModel, GridapDistributed.DistributedTriangulation}, \u001b[90margs...\u001b[39m; compress, append, ascii, vtkversion, kwargs...)\n",
       "\u001b[90m     @\u001b[39m \u001b[32mGridapDistributed\u001b[39m \u001b[90mC:\\Users\\amiya\\.julia\\packages\\GridapDistributed\\6JO4L\\src\\\u001b[39m\u001b[90m\u001b[4mVisualization.jl:196\u001b[24m\u001b[39m\n",
       " [6] writevtk(\u001b[90margs...\u001b[39m; compress, append, ascii, vtkversion, kwargs...)\n",
       "\u001b[90m     @\u001b[39m \u001b[90mC:\\Users\\amiya\\.julia\\packages\\Gridap\\YCiNd\\src\\Visualization\\\u001b[39m\u001b[90m\u001b[4mVtk.jl:3\u001b[24m\u001b[39m"
      ]
     },
     "metadata": {},
     "output_type": "display_data"
    }
   ],
   "source": [
    "methods(writevtk)"
   ]
  },
  {
   "cell_type": "code",
   "execution_count": 8,
   "id": "62729f4c",
   "metadata": {},
   "outputs": [
    {
     "data": {
      "text/html": [
       "# 8 methods for type constructor:<ul><li> CartesianDiscreteModel(parts::<b>Nothing</b>, args...; <i>kwargs...</i>) in Gridap.Geometry at <a href=\"file://C:/Users/amiya/.julia/packages/Gridap/YCiNd/src/Geometry/CartesianDiscreteModels.jl\" target=\"_blank\">C:\\Users\\amiya\\.julia\\packages\\Gridap\\YCiNd\\src\\Geometry\\CartesianDiscreteModels.jl:80</a></li> <li> CartesianDiscreteModel(desc::<b>Gridap.Geometry.CartesianDescriptor{D, T, F}</b>, cmin::<b>CartesianIndex</b>, cmax::<b>CartesianIndex</b>, remove_boundary)<i> where {D, T, F}</i> in Gridap.Geometry at <a href=\"file://C:/Users/amiya/.julia/packages/Gridap/YCiNd/src/Geometry/CartesianDiscreteModels.jl\" target=\"_blank\">C:\\Users\\amiya\\.julia\\packages\\Gridap\\YCiNd\\src\\Geometry\\CartesianDiscreteModels.jl:40</a></li> <li> CartesianDiscreteModel(desc::<b>Gridap.Geometry.CartesianDescriptor{D, T, F}</b>, cmin::<b>CartesianIndex</b>, cmax::<b>CartesianIndex</b>)<i> where {D, T, F}</i> in Gridap.Geometry at <a href=\"file://C:/Users/amiya/.julia/packages/Gridap/YCiNd/src/Geometry/CartesianDiscreteModels.jl\" target=\"_blank\">C:\\Users\\amiya\\.julia\\packages\\Gridap\\YCiNd\\src\\Geometry\\CartesianDiscreteModels.jl:40</a></li> <li> CartesianDiscreteModel(desc::<b>Gridap.Geometry.CartesianDescriptor{D, T, F}</b>)<i> where {D, T, F}</i> in Gridap.Geometry at <a href=\"file://C:/Users/amiya/.julia/packages/Gridap/YCiNd/src/Geometry/CartesianDiscreteModels.jl\" target=\"_blank\">C:\\Users\\amiya\\.julia\\packages\\Gridap\\YCiNd\\src\\Geometry\\CartesianDiscreteModels.jl:16</a></li> <li> CartesianDiscreteModel(grid::<b>CartesianGrid{D, T, F}</b>, grid_topology::<b>Gridap.Geometry.UnstructuredGridTopology{D, D, T, Gridap.Geometry.Oriented}</b>, face_labeling::<b>Gridap.Geometry.FaceLabeling</b>)<i> where {D, T, F}</i> in Gridap.Geometry at <a href=\"file://C:/Users/amiya/.julia/packages/Gridap/YCiNd/src/Geometry/CartesianDiscreteModels.jl\" target=\"_blank\">C:\\Users\\amiya\\.julia\\packages\\Gridap\\YCiNd\\src\\Geometry\\CartesianDiscreteModels.jl:8</a></li> <li> CartesianDiscreteModel(ranks::<b>AbstractArray{<:Integer}</b>, parts::<b>NTuple{N, var\"#s6\"} where var\"#s6\"<:Integer</b>, args...; <i>kwargs...</i>)<i> where N</i> in GridapDistributed at <a href=\"file://C:/Users/amiya/.julia/packages/GridapDistributed/6JO4L/src/Geometry.jl\" target=\"_blank\">C:\\Users\\amiya\\.julia\\packages\\GridapDistributed\\6JO4L\\src\\Geometry.jl:243</a></li> <li> CartesianDiscreteModel(pdesc::<b>GridapDistributed.DistributedCartesianDescriptor</b>) in GridapDistributed at <a href=\"file://C:/Users/amiya/.julia/packages/GridapDistributed/6JO4L/src/Geometry.jl\" target=\"_blank\">C:\\Users\\amiya\\.julia\\packages\\GridapDistributed\\6JO4L\\src\\Geometry.jl:253</a></li> <li> CartesianDiscreteModel(args...; <i>kwargs...</i>) in Gridap.Geometry at <a href=\"file://C:/Users/amiya/.julia/packages/Gridap/YCiNd/src/Geometry/CartesianDiscreteModels.jl\" target=\"_blank\">C:\\Users\\amiya\\.julia\\packages\\Gridap\\YCiNd\\src\\Geometry\\CartesianDiscreteModels.jl:74</a></li> </ul>"
      ],
      "text/plain": [
       "# 8 methods for type constructor:\n",
       " [1] CartesianDiscreteModel(\u001b[90mparts\u001b[39m::\u001b[1mNothing\u001b[22m, \u001b[90margs...\u001b[39m; kwargs...)\n",
       "\u001b[90m     @\u001b[39m \u001b[90mC:\\Users\\amiya\\.julia\\packages\\Gridap\\YCiNd\\src\\Geometry\\\u001b[39m\u001b[90m\u001b[4mCartesianDiscreteModels.jl:80\u001b[24m\u001b[39m\n",
       " [2] CartesianDiscreteModel(\u001b[90mdesc\u001b[39m::\u001b[1mGridap.Geometry.CartesianDescriptor\u001b[22m\u001b[0m{D, T, F}, \u001b[90mcmin\u001b[39m::\u001b[1mCartesianIndex\u001b[22m, \u001b[90mcmax\u001b[39m::\u001b[1mCartesianIndex\u001b[22m, \u001b[90mremove_boundary\u001b[39m) where {D, T, F}\n",
       "\u001b[90m     @\u001b[39m \u001b[90mC:\\Users\\amiya\\.julia\\packages\\Gridap\\YCiNd\\src\\Geometry\\\u001b[39m\u001b[90m\u001b[4mCartesianDiscreteModels.jl:40\u001b[24m\u001b[39m\n",
       " [3] CartesianDiscreteModel(\u001b[90mdesc\u001b[39m::\u001b[1mGridap.Geometry.CartesianDescriptor\u001b[22m\u001b[0m{D, T, F}, \u001b[90mcmin\u001b[39m::\u001b[1mCartesianIndex\u001b[22m, \u001b[90mcmax\u001b[39m::\u001b[1mCartesianIndex\u001b[22m) where {D, T, F}\n",
       "\u001b[90m     @\u001b[39m \u001b[90mC:\\Users\\amiya\\.julia\\packages\\Gridap\\YCiNd\\src\\Geometry\\\u001b[39m\u001b[90m\u001b[4mCartesianDiscreteModels.jl:40\u001b[24m\u001b[39m\n",
       " [4] CartesianDiscreteModel(\u001b[90mdesc\u001b[39m::\u001b[1mGridap.Geometry.CartesianDescriptor\u001b[22m\u001b[0m{D, T, F}) where {D, T, F}\n",
       "\u001b[90m     @\u001b[39m \u001b[90mC:\\Users\\amiya\\.julia\\packages\\Gridap\\YCiNd\\src\\Geometry\\\u001b[39m\u001b[90m\u001b[4mCartesianDiscreteModels.jl:16\u001b[24m\u001b[39m\n",
       " [5] CartesianDiscreteModel(\u001b[90mgrid\u001b[39m::\u001b[1mCartesianGrid\u001b[22m\u001b[0m{D, T, F}, \u001b[90mgrid_topology\u001b[39m::\u001b[1mGridap.Geometry.UnstructuredGridTopology\u001b[22m\u001b[0m{D, D, T, Gridap.Geometry.Oriented}, \u001b[90mface_labeling\u001b[39m::\u001b[1mGridap.Geometry.FaceLabeling\u001b[22m) where {D, T, F}\n",
       "\u001b[90m     @\u001b[39m \u001b[90mC:\\Users\\amiya\\.julia\\packages\\Gridap\\YCiNd\\src\\Geometry\\\u001b[39m\u001b[90m\u001b[4mCartesianDiscreteModels.jl:8\u001b[24m\u001b[39m\n",
       " [6] CartesianDiscreteModel(\u001b[90mranks\u001b[39m::\u001b[1mAbstractArray\u001b[22m\u001b[0m{<:Integer}, \u001b[90mparts\u001b[39m::\u001b[1mNTuple\u001b[22m\u001b[0m{N, var\"#s6\"} where var\"#s6\"<:Integer, \u001b[90margs...\u001b[39m; kwargs...) where N\n",
       "\u001b[90m     @\u001b[39m \u001b[32mGridapDistributed\u001b[39m \u001b[90mC:\\Users\\amiya\\.julia\\packages\\GridapDistributed\\6JO4L\\src\\\u001b[39m\u001b[90m\u001b[4mGeometry.jl:243\u001b[24m\u001b[39m\n",
       " [7] CartesianDiscreteModel(\u001b[90mpdesc\u001b[39m::\u001b[1mGridapDistributed.DistributedCartesianDescriptor\u001b[22m)\n",
       "\u001b[90m     @\u001b[39m \u001b[32mGridapDistributed\u001b[39m \u001b[90mC:\\Users\\amiya\\.julia\\packages\\GridapDistributed\\6JO4L\\src\\\u001b[39m\u001b[90m\u001b[4mGeometry.jl:253\u001b[24m\u001b[39m\n",
       " [8] CartesianDiscreteModel(\u001b[90margs...\u001b[39m; kwargs...)\n",
       "\u001b[90m     @\u001b[39m \u001b[90mC:\\Users\\amiya\\.julia\\packages\\Gridap\\YCiNd\\src\\Geometry\\\u001b[39m\u001b[90m\u001b[4mCartesianDiscreteModels.jl:74\u001b[24m\u001b[39m"
      ]
     },
     "metadata": {},
     "output_type": "display_data"
    }
   ],
   "source": [
    "methods(CartesianDiscreteModel)"
   ]
  },
  {
   "cell_type": "code",
   "execution_count": 9,
   "id": "e8592978",
   "metadata": {},
   "outputs": [
    {
     "data": {
      "text/plain": [
       "Gridap.Geometry"
      ]
     },
     "metadata": {},
     "output_type": "display_data"
    }
   ],
   "source": [
    "@which CartesianDiscreteModel"
   ]
  },
  {
   "cell_type": "code",
   "execution_count": 10,
   "id": "044f03e2",
   "metadata": {},
   "outputs": [],
   "source": []
  },
  {
   "cell_type": "code",
   "execution_count": 11,
   "id": "9fd493b7",
   "metadata": {},
   "outputs": [],
   "source": [
    "using Gridap.Geometry: CartesianDiscreteModel\n",
    "using Gridap.Visualization: writevtk"
   ]
  },
  {
   "cell_type": "code",
   "execution_count": 12,
   "id": "1dbe7e39",
   "metadata": {},
   "outputs": [
    {
     "data": {
      "text/plain": [
       "3-element Vector{Vector{String}}:\n",
       " [\"./Demo/model2D\\\\model2D_0.vtu\"]\n",
       " [\"./Demo/model2D\\\\model2D_1.vtu\"]\n",
       " [\"./Demo/model2D\\\\model2D_2.vtu\"]"
      ]
     },
     "metadata": {},
     "output_type": "display_data"
    }
   ],
   "source": [
    "# Create the folder (if it doesn't exist)\n",
    "write_dir = \"./Demo/model2D\"\n",
    "isdir(write_dir) || mkpath(write_dir)  # creates the folder if missing\n",
    "\n",
    "# 2D model\n",
    "domain = (0,1,0,1)\n",
    "partition = (10,10)\n",
    "model = CartesianDiscreteModel(domain, partition)\n",
    "\n",
    "# Write VTU file into the folder\n",
    "writevtk(model, joinpath(write_dir, \"model2D\"))  # creates ./Result/model2D.vtu"
   ]
  },
  {
   "cell_type": "code",
   "execution_count": 13,
   "id": "5582939b",
   "metadata": {},
   "outputs": [
    {
     "data": {
      "text/plain": [
       "4-element Vector{Vector{String}}:\n",
       " [\"./Demo/model3D\\\\model3D_0.vtu\"]\n",
       " [\"./Demo/model3D\\\\model3D_1.vtu\"]\n",
       " [\"./Demo/model3D\\\\model3D_2.vtu\"]\n",
       " [\"./Demo/model3D\\\\model3D_3.vtu\"]"
      ]
     },
     "metadata": {},
     "output_type": "display_data"
    }
   ],
   "source": [
    "# Create the folder (if it doesn't exist)\n",
    "write_dir = \"./Demo/model3D\"\n",
    "isdir(write_dir) || mkpath(write_dir)  # creates the folder if missing\n",
    "\n",
    "# 3D model\n",
    "domain = (0,1,0,1,0,1)\n",
    "partition = (10,10,10)\n",
    "model = CartesianDiscreteModel(domain, partition)\n",
    "\n",
    "# Write VTU file into the folder\n",
    "writevtk(model, joinpath(write_dir, \"model3D\"))  # creates ./Result/model2D.vtu"
   ]
  },
  {
   "cell_type": "code",
   "execution_count": 14,
   "id": "b981a101",
   "metadata": {},
   "outputs": [
    {
     "data": {
      "text/html": [
       "# 1 method for generic function <b>initial_lsf</b> from \u001b[33mGridapTopOpt\u001b[39m:<ul><li> initial_lsf(ξ, a; <i>b</i>) in GridapTopOpt at <a href=\"file://C:/Users/amiya/.julia/packages/GridapTopOpt/zQxvu/src/Utilities.jl\" target=\"_blank\">C:\\Users\\amiya\\.julia\\packages\\GridapTopOpt\\zQxvu\\src\\Utilities.jl:174</a></li> </ul>"
      ],
      "text/plain": [
       "# 1 method for generic function \"initial_lsf\" from \u001b[33mGridapTopOpt\u001b[39m:\n",
       " [1] initial_lsf(\u001b[90mξ\u001b[39m, \u001b[90ma\u001b[39m; b)\n",
       "\u001b[90m     @\u001b[39m \u001b[90mC:\\Users\\amiya\\.julia\\packages\\GridapTopOpt\\zQxvu\\src\\\u001b[39m\u001b[90m\u001b[4mUtilities.jl:174\u001b[24m\u001b[39m"
      ]
     },
     "metadata": {},
     "output_type": "display_data"
    }
   ],
   "source": [
    "methods(initial_lsf)"
   ]
  },
  {
   "cell_type": "code",
   "execution_count": 15,
   "id": "1f619c2b",
   "metadata": {},
   "outputs": [
    {
     "data": {
      "text/plain": [
       "GridapTopOpt"
      ]
     },
     "metadata": {},
     "output_type": "display_data"
    }
   ],
   "source": [
    "@which update_labels!"
   ]
  },
  {
   "cell_type": "code",
   "execution_count": 16,
   "id": "7eb87666",
   "metadata": {},
   "outputs": [
    {
     "data": {
      "text/html": [
       "# 2 methods for generic function <b>update_labels!</b> from \u001b[33mGridapTopOpt\u001b[39m:<ul><li> update_labels!(e::<b>Integer</b>, model::<b>GridapDistributed.DistributedDiscreteModel</b>, f_Γ::<b>Function</b>, name::<b>String</b>) in GridapTopOpt at <a href=\"file://C:/Users/amiya/.julia/packages/GridapTopOpt/zQxvu/src/Utilities.jl\" target=\"_blank\">C:\\Users\\amiya\\.julia\\packages\\GridapTopOpt\\zQxvu\\src\\Utilities.jl:84</a></li> <li> update_labels!(e::<b>Integer</b>, model::<b>DiscreteModel</b>, f_Γ::<b>Function</b>, name::<b>String</b>) in GridapTopOpt at <a href=\"file://C:/Users/amiya/.julia/packages/GridapTopOpt/zQxvu/src/Utilities.jl\" target=\"_blank\">C:\\Users\\amiya\\.julia\\packages\\GridapTopOpt\\zQxvu\\src\\Utilities.jl:78</a></li> </ul>"
      ],
      "text/plain": [
       "# 2 methods for generic function \"update_labels!\" from \u001b[33mGridapTopOpt\u001b[39m:\n",
       " [1] update_labels!(\u001b[90me\u001b[39m::\u001b[1mInteger\u001b[22m, \u001b[90mmodel\u001b[39m::\u001b[1mGridapDistributed.DistributedDiscreteModel\u001b[22m, \u001b[90mf_Γ\u001b[39m::\u001b[1mFunction\u001b[22m, \u001b[90mname\u001b[39m::\u001b[1mString\u001b[22m)\n",
       "\u001b[90m     @\u001b[39m \u001b[90mC:\\Users\\amiya\\.julia\\packages\\GridapTopOpt\\zQxvu\\src\\\u001b[39m\u001b[90m\u001b[4mUtilities.jl:84\u001b[24m\u001b[39m\n",
       " [2] update_labels!(\u001b[90me\u001b[39m::\u001b[1mInteger\u001b[22m, \u001b[90mmodel\u001b[39m::\u001b[1mDiscreteModel\u001b[22m, \u001b[90mf_Γ\u001b[39m::\u001b[1mFunction\u001b[22m, \u001b[90mname\u001b[39m::\u001b[1mString\u001b[22m)\n",
       "\u001b[90m     @\u001b[39m \u001b[90mC:\\Users\\amiya\\.julia\\packages\\GridapTopOpt\\zQxvu\\src\\\u001b[39m\u001b[90m\u001b[4mUtilities.jl:78\u001b[24m\u001b[39m"
      ]
     },
     "metadata": {},
     "output_type": "display_data"
    }
   ],
   "source": [
    "methods(update_labels!)"
   ]
  }
 ],
 "metadata": {
  "kernelspec": {
   "display_name": "Julia 1.11.6",
   "language": "julia",
   "name": "julia-1.11"
  },
  "language_info": {
   "file_extension": ".jl",
   "mimetype": "application/julia",
   "name": "julia",
   "version": "1.11.6"
  }
 },
 "nbformat": 4,
 "nbformat_minor": 5
}

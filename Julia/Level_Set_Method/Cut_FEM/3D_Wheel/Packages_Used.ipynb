{
 "cells": [
  {
   "cell_type": "code",
   "execution_count": null,
   "id": "08cfac1d",
   "metadata": {},
   "outputs": [
    {
     "data": {
      "text/html": [
       "# 5 methods for generic function <b>GmshDiscreteModel</b> from \u001b[35mGridapGmsh\u001b[39m:<ul><li> GmshDiscreteModel(gmsh::<b>Module</b>; <i>has_affine_map, orient_if_simplex</i>) in GridapGmsh at <a href=\"file://C:/Users/IIT BBSR/.julia/packages/GridapGmsh/Iih5l/src/GmshDiscreteModels.jl\" target=\"_blank\">C:\\Users\\IIT BBSR\\.julia\\packages\\GridapGmsh\\Iih5l\\src\\GmshDiscreteModels.jl:30</a></li> <li> GmshDiscreteModel(parts::<b>Nothing</b>, args...; <i>kwargs...</i>) in GridapGmsh at <a href=\"file://C:/Users/IIT BBSR/.julia/packages/GridapGmsh/Iih5l/src/GmshDiscreteModels.jl\" target=\"_blank\">C:\\Users\\IIT BBSR\\.julia\\packages\\GridapGmsh\\Iih5l\\src\\GmshDiscreteModels.jl:987</a></li> <li> GmshDiscreteModel(do_partition, parts::<b>AbstractVector</b>, args...; <i>kwargs...</i>) in GridapGmsh at <a href=\"file://C:/Users/IIT BBSR/.julia/packages/GridapGmsh/Iih5l/src/GmshDiscreteModels.jl\" target=\"_blank\">C:\\Users\\IIT BBSR\\.julia\\packages\\GridapGmsh\\Iih5l\\src\\GmshDiscreteModels.jl:974</a></li> <li> GmshDiscreteModel(parts::<b>AbstractVector</b>, args...; <i>kwargs...</i>) in GridapGmsh at <a href=\"file://C:/Users/IIT BBSR/.julia/packages/GridapGmsh/Iih5l/src/GmshDiscreteModels.jl\" target=\"_blank\">C:\\Users\\IIT BBSR\\.julia\\packages\\GridapGmsh\\Iih5l\\src\\GmshDiscreteModels.jl:964</a></li> <li> GmshDiscreteModel(mshfile; <i>renumber, has_affine_map, orient_if_simplex</i>) in GridapGmsh at <a href=\"file://C:/Users/IIT BBSR/.julia/packages/GridapGmsh/Iih5l/src/GmshDiscreteModels.jl\" target=\"_blank\">C:\\Users\\IIT BBSR\\.julia\\packages\\GridapGmsh\\Iih5l\\src\\GmshDiscreteModels.jl:12</a></li> </ul>"
      ],
      "text/plain": [
       "# 5 methods for generic function \"GmshDiscreteModel\" from \u001b[35mGridapGmsh\u001b[39m:\n",
       " [1] GmshDiscreteModel(\u001b[90mgmsh\u001b[39m::\u001b[1mModule\u001b[22m; has_affine_map, orient_if_simplex)\n",
       "\u001b[90m     @\u001b[39m \u001b[90mC:\\Users\\IIT BBSR\\.julia\\packages\\GridapGmsh\\Iih5l\\src\\\u001b[39m\u001b[90m\u001b[4mGmshDiscreteModels.jl:30\u001b[24m\u001b[39m\n",
       " [2] GmshDiscreteModel(\u001b[90mparts\u001b[39m::\u001b[1mNothing\u001b[22m, \u001b[90margs...\u001b[39m; kwargs...)\n",
       "\u001b[90m     @\u001b[39m \u001b[90mC:\\Users\\IIT BBSR\\.julia\\packages\\GridapGmsh\\Iih5l\\src\\\u001b[39m\u001b[90m\u001b[4mGmshDiscreteModels.jl:987\u001b[24m\u001b[39m\n",
       " [3] GmshDiscreteModel(\u001b[90mdo_partition\u001b[39m, \u001b[90mparts\u001b[39m::\u001b[1mAbstractVector\u001b[22m, \u001b[90margs...\u001b[39m; kwargs...)\n",
       "\u001b[90m     @\u001b[39m \u001b[90mC:\\Users\\IIT BBSR\\.julia\\packages\\GridapGmsh\\Iih5l\\src\\\u001b[39m\u001b[90m\u001b[4mGmshDiscreteModels.jl:974\u001b[24m\u001b[39m\n",
       " [4] GmshDiscreteModel(\u001b[90mparts\u001b[39m::\u001b[1mAbstractVector\u001b[22m, \u001b[90margs...\u001b[39m; kwargs...)\n",
       "\u001b[90m     @\u001b[39m \u001b[90mC:\\Users\\IIT BBSR\\.julia\\packages\\GridapGmsh\\Iih5l\\src\\\u001b[39m\u001b[90m\u001b[4mGmshDiscreteModels.jl:964\u001b[24m\u001b[39m\n",
       " [5] GmshDiscreteModel(\u001b[90mmshfile\u001b[39m; renumber, has_affine_map, orient_if_simplex)\n",
       "\u001b[90m     @\u001b[39m \u001b[90mC:\\Users\\IIT BBSR\\.julia\\packages\\GridapGmsh\\Iih5l\\src\\\u001b[39m\u001b[90m\u001b[4mGmshDiscreteModels.jl:12\u001b[24m\u001b[39m"
      ]
     },
     "metadata": {},
     "output_type": "display_data"
    }
   ],
   "source": [
    "using GridapGmsh.GridapGmsh\n",
    "@which GmshDiscreteModel\n",
    "methods(GmshDiscreteModel)"
   ]
  },
  {
   "cell_type": "code",
   "execution_count": 1,
   "id": "f0637259",
   "metadata": {},
   "outputs": [
    {
     "data": {
      "text/html": [
       "# 4 methods for type constructor:<ul><li> UnstructuredDiscreteModel(grid::<b>UnstructuredGrid{Dc, Dp, Tp, B}</b>, grid_topology::<b>UnstructuredGridTopology{Dc, Dp, Tp, B}</b>, face_labeling::<b>FaceLabeling</b>)<i> where {Dc, Dp, Tp, B}</i> in Gridap.Geometry at <a href=\"file://C:/Users/IIT BBSR/.julia/packages/Gridap/JD3zW/src/Geometry/UnstructuredDiscreteModels.jl\" target=\"_blank\">C:\\Users\\IIT BBSR\\.julia\\packages\\Gridap\\JD3zW\\src\\Geometry\\UnstructuredDiscreteModels.jl:12</a></li> <li> UnstructuredDiscreteModel(model::<b>UnstructuredDiscreteModel</b>) in Gridap.Geometry at <a href=\"file://C:/Users/IIT BBSR/.julia/packages/Gridap/JD3zW/src/Geometry/UnstructuredDiscreteModels.jl\" target=\"_blank\">C:\\Users\\IIT BBSR\\.julia\\packages\\Gridap\\JD3zW\\src\\Geometry\\UnstructuredDiscreteModels.jl:37</a></li> <li> UnstructuredDiscreteModel(model::<b>DiscreteModel</b>) in Gridap.Geometry at <a href=\"file://C:/Users/IIT BBSR/.julia/packages/Gridap/JD3zW/src/Geometry/UnstructuredDiscreteModels.jl\" target=\"_blank\">C:\\Users\\IIT BBSR\\.julia\\packages\\Gridap\\JD3zW\\src\\Geometry\\UnstructuredDiscreteModels.jl:30</a></li> <li> UnstructuredDiscreteModel(grid::<b>Grid</b>) in Gridap.Geometry at <a href=\"file://C:/Users/IIT BBSR/.julia/packages/Gridap/JD3zW/src/Geometry/UnstructuredDiscreteModels.jl\" target=\"_blank\">C:\\Users\\IIT BBSR\\.julia\\packages\\Gridap\\JD3zW\\src\\Geometry\\UnstructuredDiscreteModels.jl:20</a></li> </ul>"
      ],
      "text/plain": [
       "# 4 methods for type constructor:\n",
       " [1] UnstructuredDiscreteModel(\u001b[90mgrid\u001b[39m::\u001b[1mUnstructuredGrid\u001b[22m\u001b[0m{Dc, Dp, Tp, B}, \u001b[90mgrid_topology\u001b[39m::\u001b[1mUnstructuredGridTopology\u001b[22m\u001b[0m{Dc, Dp, Tp, B}, \u001b[90mface_labeling\u001b[39m::\u001b[1mFaceLabeling\u001b[22m) where {Dc, Dp, Tp, B}\n",
       "\u001b[90m     @\u001b[39m \u001b[90mC:\\Users\\IIT BBSR\\.julia\\packages\\Gridap\\JD3zW\\src\\Geometry\\\u001b[39m\u001b[90m\u001b[4mUnstructuredDiscreteModels.jl:12\u001b[24m\u001b[39m\n",
       " [2] UnstructuredDiscreteModel(\u001b[90mmodel\u001b[39m::\u001b[1mUnstructuredDiscreteModel\u001b[22m)\n",
       "\u001b[90m     @\u001b[39m \u001b[90mC:\\Users\\IIT BBSR\\.julia\\packages\\Gridap\\JD3zW\\src\\Geometry\\\u001b[39m\u001b[90m\u001b[4mUnstructuredDiscreteModels.jl:37\u001b[24m\u001b[39m\n",
       " [3] UnstructuredDiscreteModel(\u001b[90mmodel\u001b[39m::\u001b[1mDiscreteModel\u001b[22m)\n",
       "\u001b[90m     @\u001b[39m \u001b[90mC:\\Users\\IIT BBSR\\.julia\\packages\\Gridap\\JD3zW\\src\\Geometry\\\u001b[39m\u001b[90m\u001b[4mUnstructuredDiscreteModels.jl:30\u001b[24m\u001b[39m\n",
       " [4] UnstructuredDiscreteModel(\u001b[90mgrid\u001b[39m::\u001b[1mGrid\u001b[22m)\n",
       "\u001b[90m     @\u001b[39m \u001b[90mC:\\Users\\IIT BBSR\\.julia\\packages\\Gridap\\JD3zW\\src\\Geometry\\\u001b[39m\u001b[90m\u001b[4mUnstructuredDiscreteModels.jl:20\u001b[24m\u001b[39m"
      ]
     },
     "metadata": {},
     "output_type": "display_data"
    }
   ],
   "source": [
    "using Gridap.Geometry\n",
    "@which UnstructuredDiscreteModel\n",
    "methods(UnstructuredDiscreteModel)"
   ]
  },
  {
   "cell_type": "code",
   "execution_count": 24,
   "id": "dd01ff47",
   "metadata": {},
   "outputs": [
    {
     "data": {
      "text/html": [
       "# 2 methods for generic function <b>update_labels!</b> from \u001b[32mGridapTopOpt\u001b[39m:<ul><li> update_labels!(e::<b>Integer</b>, model::<b>GridapDistributed.DistributedDiscreteModel</b>, f_Γ::<b>Function</b>, name::<b>String</b>) in GridapTopOpt at <a href=\"file://C:/Users/IIT BBSR/.julia/packages/GridapTopOpt/zQxvu/src/Utilities.jl\" target=\"_blank\">C:\\Users\\IIT BBSR\\.julia\\packages\\GridapTopOpt\\zQxvu\\src\\Utilities.jl:84</a></li> <li> update_labels!(e::<b>Integer</b>, model::<b>DiscreteModel</b>, f_Γ::<b>Function</b>, name::<b>String</b>) in GridapTopOpt at <a href=\"file://C:/Users/IIT BBSR/.julia/packages/GridapTopOpt/zQxvu/src/Utilities.jl\" target=\"_blank\">C:\\Users\\IIT BBSR\\.julia\\packages\\GridapTopOpt\\zQxvu\\src\\Utilities.jl:78</a></li> </ul>"
      ],
      "text/plain": [
       "# 2 methods for generic function \"update_labels!\" from \u001b[32mGridapTopOpt\u001b[39m:\n",
       " [1] update_labels!(\u001b[90me\u001b[39m::\u001b[1mInteger\u001b[22m, \u001b[90mmodel\u001b[39m::\u001b[1mGridapDistributed.DistributedDiscreteModel\u001b[22m, \u001b[90mf_Γ\u001b[39m::\u001b[1mFunction\u001b[22m, \u001b[90mname\u001b[39m::\u001b[1mString\u001b[22m)\n",
       "\u001b[90m     @\u001b[39m \u001b[90mC:\\Users\\IIT BBSR\\.julia\\packages\\GridapTopOpt\\zQxvu\\src\\\u001b[39m\u001b[90m\u001b[4mUtilities.jl:84\u001b[24m\u001b[39m\n",
       " [2] update_labels!(\u001b[90me\u001b[39m::\u001b[1mInteger\u001b[22m, \u001b[90mmodel\u001b[39m::\u001b[1mDiscreteModel\u001b[22m, \u001b[90mf_Γ\u001b[39m::\u001b[1mFunction\u001b[22m, \u001b[90mname\u001b[39m::\u001b[1mString\u001b[22m)\n",
       "\u001b[90m     @\u001b[39m \u001b[90mC:\\Users\\IIT BBSR\\.julia\\packages\\GridapTopOpt\\zQxvu\\src\\\u001b[39m\u001b[90m\u001b[4mUtilities.jl:78\u001b[24m\u001b[39m"
      ]
     },
     "metadata": {},
     "output_type": "display_data"
    }
   ],
   "source": [
    "using GridapTopOpt\n",
    "@which update_labels!\n",
    "methods(update_labels!)"
   ]
  },
  {
   "cell_type": "code",
   "execution_count": 4,
   "id": "7299fbd5",
   "metadata": {},
   "outputs": [
    {
     "data": {
      "text/html": [
       "# 37 methods for type constructor:<ul><li> Triangulation(cutgeo::<b>GridapEmbedded.Distributed.DistributedEmbeddedDiscretization</b>, in_or_out::<b>GridapEmbedded.Interfaces.ActiveInOrOut</b>, args...) in GridapEmbedded.Distributed at <a href=\"file://C:/Users/IIT BBSR/.julia/packages/GridapEmbedded/PIAqm/src/Distributed/DistributedDiscretizations.jl\" target=\"_blank\">C:\\Users\\IIT BBSR\\.julia\\packages\\GridapEmbedded\\PIAqm\\src\\Distributed\\DistributedDiscretizations.jl:63</a></li> <li> Triangulation(cut::<b>EmbeddedDiscretization</b>, name::<b>String</b>) in GridapEmbedded.Interfaces at <a href=\"file://C:/Users/IIT BBSR/.julia/packages/GridapEmbedded/PIAqm/src/Interfaces/EmbeddedDiscretizations.jl\" target=\"_blank\">C:\\Users\\IIT BBSR\\.julia\\packages\\GridapEmbedded\\PIAqm\\src\\Interfaces\\EmbeddedDiscretizations.jl:275</a></li> <li> Triangulation(cut::<b>EmbeddedDiscretization</b>, geo::<b>GridapEmbedded.CSG.Geometry</b>) in GridapEmbedded.Interfaces at <a href=\"file://C:/Users/IIT BBSR/.julia/packages/GridapEmbedded/PIAqm/src/Interfaces/EmbeddedDiscretizations.jl\" target=\"_blank\">C:\\Users\\IIT BBSR\\.julia\\packages\\GridapEmbedded\\PIAqm\\src\\Interfaces\\EmbeddedDiscretizations.jl:280</a></li> <li> Triangulation(::<b>Type{ReferenceFE{D}}</b>, model::<b>GridapDistributed.DistributedDiscreteModel</b>; <i>kwargs...</i>)<i> where D</i> in GridapDistributed at <a href=\"file://C:/Users/IIT BBSR/.julia/packages/GridapDistributed/XNMqm/src/Geometry.jl\" target=\"_blank\">C:\\Users\\IIT BBSR\\.julia\\packages\\GridapDistributed\\XNMqm\\src\\Geometry.jl:587</a></li> <li> Triangulation(cut::<b>STLCutters.STLEmbeddedDiscretization</b>, args...) in STLCutters at <a href=\"file://C:/Users/IIT BBSR/.julia/packages/STLCutters/oEu9o/src/Embedded.jl\" target=\"_blank\">C:\\Users\\IIT BBSR\\.julia\\packages\\STLCutters\\oEu9o\\src\\Embedded.jl:90</a></li> <li> Triangulation(portion, cutgeo::<b>GridapEmbedded.Distributed.DistributedEmbeddedDiscretization</b>, args...) in GridapEmbedded.Distributed at <a href=\"file://C:/Users/IIT BBSR/.julia/packages/GridapEmbedded/PIAqm/src/Distributed/DistributedDiscretizations.jl\" target=\"_blank\">C:\\Users\\IIT BBSR\\.julia\\packages\\GridapEmbedded\\PIAqm\\src\\Distributed\\DistributedDiscretizations.jl:75</a></li> <li> Triangulation(cutgeo::<b>GridapEmbedded.Distributed.DistributedEmbeddedDiscretization</b>, args...) in GridapEmbedded.Distributed at <a href=\"file://C:/Users/IIT BBSR/.julia/packages/GridapEmbedded/PIAqm/src/Distributed/DistributedDiscretizations.jl\" target=\"_blank\">C:\\Users\\IIT BBSR\\.julia\\packages\\GridapEmbedded\\PIAqm\\src\\Distributed\\DistributedDiscretizations.jl:71</a></li> <li> Triangulation(portion, gids::<b>AbstractLocalIndices</b>, cutgeo::<b>GridapEmbedded.Interfaces.AbstractEmbeddedDiscretization</b>, args...) in GridapEmbedded.Distributed at <a href=\"file://C:/Users/IIT BBSR/.julia/packages/GridapEmbedded/PIAqm/src/Distributed/DistributedDiscretizations.jl\" target=\"_blank\">C:\\Users\\IIT BBSR\\.julia\\packages\\GridapEmbedded\\PIAqm\\src\\Distributed\\DistributedDiscretizations.jl:84</a></li> <li> Triangulation(model::<b>DiscreteModel</b>, args...; <i>kwargs...</i>) in Gridap.Geometry at <a href=\"file://C:/Users/IIT BBSR/.julia/packages/Gridap/JD3zW/src/Geometry/Triangulations.jl\" target=\"_blank\">C:\\Users\\IIT BBSR\\.julia\\packages\\Gridap\\JD3zW\\src\\Geometry\\Triangulations.jl:216</a></li> <li> Triangulation(portion, cutgeo::<b>GridapEmbedded.Distributed.DistributedEmbeddedDiscretization</b>, cutinorout, geom::<b>GridapEmbedded.Distributed.DistributedDiscreteGeometry</b>) in GridapEmbedded.Distributed at <a href=\"file://C:/Users/IIT BBSR/.julia/packages/GridapEmbedded/PIAqm/src/Distributed/DistributedDiscreteGeometries.jl\" target=\"_blank\">C:\\Users\\IIT BBSR\\.julia\\packages\\GridapEmbedded\\PIAqm\\src\\Distributed\\DistributedDiscreteGeometries.jl:50</a></li> <li> Triangulation(trian::<b>AdaptedTriangulation</b>, args...; <i>kwargs...</i>) in Gridap.Adaptivity at <a href=\"file://C:/Users/IIT BBSR/.julia/packages/Gridap/JD3zW/src/Adaptivity/AdaptedTriangulations.jl\" target=\"_blank\">C:\\Users\\IIT BBSR\\.julia\\packages\\Gridap\\JD3zW\\src\\Adaptivity\\AdaptedTriangulations.jl:97</a></li> <li> Triangulation(trian::<b>Triangulation</b>, sface_to_tface::<b>AbstractArray{<:Integer}</b>) in Gridap.Geometry at <a href=\"file://C:/Users/IIT BBSR/.julia/packages/Gridap/JD3zW/src/Geometry/Triangulations.jl\" target=\"_blank\">C:\\Users\\IIT BBSR\\.julia\\packages\\Gridap\\JD3zW\\src\\Geometry\\Triangulations.jl:231</a></li> <li> Triangulation(trian::<b>Triangulation</b>, tface_filter::<b>AbstractArray{<:Bool}</b>) in Gridap.Geometry at <a href=\"file://C:/Users/IIT BBSR/.julia/packages/Gridap/JD3zW/src/Geometry/Triangulations.jl\" target=\"_blank\">C:\\Users\\IIT BBSR\\.julia\\packages\\Gridap\\JD3zW\\src\\Geometry\\Triangulations.jl:235</a></li> <li> Triangulation(portion, gids::<b>AbstractLocalIndices</b>, args...; <i>kwargs...</i>) in GridapDistributed at <a href=\"file://C:/Users/IIT BBSR/.julia/packages/GridapDistributed/XNMqm/src/Geometry.jl\" target=\"_blank\">C:\\Users\\IIT BBSR\\.julia\\packages\\GridapDistributed\\XNMqm\\src\\Geometry.jl:691</a></li> <li> Triangulation(cut::<b>EmbeddedDiscretization</b>, in_or_out, name::<b>String</b>) in GridapEmbedded.Interfaces at <a href=\"file://C:/Users/IIT BBSR/.julia/packages/GridapEmbedded/PIAqm/src/Interfaces/EmbeddedDiscretizations.jl\" target=\"_blank\">C:\\Users\\IIT BBSR\\.julia\\packages\\GridapEmbedded\\PIAqm\\src\\Interfaces\\EmbeddedDiscretizations.jl:292</a></li> <li> Triangulation(cut::<b>EmbeddedDiscretization</b>, in_or_out) in GridapEmbedded.Interfaces at <a href=\"file://C:/Users/IIT BBSR/.julia/packages/GridapEmbedded/PIAqm/src/Interfaces/EmbeddedDiscretizations.jl\" target=\"_blank\">C:\\Users\\IIT BBSR\\.julia\\packages\\GridapEmbedded\\PIAqm\\src\\Interfaces\\EmbeddedDiscretizations.jl:271</a></li> <li> Triangulation(portion, model::<b>GridapDistributed.DistributedDiscreteModel</b>; <i>kwargs...</i>) in GridapDistributed at <a href=\"file://C:/Users/IIT BBSR/.julia/packages/GridapDistributed/XNMqm/src/Geometry.jl\" target=\"_blank\">C:\\Users\\IIT BBSR\\.julia\\packages\\GridapDistributed\\XNMqm\\src\\Geometry.jl:591</a></li> <li> Triangulation(trian::<b>Triangulation</b>, args...; <i>kwargs...</i>) in Gridap.Geometry at <a href=\"file://C:/Users/IIT BBSR/.julia/packages/Gridap/JD3zW/src/Geometry/Triangulations.jl\" target=\"_blank\">C:\\Users\\IIT BBSR\\.julia\\packages\\Gridap\\JD3zW\\src\\Geometry\\Triangulations.jl:221</a></li> <li> Triangulation(trian::<b>Triangulation</b>) in Gridap.Geometry at <a href=\"file://C:/Users/IIT BBSR/.julia/packages/Gridap/JD3zW/src/Geometry/Triangulations.jl\" target=\"_blank\">C:\\Users\\IIT BBSR\\.julia\\packages\\Gridap\\JD3zW\\src\\Geometry\\Triangulations.jl:227</a></li> <li> Triangulation(portion, ::<b>Type{ReferenceFE{D}}</b>, model::<b>GridapDistributed.DistributedDiscreteModel</b>; <i>kwargs...</i>)<i> where D</i> in GridapDistributed at <a href=\"file://C:/Users/IIT BBSR/.julia/packages/GridapDistributed/XNMqm/src/Geometry.jl\" target=\"_blank\">C:\\Users\\IIT BBSR\\.julia\\packages\\GridapDistributed\\XNMqm\\src\\Geometry.jl:596</a></li> <li> Triangulation(::<b>Type{ReferenceFE{d}}</b>, model::<b>AdaptedDiscreteModel</b>, mface_filter::<b>AbstractVector{Bool}</b>)<i> where d</i> in Gridap.Adaptivity at <a href=\"file://C:/Users/IIT BBSR/.julia/packages/Gridap/JD3zW/src/Adaptivity/AdaptedTriangulations.jl\" target=\"_blank\">C:\\Users\\IIT BBSR\\.julia\\packages\\Gridap\\JD3zW\\src\\Adaptivity\\AdaptedTriangulations.jl:90</a></li> <li> Triangulation(::<b>Type{ReferenceFE{d}}</b>, model::<b>DiscreteModel</b>, tface_to_mface::<b>AbstractVector{<:Integer}</b>)<i> where d</i> in Gridap.Geometry at <a href=\"file://C:/Users/IIT BBSR/.julia/packages/Gridap/JD3zW/src/Geometry/Triangulations.jl\" target=\"_blank\">C:\\Users\\IIT BBSR\\.julia\\packages\\Gridap\\JD3zW\\src\\Geometry\\Triangulations.jl:178</a></li> <li> Triangulation(::<b>Type{ReferenceFE{d}}</b>, model::<b>DiscreteModel</b>, mface_filter::<b>AbstractVector{Bool}</b>)<i> where d</i> in Gridap.Geometry at <a href=\"file://C:/Users/IIT BBSR/.julia/packages/Gridap/JD3zW/src/Geometry/Triangulations.jl\" target=\"_blank\">C:\\Users\\IIT BBSR\\.julia\\packages\\Gridap\\JD3zW\\src\\Geometry\\Triangulations.jl:193</a></li> <li> Triangulation(::<b>Type{ReferenceFE{d}}</b>, model::<b>AdaptedDiscreteModel</b>, tface_to_mface::<b>AbstractVector{<:Integer}</b>)<i> where d</i> in Gridap.Adaptivity at <a href=\"file://C:/Users/IIT BBSR/.julia/packages/Gridap/JD3zW/src/Adaptivity/AdaptedTriangulations.jl\" target=\"_blank\">C:\\Users\\IIT BBSR\\.julia\\packages\\Gridap\\JD3zW\\src\\Adaptivity\\AdaptedTriangulations.jl:76</a></li> <li> Triangulation(::<b>Type{ReferenceFE{d}}</b>, model::<b>AdaptedDiscreteModel</b>, args...; <i>kwargs...</i>)<i> where d</i> in Gridap.Adaptivity at <a href=\"file://C:/Users/IIT BBSR/.julia/packages/Gridap/JD3zW/src/Adaptivity/AdaptedTriangulations.jl\" target=\"_blank\">C:\\Users\\IIT BBSR\\.julia\\packages\\Gridap\\JD3zW\\src\\Adaptivity\\AdaptedTriangulations.jl:71</a></li> <li> Triangulation(::<b>Type{ReferenceFE{d}}</b>, model::<b>DiscreteModel</b>, mface_filter::<b>AbstractArray{Bool}</b>)<i> where d</i> in Gridap.Geometry at <a href=\"file://C:/Users/IIT BBSR/.julia/packages/Gridap/JD3zW/src/Geometry/Triangulations.jl\" target=\"_blank\">C:\\Users\\IIT BBSR\\.julia\\packages\\Gridap\\JD3zW\\src\\Geometry\\Triangulations.jl:186</a></li> <li> Triangulation(::<b>Type{ReferenceFE{d}}</b>, model::<b>AdaptedDiscreteModel</b>, mface_filter::<b>AbstractArray{Bool}</b>)<i> where d</i> in Gridap.Adaptivity at <a href=\"file://C:/Users/IIT BBSR/.julia/packages/Gridap/JD3zW/src/Adaptivity/AdaptedTriangulations.jl\" target=\"_blank\">C:\\Users\\IIT BBSR\\.julia\\packages\\Gridap\\JD3zW\\src\\Adaptivity\\AdaptedTriangulations.jl:83</a></li> <li> Triangulation(::<b>Type{ReferenceFE{d}}</b>, model::<b>DiscreteModel</b>, labels::<b>FaceLabeling</b>; <i>tags</i>)<i> where d</i> in Gridap.Geometry at <a href=\"file://C:/Users/IIT BBSR/.julia/packages/Gridap/JD3zW/src/Geometry/Triangulations.jl\" target=\"_blank\">C:\\Users\\IIT BBSR\\.julia\\packages\\Gridap\\JD3zW\\src\\Geometry\\Triangulations.jl:200</a></li> <li> Triangulation(::<b>Type{ReferenceFE{d}}</b>, model::<b>DiscreteModel</b>; <i>kwargs...</i>)<i> where d</i> in Gridap.Geometry at <a href=\"file://C:/Users/IIT BBSR/.julia/packages/Gridap/JD3zW/src/Geometry/Triangulations.jl\" target=\"_blank\">C:\\Users\\IIT BBSR\\.julia\\packages\\Gridap\\JD3zW\\src\\Geometry\\Triangulations.jl:211</a></li> <li> Triangulation(model::<b>GridapDistributed.DistributedDiscreteModel</b>; <i>kwargs...</i>) in GridapDistributed at <a href=\"file://C:/Users/IIT BBSR/.julia/packages/GridapDistributed/XNMqm/src/Geometry.jl\" target=\"_blank\">C:\\Users\\IIT BBSR\\.julia\\packages\\GridapDistributed\\XNMqm\\src\\Geometry.jl:582</a></li> <li> Triangulation(PD::<b>PatchDecomposition</b>) in GridapSolvers.PatchBasedSmoothers at <a href=\"file://C:/Users/IIT BBSR/.julia/packages/GridapSolvers/gwyZl/src/PatchBasedSmoothers/PatchTriangulations.jl\" target=\"_blank\">C:\\Users\\IIT BBSR\\.julia\\packages\\GridapSolvers\\gwyZl\\src\\PatchBasedSmoothers\\PatchTriangulations.jl:58</a></li> <li> Triangulation(a::<b>GridapSolvers.PatchBasedSmoothers.DistributedPatchDecomposition</b>) in GridapSolvers.PatchBasedSmoothers at <a href=\"file://C:/Users/IIT BBSR/.julia/packages/GridapSolvers/gwyZl/src/PatchBasedSmoothers/DistributedPatchDecompositions.jl\" target=\"_blank\">C:\\Users\\IIT BBSR\\.julia\\packages\\GridapSolvers\\gwyZl\\src\\PatchBasedSmoothers\\DistributedPatchDecompositions.jl:60</a></li> <li> Triangulation(cut::<b>EmbeddedDiscretization</b>, in_or_out::<b>GridapEmbedded.Interfaces.CutInOrOut</b>, geo::<b>GridapEmbedded.CSG.Geometry</b>) in GridapEmbedded.Interfaces at <a href=\"file://C:/Users/IIT BBSR/.julia/packages/GridapEmbedded/PIAqm/src/Interfaces/EmbeddedDiscretizations.jl\" target=\"_blank\">C:\\Users\\IIT BBSR\\.julia\\packages\\GridapEmbedded\\PIAqm\\src\\Interfaces\\EmbeddedDiscretizations.jl:303</a></li> <li> Triangulation(cut::<b>EmbeddedDiscretization</b>, in_or_out::<b>GridapEmbedded.Interfaces.ActiveInOrOut</b>, geo::<b>GridapEmbedded.CSG.Geometry</b>) in GridapEmbedded.Interfaces at <a href=\"file://C:/Users/IIT BBSR/.julia/packages/GridapEmbedded/PIAqm/src/Interfaces/EmbeddedDiscretizations.jl\" target=\"_blank\">C:\\Users\\IIT BBSR\\.julia\\packages\\GridapEmbedded\\PIAqm\\src\\Interfaces\\EmbeddedDiscretizations.jl:319</a></li> <li> Triangulation(cut::<b>EmbeddedDiscretization</b>, in_or_out::<b>Integer</b>, geo::<b>GridapEmbedded.CSG.Geometry</b>) in GridapEmbedded.Interfaces at <a href=\"file://C:/Users/IIT BBSR/.julia/packages/GridapEmbedded/PIAqm/src/Interfaces/EmbeddedDiscretizations.jl\" target=\"_blank\">C:\\Users\\IIT BBSR\\.julia\\packages\\GridapEmbedded\\PIAqm\\src\\Interfaces\\EmbeddedDiscretizations.jl:313</a></li> <li> Triangulation(cut::<b>EmbeddedDiscretization</b>, in_or_out::<b>Tuple</b>, geo::<b>GridapEmbedded.CSG.Geometry</b>) in GridapEmbedded.Interfaces at <a href=\"file://C:/Users/IIT BBSR/.julia/packages/GridapEmbedded/PIAqm/src/Interfaces/EmbeddedDiscretizations.jl\" target=\"_blank\">C:\\Users\\IIT BBSR\\.julia\\packages\\GridapEmbedded\\PIAqm\\src\\Interfaces\\EmbeddedDiscretizations.jl:297</a></li> <li> Triangulation(cut::<b>EmbeddedDiscretization</b>) in GridapEmbedded.Interfaces at <a href=\"file://C:/Users/IIT BBSR/.julia/packages/GridapEmbedded/PIAqm/src/Interfaces/EmbeddedDiscretizations.jl\" target=\"_blank\">C:\\Users\\IIT BBSR\\.julia\\packages\\GridapEmbedded\\PIAqm\\src\\Interfaces\\EmbeddedDiscretizations.jl:255</a></li> </ul>"
      ],
      "text/plain": [
       "# 37 methods for type constructor:\n",
       "  [1] Triangulation(\u001b[90mcutgeo\u001b[39m::\u001b[1mGridapEmbedded.Distributed.DistributedEmbeddedDiscretization\u001b[22m, \u001b[90min_or_out\u001b[39m::\u001b[1mGridapEmbedded.Interfaces.ActiveInOrOut\u001b[22m, \u001b[90margs...\u001b[39m)\n",
       "\u001b[90m     @\u001b[39m \u001b[35mGridapEmbedded.Distributed\u001b[39m \u001b[90mC:\\Users\\IIT BBSR\\.julia\\packages\\GridapEmbedded\\PIAqm\\src\\Distributed\\\u001b[39m\u001b[90m\u001b[4mDistributedDiscretizations.jl:63\u001b[24m\u001b[39m\n",
       "  [2] Triangulation(\u001b[90mcut\u001b[39m::\u001b[1mEmbeddedDiscretization\u001b[22m, \u001b[90mname\u001b[39m::\u001b[1mString\u001b[22m)\n",
       "\u001b[90m     @\u001b[39m \u001b[35mGridapEmbedded.Interfaces\u001b[39m \u001b[90mC:\\Users\\IIT BBSR\\.julia\\packages\\GridapEmbedded\\PIAqm\\src\\Interfaces\\\u001b[39m\u001b[90m\u001b[4mEmbeddedDiscretizations.jl:275\u001b[24m\u001b[39m\n",
       "  [3] Triangulation(\u001b[90mcut\u001b[39m::\u001b[1mEmbeddedDiscretization\u001b[22m, \u001b[90mgeo\u001b[39m::\u001b[1mGridapEmbedded.CSG.Geometry\u001b[22m)\n",
       "\u001b[90m     @\u001b[39m \u001b[35mGridapEmbedded.Interfaces\u001b[39m \u001b[90mC:\\Users\\IIT BBSR\\.julia\\packages\\GridapEmbedded\\PIAqm\\src\\Interfaces\\\u001b[39m\u001b[90m\u001b[4mEmbeddedDiscretizations.jl:280\u001b[24m\u001b[39m\n",
       "  [4] Triangulation(::\u001b[1mType\u001b[22m\u001b[0m{ReferenceFE{D}}, \u001b[90mmodel\u001b[39m::\u001b[1mGridapDistributed.DistributedDiscreteModel\u001b[22m; kwargs...) where D\n",
       "\u001b[90m     @\u001b[39m \u001b[36mGridapDistributed\u001b[39m \u001b[90mC:\\Users\\IIT BBSR\\.julia\\packages\\GridapDistributed\\XNMqm\\src\\\u001b[39m\u001b[90m\u001b[4mGeometry.jl:587\u001b[24m\u001b[39m\n",
       "  [5] Triangulation(\u001b[90mcut\u001b[39m::\u001b[1mSTLCutters.STLEmbeddedDiscretization\u001b[22m, \u001b[90margs...\u001b[39m)\n",
       "\u001b[90m     @\u001b[39m \u001b[32mSTLCutters\u001b[39m \u001b[90mC:\\Users\\IIT BBSR\\.julia\\packages\\STLCutters\\oEu9o\\src\\\u001b[39m\u001b[90m\u001b[4mEmbedded.jl:90\u001b[24m\u001b[39m\n",
       "  [6] Triangulation(\u001b[90mportion\u001b[39m, \u001b[90mcutgeo\u001b[39m::\u001b[1mGridapEmbedded.Distributed.DistributedEmbeddedDiscretization\u001b[22m, \u001b[90margs...\u001b[39m)\n",
       "\u001b[90m     @\u001b[39m \u001b[35mGridapEmbedded.Distributed\u001b[39m \u001b[90mC:\\Users\\IIT BBSR\\.julia\\packages\\GridapEmbedded\\PIAqm\\src\\Distributed\\\u001b[39m\u001b[90m\u001b[4mDistributedDiscretizations.jl:75\u001b[24m\u001b[39m\n",
       "  [7] Triangulation(\u001b[90mcutgeo\u001b[39m::\u001b[1mGridapEmbedded.Distributed.DistributedEmbeddedDiscretization\u001b[22m, \u001b[90margs...\u001b[39m)\n",
       "\u001b[90m     @\u001b[39m \u001b[35mGridapEmbedded.Distributed\u001b[39m \u001b[90mC:\\Users\\IIT BBSR\\.julia\\packages\\GridapEmbedded\\PIAqm\\src\\Distributed\\\u001b[39m\u001b[90m\u001b[4mDistributedDiscretizations.jl:71\u001b[24m\u001b[39m\n",
       "  [8] Triangulation(\u001b[90mportion\u001b[39m, \u001b[90mgids\u001b[39m::\u001b[1mAbstractLocalIndices\u001b[22m, \u001b[90mcutgeo\u001b[39m::\u001b[1mGridapEmbedded.Interfaces.AbstractEmbeddedDiscretization\u001b[22m, \u001b[90margs...\u001b[39m)\n",
       "\u001b[90m     @\u001b[39m \u001b[35mGridapEmbedded.Distributed\u001b[39m \u001b[90mC:\\Users\\IIT BBSR\\.julia\\packages\\GridapEmbedded\\PIAqm\\src\\Distributed\\\u001b[39m\u001b[90m\u001b[4mDistributedDiscretizations.jl:84\u001b[24m\u001b[39m\n",
       "  [9] Triangulation(\u001b[90mmodel\u001b[39m::\u001b[1mDiscreteModel\u001b[22m, \u001b[90margs...\u001b[39m; kwargs...)\n",
       "\u001b[90m     @\u001b[39m \u001b[90mC:\\Users\\IIT BBSR\\.julia\\packages\\Gridap\\JD3zW\\src\\Geometry\\\u001b[39m\u001b[90m\u001b[4mTriangulations.jl:216\u001b[24m\u001b[39m\n",
       " [10] Triangulation(\u001b[90mportion\u001b[39m, \u001b[90mcutgeo\u001b[39m::\u001b[1mGridapEmbedded.Distributed.DistributedEmbeddedDiscretization\u001b[22m, \u001b[90mcutinorout\u001b[39m, \u001b[90mgeom\u001b[39m::\u001b[1mGridapEmbedded.Distributed.DistributedDiscreteGeometry\u001b[22m)\n",
       "\u001b[90m     @\u001b[39m \u001b[35mGridapEmbedded.Distributed\u001b[39m \u001b[90mC:\\Users\\IIT BBSR\\.julia\\packages\\GridapEmbedded\\PIAqm\\src\\Distributed\\\u001b[39m\u001b[90m\u001b[4mDistributedDiscreteGeometries.jl:50\u001b[24m\u001b[39m\n",
       " [11] Triangulation(\u001b[90mtrian\u001b[39m::\u001b[1mAdaptedTriangulation\u001b[22m, \u001b[90margs...\u001b[39m; kwargs...)\n",
       "\u001b[90m     @\u001b[39m \u001b[33mGridap.Adaptivity\u001b[39m \u001b[90mC:\\Users\\IIT BBSR\\.julia\\packages\\Gridap\\JD3zW\\src\\Adaptivity\\\u001b[39m\u001b[90m\u001b[4mAdaptedTriangulations.jl:97\u001b[24m\u001b[39m\n",
       " [12] Triangulation(\u001b[90mtrian\u001b[39m::\u001b[1mTriangulation\u001b[22m, \u001b[90msface_to_tface\u001b[39m::\u001b[1mAbstractArray\u001b[22m\u001b[0m{<:Integer})\n",
       "\u001b[90m     @\u001b[39m \u001b[90mC:\\Users\\IIT BBSR\\.julia\\packages\\Gridap\\JD3zW\\src\\Geometry\\\u001b[39m\u001b[90m\u001b[4mTriangulations.jl:231\u001b[24m\u001b[39m\n",
       " [13] Triangulation(\u001b[90mtrian\u001b[39m::\u001b[1mTriangulation\u001b[22m, \u001b[90mtface_filter\u001b[39m::\u001b[1mAbstractArray\u001b[22m\u001b[0m{<:Bool})\n",
       "\u001b[90m     @\u001b[39m \u001b[90mC:\\Users\\IIT BBSR\\.julia\\packages\\Gridap\\JD3zW\\src\\Geometry\\\u001b[39m\u001b[90m\u001b[4mTriangulations.jl:235\u001b[24m\u001b[39m\n",
       " [14] Triangulation(\u001b[90mportion\u001b[39m, \u001b[90mgids\u001b[39m::\u001b[1mAbstractLocalIndices\u001b[22m, \u001b[90margs...\u001b[39m; kwargs...)\n",
       "\u001b[90m     @\u001b[39m \u001b[36mGridapDistributed\u001b[39m \u001b[90mC:\\Users\\IIT BBSR\\.julia\\packages\\GridapDistributed\\XNMqm\\src\\\u001b[39m\u001b[90m\u001b[4mGeometry.jl:691\u001b[24m\u001b[39m\n",
       " [15] Triangulation(\u001b[90mcut\u001b[39m::\u001b[1mEmbeddedDiscretization\u001b[22m, \u001b[90min_or_out\u001b[39m, \u001b[90mname\u001b[39m::\u001b[1mString\u001b[22m)\n",
       "\u001b[90m     @\u001b[39m \u001b[35mGridapEmbedded.Interfaces\u001b[39m \u001b[90mC:\\Users\\IIT BBSR\\.julia\\packages\\GridapEmbedded\\PIAqm\\src\\Interfaces\\\u001b[39m\u001b[90m\u001b[4mEmbeddedDiscretizations.jl:292\u001b[24m\u001b[39m\n",
       " [16] Triangulation(\u001b[90mcut\u001b[39m::\u001b[1mEmbeddedDiscretization\u001b[22m, \u001b[90min_or_out\u001b[39m)\n",
       "\u001b[90m     @\u001b[39m \u001b[35mGridapEmbedded.Interfaces\u001b[39m \u001b[90mC:\\Users\\IIT BBSR\\.julia\\packages\\GridapEmbedded\\PIAqm\\src\\Interfaces\\\u001b[39m\u001b[90m\u001b[4mEmbeddedDiscretizations.jl:271\u001b[24m\u001b[39m\n",
       " [17] Triangulation(\u001b[90mportion\u001b[39m, \u001b[90mmodel\u001b[39m::\u001b[1mGridapDistributed.DistributedDiscreteModel\u001b[22m; kwargs...)\n",
       "\u001b[90m     @\u001b[39m \u001b[36mGridapDistributed\u001b[39m \u001b[90mC:\\Users\\IIT BBSR\\.julia\\packages\\GridapDistributed\\XNMqm\\src\\\u001b[39m\u001b[90m\u001b[4mGeometry.jl:591\u001b[24m\u001b[39m\n",
       " [18] Triangulation(\u001b[90mtrian\u001b[39m::\u001b[1mTriangulation\u001b[22m, \u001b[90margs...\u001b[39m; kwargs...)\n",
       "\u001b[90m     @\u001b[39m \u001b[90mC:\\Users\\IIT BBSR\\.julia\\packages\\Gridap\\JD3zW\\src\\Geometry\\\u001b[39m\u001b[90m\u001b[4mTriangulations.jl:221\u001b[24m\u001b[39m\n",
       " [19] Triangulation(\u001b[90mtrian\u001b[39m::\u001b[1mTriangulation\u001b[22m)\n",
       "\u001b[90m     @\u001b[39m \u001b[90mC:\\Users\\IIT BBSR\\.julia\\packages\\Gridap\\JD3zW\\src\\Geometry\\\u001b[39m\u001b[90m\u001b[4mTriangulations.jl:227\u001b[24m\u001b[39m\n",
       " [20] Triangulation(\u001b[90mportion\u001b[39m, ::\u001b[1mType\u001b[22m\u001b[0m{ReferenceFE{D}}, \u001b[90mmodel\u001b[39m::\u001b[1mGridapDistributed.DistributedDiscreteModel\u001b[22m; kwargs...) where D\n",
       "\u001b[90m     @\u001b[39m \u001b[36mGridapDistributed\u001b[39m \u001b[90mC:\\Users\\IIT BBSR\\.julia\\packages\\GridapDistributed\\XNMqm\\src\\\u001b[39m\u001b[90m\u001b[4mGeometry.jl:596\u001b[24m\u001b[39m\n",
       " [21] Triangulation(::\u001b[1mType\u001b[22m\u001b[0m{ReferenceFE{d}}, \u001b[90mmodel\u001b[39m::\u001b[1mAdaptedDiscreteModel\u001b[22m, \u001b[90mmface_filter\u001b[39m::\u001b[1mAbstractVector\u001b[22m\u001b[0m{Bool}) where d\n",
       "\u001b[90m     @\u001b[39m \u001b[33mGridap.Adaptivity\u001b[39m \u001b[90mC:\\Users\\IIT BBSR\\.julia\\packages\\Gridap\\JD3zW\\src\\Adaptivity\\\u001b[39m\u001b[90m\u001b[4mAdaptedTriangulations.jl:90\u001b[24m\u001b[39m\n",
       " [22] Triangulation(::\u001b[1mType\u001b[22m\u001b[0m{ReferenceFE{d}}, \u001b[90mmodel\u001b[39m::\u001b[1mDiscreteModel\u001b[22m, \u001b[90mtface_to_mface\u001b[39m::\u001b[1mAbstractVector\u001b[22m\u001b[0m{<:Integer}) where d\n",
       "\u001b[90m     @\u001b[39m \u001b[90mC:\\Users\\IIT BBSR\\.julia\\packages\\Gridap\\JD3zW\\src\\Geometry\\\u001b[39m\u001b[90m\u001b[4mTriangulations.jl:178\u001b[24m\u001b[39m\n",
       " [23] Triangulation(::\u001b[1mType\u001b[22m\u001b[0m{ReferenceFE{d}}, \u001b[90mmodel\u001b[39m::\u001b[1mDiscreteModel\u001b[22m, \u001b[90mmface_filter\u001b[39m::\u001b[1mAbstractVector\u001b[22m\u001b[0m{Bool}) where d\n",
       "\u001b[90m     @\u001b[39m \u001b[90mC:\\Users\\IIT BBSR\\.julia\\packages\\Gridap\\JD3zW\\src\\Geometry\\\u001b[39m\u001b[90m\u001b[4mTriangulations.jl:193\u001b[24m\u001b[39m\n",
       " [24] Triangulation(::\u001b[1mType\u001b[22m\u001b[0m{ReferenceFE{d}}, \u001b[90mmodel\u001b[39m::\u001b[1mAdaptedDiscreteModel\u001b[22m, \u001b[90mtface_to_mface\u001b[39m::\u001b[1mAbstractVector\u001b[22m\u001b[0m{<:Integer}) where d\n",
       "\u001b[90m     @\u001b[39m \u001b[33mGridap.Adaptivity\u001b[39m \u001b[90mC:\\Users\\IIT BBSR\\.julia\\packages\\Gridap\\JD3zW\\src\\Adaptivity\\\u001b[39m\u001b[90m\u001b[4mAdaptedTriangulations.jl:76\u001b[24m\u001b[39m\n",
       " [25] Triangulation(::\u001b[1mType\u001b[22m\u001b[0m{ReferenceFE{d}}, \u001b[90mmodel\u001b[39m::\u001b[1mAdaptedDiscreteModel\u001b[22m, \u001b[90margs...\u001b[39m; kwargs...) where d\n",
       "\u001b[90m     @\u001b[39m \u001b[33mGridap.Adaptivity\u001b[39m \u001b[90mC:\\Users\\IIT BBSR\\.julia\\packages\\Gridap\\JD3zW\\src\\Adaptivity\\\u001b[39m\u001b[90m\u001b[4mAdaptedTriangulations.jl:71\u001b[24m\u001b[39m\n",
       " [26] Triangulation(::\u001b[1mType\u001b[22m\u001b[0m{ReferenceFE{d}}, \u001b[90mmodel\u001b[39m::\u001b[1mDiscreteModel\u001b[22m, \u001b[90mmface_filter\u001b[39m::\u001b[1mAbstractArray\u001b[22m\u001b[0m{Bool}) where d\n",
       "\u001b[90m     @\u001b[39m \u001b[90mC:\\Users\\IIT BBSR\\.julia\\packages\\Gridap\\JD3zW\\src\\Geometry\\\u001b[39m\u001b[90m\u001b[4mTriangulations.jl:186\u001b[24m\u001b[39m\n",
       " [27] Triangulation(::\u001b[1mType\u001b[22m\u001b[0m{ReferenceFE{d}}, \u001b[90mmodel\u001b[39m::\u001b[1mAdaptedDiscreteModel\u001b[22m, \u001b[90mmface_filter\u001b[39m::\u001b[1mAbstractArray\u001b[22m\u001b[0m{Bool}) where d\n",
       "\u001b[90m     @\u001b[39m \u001b[33mGridap.Adaptivity\u001b[39m \u001b[90mC:\\Users\\IIT BBSR\\.julia\\packages\\Gridap\\JD3zW\\src\\Adaptivity\\\u001b[39m\u001b[90m\u001b[4mAdaptedTriangulations.jl:83\u001b[24m\u001b[39m\n",
       " [28] Triangulation(::\u001b[1mType\u001b[22m\u001b[0m{ReferenceFE{d}}, \u001b[90mmodel\u001b[39m::\u001b[1mDiscreteModel\u001b[22m, \u001b[90mlabels\u001b[39m::\u001b[1mFaceLabeling\u001b[22m; tags) where d\n",
       "\u001b[90m     @\u001b[39m \u001b[90mC:\\Users\\IIT BBSR\\.julia\\packages\\Gridap\\JD3zW\\src\\Geometry\\\u001b[39m\u001b[90m\u001b[4mTriangulations.jl:200\u001b[24m\u001b[39m\n",
       " [29] Triangulation(::\u001b[1mType\u001b[22m\u001b[0m{ReferenceFE{d}}, \u001b[90mmodel\u001b[39m::\u001b[1mDiscreteModel\u001b[22m; kwargs...) where d\n",
       "\u001b[90m     @\u001b[39m \u001b[90mC:\\Users\\IIT BBSR\\.julia\\packages\\Gridap\\JD3zW\\src\\Geometry\\\u001b[39m\u001b[90m\u001b[4mTriangulations.jl:211\u001b[24m\u001b[39m\n",
       " [30] Triangulation(\u001b[90mmodel\u001b[39m::\u001b[1mGridapDistributed.DistributedDiscreteModel\u001b[22m; kwargs...)\n",
       "\u001b[90m     @\u001b[39m \u001b[36mGridapDistributed\u001b[39m \u001b[90mC:\\Users\\IIT BBSR\\.julia\\packages\\GridapDistributed\\XNMqm\\src\\\u001b[39m\u001b[90m\u001b[4mGeometry.jl:582\u001b[24m\u001b[39m\n",
       " [31] Triangulation(\u001b[90mPD\u001b[39m::\u001b[1mPatchDecomposition\u001b[22m)\n",
       "\u001b[90m     @\u001b[39m \u001b[35mGridapSolvers.PatchBasedSmoothers\u001b[39m \u001b[90mC:\\Users\\IIT BBSR\\.julia\\packages\\GridapSolvers\\gwyZl\\src\\PatchBasedSmoothers\\\u001b[39m\u001b[90m\u001b[4mPatchTriangulations.jl:58\u001b[24m\u001b[39m\n",
       " [32] Triangulation(\u001b[90ma\u001b[39m::\u001b[1mGridapSolvers.PatchBasedSmoothers.DistributedPatchDecomposition\u001b[22m)\n",
       "\u001b[90m     @\u001b[39m \u001b[35mGridapSolvers.PatchBasedSmoothers\u001b[39m \u001b[90mC:\\Users\\IIT BBSR\\.julia\\packages\\GridapSolvers\\gwyZl\\src\\PatchBasedSmoothers\\\u001b[39m\u001b[90m\u001b[4mDistributedPatchDecompositions.jl:60\u001b[24m\u001b[39m\n",
       " [33] Triangulation(\u001b[90mcut\u001b[39m::\u001b[1mEmbeddedDiscretization\u001b[22m, \u001b[90min_or_out\u001b[39m::\u001b[1mGridapEmbedded.Interfaces.CutInOrOut\u001b[22m, \u001b[90mgeo\u001b[39m::\u001b[1mGridapEmbedded.CSG.Geometry\u001b[22m)\n",
       "\u001b[90m     @\u001b[39m \u001b[35mGridapEmbedded.Interfaces\u001b[39m \u001b[90mC:\\Users\\IIT BBSR\\.julia\\packages\\GridapEmbedded\\PIAqm\\src\\Interfaces\\\u001b[39m\u001b[90m\u001b[4mEmbeddedDiscretizations.jl:303\u001b[24m\u001b[39m\n",
       " [34] Triangulation(\u001b[90mcut\u001b[39m::\u001b[1mEmbeddedDiscretization\u001b[22m, \u001b[90min_or_out\u001b[39m::\u001b[1mGridapEmbedded.Interfaces.ActiveInOrOut\u001b[22m, \u001b[90mgeo\u001b[39m::\u001b[1mGridapEmbedded.CSG.Geometry\u001b[22m)\n",
       "\u001b[90m     @\u001b[39m \u001b[35mGridapEmbedded.Interfaces\u001b[39m \u001b[90mC:\\Users\\IIT BBSR\\.julia\\packages\\GridapEmbedded\\PIAqm\\src\\Interfaces\\\u001b[39m\u001b[90m\u001b[4mEmbeddedDiscretizations.jl:319\u001b[24m\u001b[39m\n",
       " [35] Triangulation(\u001b[90mcut\u001b[39m::\u001b[1mEmbeddedDiscretization\u001b[22m, \u001b[90min_or_out\u001b[39m::\u001b[1mInteger\u001b[22m, \u001b[90mgeo\u001b[39m::\u001b[1mGridapEmbedded.CSG.Geometry\u001b[22m)\n",
       "\u001b[90m     @\u001b[39m \u001b[35mGridapEmbedded.Interfaces\u001b[39m \u001b[90mC:\\Users\\IIT BBSR\\.julia\\packages\\GridapEmbedded\\PIAqm\\src\\Interfaces\\\u001b[39m\u001b[90m\u001b[4mEmbeddedDiscretizations.jl:313\u001b[24m\u001b[39m\n",
       " [36] Triangulation(\u001b[90mcut\u001b[39m::\u001b[1mEmbeddedDiscretization\u001b[22m, \u001b[90min_or_out\u001b[39m::\u001b[1mTuple\u001b[22m, \u001b[90mgeo\u001b[39m::\u001b[1mGridapEmbedded.CSG.Geometry\u001b[22m)\n",
       "\u001b[90m     @\u001b[39m \u001b[35mGridapEmbedded.Interfaces\u001b[39m \u001b[90mC:\\Users\\IIT BBSR\\.julia\\packages\\GridapEmbedded\\PIAqm\\src\\Interfaces\\\u001b[39m\u001b[90m\u001b[4mEmbeddedDiscretizations.jl:297\u001b[24m\u001b[39m\n",
       " [37] Triangulation(\u001b[90mcut\u001b[39m::\u001b[1mEmbeddedDiscretization\u001b[22m)\n",
       "\u001b[90m     @\u001b[39m \u001b[35mGridapEmbedded.Interfaces\u001b[39m \u001b[90mC:\\Users\\IIT BBSR\\.julia\\packages\\GridapEmbedded\\PIAqm\\src\\Interfaces\\\u001b[39m\u001b[90m\u001b[4mEmbeddedDiscretizations.jl:255\u001b[24m\u001b[39m"
      ]
     },
     "metadata": {},
     "output_type": "display_data"
    }
   ],
   "source": [
    "using Gridap.Geometry\n",
    "@which Triangulation\n",
    "methods(Triangulation)"
   ]
  },
  {
   "cell_type": "code",
   "execution_count": 5,
   "id": "69cd65c7",
   "metadata": {},
   "outputs": [
    {
     "data": {
      "text/html": [
       "# 2 methods for generic function <b>get_element_diameter_field</b> from \u001b[33mGridapTopOpt\u001b[39m:<ul><li> get_element_diameter_field(model::<b>GridapDistributed.DistributedDiscreteModel</b>) in GridapTopOpt at <a href=\"file://C:/Users/IIT BBSR/.julia/packages/GridapTopOpt/zQxvu/src/Utilities.jl\" target=\"_blank\">C:\\Users\\IIT BBSR\\.julia\\packages\\GridapTopOpt\\zQxvu\\src\\Utilities.jl:304</a></li> <li> get_element_diameter_field(model) in GridapTopOpt at <a href=\"file://C:/Users/IIT BBSR/.julia/packages/GridapTopOpt/zQxvu/src/Utilities.jl\" target=\"_blank\">C:\\Users\\IIT BBSR\\.julia\\packages\\GridapTopOpt\\zQxvu\\src\\Utilities.jl:294</a></li> </ul>"
      ],
      "text/plain": [
       "# 2 methods for generic function \"get_element_diameter_field\" from \u001b[33mGridapTopOpt\u001b[39m:\n",
       " [1] get_element_diameter_field(\u001b[90mmodel\u001b[39m::\u001b[1mGridapDistributed.DistributedDiscreteModel\u001b[22m)\n",
       "\u001b[90m     @\u001b[39m \u001b[90mC:\\Users\\IIT BBSR\\.julia\\packages\\GridapTopOpt\\zQxvu\\src\\\u001b[39m\u001b[90m\u001b[4mUtilities.jl:304\u001b[24m\u001b[39m\n",
       " [2] get_element_diameter_field(\u001b[90mmodel\u001b[39m)\n",
       "\u001b[90m     @\u001b[39m \u001b[90mC:\\Users\\IIT BBSR\\.julia\\packages\\GridapTopOpt\\zQxvu\\src\\\u001b[39m\u001b[90m\u001b[4mUtilities.jl:294\u001b[24m\u001b[39m"
      ]
     },
     "metadata": {},
     "output_type": "display_data"
    }
   ],
   "source": [
    "using GridapTopOpt\n",
    "@which get_element_diameter_field\n",
    "methods(get_element_diameter_field)"
   ]
  },
  {
   "cell_type": "code",
   "execution_count": 9,
   "id": "41103d86",
   "metadata": {},
   "outputs": [
    {
     "data": {
      "text/html": [
       "# 2 methods for generic function <b>get_element_diameters</b> from \u001b[36mGridapTopOpt\u001b[39m:<ul><li> get_element_diameters(model::<b>GridapDistributed.DistributedDiscreteModel{Dc}</b>)<i> where Dc</i> in GridapTopOpt at <a href=\"file://C:/Users/IIT BBSR/.julia/packages/GridapTopOpt/zQxvu/src/Utilities.jl\" target=\"_blank\">C:\\Users\\IIT BBSR\\.julia\\packages\\GridapTopOpt\\zQxvu\\src\\Utilities.jl:298</a></li> <li> get_element_diameters(model) in GridapTopOpt at <a href=\"file://C:/Users/IIT BBSR/.julia/packages/GridapTopOpt/zQxvu/src/Utilities.jl\" target=\"_blank\">C:\\Users\\IIT BBSR\\.julia\\packages\\GridapTopOpt\\zQxvu\\src\\Utilities.jl:270</a></li> </ul>"
      ],
      "text/plain": [
       "# 2 methods for generic function \"get_element_diameters\" from \u001b[36mGridapTopOpt\u001b[39m:\n",
       " [1] get_element_diameters(\u001b[90mmodel\u001b[39m::\u001b[1mGridapDistributed.DistributedDiscreteModel\u001b[22m\u001b[0m{Dc}) where Dc\n",
       "\u001b[90m     @\u001b[39m \u001b[90mC:\\Users\\IIT BBSR\\.julia\\packages\\GridapTopOpt\\zQxvu\\src\\\u001b[39m\u001b[90m\u001b[4mUtilities.jl:298\u001b[24m\u001b[39m\n",
       " [2] get_element_diameters(\u001b[90mmodel\u001b[39m)\n",
       "\u001b[90m     @\u001b[39m \u001b[90mC:\\Users\\IIT BBSR\\.julia\\packages\\GridapTopOpt\\zQxvu\\src\\\u001b[39m\u001b[90m\u001b[4mUtilities.jl:270\u001b[24m\u001b[39m"
      ]
     },
     "metadata": {},
     "output_type": "display_data"
    }
   ],
   "source": [
    "using GridapTopOpt\n",
    "@which get_element_diameters\n",
    "methods(get_element_diameters)"
   ]
  },
  {
   "cell_type": "code",
   "execution_count": 11,
   "id": "ac6d7729",
   "metadata": {},
   "outputs": [
    {
     "data": {
      "text/html": [
       "# 16 methods for type constructor:<ul><li> ReferenceFE(model::<b>DiscreteModel</b>, basis::<b>ModalC0</b>, args...; <i>kwargs...</i>) in Gridap.Geometry at <a href=\"file://C:/Users/IIT BBSR/.julia/packages/Gridap/JD3zW/src/Geometry/DiscreteModels.jl\" target=\"_blank\">C:\\Users\\IIT BBSR\\.julia\\packages\\Gridap\\JD3zW\\src\\Geometry\\DiscreteModels.jl:391</a></li> <li> ReferenceFE(model::<b>DiscreteModel</b>, args...; <i>kwargs...</i>) in Gridap.Geometry at <a href=\"file://C:/Users/IIT BBSR/.julia/packages/Gridap/JD3zW/src/Geometry/DiscreteModels.jl\" target=\"_blank\">C:\\Users\\IIT BBSR\\.julia\\packages\\Gridap\\JD3zW\\src\\Geometry\\DiscreteModels.jl:383</a></li> <li> ReferenceFE(p::<b>Polytope</b>, ::<b>BDM</b>, ::<b>Type{T}</b>, order)<i> where T</i> in Gridap.ReferenceFEs at <a href=\"file://C:/Users/IIT BBSR/.julia/packages/Gridap/JD3zW/src/ReferenceFEs/BDMRefFEs.jl\" target=\"_blank\">C:\\Users\\IIT BBSR\\.julia\\packages\\Gridap\\JD3zW\\src\\ReferenceFEs\\BDMRefFEs.jl:52</a></li> <li> ReferenceFE(p::<b>Polytope</b>, ::<b>BDM</b>, order) in Gridap.ReferenceFEs at <a href=\"file://C:/Users/IIT BBSR/.julia/packages/Gridap/JD3zW/src/ReferenceFEs/BDMRefFEs.jl\" target=\"_blank\">C:\\Users\\IIT BBSR\\.julia\\packages\\Gridap\\JD3zW\\src\\ReferenceFEs\\BDMRefFEs.jl:48</a></li> <li> ReferenceFE(polytope::<b>Polytope</b>, ::<b>Bezier</b>, ::<b>Type{T}</b>, orders::<b>Union{Integer, Tuple{Vararg{Integer}}}</b>)<i> where T</i> in Gridap.ReferenceFEs at <a href=\"file://C:/Users/IIT BBSR/.julia/packages/Gridap/JD3zW/src/ReferenceFEs/BezierRefFEs.jl\" target=\"_blank\">C:\\Users\\IIT BBSR\\.julia\\packages\\Gridap\\JD3zW\\src\\ReferenceFEs\\BezierRefFEs.jl:25</a></li> <li> ReferenceFE(p::<b>Polytope</b>, ::<b>RaviartThomas</b>, ::<b>Type{T}</b>, order)<i> where T</i> in Gridap.ReferenceFEs at <a href=\"file://C:/Users/IIT BBSR/.julia/packages/Gridap/JD3zW/src/ReferenceFEs/RaviartThomasRefFEs.jl\" target=\"_blank\">C:\\Users\\IIT BBSR\\.julia\\packages\\Gridap\\JD3zW\\src\\ReferenceFEs\\RaviartThomasRefFEs.jl:56</a></li> <li> ReferenceFE(p::<b>Polytope</b>, ::<b>RaviartThomas</b>, order) in Gridap.ReferenceFEs at <a href=\"file://C:/Users/IIT BBSR/.julia/packages/Gridap/JD3zW/src/ReferenceFEs/RaviartThomasRefFEs.jl\" target=\"_blank\">C:\\Users\\IIT BBSR\\.julia\\packages\\Gridap\\JD3zW\\src\\ReferenceFEs\\RaviartThomasRefFEs.jl:52</a></li> <li> ReferenceFE(p::<b>Polytope</b>, ::<b>Nedelec</b>, ::<b>Type{T}</b>, order)<i> where T</i> in Gridap.ReferenceFEs at <a href=\"file://C:/Users/IIT BBSR/.julia/packages/Gridap/JD3zW/src/ReferenceFEs/NedelecRefFEs.jl\" target=\"_blank\">C:\\Users\\IIT BBSR\\.julia\\packages\\Gridap\\JD3zW\\src\\ReferenceFEs\\NedelecRefFEs.jl:54</a></li> <li> ReferenceFE(p::<b>Polytope</b>, ::<b>Nedelec</b>, order) in Gridap.ReferenceFEs at <a href=\"file://C:/Users/IIT BBSR/.julia/packages/Gridap/JD3zW/src/ReferenceFEs/NedelecRefFEs.jl\" target=\"_blank\">C:\\Users\\IIT BBSR\\.julia\\packages\\Gridap\\JD3zW\\src\\ReferenceFEs\\NedelecRefFEs.jl:50</a></li> <li> ReferenceFE(polytope::<b>Polytope{D}</b>, ::<b>ModalC0</b>, ::<b>Type{T}</b>, orders::<b>Union{Integer, NTuple{D, Int64}}</b>; <i>kwargs...</i>)<i> where {T, D}</i> in Gridap.ReferenceFEs at <a href=\"file://C:/Users/IIT BBSR/.julia/packages/Gridap/JD3zW/src/ReferenceFEs/ModalC0RefFEs.jl\" target=\"_blank\">C:\\Users\\IIT BBSR\\.julia\\packages\\Gridap\\JD3zW\\src\\ReferenceFEs\\ModalC0RefFEs.jl:92</a></li> <li> ReferenceFE(p::<b>Polytope</b>, ::<b>Bubble</b>, ::<b>Type{T}</b>; <i>kwargs...</i>)<i> where T</i> in Gridap.ReferenceFEs at <a href=\"file://C:/Users/IIT BBSR/.julia/packages/Gridap/JD3zW/src/ReferenceFEs/BubbleRefFEs.jl\" target=\"_blank\">C:\\Users\\IIT BBSR\\.julia\\packages\\Gridap\\JD3zW\\src\\ReferenceFEs\\BubbleRefFEs.jl:42</a></li> <li> ReferenceFE(polytope::<b>Polytope</b>, ::<b>Lagrangian</b>, ::<b>Type{T}</b>, orders::<b>Union{Integer, Tuple{Vararg{Integer}}}</b>; <i>space</i>)<i> where T</i> in Gridap.ReferenceFEs at <a href=\"file://C:/Users/IIT BBSR/.julia/packages/Gridap/JD3zW/src/ReferenceFEs/CLagrangianRefFEs.jl\" target=\"_blank\">C:\\Users\\IIT BBSR\\.julia\\packages\\Gridap\\JD3zW\\src\\ReferenceFEs\\CLagrangianRefFEs.jl:244</a></li> <li> ReferenceFE(p::<b>Polytope</b>, rrule::<b>RefinementRule</b>, name::<b>ReferenceFEName</b>, order) in Gridap.Adaptivity at <a href=\"file://C:/Users/IIT BBSR/.julia/packages/Gridap/JD3zW/src/Adaptivity/FineToCoarseReferenceFEs.jl\" target=\"_blank\">C:\\Users\\IIT BBSR\\.julia\\packages\\Gridap\\JD3zW\\src\\Adaptivity\\FineToCoarseReferenceFEs.jl:109</a></li> <li> ReferenceFE(p::<b>Polytope</b>, rrule::<b>RefinementRule</b>, name::<b>ReferenceFEName</b>, ::<b>Type{T}</b>, order)<i> where T</i> in Gridap.Adaptivity at <a href=\"file://C:/Users/IIT BBSR/.julia/packages/Gridap/JD3zW/src/Adaptivity/FineToCoarseReferenceFEs.jl\" target=\"_blank\">C:\\Users\\IIT BBSR\\.julia\\packages\\Gridap\\JD3zW\\src\\Adaptivity\\FineToCoarseReferenceFEs.jl:113</a></li> <li> ReferenceFE(p::<b>Polytope</b>, basis::<b>ReferenceFEName</b>, args...; <i>kwargs...</i>) in Gridap.ReferenceFEs at <a href=\"file://C:/Users/IIT BBSR/.julia/packages/Gridap/JD3zW/src/ReferenceFEs/ReferenceFEInterfaces.jl\" target=\"_blank\">C:\\Users\\IIT BBSR\\.julia\\packages\\Gridap\\JD3zW\\src\\ReferenceFEs\\ReferenceFEInterfaces.jl:39</a></li> <li> ReferenceFE(basis::<b>ReferenceFEName</b>, args...; <i>kwargs...</i>) in Gridap.ReferenceFEs at <a href=\"file://C:/Users/IIT BBSR/.julia/packages/Gridap/JD3zW/src/ReferenceFEs/ReferenceFEInterfaces.jl\" target=\"_blank\">C:\\Users\\IIT BBSR\\.julia\\packages\\Gridap\\JD3zW\\src\\ReferenceFEs\\ReferenceFEInterfaces.jl:45</a></li> </ul>"
      ],
      "text/plain": [
       "# 16 methods for type constructor:\n",
       "  [1] ReferenceFE(\u001b[90mmodel\u001b[39m::\u001b[1mDiscreteModel\u001b[22m, \u001b[90mbasis\u001b[39m::\u001b[1mModalC0\u001b[22m, \u001b[90margs...\u001b[39m; kwargs...)\n",
       "\u001b[90m     @\u001b[39m \u001b[32mGridap.Geometry\u001b[39m \u001b[90mC:\\Users\\IIT BBSR\\.julia\\packages\\Gridap\\JD3zW\\src\\Geometry\\\u001b[39m\u001b[90m\u001b[4mDiscreteModels.jl:391\u001b[24m\u001b[39m\n",
       "  [2] ReferenceFE(\u001b[90mmodel\u001b[39m::\u001b[1mDiscreteModel\u001b[22m, \u001b[90margs...\u001b[39m; kwargs...)\n",
       "\u001b[90m     @\u001b[39m \u001b[32mGridap.Geometry\u001b[39m \u001b[90mC:\\Users\\IIT BBSR\\.julia\\packages\\Gridap\\JD3zW\\src\\Geometry\\\u001b[39m\u001b[90m\u001b[4mDiscreteModels.jl:383\u001b[24m\u001b[39m\n",
       "  [3] ReferenceFE(\u001b[90mp\u001b[39m::\u001b[1mPolytope\u001b[22m, ::\u001b[1mBDM\u001b[22m, ::\u001b[1mType\u001b[22m\u001b[0m{T}, \u001b[90morder\u001b[39m) where T\n",
       "\u001b[90m     @\u001b[39m \u001b[90mC:\\Users\\IIT BBSR\\.julia\\packages\\Gridap\\JD3zW\\src\\ReferenceFEs\\\u001b[39m\u001b[90m\u001b[4mBDMRefFEs.jl:52\u001b[24m\u001b[39m\n",
       "  [4] ReferenceFE(\u001b[90mp\u001b[39m::\u001b[1mPolytope\u001b[22m, ::\u001b[1mBDM\u001b[22m, \u001b[90morder\u001b[39m)\n",
       "\u001b[90m     @\u001b[39m \u001b[90mC:\\Users\\IIT BBSR\\.julia\\packages\\Gridap\\JD3zW\\src\\ReferenceFEs\\\u001b[39m\u001b[90m\u001b[4mBDMRefFEs.jl:48\u001b[24m\u001b[39m\n",
       "  [5] ReferenceFE(\u001b[90mpolytope\u001b[39m::\u001b[1mPolytope\u001b[22m, ::\u001b[1mBezier\u001b[22m, ::\u001b[1mType\u001b[22m\u001b[0m{T}, \u001b[90morders\u001b[39m::\u001b[1mUnion\u001b[22m\u001b[0m{Integer, Tuple{Vararg{Integer}}}) where T\n",
       "\u001b[90m     @\u001b[39m \u001b[90mC:\\Users\\IIT BBSR\\.julia\\packages\\Gridap\\JD3zW\\src\\ReferenceFEs\\\u001b[39m\u001b[90m\u001b[4mBezierRefFEs.jl:25\u001b[24m\u001b[39m\n",
       "  [6] ReferenceFE(\u001b[90mp\u001b[39m::\u001b[1mPolytope\u001b[22m, ::\u001b[1mRaviartThomas\u001b[22m, ::\u001b[1mType\u001b[22m\u001b[0m{T}, \u001b[90morder\u001b[39m) where T\n",
       "\u001b[90m     @\u001b[39m \u001b[90mC:\\Users\\IIT BBSR\\.julia\\packages\\Gridap\\JD3zW\\src\\ReferenceFEs\\\u001b[39m\u001b[90m\u001b[4mRaviartThomasRefFEs.jl:56\u001b[24m\u001b[39m\n",
       "  [7] ReferenceFE(\u001b[90mp\u001b[39m::\u001b[1mPolytope\u001b[22m, ::\u001b[1mRaviartThomas\u001b[22m, \u001b[90morder\u001b[39m)\n",
       "\u001b[90m     @\u001b[39m \u001b[90mC:\\Users\\IIT BBSR\\.julia\\packages\\Gridap\\JD3zW\\src\\ReferenceFEs\\\u001b[39m\u001b[90m\u001b[4mRaviartThomasRefFEs.jl:52\u001b[24m\u001b[39m\n",
       "  [8] ReferenceFE(\u001b[90mp\u001b[39m::\u001b[1mPolytope\u001b[22m, ::\u001b[1mNedelec\u001b[22m, ::\u001b[1mType\u001b[22m\u001b[0m{T}, \u001b[90morder\u001b[39m) where T\n",
       "\u001b[90m     @\u001b[39m \u001b[90mC:\\Users\\IIT BBSR\\.julia\\packages\\Gridap\\JD3zW\\src\\ReferenceFEs\\\u001b[39m\u001b[90m\u001b[4mNedelecRefFEs.jl:54\u001b[24m\u001b[39m\n",
       "  [9] ReferenceFE(\u001b[90mp\u001b[39m::\u001b[1mPolytope\u001b[22m, ::\u001b[1mNedelec\u001b[22m, \u001b[90morder\u001b[39m)\n",
       "\u001b[90m     @\u001b[39m \u001b[90mC:\\Users\\IIT BBSR\\.julia\\packages\\Gridap\\JD3zW\\src\\ReferenceFEs\\\u001b[39m\u001b[90m\u001b[4mNedelecRefFEs.jl:50\u001b[24m\u001b[39m\n",
       " [10] ReferenceFE(\u001b[90mpolytope\u001b[39m::\u001b[1mPolytope\u001b[22m\u001b[0m{D}, ::\u001b[1mModalC0\u001b[22m, ::\u001b[1mType\u001b[22m\u001b[0m{T}, \u001b[90morders\u001b[39m::\u001b[1mUnion\u001b[22m\u001b[0m{Integer, NTuple{D, Int64}}; kwargs...) where {T, D}\n",
       "\u001b[90m     @\u001b[39m \u001b[90mC:\\Users\\IIT BBSR\\.julia\\packages\\Gridap\\JD3zW\\src\\ReferenceFEs\\\u001b[39m\u001b[90m\u001b[4mModalC0RefFEs.jl:92\u001b[24m\u001b[39m\n",
       " [11] ReferenceFE(\u001b[90mp\u001b[39m::\u001b[1mPolytope\u001b[22m, ::\u001b[1mBubble\u001b[22m, ::\u001b[1mType\u001b[22m\u001b[0m{T}; kwargs...) where T\n",
       "\u001b[90m     @\u001b[39m \u001b[90mC:\\Users\\IIT BBSR\\.julia\\packages\\Gridap\\JD3zW\\src\\ReferenceFEs\\\u001b[39m\u001b[90m\u001b[4mBubbleRefFEs.jl:42\u001b[24m\u001b[39m\n",
       " [12] ReferenceFE(\u001b[90mpolytope\u001b[39m::\u001b[1mPolytope\u001b[22m, ::\u001b[1mLagrangian\u001b[22m, ::\u001b[1mType\u001b[22m\u001b[0m{T}, \u001b[90morders\u001b[39m::\u001b[1mUnion\u001b[22m\u001b[0m{Integer, Tuple{Vararg{Integer}}}; space) where T\n",
       "\u001b[90m     @\u001b[39m \u001b[90mC:\\Users\\IIT BBSR\\.julia\\packages\\Gridap\\JD3zW\\src\\ReferenceFEs\\\u001b[39m\u001b[90m\u001b[4mCLagrangianRefFEs.jl:244\u001b[24m\u001b[39m\n",
       " [13] ReferenceFE(\u001b[90mp\u001b[39m::\u001b[1mPolytope\u001b[22m, \u001b[90mrrule\u001b[39m::\u001b[1mRefinementRule\u001b[22m, \u001b[90mname\u001b[39m::\u001b[1mReferenceFEName\u001b[22m, \u001b[90morder\u001b[39m)\n",
       "\u001b[90m     @\u001b[39m \u001b[32mGridap.Adaptivity\u001b[39m \u001b[90mC:\\Users\\IIT BBSR\\.julia\\packages\\Gridap\\JD3zW\\src\\Adaptivity\\\u001b[39m\u001b[90m\u001b[4mFineToCoarseReferenceFEs.jl:109\u001b[24m\u001b[39m\n",
       " [14] ReferenceFE(\u001b[90mp\u001b[39m::\u001b[1mPolytope\u001b[22m, \u001b[90mrrule\u001b[39m::\u001b[1mRefinementRule\u001b[22m, \u001b[90mname\u001b[39m::\u001b[1mReferenceFEName\u001b[22m, ::\u001b[1mType\u001b[22m\u001b[0m{T}, \u001b[90morder\u001b[39m) where T\n",
       "\u001b[90m     @\u001b[39m \u001b[32mGridap.Adaptivity\u001b[39m \u001b[90mC:\\Users\\IIT BBSR\\.julia\\packages\\Gridap\\JD3zW\\src\\Adaptivity\\\u001b[39m\u001b[90m\u001b[4mFineToCoarseReferenceFEs.jl:113\u001b[24m\u001b[39m\n",
       " [15] ReferenceFE(\u001b[90mp\u001b[39m::\u001b[1mPolytope\u001b[22m, \u001b[90mbasis\u001b[39m::\u001b[1mReferenceFEName\u001b[22m, \u001b[90margs...\u001b[39m; kwargs...)\n",
       "\u001b[90m     @\u001b[39m \u001b[90mC:\\Users\\IIT BBSR\\.julia\\packages\\Gridap\\JD3zW\\src\\ReferenceFEs\\\u001b[39m\u001b[90m\u001b[4mReferenceFEInterfaces.jl:39\u001b[24m\u001b[39m\n",
       " [16] ReferenceFE(\u001b[90mbasis\u001b[39m::\u001b[1mReferenceFEName\u001b[22m, \u001b[90margs...\u001b[39m; kwargs...)\n",
       "\u001b[90m     @\u001b[39m \u001b[90mC:\\Users\\IIT BBSR\\.julia\\packages\\Gridap\\JD3zW\\src\\ReferenceFEs\\\u001b[39m\u001b[90m\u001b[4mReferenceFEInterfaces.jl:45\u001b[24m\u001b[39m"
      ]
     },
     "metadata": {},
     "output_type": "display_data"
    }
   ],
   "source": [
    "using Gridap.ReferenceFEs\n",
    "@which ReferenceFE\n",
    "methods(ReferenceFE)"
   ]
  },
  {
   "cell_type": "code",
   "execution_count": null,
   "id": "f0f07b11",
   "metadata": {},
   "outputs": [
    {
     "data": {
      "text/html": [
       "# 16 methods for type constructor:<ul><li> TrialFESpace(a::<b>GridapSolvers.MultilevelTools.FESpaceHierarchyLevel</b>, args...; <i>kwargs...</i>) in GridapSolvers.MultilevelTools at <a href=\"file://C:/Users/IIT BBSR/.julia/packages/GridapSolvers/gwyZl/src/MultilevelTools/FESpaceHierarchies.jl\" target=\"_blank\">C:\\Users\\IIT BBSR\\.julia\\packages\\GridapSolvers\\gwyZl\\src\\MultilevelTools\\FESpaceHierarchies.jl:51</a></li> <li> TrialFESpace(fun, f::<b>GridapDistributed.DistributedSingleFieldFESpace</b>) in GridapDistributed at <a href=\"file://C:/Users/IIT BBSR/.julia/packages/GridapDistributed/XNMqm/src/FESpaces.jl\" target=\"_blank\">C:\\Users\\IIT BBSR\\.julia\\packages\\GridapDistributed\\XNMqm\\src\\FESpaces.jl:403</a></li> <li> TrialFESpace(space::<b>SingleFieldFESpace</b>, objects) in Gridap.FESpaces at <a href=\"file://C:/Users/IIT BBSR/.julia/packages/Gridap/JD3zW/src/FESpaces/TrialFESpaces.jl\" target=\"_blank\">C:\\Users\\IIT BBSR\\.julia\\packages\\Gridap\\JD3zW\\src\\FESpaces\\TrialFESpaces.jl:18</a></li> <li> TrialFESpace(objects, a::<b>GridapDistributed.DistributedMultiFieldFESpace</b>) in GridapDistributed at <a href=\"file://C:/Users/IIT BBSR/.julia/packages/GridapDistributed/XNMqm/src/MultiField.jl\" target=\"_blank\">C:\\Users\\IIT BBSR\\.julia\\packages\\GridapDistributed\\XNMqm\\src\\MultiField.jl:246</a></li> <li> TrialFESpace(a::<b>GridapDistributed.DistributedMultiFieldFESpace{MS}</b>, objects)<i> where MS</i> in GridapDistributed at <a href=\"file://C:/Users/IIT BBSR/.julia/packages/GridapDistributed/XNMqm/src/MultiField.jl\" target=\"_blank\">C:\\Users\\IIT BBSR\\.julia\\packages\\GridapDistributed\\XNMqm\\src\\MultiField.jl:250</a></li> <li> TrialFESpace(sh::<b>FESpaceHierarchy</b>, u) in GridapSolvers.MultilevelTools at <a href=\"file://C:/Users/IIT BBSR/.julia/packages/GridapSolvers/gwyZl/src/MultilevelTools/FESpaceHierarchies.jl\" target=\"_blank\">C:\\Users\\IIT BBSR\\.julia\\packages\\GridapSolvers\\gwyZl\\src\\MultilevelTools\\FESpaceHierarchies.jl:74</a></li> <li> TrialFESpace(dirichlet_values::<b>AbstractVector</b>, space::<b>SingleFieldFESpace</b>) in Gridap.FESpaces at <a href=\"file://C:/Users/IIT BBSR/.julia/packages/Gridap/JD3zW/src/FESpaces/TrialFESpaces.jl\" target=\"_blank\">C:\\Users\\IIT BBSR\\.julia\\packages\\Gridap\\JD3zW\\src\\FESpaces\\TrialFESpaces.jl:5</a></li> <li> TrialFESpace(f::<b>GridapDistributed.DistributedSingleFieldFESpace</b>, fun) in GridapDistributed at <a href=\"file://C:/Users/IIT BBSR/.julia/packages/GridapDistributed/XNMqm/src/FESpaces.jl\" target=\"_blank\">C:\\Users\\IIT BBSR\\.julia\\packages\\GridapDistributed\\XNMqm\\src\\FESpaces.jl:396</a></li> <li> TrialFESpace(f::<b>ZeroMeanFESpace</b>) in Gridap.FESpaces at <a href=\"file://C:/Users/IIT BBSR/.julia/packages/Gridap/JD3zW/src/FESpaces/ZeroMeanFESpaces.jl\" target=\"_blank\">C:\\Users\\IIT BBSR\\.julia\\packages\\Gridap\\JD3zW\\src\\FESpaces\\ZeroMeanFESpaces.jl:24</a></li> <li> TrialFESpace(f::<b>FESpaceWithConstantFixed{CA}</b>)<i> where CA</i> in Gridap.FESpaces at <a href=\"file://C:/Users/IIT BBSR/.julia/packages/Gridap/JD3zW/src/FESpaces/FESpacesWithConstantFixed.jl\" target=\"_blank\">C:\\Users\\IIT BBSR\\.julia\\packages\\Gridap\\JD3zW\\src\\FESpaces\\FESpacesWithConstantFixed.jl:93</a></li> <li> TrialFESpace(f::<b>DirichletFESpace</b>) in Gridap.FESpaces at <a href=\"file://C:/Users/IIT BBSR/.julia/packages/Gridap/JD3zW/src/FESpaces/DirichletFESpaces.jl\" target=\"_blank\">C:\\Users\\IIT BBSR\\.julia\\packages\\Gridap\\JD3zW\\src\\FESpaces\\DirichletFESpaces.jl:55</a></li> <li> TrialFESpace(f::<b>ConstantFESpace</b>) in Gridap.FESpaces at <a href=\"file://C:/Users/IIT BBSR/.julia/packages/Gridap/JD3zW/src/FESpaces/ConstantFESpaces.jl\" target=\"_blank\">C:\\Users\\IIT BBSR\\.julia\\packages\\Gridap\\JD3zW\\src\\FESpaces\\ConstantFESpaces.jl:87</a></li> <li> TrialFESpace(space::<b>SingleFieldFESpace</b>) in Gridap.FESpaces at <a href=\"file://C:/Users/IIT BBSR/.julia/packages/Gridap/JD3zW/src/FESpaces/TrialFESpaces.jl\" target=\"_blank\">C:\\Users\\IIT BBSR\\.julia\\packages\\Gridap\\JD3zW\\src\\FESpaces\\TrialFESpaces.jl:12</a></li> <li> TrialFESpace(f::<b>Function</b>, space::<b>SingleFieldFESpace</b>) in Gridap.FESpaces at <a href=\"file://C:/Users/IIT BBSR/.julia/packages/Gridap/JD3zW/src/FESpaces/TrialFESpaces.jl\" target=\"_blank\">C:\\Users\\IIT BBSR\\.julia\\packages\\Gridap\\JD3zW\\src\\FESpaces\\TrialFESpaces.jl:42</a></li> <li> TrialFESpace(sh::<b>FESpaceHierarchy</b>) in GridapSolvers.MultilevelTools at <a href=\"file://C:/Users/IIT BBSR/.julia/packages/GridapSolvers/gwyZl/src/MultilevelTools/FESpaceHierarchies.jl\" target=\"_blank\">C:\\Users\\IIT BBSR\\.julia\\packages\\GridapSolvers\\gwyZl\\src\\MultilevelTools\\FESpaceHierarchies.jl:80</a></li> <li> TrialFESpace(f::<b>GridapDistributed.DistributedSingleFieldFESpace</b>) in GridapDistributed at <a href=\"file://C:/Users/IIT BBSR/.julia/packages/GridapDistributed/XNMqm/src/FESpaces.jl\" target=\"_blank\">C:\\Users\\IIT BBSR\\.julia\\packages\\GridapDistributed\\XNMqm\\src\\FESpaces.jl:391</a></li> </ul>"
      ],
      "text/plain": [
       "# 16 methods for type constructor:\n",
       "  [1] TrialFESpace(\u001b[90ma\u001b[39m::\u001b[1mGridapSolvers.MultilevelTools.FESpaceHierarchyLevel\u001b[22m, \u001b[90margs...\u001b[39m; kwargs...)\n",
       "\u001b[90m     @\u001b[39m \u001b[35mGridapSolvers.MultilevelTools\u001b[39m \u001b[90mC:\\Users\\IIT BBSR\\.julia\\packages\\GridapSolvers\\gwyZl\\src\\MultilevelTools\\\u001b[39m\u001b[90m\u001b[4mFESpaceHierarchies.jl:51\u001b[24m\u001b[39m\n",
       "  [2] TrialFESpace(\u001b[90mfun\u001b[39m, \u001b[90mf\u001b[39m::\u001b[1mGridapDistributed.DistributedSingleFieldFESpace\u001b[22m)\n",
       "\u001b[90m     @\u001b[39m \u001b[36mGridapDistributed\u001b[39m \u001b[90mC:\\Users\\IIT BBSR\\.julia\\packages\\GridapDistributed\\XNMqm\\src\\\u001b[39m\u001b[90m\u001b[4mFESpaces.jl:403\u001b[24m\u001b[39m\n",
       "  [3] TrialFESpace(\u001b[90mspace\u001b[39m::\u001b[1mSingleFieldFESpace\u001b[22m, \u001b[90mobjects\u001b[39m)\n",
       "\u001b[90m     @\u001b[39m \u001b[90mC:\\Users\\IIT BBSR\\.julia\\packages\\Gridap\\JD3zW\\src\\FESpaces\\\u001b[39m\u001b[90m\u001b[4mTrialFESpaces.jl:18\u001b[24m\u001b[39m\n",
       "  [4] TrialFESpace(\u001b[90mobjects\u001b[39m, \u001b[90ma\u001b[39m::\u001b[1mGridapDistributed.DistributedMultiFieldFESpace\u001b[22m)\n",
       "\u001b[90m     @\u001b[39m \u001b[36mGridapDistributed\u001b[39m \u001b[90mC:\\Users\\IIT BBSR\\.julia\\packages\\GridapDistributed\\XNMqm\\src\\\u001b[39m\u001b[90m\u001b[4mMultiField.jl:246\u001b[24m\u001b[39m\n",
       "  [5] TrialFESpace(\u001b[90ma\u001b[39m::\u001b[1mGridapDistributed.DistributedMultiFieldFESpace\u001b[22m\u001b[0m{MS}, \u001b[90mobjects\u001b[39m) where MS\n",
       "\u001b[90m     @\u001b[39m \u001b[36mGridapDistributed\u001b[39m \u001b[90mC:\\Users\\IIT BBSR\\.julia\\packages\\GridapDistributed\\XNMqm\\src\\\u001b[39m\u001b[90m\u001b[4mMultiField.jl:250\u001b[24m\u001b[39m\n",
       "  [6] TrialFESpace(\u001b[90msh\u001b[39m::\u001b[1mFESpaceHierarchy\u001b[22m, \u001b[90mu\u001b[39m)\n",
       "\u001b[90m     @\u001b[39m \u001b[35mGridapSolvers.MultilevelTools\u001b[39m \u001b[90mC:\\Users\\IIT BBSR\\.julia\\packages\\GridapSolvers\\gwyZl\\src\\MultilevelTools\\\u001b[39m\u001b[90m\u001b[4mFESpaceHierarchies.jl:74\u001b[24m\u001b[39m\n",
       "  [7] TrialFESpace(\u001b[90mdirichlet_values\u001b[39m::\u001b[1mAbstractVector\u001b[22m, \u001b[90mspace\u001b[39m::\u001b[1mSingleFieldFESpace\u001b[22m)\n",
       "\u001b[90m     @\u001b[39m \u001b[90mC:\\Users\\IIT BBSR\\.julia\\packages\\Gridap\\JD3zW\\src\\FESpaces\\\u001b[39m\u001b[90m\u001b[4mTrialFESpaces.jl:5\u001b[24m\u001b[39m\n",
       "  [8] TrialFESpace(\u001b[90mf\u001b[39m::\u001b[1mGridapDistributed.DistributedSingleFieldFESpace\u001b[22m, \u001b[90mfun\u001b[39m)\n",
       "\u001b[90m     @\u001b[39m \u001b[36mGridapDistributed\u001b[39m \u001b[90mC:\\Users\\IIT BBSR\\.julia\\packages\\GridapDistributed\\XNMqm\\src\\\u001b[39m\u001b[90m\u001b[4mFESpaces.jl:396\u001b[24m\u001b[39m\n",
       "  [9] TrialFESpace(\u001b[90mf\u001b[39m::\u001b[1mZeroMeanFESpace\u001b[22m)\n",
       "\u001b[90m     @\u001b[39m \u001b[90mC:\\Users\\IIT BBSR\\.julia\\packages\\Gridap\\JD3zW\\src\\FESpaces\\\u001b[39m\u001b[90m\u001b[4mZeroMeanFESpaces.jl:24\u001b[24m\u001b[39m\n",
       " [10] TrialFESpace(\u001b[90mf\u001b[39m::\u001b[1mFESpaceWithConstantFixed\u001b[22m\u001b[0m{CA}) where CA\n",
       "\u001b[90m     @\u001b[39m \u001b[90mC:\\Users\\IIT BBSR\\.julia\\packages\\Gridap\\JD3zW\\src\\FESpaces\\\u001b[39m\u001b[90m\u001b[4mFESpacesWithConstantFixed.jl:93\u001b[24m\u001b[39m\n",
       " [11] TrialFESpace(\u001b[90mf\u001b[39m::\u001b[1mDirichletFESpace\u001b[22m)\n",
       "\u001b[90m     @\u001b[39m \u001b[90mC:\\Users\\IIT BBSR\\.julia\\packages\\Gridap\\JD3zW\\src\\FESpaces\\\u001b[39m\u001b[90m\u001b[4mDirichletFESpaces.jl:55\u001b[24m\u001b[39m\n",
       " [12] TrialFESpace(\u001b[90mf\u001b[39m::\u001b[1mConstantFESpace\u001b[22m)\n",
       "\u001b[90m     @\u001b[39m \u001b[90mC:\\Users\\IIT BBSR\\.julia\\packages\\Gridap\\JD3zW\\src\\FESpaces\\\u001b[39m\u001b[90m\u001b[4mConstantFESpaces.jl:87\u001b[24m\u001b[39m\n",
       " [13] TrialFESpace(\u001b[90mspace\u001b[39m::\u001b[1mSingleFieldFESpace\u001b[22m)\n",
       "\u001b[90m     @\u001b[39m \u001b[90mC:\\Users\\IIT BBSR\\.julia\\packages\\Gridap\\JD3zW\\src\\FESpaces\\\u001b[39m\u001b[90m\u001b[4mTrialFESpaces.jl:12\u001b[24m\u001b[39m\n",
       " [14] TrialFESpace(\u001b[90mf\u001b[39m::\u001b[1mFunction\u001b[22m, \u001b[90mspace\u001b[39m::\u001b[1mSingleFieldFESpace\u001b[22m)\n",
       "\u001b[90m     @\u001b[39m \u001b[90mC:\\Users\\IIT BBSR\\.julia\\packages\\Gridap\\JD3zW\\src\\FESpaces\\\u001b[39m\u001b[90m\u001b[4mTrialFESpaces.jl:42\u001b[24m\u001b[39m\n",
       " [15] TrialFESpace(\u001b[90msh\u001b[39m::\u001b[1mFESpaceHierarchy\u001b[22m)\n",
       "\u001b[90m     @\u001b[39m \u001b[35mGridapSolvers.MultilevelTools\u001b[39m \u001b[90mC:\\Users\\IIT BBSR\\.julia\\packages\\GridapSolvers\\gwyZl\\src\\MultilevelTools\\\u001b[39m\u001b[90m\u001b[4mFESpaceHierarchies.jl:80\u001b[24m\u001b[39m\n",
       " [16] TrialFESpace(\u001b[90mf\u001b[39m::\u001b[1mGridapDistributed.DistributedSingleFieldFESpace\u001b[22m)\n",
       "\u001b[90m     @\u001b[39m \u001b[36mGridapDistributed\u001b[39m \u001b[90mC:\\Users\\IIT BBSR\\.julia\\packages\\GridapDistributed\\XNMqm\\src\\\u001b[39m\u001b[90m\u001b[4mFESpaces.jl:391\u001b[24m\u001b[39m"
      ]
     },
     "metadata": {},
     "output_type": "display_data"
    }
   ],
   "source": [
    "using Gridap.FESpaces\n",
    "@which TestFESpace\n",
    "methods(TestFESpace)"
   ]
  },
  {
   "cell_type": "code",
   "execution_count": null,
   "id": "e5000dc1",
   "metadata": {},
   "outputs": [
    {
     "data": {
      "text/html": [
       "# 16 methods for type constructor:<ul><li> TrialFESpace(a::<b>GridapSolvers.MultilevelTools.FESpaceHierarchyLevel</b>, args...; <i>kwargs...</i>) in GridapSolvers.MultilevelTools at <a href=\"file://C:/Users/IIT BBSR/.julia/packages/GridapSolvers/gwyZl/src/MultilevelTools/FESpaceHierarchies.jl\" target=\"_blank\">C:\\Users\\IIT BBSR\\.julia\\packages\\GridapSolvers\\gwyZl\\src\\MultilevelTools\\FESpaceHierarchies.jl:51</a></li> <li> TrialFESpace(fun, f::<b>GridapDistributed.DistributedSingleFieldFESpace</b>) in GridapDistributed at <a href=\"file://C:/Users/IIT BBSR/.julia/packages/GridapDistributed/XNMqm/src/FESpaces.jl\" target=\"_blank\">C:\\Users\\IIT BBSR\\.julia\\packages\\GridapDistributed\\XNMqm\\src\\FESpaces.jl:403</a></li> <li> TrialFESpace(space::<b>SingleFieldFESpace</b>, objects) in Gridap.FESpaces at <a href=\"file://C:/Users/IIT BBSR/.julia/packages/Gridap/JD3zW/src/FESpaces/TrialFESpaces.jl\" target=\"_blank\">C:\\Users\\IIT BBSR\\.julia\\packages\\Gridap\\JD3zW\\src\\FESpaces\\TrialFESpaces.jl:18</a></li> <li> TrialFESpace(objects, a::<b>GridapDistributed.DistributedMultiFieldFESpace</b>) in GridapDistributed at <a href=\"file://C:/Users/IIT BBSR/.julia/packages/GridapDistributed/XNMqm/src/MultiField.jl\" target=\"_blank\">C:\\Users\\IIT BBSR\\.julia\\packages\\GridapDistributed\\XNMqm\\src\\MultiField.jl:246</a></li> <li> TrialFESpace(a::<b>GridapDistributed.DistributedMultiFieldFESpace{MS}</b>, objects)<i> where MS</i> in GridapDistributed at <a href=\"file://C:/Users/IIT BBSR/.julia/packages/GridapDistributed/XNMqm/src/MultiField.jl\" target=\"_blank\">C:\\Users\\IIT BBSR\\.julia\\packages\\GridapDistributed\\XNMqm\\src\\MultiField.jl:250</a></li> <li> TrialFESpace(sh::<b>FESpaceHierarchy</b>, u) in GridapSolvers.MultilevelTools at <a href=\"file://C:/Users/IIT BBSR/.julia/packages/GridapSolvers/gwyZl/src/MultilevelTools/FESpaceHierarchies.jl\" target=\"_blank\">C:\\Users\\IIT BBSR\\.julia\\packages\\GridapSolvers\\gwyZl\\src\\MultilevelTools\\FESpaceHierarchies.jl:74</a></li> <li> TrialFESpace(dirichlet_values::<b>AbstractVector</b>, space::<b>SingleFieldFESpace</b>) in Gridap.FESpaces at <a href=\"file://C:/Users/IIT BBSR/.julia/packages/Gridap/JD3zW/src/FESpaces/TrialFESpaces.jl\" target=\"_blank\">C:\\Users\\IIT BBSR\\.julia\\packages\\Gridap\\JD3zW\\src\\FESpaces\\TrialFESpaces.jl:5</a></li> <li> TrialFESpace(f::<b>GridapDistributed.DistributedSingleFieldFESpace</b>, fun) in GridapDistributed at <a href=\"file://C:/Users/IIT BBSR/.julia/packages/GridapDistributed/XNMqm/src/FESpaces.jl\" target=\"_blank\">C:\\Users\\IIT BBSR\\.julia\\packages\\GridapDistributed\\XNMqm\\src\\FESpaces.jl:396</a></li> <li> TrialFESpace(f::<b>ZeroMeanFESpace</b>) in Gridap.FESpaces at <a href=\"file://C:/Users/IIT BBSR/.julia/packages/Gridap/JD3zW/src/FESpaces/ZeroMeanFESpaces.jl\" target=\"_blank\">C:\\Users\\IIT BBSR\\.julia\\packages\\Gridap\\JD3zW\\src\\FESpaces\\ZeroMeanFESpaces.jl:24</a></li> <li> TrialFESpace(f::<b>FESpaceWithConstantFixed{CA}</b>)<i> where CA</i> in Gridap.FESpaces at <a href=\"file://C:/Users/IIT BBSR/.julia/packages/Gridap/JD3zW/src/FESpaces/FESpacesWithConstantFixed.jl\" target=\"_blank\">C:\\Users\\IIT BBSR\\.julia\\packages\\Gridap\\JD3zW\\src\\FESpaces\\FESpacesWithConstantFixed.jl:93</a></li> <li> TrialFESpace(f::<b>DirichletFESpace</b>) in Gridap.FESpaces at <a href=\"file://C:/Users/IIT BBSR/.julia/packages/Gridap/JD3zW/src/FESpaces/DirichletFESpaces.jl\" target=\"_blank\">C:\\Users\\IIT BBSR\\.julia\\packages\\Gridap\\JD3zW\\src\\FESpaces\\DirichletFESpaces.jl:55</a></li> <li> TrialFESpace(f::<b>ConstantFESpace</b>) in Gridap.FESpaces at <a href=\"file://C:/Users/IIT BBSR/.julia/packages/Gridap/JD3zW/src/FESpaces/ConstantFESpaces.jl\" target=\"_blank\">C:\\Users\\IIT BBSR\\.julia\\packages\\Gridap\\JD3zW\\src\\FESpaces\\ConstantFESpaces.jl:87</a></li> <li> TrialFESpace(space::<b>SingleFieldFESpace</b>) in Gridap.FESpaces at <a href=\"file://C:/Users/IIT BBSR/.julia/packages/Gridap/JD3zW/src/FESpaces/TrialFESpaces.jl\" target=\"_blank\">C:\\Users\\IIT BBSR\\.julia\\packages\\Gridap\\JD3zW\\src\\FESpaces\\TrialFESpaces.jl:12</a></li> <li> TrialFESpace(f::<b>Function</b>, space::<b>SingleFieldFESpace</b>) in Gridap.FESpaces at <a href=\"file://C:/Users/IIT BBSR/.julia/packages/Gridap/JD3zW/src/FESpaces/TrialFESpaces.jl\" target=\"_blank\">C:\\Users\\IIT BBSR\\.julia\\packages\\Gridap\\JD3zW\\src\\FESpaces\\TrialFESpaces.jl:42</a></li> <li> TrialFESpace(sh::<b>FESpaceHierarchy</b>) in GridapSolvers.MultilevelTools at <a href=\"file://C:/Users/IIT BBSR/.julia/packages/GridapSolvers/gwyZl/src/MultilevelTools/FESpaceHierarchies.jl\" target=\"_blank\">C:\\Users\\IIT BBSR\\.julia\\packages\\GridapSolvers\\gwyZl\\src\\MultilevelTools\\FESpaceHierarchies.jl:80</a></li> <li> TrialFESpace(f::<b>GridapDistributed.DistributedSingleFieldFESpace</b>) in GridapDistributed at <a href=\"file://C:/Users/IIT BBSR/.julia/packages/GridapDistributed/XNMqm/src/FESpaces.jl\" target=\"_blank\">C:\\Users\\IIT BBSR\\.julia\\packages\\GridapDistributed\\XNMqm\\src\\FESpaces.jl:391</a></li> </ul>"
      ],
      "text/plain": [
       "# 16 methods for type constructor:\n",
       "  [1] TrialFESpace(\u001b[90ma\u001b[39m::\u001b[1mGridapSolvers.MultilevelTools.FESpaceHierarchyLevel\u001b[22m, \u001b[90margs...\u001b[39m; kwargs...)\n",
       "\u001b[90m     @\u001b[39m \u001b[35mGridapSolvers.MultilevelTools\u001b[39m \u001b[90mC:\\Users\\IIT BBSR\\.julia\\packages\\GridapSolvers\\gwyZl\\src\\MultilevelTools\\\u001b[39m\u001b[90m\u001b[4mFESpaceHierarchies.jl:51\u001b[24m\u001b[39m\n",
       "  [2] TrialFESpace(\u001b[90mfun\u001b[39m, \u001b[90mf\u001b[39m::\u001b[1mGridapDistributed.DistributedSingleFieldFESpace\u001b[22m)\n",
       "\u001b[90m     @\u001b[39m \u001b[36mGridapDistributed\u001b[39m \u001b[90mC:\\Users\\IIT BBSR\\.julia\\packages\\GridapDistributed\\XNMqm\\src\\\u001b[39m\u001b[90m\u001b[4mFESpaces.jl:403\u001b[24m\u001b[39m\n",
       "  [3] TrialFESpace(\u001b[90mspace\u001b[39m::\u001b[1mSingleFieldFESpace\u001b[22m, \u001b[90mobjects\u001b[39m)\n",
       "\u001b[90m     @\u001b[39m \u001b[90mC:\\Users\\IIT BBSR\\.julia\\packages\\Gridap\\JD3zW\\src\\FESpaces\\\u001b[39m\u001b[90m\u001b[4mTrialFESpaces.jl:18\u001b[24m\u001b[39m\n",
       "  [4] TrialFESpace(\u001b[90mobjects\u001b[39m, \u001b[90ma\u001b[39m::\u001b[1mGridapDistributed.DistributedMultiFieldFESpace\u001b[22m)\n",
       "\u001b[90m     @\u001b[39m \u001b[36mGridapDistributed\u001b[39m \u001b[90mC:\\Users\\IIT BBSR\\.julia\\packages\\GridapDistributed\\XNMqm\\src\\\u001b[39m\u001b[90m\u001b[4mMultiField.jl:246\u001b[24m\u001b[39m\n",
       "  [5] TrialFESpace(\u001b[90ma\u001b[39m::\u001b[1mGridapDistributed.DistributedMultiFieldFESpace\u001b[22m\u001b[0m{MS}, \u001b[90mobjects\u001b[39m) where MS\n",
       "\u001b[90m     @\u001b[39m \u001b[36mGridapDistributed\u001b[39m \u001b[90mC:\\Users\\IIT BBSR\\.julia\\packages\\GridapDistributed\\XNMqm\\src\\\u001b[39m\u001b[90m\u001b[4mMultiField.jl:250\u001b[24m\u001b[39m\n",
       "  [6] TrialFESpace(\u001b[90msh\u001b[39m::\u001b[1mFESpaceHierarchy\u001b[22m, \u001b[90mu\u001b[39m)\n",
       "\u001b[90m     @\u001b[39m \u001b[35mGridapSolvers.MultilevelTools\u001b[39m \u001b[90mC:\\Users\\IIT BBSR\\.julia\\packages\\GridapSolvers\\gwyZl\\src\\MultilevelTools\\\u001b[39m\u001b[90m\u001b[4mFESpaceHierarchies.jl:74\u001b[24m\u001b[39m\n",
       "  [7] TrialFESpace(\u001b[90mdirichlet_values\u001b[39m::\u001b[1mAbstractVector\u001b[22m, \u001b[90mspace\u001b[39m::\u001b[1mSingleFieldFESpace\u001b[22m)\n",
       "\u001b[90m     @\u001b[39m \u001b[90mC:\\Users\\IIT BBSR\\.julia\\packages\\Gridap\\JD3zW\\src\\FESpaces\\\u001b[39m\u001b[90m\u001b[4mTrialFESpaces.jl:5\u001b[24m\u001b[39m\n",
       "  [8] TrialFESpace(\u001b[90mf\u001b[39m::\u001b[1mGridapDistributed.DistributedSingleFieldFESpace\u001b[22m, \u001b[90mfun\u001b[39m)\n",
       "\u001b[90m     @\u001b[39m \u001b[36mGridapDistributed\u001b[39m \u001b[90mC:\\Users\\IIT BBSR\\.julia\\packages\\GridapDistributed\\XNMqm\\src\\\u001b[39m\u001b[90m\u001b[4mFESpaces.jl:396\u001b[24m\u001b[39m\n",
       "  [9] TrialFESpace(\u001b[90mf\u001b[39m::\u001b[1mZeroMeanFESpace\u001b[22m)\n",
       "\u001b[90m     @\u001b[39m \u001b[90mC:\\Users\\IIT BBSR\\.julia\\packages\\Gridap\\JD3zW\\src\\FESpaces\\\u001b[39m\u001b[90m\u001b[4mZeroMeanFESpaces.jl:24\u001b[24m\u001b[39m\n",
       " [10] TrialFESpace(\u001b[90mf\u001b[39m::\u001b[1mFESpaceWithConstantFixed\u001b[22m\u001b[0m{CA}) where CA\n",
       "\u001b[90m     @\u001b[39m \u001b[90mC:\\Users\\IIT BBSR\\.julia\\packages\\Gridap\\JD3zW\\src\\FESpaces\\\u001b[39m\u001b[90m\u001b[4mFESpacesWithConstantFixed.jl:93\u001b[24m\u001b[39m\n",
       " [11] TrialFESpace(\u001b[90mf\u001b[39m::\u001b[1mDirichletFESpace\u001b[22m)\n",
       "\u001b[90m     @\u001b[39m \u001b[90mC:\\Users\\IIT BBSR\\.julia\\packages\\Gridap\\JD3zW\\src\\FESpaces\\\u001b[39m\u001b[90m\u001b[4mDirichletFESpaces.jl:55\u001b[24m\u001b[39m\n",
       " [12] TrialFESpace(\u001b[90mf\u001b[39m::\u001b[1mConstantFESpace\u001b[22m)\n",
       "\u001b[90m     @\u001b[39m \u001b[90mC:\\Users\\IIT BBSR\\.julia\\packages\\Gridap\\JD3zW\\src\\FESpaces\\\u001b[39m\u001b[90m\u001b[4mConstantFESpaces.jl:87\u001b[24m\u001b[39m\n",
       " [13] TrialFESpace(\u001b[90mspace\u001b[39m::\u001b[1mSingleFieldFESpace\u001b[22m)\n",
       "\u001b[90m     @\u001b[39m \u001b[90mC:\\Users\\IIT BBSR\\.julia\\packages\\Gridap\\JD3zW\\src\\FESpaces\\\u001b[39m\u001b[90m\u001b[4mTrialFESpaces.jl:12\u001b[24m\u001b[39m\n",
       " [14] TrialFESpace(\u001b[90mf\u001b[39m::\u001b[1mFunction\u001b[22m, \u001b[90mspace\u001b[39m::\u001b[1mSingleFieldFESpace\u001b[22m)\n",
       "\u001b[90m     @\u001b[39m \u001b[90mC:\\Users\\IIT BBSR\\.julia\\packages\\Gridap\\JD3zW\\src\\FESpaces\\\u001b[39m\u001b[90m\u001b[4mTrialFESpaces.jl:42\u001b[24m\u001b[39m\n",
       " [15] TrialFESpace(\u001b[90msh\u001b[39m::\u001b[1mFESpaceHierarchy\u001b[22m)\n",
       "\u001b[90m     @\u001b[39m \u001b[35mGridapSolvers.MultilevelTools\u001b[39m \u001b[90mC:\\Users\\IIT BBSR\\.julia\\packages\\GridapSolvers\\gwyZl\\src\\MultilevelTools\\\u001b[39m\u001b[90m\u001b[4mFESpaceHierarchies.jl:80\u001b[24m\u001b[39m\n",
       " [16] TrialFESpace(\u001b[90mf\u001b[39m::\u001b[1mGridapDistributed.DistributedSingleFieldFESpace\u001b[22m)\n",
       "\u001b[90m     @\u001b[39m \u001b[36mGridapDistributed\u001b[39m \u001b[90mC:\\Users\\IIT BBSR\\.julia\\packages\\GridapDistributed\\XNMqm\\src\\\u001b[39m\u001b[90m\u001b[4mFESpaces.jl:391\u001b[24m\u001b[39m"
      ]
     },
     "metadata": {},
     "output_type": "display_data"
    }
   ],
   "source": [
    "using Gridap.FESpaces\n",
    "@which TrialFESpace\n",
    "methods(TrialFESpace)"
   ]
  },
  {
   "cell_type": "code",
   "execution_count": 12,
   "id": "eed46048",
   "metadata": {},
   "outputs": [
    {
     "data": {
      "text/html": [
       "# 4 methods for generic function <b>interpolate</b> from \u001b[32mGridap.FESpaces\u001b[39m:<ul><li> interpolate(u, f::<b>GridapDistributed.DistributedSingleFieldFESpace</b>) in GridapDistributed at <a href=\"file://C:/Users/IIT BBSR/.julia/packages/GridapDistributed/XNMqm/src/FESpaces.jl\" target=\"_blank\">C:\\Users\\IIT BBSR\\.julia\\packages\\GridapDistributed\\XNMqm\\src\\FESpaces.jl:444</a></li> <li> interpolate(objects, space::<b>GridapDistributed.DistributedMultiFieldFESpace</b>) in GridapDistributed at <a href=\"file://C:/Users/IIT BBSR/.julia/packages/GridapDistributed/XNMqm/src/MultiField.jl\" target=\"_blank\">C:\\Users\\IIT BBSR\\.julia\\packages\\GridapDistributed\\XNMqm\\src\\MultiField.jl:185</a></li> <li> interpolate(objects, fe::<b>MultiFieldFESpace</b>) in Gridap.MultiField at <a href=\"file://C:/Users/IIT BBSR/.julia/packages/Gridap/JD3zW/src/MultiField/MultiFieldFESpaces.jl\" target=\"_blank\">C:\\Users\\IIT BBSR\\.julia\\packages\\Gridap\\JD3zW\\src\\MultiField\\MultiFieldFESpaces.jl:616</a></li> <li> interpolate(object, fs::<b>SingleFieldFESpace</b>) in Gridap.FESpaces at <a href=\"file://C:/Users/IIT BBSR/.julia/packages/Gridap/JD3zW/src/FESpaces/SingleFieldFESpaces.jl\" target=\"_blank\">C:\\Users\\IIT BBSR\\.julia\\packages\\Gridap\\JD3zW\\src\\FESpaces\\SingleFieldFESpaces.jl:179</a></li> </ul>"
      ],
      "text/plain": [
       "# 4 methods for generic function \"interpolate\" from \u001b[32mGridap.FESpaces\u001b[39m:\n",
       " [1] interpolate(\u001b[90mu\u001b[39m, \u001b[90mf\u001b[39m::\u001b[1mGridapDistributed.DistributedSingleFieldFESpace\u001b[22m)\n",
       "\u001b[90m     @\u001b[39m \u001b[36mGridapDistributed\u001b[39m \u001b[90mC:\\Users\\IIT BBSR\\.julia\\packages\\GridapDistributed\\XNMqm\\src\\\u001b[39m\u001b[90m\u001b[4mFESpaces.jl:444\u001b[24m\u001b[39m\n",
       " [2] interpolate(\u001b[90mobjects\u001b[39m, \u001b[90mspace\u001b[39m::\u001b[1mGridapDistributed.DistributedMultiFieldFESpace\u001b[22m)\n",
       "\u001b[90m     @\u001b[39m \u001b[36mGridapDistributed\u001b[39m \u001b[90mC:\\Users\\IIT BBSR\\.julia\\packages\\GridapDistributed\\XNMqm\\src\\\u001b[39m\u001b[90m\u001b[4mMultiField.jl:185\u001b[24m\u001b[39m\n",
       " [3] interpolate(\u001b[90mobjects\u001b[39m, \u001b[90mfe\u001b[39m::\u001b[1mMultiFieldFESpace\u001b[22m)\n",
       "\u001b[90m     @\u001b[39m \u001b[32mGridap.MultiField\u001b[39m \u001b[90mC:\\Users\\IIT BBSR\\.julia\\packages\\Gridap\\JD3zW\\src\\MultiField\\\u001b[39m\u001b[90m\u001b[4mMultiFieldFESpaces.jl:616\u001b[24m\u001b[39m\n",
       " [4] interpolate(\u001b[90mobject\u001b[39m, \u001b[90mfs\u001b[39m::\u001b[1mSingleFieldFESpace\u001b[22m)\n",
       "\u001b[90m     @\u001b[39m \u001b[90mC:\\Users\\IIT BBSR\\.julia\\packages\\Gridap\\JD3zW\\src\\FESpaces\\\u001b[39m\u001b[90m\u001b[4mSingleFieldFESpaces.jl:179\u001b[24m\u001b[39m"
      ]
     },
     "metadata": {},
     "output_type": "display_data"
    }
   ],
   "source": [
    "using Gridap.FESpaces: interpolate\n",
    "@which interpolate\n",
    "methods(interpolate) "
   ]
  },
  {
   "cell_type": "code",
   "execution_count": 8,
   "id": "57918a69",
   "metadata": {},
   "outputs": [
    {
     "data": {
      "text/plain": [
       "Gridap.ReferenceFEs"
      ]
     },
     "metadata": {},
     "output_type": "display_data"
    }
   ],
   "source": [
    "# using \n",
    "@which lagrangian\n",
    "# methods() "
   ]
  },
  {
   "cell_type": "code",
   "execution_count": 14,
   "id": "bc4e74bb",
   "metadata": {},
   "outputs": [
    {
     "data": {
      "text/html": [
       "# 12 methods for type constructor:<ul><li> FESpace(t::<b>Triangulation</b>, reffes; <i>trian, kwargs...</i>) in Gridap.FESpaces at <a href=\"file://C:/Users/IIT BBSR/.julia/packages/Gridap/JD3zW/src/FESpaces/FESpaceFactories.jl\" target=\"_blank\">C:\\Users\\IIT BBSR\\.julia\\packages\\Gridap\\JD3zW\\src\\FESpaces\\FESpaceFactories.jl:2</a></li> <li> FESpace(mh::<b>GridapSolvers.MultilevelTools.ModelHierarchyLevel</b>, args...; <i>kwargs...</i>) in GridapSolvers.MultilevelTools at <a href=\"file://C:/Users/IIT BBSR/.julia/packages/GridapSolvers/gwyZl/src/MultilevelTools/FESpaceHierarchies.jl\" target=\"_blank\">C:\\Users\\IIT BBSR\\.julia\\packages\\GridapSolvers\\gwyZl\\src\\MultilevelTools\\FESpaceHierarchies.jl:39</a></li> <li> FESpace(model::<b>DiscreteModel</b>, reffe::<b>ReferenceFE</b>; <i>kwargs...</i>) in Gridap.FESpaces at <a href=\"file://C:/Users/IIT BBSR/.julia/packages/Gridap/JD3zW/src/FESpaces/FESpaceFactories.jl\" target=\"_blank\">C:\\Users\\IIT BBSR\\.julia\\packages\\Gridap\\JD3zW\\src\\FESpaces\\FESpaceFactories.jl:117</a></li> <li> FESpace(model::<b>DiscreteModel</b>, reffe::<b>Tuple{ReferenceFEName, Any, Any}</b>; <i>kwargs...</i>) in Gridap.FESpaces at <a href=\"file://C:/Users/IIT BBSR/.julia/packages/Gridap/JD3zW/src/FESpaces/FESpaceFactories.jl\" target=\"_blank\">C:\\Users\\IIT BBSR\\.julia\\packages\\Gridap\\JD3zW\\src\\FESpaces\\FESpaceFactories.jl:110</a></li> <li> FESpace(model::<b>DiscreteModel</b>, cell_reffe::<b>AbstractArray{<:ReferenceFE}</b>; <i>conformity, trian, labels, dirichlet_tags, dirichlet_masks, constraint, vector_type</i>) in Gridap.FESpaces at <a href=\"file://C:/Users/IIT BBSR/.julia/packages/Gridap/JD3zW/src/FESpaces/FESpaceFactories.jl\" target=\"_blank\">C:\\Users\\IIT BBSR\\.julia\\packages\\Gridap\\JD3zW\\src\\FESpaces\\FESpaceFactories.jl:65</a></li> <li> FESpace(model::<b>DiscreteModel</b>, cell_fe::<b>CellFE</b>; <i>trian, labels, dirichlet_tags, dirichlet_masks, constraint, vector_type</i>) in Gridap.FESpaces at <a href=\"file://C:/Users/IIT BBSR/.julia/packages/Gridap/JD3zW/src/FESpaces/FESpaceFactories.jl\" target=\"_blank\">C:\\Users\\IIT BBSR\\.julia\\packages\\Gridap\\JD3zW\\src\\FESpaces\\FESpaceFactories.jl:8</a></li> <li> FESpace(mh::<b>ModelHierarchy</b>, arg_vector::<b>AbstractVector</b>; <i>kwargs...</i>) in GridapSolvers.MultilevelTools at <a href=\"file://C:/Users/IIT BBSR/.julia/packages/GridapSolvers/gwyZl/src/MultilevelTools/FESpaceHierarchies.jl\" target=\"_blank\">C:\\Users\\IIT BBSR\\.julia\\packages\\GridapSolvers\\gwyZl\\src\\MultilevelTools\\FESpaceHierarchies.jl:65</a></li> <li> FESpace(mh::<b>ModelHierarchy</b>, args...; <i>kwargs...</i>) in GridapSolvers.MultilevelTools at <a href=\"file://C:/Users/IIT BBSR/.julia/packages/GridapSolvers/gwyZl/src/MultilevelTools/FESpaceHierarchies.jl\" target=\"_blank\">C:\\Users\\IIT BBSR\\.julia\\packages\\GridapSolvers\\gwyZl\\src\\MultilevelTools\\FESpaceHierarchies.jl:59</a></li> <li> FESpace(model::<b>GridapDistributed.DistributedDiscreteModel</b>, reffe::<b>Tuple{RaviartThomas, Any, Any}</b>; <i>conformity, kwargs...</i>) in GridapDistributed at <a href=\"file://C:/Users/IIT BBSR/.julia/packages/GridapDistributed/XNMqm/src/DivConformingFESpaces.jl\" target=\"_blank\">C:\\Users\\IIT BBSR\\.julia\\packages\\GridapDistributed\\XNMqm\\src\\DivConformingFESpaces.jl:2</a></li> <li> FESpace(model::<b>GridapDistributed.DistributedDiscreteModel</b>, reffe::<b>GenericRefFE{RaviartThomas}</b>; <i>conformity, kwargs...</i>) in GridapDistributed at <a href=\"file://C:/Users/IIT BBSR/.julia/packages/GridapDistributed/XNMqm/src/DivConformingFESpaces.jl\" target=\"_blank\">C:\\Users\\IIT BBSR\\.julia\\packages\\GridapDistributed\\XNMqm\\src\\DivConformingFESpaces.jl:13</a></li> <li> FESpace(model::<b>GridapDistributed.DistributedDiscreteModel</b>, reffe; <i>split_own_and_ghost, constraint, kwargs...</i>) in GridapDistributed at <a href=\"file://C:/Users/IIT BBSR/.julia/packages/GridapDistributed/XNMqm/src/FESpaces.jl\" target=\"_blank\">C:\\Users\\IIT BBSR\\.julia\\packages\\GridapDistributed\\XNMqm\\src\\FESpaces.jl:509</a></li> <li> FESpace(_trian::<b>GridapDistributed.DistributedTriangulation</b>, reffe; <i>split_own_and_ghost, constraint, kwargs...</i>) in GridapDistributed at <a href=\"file://C:/Users/IIT BBSR/.julia/packages/GridapDistributed/XNMqm/src/FESpaces.jl\" target=\"_blank\">C:\\Users\\IIT BBSR\\.julia\\packages\\GridapDistributed\\XNMqm\\src\\FESpaces.jl:522</a></li> </ul>"
      ],
      "text/plain": [
       "# 12 methods for type constructor:\n",
       "  [1] FESpace(\u001b[90mt\u001b[39m::\u001b[1mTriangulation\u001b[22m, \u001b[90mreffes\u001b[39m; trian, kwargs...)\n",
       "\u001b[90m     @\u001b[39m \u001b[90mC:\\Users\\IIT BBSR\\.julia\\packages\\Gridap\\JD3zW\\src\\FESpaces\\\u001b[39m\u001b[90m\u001b[4mFESpaceFactories.jl:2\u001b[24m\u001b[39m\n",
       "  [2] FESpace(\u001b[90mmh\u001b[39m::\u001b[1mGridapSolvers.MultilevelTools.ModelHierarchyLevel\u001b[22m, \u001b[90margs...\u001b[39m; kwargs...)\n",
       "\u001b[90m     @\u001b[39m \u001b[35mGridapSolvers.MultilevelTools\u001b[39m \u001b[90mC:\\Users\\IIT BBSR\\.julia\\packages\\GridapSolvers\\gwyZl\\src\\MultilevelTools\\\u001b[39m\u001b[90m\u001b[4mFESpaceHierarchies.jl:39\u001b[24m\u001b[39m\n",
       "  [3] FESpace(\u001b[90mmodel\u001b[39m::\u001b[1mDiscreteModel\u001b[22m, \u001b[90mreffe\u001b[39m::\u001b[1mReferenceFE\u001b[22m; kwargs...)\n",
       "\u001b[90m     @\u001b[39m \u001b[90mC:\\Users\\IIT BBSR\\.julia\\packages\\Gridap\\JD3zW\\src\\FESpaces\\\u001b[39m\u001b[90m\u001b[4mFESpaceFactories.jl:117\u001b[24m\u001b[39m\n",
       "  [4] FESpace(\u001b[90mmodel\u001b[39m::\u001b[1mDiscreteModel\u001b[22m, \u001b[90mreffe\u001b[39m::\u001b[1mTuple\u001b[22m\u001b[0m{ReferenceFEName, Any, Any}; kwargs...)\n",
       "\u001b[90m     @\u001b[39m \u001b[90mC:\\Users\\IIT BBSR\\.julia\\packages\\Gridap\\JD3zW\\src\\FESpaces\\\u001b[39m\u001b[90m\u001b[4mFESpaceFactories.jl:110\u001b[24m\u001b[39m\n",
       "  [5] FESpace(\u001b[90mmodel\u001b[39m::\u001b[1mDiscreteModel\u001b[22m, \u001b[90mcell_reffe\u001b[39m::\u001b[1mAbstractArray\u001b[22m\u001b[0m{<:ReferenceFE}; conformity, trian, labels, dirichlet_tags, dirichlet_masks, constraint, vector_type)\n",
       "\u001b[90m     @\u001b[39m \u001b[90mC:\\Users\\IIT BBSR\\.julia\\packages\\Gridap\\JD3zW\\src\\FESpaces\\\u001b[39m\u001b[90m\u001b[4mFESpaceFactories.jl:65\u001b[24m\u001b[39m\n",
       "  [6] FESpace(\u001b[90mmodel\u001b[39m::\u001b[1mDiscreteModel\u001b[22m, \u001b[90mcell_fe\u001b[39m::\u001b[1mCellFE\u001b[22m; trian, labels, dirichlet_tags, dirichlet_masks, constraint, vector_type)\n",
       "\u001b[90m     @\u001b[39m \u001b[90mC:\\Users\\IIT BBSR\\.julia\\packages\\Gridap\\JD3zW\\src\\FESpaces\\\u001b[39m\u001b[90m\u001b[4mFESpaceFactories.jl:8\u001b[24m\u001b[39m\n",
       "  [7] FESpace(\u001b[90mmh\u001b[39m::\u001b[1mModelHierarchy\u001b[22m, \u001b[90marg_vector\u001b[39m::\u001b[1mAbstractVector\u001b[22m; kwargs...)\n",
       "\u001b[90m     @\u001b[39m \u001b[35mGridapSolvers.MultilevelTools\u001b[39m \u001b[90mC:\\Users\\IIT BBSR\\.julia\\packages\\GridapSolvers\\gwyZl\\src\\MultilevelTools\\\u001b[39m\u001b[90m\u001b[4mFESpaceHierarchies.jl:65\u001b[24m\u001b[39m\n",
       "  [8] FESpace(\u001b[90mmh\u001b[39m::\u001b[1mModelHierarchy\u001b[22m, \u001b[90margs...\u001b[39m; kwargs...)\n",
       "\u001b[90m     @\u001b[39m \u001b[35mGridapSolvers.MultilevelTools\u001b[39m \u001b[90mC:\\Users\\IIT BBSR\\.julia\\packages\\GridapSolvers\\gwyZl\\src\\MultilevelTools\\\u001b[39m\u001b[90m\u001b[4mFESpaceHierarchies.jl:59\u001b[24m\u001b[39m\n",
       "  [9] FESpace(\u001b[90mmodel\u001b[39m::\u001b[1mGridapDistributed.DistributedDiscreteModel\u001b[22m, \u001b[90mreffe\u001b[39m::\u001b[1mTuple\u001b[22m\u001b[0m{RaviartThomas, Any, Any}; conformity, kwargs...)\n",
       "\u001b[90m     @\u001b[39m \u001b[36mGridapDistributed\u001b[39m \u001b[90mC:\\Users\\IIT BBSR\\.julia\\packages\\GridapDistributed\\XNMqm\\src\\\u001b[39m\u001b[90m\u001b[4mDivConformingFESpaces.jl:2\u001b[24m\u001b[39m\n",
       " [10] FESpace(\u001b[90mmodel\u001b[39m::\u001b[1mGridapDistributed.DistributedDiscreteModel\u001b[22m, \u001b[90mreffe\u001b[39m::\u001b[1mGenericRefFE\u001b[22m\u001b[0m{RaviartThomas}; conformity, kwargs...)\n",
       "\u001b[90m     @\u001b[39m \u001b[36mGridapDistributed\u001b[39m \u001b[90mC:\\Users\\IIT BBSR\\.julia\\packages\\GridapDistributed\\XNMqm\\src\\\u001b[39m\u001b[90m\u001b[4mDivConformingFESpaces.jl:13\u001b[24m\u001b[39m\n",
       " [11] FESpace(\u001b[90mmodel\u001b[39m::\u001b[1mGridapDistributed.DistributedDiscreteModel\u001b[22m, \u001b[90mreffe\u001b[39m; split_own_and_ghost, constraint, kwargs...)\n",
       "\u001b[90m     @\u001b[39m \u001b[36mGridapDistributed\u001b[39m \u001b[90mC:\\Users\\IIT BBSR\\.julia\\packages\\GridapDistributed\\XNMqm\\src\\\u001b[39m\u001b[90m\u001b[4mFESpaces.jl:509\u001b[24m\u001b[39m\n",
       " [12] FESpace(\u001b[90m_trian\u001b[39m::\u001b[1mGridapDistributed.DistributedTriangulation\u001b[22m, \u001b[90mreffe\u001b[39m; split_own_and_ghost, constraint, kwargs...)\n",
       "\u001b[90m     @\u001b[39m \u001b[36mGridapDistributed\u001b[39m \u001b[90mC:\\Users\\IIT BBSR\\.julia\\packages\\GridapDistributed\\XNMqm\\src\\\u001b[39m\u001b[90m\u001b[4mFESpaces.jl:522\u001b[24m\u001b[39m"
      ]
     },
     "metadata": {},
     "output_type": "display_data"
    }
   ],
   "source": [
    "using Gridap.FESpaces: FESpace\n",
    "@which FESpace\n",
    "methods(FESpace) "
   ]
  },
  {
   "cell_type": "code",
   "execution_count": 19,
   "id": "0bcf7d57",
   "metadata": {},
   "outputs": [
    {
     "data": {
      "text/html": [
       "# 3 methods for generic function <b>correct_ls!</b> from \u001b[33mGridapTopOpt\u001b[39m:<ul><li> correct_ls!(x::<b>PVector</b>; <i>tol</i>) in GridapTopOpt at <a href=\"file://C:/Users/IIT BBSR/.julia/packages/GridapTopOpt/zQxvu/src/LevelSetEvolution/Utilities/Helpers.jl\" target=\"_blank\">C:\\Users\\IIT BBSR\\.julia\\packages\\GridapTopOpt\\zQxvu\\src\\LevelSetEvolution\\Utilities\\Helpers.jl:11</a></li> <li> correct_ls!(x::<b>Vector</b>; <i>tol</i>) in GridapTopOpt at <a href=\"file://C:/Users/IIT BBSR/.julia/packages/GridapTopOpt/zQxvu/src/LevelSetEvolution/Utilities/Helpers.jl\" target=\"_blank\">C:\\Users\\IIT BBSR\\.julia\\packages\\GridapTopOpt\\zQxvu\\src\\LevelSetEvolution\\Utilities\\Helpers.jl:1</a></li> <li> correct_ls!(φh; <i>tol</i>) in GridapTopOpt at <a href=\"file://C:/Users/IIT BBSR/.julia/packages/GridapTopOpt/zQxvu/src/LevelSetEvolution/Utilities/Helpers.jl\" target=\"_blank\">C:\\Users\\IIT BBSR\\.julia\\packages\\GridapTopOpt\\zQxvu\\src\\LevelSetEvolution\\Utilities\\Helpers.jl:17</a></li> </ul>"
      ],
      "text/plain": [
       "# 3 methods for generic function \"correct_ls!\" from \u001b[33mGridapTopOpt\u001b[39m:\n",
       " [1] correct_ls!(\u001b[90mx\u001b[39m::\u001b[1mPVector\u001b[22m; tol)\n",
       "\u001b[90m     @\u001b[39m \u001b[90mC:\\Users\\IIT BBSR\\.julia\\packages\\GridapTopOpt\\zQxvu\\src\\LevelSetEvolution\\Utilities\\\u001b[39m\u001b[90m\u001b[4mHelpers.jl:11\u001b[24m\u001b[39m\n",
       " [2] correct_ls!(\u001b[90mx\u001b[39m::\u001b[1mVector\u001b[22m; tol)\n",
       "\u001b[90m     @\u001b[39m \u001b[90mC:\\Users\\IIT BBSR\\.julia\\packages\\GridapTopOpt\\zQxvu\\src\\LevelSetEvolution\\Utilities\\\u001b[39m\u001b[90m\u001b[4mHelpers.jl:1\u001b[24m\u001b[39m\n",
       " [3] correct_ls!(\u001b[90mφh\u001b[39m; tol)\n",
       "\u001b[90m     @\u001b[39m \u001b[90mC:\\Users\\IIT BBSR\\.julia\\packages\\GridapTopOpt\\zQxvu\\src\\LevelSetEvolution\\Utilities\\\u001b[39m\u001b[90m\u001b[4mHelpers.jl:17\u001b[24m\u001b[39m"
      ]
     },
     "metadata": {},
     "output_type": "display_data"
    }
   ],
   "source": [
    "using GridapTopOpt: correct_ls!\n",
    "@which GridapTopOpt.correct_ls!\n",
    "methods(GridapTopOpt.correct_ls!) "
   ]
  },
  {
   "cell_type": "code",
   "execution_count": 21,
   "id": "618dfe69",
   "metadata": {},
   "outputs": [
    {
     "data": {
      "text/html": [
       "# 0 methods for callable object<ul></ul>"
      ],
      "text/plain": [
       "# 0 methods for callable object"
      ]
     },
     "metadata": {},
     "output_type": "display_data"
    }
   ],
   "source": [
    "using GridapEmbedded.Interfaces: PHYSICAL\n",
    "@which PHYSICAL\n",
    "methods(PHYSICAL) "
   ]
  },
  {
   "cell_type": "code",
   "execution_count": null,
   "id": "9e2ca986",
   "metadata": {},
   "outputs": [
    {
     "data": {
      "text/plain": [
       "GridapTopOpt"
      ]
     },
     "metadata": {},
     "output_type": "display_data"
    }
   ],
   "source": [
    "# using \n",
    "@which EmbeddedCollection\n",
    "# methods() "
   ]
  },
  {
   "cell_type": "code",
   "execution_count": 26,
   "id": "ac8d955f",
   "metadata": {},
   "outputs": [
    {
     "data": {
      "text/html": [
       "# 10 methods for generic function <b>EmbeddedBoundary</b> from \u001b[35mGridapEmbedded.Interfaces\u001b[39m:<ul><li> EmbeddedBoundary(cut::<b>STLCutters.STLEmbeddedDiscretization</b>, args...) in STLCutters at <a href=\"file://C:/Users/IIT BBSR/.julia/packages/STLCutters/oEu9o/src/Embedded.jl\" target=\"_blank\">C:\\Users\\IIT BBSR\\.julia\\packages\\STLCutters\\oEu9o\\src\\Embedded.jl:101</a></li> <li> EmbeddedBoundary(portion, cutgeo::<b>GridapEmbedded.Distributed.DistributedEmbeddedDiscretization</b>, cutinorout, geom::<b>GridapEmbedded.Distributed.DistributedDiscreteGeometry</b>) in GridapEmbedded.Distributed at <a href=\"file://C:/Users/IIT BBSR/.julia/packages/GridapEmbedded/PIAqm/src/Distributed/DistributedDiscreteGeometries.jl\" target=\"_blank\">C:\\Users\\IIT BBSR\\.julia\\packages\\GridapEmbedded\\PIAqm\\src\\Distributed\\DistributedDiscreteGeometries.jl:50</a></li> <li> EmbeddedBoundary(cutgeo::<b>GridapEmbedded.Distributed.DistributedEmbeddedDiscretization</b>, args...) in GridapEmbedded.Distributed at <a href=\"file://C:/Users/IIT BBSR/.julia/packages/GridapEmbedded/PIAqm/src/Distributed/DistributedDiscretizations.jl\" target=\"_blank\">C:\\Users\\IIT BBSR\\.julia\\packages\\GridapEmbedded\\PIAqm\\src\\Distributed\\DistributedDiscretizations.jl:71</a></li> <li> EmbeddedBoundary(portion, gids::<b>AbstractLocalIndices</b>, cutgeo::<b>GridapEmbedded.Interfaces.AbstractEmbeddedDiscretization</b>, args...) in GridapEmbedded.Distributed at <a href=\"file://C:/Users/IIT BBSR/.julia/packages/GridapEmbedded/PIAqm/src/Distributed/DistributedDiscretizations.jl\" target=\"_blank\">C:\\Users\\IIT BBSR\\.julia\\packages\\GridapEmbedded\\PIAqm\\src\\Distributed\\DistributedDiscretizations.jl:84</a></li> <li> EmbeddedBoundary(portion, cutgeo::<b>GridapEmbedded.Distributed.DistributedEmbeddedDiscretization</b>, args...) in GridapEmbedded.Distributed at <a href=\"file://C:/Users/IIT BBSR/.julia/packages/GridapEmbedded/PIAqm/src/Distributed/DistributedDiscretizations.jl\" target=\"_blank\">C:\\Users\\IIT BBSR\\.julia\\packages\\GridapEmbedded\\PIAqm\\src\\Distributed\\DistributedDiscretizations.jl:75</a></li> <li> EmbeddedBoundary(cut::<b>EmbeddedDiscretization</b>) in GridapEmbedded.Interfaces at <a href=\"file://C:/Users/IIT BBSR/.julia/packages/GridapEmbedded/PIAqm/src/Interfaces/EmbeddedDiscretizations.jl\" target=\"_blank\">C:\\Users\\IIT BBSR\\.julia\\packages\\GridapEmbedded\\PIAqm\\src\\Interfaces\\EmbeddedDiscretizations.jl:408</a></li> <li> EmbeddedBoundary(cut::<b>EmbeddedDiscretization</b>, name::<b>String</b>) in GridapEmbedded.Interfaces at <a href=\"file://C:/Users/IIT BBSR/.julia/packages/GridapEmbedded/PIAqm/src/Interfaces/EmbeddedDiscretizations.jl\" target=\"_blank\">C:\\Users\\IIT BBSR\\.julia\\packages\\GridapEmbedded\\PIAqm\\src\\Interfaces\\EmbeddedDiscretizations.jl:412</a></li> <li> EmbeddedBoundary(cut::<b>EmbeddedDiscretization</b>, geo::<b>GridapEmbedded.CSG.Geometry</b>) in GridapEmbedded.Interfaces at <a href=\"file://C:/Users/IIT BBSR/.julia/packages/GridapEmbedded/PIAqm/src/Interfaces/EmbeddedDiscretizations.jl\" target=\"_blank\">C:\\Users\\IIT BBSR\\.julia\\packages\\GridapEmbedded\\PIAqm\\src\\Interfaces\\EmbeddedDiscretizations.jl:417</a></li> <li> EmbeddedBoundary(cut::<b>EmbeddedDiscretization</b>, name1::<b>String</b>, name2::<b>String</b>) in GridapEmbedded.Interfaces at <a href=\"file://C:/Users/IIT BBSR/.julia/packages/GridapEmbedded/PIAqm/src/Interfaces/EmbeddedDiscretizations.jl\" target=\"_blank\">C:\\Users\\IIT BBSR\\.julia\\packages\\GridapEmbedded\\PIAqm\\src\\Interfaces\\EmbeddedDiscretizations.jl:436</a></li> <li> EmbeddedBoundary(cut::<b>EmbeddedDiscretization</b>, geo1::<b>GridapEmbedded.CSG.Geometry</b>, geo2::<b>GridapEmbedded.CSG.Geometry</b>) in GridapEmbedded.Interfaces at <a href=\"file://C:/Users/IIT BBSR/.julia/packages/GridapEmbedded/PIAqm/src/Interfaces/EmbeddedDiscretizations.jl\" target=\"_blank\">C:\\Users\\IIT BBSR\\.julia\\packages\\GridapEmbedded\\PIAqm\\src\\Interfaces\\EmbeddedDiscretizations.jl:442</a></li> </ul>"
      ],
      "text/plain": [
       "# 10 methods for generic function \"EmbeddedBoundary\" from \u001b[35mGridapEmbedded.Interfaces\u001b[39m:\n",
       "  [1] EmbeddedBoundary(\u001b[90mcut\u001b[39m::\u001b[1mSTLCutters.STLEmbeddedDiscretization\u001b[22m, \u001b[90margs...\u001b[39m)\n",
       "\u001b[90m     @\u001b[39m \u001b[36mSTLCutters\u001b[39m \u001b[90mC:\\Users\\IIT BBSR\\.julia\\packages\\STLCutters\\oEu9o\\src\\\u001b[39m\u001b[90m\u001b[4mEmbedded.jl:101\u001b[24m\u001b[39m\n",
       "  [2] EmbeddedBoundary(\u001b[90mportion\u001b[39m, \u001b[90mcutgeo\u001b[39m::\u001b[1mGridapEmbedded.Distributed.DistributedEmbeddedDiscretization\u001b[22m, \u001b[90mcutinorout\u001b[39m, \u001b[90mgeom\u001b[39m::\u001b[1mGridapEmbedded.Distributed.DistributedDiscreteGeometry\u001b[22m)\n",
       "\u001b[90m     @\u001b[39m \u001b[35mGridapEmbedded.Distributed\u001b[39m \u001b[90mC:\\Users\\IIT BBSR\\.julia\\packages\\GridapEmbedded\\PIAqm\\src\\Distributed\\\u001b[39m\u001b[90m\u001b[4mDistributedDiscreteGeometries.jl:50\u001b[24m\u001b[39m\n",
       "  [3] EmbeddedBoundary(\u001b[90mcutgeo\u001b[39m::\u001b[1mGridapEmbedded.Distributed.DistributedEmbeddedDiscretization\u001b[22m, \u001b[90margs...\u001b[39m)\n",
       "\u001b[90m     @\u001b[39m \u001b[35mGridapEmbedded.Distributed\u001b[39m \u001b[90mC:\\Users\\IIT BBSR\\.julia\\packages\\GridapEmbedded\\PIAqm\\src\\Distributed\\\u001b[39m\u001b[90m\u001b[4mDistributedDiscretizations.jl:71\u001b[24m\u001b[39m\n",
       "  [4] EmbeddedBoundary(\u001b[90mportion\u001b[39m, \u001b[90mgids\u001b[39m::\u001b[1mAbstractLocalIndices\u001b[22m, \u001b[90mcutgeo\u001b[39m::\u001b[1mGridapEmbedded.Interfaces.AbstractEmbeddedDiscretization\u001b[22m, \u001b[90margs...\u001b[39m)\n",
       "\u001b[90m     @\u001b[39m \u001b[35mGridapEmbedded.Distributed\u001b[39m \u001b[90mC:\\Users\\IIT BBSR\\.julia\\packages\\GridapEmbedded\\PIAqm\\src\\Distributed\\\u001b[39m\u001b[90m\u001b[4mDistributedDiscretizations.jl:84\u001b[24m\u001b[39m\n",
       "  [5] EmbeddedBoundary(\u001b[90mportion\u001b[39m, \u001b[90mcutgeo\u001b[39m::\u001b[1mGridapEmbedded.Distributed.DistributedEmbeddedDiscretization\u001b[22m, \u001b[90margs...\u001b[39m)\n",
       "\u001b[90m     @\u001b[39m \u001b[35mGridapEmbedded.Distributed\u001b[39m \u001b[90mC:\\Users\\IIT BBSR\\.julia\\packages\\GridapEmbedded\\PIAqm\\src\\Distributed\\\u001b[39m\u001b[90m\u001b[4mDistributedDiscretizations.jl:75\u001b[24m\u001b[39m\n",
       "  [6] EmbeddedBoundary(\u001b[90mcut\u001b[39m::\u001b[1mEmbeddedDiscretization\u001b[22m)\n",
       "\u001b[90m     @\u001b[39m \u001b[90mC:\\Users\\IIT BBSR\\.julia\\packages\\GridapEmbedded\\PIAqm\\src\\Interfaces\\\u001b[39m\u001b[90m\u001b[4mEmbeddedDiscretizations.jl:408\u001b[24m\u001b[39m\n",
       "  [7] EmbeddedBoundary(\u001b[90mcut\u001b[39m::\u001b[1mEmbeddedDiscretization\u001b[22m, \u001b[90mname\u001b[39m::\u001b[1mString\u001b[22m)\n",
       "\u001b[90m     @\u001b[39m \u001b[90mC:\\Users\\IIT BBSR\\.julia\\packages\\GridapEmbedded\\PIAqm\\src\\Interfaces\\\u001b[39m\u001b[90m\u001b[4mEmbeddedDiscretizations.jl:412\u001b[24m\u001b[39m\n",
       "  [8] EmbeddedBoundary(\u001b[90mcut\u001b[39m::\u001b[1mEmbeddedDiscretization\u001b[22m, \u001b[90mgeo\u001b[39m::\u001b[1mGridapEmbedded.CSG.Geometry\u001b[22m)\n",
       "\u001b[90m     @\u001b[39m \u001b[90mC:\\Users\\IIT BBSR\\.julia\\packages\\GridapEmbedded\\PIAqm\\src\\Interfaces\\\u001b[39m\u001b[90m\u001b[4mEmbeddedDiscretizations.jl:417\u001b[24m\u001b[39m\n",
       "  [9] EmbeddedBoundary(\u001b[90mcut\u001b[39m::\u001b[1mEmbeddedDiscretization\u001b[22m, \u001b[90mname1\u001b[39m::\u001b[1mString\u001b[22m, \u001b[90mname2\u001b[39m::\u001b[1mString\u001b[22m)\n",
       "\u001b[90m     @\u001b[39m \u001b[90mC:\\Users\\IIT BBSR\\.julia\\packages\\GridapEmbedded\\PIAqm\\src\\Interfaces\\\u001b[39m\u001b[90m\u001b[4mEmbeddedDiscretizations.jl:436\u001b[24m\u001b[39m\n",
       " [10] EmbeddedBoundary(\u001b[90mcut\u001b[39m::\u001b[1mEmbeddedDiscretization\u001b[22m, \u001b[90mgeo1\u001b[39m::\u001b[1mGridapEmbedded.CSG.Geometry\u001b[22m, \u001b[90mgeo2\u001b[39m::\u001b[1mGridapEmbedded.CSG.Geometry\u001b[22m)\n",
       "\u001b[90m     @\u001b[39m \u001b[90mC:\\Users\\IIT BBSR\\.julia\\packages\\GridapEmbedded\\PIAqm\\src\\Interfaces\\\u001b[39m\u001b[90m\u001b[4mEmbeddedDiscretizations.jl:442\u001b[24m\u001b[39m"
      ]
     },
     "metadata": {},
     "output_type": "display_data"
    }
   ],
   "source": [
    "using GridapEmbedded.Interfaces: EmbeddedBoundary\n",
    "@which EmbeddedBoundary\n",
    "methods(EmbeddedBoundary) "
   ]
  },
  {
   "cell_type": "code",
   "execution_count": 25,
   "id": "b7ba1b68",
   "metadata": {},
   "outputs": [
    {
     "data": {
      "text/html": [
       "# 12 methods for generic function <b>GhostSkeleton</b> from \u001b[35mGridapEmbedded.Interfaces\u001b[39m:<ul><li> GhostSkeleton(cut::<b>EmbeddedDiscretization</b>, name::<b>String</b>) in GridapEmbedded.Interfaces at <a href=\"file://C:/Users/IIT BBSR/.julia/packages/GridapEmbedded/PIAqm/src/Interfaces/EmbeddedDiscretizations.jl\" target=\"_blank\">C:\\Users\\IIT BBSR\\.julia\\packages\\GridapEmbedded\\PIAqm\\src\\Interfaces\\EmbeddedDiscretizations.jl:481</a></li> <li> GhostSkeleton(cut::<b>EmbeddedDiscretization</b>, geo::<b>GridapEmbedded.CSG.Geometry</b>) in GridapEmbedded.Interfaces at <a href=\"file://C:/Users/IIT BBSR/.julia/packages/GridapEmbedded/PIAqm/src/Interfaces/EmbeddedDiscretizations.jl\" target=\"_blank\">C:\\Users\\IIT BBSR\\.julia\\packages\\GridapEmbedded\\PIAqm\\src\\Interfaces\\EmbeddedDiscretizations.jl:485</a></li> <li> GhostSkeleton(cut::<b>EmbeddedDiscretization</b>, in_or_out::<b>Integer</b>, geo::<b>GridapEmbedded.CSG.Geometry</b>) in GridapEmbedded.Interfaces at <a href=\"file://C:/Users/IIT BBSR/.julia/packages/GridapEmbedded/PIAqm/src/Interfaces/EmbeddedDiscretizations.jl\" target=\"_blank\">C:\\Users\\IIT BBSR\\.julia\\packages\\GridapEmbedded\\PIAqm\\src\\Interfaces\\EmbeddedDiscretizations.jl:502</a></li> <li> GhostSkeleton(cut::<b>STLCutters.STLEmbeddedDiscretization</b>, args...) in STLCutters at <a href=\"file://C:/Users/IIT BBSR/.julia/packages/STLCutters/oEu9o/src/Embedded.jl\" target=\"_blank\">C:\\Users\\IIT BBSR\\.julia\\packages\\STLCutters\\oEu9o\\src\\Embedded.jl:105</a></li> <li> GhostSkeleton(portion, cutgeo::<b>GridapEmbedded.Distributed.DistributedEmbeddedDiscretization</b>, cutinorout, geom::<b>GridapEmbedded.Distributed.DistributedDiscreteGeometry</b>) in GridapEmbedded.Distributed at <a href=\"file://C:/Users/IIT BBSR/.julia/packages/GridapEmbedded/PIAqm/src/Distributed/DistributedDiscreteGeometries.jl\" target=\"_blank\">C:\\Users\\IIT BBSR\\.julia\\packages\\GridapEmbedded\\PIAqm\\src\\Distributed\\DistributedDiscreteGeometries.jl:50</a></li> <li> GhostSkeleton(cutgeo::<b>GridapEmbedded.Distributed.DistributedEmbeddedDiscretization</b>, args...) in GridapEmbedded.Distributed at <a href=\"file://C:/Users/IIT BBSR/.julia/packages/GridapEmbedded/PIAqm/src/Distributed/DistributedDiscretizations.jl\" target=\"_blank\">C:\\Users\\IIT BBSR\\.julia\\packages\\GridapEmbedded\\PIAqm\\src\\Distributed\\DistributedDiscretizations.jl:71</a></li> <li> GhostSkeleton(portion, gids::<b>AbstractLocalIndices</b>, cutgeo::<b>GridapEmbedded.Interfaces.AbstractEmbeddedDiscretization</b>, args...) in GridapEmbedded.Distributed at <a href=\"file://C:/Users/IIT BBSR/.julia/packages/GridapEmbedded/PIAqm/src/Distributed/DistributedDiscretizations.jl\" target=\"_blank\">C:\\Users\\IIT BBSR\\.julia\\packages\\GridapEmbedded\\PIAqm\\src\\Distributed\\DistributedDiscretizations.jl:84</a></li> <li> GhostSkeleton(portion, cutgeo::<b>GridapEmbedded.Distributed.DistributedEmbeddedDiscretization</b>, args...) in GridapEmbedded.Distributed at <a href=\"file://C:/Users/IIT BBSR/.julia/packages/GridapEmbedded/PIAqm/src/Distributed/DistributedDiscretizations.jl\" target=\"_blank\">C:\\Users\\IIT BBSR\\.julia\\packages\\GridapEmbedded\\PIAqm\\src\\Distributed\\DistributedDiscretizations.jl:75</a></li> <li> GhostSkeleton(cut::<b>EmbeddedDiscretization</b>, in_or_out) in GridapEmbedded.Interfaces at <a href=\"file://C:/Users/IIT BBSR/.julia/packages/GridapEmbedded/PIAqm/src/Interfaces/EmbeddedDiscretizations.jl\" target=\"_blank\">C:\\Users\\IIT BBSR\\.julia\\packages\\GridapEmbedded\\PIAqm\\src\\Interfaces\\EmbeddedDiscretizations.jl:477</a></li> <li> GhostSkeleton(cut::<b>EmbeddedDiscretization</b>, in_or_out, name::<b>String</b>) in GridapEmbedded.Interfaces at <a href=\"file://C:/Users/IIT BBSR/.julia/packages/GridapEmbedded/PIAqm/src/Interfaces/EmbeddedDiscretizations.jl\" target=\"_blank\">C:\\Users\\IIT BBSR\\.julia\\packages\\GridapEmbedded\\PIAqm\\src\\Interfaces\\EmbeddedDiscretizations.jl:497</a></li> <li> GhostSkeleton(cut::<b>EmbeddedDiscretization</b>, in_or_out, geo::<b>GridapEmbedded.CSG.Geometry</b>) in GridapEmbedded.Interfaces at <a href=\"file://C:/Users/IIT BBSR/.julia/packages/GridapEmbedded/PIAqm/src/Interfaces/EmbeddedDiscretizations.jl\" target=\"_blank\">C:\\Users\\IIT BBSR\\.julia\\packages\\GridapEmbedded\\PIAqm\\src\\Interfaces\\EmbeddedDiscretizations.jl:504</a></li> <li> GhostSkeleton(cut::<b>EmbeddedDiscretization</b>) in GridapEmbedded.Interfaces at <a href=\"file://C:/Users/IIT BBSR/.julia/packages/GridapEmbedded/PIAqm/src/Interfaces/EmbeddedDiscretizations.jl\" target=\"_blank\">C:\\Users\\IIT BBSR\\.julia\\packages\\GridapEmbedded\\PIAqm\\src\\Interfaces\\EmbeddedDiscretizations.jl:473</a></li> </ul>"
      ],
      "text/plain": [
       "# 12 methods for generic function \"GhostSkeleton\" from \u001b[35mGridapEmbedded.Interfaces\u001b[39m:\n",
       "  [1] GhostSkeleton(\u001b[90mcut\u001b[39m::\u001b[1mEmbeddedDiscretization\u001b[22m, \u001b[90mname\u001b[39m::\u001b[1mString\u001b[22m)\n",
       "\u001b[90m     @\u001b[39m \u001b[90mC:\\Users\\IIT BBSR\\.julia\\packages\\GridapEmbedded\\PIAqm\\src\\Interfaces\\\u001b[39m\u001b[90m\u001b[4mEmbeddedDiscretizations.jl:481\u001b[24m\u001b[39m\n",
       "  [2] GhostSkeleton(\u001b[90mcut\u001b[39m::\u001b[1mEmbeddedDiscretization\u001b[22m, \u001b[90mgeo\u001b[39m::\u001b[1mGridapEmbedded.CSG.Geometry\u001b[22m)\n",
       "\u001b[90m     @\u001b[39m \u001b[90mC:\\Users\\IIT BBSR\\.julia\\packages\\GridapEmbedded\\PIAqm\\src\\Interfaces\\\u001b[39m\u001b[90m\u001b[4mEmbeddedDiscretizations.jl:485\u001b[24m\u001b[39m\n",
       "  [3] GhostSkeleton(\u001b[90mcut\u001b[39m::\u001b[1mEmbeddedDiscretization\u001b[22m, \u001b[90min_or_out\u001b[39m::\u001b[1mInteger\u001b[22m, \u001b[90mgeo\u001b[39m::\u001b[1mGridapEmbedded.CSG.Geometry\u001b[22m)\n",
       "\u001b[90m     @\u001b[39m \u001b[90mC:\\Users\\IIT BBSR\\.julia\\packages\\GridapEmbedded\\PIAqm\\src\\Interfaces\\\u001b[39m\u001b[90m\u001b[4mEmbeddedDiscretizations.jl:502\u001b[24m\u001b[39m\n",
       "  [4] GhostSkeleton(\u001b[90mcut\u001b[39m::\u001b[1mSTLCutters.STLEmbeddedDiscretization\u001b[22m, \u001b[90margs...\u001b[39m)\n",
       "\u001b[90m     @\u001b[39m \u001b[36mSTLCutters\u001b[39m \u001b[90mC:\\Users\\IIT BBSR\\.julia\\packages\\STLCutters\\oEu9o\\src\\\u001b[39m\u001b[90m\u001b[4mEmbedded.jl:105\u001b[24m\u001b[39m\n",
       "  [5] GhostSkeleton(\u001b[90mportion\u001b[39m, \u001b[90mcutgeo\u001b[39m::\u001b[1mGridapEmbedded.Distributed.DistributedEmbeddedDiscretization\u001b[22m, \u001b[90mcutinorout\u001b[39m, \u001b[90mgeom\u001b[39m::\u001b[1mGridapEmbedded.Distributed.DistributedDiscreteGeometry\u001b[22m)\n",
       "\u001b[90m     @\u001b[39m \u001b[35mGridapEmbedded.Distributed\u001b[39m \u001b[90mC:\\Users\\IIT BBSR\\.julia\\packages\\GridapEmbedded\\PIAqm\\src\\Distributed\\\u001b[39m\u001b[90m\u001b[4mDistributedDiscreteGeometries.jl:50\u001b[24m\u001b[39m\n",
       "  [6] GhostSkeleton(\u001b[90mcutgeo\u001b[39m::\u001b[1mGridapEmbedded.Distributed.DistributedEmbeddedDiscretization\u001b[22m, \u001b[90margs...\u001b[39m)\n",
       "\u001b[90m     @\u001b[39m \u001b[35mGridapEmbedded.Distributed\u001b[39m \u001b[90mC:\\Users\\IIT BBSR\\.julia\\packages\\GridapEmbedded\\PIAqm\\src\\Distributed\\\u001b[39m\u001b[90m\u001b[4mDistributedDiscretizations.jl:71\u001b[24m\u001b[39m\n",
       "  [7] GhostSkeleton(\u001b[90mportion\u001b[39m, \u001b[90mgids\u001b[39m::\u001b[1mAbstractLocalIndices\u001b[22m, \u001b[90mcutgeo\u001b[39m::\u001b[1mGridapEmbedded.Interfaces.AbstractEmbeddedDiscretization\u001b[22m, \u001b[90margs...\u001b[39m)\n",
       "\u001b[90m     @\u001b[39m \u001b[35mGridapEmbedded.Distributed\u001b[39m \u001b[90mC:\\Users\\IIT BBSR\\.julia\\packages\\GridapEmbedded\\PIAqm\\src\\Distributed\\\u001b[39m\u001b[90m\u001b[4mDistributedDiscretizations.jl:84\u001b[24m\u001b[39m\n",
       "  [8] GhostSkeleton(\u001b[90mportion\u001b[39m, \u001b[90mcutgeo\u001b[39m::\u001b[1mGridapEmbedded.Distributed.DistributedEmbeddedDiscretization\u001b[22m, \u001b[90margs...\u001b[39m)\n",
       "\u001b[90m     @\u001b[39m \u001b[35mGridapEmbedded.Distributed\u001b[39m \u001b[90mC:\\Users\\IIT BBSR\\.julia\\packages\\GridapEmbedded\\PIAqm\\src\\Distributed\\\u001b[39m\u001b[90m\u001b[4mDistributedDiscretizations.jl:75\u001b[24m\u001b[39m\n",
       "  [9] GhostSkeleton(\u001b[90mcut\u001b[39m::\u001b[1mEmbeddedDiscretization\u001b[22m, \u001b[90min_or_out\u001b[39m)\n",
       "\u001b[90m     @\u001b[39m \u001b[90mC:\\Users\\IIT BBSR\\.julia\\packages\\GridapEmbedded\\PIAqm\\src\\Interfaces\\\u001b[39m\u001b[90m\u001b[4mEmbeddedDiscretizations.jl:477\u001b[24m\u001b[39m\n",
       " [10] GhostSkeleton(\u001b[90mcut\u001b[39m::\u001b[1mEmbeddedDiscretization\u001b[22m, \u001b[90min_or_out\u001b[39m, \u001b[90mname\u001b[39m::\u001b[1mString\u001b[22m)\n",
       "\u001b[90m     @\u001b[39m \u001b[90mC:\\Users\\IIT BBSR\\.julia\\packages\\GridapEmbedded\\PIAqm\\src\\Interfaces\\\u001b[39m\u001b[90m\u001b[4mEmbeddedDiscretizations.jl:497\u001b[24m\u001b[39m\n",
       " [11] GhostSkeleton(\u001b[90mcut\u001b[39m::\u001b[1mEmbeddedDiscretization\u001b[22m, \u001b[90min_or_out\u001b[39m, \u001b[90mgeo\u001b[39m::\u001b[1mGridapEmbedded.CSG.Geometry\u001b[22m)\n",
       "\u001b[90m     @\u001b[39m \u001b[90mC:\\Users\\IIT BBSR\\.julia\\packages\\GridapEmbedded\\PIAqm\\src\\Interfaces\\\u001b[39m\u001b[90m\u001b[4mEmbeddedDiscretizations.jl:504\u001b[24m\u001b[39m\n",
       " [12] GhostSkeleton(\u001b[90mcut\u001b[39m::\u001b[1mEmbeddedDiscretization\u001b[22m)\n",
       "\u001b[90m     @\u001b[39m \u001b[90mC:\\Users\\IIT BBSR\\.julia\\packages\\GridapEmbedded\\PIAqm\\src\\Interfaces\\\u001b[39m\u001b[90m\u001b[4mEmbeddedDiscretizations.jl:473\u001b[24m\u001b[39m"
      ]
     },
     "metadata": {},
     "output_type": "display_data"
    }
   ],
   "source": [
    "using GridapEmbedded.Interfaces: GhostSkeleton\n",
    "@which GhostSkeleton\n",
    "methods(GhostSkeleton) "
   ]
  },
  {
   "cell_type": "code",
   "execution_count": null,
   "id": "654ed8ab",
   "metadata": {},
   "outputs": [
    {
     "data": {
      "text/html": [
       "# 4 methods for generic function <b>interpolate</b> from \u001b[32mGridap.FESpaces\u001b[39m:<ul><li> interpolate(u, f::<b>GridapDistributed.DistributedSingleFieldFESpace</b>) in GridapDistributed at <a href=\"file://C:/Users/IIT BBSR/.julia/packages/GridapDistributed/XNMqm/src/FESpaces.jl\" target=\"_blank\">C:\\Users\\IIT BBSR\\.julia\\packages\\GridapDistributed\\XNMqm\\src\\FESpaces.jl:444</a></li> <li> interpolate(objects, space::<b>GridapDistributed.DistributedMultiFieldFESpace</b>) in GridapDistributed at <a href=\"file://C:/Users/IIT BBSR/.julia/packages/GridapDistributed/XNMqm/src/MultiField.jl\" target=\"_blank\">C:\\Users\\IIT BBSR\\.julia\\packages\\GridapDistributed\\XNMqm\\src\\MultiField.jl:185</a></li> <li> interpolate(objects, fe::<b>MultiFieldFESpace</b>) in Gridap.MultiField at <a href=\"file://C:/Users/IIT BBSR/.julia/packages/Gridap/JD3zW/src/MultiField/MultiFieldFESpaces.jl\" target=\"_blank\">C:\\Users\\IIT BBSR\\.julia\\packages\\Gridap\\JD3zW\\src\\MultiField\\MultiFieldFESpaces.jl:616</a></li> <li> interpolate(object, fs::<b>SingleFieldFESpace</b>) in Gridap.FESpaces at <a href=\"file://C:/Users/IIT BBSR/.julia/packages/Gridap/JD3zW/src/FESpaces/SingleFieldFESpaces.jl\" target=\"_blank\">C:\\Users\\IIT BBSR\\.julia\\packages\\Gridap\\JD3zW\\src\\FESpaces\\SingleFieldFESpaces.jl:179</a></li> </ul>"
      ],
      "text/plain": [
       "# 4 methods for generic function \"interpolate\" from \u001b[32mGridap.FESpaces\u001b[39m:\n",
       " [1] interpolate(\u001b[90mu\u001b[39m, \u001b[90mf\u001b[39m::\u001b[1mGridapDistributed.DistributedSingleFieldFESpace\u001b[22m)\n",
       "\u001b[90m     @\u001b[39m \u001b[36mGridapDistributed\u001b[39m \u001b[90mC:\\Users\\IIT BBSR\\.julia\\packages\\GridapDistributed\\XNMqm\\src\\\u001b[39m\u001b[90m\u001b[4mFESpaces.jl:444\u001b[24m\u001b[39m\n",
       " [2] interpolate(\u001b[90mobjects\u001b[39m, \u001b[90mspace\u001b[39m::\u001b[1mGridapDistributed.DistributedMultiFieldFESpace\u001b[22m)\n",
       "\u001b[90m     @\u001b[39m \u001b[36mGridapDistributed\u001b[39m \u001b[90mC:\\Users\\IIT BBSR\\.julia\\packages\\GridapDistributed\\XNMqm\\src\\\u001b[39m\u001b[90m\u001b[4mMultiField.jl:185\u001b[24m\u001b[39m\n",
       " [3] interpolate(\u001b[90mobjects\u001b[39m, \u001b[90mfe\u001b[39m::\u001b[1mMultiFieldFESpace\u001b[22m)\n",
       "\u001b[90m     @\u001b[39m \u001b[32mGridap.MultiField\u001b[39m \u001b[90mC:\\Users\\IIT BBSR\\.julia\\packages\\Gridap\\JD3zW\\src\\MultiField\\\u001b[39m\u001b[90m\u001b[4mMultiFieldFESpaces.jl:616\u001b[24m\u001b[39m\n",
       " [4] interpolate(\u001b[90mobject\u001b[39m, \u001b[90mfs\u001b[39m::\u001b[1mSingleFieldFESpace\u001b[22m)\n",
       "\u001b[90m     @\u001b[39m \u001b[90mC:\\Users\\IIT BBSR\\.julia\\packages\\Gridap\\JD3zW\\src\\FESpaces\\\u001b[39m\u001b[90m\u001b[4mSingleFieldFESpaces.jl:179\u001b[24m\u001b[39m"
      ]
     },
     "metadata": {},
     "output_type": "display_data"
    }
   ],
   "source": [
    "# using \n",
    "@which \n",
    "# methods() "
   ]
  },
  {
   "cell_type": "code",
   "execution_count": null,
   "id": "c0026b95",
   "metadata": {},
   "outputs": [
    {
     "data": {
      "text/html": [
       "# 4 methods for generic function <b>interpolate</b> from \u001b[32mGridap.FESpaces\u001b[39m:<ul><li> interpolate(u, f::<b>GridapDistributed.DistributedSingleFieldFESpace</b>) in GridapDistributed at <a href=\"file://C:/Users/IIT BBSR/.julia/packages/GridapDistributed/XNMqm/src/FESpaces.jl\" target=\"_blank\">C:\\Users\\IIT BBSR\\.julia\\packages\\GridapDistributed\\XNMqm\\src\\FESpaces.jl:444</a></li> <li> interpolate(objects, space::<b>GridapDistributed.DistributedMultiFieldFESpace</b>) in GridapDistributed at <a href=\"file://C:/Users/IIT BBSR/.julia/packages/GridapDistributed/XNMqm/src/MultiField.jl\" target=\"_blank\">C:\\Users\\IIT BBSR\\.julia\\packages\\GridapDistributed\\XNMqm\\src\\MultiField.jl:185</a></li> <li> interpolate(objects, fe::<b>MultiFieldFESpace</b>) in Gridap.MultiField at <a href=\"file://C:/Users/IIT BBSR/.julia/packages/Gridap/JD3zW/src/MultiField/MultiFieldFESpaces.jl\" target=\"_blank\">C:\\Users\\IIT BBSR\\.julia\\packages\\Gridap\\JD3zW\\src\\MultiField\\MultiFieldFESpaces.jl:616</a></li> <li> interpolate(object, fs::<b>SingleFieldFESpace</b>) in Gridap.FESpaces at <a href=\"file://C:/Users/IIT BBSR/.julia/packages/Gridap/JD3zW/src/FESpaces/SingleFieldFESpaces.jl\" target=\"_blank\">C:\\Users\\IIT BBSR\\.julia\\packages\\Gridap\\JD3zW\\src\\FESpaces\\SingleFieldFESpaces.jl:179</a></li> </ul>"
      ],
      "text/plain": [
       "# 4 methods for generic function \"interpolate\" from \u001b[32mGridap.FESpaces\u001b[39m:\n",
       " [1] interpolate(\u001b[90mu\u001b[39m, \u001b[90mf\u001b[39m::\u001b[1mGridapDistributed.DistributedSingleFieldFESpace\u001b[22m)\n",
       "\u001b[90m     @\u001b[39m \u001b[36mGridapDistributed\u001b[39m \u001b[90mC:\\Users\\IIT BBSR\\.julia\\packages\\GridapDistributed\\XNMqm\\src\\\u001b[39m\u001b[90m\u001b[4mFESpaces.jl:444\u001b[24m\u001b[39m\n",
       " [2] interpolate(\u001b[90mobjects\u001b[39m, \u001b[90mspace\u001b[39m::\u001b[1mGridapDistributed.DistributedMultiFieldFESpace\u001b[22m)\n",
       "\u001b[90m     @\u001b[39m \u001b[36mGridapDistributed\u001b[39m \u001b[90mC:\\Users\\IIT BBSR\\.julia\\packages\\GridapDistributed\\XNMqm\\src\\\u001b[39m\u001b[90m\u001b[4mMultiField.jl:185\u001b[24m\u001b[39m\n",
       " [3] interpolate(\u001b[90mobjects\u001b[39m, \u001b[90mfe\u001b[39m::\u001b[1mMultiFieldFESpace\u001b[22m)\n",
       "\u001b[90m     @\u001b[39m \u001b[32mGridap.MultiField\u001b[39m \u001b[90mC:\\Users\\IIT BBSR\\.julia\\packages\\Gridap\\JD3zW\\src\\MultiField\\\u001b[39m\u001b[90m\u001b[4mMultiFieldFESpaces.jl:616\u001b[24m\u001b[39m\n",
       " [4] interpolate(\u001b[90mobject\u001b[39m, \u001b[90mfs\u001b[39m::\u001b[1mSingleFieldFESpace\u001b[22m)\n",
       "\u001b[90m     @\u001b[39m \u001b[90mC:\\Users\\IIT BBSR\\.julia\\packages\\Gridap\\JD3zW\\src\\FESpaces\\\u001b[39m\u001b[90m\u001b[4mSingleFieldFESpaces.jl:179\u001b[24m\u001b[39m"
      ]
     },
     "metadata": {},
     "output_type": "display_data"
    }
   ],
   "source": [
    "# using \n",
    "@which \n",
    "# methods() "
   ]
  },
  {
   "cell_type": "code",
   "execution_count": 28,
   "id": "565db747",
   "metadata": {},
   "outputs": [
    {
     "data": {
      "text/html": [
       "# 0 methods for callable object<ul></ul>"
      ],
      "text/plain": [
       "# 0 methods for callable object"
      ]
     },
     "metadata": {},
     "output_type": "display_data"
    }
   ],
   "source": [
    "using GridapEmbedded.Interfaces: ACTIVE\n",
    "@which ACTIVE\n",
    "methods(ACTIVE) "
   ]
  },
  {
   "cell_type": "code",
   "execution_count": null,
   "id": "4fee9f96",
   "metadata": {},
   "outputs": [
    {
     "data": {
      "text/html": [
       "# 52 methods for generic function <b>local_views</b> from \u001b[35mGridapDistributed\u001b[39m:<ul><li> local_views(P::<b>GridapDistributed.DistributedLocalOperator</b>) in GridapDistributed at <a href=\"file://C:/Users/IIT BBSR/.julia/packages/GridapDistributed/XNMqm/src/PatchAssemblers.jl\" target=\"_blank\">C:\\Users\\IIT BBSR\\.julia\\packages\\GridapDistributed\\XNMqm\\src\\PatchAssemblers.jl:107</a></li> <li> local_views(a::<b>GridapDistributed.DistributedFaceLabeling</b>) in GridapDistributed at <a href=\"file://C:/Users/IIT BBSR/.julia/packages/GridapDistributed/XNMqm/src/Geometry.jl\" target=\"_blank\">C:\\Users\\IIT BBSR\\.julia\\packages\\GridapDistributed\\XNMqm\\src\\Geometry.jl:118</a></li> <li> local_views(a::<b>Vector{<:GridapDistributed.DistributedCellField}</b>) in GridapDistributed at <a href=\"file://C:/Users/IIT BBSR/.julia/packages/GridapDistributed/XNMqm/src/MultiField.jl\" target=\"_blank\">C:\\Users\\IIT BBSR\\.julia\\packages\\GridapDistributed\\XNMqm\\src\\MultiField.jl:30</a></li> <li> local_views(a::<b>Gridap.Arrays.ArrayBlockView</b>, axes...) in GridapDistributed at <a href=\"file://C:/Users/IIT BBSR/.julia/packages/GridapDistributed/XNMqm/src/MultiField.jl\" target=\"_blank\">C:\\Users\\IIT BBSR\\.julia\\packages\\GridapDistributed\\XNMqm\\src\\MultiField.jl:500</a></li> <li> local_views(a::<b>GridapDistributed.PVectorCounter</b>, rows) in GridapDistributed at <a href=\"file://C:/Users/IIT BBSR/.julia/packages/GridapDistributed/XNMqm/src/Algebra.jl\" target=\"_blank\">C:\\Users\\IIT BBSR\\.julia\\packages\\GridapDistributed\\XNMqm\\src\\Algebra.jl:680</a></li> <li> local_views(a::<b>GridapDistributed.PVectorCounter</b>) in GridapDistributed at <a href=\"file://C:/Users/IIT BBSR/.julia/packages/GridapDistributed/XNMqm/src/Algebra.jl\" target=\"_blank\">C:\\Users\\IIT BBSR\\.julia\\packages\\GridapDistributed\\XNMqm\\src\\Algebra.jl:676</a></li> <li> local_views(k::<b>GridapSolvers.MultilevelTools.SpaceProjectionMap</b>) in GridapSolvers.MultilevelTools at <a href=\"file://C:/Users/IIT BBSR/.julia/packages/GridapSolvers/gwyZl/src/MultilevelTools/LocalProjectionMaps.jl\" target=\"_blank\">C:\\Users\\IIT BBSR\\.julia\\packages\\GridapSolvers\\gwyZl\\src\\MultilevelTools\\LocalProjectionMaps.jl:204</a></li> <li> local_views(a::<b>PSparseMatrix</b>, new_rows::<b>PRange</b>, new_cols::<b>PRange</b>) in GridapDistributed at <a href=\"file://C:/Users/IIT BBSR/.julia/packages/GridapDistributed/XNMqm/src/Algebra.jl\" target=\"_blank\">C:\\Users\\IIT BBSR\\.julia\\packages\\GridapDistributed\\XNMqm\\src\\Algebra.jl:365</a></li> <li> local_views(a::<b>PSparseMatrix</b>) in GridapDistributed at <a href=\"file://C:/Users/IIT BBSR/.julia/packages/GridapDistributed/XNMqm/src/Algebra.jl\" target=\"_blank\">C:\\Users\\IIT BBSR\\.julia\\packages\\GridapDistributed\\XNMqm\\src\\Algebra.jl:250</a></li> <li> local_views(a::<b>GridapDistributed.DistributedCellField</b>) in GridapDistributed at <a href=\"file://C:/Users/IIT BBSR/.julia/packages/GridapDistributed/XNMqm/src/CellData.jl\" target=\"_blank\">C:\\Users\\IIT BBSR\\.julia\\packages\\GridapDistributed\\XNMqm\\src\\CellData.jl:36</a></li> <li> local_views(a::<b>PRange</b>) in GridapDistributed at <a href=\"file://C:/Users/IIT BBSR/.julia/packages/GridapDistributed/XNMqm/src/Algebra.jl\" target=\"_blank\">C:\\Users\\IIT BBSR\\.julia\\packages\\GridapDistributed\\XNMqm\\src\\Algebra.jl:248</a></li> <li> local_views(assem::<b>GridapDistributed.DistributedPatchAssembler</b>) in GridapDistributed at <a href=\"file://C:/Users/IIT BBSR/.julia/packages/GridapDistributed/XNMqm/src/PatchAssemblers.jl\" target=\"_blank\">C:\\Users\\IIT BBSR\\.julia\\packages\\GridapDistributed\\XNMqm\\src\\PatchAssemblers.jl:141</a></li> <li> local_views(a::<b>Gridap.MultiField.BlockSparseMatrixAssembler{R, C}</b>)<i> where {R, C}</i> in GridapDistributed at <a href=\"file://C:/Users/IIT BBSR/.julia/packages/GridapDistributed/XNMqm/src/MultiField.jl\" target=\"_blank\">C:\\Users\\IIT BBSR\\.julia\\packages\\GridapDistributed\\XNMqm\\src\\MultiField.jl:478</a></li> <li> local_views(ptopo::<b>GridapDistributed.DistributedPatchTopology</b>) in GridapDistributed at <a href=\"file://C:/Users/IIT BBSR/.julia/packages/GridapDistributed/XNMqm/src/PatchAssemblers.jl\" target=\"_blank\">C:\\Users\\IIT BBSR\\.julia\\packages\\GridapDistributed\\XNMqm\\src\\PatchAssemblers.jl:14</a></li> <li> local_views(s::<b>GridapDistributed.DistributedCellDof</b>) in GridapDistributed at <a href=\"file://C:/Users/IIT BBSR/.julia/packages/GridapDistributed/XNMqm/src/CellData.jl\" target=\"_blank\">C:\\Users\\IIT BBSR\\.julia\\packages\\GridapDistributed\\XNMqm\\src\\CellData.jl:333</a></li> <li> local_views(a::<b>GridapDistributed.DistributedDomainContribution</b>) in GridapDistributed at <a href=\"file://C:/Users/IIT BBSR/.julia/packages/GridapDistributed/XNMqm/src/CellData.jl\" target=\"_blank\">C:\\Users\\IIT BBSR\\.julia\\packages\\GridapDistributed\\XNMqm\\src\\CellData.jl:226</a></li> <li> local_views(a::<b>GridapDistributed.DistributedAllocationCOO</b>, test_dofs_gids_prange, trial_dofs_gids_prange) in GridapDistributed at <a href=\"file://C:/Users/IIT BBSR/.julia/packages/GridapDistributed/XNMqm/src/Algebra.jl\" target=\"_blank\">C:\\Users\\IIT BBSR\\.julia\\packages\\GridapDistributed\\XNMqm\\src\\Algebra.jl:499</a></li> <li> local_views(a::<b>GridapDistributed.DistributedAllocationCOO</b>) in GridapDistributed at <a href=\"file://C:/Users/IIT BBSR/.julia/packages/GridapDistributed/XNMqm/src/Algebra.jl\" target=\"_blank\">C:\\Users\\IIT BBSR\\.julia\\packages\\GridapDistributed\\XNMqm\\src\\Algebra.jl:495</a></li> <li> local_views(a::<b>GridapDistributed.BlockPRange</b>) in GridapDistributed at <a href=\"file://C:/Users/IIT BBSR/.julia/packages/GridapDistributed/XNMqm/src/Algebra.jl\" target=\"_blank\">C:\\Users\\IIT BBSR\\.julia\\packages\\GridapDistributed\\XNMqm\\src\\Algebra.jl:252</a></li> <li> local_views(a::<b>Gridap.Arrays.VectorBlock</b>, rows) in GridapDistributed at <a href=\"file://C:/Users/IIT BBSR/.julia/packages/GridapDistributed/XNMqm/src/MultiField.jl\" target=\"_blank\">C:\\Users\\IIT BBSR\\.julia\\packages\\GridapDistributed\\XNMqm\\src\\MultiField.jl:492</a></li> <li> local_views(a::<b>Gridap.Arrays.MatrixBlock</b>, rows, cols) in GridapDistributed at <a href=\"file://C:/Users/IIT BBSR/.julia/packages/GridapDistributed/XNMqm/src/MultiField.jl\" target=\"_blank\">C:\\Users\\IIT BBSR\\.julia\\packages\\GridapDistributed\\XNMqm\\src\\MultiField.jl:484</a></li> <li> local_views(a::<b>Gridap.Arrays.MatrixBlock{<:GridapDistributed.DistributedAllocationCOO}</b>) in GridapDistributed at <a href=\"file://C:/Users/IIT BBSR/.julia/packages/GridapDistributed/XNMqm/src/Algebra.jl\" target=\"_blank\">C:\\Users\\IIT BBSR\\.julia\\packages\\GridapDistributed\\XNMqm\\src\\Algebra.jl:505</a></li> <li> local_views(a::<b>GridapDistributed.DistributedMultiFieldFESpace</b>) in GridapDistributed at <a href=\"file://C:/Users/IIT BBSR/.julia/packages/GridapDistributed/XNMqm/src/MultiField.jl\" target=\"_blank\">C:\\Users\\IIT BBSR\\.julia\\packages\\GridapDistributed\\XNMqm\\src\\MultiField.jl:93</a></li> <li> local_views(a::<b>GridapDistributed.GenericDistributedDiscreteModel</b>) in GridapDistributed at <a href=\"file://C:/Users/IIT BBSR/.julia/packages/GridapDistributed/XNMqm/src/Geometry.jl\" target=\"_blank\">C:\\Users\\IIT BBSR\\.julia\\packages\\GridapDistributed\\XNMqm\\src\\Geometry.jl:240</a></li> <li> local_views(a::<b>GridapEmbedded.Distributed.DistributedEmbeddedDiscretization</b>) in GridapEmbedded.Distributed at <a href=\"file://C:/Users/IIT BBSR/.julia/packages/GridapEmbedded/PIAqm/src/Distributed/DistributedDiscretizations.jl\" target=\"_blank\">C:\\Users\\IIT BBSR\\.julia\\packages\\GridapEmbedded\\PIAqm\\src\\Distributed\\DistributedDiscretizations.jl:15</a></li> <li> local_views(a::<b>GridapDistributed.DistributedMultiFieldCellField</b>) in GridapDistributed at <a href=\"file://C:/Users/IIT BBSR/.julia/packages/GridapDistributed/XNMqm/src/MultiField.jl\" target=\"_blank\">C:\\Users\\IIT BBSR\\.julia\\packages\\GridapDistributed\\XNMqm\\src\\MultiField.jl:29</a></li> <li> local_views(a::<b>GridapDistributed.DistributedSparseMatrixAssembler</b>) in GridapDistributed at <a href=\"file://C:/Users/IIT BBSR/.julia/packages/GridapDistributed/XNMqm/src/FESpaces.jl\" target=\"_blank\">C:\\Users\\IIT BBSR\\.julia\\packages\\GridapDistributed\\XNMqm\\src\\FESpaces.jl:663</a></li> <li> local_views(a::<b>GridapEmbedded.Distributed.DistributedDiscreteGeometry</b>) in GridapEmbedded.Distributed at <a href=\"file://C:/Users/IIT BBSR/.julia/packages/GridapEmbedded/PIAqm/src/Distributed/DistributedDiscreteGeometries.jl\" target=\"_blank\">C:\\Users\\IIT BBSR\\.julia\\packages\\GridapEmbedded\\PIAqm\\src\\Distributed\\DistributedDiscreteGeometries.jl:6</a></li> <li> local_views(a::<b>GridapDistributed.DistributedCounterCOO</b>, test_dofs_gids_prange, trial_dofs_gids_prange) in GridapDistributed at <a href=\"file://C:/Users/IIT BBSR/.julia/packages/GridapDistributed/XNMqm/src/Algebra.jl\" target=\"_blank\">C:\\Users\\IIT BBSR\\.julia\\packages\\GridapDistributed\\XNMqm\\src\\Algebra.jl:447</a></li> <li> local_views(a::<b>GridapDistributed.DistributedCounterCOO</b>) in GridapDistributed at <a href=\"file://C:/Users/IIT BBSR/.julia/packages/GridapDistributed/XNMqm/src/Algebra.jl\" target=\"_blank\">C:\\Users\\IIT BBSR\\.julia\\packages\\GridapDistributed\\XNMqm\\src\\Algebra.jl:443</a></li> <li> local_views(a::<b>GridapDistributed.DistributedGridTopology</b>) in GridapDistributed at <a href=\"file://C:/Users/IIT BBSR/.julia/packages/GridapDistributed/XNMqm/src/Geometry.jl\" target=\"_blank\">C:\\Users\\IIT BBSR\\.julia\\packages\\GridapDistributed\\XNMqm\\src\\Geometry.jl:62</a></li> <li> local_views(a::<b>GridapDistributed.BlockPArray{V, T, 2} where {V, T}</b>, new_rows::<b>GridapDistributed.BlockPRange</b>, new_cols::<b>GridapDistributed.BlockPRange</b>) in GridapDistributed at <a href=\"file://C:/Users/IIT BBSR/.julia/packages/GridapDistributed/XNMqm/src/Algebra.jl\" target=\"_blank\">C:\\Users\\IIT BBSR\\.julia\\packages\\GridapDistributed\\XNMqm\\src\\Algebra.jl:385</a></li> <li> local_views(a::<b>GridapDistributed.BlockPArray{V, T, 1} where {V, T}</b>, new_rows::<b>GridapDistributed.BlockPRange</b>) in GridapDistributed at <a href=\"file://C:/Users/IIT BBSR/.julia/packages/GridapDistributed/XNMqm/src/Algebra.jl\" target=\"_blank\">C:\\Users\\IIT BBSR\\.julia\\packages\\GridapDistributed\\XNMqm\\src\\Algebra.jl:380</a></li> <li> local_views(a::<b>GridapDistributed.BlockPArray</b>) in GridapDistributed at <a href=\"file://C:/Users/IIT BBSR/.julia/packages/GridapDistributed/XNMqm/src/Algebra.jl\" target=\"_blank\">C:\\Users\\IIT BBSR\\.julia\\packages\\GridapDistributed\\XNMqm\\src\\Algebra.jl:258</a></li> <li> local_views(a::<b>GridapDistributed.DistributedTriangulation</b>) in GridapDistributed at <a href=\"file://C:/Users/IIT BBSR/.julia/packages/GridapDistributed/XNMqm/src/Geometry.jl\" target=\"_blank\">C:\\Users\\IIT BBSR\\.julia\\packages\\GridapDistributed\\XNMqm\\src\\Geometry.jl:551</a></li> <li> local_views(a::<b>GridapDistributed.DistributedMeasure</b>) in GridapDistributed at <a href=\"file://C:/Users/IIT BBSR/.julia/packages/GridapDistributed/XNMqm/src/CellData.jl\" target=\"_blank\">C:\\Users\\IIT BBSR\\.julia\\packages\\GridapDistributed\\XNMqm\\src\\CellData.jl:198</a></li> <li> local_views(d::<b>GridapDistributed.DistributedVisualizationData</b>) in GridapDistributed at <a href=\"file://C:/Users/IIT BBSR/.julia/packages/GridapDistributed/XNMqm/src/Visualization.jl\" target=\"_blank\">C:\\Users\\IIT BBSR\\.julia\\packages\\GridapDistributed\\XNMqm\\src\\Visualization.jl:7</a></li> <li> local_views(g::<b>GridapDistributed.DistributedGrid</b>) in GridapDistributed at <a href=\"file://C:/Users/IIT BBSR/.julia/packages/GridapDistributed/XNMqm/src/Geometry.jl\" target=\"_blank\">C:\\Users\\IIT BBSR\\.julia\\packages\\GridapDistributed\\XNMqm\\src\\Geometry.jl:20</a></li> <li> local_views(a::<b>PVector</b>, new_rows::<b>PRange</b>) in GridapDistributed at <a href=\"file://C:/Users/IIT BBSR/.julia/packages/GridapDistributed/XNMqm/src/Algebra.jl\" target=\"_blank\">C:\\Users\\IIT BBSR\\.julia\\packages\\GridapDistributed\\XNMqm\\src\\Algebra.jl:354</a></li> <li> local_views(a::<b>PVector</b>) in GridapDistributed at <a href=\"file://C:/Users/IIT BBSR/.julia/packages/GridapDistributed/XNMqm/src/Algebra.jl\" target=\"_blank\">C:\\Users\\IIT BBSR\\.julia\\packages\\GridapDistributed\\XNMqm\\src\\Algebra.jl:249</a></li> <li> local_views(a::<b>GridapDistributed.DistributedCellPoint</b>) in GridapDistributed at <a href=\"file://C:/Users/IIT BBSR/.julia/packages/GridapDistributed/XNMqm/src/CellData.jl\" target=\"_blank\">C:\\Users\\IIT BBSR\\.julia\\packages\\GridapDistributed\\XNMqm\\src\\CellData.jl:10</a></li> <li> local_views(a::<b>GridapDistributed.PVectorAllocationTrackTouchedAndValues</b>) in GridapDistributed at <a href=\"file://C:/Users/IIT BBSR/.julia/packages/GridapDistributed/XNMqm/src/Algebra.jl\" target=\"_blank\">C:\\Users\\IIT BBSR\\.julia\\packages\\GridapDistributed\\XNMqm\\src\\Algebra.jl:863</a></li> <li> local_views(a::<b>GridapDistributed.PVectorAllocationTrackTouchedAndValues</b>, rows) in GridapDistributed at <a href=\"file://C:/Users/IIT BBSR/.julia/packages/GridapDistributed/XNMqm/src/Algebra.jl\" target=\"_blank\">C:\\Users\\IIT BBSR\\.julia\\packages\\GridapDistributed\\XNMqm\\src\\Algebra.jl:800</a></li> <li> local_views(a::<b>GridapDistributed.DistributedSingleFieldFESpace</b>) in GridapDistributed at <a href=\"file://C:/Users/IIT BBSR/.julia/packages/GridapDistributed/XNMqm/src/FESpaces.jl\" target=\"_blank\">C:\\Users\\IIT BBSR\\.julia\\packages\\GridapDistributed\\XNMqm\\src\\FESpaces.jl:302</a></li> <li> local_views(a::<b>AbstractVector</b>, rows) in GridapDistributed at <a href=\"file://C:/Users/IIT BBSR/.julia/packages/GridapDistributed/XNMqm/src/Algebra.jl\" target=\"_blank\">C:\\Users\\IIT BBSR\\.julia\\packages\\GridapDistributed\\XNMqm\\src\\Algebra.jl:239</a></li> <li> local_views(a::<b>AbstractMatrix</b>, rows, cols) in GridapDistributed at <a href=\"file://C:/Users/IIT BBSR/.julia/packages/GridapDistributed/XNMqm/src/Algebra.jl\" target=\"_blank\">C:\\Users\\IIT BBSR\\.julia\\packages\\GridapDistributed\\XNMqm\\src\\Algebra.jl:243</a></li> <li> local_views(a::<b>AbstractArray</b>) in GridapDistributed at <a href=\"file://C:/Users/IIT BBSR/.julia/packages/GridapDistributed/XNMqm/src/Algebra.jl\" target=\"_blank\">C:\\Users\\IIT BBSR\\.julia\\packages\\GridapDistributed\\XNMqm\\src\\Algebra.jl:247</a></li> <li> local_views(a::<b>GridapDistributed.PVectorAllocationTrackOnlyValues</b>, rows) in GridapDistributed at <a href=\"file://C:/Users/IIT BBSR/.julia/packages/GridapDistributed/XNMqm/src/Algebra.jl\" target=\"_blank\">C:\\Users\\IIT BBSR\\.julia\\packages\\GridapDistributed\\XNMqm\\src\\Algebra.jl:701</a></li> <li> local_views(a::<b>GridapDistributed.PVectorAllocationTrackOnlyValues</b>) in GridapDistributed at <a href=\"file://C:/Users/IIT BBSR/.julia/packages/GridapDistributed/XNMqm/src/Algebra.jl\" target=\"_blank\">C:\\Users\\IIT BBSR\\.julia\\packages\\GridapDistributed\\XNMqm\\src\\Algebra.jl:697</a></li> <li> local_views(a::<b>GridapDistributed.DistributedInterpolable</b>) in GridapDistributed at <a href=\"file://C:/Users/IIT BBSR/.julia/packages/GridapDistributed/XNMqm/src/CellData.jl\" target=\"_blank\">C:\\Users\\IIT BBSR\\.julia\\packages\\GridapDistributed\\XNMqm\\src\\CellData.jl:376</a></li> <li> local_views(a::<b>GridapSolvers.PatchBasedSmoothers.DistributedPatchDecomposition</b>) in GridapSolvers.PatchBasedSmoothers at <a href=\"file://C:/Users/IIT BBSR/.julia/packages/GridapSolvers/gwyZl/src/PatchBasedSmoothers/DistributedPatchDecompositions.jl\" target=\"_blank\">C:\\Users\\IIT BBSR\\.julia\\packages\\GridapSolvers\\gwyZl\\src\\PatchBasedSmoothers\\DistributedPatchDecompositions.jl:15</a></li> <li> local_views(a) in GridapDistributed at <a href=\"file://C:/Users/IIT BBSR/.julia/packages/GridapDistributed/XNMqm/src/Algebra.jl\" target=\"_blank\">C:\\Users\\IIT BBSR\\.julia\\packages\\GridapDistributed\\XNMqm\\src\\Algebra.jl:231</a></li> </ul>"
      ],
      "text/plain": [
       "# 52 methods for generic function \"local_views\" from \u001b[35mGridapDistributed\u001b[39m:\n",
       "  [1] local_views(\u001b[90mP\u001b[39m::\u001b[1mGridapDistributed.DistributedLocalOperator\u001b[22m)\n",
       "\u001b[90m     @\u001b[39m \u001b[90mC:\\Users\\IIT BBSR\\.julia\\packages\\GridapDistributed\\XNMqm\\src\\\u001b[39m\u001b[90m\u001b[4mPatchAssemblers.jl:107\u001b[24m\u001b[39m\n",
       "  [2] local_views(\u001b[90ma\u001b[39m::\u001b[1mGridapDistributed.DistributedFaceLabeling\u001b[22m)\n",
       "\u001b[90m     @\u001b[39m \u001b[90mC:\\Users\\IIT BBSR\\.julia\\packages\\GridapDistributed\\XNMqm\\src\\\u001b[39m\u001b[90m\u001b[4mGeometry.jl:118\u001b[24m\u001b[39m\n",
       "  [3] local_views(\u001b[90ma\u001b[39m::\u001b[1mVector\u001b[22m\u001b[0m{<:GridapDistributed.DistributedCellField})\n",
       "\u001b[90m     @\u001b[39m \u001b[90mC:\\Users\\IIT BBSR\\.julia\\packages\\GridapDistributed\\XNMqm\\src\\\u001b[39m\u001b[90m\u001b[4mMultiField.jl:30\u001b[24m\u001b[39m\n",
       "  [4] local_views(\u001b[90ma\u001b[39m::\u001b[1mGridap.Arrays.ArrayBlockView\u001b[22m, \u001b[90maxes...\u001b[39m)\n",
       "\u001b[90m     @\u001b[39m \u001b[90mC:\\Users\\IIT BBSR\\.julia\\packages\\GridapDistributed\\XNMqm\\src\\\u001b[39m\u001b[90m\u001b[4mMultiField.jl:500\u001b[24m\u001b[39m\n",
       "  [5] local_views(\u001b[90ma\u001b[39m::\u001b[1mGridapDistributed.PVectorCounter\u001b[22m, \u001b[90mrows\u001b[39m)\n",
       "\u001b[90m     @\u001b[39m \u001b[90mC:\\Users\\IIT BBSR\\.julia\\packages\\GridapDistributed\\XNMqm\\src\\\u001b[39m\u001b[90m\u001b[4mAlgebra.jl:680\u001b[24m\u001b[39m\n",
       "  [6] local_views(\u001b[90ma\u001b[39m::\u001b[1mGridapDistributed.PVectorCounter\u001b[22m)\n",
       "\u001b[90m     @\u001b[39m \u001b[90mC:\\Users\\IIT BBSR\\.julia\\packages\\GridapDistributed\\XNMqm\\src\\\u001b[39m\u001b[90m\u001b[4mAlgebra.jl:676\u001b[24m\u001b[39m\n",
       "  [7] local_views(\u001b[90mk\u001b[39m::\u001b[1mGridapSolvers.MultilevelTools.SpaceProjectionMap\u001b[22m)\n",
       "\u001b[90m     @\u001b[39m \u001b[36mGridapSolvers.MultilevelTools\u001b[39m \u001b[90mC:\\Users\\IIT BBSR\\.julia\\packages\\GridapSolvers\\gwyZl\\src\\MultilevelTools\\\u001b[39m\u001b[90m\u001b[4mLocalProjectionMaps.jl:204\u001b[24m\u001b[39m\n",
       "  [8] local_views(\u001b[90ma\u001b[39m::\u001b[1mPSparseMatrix\u001b[22m, \u001b[90mnew_rows\u001b[39m::\u001b[1mPRange\u001b[22m, \u001b[90mnew_cols\u001b[39m::\u001b[1mPRange\u001b[22m)\n",
       "\u001b[90m     @\u001b[39m \u001b[90mC:\\Users\\IIT BBSR\\.julia\\packages\\GridapDistributed\\XNMqm\\src\\\u001b[39m\u001b[90m\u001b[4mAlgebra.jl:365\u001b[24m\u001b[39m\n",
       "  [9] local_views(\u001b[90ma\u001b[39m::\u001b[1mPSparseMatrix\u001b[22m)\n",
       "\u001b[90m     @\u001b[39m \u001b[90mC:\\Users\\IIT BBSR\\.julia\\packages\\GridapDistributed\\XNMqm\\src\\\u001b[39m\u001b[90m\u001b[4mAlgebra.jl:250\u001b[24m\u001b[39m\n",
       " [10] local_views(\u001b[90ma\u001b[39m::\u001b[1mGridapDistributed.DistributedCellField\u001b[22m)\n",
       "\u001b[90m     @\u001b[39m \u001b[90mC:\\Users\\IIT BBSR\\.julia\\packages\\GridapDistributed\\XNMqm\\src\\\u001b[39m\u001b[90m\u001b[4mCellData.jl:36\u001b[24m\u001b[39m\n",
       " [11] local_views(\u001b[90ma\u001b[39m::\u001b[1mPRange\u001b[22m)\n",
       "\u001b[90m     @\u001b[39m \u001b[90mC:\\Users\\IIT BBSR\\.julia\\packages\\GridapDistributed\\XNMqm\\src\\\u001b[39m\u001b[90m\u001b[4mAlgebra.jl:248\u001b[24m\u001b[39m\n",
       " [12] local_views(\u001b[90massem\u001b[39m::\u001b[1mGridapDistributed.DistributedPatchAssembler\u001b[22m)\n",
       "\u001b[90m     @\u001b[39m \u001b[90mC:\\Users\\IIT BBSR\\.julia\\packages\\GridapDistributed\\XNMqm\\src\\\u001b[39m\u001b[90m\u001b[4mPatchAssemblers.jl:141\u001b[24m\u001b[39m\n",
       " [13] local_views(\u001b[90ma\u001b[39m::\u001b[1mGridap.MultiField.BlockSparseMatrixAssembler\u001b[22m\u001b[0m{R, C}) where {R, C}\n",
       "\u001b[90m     @\u001b[39m \u001b[90mC:\\Users\\IIT BBSR\\.julia\\packages\\GridapDistributed\\XNMqm\\src\\\u001b[39m\u001b[90m\u001b[4mMultiField.jl:478\u001b[24m\u001b[39m\n",
       " [14] local_views(\u001b[90mptopo\u001b[39m::\u001b[1mGridapDistributed.DistributedPatchTopology\u001b[22m)\n",
       "\u001b[90m     @\u001b[39m \u001b[90mC:\\Users\\IIT BBSR\\.julia\\packages\\GridapDistributed\\XNMqm\\src\\\u001b[39m\u001b[90m\u001b[4mPatchAssemblers.jl:14\u001b[24m\u001b[39m\n",
       " [15] local_views(\u001b[90ms\u001b[39m::\u001b[1mGridapDistributed.DistributedCellDof\u001b[22m)\n",
       "\u001b[90m     @\u001b[39m \u001b[90mC:\\Users\\IIT BBSR\\.julia\\packages\\GridapDistributed\\XNMqm\\src\\\u001b[39m\u001b[90m\u001b[4mCellData.jl:333\u001b[24m\u001b[39m\n",
       " [16] local_views(\u001b[90ma\u001b[39m::\u001b[1mGridapDistributed.DistributedDomainContribution\u001b[22m)\n",
       "\u001b[90m     @\u001b[39m \u001b[90mC:\\Users\\IIT BBSR\\.julia\\packages\\GridapDistributed\\XNMqm\\src\\\u001b[39m\u001b[90m\u001b[4mCellData.jl:226\u001b[24m\u001b[39m\n",
       " [17] local_views(\u001b[90ma\u001b[39m::\u001b[1mGridapDistributed.DistributedAllocationCOO\u001b[22m, \u001b[90mtest_dofs_gids_prange\u001b[39m, \u001b[90mtrial_dofs_gids_prange\u001b[39m)\n",
       "\u001b[90m     @\u001b[39m \u001b[90mC:\\Users\\IIT BBSR\\.julia\\packages\\GridapDistributed\\XNMqm\\src\\\u001b[39m\u001b[90m\u001b[4mAlgebra.jl:499\u001b[24m\u001b[39m\n",
       " [18] local_views(\u001b[90ma\u001b[39m::\u001b[1mGridapDistributed.DistributedAllocationCOO\u001b[22m)\n",
       "\u001b[90m     @\u001b[39m \u001b[90mC:\\Users\\IIT BBSR\\.julia\\packages\\GridapDistributed\\XNMqm\\src\\\u001b[39m\u001b[90m\u001b[4mAlgebra.jl:495\u001b[24m\u001b[39m\n",
       " [19] local_views(\u001b[90ma\u001b[39m::\u001b[1mGridapDistributed.BlockPRange\u001b[22m)\n",
       "\u001b[90m     @\u001b[39m \u001b[90mC:\\Users\\IIT BBSR\\.julia\\packages\\GridapDistributed\\XNMqm\\src\\\u001b[39m\u001b[90m\u001b[4mAlgebra.jl:252\u001b[24m\u001b[39m\n",
       " [20] local_views(\u001b[90ma\u001b[39m::\u001b[1mGridap.Arrays.VectorBlock\u001b[22m, \u001b[90mrows\u001b[39m)\n",
       "\u001b[90m     @\u001b[39m \u001b[90mC:\\Users\\IIT BBSR\\.julia\\packages\\GridapDistributed\\XNMqm\\src\\\u001b[39m\u001b[90m\u001b[4mMultiField.jl:492\u001b[24m\u001b[39m\n",
       " [21] local_views(\u001b[90ma\u001b[39m::\u001b[1mGridap.Arrays.MatrixBlock\u001b[22m, \u001b[90mrows\u001b[39m, \u001b[90mcols\u001b[39m)\n",
       "\u001b[90m     @\u001b[39m \u001b[90mC:\\Users\\IIT BBSR\\.julia\\packages\\GridapDistributed\\XNMqm\\src\\\u001b[39m\u001b[90m\u001b[4mMultiField.jl:484\u001b[24m\u001b[39m\n",
       " [22] local_views(\u001b[90ma\u001b[39m::\u001b[1mGridap.Arrays.MatrixBlock\u001b[22m\u001b[0m{<:GridapDistributed.DistributedAllocationCOO})\n",
       "\u001b[90m     @\u001b[39m \u001b[90mC:\\Users\\IIT BBSR\\.julia\\packages\\GridapDistributed\\XNMqm\\src\\\u001b[39m\u001b[90m\u001b[4mAlgebra.jl:505\u001b[24m\u001b[39m\n",
       " [23] local_views(\u001b[90ma\u001b[39m::\u001b[1mGridapDistributed.DistributedMultiFieldFESpace\u001b[22m)\n",
       "\u001b[90m     @\u001b[39m \u001b[90mC:\\Users\\IIT BBSR\\.julia\\packages\\GridapDistributed\\XNMqm\\src\\\u001b[39m\u001b[90m\u001b[4mMultiField.jl:93\u001b[24m\u001b[39m\n",
       " [24] local_views(\u001b[90ma\u001b[39m::\u001b[1mGridapDistributed.GenericDistributedDiscreteModel\u001b[22m)\n",
       "\u001b[90m     @\u001b[39m \u001b[90mC:\\Users\\IIT BBSR\\.julia\\packages\\GridapDistributed\\XNMqm\\src\\\u001b[39m\u001b[90m\u001b[4mGeometry.jl:240\u001b[24m\u001b[39m\n",
       " [25] local_views(\u001b[90ma\u001b[39m::\u001b[1mGridapEmbedded.Distributed.DistributedEmbeddedDiscretization\u001b[22m)\n",
       "\u001b[90m     @\u001b[39m \u001b[32mGridapEmbedded.Distributed\u001b[39m \u001b[90mC:\\Users\\IIT BBSR\\.julia\\packages\\GridapEmbedded\\PIAqm\\src\\Distributed\\\u001b[39m\u001b[90m\u001b[4mDistributedDiscretizations.jl:15\u001b[24m\u001b[39m\n",
       " [26] local_views(\u001b[90ma\u001b[39m::\u001b[1mGridapDistributed.DistributedMultiFieldCellField\u001b[22m)\n",
       "\u001b[90m     @\u001b[39m \u001b[90mC:\\Users\\IIT BBSR\\.julia\\packages\\GridapDistributed\\XNMqm\\src\\\u001b[39m\u001b[90m\u001b[4mMultiField.jl:29\u001b[24m\u001b[39m\n",
       " [27] local_views(\u001b[90ma\u001b[39m::\u001b[1mGridapDistributed.DistributedSparseMatrixAssembler\u001b[22m)\n",
       "\u001b[90m     @\u001b[39m \u001b[90mC:\\Users\\IIT BBSR\\.julia\\packages\\GridapDistributed\\XNMqm\\src\\\u001b[39m\u001b[90m\u001b[4mFESpaces.jl:663\u001b[24m\u001b[39m\n",
       " [28] local_views(\u001b[90ma\u001b[39m::\u001b[1mGridapEmbedded.Distributed.DistributedDiscreteGeometry\u001b[22m)\n",
       "\u001b[90m     @\u001b[39m \u001b[32mGridapEmbedded.Distributed\u001b[39m \u001b[90mC:\\Users\\IIT BBSR\\.julia\\packages\\GridapEmbedded\\PIAqm\\src\\Distributed\\\u001b[39m\u001b[90m\u001b[4mDistributedDiscreteGeometries.jl:6\u001b[24m\u001b[39m\n",
       " [29] local_views(\u001b[90ma\u001b[39m::\u001b[1mGridapDistributed.DistributedCounterCOO\u001b[22m, \u001b[90mtest_dofs_gids_prange\u001b[39m, \u001b[90mtrial_dofs_gids_prange\u001b[39m)\n",
       "\u001b[90m     @\u001b[39m \u001b[90mC:\\Users\\IIT BBSR\\.julia\\packages\\GridapDistributed\\XNMqm\\src\\\u001b[39m\u001b[90m\u001b[4mAlgebra.jl:447\u001b[24m\u001b[39m\n",
       " [30] local_views(\u001b[90ma\u001b[39m::\u001b[1mGridapDistributed.DistributedCounterCOO\u001b[22m)\n",
       "\u001b[90m     @\u001b[39m \u001b[90mC:\\Users\\IIT BBSR\\.julia\\packages\\GridapDistributed\\XNMqm\\src\\\u001b[39m\u001b[90m\u001b[4mAlgebra.jl:443\u001b[24m\u001b[39m\n",
       " [31] local_views(\u001b[90ma\u001b[39m::\u001b[1mGridapDistributed.DistributedGridTopology\u001b[22m)\n",
       "\u001b[90m     @\u001b[39m \u001b[90mC:\\Users\\IIT BBSR\\.julia\\packages\\GridapDistributed\\XNMqm\\src\\\u001b[39m\u001b[90m\u001b[4mGeometry.jl:62\u001b[24m\u001b[39m\n",
       " [32] local_views(\u001b[90ma\u001b[39m::\u001b[1mGridapDistributed.BlockPArray\u001b[22m\u001b[0m{V, T, 2} where {V, T}, \u001b[90mnew_rows\u001b[39m::\u001b[1mGridapDistributed.BlockPRange\u001b[22m, \u001b[90mnew_cols\u001b[39m::\u001b[1mGridapDistributed.BlockPRange\u001b[22m)\n",
       "\u001b[90m     @\u001b[39m \u001b[90mC:\\Users\\IIT BBSR\\.julia\\packages\\GridapDistributed\\XNMqm\\src\\\u001b[39m\u001b[90m\u001b[4mAlgebra.jl:385\u001b[24m\u001b[39m\n",
       " [33] local_views(\u001b[90ma\u001b[39m::\u001b[1mGridapDistributed.BlockPArray\u001b[22m\u001b[0m{V, T, 1} where {V, T}, \u001b[90mnew_rows\u001b[39m::\u001b[1mGridapDistributed.BlockPRange\u001b[22m)\n",
       "\u001b[90m     @\u001b[39m \u001b[90mC:\\Users\\IIT BBSR\\.julia\\packages\\GridapDistributed\\XNMqm\\src\\\u001b[39m\u001b[90m\u001b[4mAlgebra.jl:380\u001b[24m\u001b[39m\n",
       " [34] local_views(\u001b[90ma\u001b[39m::\u001b[1mGridapDistributed.BlockPArray\u001b[22m)\n",
       "\u001b[90m     @\u001b[39m \u001b[90mC:\\Users\\IIT BBSR\\.julia\\packages\\GridapDistributed\\XNMqm\\src\\\u001b[39m\u001b[90m\u001b[4mAlgebra.jl:258\u001b[24m\u001b[39m\n",
       " [35] local_views(\u001b[90ma\u001b[39m::\u001b[1mGridapDistributed.DistributedTriangulation\u001b[22m)\n",
       "\u001b[90m     @\u001b[39m \u001b[90mC:\\Users\\IIT BBSR\\.julia\\packages\\GridapDistributed\\XNMqm\\src\\\u001b[39m\u001b[90m\u001b[4mGeometry.jl:551\u001b[24m\u001b[39m\n",
       " [36] local_views(\u001b[90ma\u001b[39m::\u001b[1mGridapDistributed.DistributedMeasure\u001b[22m)\n",
       "\u001b[90m     @\u001b[39m \u001b[90mC:\\Users\\IIT BBSR\\.julia\\packages\\GridapDistributed\\XNMqm\\src\\\u001b[39m\u001b[90m\u001b[4mCellData.jl:198\u001b[24m\u001b[39m\n",
       " [37] local_views(\u001b[90md\u001b[39m::\u001b[1mGridapDistributed.DistributedVisualizationData\u001b[22m)\n",
       "\u001b[90m     @\u001b[39m \u001b[90mC:\\Users\\IIT BBSR\\.julia\\packages\\GridapDistributed\\XNMqm\\src\\\u001b[39m\u001b[90m\u001b[4mVisualization.jl:7\u001b[24m\u001b[39m\n",
       " [38] local_views(\u001b[90mg\u001b[39m::\u001b[1mGridapDistributed.DistributedGrid\u001b[22m)\n",
       "\u001b[90m     @\u001b[39m \u001b[90mC:\\Users\\IIT BBSR\\.julia\\packages\\GridapDistributed\\XNMqm\\src\\\u001b[39m\u001b[90m\u001b[4mGeometry.jl:20\u001b[24m\u001b[39m\n",
       " [39] local_views(\u001b[90ma\u001b[39m::\u001b[1mPVector\u001b[22m, \u001b[90mnew_rows\u001b[39m::\u001b[1mPRange\u001b[22m)\n",
       "\u001b[90m     @\u001b[39m \u001b[90mC:\\Users\\IIT BBSR\\.julia\\packages\\GridapDistributed\\XNMqm\\src\\\u001b[39m\u001b[90m\u001b[4mAlgebra.jl:354\u001b[24m\u001b[39m\n",
       " [40] local_views(\u001b[90ma\u001b[39m::\u001b[1mPVector\u001b[22m)\n",
       "\u001b[90m     @\u001b[39m \u001b[90mC:\\Users\\IIT BBSR\\.julia\\packages\\GridapDistributed\\XNMqm\\src\\\u001b[39m\u001b[90m\u001b[4mAlgebra.jl:249\u001b[24m\u001b[39m\n",
       " [41] local_views(\u001b[90ma\u001b[39m::\u001b[1mGridapDistributed.DistributedCellPoint\u001b[22m)\n",
       "\u001b[90m     @\u001b[39m \u001b[90mC:\\Users\\IIT BBSR\\.julia\\packages\\GridapDistributed\\XNMqm\\src\\\u001b[39m\u001b[90m\u001b[4mCellData.jl:10\u001b[24m\u001b[39m\n",
       " [42] local_views(\u001b[90ma\u001b[39m::\u001b[1mGridapDistributed.PVectorAllocationTrackTouchedAndValues\u001b[22m)\n",
       "\u001b[90m     @\u001b[39m \u001b[90mC:\\Users\\IIT BBSR\\.julia\\packages\\GridapDistributed\\XNMqm\\src\\\u001b[39m\u001b[90m\u001b[4mAlgebra.jl:863\u001b[24m\u001b[39m\n",
       " [43] local_views(\u001b[90ma\u001b[39m::\u001b[1mGridapDistributed.PVectorAllocationTrackTouchedAndValues\u001b[22m, \u001b[90mrows\u001b[39m)\n",
       "\u001b[90m     @\u001b[39m \u001b[90mC:\\Users\\IIT BBSR\\.julia\\packages\\GridapDistributed\\XNMqm\\src\\\u001b[39m\u001b[90m\u001b[4mAlgebra.jl:800\u001b[24m\u001b[39m\n",
       " [44] local_views(\u001b[90ma\u001b[39m::\u001b[1mGridapDistributed.DistributedSingleFieldFESpace\u001b[22m)\n",
       "\u001b[90m     @\u001b[39m \u001b[90mC:\\Users\\IIT BBSR\\.julia\\packages\\GridapDistributed\\XNMqm\\src\\\u001b[39m\u001b[90m\u001b[4mFESpaces.jl:302\u001b[24m\u001b[39m\n",
       " [45] local_views(\u001b[90ma\u001b[39m::\u001b[1mAbstractVector\u001b[22m, \u001b[90mrows\u001b[39m)\n",
       "\u001b[90m     @\u001b[39m \u001b[90mC:\\Users\\IIT BBSR\\.julia\\packages\\GridapDistributed\\XNMqm\\src\\\u001b[39m\u001b[90m\u001b[4mAlgebra.jl:239\u001b[24m\u001b[39m\n",
       " [46] local_views(\u001b[90ma\u001b[39m::\u001b[1mAbstractMatrix\u001b[22m, \u001b[90mrows\u001b[39m, \u001b[90mcols\u001b[39m)\n",
       "\u001b[90m     @\u001b[39m \u001b[90mC:\\Users\\IIT BBSR\\.julia\\packages\\GridapDistributed\\XNMqm\\src\\\u001b[39m\u001b[90m\u001b[4mAlgebra.jl:243\u001b[24m\u001b[39m\n",
       " [47] local_views(\u001b[90ma\u001b[39m::\u001b[1mAbstractArray\u001b[22m)\n",
       "\u001b[90m     @\u001b[39m \u001b[90mC:\\Users\\IIT BBSR\\.julia\\packages\\GridapDistributed\\XNMqm\\src\\\u001b[39m\u001b[90m\u001b[4mAlgebra.jl:247\u001b[24m\u001b[39m\n",
       " [48] local_views(\u001b[90ma\u001b[39m::\u001b[1mGridapDistributed.PVectorAllocationTrackOnlyValues\u001b[22m, \u001b[90mrows\u001b[39m)\n",
       "\u001b[90m     @\u001b[39m \u001b[90mC:\\Users\\IIT BBSR\\.julia\\packages\\GridapDistributed\\XNMqm\\src\\\u001b[39m\u001b[90m\u001b[4mAlgebra.jl:701\u001b[24m\u001b[39m\n",
       " [49] local_views(\u001b[90ma\u001b[39m::\u001b[1mGridapDistributed.PVectorAllocationTrackOnlyValues\u001b[22m)\n",
       "\u001b[90m     @\u001b[39m \u001b[90mC:\\Users\\IIT BBSR\\.julia\\packages\\GridapDistributed\\XNMqm\\src\\\u001b[39m\u001b[90m\u001b[4mAlgebra.jl:697\u001b[24m\u001b[39m\n",
       " [50] local_views(\u001b[90ma\u001b[39m::\u001b[1mGridapDistributed.DistributedInterpolable\u001b[22m)\n",
       "\u001b[90m     @\u001b[39m \u001b[90mC:\\Users\\IIT BBSR\\.julia\\packages\\GridapDistributed\\XNMqm\\src\\\u001b[39m\u001b[90m\u001b[4mCellData.jl:376\u001b[24m\u001b[39m\n",
       " [51] local_views(\u001b[90ma\u001b[39m::\u001b[1mGridapSolvers.PatchBasedSmoothers.DistributedPatchDecomposition\u001b[22m)\n",
       "\u001b[90m     @\u001b[39m \u001b[36mGridapSolvers.PatchBasedSmoothers\u001b[39m \u001b[90mC:\\Users\\IIT BBSR\\.julia\\packages\\GridapSolvers\\gwyZl\\src\\PatchBasedSmoothers\\\u001b[39m\u001b[90m\u001b[4mDistributedPatchDecompositions.jl:15\u001b[24m\u001b[39m\n",
       " [52] local_views(\u001b[90ma\u001b[39m)\n",
       "\u001b[90m     @\u001b[39m \u001b[90mC:\\Users\\IIT BBSR\\.julia\\packages\\GridapDistributed\\XNMqm\\src\\\u001b[39m\u001b[90m\u001b[4mAlgebra.jl:231\u001b[24m\u001b[39m"
      ]
     },
     "metadata": {},
     "output_type": "display_data"
    }
   ],
   "source": [
    "using GridapDistributed: local_views\n",
    "@which local_views\n",
    "methods(local_views) "
   ]
  },
  {
   "cell_type": "code",
   "execution_count": null,
   "id": "cafcfec8",
   "metadata": {},
   "outputs": [],
   "source": [
    "# using \n",
    "@which \n",
    "# methods() "
   ]
  },
  {
   "cell_type": "code",
   "execution_count": null,
   "id": "beaed32c",
   "metadata": {},
   "outputs": [],
   "source": [
    "# using \n",
    "@which \n",
    "# methods() "
   ]
  },
  {
   "cell_type": "code",
   "execution_count": null,
   "id": "440accea",
   "metadata": {},
   "outputs": [],
   "source": [
    "# using \n",
    "@which \n",
    "# methods() "
   ]
  },
  {
   "cell_type": "code",
   "execution_count": null,
   "id": "205fafeb",
   "metadata": {},
   "outputs": [],
   "source": [
    "# using \n",
    "@which \n",
    "# methods() "
   ]
  },
  {
   "cell_type": "code",
   "execution_count": null,
   "id": "fffdbc2b",
   "metadata": {},
   "outputs": [],
   "source": [
    "# using \n",
    "@which \n",
    "# methods() "
   ]
  },
  {
   "cell_type": "code",
   "execution_count": null,
   "id": "2cff0fa0",
   "metadata": {},
   "outputs": [],
   "source": [
    "# using \n",
    "@which \n",
    "# methods() "
   ]
  },
  {
   "cell_type": "code",
   "execution_count": null,
   "id": "3a4c7a55",
   "metadata": {},
   "outputs": [],
   "source": [
    "# using \n",
    "@which \n",
    "# methods() "
   ]
  },
  {
   "cell_type": "code",
   "execution_count": null,
   "id": "7588927a",
   "metadata": {},
   "outputs": [],
   "source": [
    "# using \n",
    "@which \n",
    "# methods() "
   ]
  },
  {
   "cell_type": "code",
   "execution_count": null,
   "id": "f48075a3",
   "metadata": {},
   "outputs": [],
   "source": [
    "# using \n",
    "@which \n",
    "# methods() "
   ]
  },
  {
   "cell_type": "code",
   "execution_count": null,
   "id": "4afd3b6b",
   "metadata": {},
   "outputs": [],
   "source": [
    "# using \n",
    "@which \n",
    "# methods() "
   ]
  },
  {
   "cell_type": "code",
   "execution_count": null,
   "id": "83637549",
   "metadata": {},
   "outputs": [],
   "source": [
    "# using \n",
    "@which \n",
    "# methods() "
   ]
  },
  {
   "cell_type": "code",
   "execution_count": null,
   "id": "ce1d8689",
   "metadata": {},
   "outputs": [],
   "source": [
    "# using \n",
    "@which \n",
    "# methods() "
   ]
  },
  {
   "cell_type": "code",
   "execution_count": null,
   "id": "577bd535",
   "metadata": {},
   "outputs": [],
   "source": [
    "# using \n",
    "@which \n",
    "# methods() "
   ]
  },
  {
   "cell_type": "code",
   "execution_count": null,
   "id": "68b59c0c",
   "metadata": {},
   "outputs": [],
   "source": [
    "# using \n",
    "@which \n",
    "# methods() "
   ]
  },
  {
   "cell_type": "code",
   "execution_count": null,
   "id": "ebea110a",
   "metadata": {},
   "outputs": [],
   "source": [
    "# using \n",
    "@which \n",
    "# methods() "
   ]
  },
  {
   "cell_type": "code",
   "execution_count": null,
   "id": "91d1bf3e",
   "metadata": {},
   "outputs": [],
   "source": [
    "# using \n",
    "@which \n",
    "# methods() "
   ]
  },
  {
   "cell_type": "code",
   "execution_count": null,
   "id": "9a234d0e",
   "metadata": {},
   "outputs": [],
   "source": [
    "# using \n",
    "@which \n",
    "# methods() "
   ]
  },
  {
   "cell_type": "code",
   "execution_count": null,
   "id": "556b0bbf",
   "metadata": {},
   "outputs": [],
   "source": [
    "# using \n",
    "@which \n",
    "# methods() "
   ]
  },
  {
   "cell_type": "code",
   "execution_count": null,
   "id": "4f3d21f9",
   "metadata": {},
   "outputs": [],
   "source": [
    "# using \n",
    "@which \n",
    "# methods() "
   ]
  },
  {
   "cell_type": "code",
   "execution_count": null,
   "id": "ed6c7d00",
   "metadata": {},
   "outputs": [],
   "source": [
    "# using \n",
    "@which \n",
    "# methods() "
   ]
  },
  {
   "cell_type": "code",
   "execution_count": null,
   "id": "6751e8f6",
   "metadata": {},
   "outputs": [],
   "source": [
    "# using \n",
    "@which \n",
    "# methods() "
   ]
  },
  {
   "cell_type": "code",
   "execution_count": null,
   "id": "8edfba57",
   "metadata": {},
   "outputs": [],
   "source": [
    "# using \n",
    "@which \n",
    "# methods() "
   ]
  },
  {
   "cell_type": "code",
   "execution_count": null,
   "id": "dc048bac",
   "metadata": {},
   "outputs": [],
   "source": [
    "# using \n",
    "@which \n",
    "# methods() "
   ]
  },
  {
   "cell_type": "code",
   "execution_count": null,
   "id": "f81c0797",
   "metadata": {},
   "outputs": [],
   "source": [
    "# using \n",
    "@which \n",
    "# methods() "
   ]
  },
  {
   "cell_type": "code",
   "execution_count": null,
   "id": "c15cdf6b",
   "metadata": {},
   "outputs": [],
   "source": [
    "# using \n",
    "@which \n",
    "# methods() "
   ]
  },
  {
   "cell_type": "code",
   "execution_count": null,
   "id": "e5a7fd95",
   "metadata": {},
   "outputs": [],
   "source": [
    "# using \n",
    "@which \n",
    "# methods() "
   ]
  },
  {
   "cell_type": "code",
   "execution_count": null,
   "id": "bf1a6717",
   "metadata": {},
   "outputs": [],
   "source": [
    "# using \n",
    "@which \n",
    "# methods() "
   ]
  },
  {
   "cell_type": "code",
   "execution_count": null,
   "id": "2f50507f",
   "metadata": {},
   "outputs": [],
   "source": [
    "# using \n",
    "@which \n",
    "# methods() "
   ]
  },
  {
   "cell_type": "code",
   "execution_count": 1,
   "id": "7e59c7bf",
   "metadata": {},
   "outputs": [],
   "source": [
    "using Gridap, Gridap.Geometry, Gridap.Adaptivity, Gridap.MultiField, Gridap.TensorValues\n",
    "using GridapEmbedded, GridapEmbedded.LevelSetCutters\n",
    "using GridapSolvers, GridapSolvers.BlockSolvers, GridapSolvers.NonlinearSolvers\n",
    "using GridapGmsh\n",
    "using GridapDistributed\n",
    "using PartitionedArrays\n",
    "using GridapPETSc\n",
    "using GridapTopOpt\n",
    "using GridapTopOpt: StateParamMap"
   ]
  }
 ],
 "metadata": {
  "kernelspec": {
   "display_name": "Julia 1.11.6",
   "language": "julia",
   "name": "julia-1.11"
  },
  "language_info": {
   "file_extension": ".jl",
   "mimetype": "application/julia",
   "name": "julia",
   "version": "1.11.6"
  }
 },
 "nbformat": 4,
 "nbformat_minor": 5
}

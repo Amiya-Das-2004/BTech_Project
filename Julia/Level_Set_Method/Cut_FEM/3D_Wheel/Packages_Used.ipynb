{
 "cells": [
  {
   "cell_type": "code",
   "execution_count": null,
   "id": "08cfac1d",
   "metadata": {},
   "outputs": [
    {
     "data": {
      "text/html": [
       "# 5 methods for generic function <b>GmshDiscreteModel</b> from \u001b[35mGridapGmsh\u001b[39m:<ul><li> GmshDiscreteModel(gmsh::<b>Module</b>; <i>has_affine_map, orient_if_simplex</i>) in GridapGmsh at <a href=\"file://C:/Users/IIT BBSR/.julia/packages/GridapGmsh/Iih5l/src/GmshDiscreteModels.jl\" target=\"_blank\">C:\\Users\\IIT BBSR\\.julia\\packages\\GridapGmsh\\Iih5l\\src\\GmshDiscreteModels.jl:30</a></li> <li> GmshDiscreteModel(parts::<b>Nothing</b>, args...; <i>kwargs...</i>) in GridapGmsh at <a href=\"file://C:/Users/IIT BBSR/.julia/packages/GridapGmsh/Iih5l/src/GmshDiscreteModels.jl\" target=\"_blank\">C:\\Users\\IIT BBSR\\.julia\\packages\\GridapGmsh\\Iih5l\\src\\GmshDiscreteModels.jl:987</a></li> <li> GmshDiscreteModel(do_partition, parts::<b>AbstractVector</b>, args...; <i>kwargs...</i>) in GridapGmsh at <a href=\"file://C:/Users/IIT BBSR/.julia/packages/GridapGmsh/Iih5l/src/GmshDiscreteModels.jl\" target=\"_blank\">C:\\Users\\IIT BBSR\\.julia\\packages\\GridapGmsh\\Iih5l\\src\\GmshDiscreteModels.jl:974</a></li> <li> GmshDiscreteModel(parts::<b>AbstractVector</b>, args...; <i>kwargs...</i>) in GridapGmsh at <a href=\"file://C:/Users/IIT BBSR/.julia/packages/GridapGmsh/Iih5l/src/GmshDiscreteModels.jl\" target=\"_blank\">C:\\Users\\IIT BBSR\\.julia\\packages\\GridapGmsh\\Iih5l\\src\\GmshDiscreteModels.jl:964</a></li> <li> GmshDiscreteModel(mshfile; <i>renumber, has_affine_map, orient_if_simplex</i>) in GridapGmsh at <a href=\"file://C:/Users/IIT BBSR/.julia/packages/GridapGmsh/Iih5l/src/GmshDiscreteModels.jl\" target=\"_blank\">C:\\Users\\IIT BBSR\\.julia\\packages\\GridapGmsh\\Iih5l\\src\\GmshDiscreteModels.jl:12</a></li> </ul>"
      ],
      "text/plain": [
       "# 5 methods for generic function \"GmshDiscreteModel\" from \u001b[35mGridapGmsh\u001b[39m:\n",
       " [1] GmshDiscreteModel(\u001b[90mgmsh\u001b[39m::\u001b[1mModule\u001b[22m; has_affine_map, orient_if_simplex)\n",
       "\u001b[90m     @\u001b[39m \u001b[90mC:\\Users\\IIT BBSR\\.julia\\packages\\GridapGmsh\\Iih5l\\src\\\u001b[39m\u001b[90m\u001b[4mGmshDiscreteModels.jl:30\u001b[24m\u001b[39m\n",
       " [2] GmshDiscreteModel(\u001b[90mparts\u001b[39m::\u001b[1mNothing\u001b[22m, \u001b[90margs...\u001b[39m; kwargs...)\n",
       "\u001b[90m     @\u001b[39m \u001b[90mC:\\Users\\IIT BBSR\\.julia\\packages\\GridapGmsh\\Iih5l\\src\\\u001b[39m\u001b[90m\u001b[4mGmshDiscreteModels.jl:987\u001b[24m\u001b[39m\n",
       " [3] GmshDiscreteModel(\u001b[90mdo_partition\u001b[39m, \u001b[90mparts\u001b[39m::\u001b[1mAbstractVector\u001b[22m, \u001b[90margs...\u001b[39m; kwargs...)\n",
       "\u001b[90m     @\u001b[39m \u001b[90mC:\\Users\\IIT BBSR\\.julia\\packages\\GridapGmsh\\Iih5l\\src\\\u001b[39m\u001b[90m\u001b[4mGmshDiscreteModels.jl:974\u001b[24m\u001b[39m\n",
       " [4] GmshDiscreteModel(\u001b[90mparts\u001b[39m::\u001b[1mAbstractVector\u001b[22m, \u001b[90margs...\u001b[39m; kwargs...)\n",
       "\u001b[90m     @\u001b[39m \u001b[90mC:\\Users\\IIT BBSR\\.julia\\packages\\GridapGmsh\\Iih5l\\src\\\u001b[39m\u001b[90m\u001b[4mGmshDiscreteModels.jl:964\u001b[24m\u001b[39m\n",
       " [5] GmshDiscreteModel(\u001b[90mmshfile\u001b[39m; renumber, has_affine_map, orient_if_simplex)\n",
       "\u001b[90m     @\u001b[39m \u001b[90mC:\\Users\\IIT BBSR\\.julia\\packages\\GridapGmsh\\Iih5l\\src\\\u001b[39m\u001b[90m\u001b[4mGmshDiscreteModels.jl:12\u001b[24m\u001b[39m"
      ]
     },
     "metadata": {},
     "output_type": "display_data"
    }
   ],
   "source": [
    "using GridapGmsh.GridapGmsh\n",
    "@which GmshDiscreteModel\n",
    "methods(GmshDiscreteModel)"
   ]
  },
  {
   "cell_type": "code",
   "execution_count": null,
   "id": "f0637259",
   "metadata": {},
   "outputs": [
    {
     "data": {
      "text/html": [
       "# 5 methods for type constructor:<ul><li> UnstructuredDiscreteModel(model::<b>GridapDistributed.GenericDistributedDiscreteModel</b>) in GridapDistributed at <a href=\"file://C:/Users/IIT BBSR/.julia/packages/GridapDistributed/XNMqm/src/Geometry.jl\" target=\"_blank\">C:\\Users\\IIT BBSR\\.julia\\packages\\GridapDistributed\\XNMqm\\src\\Geometry.jl:514</a></li> <li> UnstructuredDiscreteModel(grid::<b>UnstructuredGrid{Dc, Dp, Tp, B}</b>, grid_topology::<b>UnstructuredGridTopology{Dc, Dp, Tp, B}</b>, face_labeling::<b>FaceLabeling</b>)<i> where {Dc, Dp, Tp, B}</i> in Gridap.Geometry at <a href=\"file://C:/Users/IIT BBSR/.julia/packages/Gridap/JD3zW/src/Geometry/UnstructuredDiscreteModels.jl\" target=\"_blank\">C:\\Users\\IIT BBSR\\.julia\\packages\\Gridap\\JD3zW\\src\\Geometry\\UnstructuredDiscreteModels.jl:12</a></li> <li> UnstructuredDiscreteModel(model::<b>UnstructuredDiscreteModel</b>) in Gridap.Geometry at <a href=\"file://C:/Users/IIT BBSR/.julia/packages/Gridap/JD3zW/src/Geometry/UnstructuredDiscreteModels.jl\" target=\"_blank\">C:\\Users\\IIT BBSR\\.julia\\packages\\Gridap\\JD3zW\\src\\Geometry\\UnstructuredDiscreteModels.jl:37</a></li> <li> UnstructuredDiscreteModel(model::<b>DiscreteModel</b>) in Gridap.Geometry at <a href=\"file://C:/Users/IIT BBSR/.julia/packages/Gridap/JD3zW/src/Geometry/UnstructuredDiscreteModels.jl\" target=\"_blank\">C:\\Users\\IIT BBSR\\.julia\\packages\\Gridap\\JD3zW\\src\\Geometry\\UnstructuredDiscreteModels.jl:30</a></li> <li> UnstructuredDiscreteModel(grid::<b>Grid</b>) in Gridap.Geometry at <a href=\"file://C:/Users/IIT BBSR/.julia/packages/Gridap/JD3zW/src/Geometry/UnstructuredDiscreteModels.jl\" target=\"_blank\">C:\\Users\\IIT BBSR\\.julia\\packages\\Gridap\\JD3zW\\src\\Geometry\\UnstructuredDiscreteModels.jl:20</a></li> </ul>"
      ],
      "text/plain": [
       "# 5 methods for type constructor:\n",
       " [1] UnstructuredDiscreteModel(\u001b[90mmodel\u001b[39m::\u001b[1mGridapDistributed.GenericDistributedDiscreteModel\u001b[22m)\n",
       "\u001b[90m     @\u001b[39m \u001b[36mGridapDistributed\u001b[39m \u001b[90mC:\\Users\\IIT BBSR\\.julia\\packages\\GridapDistributed\\XNMqm\\src\\\u001b[39m\u001b[90m\u001b[4mGeometry.jl:514\u001b[24m\u001b[39m\n",
       " [2] UnstructuredDiscreteModel(\u001b[90mgrid\u001b[39m::\u001b[1mUnstructuredGrid\u001b[22m\u001b[0m{Dc, Dp, Tp, B}, \u001b[90mgrid_topology\u001b[39m::\u001b[1mUnstructuredGridTopology\u001b[22m\u001b[0m{Dc, Dp, Tp, B}, \u001b[90mface_labeling\u001b[39m::\u001b[1mFaceLabeling\u001b[22m) where {Dc, Dp, Tp, B}\n",
       "\u001b[90m     @\u001b[39m \u001b[90mC:\\Users\\IIT BBSR\\.julia\\packages\\Gridap\\JD3zW\\src\\Geometry\\\u001b[39m\u001b[90m\u001b[4mUnstructuredDiscreteModels.jl:12\u001b[24m\u001b[39m\n",
       " [3] UnstructuredDiscreteModel(\u001b[90mmodel\u001b[39m::\u001b[1mUnstructuredDiscreteModel\u001b[22m)\n",
       "\u001b[90m     @\u001b[39m \u001b[90mC:\\Users\\IIT BBSR\\.julia\\packages\\Gridap\\JD3zW\\src\\Geometry\\\u001b[39m\u001b[90m\u001b[4mUnstructuredDiscreteModels.jl:37\u001b[24m\u001b[39m\n",
       " [4] UnstructuredDiscreteModel(\u001b[90mmodel\u001b[39m::\u001b[1mDiscreteModel\u001b[22m)\n",
       "\u001b[90m     @\u001b[39m \u001b[90mC:\\Users\\IIT BBSR\\.julia\\packages\\Gridap\\JD3zW\\src\\Geometry\\\u001b[39m\u001b[90m\u001b[4mUnstructuredDiscreteModels.jl:30\u001b[24m\u001b[39m\n",
       " [5] UnstructuredDiscreteModel(\u001b[90mgrid\u001b[39m::\u001b[1mGrid\u001b[22m)\n",
       "\u001b[90m     @\u001b[39m \u001b[90mC:\\Users\\IIT BBSR\\.julia\\packages\\Gridap\\JD3zW\\src\\Geometry\\\u001b[39m\u001b[90m\u001b[4mUnstructuredDiscreteModels.jl:20\u001b[24m\u001b[39m"
      ]
     },
     "metadata": {},
     "output_type": "display_data"
    }
   ],
   "source": [
    "using Gridap.Geometry\n",
    "@which UnstructuredDiscreteModel\n",
    "methods(UnstructuredDiscreteModel)"
   ]
  },
  {
   "cell_type": "code",
   "execution_count": 24,
   "id": "dd01ff47",
   "metadata": {},
   "outputs": [
    {
     "data": {
      "text/html": [
       "# 2 methods for generic function <b>update_labels!</b> from \u001b[32mGridapTopOpt\u001b[39m:<ul><li> update_labels!(e::<b>Integer</b>, model::<b>GridapDistributed.DistributedDiscreteModel</b>, f_Γ::<b>Function</b>, name::<b>String</b>) in GridapTopOpt at <a href=\"file://C:/Users/IIT BBSR/.julia/packages/GridapTopOpt/zQxvu/src/Utilities.jl\" target=\"_blank\">C:\\Users\\IIT BBSR\\.julia\\packages\\GridapTopOpt\\zQxvu\\src\\Utilities.jl:84</a></li> <li> update_labels!(e::<b>Integer</b>, model::<b>DiscreteModel</b>, f_Γ::<b>Function</b>, name::<b>String</b>) in GridapTopOpt at <a href=\"file://C:/Users/IIT BBSR/.julia/packages/GridapTopOpt/zQxvu/src/Utilities.jl\" target=\"_blank\">C:\\Users\\IIT BBSR\\.julia\\packages\\GridapTopOpt\\zQxvu\\src\\Utilities.jl:78</a></li> </ul>"
      ],
      "text/plain": [
       "# 2 methods for generic function \"update_labels!\" from \u001b[32mGridapTopOpt\u001b[39m:\n",
       " [1] update_labels!(\u001b[90me\u001b[39m::\u001b[1mInteger\u001b[22m, \u001b[90mmodel\u001b[39m::\u001b[1mGridapDistributed.DistributedDiscreteModel\u001b[22m, \u001b[90mf_Γ\u001b[39m::\u001b[1mFunction\u001b[22m, \u001b[90mname\u001b[39m::\u001b[1mString\u001b[22m)\n",
       "\u001b[90m     @\u001b[39m \u001b[90mC:\\Users\\IIT BBSR\\.julia\\packages\\GridapTopOpt\\zQxvu\\src\\\u001b[39m\u001b[90m\u001b[4mUtilities.jl:84\u001b[24m\u001b[39m\n",
       " [2] update_labels!(\u001b[90me\u001b[39m::\u001b[1mInteger\u001b[22m, \u001b[90mmodel\u001b[39m::\u001b[1mDiscreteModel\u001b[22m, \u001b[90mf_Γ\u001b[39m::\u001b[1mFunction\u001b[22m, \u001b[90mname\u001b[39m::\u001b[1mString\u001b[22m)\n",
       "\u001b[90m     @\u001b[39m \u001b[90mC:\\Users\\IIT BBSR\\.julia\\packages\\GridapTopOpt\\zQxvu\\src\\\u001b[39m\u001b[90m\u001b[4mUtilities.jl:78\u001b[24m\u001b[39m"
      ]
     },
     "metadata": {},
     "output_type": "display_data"
    }
   ],
   "source": [
    "using GridapTopOpt\n",
    "@which update_labels!\n",
    "methods(update_labels!)"
   ]
  },
  {
   "cell_type": "code",
   "execution_count": 4,
   "id": "7299fbd5",
   "metadata": {},
   "outputs": [
    {
     "data": {
      "text/html": [
       "# 37 methods for type constructor:<ul><li> Triangulation(cutgeo::<b>GridapEmbedded.Distributed.DistributedEmbeddedDiscretization</b>, in_or_out::<b>GridapEmbedded.Interfaces.ActiveInOrOut</b>, args...) in GridapEmbedded.Distributed at <a href=\"file://C:/Users/IIT BBSR/.julia/packages/GridapEmbedded/PIAqm/src/Distributed/DistributedDiscretizations.jl\" target=\"_blank\">C:\\Users\\IIT BBSR\\.julia\\packages\\GridapEmbedded\\PIAqm\\src\\Distributed\\DistributedDiscretizations.jl:63</a></li> <li> Triangulation(cut::<b>EmbeddedDiscretization</b>, name::<b>String</b>) in GridapEmbedded.Interfaces at <a href=\"file://C:/Users/IIT BBSR/.julia/packages/GridapEmbedded/PIAqm/src/Interfaces/EmbeddedDiscretizations.jl\" target=\"_blank\">C:\\Users\\IIT BBSR\\.julia\\packages\\GridapEmbedded\\PIAqm\\src\\Interfaces\\EmbeddedDiscretizations.jl:275</a></li> <li> Triangulation(cut::<b>EmbeddedDiscretization</b>, geo::<b>GridapEmbedded.CSG.Geometry</b>) in GridapEmbedded.Interfaces at <a href=\"file://C:/Users/IIT BBSR/.julia/packages/GridapEmbedded/PIAqm/src/Interfaces/EmbeddedDiscretizations.jl\" target=\"_blank\">C:\\Users\\IIT BBSR\\.julia\\packages\\GridapEmbedded\\PIAqm\\src\\Interfaces\\EmbeddedDiscretizations.jl:280</a></li> <li> Triangulation(::<b>Type{ReferenceFE{D}}</b>, model::<b>GridapDistributed.DistributedDiscreteModel</b>; <i>kwargs...</i>)<i> where D</i> in GridapDistributed at <a href=\"file://C:/Users/IIT BBSR/.julia/packages/GridapDistributed/XNMqm/src/Geometry.jl\" target=\"_blank\">C:\\Users\\IIT BBSR\\.julia\\packages\\GridapDistributed\\XNMqm\\src\\Geometry.jl:587</a></li> <li> Triangulation(cut::<b>STLCutters.STLEmbeddedDiscretization</b>, args...) in STLCutters at <a href=\"file://C:/Users/IIT BBSR/.julia/packages/STLCutters/oEu9o/src/Embedded.jl\" target=\"_blank\">C:\\Users\\IIT BBSR\\.julia\\packages\\STLCutters\\oEu9o\\src\\Embedded.jl:90</a></li> <li> Triangulation(portion, cutgeo::<b>GridapEmbedded.Distributed.DistributedEmbeddedDiscretization</b>, args...) in GridapEmbedded.Distributed at <a href=\"file://C:/Users/IIT BBSR/.julia/packages/GridapEmbedded/PIAqm/src/Distributed/DistributedDiscretizations.jl\" target=\"_blank\">C:\\Users\\IIT BBSR\\.julia\\packages\\GridapEmbedded\\PIAqm\\src\\Distributed\\DistributedDiscretizations.jl:75</a></li> <li> Triangulation(cutgeo::<b>GridapEmbedded.Distributed.DistributedEmbeddedDiscretization</b>, args...) in GridapEmbedded.Distributed at <a href=\"file://C:/Users/IIT BBSR/.julia/packages/GridapEmbedded/PIAqm/src/Distributed/DistributedDiscretizations.jl\" target=\"_blank\">C:\\Users\\IIT BBSR\\.julia\\packages\\GridapEmbedded\\PIAqm\\src\\Distributed\\DistributedDiscretizations.jl:71</a></li> <li> Triangulation(portion, gids::<b>AbstractLocalIndices</b>, cutgeo::<b>GridapEmbedded.Interfaces.AbstractEmbeddedDiscretization</b>, args...) in GridapEmbedded.Distributed at <a href=\"file://C:/Users/IIT BBSR/.julia/packages/GridapEmbedded/PIAqm/src/Distributed/DistributedDiscretizations.jl\" target=\"_blank\">C:\\Users\\IIT BBSR\\.julia\\packages\\GridapEmbedded\\PIAqm\\src\\Distributed\\DistributedDiscretizations.jl:84</a></li> <li> Triangulation(model::<b>DiscreteModel</b>, args...; <i>kwargs...</i>) in Gridap.Geometry at <a href=\"file://C:/Users/IIT BBSR/.julia/packages/Gridap/JD3zW/src/Geometry/Triangulations.jl\" target=\"_blank\">C:\\Users\\IIT BBSR\\.julia\\packages\\Gridap\\JD3zW\\src\\Geometry\\Triangulations.jl:216</a></li> <li> Triangulation(portion, cutgeo::<b>GridapEmbedded.Distributed.DistributedEmbeddedDiscretization</b>, cutinorout, geom::<b>GridapEmbedded.Distributed.DistributedDiscreteGeometry</b>) in GridapEmbedded.Distributed at <a href=\"file://C:/Users/IIT BBSR/.julia/packages/GridapEmbedded/PIAqm/src/Distributed/DistributedDiscreteGeometries.jl\" target=\"_blank\">C:\\Users\\IIT BBSR\\.julia\\packages\\GridapEmbedded\\PIAqm\\src\\Distributed\\DistributedDiscreteGeometries.jl:50</a></li> <li> Triangulation(trian::<b>AdaptedTriangulation</b>, args...; <i>kwargs...</i>) in Gridap.Adaptivity at <a href=\"file://C:/Users/IIT BBSR/.julia/packages/Gridap/JD3zW/src/Adaptivity/AdaptedTriangulations.jl\" target=\"_blank\">C:\\Users\\IIT BBSR\\.julia\\packages\\Gridap\\JD3zW\\src\\Adaptivity\\AdaptedTriangulations.jl:97</a></li> <li> Triangulation(trian::<b>Triangulation</b>, sface_to_tface::<b>AbstractArray{<:Integer}</b>) in Gridap.Geometry at <a href=\"file://C:/Users/IIT BBSR/.julia/packages/Gridap/JD3zW/src/Geometry/Triangulations.jl\" target=\"_blank\">C:\\Users\\IIT BBSR\\.julia\\packages\\Gridap\\JD3zW\\src\\Geometry\\Triangulations.jl:231</a></li> <li> Triangulation(trian::<b>Triangulation</b>, tface_filter::<b>AbstractArray{<:Bool}</b>) in Gridap.Geometry at <a href=\"file://C:/Users/IIT BBSR/.julia/packages/Gridap/JD3zW/src/Geometry/Triangulations.jl\" target=\"_blank\">C:\\Users\\IIT BBSR\\.julia\\packages\\Gridap\\JD3zW\\src\\Geometry\\Triangulations.jl:235</a></li> <li> Triangulation(portion, gids::<b>AbstractLocalIndices</b>, args...; <i>kwargs...</i>) in GridapDistributed at <a href=\"file://C:/Users/IIT BBSR/.julia/packages/GridapDistributed/XNMqm/src/Geometry.jl\" target=\"_blank\">C:\\Users\\IIT BBSR\\.julia\\packages\\GridapDistributed\\XNMqm\\src\\Geometry.jl:691</a></li> <li> Triangulation(cut::<b>EmbeddedDiscretization</b>, in_or_out, name::<b>String</b>) in GridapEmbedded.Interfaces at <a href=\"file://C:/Users/IIT BBSR/.julia/packages/GridapEmbedded/PIAqm/src/Interfaces/EmbeddedDiscretizations.jl\" target=\"_blank\">C:\\Users\\IIT BBSR\\.julia\\packages\\GridapEmbedded\\PIAqm\\src\\Interfaces\\EmbeddedDiscretizations.jl:292</a></li> <li> Triangulation(cut::<b>EmbeddedDiscretization</b>, in_or_out) in GridapEmbedded.Interfaces at <a href=\"file://C:/Users/IIT BBSR/.julia/packages/GridapEmbedded/PIAqm/src/Interfaces/EmbeddedDiscretizations.jl\" target=\"_blank\">C:\\Users\\IIT BBSR\\.julia\\packages\\GridapEmbedded\\PIAqm\\src\\Interfaces\\EmbeddedDiscretizations.jl:271</a></li> <li> Triangulation(portion, model::<b>GridapDistributed.DistributedDiscreteModel</b>; <i>kwargs...</i>) in GridapDistributed at <a href=\"file://C:/Users/IIT BBSR/.julia/packages/GridapDistributed/XNMqm/src/Geometry.jl\" target=\"_blank\">C:\\Users\\IIT BBSR\\.julia\\packages\\GridapDistributed\\XNMqm\\src\\Geometry.jl:591</a></li> <li> Triangulation(trian::<b>Triangulation</b>, args...; <i>kwargs...</i>) in Gridap.Geometry at <a href=\"file://C:/Users/IIT BBSR/.julia/packages/Gridap/JD3zW/src/Geometry/Triangulations.jl\" target=\"_blank\">C:\\Users\\IIT BBSR\\.julia\\packages\\Gridap\\JD3zW\\src\\Geometry\\Triangulations.jl:221</a></li> <li> Triangulation(trian::<b>Triangulation</b>) in Gridap.Geometry at <a href=\"file://C:/Users/IIT BBSR/.julia/packages/Gridap/JD3zW/src/Geometry/Triangulations.jl\" target=\"_blank\">C:\\Users\\IIT BBSR\\.julia\\packages\\Gridap\\JD3zW\\src\\Geometry\\Triangulations.jl:227</a></li> <li> Triangulation(portion, ::<b>Type{ReferenceFE{D}}</b>, model::<b>GridapDistributed.DistributedDiscreteModel</b>; <i>kwargs...</i>)<i> where D</i> in GridapDistributed at <a href=\"file://C:/Users/IIT BBSR/.julia/packages/GridapDistributed/XNMqm/src/Geometry.jl\" target=\"_blank\">C:\\Users\\IIT BBSR\\.julia\\packages\\GridapDistributed\\XNMqm\\src\\Geometry.jl:596</a></li> <li> Triangulation(::<b>Type{ReferenceFE{d}}</b>, model::<b>AdaptedDiscreteModel</b>, mface_filter::<b>AbstractVector{Bool}</b>)<i> where d</i> in Gridap.Adaptivity at <a href=\"file://C:/Users/IIT BBSR/.julia/packages/Gridap/JD3zW/src/Adaptivity/AdaptedTriangulations.jl\" target=\"_blank\">C:\\Users\\IIT BBSR\\.julia\\packages\\Gridap\\JD3zW\\src\\Adaptivity\\AdaptedTriangulations.jl:90</a></li> <li> Triangulation(::<b>Type{ReferenceFE{d}}</b>, model::<b>DiscreteModel</b>, tface_to_mface::<b>AbstractVector{<:Integer}</b>)<i> where d</i> in Gridap.Geometry at <a href=\"file://C:/Users/IIT BBSR/.julia/packages/Gridap/JD3zW/src/Geometry/Triangulations.jl\" target=\"_blank\">C:\\Users\\IIT BBSR\\.julia\\packages\\Gridap\\JD3zW\\src\\Geometry\\Triangulations.jl:178</a></li> <li> Triangulation(::<b>Type{ReferenceFE{d}}</b>, model::<b>DiscreteModel</b>, mface_filter::<b>AbstractVector{Bool}</b>)<i> where d</i> in Gridap.Geometry at <a href=\"file://C:/Users/IIT BBSR/.julia/packages/Gridap/JD3zW/src/Geometry/Triangulations.jl\" target=\"_blank\">C:\\Users\\IIT BBSR\\.julia\\packages\\Gridap\\JD3zW\\src\\Geometry\\Triangulations.jl:193</a></li> <li> Triangulation(::<b>Type{ReferenceFE{d}}</b>, model::<b>AdaptedDiscreteModel</b>, tface_to_mface::<b>AbstractVector{<:Integer}</b>)<i> where d</i> in Gridap.Adaptivity at <a href=\"file://C:/Users/IIT BBSR/.julia/packages/Gridap/JD3zW/src/Adaptivity/AdaptedTriangulations.jl\" target=\"_blank\">C:\\Users\\IIT BBSR\\.julia\\packages\\Gridap\\JD3zW\\src\\Adaptivity\\AdaptedTriangulations.jl:76</a></li> <li> Triangulation(::<b>Type{ReferenceFE{d}}</b>, model::<b>AdaptedDiscreteModel</b>, args...; <i>kwargs...</i>)<i> where d</i> in Gridap.Adaptivity at <a href=\"file://C:/Users/IIT BBSR/.julia/packages/Gridap/JD3zW/src/Adaptivity/AdaptedTriangulations.jl\" target=\"_blank\">C:\\Users\\IIT BBSR\\.julia\\packages\\Gridap\\JD3zW\\src\\Adaptivity\\AdaptedTriangulations.jl:71</a></li> <li> Triangulation(::<b>Type{ReferenceFE{d}}</b>, model::<b>DiscreteModel</b>, mface_filter::<b>AbstractArray{Bool}</b>)<i> where d</i> in Gridap.Geometry at <a href=\"file://C:/Users/IIT BBSR/.julia/packages/Gridap/JD3zW/src/Geometry/Triangulations.jl\" target=\"_blank\">C:\\Users\\IIT BBSR\\.julia\\packages\\Gridap\\JD3zW\\src\\Geometry\\Triangulations.jl:186</a></li> <li> Triangulation(::<b>Type{ReferenceFE{d}}</b>, model::<b>AdaptedDiscreteModel</b>, mface_filter::<b>AbstractArray{Bool}</b>)<i> where d</i> in Gridap.Adaptivity at <a href=\"file://C:/Users/IIT BBSR/.julia/packages/Gridap/JD3zW/src/Adaptivity/AdaptedTriangulations.jl\" target=\"_blank\">C:\\Users\\IIT BBSR\\.julia\\packages\\Gridap\\JD3zW\\src\\Adaptivity\\AdaptedTriangulations.jl:83</a></li> <li> Triangulation(::<b>Type{ReferenceFE{d}}</b>, model::<b>DiscreteModel</b>, labels::<b>FaceLabeling</b>; <i>tags</i>)<i> where d</i> in Gridap.Geometry at <a href=\"file://C:/Users/IIT BBSR/.julia/packages/Gridap/JD3zW/src/Geometry/Triangulations.jl\" target=\"_blank\">C:\\Users\\IIT BBSR\\.julia\\packages\\Gridap\\JD3zW\\src\\Geometry\\Triangulations.jl:200</a></li> <li> Triangulation(::<b>Type{ReferenceFE{d}}</b>, model::<b>DiscreteModel</b>; <i>kwargs...</i>)<i> where d</i> in Gridap.Geometry at <a href=\"file://C:/Users/IIT BBSR/.julia/packages/Gridap/JD3zW/src/Geometry/Triangulations.jl\" target=\"_blank\">C:\\Users\\IIT BBSR\\.julia\\packages\\Gridap\\JD3zW\\src\\Geometry\\Triangulations.jl:211</a></li> <li> Triangulation(model::<b>GridapDistributed.DistributedDiscreteModel</b>; <i>kwargs...</i>) in GridapDistributed at <a href=\"file://C:/Users/IIT BBSR/.julia/packages/GridapDistributed/XNMqm/src/Geometry.jl\" target=\"_blank\">C:\\Users\\IIT BBSR\\.julia\\packages\\GridapDistributed\\XNMqm\\src\\Geometry.jl:582</a></li> <li> Triangulation(PD::<b>PatchDecomposition</b>) in GridapSolvers.PatchBasedSmoothers at <a href=\"file://C:/Users/IIT BBSR/.julia/packages/GridapSolvers/gwyZl/src/PatchBasedSmoothers/PatchTriangulations.jl\" target=\"_blank\">C:\\Users\\IIT BBSR\\.julia\\packages\\GridapSolvers\\gwyZl\\src\\PatchBasedSmoothers\\PatchTriangulations.jl:58</a></li> <li> Triangulation(a::<b>GridapSolvers.PatchBasedSmoothers.DistributedPatchDecomposition</b>) in GridapSolvers.PatchBasedSmoothers at <a href=\"file://C:/Users/IIT BBSR/.julia/packages/GridapSolvers/gwyZl/src/PatchBasedSmoothers/DistributedPatchDecompositions.jl\" target=\"_blank\">C:\\Users\\IIT BBSR\\.julia\\packages\\GridapSolvers\\gwyZl\\src\\PatchBasedSmoothers\\DistributedPatchDecompositions.jl:60</a></li> <li> Triangulation(cut::<b>EmbeddedDiscretization</b>, in_or_out::<b>GridapEmbedded.Interfaces.CutInOrOut</b>, geo::<b>GridapEmbedded.CSG.Geometry</b>) in GridapEmbedded.Interfaces at <a href=\"file://C:/Users/IIT BBSR/.julia/packages/GridapEmbedded/PIAqm/src/Interfaces/EmbeddedDiscretizations.jl\" target=\"_blank\">C:\\Users\\IIT BBSR\\.julia\\packages\\GridapEmbedded\\PIAqm\\src\\Interfaces\\EmbeddedDiscretizations.jl:303</a></li> <li> Triangulation(cut::<b>EmbeddedDiscretization</b>, in_or_out::<b>GridapEmbedded.Interfaces.ActiveInOrOut</b>, geo::<b>GridapEmbedded.CSG.Geometry</b>) in GridapEmbedded.Interfaces at <a href=\"file://C:/Users/IIT BBSR/.julia/packages/GridapEmbedded/PIAqm/src/Interfaces/EmbeddedDiscretizations.jl\" target=\"_blank\">C:\\Users\\IIT BBSR\\.julia\\packages\\GridapEmbedded\\PIAqm\\src\\Interfaces\\EmbeddedDiscretizations.jl:319</a></li> <li> Triangulation(cut::<b>EmbeddedDiscretization</b>, in_or_out::<b>Integer</b>, geo::<b>GridapEmbedded.CSG.Geometry</b>) in GridapEmbedded.Interfaces at <a href=\"file://C:/Users/IIT BBSR/.julia/packages/GridapEmbedded/PIAqm/src/Interfaces/EmbeddedDiscretizations.jl\" target=\"_blank\">C:\\Users\\IIT BBSR\\.julia\\packages\\GridapEmbedded\\PIAqm\\src\\Interfaces\\EmbeddedDiscretizations.jl:313</a></li> <li> Triangulation(cut::<b>EmbeddedDiscretization</b>, in_or_out::<b>Tuple</b>, geo::<b>GridapEmbedded.CSG.Geometry</b>) in GridapEmbedded.Interfaces at <a href=\"file://C:/Users/IIT BBSR/.julia/packages/GridapEmbedded/PIAqm/src/Interfaces/EmbeddedDiscretizations.jl\" target=\"_blank\">C:\\Users\\IIT BBSR\\.julia\\packages\\GridapEmbedded\\PIAqm\\src\\Interfaces\\EmbeddedDiscretizations.jl:297</a></li> <li> Triangulation(cut::<b>EmbeddedDiscretization</b>) in GridapEmbedded.Interfaces at <a href=\"file://C:/Users/IIT BBSR/.julia/packages/GridapEmbedded/PIAqm/src/Interfaces/EmbeddedDiscretizations.jl\" target=\"_blank\">C:\\Users\\IIT BBSR\\.julia\\packages\\GridapEmbedded\\PIAqm\\src\\Interfaces\\EmbeddedDiscretizations.jl:255</a></li> </ul>"
      ],
      "text/plain": [
       "# 37 methods for type constructor:\n",
       "  [1] Triangulation(\u001b[90mcutgeo\u001b[39m::\u001b[1mGridapEmbedded.Distributed.DistributedEmbeddedDiscretization\u001b[22m, \u001b[90min_or_out\u001b[39m::\u001b[1mGridapEmbedded.Interfaces.ActiveInOrOut\u001b[22m, \u001b[90margs...\u001b[39m)\n",
       "\u001b[90m     @\u001b[39m \u001b[35mGridapEmbedded.Distributed\u001b[39m \u001b[90mC:\\Users\\IIT BBSR\\.julia\\packages\\GridapEmbedded\\PIAqm\\src\\Distributed\\\u001b[39m\u001b[90m\u001b[4mDistributedDiscretizations.jl:63\u001b[24m\u001b[39m\n",
       "  [2] Triangulation(\u001b[90mcut\u001b[39m::\u001b[1mEmbeddedDiscretization\u001b[22m, \u001b[90mname\u001b[39m::\u001b[1mString\u001b[22m)\n",
       "\u001b[90m     @\u001b[39m \u001b[35mGridapEmbedded.Interfaces\u001b[39m \u001b[90mC:\\Users\\IIT BBSR\\.julia\\packages\\GridapEmbedded\\PIAqm\\src\\Interfaces\\\u001b[39m\u001b[90m\u001b[4mEmbeddedDiscretizations.jl:275\u001b[24m\u001b[39m\n",
       "  [3] Triangulation(\u001b[90mcut\u001b[39m::\u001b[1mEmbeddedDiscretization\u001b[22m, \u001b[90mgeo\u001b[39m::\u001b[1mGridapEmbedded.CSG.Geometry\u001b[22m)\n",
       "\u001b[90m     @\u001b[39m \u001b[35mGridapEmbedded.Interfaces\u001b[39m \u001b[90mC:\\Users\\IIT BBSR\\.julia\\packages\\GridapEmbedded\\PIAqm\\src\\Interfaces\\\u001b[39m\u001b[90m\u001b[4mEmbeddedDiscretizations.jl:280\u001b[24m\u001b[39m\n",
       "  [4] Triangulation(::\u001b[1mType\u001b[22m\u001b[0m{ReferenceFE{D}}, \u001b[90mmodel\u001b[39m::\u001b[1mGridapDistributed.DistributedDiscreteModel\u001b[22m; kwargs...) where D\n",
       "\u001b[90m     @\u001b[39m \u001b[36mGridapDistributed\u001b[39m \u001b[90mC:\\Users\\IIT BBSR\\.julia\\packages\\GridapDistributed\\XNMqm\\src\\\u001b[39m\u001b[90m\u001b[4mGeometry.jl:587\u001b[24m\u001b[39m\n",
       "  [5] Triangulation(\u001b[90mcut\u001b[39m::\u001b[1mSTLCutters.STLEmbeddedDiscretization\u001b[22m, \u001b[90margs...\u001b[39m)\n",
       "\u001b[90m     @\u001b[39m \u001b[32mSTLCutters\u001b[39m \u001b[90mC:\\Users\\IIT BBSR\\.julia\\packages\\STLCutters\\oEu9o\\src\\\u001b[39m\u001b[90m\u001b[4mEmbedded.jl:90\u001b[24m\u001b[39m\n",
       "  [6] Triangulation(\u001b[90mportion\u001b[39m, \u001b[90mcutgeo\u001b[39m::\u001b[1mGridapEmbedded.Distributed.DistributedEmbeddedDiscretization\u001b[22m, \u001b[90margs...\u001b[39m)\n",
       "\u001b[90m     @\u001b[39m \u001b[35mGridapEmbedded.Distributed\u001b[39m \u001b[90mC:\\Users\\IIT BBSR\\.julia\\packages\\GridapEmbedded\\PIAqm\\src\\Distributed\\\u001b[39m\u001b[90m\u001b[4mDistributedDiscretizations.jl:75\u001b[24m\u001b[39m\n",
       "  [7] Triangulation(\u001b[90mcutgeo\u001b[39m::\u001b[1mGridapEmbedded.Distributed.DistributedEmbeddedDiscretization\u001b[22m, \u001b[90margs...\u001b[39m)\n",
       "\u001b[90m     @\u001b[39m \u001b[35mGridapEmbedded.Distributed\u001b[39m \u001b[90mC:\\Users\\IIT BBSR\\.julia\\packages\\GridapEmbedded\\PIAqm\\src\\Distributed\\\u001b[39m\u001b[90m\u001b[4mDistributedDiscretizations.jl:71\u001b[24m\u001b[39m\n",
       "  [8] Triangulation(\u001b[90mportion\u001b[39m, \u001b[90mgids\u001b[39m::\u001b[1mAbstractLocalIndices\u001b[22m, \u001b[90mcutgeo\u001b[39m::\u001b[1mGridapEmbedded.Interfaces.AbstractEmbeddedDiscretization\u001b[22m, \u001b[90margs...\u001b[39m)\n",
       "\u001b[90m     @\u001b[39m \u001b[35mGridapEmbedded.Distributed\u001b[39m \u001b[90mC:\\Users\\IIT BBSR\\.julia\\packages\\GridapEmbedded\\PIAqm\\src\\Distributed\\\u001b[39m\u001b[90m\u001b[4mDistributedDiscretizations.jl:84\u001b[24m\u001b[39m\n",
       "  [9] Triangulation(\u001b[90mmodel\u001b[39m::\u001b[1mDiscreteModel\u001b[22m, \u001b[90margs...\u001b[39m; kwargs...)\n",
       "\u001b[90m     @\u001b[39m \u001b[90mC:\\Users\\IIT BBSR\\.julia\\packages\\Gridap\\JD3zW\\src\\Geometry\\\u001b[39m\u001b[90m\u001b[4mTriangulations.jl:216\u001b[24m\u001b[39m\n",
       " [10] Triangulation(\u001b[90mportion\u001b[39m, \u001b[90mcutgeo\u001b[39m::\u001b[1mGridapEmbedded.Distributed.DistributedEmbeddedDiscretization\u001b[22m, \u001b[90mcutinorout\u001b[39m, \u001b[90mgeom\u001b[39m::\u001b[1mGridapEmbedded.Distributed.DistributedDiscreteGeometry\u001b[22m)\n",
       "\u001b[90m     @\u001b[39m \u001b[35mGridapEmbedded.Distributed\u001b[39m \u001b[90mC:\\Users\\IIT BBSR\\.julia\\packages\\GridapEmbedded\\PIAqm\\src\\Distributed\\\u001b[39m\u001b[90m\u001b[4mDistributedDiscreteGeometries.jl:50\u001b[24m\u001b[39m\n",
       " [11] Triangulation(\u001b[90mtrian\u001b[39m::\u001b[1mAdaptedTriangulation\u001b[22m, \u001b[90margs...\u001b[39m; kwargs...)\n",
       "\u001b[90m     @\u001b[39m \u001b[33mGridap.Adaptivity\u001b[39m \u001b[90mC:\\Users\\IIT BBSR\\.julia\\packages\\Gridap\\JD3zW\\src\\Adaptivity\\\u001b[39m\u001b[90m\u001b[4mAdaptedTriangulations.jl:97\u001b[24m\u001b[39m\n",
       " [12] Triangulation(\u001b[90mtrian\u001b[39m::\u001b[1mTriangulation\u001b[22m, \u001b[90msface_to_tface\u001b[39m::\u001b[1mAbstractArray\u001b[22m\u001b[0m{<:Integer})\n",
       "\u001b[90m     @\u001b[39m \u001b[90mC:\\Users\\IIT BBSR\\.julia\\packages\\Gridap\\JD3zW\\src\\Geometry\\\u001b[39m\u001b[90m\u001b[4mTriangulations.jl:231\u001b[24m\u001b[39m\n",
       " [13] Triangulation(\u001b[90mtrian\u001b[39m::\u001b[1mTriangulation\u001b[22m, \u001b[90mtface_filter\u001b[39m::\u001b[1mAbstractArray\u001b[22m\u001b[0m{<:Bool})\n",
       "\u001b[90m     @\u001b[39m \u001b[90mC:\\Users\\IIT BBSR\\.julia\\packages\\Gridap\\JD3zW\\src\\Geometry\\\u001b[39m\u001b[90m\u001b[4mTriangulations.jl:235\u001b[24m\u001b[39m\n",
       " [14] Triangulation(\u001b[90mportion\u001b[39m, \u001b[90mgids\u001b[39m::\u001b[1mAbstractLocalIndices\u001b[22m, \u001b[90margs...\u001b[39m; kwargs...)\n",
       "\u001b[90m     @\u001b[39m \u001b[36mGridapDistributed\u001b[39m \u001b[90mC:\\Users\\IIT BBSR\\.julia\\packages\\GridapDistributed\\XNMqm\\src\\\u001b[39m\u001b[90m\u001b[4mGeometry.jl:691\u001b[24m\u001b[39m\n",
       " [15] Triangulation(\u001b[90mcut\u001b[39m::\u001b[1mEmbeddedDiscretization\u001b[22m, \u001b[90min_or_out\u001b[39m, \u001b[90mname\u001b[39m::\u001b[1mString\u001b[22m)\n",
       "\u001b[90m     @\u001b[39m \u001b[35mGridapEmbedded.Interfaces\u001b[39m \u001b[90mC:\\Users\\IIT BBSR\\.julia\\packages\\GridapEmbedded\\PIAqm\\src\\Interfaces\\\u001b[39m\u001b[90m\u001b[4mEmbeddedDiscretizations.jl:292\u001b[24m\u001b[39m\n",
       " [16] Triangulation(\u001b[90mcut\u001b[39m::\u001b[1mEmbeddedDiscretization\u001b[22m, \u001b[90min_or_out\u001b[39m)\n",
       "\u001b[90m     @\u001b[39m \u001b[35mGridapEmbedded.Interfaces\u001b[39m \u001b[90mC:\\Users\\IIT BBSR\\.julia\\packages\\GridapEmbedded\\PIAqm\\src\\Interfaces\\\u001b[39m\u001b[90m\u001b[4mEmbeddedDiscretizations.jl:271\u001b[24m\u001b[39m\n",
       " [17] Triangulation(\u001b[90mportion\u001b[39m, \u001b[90mmodel\u001b[39m::\u001b[1mGridapDistributed.DistributedDiscreteModel\u001b[22m; kwargs...)\n",
       "\u001b[90m     @\u001b[39m \u001b[36mGridapDistributed\u001b[39m \u001b[90mC:\\Users\\IIT BBSR\\.julia\\packages\\GridapDistributed\\XNMqm\\src\\\u001b[39m\u001b[90m\u001b[4mGeometry.jl:591\u001b[24m\u001b[39m\n",
       " [18] Triangulation(\u001b[90mtrian\u001b[39m::\u001b[1mTriangulation\u001b[22m, \u001b[90margs...\u001b[39m; kwargs...)\n",
       "\u001b[90m     @\u001b[39m \u001b[90mC:\\Users\\IIT BBSR\\.julia\\packages\\Gridap\\JD3zW\\src\\Geometry\\\u001b[39m\u001b[90m\u001b[4mTriangulations.jl:221\u001b[24m\u001b[39m\n",
       " [19] Triangulation(\u001b[90mtrian\u001b[39m::\u001b[1mTriangulation\u001b[22m)\n",
       "\u001b[90m     @\u001b[39m \u001b[90mC:\\Users\\IIT BBSR\\.julia\\packages\\Gridap\\JD3zW\\src\\Geometry\\\u001b[39m\u001b[90m\u001b[4mTriangulations.jl:227\u001b[24m\u001b[39m\n",
       " [20] Triangulation(\u001b[90mportion\u001b[39m, ::\u001b[1mType\u001b[22m\u001b[0m{ReferenceFE{D}}, \u001b[90mmodel\u001b[39m::\u001b[1mGridapDistributed.DistributedDiscreteModel\u001b[22m; kwargs...) where D\n",
       "\u001b[90m     @\u001b[39m \u001b[36mGridapDistributed\u001b[39m \u001b[90mC:\\Users\\IIT BBSR\\.julia\\packages\\GridapDistributed\\XNMqm\\src\\\u001b[39m\u001b[90m\u001b[4mGeometry.jl:596\u001b[24m\u001b[39m\n",
       " [21] Triangulation(::\u001b[1mType\u001b[22m\u001b[0m{ReferenceFE{d}}, \u001b[90mmodel\u001b[39m::\u001b[1mAdaptedDiscreteModel\u001b[22m, \u001b[90mmface_filter\u001b[39m::\u001b[1mAbstractVector\u001b[22m\u001b[0m{Bool}) where d\n",
       "\u001b[90m     @\u001b[39m \u001b[33mGridap.Adaptivity\u001b[39m \u001b[90mC:\\Users\\IIT BBSR\\.julia\\packages\\Gridap\\JD3zW\\src\\Adaptivity\\\u001b[39m\u001b[90m\u001b[4mAdaptedTriangulations.jl:90\u001b[24m\u001b[39m\n",
       " [22] Triangulation(::\u001b[1mType\u001b[22m\u001b[0m{ReferenceFE{d}}, \u001b[90mmodel\u001b[39m::\u001b[1mDiscreteModel\u001b[22m, \u001b[90mtface_to_mface\u001b[39m::\u001b[1mAbstractVector\u001b[22m\u001b[0m{<:Integer}) where d\n",
       "\u001b[90m     @\u001b[39m \u001b[90mC:\\Users\\IIT BBSR\\.julia\\packages\\Gridap\\JD3zW\\src\\Geometry\\\u001b[39m\u001b[90m\u001b[4mTriangulations.jl:178\u001b[24m\u001b[39m\n",
       " [23] Triangulation(::\u001b[1mType\u001b[22m\u001b[0m{ReferenceFE{d}}, \u001b[90mmodel\u001b[39m::\u001b[1mDiscreteModel\u001b[22m, \u001b[90mmface_filter\u001b[39m::\u001b[1mAbstractVector\u001b[22m\u001b[0m{Bool}) where d\n",
       "\u001b[90m     @\u001b[39m \u001b[90mC:\\Users\\IIT BBSR\\.julia\\packages\\Gridap\\JD3zW\\src\\Geometry\\\u001b[39m\u001b[90m\u001b[4mTriangulations.jl:193\u001b[24m\u001b[39m\n",
       " [24] Triangulation(::\u001b[1mType\u001b[22m\u001b[0m{ReferenceFE{d}}, \u001b[90mmodel\u001b[39m::\u001b[1mAdaptedDiscreteModel\u001b[22m, \u001b[90mtface_to_mface\u001b[39m::\u001b[1mAbstractVector\u001b[22m\u001b[0m{<:Integer}) where d\n",
       "\u001b[90m     @\u001b[39m \u001b[33mGridap.Adaptivity\u001b[39m \u001b[90mC:\\Users\\IIT BBSR\\.julia\\packages\\Gridap\\JD3zW\\src\\Adaptivity\\\u001b[39m\u001b[90m\u001b[4mAdaptedTriangulations.jl:76\u001b[24m\u001b[39m\n",
       " [25] Triangulation(::\u001b[1mType\u001b[22m\u001b[0m{ReferenceFE{d}}, \u001b[90mmodel\u001b[39m::\u001b[1mAdaptedDiscreteModel\u001b[22m, \u001b[90margs...\u001b[39m; kwargs...) where d\n",
       "\u001b[90m     @\u001b[39m \u001b[33mGridap.Adaptivity\u001b[39m \u001b[90mC:\\Users\\IIT BBSR\\.julia\\packages\\Gridap\\JD3zW\\src\\Adaptivity\\\u001b[39m\u001b[90m\u001b[4mAdaptedTriangulations.jl:71\u001b[24m\u001b[39m\n",
       " [26] Triangulation(::\u001b[1mType\u001b[22m\u001b[0m{ReferenceFE{d}}, \u001b[90mmodel\u001b[39m::\u001b[1mDiscreteModel\u001b[22m, \u001b[90mmface_filter\u001b[39m::\u001b[1mAbstractArray\u001b[22m\u001b[0m{Bool}) where d\n",
       "\u001b[90m     @\u001b[39m \u001b[90mC:\\Users\\IIT BBSR\\.julia\\packages\\Gridap\\JD3zW\\src\\Geometry\\\u001b[39m\u001b[90m\u001b[4mTriangulations.jl:186\u001b[24m\u001b[39m\n",
       " [27] Triangulation(::\u001b[1mType\u001b[22m\u001b[0m{ReferenceFE{d}}, \u001b[90mmodel\u001b[39m::\u001b[1mAdaptedDiscreteModel\u001b[22m, \u001b[90mmface_filter\u001b[39m::\u001b[1mAbstractArray\u001b[22m\u001b[0m{Bool}) where d\n",
       "\u001b[90m     @\u001b[39m \u001b[33mGridap.Adaptivity\u001b[39m \u001b[90mC:\\Users\\IIT BBSR\\.julia\\packages\\Gridap\\JD3zW\\src\\Adaptivity\\\u001b[39m\u001b[90m\u001b[4mAdaptedTriangulations.jl:83\u001b[24m\u001b[39m\n",
       " [28] Triangulation(::\u001b[1mType\u001b[22m\u001b[0m{ReferenceFE{d}}, \u001b[90mmodel\u001b[39m::\u001b[1mDiscreteModel\u001b[22m, \u001b[90mlabels\u001b[39m::\u001b[1mFaceLabeling\u001b[22m; tags) where d\n",
       "\u001b[90m     @\u001b[39m \u001b[90mC:\\Users\\IIT BBSR\\.julia\\packages\\Gridap\\JD3zW\\src\\Geometry\\\u001b[39m\u001b[90m\u001b[4mTriangulations.jl:200\u001b[24m\u001b[39m\n",
       " [29] Triangulation(::\u001b[1mType\u001b[22m\u001b[0m{ReferenceFE{d}}, \u001b[90mmodel\u001b[39m::\u001b[1mDiscreteModel\u001b[22m; kwargs...) where d\n",
       "\u001b[90m     @\u001b[39m \u001b[90mC:\\Users\\IIT BBSR\\.julia\\packages\\Gridap\\JD3zW\\src\\Geometry\\\u001b[39m\u001b[90m\u001b[4mTriangulations.jl:211\u001b[24m\u001b[39m\n",
       " [30] Triangulation(\u001b[90mmodel\u001b[39m::\u001b[1mGridapDistributed.DistributedDiscreteModel\u001b[22m; kwargs...)\n",
       "\u001b[90m     @\u001b[39m \u001b[36mGridapDistributed\u001b[39m \u001b[90mC:\\Users\\IIT BBSR\\.julia\\packages\\GridapDistributed\\XNMqm\\src\\\u001b[39m\u001b[90m\u001b[4mGeometry.jl:582\u001b[24m\u001b[39m\n",
       " [31] Triangulation(\u001b[90mPD\u001b[39m::\u001b[1mPatchDecomposition\u001b[22m)\n",
       "\u001b[90m     @\u001b[39m \u001b[35mGridapSolvers.PatchBasedSmoothers\u001b[39m \u001b[90mC:\\Users\\IIT BBSR\\.julia\\packages\\GridapSolvers\\gwyZl\\src\\PatchBasedSmoothers\\\u001b[39m\u001b[90m\u001b[4mPatchTriangulations.jl:58\u001b[24m\u001b[39m\n",
       " [32] Triangulation(\u001b[90ma\u001b[39m::\u001b[1mGridapSolvers.PatchBasedSmoothers.DistributedPatchDecomposition\u001b[22m)\n",
       "\u001b[90m     @\u001b[39m \u001b[35mGridapSolvers.PatchBasedSmoothers\u001b[39m \u001b[90mC:\\Users\\IIT BBSR\\.julia\\packages\\GridapSolvers\\gwyZl\\src\\PatchBasedSmoothers\\\u001b[39m\u001b[90m\u001b[4mDistributedPatchDecompositions.jl:60\u001b[24m\u001b[39m\n",
       " [33] Triangulation(\u001b[90mcut\u001b[39m::\u001b[1mEmbeddedDiscretization\u001b[22m, \u001b[90min_or_out\u001b[39m::\u001b[1mGridapEmbedded.Interfaces.CutInOrOut\u001b[22m, \u001b[90mgeo\u001b[39m::\u001b[1mGridapEmbedded.CSG.Geometry\u001b[22m)\n",
       "\u001b[90m     @\u001b[39m \u001b[35mGridapEmbedded.Interfaces\u001b[39m \u001b[90mC:\\Users\\IIT BBSR\\.julia\\packages\\GridapEmbedded\\PIAqm\\src\\Interfaces\\\u001b[39m\u001b[90m\u001b[4mEmbeddedDiscretizations.jl:303\u001b[24m\u001b[39m\n",
       " [34] Triangulation(\u001b[90mcut\u001b[39m::\u001b[1mEmbeddedDiscretization\u001b[22m, \u001b[90min_or_out\u001b[39m::\u001b[1mGridapEmbedded.Interfaces.ActiveInOrOut\u001b[22m, \u001b[90mgeo\u001b[39m::\u001b[1mGridapEmbedded.CSG.Geometry\u001b[22m)\n",
       "\u001b[90m     @\u001b[39m \u001b[35mGridapEmbedded.Interfaces\u001b[39m \u001b[90mC:\\Users\\IIT BBSR\\.julia\\packages\\GridapEmbedded\\PIAqm\\src\\Interfaces\\\u001b[39m\u001b[90m\u001b[4mEmbeddedDiscretizations.jl:319\u001b[24m\u001b[39m\n",
       " [35] Triangulation(\u001b[90mcut\u001b[39m::\u001b[1mEmbeddedDiscretization\u001b[22m, \u001b[90min_or_out\u001b[39m::\u001b[1mInteger\u001b[22m, \u001b[90mgeo\u001b[39m::\u001b[1mGridapEmbedded.CSG.Geometry\u001b[22m)\n",
       "\u001b[90m     @\u001b[39m \u001b[35mGridapEmbedded.Interfaces\u001b[39m \u001b[90mC:\\Users\\IIT BBSR\\.julia\\packages\\GridapEmbedded\\PIAqm\\src\\Interfaces\\\u001b[39m\u001b[90m\u001b[4mEmbeddedDiscretizations.jl:313\u001b[24m\u001b[39m\n",
       " [36] Triangulation(\u001b[90mcut\u001b[39m::\u001b[1mEmbeddedDiscretization\u001b[22m, \u001b[90min_or_out\u001b[39m::\u001b[1mTuple\u001b[22m, \u001b[90mgeo\u001b[39m::\u001b[1mGridapEmbedded.CSG.Geometry\u001b[22m)\n",
       "\u001b[90m     @\u001b[39m \u001b[35mGridapEmbedded.Interfaces\u001b[39m \u001b[90mC:\\Users\\IIT BBSR\\.julia\\packages\\GridapEmbedded\\PIAqm\\src\\Interfaces\\\u001b[39m\u001b[90m\u001b[4mEmbeddedDiscretizations.jl:297\u001b[24m\u001b[39m\n",
       " [37] Triangulation(\u001b[90mcut\u001b[39m::\u001b[1mEmbeddedDiscretization\u001b[22m)\n",
       "\u001b[90m     @\u001b[39m \u001b[35mGridapEmbedded.Interfaces\u001b[39m \u001b[90mC:\\Users\\IIT BBSR\\.julia\\packages\\GridapEmbedded\\PIAqm\\src\\Interfaces\\\u001b[39m\u001b[90m\u001b[4mEmbeddedDiscretizations.jl:255\u001b[24m\u001b[39m"
      ]
     },
     "metadata": {},
     "output_type": "display_data"
    }
   ],
   "source": [
    "using Gridap.Geometry\n",
    "@which Triangulation\n",
    "methods(Triangulation)"
   ]
  },
  {
   "cell_type": "code",
   "execution_count": null,
   "id": "69cd65c7",
   "metadata": {},
   "outputs": [
    {
     "data": {
      "text/html": [
       "# 2 methods for generic function <b>get_element_diameter_field</b> from \u001b[36mGridapTopOpt\u001b[39m:<ul><li> get_element_diameter_field(model::<b>GridapDistributed.DistributedDiscreteModel</b>) in GridapTopOpt at <a href=\"file://C:/Users/IIT BBSR/.julia/packages/GridapTopOpt/zQxvu/src/Utilities.jl\" target=\"_blank\">C:\\Users\\IIT BBSR\\.julia\\packages\\GridapTopOpt\\zQxvu\\src\\Utilities.jl:304</a></li> <li> get_element_diameter_field(model) in GridapTopOpt at <a href=\"file://C:/Users/IIT BBSR/.julia/packages/GridapTopOpt/zQxvu/src/Utilities.jl\" target=\"_blank\">C:\\Users\\IIT BBSR\\.julia\\packages\\GridapTopOpt\\zQxvu\\src\\Utilities.jl:294</a></li> </ul>"
      ],
      "text/plain": [
       "# 2 methods for generic function \"get_element_diameter_field\" from \u001b[36mGridapTopOpt\u001b[39m:\n",
       " [1] get_element_diameter_field(\u001b[90mmodel\u001b[39m::\u001b[1mGridapDistributed.DistributedDiscreteModel\u001b[22m)\n",
       "\u001b[90m     @\u001b[39m \u001b[90mC:\\Users\\IIT BBSR\\.julia\\packages\\GridapTopOpt\\zQxvu\\src\\\u001b[39m\u001b[90m\u001b[4mUtilities.jl:304\u001b[24m\u001b[39m\n",
       " [2] get_element_diameter_field(\u001b[90mmodel\u001b[39m)\n",
       "\u001b[90m     @\u001b[39m \u001b[90mC:\\Users\\IIT BBSR\\.julia\\packages\\GridapTopOpt\\zQxvu\\src\\\u001b[39m\u001b[90m\u001b[4mUtilities.jl:294\u001b[24m\u001b[39m"
      ]
     },
     "metadata": {},
     "output_type": "display_data"
    }
   ],
   "source": [
    "using GridapTopOpt\n",
    "@which get_element_diameter_field\n",
    "methods(get_element_diameter_field)"
   ]
  },
  {
   "cell_type": "code",
   "execution_count": 9,
   "id": "41103d86",
   "metadata": {},
   "outputs": [
    {
     "data": {
      "text/html": [
       "# 2 methods for generic function <b>get_element_diameters</b> from \u001b[36mGridapTopOpt\u001b[39m:<ul><li> get_element_diameters(model::<b>GridapDistributed.DistributedDiscreteModel{Dc}</b>)<i> where Dc</i> in GridapTopOpt at <a href=\"file://C:/Users/IIT BBSR/.julia/packages/GridapTopOpt/zQxvu/src/Utilities.jl\" target=\"_blank\">C:\\Users\\IIT BBSR\\.julia\\packages\\GridapTopOpt\\zQxvu\\src\\Utilities.jl:298</a></li> <li> get_element_diameters(model) in GridapTopOpt at <a href=\"file://C:/Users/IIT BBSR/.julia/packages/GridapTopOpt/zQxvu/src/Utilities.jl\" target=\"_blank\">C:\\Users\\IIT BBSR\\.julia\\packages\\GridapTopOpt\\zQxvu\\src\\Utilities.jl:270</a></li> </ul>"
      ],
      "text/plain": [
       "# 2 methods for generic function \"get_element_diameters\" from \u001b[36mGridapTopOpt\u001b[39m:\n",
       " [1] get_element_diameters(\u001b[90mmodel\u001b[39m::\u001b[1mGridapDistributed.DistributedDiscreteModel\u001b[22m\u001b[0m{Dc}) where Dc\n",
       "\u001b[90m     @\u001b[39m \u001b[90mC:\\Users\\IIT BBSR\\.julia\\packages\\GridapTopOpt\\zQxvu\\src\\\u001b[39m\u001b[90m\u001b[4mUtilities.jl:298\u001b[24m\u001b[39m\n",
       " [2] get_element_diameters(\u001b[90mmodel\u001b[39m)\n",
       "\u001b[90m     @\u001b[39m \u001b[90mC:\\Users\\IIT BBSR\\.julia\\packages\\GridapTopOpt\\zQxvu\\src\\\u001b[39m\u001b[90m\u001b[4mUtilities.jl:270\u001b[24m\u001b[39m"
      ]
     },
     "metadata": {},
     "output_type": "display_data"
    }
   ],
   "source": [
    "using GridapTopOpt\n",
    "@which get_element_diameters\n",
    "methods(get_element_diameters)"
   ]
  },
  {
   "cell_type": "code",
   "execution_count": null,
   "id": "ac6d7729",
   "metadata": {},
   "outputs": [
    {
     "data": {
      "text/plain": [
       "Gridap.ReferenceFEs"
      ]
     },
     "metadata": {},
     "output_type": "display_data"
    }
   ],
   "source": [
    "using Gridap.ReferenceFEs\n",
    "@which ReferenceFE\n",
    "methods(ReferenceFE)"
   ]
  },
  {
   "cell_type": "code",
   "execution_count": 14,
   "id": "f0f07b11",
   "metadata": {},
   "outputs": [
    {
     "data": {
      "text/html": [
       "# 16 methods for type constructor:<ul><li> TrialFESpace(a::<b>GridapSolvers.MultilevelTools.FESpaceHierarchyLevel</b>, args...; <i>kwargs...</i>) in GridapSolvers.MultilevelTools at <a href=\"file://C:/Users/IIT BBSR/.julia/packages/GridapSolvers/gwyZl/src/MultilevelTools/FESpaceHierarchies.jl\" target=\"_blank\">C:\\Users\\IIT BBSR\\.julia\\packages\\GridapSolvers\\gwyZl\\src\\MultilevelTools\\FESpaceHierarchies.jl:51</a></li> <li> TrialFESpace(fun, f::<b>GridapDistributed.DistributedSingleFieldFESpace</b>) in GridapDistributed at <a href=\"file://C:/Users/IIT BBSR/.julia/packages/GridapDistributed/XNMqm/src/FESpaces.jl\" target=\"_blank\">C:\\Users\\IIT BBSR\\.julia\\packages\\GridapDistributed\\XNMqm\\src\\FESpaces.jl:403</a></li> <li> TrialFESpace(space::<b>SingleFieldFESpace</b>, objects) in Gridap.FESpaces at <a href=\"file://C:/Users/IIT BBSR/.julia/packages/Gridap/JD3zW/src/FESpaces/TrialFESpaces.jl\" target=\"_blank\">C:\\Users\\IIT BBSR\\.julia\\packages\\Gridap\\JD3zW\\src\\FESpaces\\TrialFESpaces.jl:18</a></li> <li> TrialFESpace(objects, a::<b>GridapDistributed.DistributedMultiFieldFESpace</b>) in GridapDistributed at <a href=\"file://C:/Users/IIT BBSR/.julia/packages/GridapDistributed/XNMqm/src/MultiField.jl\" target=\"_blank\">C:\\Users\\IIT BBSR\\.julia\\packages\\GridapDistributed\\XNMqm\\src\\MultiField.jl:246</a></li> <li> TrialFESpace(a::<b>GridapDistributed.DistributedMultiFieldFESpace{MS}</b>, objects)<i> where MS</i> in GridapDistributed at <a href=\"file://C:/Users/IIT BBSR/.julia/packages/GridapDistributed/XNMqm/src/MultiField.jl\" target=\"_blank\">C:\\Users\\IIT BBSR\\.julia\\packages\\GridapDistributed\\XNMqm\\src\\MultiField.jl:250</a></li> <li> TrialFESpace(sh::<b>FESpaceHierarchy</b>, u) in GridapSolvers.MultilevelTools at <a href=\"file://C:/Users/IIT BBSR/.julia/packages/GridapSolvers/gwyZl/src/MultilevelTools/FESpaceHierarchies.jl\" target=\"_blank\">C:\\Users\\IIT BBSR\\.julia\\packages\\GridapSolvers\\gwyZl\\src\\MultilevelTools\\FESpaceHierarchies.jl:74</a></li> <li> TrialFESpace(dirichlet_values::<b>AbstractVector</b>, space::<b>SingleFieldFESpace</b>) in Gridap.FESpaces at <a href=\"file://C:/Users/IIT BBSR/.julia/packages/Gridap/JD3zW/src/FESpaces/TrialFESpaces.jl\" target=\"_blank\">C:\\Users\\IIT BBSR\\.julia\\packages\\Gridap\\JD3zW\\src\\FESpaces\\TrialFESpaces.jl:5</a></li> <li> TrialFESpace(f::<b>GridapDistributed.DistributedSingleFieldFESpace</b>, fun) in GridapDistributed at <a href=\"file://C:/Users/IIT BBSR/.julia/packages/GridapDistributed/XNMqm/src/FESpaces.jl\" target=\"_blank\">C:\\Users\\IIT BBSR\\.julia\\packages\\GridapDistributed\\XNMqm\\src\\FESpaces.jl:396</a></li> <li> TrialFESpace(f::<b>ZeroMeanFESpace</b>) in Gridap.FESpaces at <a href=\"file://C:/Users/IIT BBSR/.julia/packages/Gridap/JD3zW/src/FESpaces/ZeroMeanFESpaces.jl\" target=\"_blank\">C:\\Users\\IIT BBSR\\.julia\\packages\\Gridap\\JD3zW\\src\\FESpaces\\ZeroMeanFESpaces.jl:24</a></li> <li> TrialFESpace(f::<b>FESpaceWithConstantFixed{CA}</b>)<i> where CA</i> in Gridap.FESpaces at <a href=\"file://C:/Users/IIT BBSR/.julia/packages/Gridap/JD3zW/src/FESpaces/FESpacesWithConstantFixed.jl\" target=\"_blank\">C:\\Users\\IIT BBSR\\.julia\\packages\\Gridap\\JD3zW\\src\\FESpaces\\FESpacesWithConstantFixed.jl:93</a></li> <li> TrialFESpace(f::<b>DirichletFESpace</b>) in Gridap.FESpaces at <a href=\"file://C:/Users/IIT BBSR/.julia/packages/Gridap/JD3zW/src/FESpaces/DirichletFESpaces.jl\" target=\"_blank\">C:\\Users\\IIT BBSR\\.julia\\packages\\Gridap\\JD3zW\\src\\FESpaces\\DirichletFESpaces.jl:55</a></li> <li> TrialFESpace(f::<b>ConstantFESpace</b>) in Gridap.FESpaces at <a href=\"file://C:/Users/IIT BBSR/.julia/packages/Gridap/JD3zW/src/FESpaces/ConstantFESpaces.jl\" target=\"_blank\">C:\\Users\\IIT BBSR\\.julia\\packages\\Gridap\\JD3zW\\src\\FESpaces\\ConstantFESpaces.jl:87</a></li> <li> TrialFESpace(space::<b>SingleFieldFESpace</b>) in Gridap.FESpaces at <a href=\"file://C:/Users/IIT BBSR/.julia/packages/Gridap/JD3zW/src/FESpaces/TrialFESpaces.jl\" target=\"_blank\">C:\\Users\\IIT BBSR\\.julia\\packages\\Gridap\\JD3zW\\src\\FESpaces\\TrialFESpaces.jl:12</a></li> <li> TrialFESpace(f::<b>Function</b>, space::<b>SingleFieldFESpace</b>) in Gridap.FESpaces at <a href=\"file://C:/Users/IIT BBSR/.julia/packages/Gridap/JD3zW/src/FESpaces/TrialFESpaces.jl\" target=\"_blank\">C:\\Users\\IIT BBSR\\.julia\\packages\\Gridap\\JD3zW\\src\\FESpaces\\TrialFESpaces.jl:42</a></li> <li> TrialFESpace(sh::<b>FESpaceHierarchy</b>) in GridapSolvers.MultilevelTools at <a href=\"file://C:/Users/IIT BBSR/.julia/packages/GridapSolvers/gwyZl/src/MultilevelTools/FESpaceHierarchies.jl\" target=\"_blank\">C:\\Users\\IIT BBSR\\.julia\\packages\\GridapSolvers\\gwyZl\\src\\MultilevelTools\\FESpaceHierarchies.jl:80</a></li> <li> TrialFESpace(f::<b>GridapDistributed.DistributedSingleFieldFESpace</b>) in GridapDistributed at <a href=\"file://C:/Users/IIT BBSR/.julia/packages/GridapDistributed/XNMqm/src/FESpaces.jl\" target=\"_blank\">C:\\Users\\IIT BBSR\\.julia\\packages\\GridapDistributed\\XNMqm\\src\\FESpaces.jl:391</a></li> </ul>"
      ],
      "text/plain": [
       "# 16 methods for type constructor:\n",
       "  [1] TrialFESpace(\u001b[90ma\u001b[39m::\u001b[1mGridapSolvers.MultilevelTools.FESpaceHierarchyLevel\u001b[22m, \u001b[90margs...\u001b[39m; kwargs...)\n",
       "\u001b[90m     @\u001b[39m \u001b[35mGridapSolvers.MultilevelTools\u001b[39m \u001b[90mC:\\Users\\IIT BBSR\\.julia\\packages\\GridapSolvers\\gwyZl\\src\\MultilevelTools\\\u001b[39m\u001b[90m\u001b[4mFESpaceHierarchies.jl:51\u001b[24m\u001b[39m\n",
       "  [2] TrialFESpace(\u001b[90mfun\u001b[39m, \u001b[90mf\u001b[39m::\u001b[1mGridapDistributed.DistributedSingleFieldFESpace\u001b[22m)\n",
       "\u001b[90m     @\u001b[39m \u001b[36mGridapDistributed\u001b[39m \u001b[90mC:\\Users\\IIT BBSR\\.julia\\packages\\GridapDistributed\\XNMqm\\src\\\u001b[39m\u001b[90m\u001b[4mFESpaces.jl:403\u001b[24m\u001b[39m\n",
       "  [3] TrialFESpace(\u001b[90mspace\u001b[39m::\u001b[1mSingleFieldFESpace\u001b[22m, \u001b[90mobjects\u001b[39m)\n",
       "\u001b[90m     @\u001b[39m \u001b[90mC:\\Users\\IIT BBSR\\.julia\\packages\\Gridap\\JD3zW\\src\\FESpaces\\\u001b[39m\u001b[90m\u001b[4mTrialFESpaces.jl:18\u001b[24m\u001b[39m\n",
       "  [4] TrialFESpace(\u001b[90mobjects\u001b[39m, \u001b[90ma\u001b[39m::\u001b[1mGridapDistributed.DistributedMultiFieldFESpace\u001b[22m)\n",
       "\u001b[90m     @\u001b[39m \u001b[36mGridapDistributed\u001b[39m \u001b[90mC:\\Users\\IIT BBSR\\.julia\\packages\\GridapDistributed\\XNMqm\\src\\\u001b[39m\u001b[90m\u001b[4mMultiField.jl:246\u001b[24m\u001b[39m\n",
       "  [5] TrialFESpace(\u001b[90ma\u001b[39m::\u001b[1mGridapDistributed.DistributedMultiFieldFESpace\u001b[22m\u001b[0m{MS}, \u001b[90mobjects\u001b[39m) where MS\n",
       "\u001b[90m     @\u001b[39m \u001b[36mGridapDistributed\u001b[39m \u001b[90mC:\\Users\\IIT BBSR\\.julia\\packages\\GridapDistributed\\XNMqm\\src\\\u001b[39m\u001b[90m\u001b[4mMultiField.jl:250\u001b[24m\u001b[39m\n",
       "  [6] TrialFESpace(\u001b[90msh\u001b[39m::\u001b[1mFESpaceHierarchy\u001b[22m, \u001b[90mu\u001b[39m)\n",
       "\u001b[90m     @\u001b[39m \u001b[35mGridapSolvers.MultilevelTools\u001b[39m \u001b[90mC:\\Users\\IIT BBSR\\.julia\\packages\\GridapSolvers\\gwyZl\\src\\MultilevelTools\\\u001b[39m\u001b[90m\u001b[4mFESpaceHierarchies.jl:74\u001b[24m\u001b[39m\n",
       "  [7] TrialFESpace(\u001b[90mdirichlet_values\u001b[39m::\u001b[1mAbstractVector\u001b[22m, \u001b[90mspace\u001b[39m::\u001b[1mSingleFieldFESpace\u001b[22m)\n",
       "\u001b[90m     @\u001b[39m \u001b[90mC:\\Users\\IIT BBSR\\.julia\\packages\\Gridap\\JD3zW\\src\\FESpaces\\\u001b[39m\u001b[90m\u001b[4mTrialFESpaces.jl:5\u001b[24m\u001b[39m\n",
       "  [8] TrialFESpace(\u001b[90mf\u001b[39m::\u001b[1mGridapDistributed.DistributedSingleFieldFESpace\u001b[22m, \u001b[90mfun\u001b[39m)\n",
       "\u001b[90m     @\u001b[39m \u001b[36mGridapDistributed\u001b[39m \u001b[90mC:\\Users\\IIT BBSR\\.julia\\packages\\GridapDistributed\\XNMqm\\src\\\u001b[39m\u001b[90m\u001b[4mFESpaces.jl:396\u001b[24m\u001b[39m\n",
       "  [9] TrialFESpace(\u001b[90mf\u001b[39m::\u001b[1mZeroMeanFESpace\u001b[22m)\n",
       "\u001b[90m     @\u001b[39m \u001b[90mC:\\Users\\IIT BBSR\\.julia\\packages\\Gridap\\JD3zW\\src\\FESpaces\\\u001b[39m\u001b[90m\u001b[4mZeroMeanFESpaces.jl:24\u001b[24m\u001b[39m\n",
       " [10] TrialFESpace(\u001b[90mf\u001b[39m::\u001b[1mFESpaceWithConstantFixed\u001b[22m\u001b[0m{CA}) where CA\n",
       "\u001b[90m     @\u001b[39m \u001b[90mC:\\Users\\IIT BBSR\\.julia\\packages\\Gridap\\JD3zW\\src\\FESpaces\\\u001b[39m\u001b[90m\u001b[4mFESpacesWithConstantFixed.jl:93\u001b[24m\u001b[39m\n",
       " [11] TrialFESpace(\u001b[90mf\u001b[39m::\u001b[1mDirichletFESpace\u001b[22m)\n",
       "\u001b[90m     @\u001b[39m \u001b[90mC:\\Users\\IIT BBSR\\.julia\\packages\\Gridap\\JD3zW\\src\\FESpaces\\\u001b[39m\u001b[90m\u001b[4mDirichletFESpaces.jl:55\u001b[24m\u001b[39m\n",
       " [12] TrialFESpace(\u001b[90mf\u001b[39m::\u001b[1mConstantFESpace\u001b[22m)\n",
       "\u001b[90m     @\u001b[39m \u001b[90mC:\\Users\\IIT BBSR\\.julia\\packages\\Gridap\\JD3zW\\src\\FESpaces\\\u001b[39m\u001b[90m\u001b[4mConstantFESpaces.jl:87\u001b[24m\u001b[39m\n",
       " [13] TrialFESpace(\u001b[90mspace\u001b[39m::\u001b[1mSingleFieldFESpace\u001b[22m)\n",
       "\u001b[90m     @\u001b[39m \u001b[90mC:\\Users\\IIT BBSR\\.julia\\packages\\Gridap\\JD3zW\\src\\FESpaces\\\u001b[39m\u001b[90m\u001b[4mTrialFESpaces.jl:12\u001b[24m\u001b[39m\n",
       " [14] TrialFESpace(\u001b[90mf\u001b[39m::\u001b[1mFunction\u001b[22m, \u001b[90mspace\u001b[39m::\u001b[1mSingleFieldFESpace\u001b[22m)\n",
       "\u001b[90m     @\u001b[39m \u001b[90mC:\\Users\\IIT BBSR\\.julia\\packages\\Gridap\\JD3zW\\src\\FESpaces\\\u001b[39m\u001b[90m\u001b[4mTrialFESpaces.jl:42\u001b[24m\u001b[39m\n",
       " [15] TrialFESpace(\u001b[90msh\u001b[39m::\u001b[1mFESpaceHierarchy\u001b[22m)\n",
       "\u001b[90m     @\u001b[39m \u001b[35mGridapSolvers.MultilevelTools\u001b[39m \u001b[90mC:\\Users\\IIT BBSR\\.julia\\packages\\GridapSolvers\\gwyZl\\src\\MultilevelTools\\\u001b[39m\u001b[90m\u001b[4mFESpaceHierarchies.jl:80\u001b[24m\u001b[39m\n",
       " [16] TrialFESpace(\u001b[90mf\u001b[39m::\u001b[1mGridapDistributed.DistributedSingleFieldFESpace\u001b[22m)\n",
       "\u001b[90m     @\u001b[39m \u001b[36mGridapDistributed\u001b[39m \u001b[90mC:\\Users\\IIT BBSR\\.julia\\packages\\GridapDistributed\\XNMqm\\src\\\u001b[39m\u001b[90m\u001b[4mFESpaces.jl:391\u001b[24m\u001b[39m"
      ]
     },
     "metadata": {},
     "output_type": "display_data"
    }
   ],
   "source": [
    "using Gridap.FESpaces\n",
    "@which TestFESpace\n",
    "@which TrialFESpace\n",
    "methods(TestFESpace)\n",
    "methods(TrialFESpace)"
   ]
  },
  {
   "cell_type": "code",
   "execution_count": 2,
   "id": "7e59c7bf",
   "metadata": {},
   "outputs": [],
   "source": [
    "using Gridap, Gridap.Geometry, Gridap.Adaptivity, Gridap.MultiField, Gridap.TensorValues\n",
    "using GridapEmbedded, GridapEmbedded.LevelSetCutters\n",
    "using GridapSolvers, GridapSolvers.BlockSolvers, GridapSolvers.NonlinearSolvers\n",
    "using GridapGmsh\n",
    "using GridapDistributed\n",
    "using PartitionedArrays\n",
    "using GridapPETSc\n",
    "using GridapTopOpt\n",
    "using GridapTopOpt: StateParamMap"
   ]
  }
 ],
 "metadata": {
  "kernelspec": {
   "display_name": "Julia 1.11.6",
   "language": "julia",
   "name": "julia-1.11"
  },
  "language_info": {
   "file_extension": ".jl",
   "mimetype": "application/julia",
   "name": "julia",
   "version": "1.11.6"
  }
 },
 "nbformat": 4,
 "nbformat_minor": 5
}

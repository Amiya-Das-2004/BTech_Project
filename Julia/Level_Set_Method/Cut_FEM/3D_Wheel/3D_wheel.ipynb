{
 "cells": [
  {
   "cell_type": "markdown",
   "id": "e65d63e7",
   "metadata": {
    "vscode": {
     "languageId": "julia"
    }
   },
   "source": [
    "Code "
   ]
  },
  {
   "cell_type": "markdown",
   "id": "2fcbe7af",
   "metadata": {},
   "source": [
    "3D wheel"
   ]
  },
  {
   "cell_type": "code",
   "execution_count": 8,
   "id": "9ee60ab1",
   "metadata": {},
   "outputs": [
    {
     "data": {
      "text/plain": [
       "\"c:\\\\Users\\\\IIT BBSR\\\\Desktop\\\\Amiya\\\\BTP\\\\Julia\\\\Level_Set_Method\\\\Cut_FEM\\\\3D_Wheel/Models/Wheel_3d.msh\""
      ]
     },
     "metadata": {},
     "output_type": "display_data"
    }
   ],
   "source": [
    "# Parameters\n",
    "vf =  0.3\n",
    "γ_evo = 0.1 \n",
    "max_steps = 10\n",
    "α_coeff = γ_evo*max_steps\n",
    "iter_mod = 50\n",
    "D = 3\n",
    "mesh_name = \"Wheel_3d.msh\"\n",
    "mesh_file = (@__DIR__)*\"/Models/$mesh_name\""
   ]
  },
  {
   "cell_type": "code",
   "execution_count": 9,
   "id": "4712b511",
   "metadata": {},
   "outputs": [
    {
     "data": {
      "text/plain": [
       "\"../../../../../Result/3D_Wheel_model\""
      ]
     },
     "metadata": {},
     "output_type": "display_data"
    }
   ],
   "source": [
    "# Output Path\n",
    "path = \"../../../../../Result/3D_Wheel\"\n",
    "\n",
    "#  Directory to store visualization file\n",
    "files_path = path*\"_data/\"\n",
    "isdir(files_path) || mkpath(files_path)\n",
    "\n",
    "#  Directory to store optimized model\n",
    "model_path = path*\"_model/\"\n",
    "isdir(model_path) || mkpath(model_path)"
   ]
  },
  {
   "cell_type": "code",
   "execution_count": 10,
   "id": "2619ebdb",
   "metadata": {},
   "outputs": [],
   "source": [
    "using GridapGmsh.GridapGmsh: GmshDiscreteModel\n",
    "using Gridap.Geometry: UnstructuredDiscreteModel\n",
    "using GridapTopOpt: update_labels!\n",
    "using Gridap.Visualization: writevtk"
   ]
  },
  {
   "cell_type": "code",
   "execution_count": 11,
   "id": "805ef089",
   "metadata": {},
   "outputs": [
    {
     "name": "stdout",
     "output_type": "stream",
     "text": [
      "Info    : Reading 'c:\\Users\\IIT BBSR\\Desktop\\Amiya\\BTP\\Julia\\Level_Set_Method\\Cut_FEM\\3D_Wheel/Models/Wheel_3d.msh'...\n",
      "Info    : 15 entities\n",
      "Info    : 219664 nodes\n",
      "Info    : 1328560 elements                                                                                    \n",
      "Info    : Done reading 'c:\\Users\\IIT BBSR\\Desktop\\Amiya\\BTP\\Julia\\Level_Set_Method\\Cut_FEM\\3D_Wheel/Models/Wheel_3d.msh'\n"
     ]
    },
    {
     "data": {
      "text/plain": [
       "4-element Vector{Vector{String}}:\n",
       " [\"../../../../../Result/3D_Wheel_model/model_0.vtu\"]\n",
       " [\"../../../../../Result/3D_Wheel_model/model_1.vtu\"]\n",
       " [\"../../../../../Result/3D_Wheel_model/model_2.vtu\"]\n",
       " [\"../../../../../Result/3D_Wheel_model/model_3.vtu\"]"
      ]
     },
     "metadata": {},
     "output_type": "display_data"
    }
   ],
   "source": [
    "# Load mesh\n",
    "model = GmshDiscreteModel(mesh_file)\n",
    "model = UnstructuredDiscreteModel(model)\n",
    "f_diri(x) =\n",
    "((cos(30π/180)<=x[1]<=cos(15π/180)) && abs(x[2] - sqrt(1-x[1]^2))<1e-4) ||\n",
    "((cos(97.5π/180)<=x[1]<=cos(82.5π/180)) && abs(x[2] - sqrt(1-x[1]^2))<1e-4) ||\n",
    "((cos(165π/180)<=x[1]<=cos(150π/180)) && abs(x[2] - sqrt(1-x[1]^2))<1e-4) ||\n",
    "((cos(142.5π/180)<=x[1]<=cos(127.5π/180)) && abs(x[2] - -sqrt(1-x[1]^2))<1e-4) ||\n",
    "((cos(52.5π/180)<=x[1]<=cos(37.5π/180)) && abs(x[2] - -sqrt(1-x[1]^2))<1e-4)\n",
    "update_labels!(1,model,f_diri,\"Gamma_D_new\")\n",
    "writevtk(model,model_path*\"model\")"
   ]
  },
  {
   "cell_type": "code",
   "execution_count": 14,
   "id": "c80b89e3",
   "metadata": {},
   "outputs": [],
   "source": [
    "using Gridap.Geometry: Triangulation\n",
    "using GridapTopOpt: get_element_diameters\n",
    "using GridapTopOpt: get_element_diameter_field"
   ]
  },
  {
   "cell_type": "code",
   "execution_count": null,
   "id": "31020a1a",
   "metadata": {},
   "outputs": [
    {
     "data": {
      "text/plain": [
       "0.014743079216138905"
      ]
     },
     "metadata": {},
     "output_type": "display_data"
    }
   ],
   "source": [
    "# Get triangulation and element size\n",
    "Ω_bg = Triangulation(model)\n",
    "hₕ = get_element_diameter_field(model)\n",
    "hmin = minimum(get_element_diameters(model));"
   ]
  },
  {
   "cell_type": "code",
   "execution_count": 19,
   "id": "d5b03b4c",
   "metadata": {},
   "outputs": [],
   "source": [
    "using Gridap.FESpaces\n",
    "using Gridap.ReferenceFEs"
   ]
  },
  {
   "cell_type": "code",
   "execution_count": 33,
   "id": "17e77a6a",
   "metadata": {},
   "outputs": [],
   "source": [
    "# Space\n",
    "V_φ = FESpace(model, ReferenceFE(lagrangian, Float64, 1))\n",
    "V_reg = TestFESpace(model,reffe_scalar;dirichlet_tags=[\"Gamma_N\",])\n",
    "U_reg = TrialFESpace(V_reg);"
   ]
  },
  {
   "cell_type": "code",
   "execution_count": 34,
   "id": "f6faf636",
   "metadata": {},
   "outputs": [],
   "source": [
    "using Gridap.FESpaces: interpolate"
   ]
  },
  {
   "cell_type": "code",
   "execution_count": 36,
   "id": "bb31082f",
   "metadata": {},
   "outputs": [],
   "source": [
    "# Cut the background model_f1((x,y,z),q,r) = - cos(q*π*x)*cos(q*π*y)*cos(q*π*z)/q - r/q\n",
    "f1((x,y,z),q,r) = - cos(q*π*x)*cos(q*π*y)*cos(q*π*z)/q - r/q\n",
    "f2((x,y,z)) = -sqrt(x^2+y^2)+0.9\n",
    "φh = interpolate(x->min(f1(x,4,0.1),f2(x)),V_φ);"
   ]
  },
  {
   "cell_type": "code",
   "execution_count": 38,
   "id": "1d77f10f",
   "metadata": {},
   "outputs": [],
   "source": [
    "using GridapTopOpt"
   ]
  },
  {
   "cell_type": "code",
   "execution_count": 39,
   "id": "1cb19b0e",
   "metadata": {},
   "outputs": [],
   "source": [
    "# Check LS\n",
    "GridapTopOpt.correct_ls!(φh)"
   ]
  },
  {
   "cell_type": "code",
   "execution_count": null,
   "id": "44714d3d",
   "metadata": {},
   "outputs": [],
   "source": [
    "using Gridap\n",
    "using GridapEmbedded.Interfaces: PHYSICAL\n",
    "using GridapEmbedded.Interfaces: EmbeddedBoundary\n",
    "using GridapEmbedded.Interfaces: GhostSkeleton\n",
    "using GridapEmbedded.Interfaces: ACTIVE"
   ]
  },
  {
   "cell_type": "code",
   "execution_count": 50,
   "id": "c09b8180",
   "metadata": {},
   "outputs": [
    {
     "ename": "UndefVarError",
     "evalue": "UndefVarError: `local_views` not defined in `Main`\nSuggestion: check for spelling errors or missing imports.\nHint: a global variable of this name may be made accessible by importing GridapDistributed in the current active module Main",
     "output_type": "error",
     "traceback": [
      "UndefVarError: `local_views` not defined in `Main`\n",
      "Suggestion: check for spelling errors or missing imports.\n",
      "Hint: a global variable of this name may be made accessible by importing GridapDistributed in the current active module Main\n",
      "\n",
      "Stacktrace:\n",
      " [1] (::var\"#33#34\")(cutgeo::GridapEmbedded.Interfaces.EmbeddedDiscretization{3, Float64}, cutgeo_facets::GridapEmbedded.Interfaces.EmbeddedFacetDiscretization{2, 3, Float64}, _φh::SingleFieldFEFunction{Gridap.CellData.GenericCellField{ReferenceDomain}})\n",
      "   @ Main c:\\Users\\IIT BBSR\\Desktop\\Amiya\\BTP\\Julia\\Level_Set_Method\\Cut_FEM\\3D_Wheel\\jl_notebook_cell_df34fa98e69747e1a8f8a730347b8e2f_X21sZmlsZQ==.jl:13\n",
      " [2] update_collection!(c::EmbeddedCollection, φh::SingleFieldFEFunction{Gridap.CellData.GenericCellField{ReferenceDomain}})\n",
      "   @ GridapTopOpt C:\\Users\\IIT BBSR\\.julia\\packages\\GridapTopOpt\\zQxvu\\src\\Embedded\\EmbeddedCollections.jl:70\n",
      " [3] EmbeddedCollection(recipes::var\"#33#34\", bgmodel::UnstructuredDiscreteModel{3, 3, Float64, Gridap.Geometry.Oriented}, φ0::SingleFieldFEFunction{Gridap.CellData.GenericCellField{ReferenceDomain}})\n",
      "   @ GridapTopOpt C:\\Users\\IIT BBSR\\.julia\\packages\\GridapTopOpt\\zQxvu\\src\\Embedded\\EmbeddedCollections.jl:60\n",
      " [4] top-level scope\n",
      "   @ c:\\Users\\IIT BBSR\\Desktop\\Amiya\\BTP\\Julia\\Level_Set_Method\\Cut_FEM\\3D_Wheel\\jl_notebook_cell_df34fa98e69747e1a8f8a730347b8e2f_X21sZmlsZQ==.jl:7"
     ]
    }
   ],
   "source": [
    "# Setup integration meshes and measures\n",
    "order = 1\n",
    "degree = 2*(order+1)\n",
    "Γ_N = BoundaryTriangulation(model,tags=[\"Gamma_N\",])\n",
    "dΓ_N = Measure(Γ_N,degree)\n",
    "dΩ_bg = Measure(Ω_bg,degree)\n",
    "Ω_data = EmbeddedCollection(model,φh) do cutgeo,cutgeo_facets,_φh\n",
    "Ω = DifferentiableTriangulation(Triangulation(cutgeo,PHYSICAL),V_φ)\n",
    "Γ  = DifferentiableTriangulation(EmbeddedBoundary(cutgeo),V_φ)\n",
    "Γg = GhostSkeleton(cutgeo)\n",
    "Ω_act = Triangulation(cutgeo,ACTIVE)\n",
    "# Isolated volumes\n",
    "φ_cell_values = map(get_cell_dof_values,local_views(_φh))\n",
    "ψ,_ = get_isolated_volumes_mask_polytopal(model,φ_cell_values,[\"Gamma_D_new\",])\n",
    "(;\n",
    "    :Ω_act => Ω_act,\n",
    "    :Ω     => Ω,\n",
    "    :dΩ    => Measure(Ω,degree),\n",
    "    :Γg    => Γg,\n",
    "    :dΓg   => Measure(Γg,degree),\n",
    "    :n_Γg  => get_normal_vector(Γg),\n",
    "    :Γ     => Γ,\n",
    "    :dΓ    => Measure(Γ,degree),\n",
    "    :n_Γ   => get_normal_vector(Γ),\n",
    "    :ψ     => ψ\n",
    ")\n",
    "end"
   ]
  },
  {
   "cell_type": "code",
   "execution_count": null,
   "id": "7423efa8",
   "metadata": {},
   "outputs": [],
   "source": [
    "# Setup spaces\n",
    "reffe_d = ReferenceFE(lagrangian,VectorValue{D,Float64},order)\n",
    "function build_spaces(Ω_act)\n",
    "    V = TestFESpace(Ω_act,reffe_d,conformity=:H1,dirichlet_tags=[\"Gamma_D_new\",])\n",
    "    U = TrialFESpace(V)\n",
    "    return U,V\n",
    "end"
   ]
  }
 ],
 "metadata": {
  "kernelspec": {
   "display_name": "Julia 1.11.6",
   "language": "julia",
   "name": "julia-1.11"
  },
  "language_info": {
   "file_extension": ".jl",
   "mimetype": "application/julia",
   "name": "julia",
   "version": "1.11.6"
  }
 },
 "nbformat": 4,
 "nbformat_minor": 5
}

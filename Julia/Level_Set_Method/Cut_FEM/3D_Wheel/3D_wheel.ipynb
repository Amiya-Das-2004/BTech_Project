{
 "cells": [
  {
   "cell_type": "markdown",
   "id": "e65d63e7",
   "metadata": {
    "vscode": {
     "languageId": "julia"
    }
   },
   "source": [
    "Code "
   ]
  },
  {
   "cell_type": "markdown",
   "id": "2fcbe7af",
   "metadata": {},
   "source": [
    "3D wheel"
   ]
  },
  {
   "cell_type": "code",
   "execution_count": 5,
   "id": "9ee60ab1",
   "metadata": {},
   "outputs": [
    {
     "data": {
      "text/plain": [
       "\"c:\\\\Users\\\\IIT BBSR\\\\Desktop\\\\Amiya\\\\BTP\\\\Julia\\\\Level_Set_Method\\\\Cut_FEM\\\\3D_Wheel/Models/Wheel_3d.msh\""
      ]
     },
     "metadata": {},
     "output_type": "display_data"
    }
   ],
   "source": [
    "# Parameters\n",
    "vf =  0.3\n",
    "γ_evo = 0.1 \n",
    "max_steps = 10\n",
    "α_coeff = γ_evo*max_steps\n",
    "iter_mod = 50\n",
    "D = 3\n",
    "mesh_name = \"Wheel_3d.msh\"\n",
    "mesh_file = (@__DIR__)*\"/Models/$mesh_name\""
   ]
  },
  {
   "cell_type": "code",
   "execution_count": 3,
   "id": "4712b511",
   "metadata": {},
   "outputs": [
    {
     "data": {
      "text/plain": [
       "true"
      ]
     },
     "metadata": {},
     "output_type": "display_data"
    }
   ],
   "source": [
    "# Output Path\n",
    "path = \"./Result/3D_Wheel\"\n",
    "\n",
    "#  Directory to store visualization file\n",
    "files_path = path*\"data/\"\n",
    "isdir(files_path) || mkpath(files_path)\n",
    "\n",
    "#  Directory to store optimized model\n",
    "model_path = path*\"model/\"\n",
    "isdir(model_path) || mkpath(model_path)"
   ]
  },
  {
   "cell_type": "code",
   "execution_count": 10,
   "id": "2619ebdb",
   "metadata": {},
   "outputs": [],
   "source": [
    "using GridapGmsh.GridapGmsh: GmshDiscreteModel\n",
    "using Gridap.Geometry: UnstructuredDiscreteModel\n",
    "using GridapTopOpt: update_labels!\n",
    "using Gridap.Visualization: writevtk"
   ]
  },
  {
   "cell_type": "code",
   "execution_count": 11,
   "id": "805ef089",
   "metadata": {},
   "outputs": [
    {
     "name": "stdout",
     "output_type": "stream",
     "text": [
      "Info    : Reading 'c:\\Users\\IIT BBSR\\Desktop\\Amiya\\BTP\\Julia\\Level_Set_Method\\Cut_FEM\\3D_Wheel/Models/Wheel_3d.msh'...\n",
      "Info    : 15 entities\n",
      "Info    : 219664 nodes\n",
      "Info    : 1328560 elements                                                                                    \n",
      "Info    : Done reading 'c:\\Users\\IIT BBSR\\Desktop\\Amiya\\BTP\\Julia\\Level_Set_Method\\Cut_FEM\\3D_Wheel/Models/Wheel_3d.msh'\n"
     ]
    },
    {
     "data": {
      "text/plain": [
       "4-element Vector{Vector{String}}:\n",
       " [\"./Result/3D_Wheelmodel/model_0.vtu\"]\n",
       " [\"./Result/3D_Wheelmodel/model_1.vtu\"]\n",
       " [\"./Result/3D_Wheelmodel/model_2.vtu\"]\n",
       " [\"./Result/3D_Wheelmodel/model_3.vtu\"]"
      ]
     },
     "metadata": {},
     "output_type": "display_data"
    }
   ],
   "source": [
    "# Load mesh\n",
    "model = GmshDiscreteModel(mesh_file)\n",
    "model = UnstructuredDiscreteModel(model)\n",
    "f_diri(x) =\n",
    "((cos(30π/180)<=x[1]<=cos(15π/180)) && abs(x[2] - sqrt(1-x[1]^2))<1e-4) ||\n",
    "((cos(97.5π/180)<=x[1]<=cos(82.5π/180)) && abs(x[2] - sqrt(1-x[1]^2))<1e-4) ||\n",
    "((cos(165π/180)<=x[1]<=cos(150π/180)) && abs(x[2] - sqrt(1-x[1]^2))<1e-4) ||\n",
    "((cos(142.5π/180)<=x[1]<=cos(127.5π/180)) && abs(x[2] - -sqrt(1-x[1]^2))<1e-4) ||\n",
    "((cos(52.5π/180)<=x[1]<=cos(37.5π/180)) && abs(x[2] - -sqrt(1-x[1]^2))<1e-4)\n",
    "update_labels!(1,model,f_diri,\"Gamma_D_new\")\n",
    "writevtk(model,model_path*\"model\")"
   ]
  },
  {
   "cell_type": "code",
   "execution_count": null,
   "id": "c80b89e3",
   "metadata": {},
   "outputs": [],
   "source": []
  },
  {
   "cell_type": "code",
   "execution_count": null,
   "id": "31020a1a",
   "metadata": {},
   "outputs": [],
   "source": [
    "# Get triangulation and element size\n",
    "Ω_bg = Triangulation(model)\n",
    "hₕ = get_element_diameter_field(model)\n",
    "hmin = minimum(get_element_diameters(model))"
   ]
  }
 ],
 "metadata": {
  "kernelspec": {
   "display_name": "Julia 1.11.6",
   "language": "julia",
   "name": "julia-1.11"
  },
  "language_info": {
   "file_extension": ".jl",
   "mimetype": "application/julia",
   "name": "julia",
   "version": "1.11.6"
  }
 },
 "nbformat": 4,
 "nbformat_minor": 5
}

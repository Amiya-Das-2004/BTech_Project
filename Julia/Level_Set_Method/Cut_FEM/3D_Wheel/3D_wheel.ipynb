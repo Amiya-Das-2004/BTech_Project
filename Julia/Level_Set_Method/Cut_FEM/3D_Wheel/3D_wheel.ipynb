{
 "cells": [
  {
   "cell_type": "markdown",
   "id": "e65d63e7",
   "metadata": {
    "vscode": {
     "languageId": "julia"
    }
   },
   "source": [
    "Code "
   ]
  },
  {
   "cell_type": "markdown",
   "id": "2fcbe7af",
   "metadata": {},
   "source": [
    "3D wheel"
   ]
  },
  {
   "cell_type": "code",
   "execution_count": 25,
   "id": "9ee60ab1",
   "metadata": {},
   "outputs": [
    {
     "data": {
      "text/plain": [
       "\"c:\\\\Users\\\\IIT BBSR\\\\Desktop\\\\Amiya\\\\BTP\\\\Julia\\\\Level_Set_Method\\\\Cut_FEM\\\\3D_Wheel/Models/Wheel_3d.msh\""
      ]
     },
     "metadata": {},
     "output_type": "display_data"
    }
   ],
   "source": [
    "# Parameters\n",
    "vf =  0.3\n",
    "γ_evo = 0.1 \n",
    "max_steps = 10\n",
    "α_coeff = γ_evo*max_steps\n",
    "iter_mod = 50\n",
    "D = 3\n",
    "mesh_name = \"Wheel_3d.msh\"\n",
    "mesh_file = (@__DIR__)*\"/Models/$mesh_name\""
   ]
  },
  {
   "cell_type": "code",
   "execution_count": 26,
   "id": "4712b511",
   "metadata": {},
   "outputs": [
    {
     "data": {
      "text/plain": [
       "true"
      ]
     },
     "metadata": {},
     "output_type": "display_data"
    }
   ],
   "source": [
    "# Output Path\n",
    "path = \"../../../../../Result/3D_Wheel\"\n",
    "\n",
    "#  Directory to store visualization file\n",
    "files_path = path*\"_data/\"\n",
    "isdir(files_path) || mkpath(files_path)\n",
    "\n",
    "#  Directory to store optimized model\n",
    "model_path = path*\"_model/\"\n",
    "isdir(model_path) || mkpath(model_path)"
   ]
  },
  {
   "cell_type": "code",
   "execution_count": 27,
   "id": "2619ebdb",
   "metadata": {},
   "outputs": [],
   "source": [
    "using GridapGmsh.GridapGmsh: GmshDiscreteModel\n",
    "using Gridap.Geometry: UnstructuredDiscreteModel\n",
    "using GridapTopOpt: update_labels!\n",
    "using Gridap.Visualization: writevtk"
   ]
  },
  {
   "cell_type": "code",
   "execution_count": 28,
   "id": "805ef089",
   "metadata": {},
   "outputs": [
    {
     "name": "stdout",
     "output_type": "stream",
     "text": [
      "Info    : Reading 'c:\\Users\\IIT BBSR\\Desktop\\Amiya\\BTP\\Julia\\Level_Set_Method\\Cut_FEM\\3D_Wheel/Models/Wheel_3d.msh'...\n",
      "Info    : 15 entities\n",
      "Info    : 219664 nodes\n",
      "Info    : 1328560 elements                                                                                    \n",
      "Info    : Done reading 'c:\\Users\\IIT BBSR\\Desktop\\Amiya\\BTP\\Julia\\Level_Set_Method\\Cut_FEM\\3D_Wheel/Models/Wheel_3d.msh'\n"
     ]
    },
    {
     "data": {
      "text/plain": [
       "4-element Vector{Vector{String}}:\n",
       " [\"../../../../../Result/3D_Wheel_model/model_0.vtu\"]\n",
       " [\"../../../../../Result/3D_Wheel_model/model_1.vtu\"]\n",
       " [\"../../../../../Result/3D_Wheel_model/model_2.vtu\"]\n",
       " [\"../../../../../Result/3D_Wheel_model/model_3.vtu\"]"
      ]
     },
     "metadata": {},
     "output_type": "display_data"
    }
   ],
   "source": [
    "# Load mesh\n",
    "model = GmshDiscreteModel(mesh_file)\n",
    "model = UnstructuredDiscreteModel(model)\n",
    "f_diri(x) =\n",
    "((cos(30π/180)<=x[1]<=cos(15π/180)) && abs(x[2] - sqrt(1-x[1]^2))<1e-4) ||\n",
    "((cos(97.5π/180)<=x[1]<=cos(82.5π/180)) && abs(x[2] - sqrt(1-x[1]^2))<1e-4) ||\n",
    "((cos(165π/180)<=x[1]<=cos(150π/180)) && abs(x[2] - sqrt(1-x[1]^2))<1e-4) ||\n",
    "((cos(142.5π/180)<=x[1]<=cos(127.5π/180)) && abs(x[2] - -sqrt(1-x[1]^2))<1e-4) ||\n",
    "((cos(52.5π/180)<=x[1]<=cos(37.5π/180)) && abs(x[2] - -sqrt(1-x[1]^2))<1e-4)\n",
    "update_labels!(1,model,f_diri,\"Gamma_D_new\")\n",
    "writevtk(model,model_path*\"model\")"
   ]
  },
  {
   "cell_type": "code",
   "execution_count": 29,
   "id": "c80b89e3",
   "metadata": {},
   "outputs": [],
   "source": [
    "using Gridap.Geometry: Triangulation\n",
    "using GridapTopOpt: get_element_diameter_field\n",
    "using GridapTopOpt: get_element_diameters"
   ]
  },
  {
   "cell_type": "code",
   "execution_count": 30,
   "id": "31020a1a",
   "metadata": {},
   "outputs": [],
   "source": [
    "# Get triangulation and element size\n",
    "Ω_bg = Triangulation(model)\n",
    "hₕ = get_element_diameter_field(model)\n",
    "hmin = minimum(get_element_diameters(model));"
   ]
  },
  {
   "cell_type": "code",
   "execution_count": 31,
   "id": "d5b03b4c",
   "metadata": {},
   "outputs": [],
   "source": [
    "using Gridap.FESpaces\n",
    "using Gridap.ReferenceFEs"
   ]
  },
  {
   "cell_type": "code",
   "execution_count": 32,
   "id": "17e77a6a",
   "metadata": {},
   "outputs": [],
   "source": [
    "# Space\n",
    "reffe_scalar = ReferenceFE(lagrangian,Float64,1)\n",
    "V_φ = TestFESpace(model,reffe_scalar)       # V_φ = FESpace(model, ReferenceFE(lagrangian, Float64, 1))\n",
    "V_reg = TestFESpace(model,reffe_scalar;dirichlet_tags=[\"Gamma_N\",])\n",
    "U_reg = TrialFESpace(V_reg);"
   ]
  },
  {
   "cell_type": "code",
   "execution_count": 33,
   "id": "f6faf636",
   "metadata": {},
   "outputs": [],
   "source": [
    "using Gridap.FESpaces: interpolate"
   ]
  },
  {
   "cell_type": "code",
   "execution_count": 34,
   "id": "bb31082f",
   "metadata": {},
   "outputs": [],
   "source": [
    "# Cut the background model_f1((x,y,z),q,r) = - cos(q*π*x)*cos(q*π*y)*cos(q*π*z)/q - r/q\n",
    "f1((x,y,z),q,r) = - cos(q*π*x)*cos(q*π*y)*cos(q*π*z)/q - r/q\n",
    "f2((x,y,z)) = -sqrt(x^2+y^2)+0.9\n",
    "φh = interpolate(x->min(f1(x,4,0.1),f2(x)),V_φ);"
   ]
  },
  {
   "cell_type": "code",
   "execution_count": 35,
   "id": "1d77f10f",
   "metadata": {},
   "outputs": [],
   "source": [
    "using GridapTopOpt"
   ]
  },
  {
   "cell_type": "code",
   "execution_count": 36,
   "id": "1cb19b0e",
   "metadata": {},
   "outputs": [],
   "source": [
    "# Check LS\n",
    "GridapTopOpt.correct_ls!(φh)"
   ]
  },
  {
   "cell_type": "code",
   "execution_count": 44,
   "id": "44714d3d",
   "metadata": {},
   "outputs": [],
   "source": [
    "using Gridap\n",
    "using GridapEmbedded.Interfaces: PHYSICAL\n",
    "using GridapEmbedded.Interfaces: EmbeddedBoundary\n",
    "using GridapEmbedded.Interfaces: GhostSkeleton\n",
    "using GridapEmbedded.Interfaces: ACTIVE\n",
    "using GridapDistributed: local_views"
   ]
  },
  {
   "cell_type": "code",
   "execution_count": 56,
   "id": "c09b8180",
   "metadata": {},
   "outputs": [
    {
     "data": {
      "text/plain": [
       "GenericMeasure()"
      ]
     },
     "metadata": {},
     "output_type": "display_data"
    }
   ],
   "source": [
    "# Setup integration meshes and measures\n",
    "order = 1\n",
    "degree = 2*(order+1)\n",
    "Γ_N = BoundaryTriangulation(model,tags=[\"Gamma_N\",])\n",
    "dΓ_N = Measure(Γ_N,degree)\n",
    "dΩ_bg = Measure(Ω_bg,degree);\n",
    "# Ω_data = EmbeddedCollection(model,φh) do cutgeo,cutgeo_facets,_φh\n",
    "#     Ω = DifferentiableTriangulation(Triangulation(cutgeo,PHYSICAL),V_φ)\n",
    "#     Γ  = DifferentiableTriangulation(EmbeddedBoundary(cutgeo),V_φ)\n",
    "#     Γg = GhostSkeleton(cutgeo)\n",
    "#     Ω_act = Triangulation(cutgeo,ACTIVE)\n",
    "#     # Isolated volumes\n",
    "#     φ_cell_values = map(get_cell_dof_values,local_views(_φh))\n",
    "#     ψ,_ = get_isolated_volumes_mask_polytopal(model,φ_cell_values,[\"Gamma_D_new\",])\n",
    "#     (;\n",
    "#         :Ω_act => Ω_act,\n",
    "#         :Ω     => Ω,\n",
    "#         :dΩ    => Measure(Ω,degree),\n",
    "#         :Γg    => Γg,\n",
    "#         :dΓg   => Measure(Γg,degree),\n",
    "#         :n_Γg  => get_normal_vector(Γg),\n",
    "#         :Γ     => Γ,\n",
    "#         :dΓ    => Measure(Γ,degree),\n",
    "#         :n_Γ   => get_normal_vector(Γ),\n",
    "#         :ψ     => ψ\n",
    "#     )\n",
    "# end"
   ]
  },
  {
   "cell_type": "code",
   "execution_count": 57,
   "id": "7423efa8",
   "metadata": {},
   "outputs": [],
   "source": [
    "# Setup spaces\n",
    "reffe_d = ReferenceFE(lagrangian,VectorValue{D,Float64},order)\n",
    "function build_spaces(Ω_act)\n",
    "    V = TestFESpace(Ω_act,reffe_d,conformity=:H1,dirichlet_tags=[\"Gamma_D_new\",])\n",
    "    U = TrialFESpace(V)\n",
    "    return U,V\n",
    "end;"
   ]
  },
  {
   "cell_type": "markdown",
   "id": "b8015241",
   "metadata": {},
   "source": [
    "### Weak form"
   ]
  },
  {
   "cell_type": "code",
   "execution_count": 58,
   "id": "69d6b13e",
   "metadata": {},
   "outputs": [],
   "source": [
    "# Material parameters\n",
    "function lame_parameters(E,ν)\n",
    "    λ = (E*ν)/((1+ν)*(1-2*ν))\n",
    "    μ = E/(2*(1+ν))\n",
    "    (λ, μ)\n",
    "end\n",
    "λs, μs = lame_parameters(1.0,0.3);"
   ]
  },
  {
   "cell_type": "code",
   "execution_count": 59,
   "id": "b838318b",
   "metadata": {},
   "outputs": [],
   "source": [
    "# Stabilization\n",
    "α_Gd = 1e-7\n",
    "k_d = 1.0\n",
    "γ_Gd(h) = α_Gd*(λs + μs)*h^3\n",
    "\n",
    "# Terms\n",
    "σ(ε) = λs*tr(ε)*one(ε) + 2*μs*ε\n",
    "a_s_Ω(d,s) = ε(s) ⊙ (σ ∘ ε(d)) # Elasticity\n",
    "j_s_k(d,s) = mean(γ_Gd ∘ hₕ)*(jump(Ω_data.n_Γg ⋅ ∇(s)) ⋅ jump(Ω_data.n_Γg ⋅ ∇(d)))\n",
    "v_s_ψ(d,s) = (k_d*Ω_data.ψ)*(d⋅s) # Isolated volume term\n",
    "g((x,y,z)) = 100VectorValue(-y,x,0.0)\n",
    "\n",
    "a(d,s,φ) = ∫(a_s_Ω(d,s) + v_s_ψ(d,s))Ω_data.dΩ + ∫(j_s_k(d,s))Ω_data.dΓg\n",
    "l(s,φ) = ∫(s⋅g)dΓ_N;"
   ]
  },
  {
   "cell_type": "markdown",
   "id": "df11b141",
   "metadata": {},
   "source": [
    "## Optimisation functionals"
   ]
  },
  {
   "cell_type": "code",
   "execution_count": 60,
   "id": "56879215",
   "metadata": {},
   "outputs": [],
   "source": [
    "vol_D = sum(∫(1)dΩ_bg)\n",
    "J_comp(d,φ) = ∫(ε(d) ⊙ (σ ∘ ε(d)))Ω_data.dΩ\n",
    "Vol(d,φ) = ∫(1/vol_D)Ω_data.dΩ - ∫(vf/vol_D)dΩ_bg\n",
    "dVol(q,d,φ) = ∫(-1/vol_D*q/(abs(Ω_data.n_Γ ⋅ ∇(φ))))Ω_data.dΓ;"
   ]
  },
  {
   "cell_type": "markdown",
   "id": "ffb00663",
   "metadata": {},
   "source": [
    "## Setup solver and FE operators"
   ]
  },
  {
   "cell_type": "code",
   "execution_count": null,
   "id": "d6afbba2",
   "metadata": {},
   "outputs": [],
   "source": [
    "# elast_ls = PETScLinearSolver()\n",
    "# state_collection = EmbeddedCollection_in_φh(model,φh) do _φh\n",
    "# update_collection!(Ω_data,_φh)\n",
    "# U,V = build_spaces(Ω_data.Ω_act)\n",
    "# state_map = AffineFEStateMap(a,l,U,V,V_φ;ls=elast_ls,adjoint_ls=elast_ls)\n",
    "# (;\n",
    "#     :state_map => state_map,\n",
    "#     :J => StateParamMap(J_comp,state_map),\n",
    "#     :C => map(Ci -> StateParamMap(Ci,state_map),[Vol,])\n",
    "# )\n",
    "# end"
   ]
  },
  {
   "cell_type": "code",
   "execution_count": null,
   "id": "97489943",
   "metadata": {},
   "outputs": [],
   "source": []
  }
 ],
 "metadata": {
  "kernelspec": {
   "display_name": "Julia 1.11.6",
   "language": "julia",
   "name": "julia-1.11"
  },
  "language_info": {
   "file_extension": ".jl",
   "mimetype": "application/julia",
   "name": "julia",
   "version": "1.11.6"
  }
 },
 "nbformat": 4,
 "nbformat_minor": 5
}
